{
 "cells": [
  {
   "cell_type": "code",
   "execution_count": 1,
   "id": "a77bd366-35d9-4e91-82ee-e8e0396d3e85",
   "metadata": {},
   "outputs": [],
   "source": [
    "import time\n",
    "import numpy as np\n",
    "import matplotlib.pyplot as plt\n",
    "\n",
    "import torch\n",
    "import torch.nn as nn\n",
    "import torch.optim as optim\n",
    "from torchvision import datasets, transforms\n",
    "from torch.utils.data import DataLoader, random_split\n",
    "\n",
    "from sklearn.metrics import *"
   ]
  },
  {
   "cell_type": "markdown",
   "id": "f999a09d-3bcc-4162-9d21-919ce24d6421",
   "metadata": {},
   "source": [
    "# <center>Pré-processamento dos dados</center>"
   ]
  },
  {
   "cell_type": "code",
   "execution_count": 2,
   "id": "69719f5f-2a25-47fb-8f9b-d7e422b86e84",
   "metadata": {},
   "outputs": [],
   "source": [
    "dataset_path = 'dataset_teste2'"
   ]
  },
  {
   "cell_type": "code",
   "execution_count": 3,
   "id": "c4a49511",
   "metadata": {},
   "outputs": [],
   "source": [
    "transform_dataset = transforms.Compose(\n",
    "    [transforms.Resize(size = (224,224)),\n",
    "     transforms.RandomRotation(degrees=10),\n",
    "     transforms.RandomAffine(degrees=0, translate=(0.1, 0.1), scale=(0.9, 1.1), shear=10),\n",
    "     transforms.ColorJitter(brightness=0.2, contrast=0.2, saturation=0.1, hue=0.1),\n",
    "     transforms.ToTensor(),\n",
    "     transforms.Lambda(lambda x: torch.clamp(x + torch.randn_like(x) * 0.05, 0., 1.)),\n",
    "     transforms.Normalize(mean=[0.5], std=[0.5])\n",
    "    ]\n",
    ")"
   ]
  },
  {
   "cell_type": "code",
   "execution_count": 4,
   "id": "d13c3df3-9d9d-4663-92c2-b840e87ce7c4",
   "metadata": {},
   "outputs": [],
   "source": [
    "dataset = datasets.ImageFolder(dataset_path, transform = transform_dataset)"
   ]
  },
  {
   "cell_type": "code",
   "execution_count": 5,
   "id": "4422f07c",
   "metadata": {},
   "outputs": [
    {
     "name": "stdout",
     "output_type": "stream",
     "text": [
      "Informações sobre o Dataset: \n",
      "\n",
      " Dataset ImageFolder\n",
      "    Number of datapoints: 1000\n",
      "    Root location: dataset_teste2\n",
      "    StandardTransform\n",
      "Transform: Compose(\n",
      "               Resize(size=(224, 224), interpolation=bilinear, max_size=None, antialias=True)\n",
      "               RandomRotation(degrees=[-10.0, 10.0], interpolation=nearest, expand=False, fill=0)\n",
      "               RandomAffine(degrees=[0.0, 0.0], translate=(0.1, 0.1), scale=(0.9, 1.1), shear=[-10.0, 10.0])\n",
      "               ColorJitter(brightness=(0.8, 1.2), contrast=(0.8, 1.2), saturation=(0.9, 1.1), hue=(-0.1, 0.1))\n",
      "               ToTensor()\n",
      "               Lambda()\n",
      "               Normalize(mean=[0.5], std=[0.5])\n",
      "           )\n",
      "\n",
      "Rótulos:  {'NORMAL': 0, 'PNEUMONIA': 1, 'TUBERCULOSE': 2}\n"
     ]
    }
   ],
   "source": [
    "print(\"Informações sobre o Dataset: \\n\\n\", dataset)\n",
    "print(\"\\nRótulos: \", dataset.class_to_idx)"
   ]
  },
  {
   "cell_type": "code",
   "execution_count": 6,
   "id": "633ad56f-f28d-4664-8588-c797f40bd4f4",
   "metadata": {},
   "outputs": [],
   "source": [
    "train_size = int(0.7 * len(dataset))\n",
    "test_size = len(dataset) - train_size\n",
    "\n",
    "train_dataset, test_dataset = random_split(dataset, [train_size, test_size])"
   ]
  },
  {
   "cell_type": "code",
   "execution_count": 7,
   "id": "ca463df2-b9a0-42dd-ba6f-380c640f682b",
   "metadata": {},
   "outputs": [],
   "source": [
    "train_loader = DataLoader(train_dataset, batch_size=16, shuffle=True)\n",
    "test_loader = DataLoader(test_dataset, batch_size=16, shuffle=False)"
   ]
  },
  {
   "cell_type": "code",
   "execution_count": 8,
   "id": "d728a02c-d75c-4600-bda0-568138709d04",
   "metadata": {},
   "outputs": [],
   "source": [
    "all_targets = []\n",
    "for images, labels in train_loader:\n",
    "    all_targets.extend(labels.tolist())\n",
    "\n",
    "nor = []\n",
    "pne = []\n",
    "tub = []\n",
    "for i in range(700):\n",
    "    if all_targets[i] == 0:\n",
    "        nor.append(all_targets[i])\n",
    "    elif all_targets[i] == 1:\n",
    "        pne.append(all_targets[i])\n",
    "    elif all_targets[i] == 2:\n",
    "        tub.append(all_targets[i])"
   ]
  },
  {
   "cell_type": "code",
   "execution_count": 9,
   "id": "d5072b0f-e7cd-487b-8732-fdad8d77e0b4",
   "metadata": {},
   "outputs": [
    {
     "name": "stdout",
     "output_type": "stream",
     "text": [
      "!!!Distribuição dos dados de treinamento!!!\n",
      "\n",
      "Normal:  245\n",
      "Pneumonia:  223\n",
      "Tuberculose:  232\n"
     ]
    }
   ],
   "source": [
    "print(\"!!!Distribuição dos dados de treinamento!!!\\n\")\n",
    "print(\"Normal: \", len(nor))\n",
    "print(\"Pneumonia: \", len(pne))\n",
    "print(\"Tuberculose: \", len(tub))"
   ]
  },
  {
   "cell_type": "markdown",
   "id": "7bf3038a-8d82-45ab-94a3-f11406160a86",
   "metadata": {},
   "source": [
    "# <center>Implementação da arquitetura CNN</center>"
   ]
  },
  {
   "cell_type": "code",
   "execution_count": 10,
   "id": "5118d0d6-aaf5-4cbe-88a2-399d77684108",
   "metadata": {},
   "outputs": [
    {
     "name": "stdout",
     "output_type": "stream",
     "text": [
      "Dispositivo utilizado: cuda\n"
     ]
    }
   ],
   "source": [
    "model = nn.Sequential(\n",
    "    nn.Conv2d(3, 32, kernel_size=3, stride=1, padding=1),\n",
    "    nn.BatchNorm2d(32),\n",
    "    nn.ReLU(),\n",
    "    nn.MaxPool2d(kernel_size=2, stride=2, padding=0),\n",
    "    \n",
    "    nn.Conv2d(32, 64, kernel_size=3, stride=1, padding=1),\n",
    "    nn.BatchNorm2d(64),\n",
    "    nn.ReLU(),\n",
    "    nn.MaxPool2d(kernel_size=2, stride=2, padding=0),\n",
    "    \n",
    "    nn.Conv2d(64, 128, kernel_size=3, stride=1, padding=1),\n",
    "    nn.BatchNorm2d(128),\n",
    "    nn.ReLU(),\n",
    "    nn.MaxPool2d(kernel_size=2, stride=2, padding=0),\n",
    "    \n",
    "    nn.Flatten(),\n",
    "    \n",
    "    nn.Linear(128 * 28 * 28, 256),\n",
    "    nn.Dropout(p=0.3),\n",
    "    nn.ReLU(),\n",
    "\n",
    "    nn.Linear(256, 128),\n",
    "    nn.Dropout(p=0.3),\n",
    "    nn.ReLU(),\n",
    "    \n",
    "    nn.Linear(128, 64),\n",
    "    nn.Dropout(p=0.3),\n",
    "    nn.ReLU(),\n",
    "    \n",
    "    nn.Linear(64, 3)\n",
    ")\n",
    "\n",
    "device = torch.device(\"cuda\" if torch.cuda.is_available() else \"cpu\")\n",
    "print(f\"Dispositivo utilizado: {device}\")"
   ]
  },
  {
   "cell_type": "code",
   "execution_count": 11,
   "id": "4c273480-2d7c-4e82-93b5-cc5b02de3e82",
   "metadata": {},
   "outputs": [
    {
     "data": {
      "text/plain": [
       "Sequential(\n",
       "  (0): Conv2d(3, 32, kernel_size=(3, 3), stride=(1, 1), padding=(1, 1))\n",
       "  (1): BatchNorm2d(32, eps=1e-05, momentum=0.1, affine=True, track_running_stats=True)\n",
       "  (2): ReLU()\n",
       "  (3): MaxPool2d(kernel_size=2, stride=2, padding=0, dilation=1, ceil_mode=False)\n",
       "  (4): Conv2d(32, 64, kernel_size=(3, 3), stride=(1, 1), padding=(1, 1))\n",
       "  (5): BatchNorm2d(64, eps=1e-05, momentum=0.1, affine=True, track_running_stats=True)\n",
       "  (6): ReLU()\n",
       "  (7): MaxPool2d(kernel_size=2, stride=2, padding=0, dilation=1, ceil_mode=False)\n",
       "  (8): Conv2d(64, 128, kernel_size=(3, 3), stride=(1, 1), padding=(1, 1))\n",
       "  (9): BatchNorm2d(128, eps=1e-05, momentum=0.1, affine=True, track_running_stats=True)\n",
       "  (10): ReLU()\n",
       "  (11): MaxPool2d(kernel_size=2, stride=2, padding=0, dilation=1, ceil_mode=False)\n",
       "  (12): Flatten(start_dim=1, end_dim=-1)\n",
       "  (13): Linear(in_features=100352, out_features=256, bias=True)\n",
       "  (14): Dropout(p=0.3, inplace=False)\n",
       "  (15): ReLU()\n",
       "  (16): Linear(in_features=256, out_features=128, bias=True)\n",
       "  (17): Dropout(p=0.3, inplace=False)\n",
       "  (18): ReLU()\n",
       "  (19): Linear(in_features=128, out_features=64, bias=True)\n",
       "  (20): Dropout(p=0.3, inplace=False)\n",
       "  (21): ReLU()\n",
       "  (22): Linear(in_features=64, out_features=3, bias=True)\n",
       ")"
      ]
     },
     "execution_count": 11,
     "metadata": {},
     "output_type": "execute_result"
    }
   ],
   "source": [
    "model.to(device)"
   ]
  },
  {
   "cell_type": "code",
   "execution_count": 12,
   "id": "7852f30f-76af-4d58-89bb-6fb14936b060",
   "metadata": {},
   "outputs": [],
   "source": [
    "num_epoch = 250\n",
    "learning_rate = 0.001\n",
    "\n",
    "optimizer = optim.Adam(model.parameters(), lr=learning_rate)\n",
    "\n",
    "loss_fn = nn.CrossEntropyLoss()"
   ]
  },
  {
   "cell_type": "code",
   "execution_count": 13,
   "id": "687f4e6b-98ff-4199-b293-72274969f197",
   "metadata": {
    "scrolled": true
   },
   "outputs": [
    {
     "name": "stdout",
     "output_type": "stream",
     "text": [
      "Época 1/250 - Perda no treinamento: 2.703263 - Acurácia: 0.2500\n",
      "Época 2/250 - Perda no treinamento: 1.172222 - Acurácia: 0.1667\n",
      "Época 3/250 - Perda no treinamento: 1.021722 - Acurácia: 0.4167\n",
      "Época 4/250 - Perda no treinamento: 0.937648 - Acurácia: 0.6667\n",
      "Época 5/250 - Perda no treinamento: 0.798103 - Acurácia: 0.8333\n",
      "Época 6/250 - Perda no treinamento: 0.775757 - Acurácia: 0.7500\n",
      "Época 7/250 - Perda no treinamento: 0.736714 - Acurácia: 0.6667\n",
      "Época 8/250 - Perda no treinamento: 0.678243 - Acurácia: 0.5833\n",
      "Época 9/250 - Perda no treinamento: 0.687297 - Acurácia: 0.7500\n",
      "Época 10/250 - Perda no treinamento: 0.653401 - Acurácia: 0.7500\n",
      "Época 11/250 - Perda no treinamento: 0.665549 - Acurácia: 0.6667\n",
      "Época 12/250 - Perda no treinamento: 0.679890 - Acurácia: 0.5000\n",
      "Época 13/250 - Perda no treinamento: 0.620506 - Acurácia: 0.7500\n",
      "Época 14/250 - Perda no treinamento: 0.642450 - Acurácia: 0.7500\n",
      "Época 15/250 - Perda no treinamento: 0.597546 - Acurácia: 0.9167\n",
      "Época 16/250 - Perda no treinamento: 0.618105 - Acurácia: 0.6667\n",
      "Época 17/250 - Perda no treinamento: 0.580170 - Acurácia: 0.8333\n",
      "Época 18/250 - Perda no treinamento: 0.573123 - Acurácia: 0.8333\n",
      "Época 19/250 - Perda no treinamento: 0.629084 - Acurácia: 0.7500\n",
      "Época 20/250 - Perda no treinamento: 0.545956 - Acurácia: 0.6667\n",
      "Época 21/250 - Perda no treinamento: 0.608002 - Acurácia: 0.8333\n",
      "Época 22/250 - Perda no treinamento: 0.542099 - Acurácia: 0.7500\n",
      "Época 23/250 - Perda no treinamento: 0.582248 - Acurácia: 0.7500\n",
      "Época 24/250 - Perda no treinamento: 0.512472 - Acurácia: 0.8333\n",
      "Época 25/250 - Perda no treinamento: 0.552377 - Acurácia: 0.7500\n",
      "Época 26/250 - Perda no treinamento: 0.512136 - Acurácia: 0.8333\n",
      "Época 27/250 - Perda no treinamento: 0.483401 - Acurácia: 0.7500\n",
      "Época 28/250 - Perda no treinamento: 0.532808 - Acurácia: 0.8333\n",
      "Época 29/250 - Perda no treinamento: 0.596905 - Acurácia: 0.7500\n",
      "Época 30/250 - Perda no treinamento: 0.516596 - Acurácia: 0.7500\n",
      "Época 31/250 - Perda no treinamento: 0.539828 - Acurácia: 0.5000\n",
      "Época 32/250 - Perda no treinamento: 0.470867 - Acurácia: 1.0000\n",
      "Época 33/250 - Perda no treinamento: 0.454180 - Acurácia: 0.7500\n",
      "Época 34/250 - Perda no treinamento: 0.554660 - Acurácia: 0.8333\n",
      "Época 35/250 - Perda no treinamento: 0.473844 - Acurácia: 0.8333\n",
      "Época 36/250 - Perda no treinamento: 0.485129 - Acurácia: 0.9167\n",
      "Época 37/250 - Perda no treinamento: 0.532283 - Acurácia: 0.6667\n",
      "Época 38/250 - Perda no treinamento: 0.474510 - Acurácia: 0.8333\n",
      "Época 39/250 - Perda no treinamento: 0.472875 - Acurácia: 0.6667\n",
      "Época 40/250 - Perda no treinamento: 0.483358 - Acurácia: 0.9167\n",
      "Época 41/250 - Perda no treinamento: 0.462519 - Acurácia: 0.7500\n",
      "Época 42/250 - Perda no treinamento: 0.438068 - Acurácia: 0.9167\n",
      "Época 43/250 - Perda no treinamento: 0.480195 - Acurácia: 0.8333\n",
      "Época 44/250 - Perda no treinamento: 0.480654 - Acurácia: 0.9167\n",
      "Época 45/250 - Perda no treinamento: 0.460266 - Acurácia: 1.0000\n",
      "Época 46/250 - Perda no treinamento: 0.415565 - Acurácia: 0.8333\n",
      "Época 47/250 - Perda no treinamento: 0.469702 - Acurácia: 1.0000\n",
      "Época 48/250 - Perda no treinamento: 0.457452 - Acurácia: 0.9167\n",
      "Época 49/250 - Perda no treinamento: 0.465519 - Acurácia: 0.8333\n",
      "Época 50/250 - Perda no treinamento: 0.428705 - Acurácia: 0.7500\n",
      "Época 51/250 - Perda no treinamento: 0.375985 - Acurácia: 0.8333\n",
      "Época 52/250 - Perda no treinamento: 0.415839 - Acurácia: 1.0000\n",
      "Época 53/250 - Perda no treinamento: 0.416706 - Acurácia: 1.0000\n",
      "Época 54/250 - Perda no treinamento: 0.414735 - Acurácia: 1.0000\n",
      "Época 55/250 - Perda no treinamento: 0.403073 - Acurácia: 0.6667\n",
      "Época 56/250 - Perda no treinamento: 0.406222 - Acurácia: 0.8333\n",
      "Época 57/250 - Perda no treinamento: 0.409805 - Acurácia: 0.9167\n",
      "Época 58/250 - Perda no treinamento: 0.398498 - Acurácia: 0.9167\n",
      "Época 59/250 - Perda no treinamento: 0.414541 - Acurácia: 0.7500\n",
      "Época 60/250 - Perda no treinamento: 0.394869 - Acurácia: 0.9167\n",
      "Época 61/250 - Perda no treinamento: 0.382928 - Acurácia: 0.8333\n",
      "Época 62/250 - Perda no treinamento: 0.398521 - Acurácia: 0.9167\n",
      "Época 63/250 - Perda no treinamento: 0.414122 - Acurácia: 1.0000\n",
      "Época 64/250 - Perda no treinamento: 0.349484 - Acurácia: 0.8333\n",
      "Época 65/250 - Perda no treinamento: 0.401697 - Acurácia: 0.6667\n",
      "Época 66/250 - Perda no treinamento: 0.439788 - Acurácia: 0.9167\n",
      "Época 67/250 - Perda no treinamento: 0.352514 - Acurácia: 1.0000\n",
      "Época 68/250 - Perda no treinamento: 0.397062 - Acurácia: 0.7500\n",
      "Época 69/250 - Perda no treinamento: 0.386652 - Acurácia: 0.8333\n",
      "Época 70/250 - Perda no treinamento: 0.314707 - Acurácia: 1.0000\n",
      "Época 71/250 - Perda no treinamento: 0.306060 - Acurácia: 0.9167\n",
      "Época 72/250 - Perda no treinamento: 0.372282 - Acurácia: 1.0000\n",
      "Época 73/250 - Perda no treinamento: 0.364831 - Acurácia: 0.8333\n",
      "Época 74/250 - Perda no treinamento: 0.378787 - Acurácia: 0.9167\n",
      "Época 75/250 - Perda no treinamento: 0.381638 - Acurácia: 1.0000\n",
      "Época 76/250 - Perda no treinamento: 0.318691 - Acurácia: 1.0000\n",
      "Época 77/250 - Perda no treinamento: 0.331950 - Acurácia: 1.0000\n",
      "Época 78/250 - Perda no treinamento: 0.362867 - Acurácia: 0.9167\n",
      "Época 79/250 - Perda no treinamento: 0.428646 - Acurácia: 0.9167\n",
      "Época 80/250 - Perda no treinamento: 0.325578 - Acurácia: 1.0000\n",
      "Época 81/250 - Perda no treinamento: 0.349519 - Acurácia: 0.8333\n",
      "Época 82/250 - Perda no treinamento: 0.356722 - Acurácia: 1.0000\n",
      "Época 83/250 - Perda no treinamento: 0.331290 - Acurácia: 1.0000\n",
      "Época 84/250 - Perda no treinamento: 0.360612 - Acurácia: 0.8333\n",
      "Época 85/250 - Perda no treinamento: 0.328172 - Acurácia: 0.8333\n",
      "Época 86/250 - Perda no treinamento: 0.338253 - Acurácia: 0.9167\n",
      "Época 87/250 - Perda no treinamento: 0.362659 - Acurácia: 0.9167\n",
      "Época 88/250 - Perda no treinamento: 0.303033 - Acurácia: 0.9167\n",
      "Época 89/250 - Perda no treinamento: 0.369268 - Acurácia: 0.8333\n",
      "Época 90/250 - Perda no treinamento: 0.313877 - Acurácia: 1.0000\n",
      "Época 91/250 - Perda no treinamento: 0.321006 - Acurácia: 0.9167\n",
      "Época 92/250 - Perda no treinamento: 0.303038 - Acurácia: 1.0000\n",
      "Época 93/250 - Perda no treinamento: 0.336029 - Acurácia: 0.9167\n",
      "Época 94/250 - Perda no treinamento: 0.351872 - Acurácia: 0.9167\n",
      "Época 95/250 - Perda no treinamento: 0.381643 - Acurácia: 0.8333\n",
      "Época 96/250 - Perda no treinamento: 0.319474 - Acurácia: 0.8333\n",
      "Época 97/250 - Perda no treinamento: 0.316536 - Acurácia: 0.9167\n",
      "Época 98/250 - Perda no treinamento: 0.382741 - Acurácia: 0.9167\n",
      "Época 99/250 - Perda no treinamento: 0.319544 - Acurácia: 1.0000\n",
      "Época 100/250 - Perda no treinamento: 0.329362 - Acurácia: 0.9167\n",
      "Época 101/250 - Perda no treinamento: 0.336394 - Acurácia: 1.0000\n",
      "Época 102/250 - Perda no treinamento: 0.336572 - Acurácia: 0.8333\n",
      "Época 103/250 - Perda no treinamento: 0.276814 - Acurácia: 1.0000\n",
      "Época 104/250 - Perda no treinamento: 0.318967 - Acurácia: 0.8333\n",
      "Época 105/250 - Perda no treinamento: 0.330354 - Acurácia: 0.9167\n",
      "Época 106/250 - Perda no treinamento: 0.345605 - Acurácia: 0.9167\n",
      "Época 107/250 - Perda no treinamento: 0.323507 - Acurácia: 0.9167\n",
      "Época 108/250 - Perda no treinamento: 0.355201 - Acurácia: 1.0000\n",
      "Época 109/250 - Perda no treinamento: 0.341088 - Acurácia: 1.0000\n",
      "Época 110/250 - Perda no treinamento: 0.348968 - Acurácia: 0.8333\n",
      "Época 111/250 - Perda no treinamento: 0.300878 - Acurácia: 1.0000\n",
      "Época 112/250 - Perda no treinamento: 0.322806 - Acurácia: 0.8333\n",
      "Época 113/250 - Perda no treinamento: 0.329178 - Acurácia: 0.7500\n",
      "Época 114/250 - Perda no treinamento: 0.289256 - Acurácia: 1.0000\n",
      "Época 115/250 - Perda no treinamento: 0.321363 - Acurácia: 0.9167\n",
      "Época 116/250 - Perda no treinamento: 0.276510 - Acurácia: 0.9167\n",
      "Época 117/250 - Perda no treinamento: 0.290185 - Acurácia: 0.8333\n",
      "Época 118/250 - Perda no treinamento: 0.317883 - Acurácia: 0.7500\n",
      "Época 119/250 - Perda no treinamento: 0.349604 - Acurácia: 0.7500\n",
      "Época 120/250 - Perda no treinamento: 0.290355 - Acurácia: 0.7500\n",
      "Época 121/250 - Perda no treinamento: 0.280982 - Acurácia: 0.8333\n",
      "Época 122/250 - Perda no treinamento: 0.315476 - Acurácia: 1.0000\n",
      "Época 123/250 - Perda no treinamento: 0.301765 - Acurácia: 0.9167\n",
      "Época 124/250 - Perda no treinamento: 0.245608 - Acurácia: 0.8333\n",
      "Época 125/250 - Perda no treinamento: 0.325344 - Acurácia: 0.9167\n",
      "Época 126/250 - Perda no treinamento: 0.313215 - Acurácia: 1.0000\n",
      "Época 127/250 - Perda no treinamento: 0.251687 - Acurácia: 0.8333\n",
      "Época 128/250 - Perda no treinamento: 0.285724 - Acurácia: 1.0000\n",
      "Época 129/250 - Perda no treinamento: 0.285670 - Acurácia: 0.9167\n",
      "Época 130/250 - Perda no treinamento: 0.287154 - Acurácia: 0.9167\n",
      "Época 131/250 - Perda no treinamento: 0.324171 - Acurácia: 1.0000\n",
      "Época 132/250 - Perda no treinamento: 0.271069 - Acurácia: 0.9167\n",
      "Época 133/250 - Perda no treinamento: 0.268946 - Acurácia: 1.0000\n",
      "Época 134/250 - Perda no treinamento: 0.291957 - Acurácia: 0.9167\n",
      "Época 135/250 - Perda no treinamento: 0.243522 - Acurácia: 0.9167\n",
      "Época 136/250 - Perda no treinamento: 0.297186 - Acurácia: 0.9167\n",
      "Época 137/250 - Perda no treinamento: 0.273582 - Acurácia: 0.9167\n",
      "Época 138/250 - Perda no treinamento: 0.318982 - Acurácia: 1.0000\n",
      "Época 139/250 - Perda no treinamento: 0.338970 - Acurácia: 1.0000\n",
      "Época 140/250 - Perda no treinamento: 0.298512 - Acurácia: 0.6667\n",
      "Época 141/250 - Perda no treinamento: 0.277639 - Acurácia: 1.0000\n",
      "Época 142/250 - Perda no treinamento: 0.265562 - Acurácia: 1.0000\n",
      "Época 143/250 - Perda no treinamento: 0.290692 - Acurácia: 0.9167\n",
      "Época 144/250 - Perda no treinamento: 0.247519 - Acurácia: 0.8333\n",
      "Época 145/250 - Perda no treinamento: 0.266132 - Acurácia: 0.8333\n",
      "Época 146/250 - Perda no treinamento: 0.276904 - Acurácia: 0.8333\n",
      "Época 147/250 - Perda no treinamento: 0.245194 - Acurácia: 0.8333\n",
      "Época 148/250 - Perda no treinamento: 0.291539 - Acurácia: 1.0000\n",
      "Época 149/250 - Perda no treinamento: 0.311972 - Acurácia: 0.6667\n",
      "Época 150/250 - Perda no treinamento: 0.250249 - Acurácia: 0.9167\n",
      "Época 151/250 - Perda no treinamento: 0.316615 - Acurácia: 0.9167\n",
      "Época 152/250 - Perda no treinamento: 0.287199 - Acurácia: 1.0000\n",
      "Época 153/250 - Perda no treinamento: 0.285764 - Acurácia: 1.0000\n",
      "Época 154/250 - Perda no treinamento: 0.257827 - Acurácia: 0.7500\n",
      "Época 155/250 - Perda no treinamento: 0.261389 - Acurácia: 0.8333\n",
      "Época 156/250 - Perda no treinamento: 0.250684 - Acurácia: 1.0000\n",
      "Época 157/250 - Perda no treinamento: 0.300499 - Acurácia: 1.0000\n",
      "Época 158/250 - Perda no treinamento: 0.267185 - Acurácia: 0.9167\n",
      "Época 159/250 - Perda no treinamento: 0.289664 - Acurácia: 0.8333\n",
      "Época 160/250 - Perda no treinamento: 0.214984 - Acurácia: 1.0000\n",
      "Época 161/250 - Perda no treinamento: 0.280559 - Acurácia: 0.7500\n",
      "Época 162/250 - Perda no treinamento: 0.237324 - Acurácia: 0.8333\n",
      "Época 163/250 - Perda no treinamento: 0.252582 - Acurácia: 0.9167\n",
      "Época 164/250 - Perda no treinamento: 0.263516 - Acurácia: 0.8333\n",
      "Época 165/250 - Perda no treinamento: 0.282543 - Acurácia: 0.8333\n",
      "Época 166/250 - Perda no treinamento: 0.237287 - Acurácia: 1.0000\n",
      "Época 167/250 - Perda no treinamento: 0.253556 - Acurácia: 0.9167\n",
      "Época 168/250 - Perda no treinamento: 0.288956 - Acurácia: 0.9167\n",
      "Época 169/250 - Perda no treinamento: 0.279280 - Acurácia: 0.7500\n",
      "Época 170/250 - Perda no treinamento: 0.263326 - Acurácia: 1.0000\n",
      "Época 171/250 - Perda no treinamento: 0.282199 - Acurácia: 0.9167\n",
      "Época 172/250 - Perda no treinamento: 0.240920 - Acurácia: 0.9167\n",
      "Época 173/250 - Perda no treinamento: 0.271079 - Acurácia: 0.9167\n",
      "Época 174/250 - Perda no treinamento: 0.257766 - Acurácia: 0.7500\n",
      "Época 175/250 - Perda no treinamento: 0.266718 - Acurácia: 1.0000\n",
      "Época 176/250 - Perda no treinamento: 0.240155 - Acurácia: 0.8333\n",
      "Época 177/250 - Perda no treinamento: 0.263128 - Acurácia: 0.7500\n",
      "Época 178/250 - Perda no treinamento: 0.264593 - Acurácia: 0.8333\n",
      "Época 179/250 - Perda no treinamento: 0.246500 - Acurácia: 0.9167\n",
      "Época 180/250 - Perda no treinamento: 0.218792 - Acurácia: 0.7500\n",
      "Época 181/250 - Perda no treinamento: 0.248154 - Acurácia: 1.0000\n",
      "Época 182/250 - Perda no treinamento: 0.239163 - Acurácia: 1.0000\n",
      "Época 183/250 - Perda no treinamento: 0.220742 - Acurácia: 1.0000\n",
      "Época 184/250 - Perda no treinamento: 0.192715 - Acurácia: 0.8333\n",
      "Época 185/250 - Perda no treinamento: 0.281835 - Acurácia: 0.9167\n",
      "Época 186/250 - Perda no treinamento: 0.271656 - Acurácia: 0.9167\n",
      "Época 187/250 - Perda no treinamento: 0.210147 - Acurácia: 1.0000\n",
      "Época 188/250 - Perda no treinamento: 0.250303 - Acurácia: 0.9167\n",
      "Época 189/250 - Perda no treinamento: 0.226427 - Acurácia: 0.8333\n",
      "Época 190/250 - Perda no treinamento: 0.218302 - Acurácia: 1.0000\n",
      "Época 191/250 - Perda no treinamento: 0.246797 - Acurácia: 0.8333\n",
      "Época 192/250 - Perda no treinamento: 0.295569 - Acurácia: 1.0000\n",
      "Época 193/250 - Perda no treinamento: 0.277093 - Acurácia: 0.8333\n",
      "Época 194/250 - Perda no treinamento: 0.221402 - Acurácia: 0.8333\n",
      "Época 195/250 - Perda no treinamento: 0.282324 - Acurácia: 0.8333\n",
      "Época 196/250 - Perda no treinamento: 0.265218 - Acurácia: 0.9167\n",
      "Época 197/250 - Perda no treinamento: 0.283317 - Acurácia: 1.0000\n",
      "Época 198/250 - Perda no treinamento: 0.241779 - Acurácia: 0.9167\n",
      "Época 199/250 - Perda no treinamento: 0.238535 - Acurácia: 0.8333\n",
      "Época 200/250 - Perda no treinamento: 0.236066 - Acurácia: 0.8333\n",
      "Época 201/250 - Perda no treinamento: 0.217125 - Acurácia: 1.0000\n",
      "Época 202/250 - Perda no treinamento: 0.212278 - Acurácia: 0.9167\n",
      "Época 203/250 - Perda no treinamento: 0.208057 - Acurácia: 1.0000\n",
      "Época 204/250 - Perda no treinamento: 0.235286 - Acurácia: 1.0000\n",
      "Época 205/250 - Perda no treinamento: 0.228988 - Acurácia: 1.0000\n",
      "Época 206/250 - Perda no treinamento: 0.215199 - Acurácia: 1.0000\n",
      "Época 207/250 - Perda no treinamento: 0.200075 - Acurácia: 1.0000\n",
      "Época 208/250 - Perda no treinamento: 0.206830 - Acurácia: 0.9167\n",
      "Época 209/250 - Perda no treinamento: 0.226338 - Acurácia: 1.0000\n",
      "Época 210/250 - Perda no treinamento: 0.209863 - Acurácia: 0.9167\n",
      "Época 211/250 - Perda no treinamento: 0.208918 - Acurácia: 1.0000\n",
      "Época 212/250 - Perda no treinamento: 0.213635 - Acurácia: 1.0000\n",
      "Época 213/250 - Perda no treinamento: 0.236115 - Acurácia: 0.9167\n",
      "Época 214/250 - Perda no treinamento: 0.264869 - Acurácia: 0.7500\n",
      "Época 215/250 - Perda no treinamento: 0.238236 - Acurácia: 1.0000\n",
      "Época 216/250 - Perda no treinamento: 0.231651 - Acurácia: 0.9167\n",
      "Época 217/250 - Perda no treinamento: 0.228366 - Acurácia: 0.9167\n",
      "Época 218/250 - Perda no treinamento: 0.203430 - Acurácia: 0.9167\n",
      "Época 219/250 - Perda no treinamento: 0.239841 - Acurácia: 0.8333\n",
      "Época 220/250 - Perda no treinamento: 0.215225 - Acurácia: 1.0000\n",
      "Época 221/250 - Perda no treinamento: 0.191703 - Acurácia: 0.9167\n",
      "Época 222/250 - Perda no treinamento: 0.197569 - Acurácia: 0.9167\n",
      "Época 223/250 - Perda no treinamento: 0.209623 - Acurácia: 0.9167\n",
      "Época 224/250 - Perda no treinamento: 0.207514 - Acurácia: 0.8333\n",
      "Época 225/250 - Perda no treinamento: 0.226576 - Acurácia: 1.0000\n",
      "Época 226/250 - Perda no treinamento: 0.188656 - Acurácia: 0.9167\n",
      "Época 227/250 - Perda no treinamento: 0.215213 - Acurácia: 1.0000\n",
      "Época 228/250 - Perda no treinamento: 0.222255 - Acurácia: 0.8333\n",
      "Época 229/250 - Perda no treinamento: 0.195347 - Acurácia: 1.0000\n",
      "Época 230/250 - Perda no treinamento: 0.235518 - Acurácia: 0.9167\n",
      "Época 231/250 - Perda no treinamento: 0.277794 - Acurácia: 0.8333\n",
      "Época 232/250 - Perda no treinamento: 0.214277 - Acurácia: 1.0000\n",
      "Época 233/250 - Perda no treinamento: 0.202190 - Acurácia: 0.9167\n",
      "Época 234/250 - Perda no treinamento: 0.226113 - Acurácia: 1.0000\n",
      "Época 235/250 - Perda no treinamento: 0.212034 - Acurácia: 0.9167\n",
      "Época 236/250 - Perda no treinamento: 0.220819 - Acurácia: 0.8333\n",
      "Época 237/250 - Perda no treinamento: 0.194170 - Acurácia: 0.8333\n",
      "Época 238/250 - Perda no treinamento: 0.248856 - Acurácia: 0.8333\n",
      "Época 239/250 - Perda no treinamento: 0.192810 - Acurácia: 1.0000\n",
      "Época 240/250 - Perda no treinamento: 0.213328 - Acurácia: 1.0000\n",
      "Época 241/250 - Perda no treinamento: 0.156377 - Acurácia: 1.0000\n",
      "Época 242/250 - Perda no treinamento: 0.212208 - Acurácia: 1.0000\n",
      "Época 243/250 - Perda no treinamento: 0.236640 - Acurácia: 0.6667\n",
      "Época 244/250 - Perda no treinamento: 0.238054 - Acurácia: 0.9167\n",
      "Época 245/250 - Perda no treinamento: 0.229685 - Acurácia: 0.8333\n",
      "Época 246/250 - Perda no treinamento: 0.223129 - Acurácia: 1.0000\n",
      "Época 247/250 - Perda no treinamento: 0.189831 - Acurácia: 1.0000\n",
      "Época 248/250 - Perda no treinamento: 0.168153 - Acurácia: 0.9167\n",
      "Época 249/250 - Perda no treinamento: 0.194505 - Acurácia: 0.9167\n",
      "Época 250/250 - Perda no treinamento: 0.215629 - Acurácia: 0.9167\n",
      "\n",
      "Tempo total de treinamento: 4635.79 segundos\n"
     ]
    }
   ],
   "source": [
    "train_losses = []\n",
    "train_acc = []\n",
    "\n",
    "training_start_time = time.time()\n",
    "\n",
    "for epoch in range(num_epoch):\n",
    "    model.train()\n",
    "    running_train_loss = 0.0\n",
    "\n",
    "    for inputs, labels in train_loader:\n",
    "        inputs = inputs.to(device)\n",
    "        labels = labels.to(device)\n",
    "    \n",
    "        optimizer.zero_grad()\n",
    "        outputs = model(inputs)\n",
    "\n",
    "        loss = loss_fn(outputs, labels)\n",
    "        loss.backward()\n",
    "        optimizer.step()\n",
    "        running_train_loss += loss.item()\n",
    "\n",
    "    train_loss = running_train_loss / len(train_loader)\n",
    "    train_losses.append(train_loss)\n",
    "\n",
    "    _, predicted = torch.max(outputs.data, 1)\n",
    "\n",
    "    acc = accuracy_score(labels.cpu().detach().numpy(), predicted.cpu().detach().numpy())\n",
    "    train_acc.append(acc)\n",
    "\n",
    "    print(f\"Época {epoch + 1}/{num_epoch} - Perda no treinamento: {train_loss:.6f} - Acurácia: {acc:.4f}\")\n",
    "\n",
    "training_time = time.time() - training_start_time\n",
    "print(f\"\\nTempo total de treinamento: {training_time:.2f} segundos\")"
   ]
  },
  {
   "cell_type": "code",
   "execution_count": 14,
   "id": "0041d957-3264-4d9e-94bc-7d4eb1ac6000",
   "metadata": {},
   "outputs": [
    {
     "data": {
      "text/plain": [
       "Text(0.5, 0.98, 'Treinamento')"
      ]
     },
     "execution_count": 14,
     "metadata": {},
     "output_type": "execute_result"
    },
    {
     "data": {
      "image/png": "[encoded data removed]",
      "text/plain": [
       "<Figure size 1200x500 with 2 Axes>"
      ]
     },
     "metadata": {},
     "output_type": "display_data"
    }
   ],
   "source": [
    "epochs = range(1, num_epoch + 1)\n",
    "\n",
    "plt.figure(figsize=(12, 5))\n",
    "\n",
    "plt.subplot(1, 2, 1)\n",
    "plt.plot(epochs, train_losses, 'bo-')\n",
    "plt.xlabel('Épocas')\n",
    "plt.ylabel('Perda')\n",
    "\n",
    "plt.subplot(1, 2, 2)\n",
    "plt.plot(epochs, train_acc, 'ro-')\n",
    "plt.xlabel('Épocas')\n",
    "plt.ylabel('Acurácia')\n",
    "\n",
    "plt.suptitle(\"Treinamento\", fontsize = 20)"
   ]
  },
  {
   "cell_type": "code",
   "execution_count": 15,
   "id": "d488edcf-2fa7-4adc-b9ea-58111d5b250c",
   "metadata": {},
   "outputs": [
    {
     "name": "stdout",
     "output_type": "stream",
     "text": [
      "!!!Teste finalizado!!!\n"
     ]
    }
   ],
   "source": [
    "rot_array = []\n",
    "predt_array = []\n",
    "\n",
    "model.eval()\n",
    "    \n",
    "with torch.no_grad():\n",
    "        \n",
    "    for images, labels in test_loader:\n",
    "        images = images.to(device)\n",
    "        labels = labels.to(device)\n",
    "        \n",
    "        outputs = model(images)\n",
    "        _, predicted = torch.max(outputs.data, 1)\n",
    "\n",
    "        rot_array.extend(labels.cpu().detach().numpy())\n",
    "        predt_array.extend(predicted.cpu().detach().numpy())\n",
    "\n",
    "print(\"!!!Teste finalizado!!!\")"
   ]
  },
  {
   "cell_type": "markdown",
   "id": "db5d7bfa-3d44-4194-b113-d5721c9f140e",
   "metadata": {},
   "source": [
    "# <center>Métricas de avaliação</center>"
   ]
  },
  {
   "cell_type": "code",
   "execution_count": 16,
   "id": "628e9ecc-ce7e-4983-8926-4efccfceb59f",
   "metadata": {},
   "outputs": [
    {
     "data": {
      "image/png": "[encoded data removed]",
      "text/plain": [
       "<Figure size 640x480 with 2 Axes>"
      ]
     },
     "metadata": {},
     "output_type": "display_data"
    }
   ],
   "source": [
    "cm = confusion_matrix(rot_array, predt_array)\n",
    "\n",
    "disp = ConfusionMatrixDisplay(confusion_matrix=cm, display_labels=['Normal', 'Pneumonia', 'Tuberculose'])\n",
    "disp.plot(cmap=plt.cm.Blues)\n",
    "\n",
    "plt.xlabel('Rótulo previsto')\n",
    "plt.ylabel('Rótulo verdadeiro')\n",
    "plt.show()"
   ]
  },
  {
   "cell_type": "code",
   "execution_count": 17,
   "id": "8fbd9294-a1a3-4f3e-aaf6-73261fda3b87",
   "metadata": {},
   "outputs": [
    {
     "name": "stdout",
     "output_type": "stream",
     "text": [
      "Acurácia: 91.00%\n"
     ]
    }
   ],
   "source": [
    "acc = accuracy_score(rot_array, predt_array)\n",
    "print(f\"Acurácia: {acc * 100 :.2f}%\")"
   ]
  },
  {
   "cell_type": "code",
   "execution_count": 18,
   "id": "351feaf8-0fc9-47b7-b1d0-ff121ff5029c",
   "metadata": {},
   "outputs": [
    {
     "name": "stdout",
     "output_type": "stream",
     "text": [
      "Precisão: 91.18%\n"
     ]
    }
   ],
   "source": [
    "precision = precision_score(rot_array, predt_array, average='weighted')\n",
    "print(f\"Precisão: {precision * 100 :.2f}%\")"
   ]
  },
  {
   "cell_type": "code",
   "execution_count": 19,
   "id": "42782efb-0e53-4de5-b39e-9f89f999ad6c",
   "metadata": {},
   "outputs": [
    {
     "name": "stdout",
     "output_type": "stream",
     "text": [
      "Recall: 91.00%\n"
     ]
    }
   ],
   "source": [
    "recall = recall_score(rot_array, predt_array, average='weighted')\n",
    "print(f\"Recall: {recall * 100 :.2f}%\")"
   ]
  },
  {
   "cell_type": "code",
   "execution_count": 20,
   "id": "846cd0eb-a7b5-4794-acad-0e66d05ee3ce",
   "metadata": {},
   "outputs": [
    {
     "name": "stdout",
     "output_type": "stream",
     "text": [
      "F1 Score: 91.04%\n"
     ]
    }
   ],
   "source": [
    "f1 = f1_score(rot_array, predt_array, average='weighted')\n",
    "print(f\"F1 Score: {f1 * 100 :.2f}%\")"
   ]
  }
 ],
 "metadata": {
  "kernelspec": {
   "display_name": "Python 3 (ipykernel)",
   "language": "python",
   "name": "python3"
  },
  "language_info": {
   "codemirror_mode": {
    "name": "ipython",
    "version": 3
   },
   "file_extension": ".py",
   "mimetype": "text/x-python",
   "name": "python",
   "nbconvert_exporter": "python",
   "pygments_lexer": "ipython3",
   "version": "3.12.8"
  }
 },
 "nbformat": 4,
 "nbformat_minor": 5
}
