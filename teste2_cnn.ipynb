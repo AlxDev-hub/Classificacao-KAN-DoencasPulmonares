{
 "cells": [
  {
   "cell_type": "code",
   "execution_count": 1,
   "id": "a77bd366-35d9-4e91-82ee-e8e0396d3e85",
   "metadata": {},
   "outputs": [],
   "source": [
    "import time\n",
    "import numpy as np\n",
    "import matplotlib.pyplot as plt\n",
    "\n",
    "import torch\n",
    "import torch.nn as nn\n",
    "import torch.optim as optim\n",
    "from torchvision import datasets, transforms\n",
    "from torch.utils.data import DataLoader, random_split\n",
    "\n",
    "from sklearn.metrics import *"
   ]
  },
  {
   "cell_type": "markdown",
   "id": "f999a09d-3bcc-4162-9d21-919ce24d6421",
   "metadata": {},
   "source": [
    "# <center>Pré-processamento dos dados</center>"
   ]
  },
  {
   "cell_type": "code",
   "execution_count": 2,
   "id": "69719f5f-2a25-47fb-8f9b-d7e422b86e84",
   "metadata": {},
   "outputs": [],
   "source": [
    "dataset_path = 'dataset_teste2'"
   ]
  },
  {
   "cell_type": "code",
   "execution_count": 3,
   "id": "c4a49511",
   "metadata": {},
   "outputs": [],
   "source": [
    "transform_dataset = transforms.Compose(\n",
    "    [transforms.Resize(size = (224,224)),\n",
    "     transforms.RandomRotation(degrees=10),\n",
    "     transforms.RandomAffine(degrees=0, translate=(0.1, 0.1), scale=(0.9, 1.1), shear=10),\n",
    "     transforms.ColorJitter(brightness=0.2, contrast=0.2, saturation=0.1, hue=0.1),\n",
    "     transforms.ToTensor(),\n",
    "     transforms.Lambda(lambda x: torch.clamp(x + torch.randn_like(x) * 0.05, 0., 1.)),\n",
    "     transforms.Normalize(mean=[0.5], std=[0.5])\n",
    "    ]\n",
    ")"
   ]
  },
  {
   "cell_type": "code",
   "execution_count": 4,
   "id": "d13c3df3-9d9d-4663-92c2-b840e87ce7c4",
   "metadata": {},
   "outputs": [],
   "source": [
    "dataset = datasets.ImageFolder(dataset_path, transform = transform_dataset)"
   ]
  },
  {
   "cell_type": "code",
   "execution_count": 5,
   "id": "4422f07c",
   "metadata": {},
   "outputs": [
    {
     "name": "stdout",
     "output_type": "stream",
     "text": [
      "Informações sobre o Dataset: \n",
      "\n",
      " Dataset ImageFolder\n",
      "    Number of datapoints: 1000\n",
      "    Root location: dataset_teste2\n",
      "    StandardTransform\n",
      "Transform: Compose(\n",
      "               Resize(size=(224, 224), interpolation=bilinear, max_size=None, antialias=True)\n",
      "               RandomRotation(degrees=[-10.0, 10.0], interpolation=nearest, expand=False, fill=0)\n",
      "               RandomAffine(degrees=[0.0, 0.0], translate=(0.1, 0.1), scale=(0.9, 1.1), shear=[-10.0, 10.0])\n",
      "               ColorJitter(brightness=(0.8, 1.2), contrast=(0.8, 1.2), saturation=(0.9, 1.1), hue=(-0.1, 0.1))\n",
      "               ToTensor()\n",
      "               Lambda()\n",
      "               Normalize(mean=[0.5], std=[0.5])\n",
      "           )\n",
      "\n",
      "Rótulos:  {'NORMAL': 0, 'PNEUMONIA': 1, 'TUBERCULOSE': 2}\n"
     ]
    }
   ],
   "source": [
    "print(\"Informações sobre o Dataset: \\n\\n\", dataset)\n",
    "print(\"\\nRótulos: \", dataset.class_to_idx)"
   ]
  },
  {
   "cell_type": "code",
   "execution_count": 6,
   "id": "633ad56f-f28d-4664-8588-c797f40bd4f4",
   "metadata": {},
   "outputs": [],
   "source": [
    "train_size = int(0.7 * len(dataset))\n",
    "test_size = len(dataset) - train_size\n",
    "\n",
    "train_dataset, test_dataset = random_split(dataset, [train_size, test_size])"
   ]
  },
  {
   "cell_type": "code",
   "execution_count": 7,
   "id": "ca463df2-b9a0-42dd-ba6f-380c640f682b",
   "metadata": {},
   "outputs": [],
   "source": [
    "train_loader = DataLoader(train_dataset, batch_size=16, shuffle=True)\n",
    "test_loader = DataLoader(test_dataset, batch_size=16, shuffle=False)"
   ]
  },
  {
   "cell_type": "code",
   "execution_count": 8,
   "id": "d728a02c-d75c-4600-bda0-568138709d04",
   "metadata": {},
   "outputs": [],
   "source": [
    "all_targets = []\n",
    "for images, labels in train_loader:\n",
    "    all_targets.extend(labels.tolist())\n",
    "\n",
    "nor = []\n",
    "pne = []\n",
    "tub = []\n",
    "for i in range(700):\n",
    "    if all_targets[i] == 0:\n",
    "        nor.append(all_targets[i])\n",
    "    elif all_targets[i] == 1:\n",
    "        pne.append(all_targets[i])\n",
    "    elif all_targets[i] == 2:\n",
    "        tub.append(all_targets[i])"
   ]
  },
  {
   "cell_type": "code",
   "execution_count": 9,
   "id": "d5072b0f-e7cd-487b-8732-fdad8d77e0b4",
   "metadata": {},
   "outputs": [
    {
     "name": "stdout",
     "output_type": "stream",
     "text": [
      "!!!Distribuição dos dados de treinamento!!!\n",
      "\n",
      "Normal:  242\n",
      "Pneumonia:  237\n",
      "Tuberculose:  221\n"
     ]
    }
   ],
   "source": [
    "print(\"!!!Distribuição dos dados de treinamento!!!\\n\")\n",
    "print(\"Normal: \", len(nor))\n",
    "print(\"Pneumonia: \", len(pne))\n",
    "print(\"Tuberculose: \", len(tub))"
   ]
  },
  {
   "cell_type": "markdown",
   "id": "7bf3038a-8d82-45ab-94a3-f11406160a86",
   "metadata": {},
   "source": [
    "# <center>Implementação da arquitetura CNN</center>"
   ]
  },
  {
   "cell_type": "code",
   "execution_count": 10,
   "id": "5118d0d6-aaf5-4cbe-88a2-399d77684108",
   "metadata": {},
   "outputs": [
    {
     "name": "stdout",
     "output_type": "stream",
     "text": [
      "Dispositivo utilizado: cuda\n"
     ]
    }
   ],
   "source": [
    "model = nn.Sequential(\n",
    "    nn.Conv2d(3, 32, kernel_size=3, stride=1, padding=1),\n",
    "    nn.BatchNorm2d(32),\n",
    "    nn.ReLU(),\n",
    "    nn.MaxPool2d(kernel_size=2, stride=2, padding=0),\n",
    "    \n",
    "    nn.Conv2d(32, 64, kernel_size=3, stride=1, padding=1),\n",
    "    nn.BatchNorm2d(64),\n",
    "    nn.ReLU(),\n",
    "    nn.MaxPool2d(kernel_size=2, stride=2, padding=0),\n",
    "    \n",
    "    nn.Conv2d(64, 128, kernel_size=3, stride=1, padding=1),\n",
    "    nn.BatchNorm2d(128),\n",
    "    nn.ReLU(),\n",
    "    nn.MaxPool2d(kernel_size=2, stride=2, padding=0),\n",
    "    \n",
    "    nn.Flatten(),\n",
    "    \n",
    "    nn.Linear(128 * 28 * 28, 256),\n",
    "    nn.Dropout(p=0.3),\n",
    "    nn.ReLU(),\n",
    "\n",
    "    nn.Linear(256, 128),\n",
    "    nn.Dropout(p=0.3),\n",
    "    nn.ReLU(),\n",
    "    \n",
    "    nn.Linear(128, 64),\n",
    "    nn.Dropout(p=0.3),\n",
    "    nn.ReLU(),\n",
    "    \n",
    "    nn.Linear(64, 3)\n",
    ")\n",
    "\n",
    "device = torch.device(\"cuda\" if torch.cuda.is_available() else \"cpu\")\n",
    "print(f\"Dispositivo utilizado: {device}\")"
   ]
  },
  {
   "cell_type": "code",
   "execution_count": 11,
   "id": "4c273480-2d7c-4e82-93b5-cc5b02de3e82",
   "metadata": {},
   "outputs": [
    {
     "data": {
      "text/plain": [
       "Sequential(\n",
       "  (0): Conv2d(3, 32, kernel_size=(3, 3), stride=(1, 1), padding=(1, 1))\n",
       "  (1): BatchNorm2d(32, eps=1e-05, momentum=0.1, affine=True, track_running_stats=True)\n",
       "  (2): ReLU()\n",
       "  (3): MaxPool2d(kernel_size=2, stride=2, padding=0, dilation=1, ceil_mode=False)\n",
       "  (4): Conv2d(32, 64, kernel_size=(3, 3), stride=(1, 1), padding=(1, 1))\n",
       "  (5): BatchNorm2d(64, eps=1e-05, momentum=0.1, affine=True, track_running_stats=True)\n",
       "  (6): ReLU()\n",
       "  (7): MaxPool2d(kernel_size=2, stride=2, padding=0, dilation=1, ceil_mode=False)\n",
       "  (8): Conv2d(64, 128, kernel_size=(3, 3), stride=(1, 1), padding=(1, 1))\n",
       "  (9): BatchNorm2d(128, eps=1e-05, momentum=0.1, affine=True, track_running_stats=True)\n",
       "  (10): ReLU()\n",
       "  (11): MaxPool2d(kernel_size=2, stride=2, padding=0, dilation=1, ceil_mode=False)\n",
       "  (12): Flatten(start_dim=1, end_dim=-1)\n",
       "  (13): Linear(in_features=100352, out_features=256, bias=True)\n",
       "  (14): Dropout(p=0.3, inplace=False)\n",
       "  (15): ReLU()\n",
       "  (16): Linear(in_features=256, out_features=128, bias=True)\n",
       "  (17): Dropout(p=0.3, inplace=False)\n",
       "  (18): ReLU()\n",
       "  (19): Linear(in_features=128, out_features=64, bias=True)\n",
       "  (20): Dropout(p=0.3, inplace=False)\n",
       "  (21): ReLU()\n",
       "  (22): Linear(in_features=64, out_features=3, bias=True)\n",
       ")"
      ]
     },
     "execution_count": 11,
     "metadata": {},
     "output_type": "execute_result"
    }
   ],
   "source": [
    "model.to(device)"
   ]
  },
  {
   "cell_type": "code",
   "execution_count": 12,
   "id": "7852f30f-76af-4d58-89bb-6fb14936b060",
   "metadata": {},
   "outputs": [],
   "source": [
    "num_epoch = 250\n",
    "learning_rate = 0.001\n",
    "\n",
    "optimizer = optim.Adam(model.parameters(), lr=learning_rate)\n",
    "scheduler = optim.lr_scheduler.StepLR(optimizer, step_size=50, gamma=0.1)\n",
    "\n",
    "loss_fn = nn.CrossEntropyLoss()"
   ]
  },
  {
   "cell_type": "code",
   "execution_count": 13,
   "id": "687f4e6b-98ff-4199-b293-72274969f197",
   "metadata": {
    "scrolled": true
   },
   "outputs": [
    {
     "name": "stdout",
     "output_type": "stream",
     "text": [
      "Época 1/250 - Perda no treinamento: 2.135684 - Acurácia: 0.4167 - LR: 0.001\n",
      "Época 2/250 - Perda no treinamento: 0.958710 - Acurácia: 0.5000 - LR: 0.001\n",
      "Época 3/250 - Perda no treinamento: 0.857896 - Acurácia: 0.5000 - LR: 0.001\n",
      "Época 4/250 - Perda no treinamento: 0.763001 - Acurácia: 0.4167 - LR: 0.001\n",
      "Época 5/250 - Perda no treinamento: 0.682137 - Acurácia: 0.6667 - LR: 0.001\n",
      "Época 6/250 - Perda no treinamento: 0.744897 - Acurácia: 0.9167 - LR: 0.001\n",
      "Época 7/250 - Perda no treinamento: 0.641897 - Acurácia: 0.5833 - LR: 0.001\n",
      "Época 8/250 - Perda no treinamento: 0.612793 - Acurácia: 0.8333 - LR: 0.001\n",
      "Época 9/250 - Perda no treinamento: 0.622210 - Acurácia: 0.8333 - LR: 0.001\n",
      "Época 10/250 - Perda no treinamento: 0.627752 - Acurácia: 0.7500 - LR: 0.001\n",
      "Época 11/250 - Perda no treinamento: 0.602556 - Acurácia: 0.5833 - LR: 0.001\n",
      "Época 12/250 - Perda no treinamento: 0.586887 - Acurácia: 0.6667 - LR: 0.001\n",
      "Época 13/250 - Perda no treinamento: 0.560402 - Acurácia: 0.8333 - LR: 0.001\n",
      "Época 14/250 - Perda no treinamento: 0.520240 - Acurácia: 0.6667 - LR: 0.001\n",
      "Época 15/250 - Perda no treinamento: 0.629592 - Acurácia: 0.5833 - LR: 0.001\n",
      "Época 16/250 - Perda no treinamento: 0.568004 - Acurácia: 0.5000 - LR: 0.001\n",
      "Época 17/250 - Perda no treinamento: 0.487102 - Acurácia: 0.6667 - LR: 0.001\n",
      "Época 18/250 - Perda no treinamento: 0.493400 - Acurácia: 0.8333 - LR: 0.001\n",
      "Época 19/250 - Perda no treinamento: 0.502187 - Acurácia: 0.8333 - LR: 0.001\n",
      "Época 20/250 - Perda no treinamento: 0.465085 - Acurácia: 1.0000 - LR: 0.001\n",
      "Época 21/250 - Perda no treinamento: 0.471187 - Acurácia: 0.7500 - LR: 0.001\n",
      "Época 22/250 - Perda no treinamento: 0.511835 - Acurácia: 0.7500 - LR: 0.001\n",
      "Época 23/250 - Perda no treinamento: 0.458045 - Acurácia: 0.7500 - LR: 0.001\n",
      "Época 24/250 - Perda no treinamento: 0.464714 - Acurácia: 0.8333 - LR: 0.001\n",
      "Época 25/250 - Perda no treinamento: 0.425363 - Acurácia: 0.9167 - LR: 0.001\n",
      "Época 26/250 - Perda no treinamento: 0.436288 - Acurácia: 1.0000 - LR: 0.001\n",
      "Época 27/250 - Perda no treinamento: 0.459997 - Acurácia: 1.0000 - LR: 0.001\n",
      "Época 28/250 - Perda no treinamento: 0.435072 - Acurácia: 0.8333 - LR: 0.001\n",
      "Época 29/250 - Perda no treinamento: 0.396071 - Acurácia: 0.8333 - LR: 0.001\n",
      "Época 30/250 - Perda no treinamento: 0.446711 - Acurácia: 0.8333 - LR: 0.001\n",
      "Época 31/250 - Perda no treinamento: 0.420678 - Acurácia: 0.6667 - LR: 0.001\n",
      "Época 32/250 - Perda no treinamento: 0.399514 - Acurácia: 0.8333 - LR: 0.001\n",
      "Época 33/250 - Perda no treinamento: 0.388710 - Acurácia: 0.7500 - LR: 0.001\n",
      "Época 34/250 - Perda no treinamento: 0.364967 - Acurácia: 0.8333 - LR: 0.001\n",
      "Época 35/250 - Perda no treinamento: 0.433108 - Acurácia: 0.8333 - LR: 0.001\n",
      "Época 36/250 - Perda no treinamento: 0.401864 - Acurácia: 0.5000 - LR: 0.001\n",
      "Época 37/250 - Perda no treinamento: 0.416429 - Acurácia: 1.0000 - LR: 0.001\n",
      "Época 38/250 - Perda no treinamento: 0.415408 - Acurácia: 1.0000 - LR: 0.001\n",
      "Época 39/250 - Perda no treinamento: 0.333181 - Acurácia: 0.9167 - LR: 0.001\n",
      "Época 40/250 - Perda no treinamento: 0.466419 - Acurácia: 0.9167 - LR: 0.001\n",
      "Época 41/250 - Perda no treinamento: 0.418280 - Acurácia: 0.9167 - LR: 0.001\n",
      "Época 42/250 - Perda no treinamento: 0.402445 - Acurácia: 0.7500 - LR: 0.001\n",
      "Época 43/250 - Perda no treinamento: 0.411984 - Acurácia: 1.0000 - LR: 0.001\n",
      "Época 44/250 - Perda no treinamento: 0.369019 - Acurácia: 0.9167 - LR: 0.001\n",
      "Época 45/250 - Perda no treinamento: 0.413532 - Acurácia: 1.0000 - LR: 0.001\n",
      "Época 46/250 - Perda no treinamento: 0.397273 - Acurácia: 0.6667 - LR: 0.001\n",
      "Época 47/250 - Perda no treinamento: 0.439870 - Acurácia: 0.9167 - LR: 0.001\n",
      "Época 48/250 - Perda no treinamento: 0.348966 - Acurácia: 0.9167 - LR: 0.001\n",
      "Época 49/250 - Perda no treinamento: 0.400667 - Acurácia: 0.8333 - LR: 0.001\n",
      "Época 50/250 - Perda no treinamento: 0.355699 - Acurácia: 0.8333 - LR: 0.0001\n",
      "Época 51/250 - Perda no treinamento: 0.314899 - Acurácia: 0.9167 - LR: 0.0001\n",
      "Época 52/250 - Perda no treinamento: 0.324003 - Acurácia: 0.9167 - LR: 0.0001\n",
      "Época 53/250 - Perda no treinamento: 0.294578 - Acurácia: 0.8333 - LR: 0.0001\n",
      "Época 54/250 - Perda no treinamento: 0.297342 - Acurácia: 0.8333 - LR: 0.0001\n",
      "Época 55/250 - Perda no treinamento: 0.324160 - Acurácia: 0.8333 - LR: 0.0001\n",
      "Época 56/250 - Perda no treinamento: 0.301787 - Acurácia: 0.8333 - LR: 0.0001\n",
      "Época 57/250 - Perda no treinamento: 0.282754 - Acurácia: 0.9167 - LR: 0.0001\n",
      "Época 58/250 - Perda no treinamento: 0.288819 - Acurácia: 1.0000 - LR: 0.0001\n",
      "Época 59/250 - Perda no treinamento: 0.289125 - Acurácia: 0.9167 - LR: 0.0001\n",
      "Época 60/250 - Perda no treinamento: 0.295195 - Acurácia: 0.9167 - LR: 0.0001\n",
      "Época 61/250 - Perda no treinamento: 0.243477 - Acurácia: 0.9167 - LR: 0.0001\n",
      "Época 62/250 - Perda no treinamento: 0.236983 - Acurácia: 0.9167 - LR: 0.0001\n",
      "Época 63/250 - Perda no treinamento: 0.306015 - Acurácia: 0.9167 - LR: 0.0001\n",
      "Época 64/250 - Perda no treinamento: 0.245652 - Acurácia: 0.9167 - LR: 0.0001\n",
      "Época 65/250 - Perda no treinamento: 0.299274 - Acurácia: 0.8333 - LR: 0.0001\n",
      "Época 66/250 - Perda no treinamento: 0.260491 - Acurácia: 1.0000 - LR: 0.0001\n",
      "Época 67/250 - Perda no treinamento: 0.282228 - Acurácia: 1.0000 - LR: 0.0001\n",
      "Época 68/250 - Perda no treinamento: 0.283640 - Acurácia: 0.9167 - LR: 0.0001\n",
      "Época 69/250 - Perda no treinamento: 0.273780 - Acurácia: 0.9167 - LR: 0.0001\n",
      "Época 70/250 - Perda no treinamento: 0.269382 - Acurácia: 0.7500 - LR: 0.0001\n",
      "Época 71/250 - Perda no treinamento: 0.273242 - Acurácia: 0.9167 - LR: 0.0001\n",
      "Época 72/250 - Perda no treinamento: 0.251611 - Acurácia: 1.0000 - LR: 0.0001\n",
      "Época 73/250 - Perda no treinamento: 0.271604 - Acurácia: 0.8333 - LR: 0.0001\n",
      "Época 74/250 - Perda no treinamento: 0.275265 - Acurácia: 0.9167 - LR: 0.0001\n",
      "Época 75/250 - Perda no treinamento: 0.260194 - Acurácia: 1.0000 - LR: 0.0001\n",
      "Época 76/250 - Perda no treinamento: 0.260900 - Acurácia: 0.8333 - LR: 0.0001\n",
      "Época 77/250 - Perda no treinamento: 0.250733 - Acurácia: 0.9167 - LR: 0.0001\n",
      "Época 78/250 - Perda no treinamento: 0.234222 - Acurácia: 0.9167 - LR: 0.0001\n",
      "Época 79/250 - Perda no treinamento: 0.233656 - Acurácia: 0.9167 - LR: 0.0001\n",
      "Época 80/250 - Perda no treinamento: 0.245917 - Acurácia: 1.0000 - LR: 0.0001\n",
      "Época 81/250 - Perda no treinamento: 0.257113 - Acurácia: 0.9167 - LR: 0.0001\n",
      "Época 82/250 - Perda no treinamento: 0.203276 - Acurácia: 0.9167 - LR: 0.0001\n",
      "Época 83/250 - Perda no treinamento: 0.272535 - Acurácia: 1.0000 - LR: 0.0001\n",
      "Época 84/250 - Perda no treinamento: 0.241110 - Acurácia: 0.8333 - LR: 0.0001\n",
      "Época 85/250 - Perda no treinamento: 0.267096 - Acurácia: 0.8333 - LR: 0.0001\n",
      "Época 86/250 - Perda no treinamento: 0.217518 - Acurácia: 0.7500 - LR: 0.0001\n",
      "Época 87/250 - Perda no treinamento: 0.234465 - Acurácia: 0.7500 - LR: 0.0001\n",
      "Época 88/250 - Perda no treinamento: 0.245786 - Acurácia: 0.9167 - LR: 0.0001\n",
      "Época 89/250 - Perda no treinamento: 0.257800 - Acurácia: 0.8333 - LR: 0.0001\n",
      "Época 90/250 - Perda no treinamento: 0.211722 - Acurácia: 1.0000 - LR: 0.0001\n",
      "Época 91/250 - Perda no treinamento: 0.231073 - Acurácia: 1.0000 - LR: 0.0001\n",
      "Época 92/250 - Perda no treinamento: 0.246485 - Acurácia: 1.0000 - LR: 0.0001\n",
      "Época 93/250 - Perda no treinamento: 0.238723 - Acurácia: 0.9167 - LR: 0.0001\n",
      "Época 94/250 - Perda no treinamento: 0.236960 - Acurácia: 0.8333 - LR: 0.0001\n",
      "Época 95/250 - Perda no treinamento: 0.210952 - Acurácia: 0.9167 - LR: 0.0001\n",
      "Época 96/250 - Perda no treinamento: 0.248892 - Acurácia: 0.7500 - LR: 0.0001\n",
      "Época 97/250 - Perda no treinamento: 0.242117 - Acurácia: 0.9167 - LR: 0.0001\n",
      "Época 98/250 - Perda no treinamento: 0.213461 - Acurácia: 0.8333 - LR: 0.0001\n",
      "Época 99/250 - Perda no treinamento: 0.259552 - Acurácia: 0.9167 - LR: 0.0001\n",
      "Época 100/250 - Perda no treinamento: 0.247514 - Acurácia: 0.8333 - LR: 1e-05\n",
      "Época 101/250 - Perda no treinamento: 0.227805 - Acurácia: 0.7500 - LR: 1e-05\n",
      "Época 102/250 - Perda no treinamento: 0.214553 - Acurácia: 0.9167 - LR: 1e-05\n",
      "Época 103/250 - Perda no treinamento: 0.254236 - Acurácia: 0.8333 - LR: 1e-05\n",
      "Época 104/250 - Perda no treinamento: 0.243045 - Acurácia: 0.8333 - LR: 1e-05\n",
      "Época 105/250 - Perda no treinamento: 0.252113 - Acurácia: 0.7500 - LR: 1e-05\n",
      "Época 106/250 - Perda no treinamento: 0.230657 - Acurácia: 1.0000 - LR: 1e-05\n",
      "Época 107/250 - Perda no treinamento: 0.248286 - Acurácia: 0.9167 - LR: 1e-05\n",
      "Época 108/250 - Perda no treinamento: 0.245352 - Acurácia: 0.8333 - LR: 1e-05\n",
      "Época 109/250 - Perda no treinamento: 0.240311 - Acurácia: 0.9167 - LR: 1e-05\n",
      "Época 110/250 - Perda no treinamento: 0.224362 - Acurácia: 0.9167 - LR: 1e-05\n",
      "Época 111/250 - Perda no treinamento: 0.226118 - Acurácia: 0.9167 - LR: 1e-05\n",
      "Época 112/250 - Perda no treinamento: 0.218983 - Acurácia: 1.0000 - LR: 1e-05\n",
      "Época 113/250 - Perda no treinamento: 0.222879 - Acurácia: 0.9167 - LR: 1e-05\n",
      "Época 114/250 - Perda no treinamento: 0.226781 - Acurácia: 0.7500 - LR: 1e-05\n",
      "Época 115/250 - Perda no treinamento: 0.233274 - Acurácia: 0.8333 - LR: 1e-05\n",
      "Época 116/250 - Perda no treinamento: 0.248683 - Acurácia: 1.0000 - LR: 1e-05\n",
      "Época 117/250 - Perda no treinamento: 0.231798 - Acurácia: 1.0000 - LR: 1e-05\n",
      "Época 118/250 - Perda no treinamento: 0.231929 - Acurácia: 0.8333 - LR: 1e-05\n",
      "Época 119/250 - Perda no treinamento: 0.228946 - Acurácia: 0.8333 - LR: 1e-05\n",
      "Época 120/250 - Perda no treinamento: 0.228391 - Acurácia: 1.0000 - LR: 1e-05\n",
      "Época 121/250 - Perda no treinamento: 0.201159 - Acurácia: 0.8333 - LR: 1e-05\n",
      "Época 122/250 - Perda no treinamento: 0.251461 - Acurácia: 0.8333 - LR: 1e-05\n",
      "Época 123/250 - Perda no treinamento: 0.251378 - Acurácia: 0.9167 - LR: 1e-05\n",
      "Época 124/250 - Perda no treinamento: 0.239667 - Acurácia: 1.0000 - LR: 1e-05\n",
      "Época 125/250 - Perda no treinamento: 0.237197 - Acurácia: 0.8333 - LR: 1e-05\n",
      "Época 126/250 - Perda no treinamento: 0.215991 - Acurácia: 0.9167 - LR: 1e-05\n",
      "Época 127/250 - Perda no treinamento: 0.238216 - Acurácia: 0.9167 - LR: 1e-05\n",
      "Época 128/250 - Perda no treinamento: 0.211007 - Acurácia: 0.8333 - LR: 1e-05\n",
      "Época 129/250 - Perda no treinamento: 0.227343 - Acurácia: 1.0000 - LR: 1e-05\n",
      "Época 130/250 - Perda no treinamento: 0.258900 - Acurácia: 0.7500 - LR: 1e-05\n",
      "Época 131/250 - Perda no treinamento: 0.231091 - Acurácia: 0.8333 - LR: 1e-05\n",
      "Época 132/250 - Perda no treinamento: 0.253537 - Acurácia: 0.9167 - LR: 1e-05\n",
      "Época 133/250 - Perda no treinamento: 0.221583 - Acurácia: 0.9167 - LR: 1e-05\n",
      "Época 134/250 - Perda no treinamento: 0.226409 - Acurácia: 0.8333 - LR: 1e-05\n",
      "Época 135/250 - Perda no treinamento: 0.252977 - Acurácia: 0.8333 - LR: 1e-05\n",
      "Época 136/250 - Perda no treinamento: 0.212673 - Acurácia: 0.7500 - LR: 1e-05\n",
      "Época 137/250 - Perda no treinamento: 0.235369 - Acurácia: 0.9167 - LR: 1e-05\n",
      "Época 138/250 - Perda no treinamento: 0.217476 - Acurácia: 1.0000 - LR: 1e-05\n",
      "Época 139/250 - Perda no treinamento: 0.227341 - Acurácia: 0.8333 - LR: 1e-05\n",
      "Época 140/250 - Perda no treinamento: 0.212610 - Acurácia: 0.9167 - LR: 1e-05\n",
      "Época 141/250 - Perda no treinamento: 0.271361 - Acurácia: 1.0000 - LR: 1e-05\n",
      "Época 142/250 - Perda no treinamento: 0.236411 - Acurácia: 0.9167 - LR: 1e-05\n",
      "Época 143/250 - Perda no treinamento: 0.225518 - Acurácia: 1.0000 - LR: 1e-05\n",
      "Época 144/250 - Perda no treinamento: 0.229205 - Acurácia: 0.6667 - LR: 1e-05\n",
      "Época 145/250 - Perda no treinamento: 0.238446 - Acurácia: 1.0000 - LR: 1e-05\n",
      "Época 146/250 - Perda no treinamento: 0.211783 - Acurácia: 1.0000 - LR: 1e-05\n",
      "Época 147/250 - Perda no treinamento: 0.220644 - Acurácia: 0.9167 - LR: 1e-05\n",
      "Época 148/250 - Perda no treinamento: 0.234190 - Acurácia: 0.9167 - LR: 1e-05\n",
      "Época 149/250 - Perda no treinamento: 0.237630 - Acurácia: 0.8333 - LR: 1e-05\n",
      "Época 150/250 - Perda no treinamento: 0.234310 - Acurácia: 0.9167 - LR: 1.0000000000000002e-06\n",
      "Época 151/250 - Perda no treinamento: 0.236277 - Acurácia: 0.8333 - LR: 1.0000000000000002e-06\n",
      "Época 152/250 - Perda no treinamento: 0.229209 - Acurácia: 1.0000 - LR: 1.0000000000000002e-06\n",
      "Época 153/250 - Perda no treinamento: 0.234367 - Acurácia: 0.9167 - LR: 1.0000000000000002e-06\n",
      "Época 154/250 - Perda no treinamento: 0.233143 - Acurácia: 0.9167 - LR: 1.0000000000000002e-06\n",
      "Época 155/250 - Perda no treinamento: 0.225454 - Acurácia: 0.9167 - LR: 1.0000000000000002e-06\n",
      "Época 156/250 - Perda no treinamento: 0.216619 - Acurácia: 0.9167 - LR: 1.0000000000000002e-06\n",
      "Época 157/250 - Perda no treinamento: 0.200233 - Acurácia: 0.9167 - LR: 1.0000000000000002e-06\n",
      "Época 158/250 - Perda no treinamento: 0.223084 - Acurácia: 1.0000 - LR: 1.0000000000000002e-06\n",
      "Época 159/250 - Perda no treinamento: 0.226516 - Acurácia: 0.9167 - LR: 1.0000000000000002e-06\n",
      "Época 160/250 - Perda no treinamento: 0.217745 - Acurácia: 0.9167 - LR: 1.0000000000000002e-06\n",
      "Época 161/250 - Perda no treinamento: 0.246791 - Acurácia: 0.8333 - LR: 1.0000000000000002e-06\n",
      "Época 162/250 - Perda no treinamento: 0.202725 - Acurácia: 1.0000 - LR: 1.0000000000000002e-06\n",
      "Época 163/250 - Perda no treinamento: 0.255776 - Acurácia: 0.9167 - LR: 1.0000000000000002e-06\n",
      "Época 164/250 - Perda no treinamento: 0.221220 - Acurácia: 0.8333 - LR: 1.0000000000000002e-06\n",
      "Época 165/250 - Perda no treinamento: 0.216285 - Acurácia: 1.0000 - LR: 1.0000000000000002e-06\n",
      "Época 166/250 - Perda no treinamento: 0.213133 - Acurácia: 1.0000 - LR: 1.0000000000000002e-06\n",
      "Época 167/250 - Perda no treinamento: 0.259689 - Acurácia: 0.7500 - LR: 1.0000000000000002e-06\n",
      "Época 168/250 - Perda no treinamento: 0.221430 - Acurácia: 0.9167 - LR: 1.0000000000000002e-06\n",
      "Época 169/250 - Perda no treinamento: 0.228485 - Acurácia: 0.8333 - LR: 1.0000000000000002e-06\n",
      "Época 170/250 - Perda no treinamento: 0.222839 - Acurácia: 0.9167 - LR: 1.0000000000000002e-06\n",
      "Época 171/250 - Perda no treinamento: 0.231490 - Acurácia: 0.9167 - LR: 1.0000000000000002e-06\n",
      "Época 172/250 - Perda no treinamento: 0.230277 - Acurácia: 0.9167 - LR: 1.0000000000000002e-06\n",
      "Época 173/250 - Perda no treinamento: 0.209660 - Acurácia: 1.0000 - LR: 1.0000000000000002e-06\n",
      "Época 174/250 - Perda no treinamento: 0.226827 - Acurácia: 0.9167 - LR: 1.0000000000000002e-06\n",
      "Época 175/250 - Perda no treinamento: 0.227583 - Acurácia: 1.0000 - LR: 1.0000000000000002e-06\n",
      "Época 176/250 - Perda no treinamento: 0.224289 - Acurácia: 0.9167 - LR: 1.0000000000000002e-06\n",
      "Época 177/250 - Perda no treinamento: 0.222865 - Acurácia: 0.9167 - LR: 1.0000000000000002e-06\n",
      "Época 178/250 - Perda no treinamento: 0.209211 - Acurácia: 0.9167 - LR: 1.0000000000000002e-06\n",
      "Época 179/250 - Perda no treinamento: 0.188019 - Acurácia: 1.0000 - LR: 1.0000000000000002e-06\n",
      "Época 180/250 - Perda no treinamento: 0.234716 - Acurácia: 0.7500 - LR: 1.0000000000000002e-06\n",
      "Época 181/250 - Perda no treinamento: 0.245525 - Acurácia: 1.0000 - LR: 1.0000000000000002e-06\n",
      "Época 182/250 - Perda no treinamento: 0.235519 - Acurácia: 1.0000 - LR: 1.0000000000000002e-06\n",
      "Época 183/250 - Perda no treinamento: 0.232146 - Acurácia: 0.8333 - LR: 1.0000000000000002e-06\n",
      "Época 184/250 - Perda no treinamento: 0.214706 - Acurácia: 0.9167 - LR: 1.0000000000000002e-06\n",
      "Época 185/250 - Perda no treinamento: 0.243097 - Acurácia: 0.9167 - LR: 1.0000000000000002e-06\n",
      "Época 186/250 - Perda no treinamento: 0.205945 - Acurácia: 0.9167 - LR: 1.0000000000000002e-06\n",
      "Época 187/250 - Perda no treinamento: 0.233591 - Acurácia: 0.9167 - LR: 1.0000000000000002e-06\n",
      "Época 188/250 - Perda no treinamento: 0.250148 - Acurácia: 0.8333 - LR: 1.0000000000000002e-06\n",
      "Época 189/250 - Perda no treinamento: 0.219479 - Acurácia: 1.0000 - LR: 1.0000000000000002e-06\n",
      "Época 190/250 - Perda no treinamento: 0.221592 - Acurácia: 1.0000 - LR: 1.0000000000000002e-06\n",
      "Época 191/250 - Perda no treinamento: 0.206167 - Acurácia: 1.0000 - LR: 1.0000000000000002e-06\n",
      "Época 192/250 - Perda no treinamento: 0.256868 - Acurácia: 0.9167 - LR: 1.0000000000000002e-06\n",
      "Época 193/250 - Perda no treinamento: 0.228450 - Acurácia: 0.9167 - LR: 1.0000000000000002e-06\n",
      "Época 194/250 - Perda no treinamento: 0.243743 - Acurácia: 0.8333 - LR: 1.0000000000000002e-06\n",
      "Época 195/250 - Perda no treinamento: 0.213061 - Acurácia: 0.8333 - LR: 1.0000000000000002e-06\n",
      "Época 196/250 - Perda no treinamento: 0.223564 - Acurácia: 1.0000 - LR: 1.0000000000000002e-06\n",
      "Época 197/250 - Perda no treinamento: 0.217613 - Acurácia: 0.8333 - LR: 1.0000000000000002e-06\n",
      "Época 198/250 - Perda no treinamento: 0.231242 - Acurácia: 1.0000 - LR: 1.0000000000000002e-06\n",
      "Época 199/250 - Perda no treinamento: 0.243538 - Acurácia: 0.8333 - LR: 1.0000000000000002e-06\n",
      "Época 200/250 - Perda no treinamento: 0.224542 - Acurácia: 1.0000 - LR: 1.0000000000000002e-07\n",
      "Época 201/250 - Perda no treinamento: 0.237351 - Acurácia: 0.7500 - LR: 1.0000000000000002e-07\n",
      "Época 202/250 - Perda no treinamento: 0.259093 - Acurácia: 0.7500 - LR: 1.0000000000000002e-07\n",
      "Época 203/250 - Perda no treinamento: 0.227338 - Acurácia: 0.9167 - LR: 1.0000000000000002e-07\n",
      "Época 204/250 - Perda no treinamento: 0.187049 - Acurácia: 1.0000 - LR: 1.0000000000000002e-07\n",
      "Época 205/250 - Perda no treinamento: 0.211107 - Acurácia: 1.0000 - LR: 1.0000000000000002e-07\n",
      "Época 206/250 - Perda no treinamento: 0.214743 - Acurácia: 0.7500 - LR: 1.0000000000000002e-07\n",
      "Época 207/250 - Perda no treinamento: 0.251697 - Acurácia: 0.6667 - LR: 1.0000000000000002e-07\n",
      "Época 208/250 - Perda no treinamento: 0.256317 - Acurácia: 0.8333 - LR: 1.0000000000000002e-07\n",
      "Época 209/250 - Perda no treinamento: 0.232830 - Acurácia: 0.7500 - LR: 1.0000000000000002e-07\n",
      "Época 210/250 - Perda no treinamento: 0.256070 - Acurácia: 0.9167 - LR: 1.0000000000000002e-07\n",
      "Época 211/250 - Perda no treinamento: 0.212035 - Acurácia: 0.7500 - LR: 1.0000000000000002e-07\n",
      "Época 212/250 - Perda no treinamento: 0.270719 - Acurácia: 0.8333 - LR: 1.0000000000000002e-07\n",
      "Época 213/250 - Perda no treinamento: 0.219975 - Acurácia: 1.0000 - LR: 1.0000000000000002e-07\n",
      "Época 214/250 - Perda no treinamento: 0.259929 - Acurácia: 0.9167 - LR: 1.0000000000000002e-07\n",
      "Época 215/250 - Perda no treinamento: 0.223497 - Acurácia: 0.8333 - LR: 1.0000000000000002e-07\n",
      "Época 216/250 - Perda no treinamento: 0.265074 - Acurácia: 0.9167 - LR: 1.0000000000000002e-07\n",
      "Época 217/250 - Perda no treinamento: 0.219853 - Acurácia: 0.9167 - LR: 1.0000000000000002e-07\n",
      "Época 218/250 - Perda no treinamento: 0.217131 - Acurácia: 1.0000 - LR: 1.0000000000000002e-07\n",
      "Época 219/250 - Perda no treinamento: 0.239661 - Acurácia: 0.9167 - LR: 1.0000000000000002e-07\n",
      "Época 220/250 - Perda no treinamento: 0.213297 - Acurácia: 0.7500 - LR: 1.0000000000000002e-07\n",
      "Época 221/250 - Perda no treinamento: 0.247803 - Acurácia: 0.9167 - LR: 1.0000000000000002e-07\n",
      "Época 222/250 - Perda no treinamento: 0.227791 - Acurácia: 0.7500 - LR: 1.0000000000000002e-07\n",
      "Época 223/250 - Perda no treinamento: 0.227128 - Acurácia: 0.9167 - LR: 1.0000000000000002e-07\n",
      "Época 224/250 - Perda no treinamento: 0.220674 - Acurácia: 1.0000 - LR: 1.0000000000000002e-07\n",
      "Época 225/250 - Perda no treinamento: 0.202231 - Acurácia: 1.0000 - LR: 1.0000000000000002e-07\n",
      "Época 226/250 - Perda no treinamento: 0.224598 - Acurácia: 0.9167 - LR: 1.0000000000000002e-07\n",
      "Época 227/250 - Perda no treinamento: 0.238138 - Acurácia: 0.9167 - LR: 1.0000000000000002e-07\n",
      "Época 228/250 - Perda no treinamento: 0.218458 - Acurácia: 1.0000 - LR: 1.0000000000000002e-07\n",
      "Época 229/250 - Perda no treinamento: 0.199056 - Acurácia: 0.9167 - LR: 1.0000000000000002e-07\n",
      "Época 230/250 - Perda no treinamento: 0.233552 - Acurácia: 0.9167 - LR: 1.0000000000000002e-07\n",
      "Época 231/250 - Perda no treinamento: 0.212401 - Acurácia: 1.0000 - LR: 1.0000000000000002e-07\n",
      "Época 232/250 - Perda no treinamento: 0.232676 - Acurácia: 0.9167 - LR: 1.0000000000000002e-07\n",
      "Época 233/250 - Perda no treinamento: 0.236829 - Acurácia: 0.9167 - LR: 1.0000000000000002e-07\n",
      "Época 234/250 - Perda no treinamento: 0.214506 - Acurácia: 0.9167 - LR: 1.0000000000000002e-07\n",
      "Época 235/250 - Perda no treinamento: 0.242551 - Acurácia: 1.0000 - LR: 1.0000000000000002e-07\n",
      "Época 236/250 - Perda no treinamento: 0.224072 - Acurácia: 0.8333 - LR: 1.0000000000000002e-07\n",
      "Época 237/250 - Perda no treinamento: 0.216158 - Acurácia: 0.8333 - LR: 1.0000000000000002e-07\n",
      "Época 238/250 - Perda no treinamento: 0.221210 - Acurácia: 1.0000 - LR: 1.0000000000000002e-07\n",
      "Época 239/250 - Perda no treinamento: 0.241834 - Acurácia: 0.8333 - LR: 1.0000000000000002e-07\n",
      "Época 240/250 - Perda no treinamento: 0.235408 - Acurácia: 1.0000 - LR: 1.0000000000000002e-07\n",
      "Época 241/250 - Perda no treinamento: 0.205150 - Acurácia: 0.9167 - LR: 1.0000000000000002e-07\n",
      "Época 242/250 - Perda no treinamento: 0.233838 - Acurácia: 1.0000 - LR: 1.0000000000000002e-07\n",
      "Época 243/250 - Perda no treinamento: 0.220035 - Acurácia: 1.0000 - LR: 1.0000000000000002e-07\n",
      "Época 244/250 - Perda no treinamento: 0.247887 - Acurácia: 0.8333 - LR: 1.0000000000000002e-07\n",
      "Época 245/250 - Perda no treinamento: 0.232187 - Acurácia: 0.8333 - LR: 1.0000000000000002e-07\n",
      "Época 246/250 - Perda no treinamento: 0.227037 - Acurácia: 0.8333 - LR: 1.0000000000000002e-07\n",
      "Época 247/250 - Perda no treinamento: 0.246271 - Acurácia: 1.0000 - LR: 1.0000000000000002e-07\n",
      "Época 248/250 - Perda no treinamento: 0.219237 - Acurácia: 1.0000 - LR: 1.0000000000000002e-07\n",
      "Época 249/250 - Perda no treinamento: 0.226210 - Acurácia: 0.8333 - LR: 1.0000000000000002e-07\n",
      "Época 250/250 - Perda no treinamento: 0.228313 - Acurácia: 1.0000 - LR: 1.0000000000000004e-08\n",
      "\n",
      "Tempo total de treinamento: 4812.59 segundos\n"
     ]
    }
   ],
   "source": [
    "train_losses = []\n",
    "train_acc = []\n",
    "\n",
    "training_start_time = time.time()\n",
    "\n",
    "for epoch in range(num_epoch):\n",
    "    model.train()\n",
    "    running_train_loss = 0.0\n",
    "\n",
    "    for inputs, labels in train_loader:\n",
    "        inputs = inputs.to(device)\n",
    "        labels = labels.to(device)\n",
    "    \n",
    "        optimizer.zero_grad()\n",
    "        outputs = model(inputs)\n",
    "\n",
    "        loss = loss_fn(outputs, labels)\n",
    "        loss.backward()\n",
    "        optimizer.step()\n",
    "        running_train_loss += loss.item()\n",
    "\n",
    "    scheduler.step()\n",
    "\n",
    "    train_loss = running_train_loss / len(train_loader)\n",
    "    train_losses.append(train_loss)\n",
    "\n",
    "    _, predicted = torch.max(outputs.data, 1)\n",
    "\n",
    "    acc = accuracy_score(labels.cpu().detach().numpy(), predicted.cpu().detach().numpy())\n",
    "    train_acc.append(acc)\n",
    "\n",
    "    print(f\"Época {epoch + 1}/{num_epoch} - Perda no treinamento: {train_loss:.6f} - Acurácia: {acc:.4f} - LR: {scheduler.get_last_lr()[0]}\")\n",
    "\n",
    "training_time = time.time() - training_start_time\n",
    "print(f\"\\nTempo total de treinamento: {training_time:.2f} segundos\")"
   ]
  },
  {
   "cell_type": "code",
   "execution_count": 14,
   "id": "0041d957-3264-4d9e-94bc-7d4eb1ac6000",
   "metadata": {},
   "outputs": [
    {
     "data": {
      "text/plain": [
       "Text(0.5, 0.98, 'Treinamento')"
      ]
     },
     "execution_count": 14,
     "metadata": {},
     "output_type": "execute_result"
    },
    {
     "data": {
      "image/png": "[encoded data removed]",
      "text/plain": [
       "<Figure size 1200x500 with 2 Axes>"
      ]
     },
     "metadata": {},
     "output_type": "display_data"
    }
   ],
   "source": [
    "epochs = range(1, num_epoch + 1)\n",
    "\n",
    "plt.figure(figsize=(12, 5))\n",
    "\n",
    "plt.subplot(1, 2, 1)\n",
    "plt.plot(epochs, train_losses, 'bo-')\n",
    "plt.xlabel('Épocas')\n",
    "plt.ylabel('Perda')\n",
    "\n",
    "plt.subplot(1, 2, 2)\n",
    "plt.plot(epochs, train_acc, 'ro-')\n",
    "plt.xlabel('Épocas')\n",
    "plt.ylabel('Acurácia')\n",
    "\n",
    "plt.suptitle(\"Treinamento\", fontsize = 20)"
   ]
  },
  {
   "cell_type": "code",
   "execution_count": 15,
   "id": "d488edcf-2fa7-4adc-b9ea-58111d5b250c",
   "metadata": {},
   "outputs": [
    {
     "name": "stdout",
     "output_type": "stream",
     "text": [
      "!!!Teste finalizado!!!\n"
     ]
    }
   ],
   "source": [
    "rot_array = []\n",
    "predt_array = []\n",
    "\n",
    "model.eval()\n",
    "    \n",
    "with torch.no_grad():\n",
    "        \n",
    "    for images, labels in test_loader:\n",
    "        images = images.to(device)\n",
    "        labels = labels.to(device)\n",
    "        \n",
    "        outputs = model(images)\n",
    "        _, predicted = torch.max(outputs.data, 1)\n",
    "\n",
    "        rot_array.extend(labels.cpu().detach().numpy())\n",
    "        predt_array.extend(predicted.cpu().detach().numpy())\n",
    "\n",
    "print(\"!!!Teste finalizado!!!\")"
   ]
  },
  {
   "cell_type": "markdown",
   "id": "db5d7bfa-3d44-4194-b113-d5721c9f140e",
   "metadata": {},
   "source": [
    "# <center>Métricas de avaliação</center>"
   ]
  },
  {
   "cell_type": "code",
   "execution_count": 16,
   "id": "628e9ecc-ce7e-4983-8926-4efccfceb59f",
   "metadata": {},
   "outputs": [
    {
     "data": {
      "image/png": "[encoded data removed]",
      "text/plain": [
       "<Figure size 640x480 with 2 Axes>"
      ]
     },
     "metadata": {},
     "output_type": "display_data"
    }
   ],
   "source": [
    "cm = confusion_matrix(rot_array, predt_array)\n",
    "\n",
    "disp = ConfusionMatrixDisplay(confusion_matrix=cm, display_labels=['Normal', 'Pneumonia', 'Tuberculose'])\n",
    "disp.plot(cmap=plt.cm.Blues)\n",
    "\n",
    "plt.xlabel('Rótulo previsto')\n",
    "plt.ylabel('Rótulo verdadeiro')\n",
    "plt.show()"
   ]
  },
  {
   "cell_type": "code",
   "execution_count": 17,
   "id": "8fbd9294-a1a3-4f3e-aaf6-73261fda3b87",
   "metadata": {},
   "outputs": [
    {
     "name": "stdout",
     "output_type": "stream",
     "text": [
      "Acurácia: 88.33%\n"
     ]
    }
   ],
   "source": [
    "acc = accuracy_score(rot_array, predt_array)\n",
    "print(f\"Acurácia: {acc * 100 :.2f}%\")"
   ]
  },
  {
   "cell_type": "code",
   "execution_count": 18,
   "id": "351feaf8-0fc9-47b7-b1d0-ff121ff5029c",
   "metadata": {},
   "outputs": [
    {
     "name": "stdout",
     "output_type": "stream",
     "text": [
      "Precisão: 88.36%\n"
     ]
    }
   ],
   "source": [
    "precision = precision_score(rot_array, predt_array, average='weighted')\n",
    "print(f\"Precisão: {precision * 100 :.2f}%\")"
   ]
  },
  {
   "cell_type": "code",
   "execution_count": 19,
   "id": "42782efb-0e53-4de5-b39e-9f89f999ad6c",
   "metadata": {},
   "outputs": [
    {
     "name": "stdout",
     "output_type": "stream",
     "text": [
      "Recall: 88.33%\n"
     ]
    }
   ],
   "source": [
    "recall = recall_score(rot_array, predt_array, average='weighted')\n",
    "print(f\"Recall: {recall * 100 :.2f}%\")"
   ]
  },
  {
   "cell_type": "code",
   "execution_count": 20,
   "id": "846cd0eb-a7b5-4794-acad-0e66d05ee3ce",
   "metadata": {},
   "outputs": [
    {
     "name": "stdout",
     "output_type": "stream",
     "text": [
      "F1 Score: 88.32%\n"
     ]
    }
   ],
   "source": [
    "f1 = f1_score(rot_array, predt_array, average='weighted')\n",
    "print(f\"F1 Score: {f1 * 100 :.2f}%\")"
   ]
  }
 ],
 "metadata": {
  "kernelspec": {
   "display_name": "Python 3 (ipykernel)",
   "language": "python",
   "name": "python3"
  },
  "language_info": {
   "codemirror_mode": {
    "name": "ipython",
    "version": 3
   },
   "file_extension": ".py",
   "mimetype": "text/x-python",
   "name": "python",
   "nbconvert_exporter": "python",
   "pygments_lexer": "ipython3",
   "version": "3.12.8"
  }
 },
 "nbformat": 4,
 "nbformat_minor": 5
}
