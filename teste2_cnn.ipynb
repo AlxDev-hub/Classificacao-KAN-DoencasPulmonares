{
 "cells": [
  {
   "cell_type": "code",
   "execution_count": 1,
   "id": "a77bd366-35d9-4e91-82ee-e8e0396d3e85",
   "metadata": {},
   "outputs": [],
   "source": [
    "import time\n",
    "import numpy as np\n",
    "import matplotlib.pyplot as plt\n",
    "\n",
    "import torch\n",
    "import torch.nn as nn\n",
    "import torch.optim as optim\n",
    "from torchvision import datasets, transforms\n",
    "from torch.utils.data import DataLoader, random_split\n",
    "\n",
    "from sklearn.metrics import *"
   ]
  },
  {
   "cell_type": "markdown",
   "id": "f999a09d-3bcc-4162-9d21-919ce24d6421",
   "metadata": {},
   "source": [
    "# <center>Pré-processamento dos dados</center>"
   ]
  },
  {
   "cell_type": "code",
   "execution_count": 2,
   "id": "69719f5f-2a25-47fb-8f9b-d7e422b86e84",
   "metadata": {},
   "outputs": [],
   "source": [
    "dataset_path = 'dataset_teste2'"
   ]
  },
  {
   "cell_type": "code",
   "execution_count": 3,
   "id": "c4a49511",
   "metadata": {},
   "outputs": [],
   "source": [
    "transform_dataset = transforms.Compose(\n",
    "    [transforms.Resize(size = (224,224)),\n",
    "     transforms.RandomRotation(degrees=10),\n",
    "     transforms.RandomAffine(degrees=0, translate=(0.1, 0.1), scale=(0.9, 1.1), shear=10),\n",
    "     transforms.ColorJitter(brightness=0.2, contrast=0.2, saturation=0.1, hue=0.1),\n",
    "     transforms.ToTensor(),\n",
    "     transforms.Lambda(lambda x: torch.clamp(x + torch.randn_like(x) * 0.05, 0., 1.)),\n",
    "     transforms.Normalize(mean=[0.5], std=[0.5])\n",
    "    ]\n",
    ")"
   ]
  },
  {
   "cell_type": "code",
   "execution_count": 4,
   "id": "d13c3df3-9d9d-4663-92c2-b840e87ce7c4",
   "metadata": {},
   "outputs": [],
   "source": [
    "dataset = datasets.ImageFolder(dataset_path, transform = transform_dataset)"
   ]
  },
  {
   "cell_type": "code",
   "execution_count": 5,
   "id": "4422f07c",
   "metadata": {},
   "outputs": [
    {
     "name": "stdout",
     "output_type": "stream",
     "text": [
      "Informações sobre o Dataset: \n",
      "\n",
      " Dataset ImageFolder\n",
      "    Number of datapoints: 1000\n",
      "    Root location: dataset_teste2\n",
      "    StandardTransform\n",
      "Transform: Compose(\n",
      "               Resize(size=(224, 224), interpolation=bilinear, max_size=None, antialias=True)\n",
      "               RandomRotation(degrees=[-10.0, 10.0], interpolation=nearest, expand=False, fill=0)\n",
      "               RandomAffine(degrees=[0.0, 0.0], translate=(0.1, 0.1), scale=(0.9, 1.1), shear=[-10.0, 10.0])\n",
      "               ColorJitter(brightness=(0.8, 1.2), contrast=(0.8, 1.2), saturation=(0.9, 1.1), hue=(-0.1, 0.1))\n",
      "               ToTensor()\n",
      "               Lambda()\n",
      "               Normalize(mean=[0.5], std=[0.5])\n",
      "           )\n",
      "\n",
      "Rótulos:  {'NORMAL': 0, 'PNEUMONIA': 1, 'TUBERCULOSE': 2}\n"
     ]
    }
   ],
   "source": [
    "print(\"Informações sobre o Dataset: \\n\\n\", dataset)\n",
    "print(\"\\nRótulos: \", dataset.class_to_idx)"
   ]
  },
  {
   "cell_type": "code",
   "execution_count": 6,
   "id": "633ad56f-f28d-4664-8588-c797f40bd4f4",
   "metadata": {},
   "outputs": [],
   "source": [
    "train_size = int(0.7 * len(dataset))\n",
    "test_size = len(dataset) - train_size\n",
    "\n",
    "train_dataset, test_dataset = random_split(dataset, [train_size, test_size])"
   ]
  },
  {
   "cell_type": "code",
   "execution_count": 7,
   "id": "ca463df2-b9a0-42dd-ba6f-380c640f682b",
   "metadata": {},
   "outputs": [],
   "source": [
    "train_loader = DataLoader(train_dataset, batch_size=16, shuffle=True)\n",
    "test_loader = DataLoader(test_dataset, batch_size=16, shuffle=False)"
   ]
  },
  {
   "cell_type": "markdown",
   "id": "7bf3038a-8d82-45ab-94a3-f11406160a86",
   "metadata": {},
   "source": [
    "# <center>Implementação da arquitetura CNN</center>"
   ]
  },
  {
   "cell_type": "code",
   "execution_count": 8,
   "id": "5118d0d6-aaf5-4cbe-88a2-399d77684108",
   "metadata": {},
   "outputs": [
    {
     "name": "stdout",
     "output_type": "stream",
     "text": [
      "Dispositivo utilizado: cuda\n"
     ]
    }
   ],
   "source": [
    "model = nn.Sequential(\n",
    "    nn.Conv2d(3, 32, kernel_size=3, stride=1, padding=1),\n",
    "    nn.BatchNorm2d(32),\n",
    "    nn.ReLU(),\n",
    "    nn.MaxPool2d(kernel_size=2, stride=2, padding=0),\n",
    "    \n",
    "    nn.Conv2d(32, 64, kernel_size=3, stride=1, padding=1),\n",
    "    nn.BatchNorm2d(64),\n",
    "    nn.ReLU(),\n",
    "    nn.MaxPool2d(kernel_size=2, stride=2, padding=0),\n",
    "    \n",
    "    nn.Conv2d(64, 128, kernel_size=3, stride=1, padding=1),\n",
    "    nn.BatchNorm2d(128),\n",
    "    nn.ReLU(),\n",
    "    nn.MaxPool2d(kernel_size=2, stride=2, padding=0),\n",
    "    \n",
    "    nn.Flatten(),\n",
    "    \n",
    "    nn.Linear(128 * 28 * 28, 256),\n",
    "    nn.Dropout(p=0.3),\n",
    "    nn.ReLU(),\n",
    "\n",
    "    nn.Linear(256, 128),\n",
    "    nn.Dropout(p=0.3),\n",
    "    nn.ReLU(),\n",
    "    \n",
    "    nn.Linear(128, 64),\n",
    "    nn.Dropout(p=0.3),\n",
    "    nn.ReLU(),\n",
    "    \n",
    "    nn.Linear(64, 3)\n",
    ")\n",
    "\n",
    "device = torch.device(\"cuda\" if torch.cuda.is_available() else \"cpu\")\n",
    "print(f\"Dispositivo utilizado: {device}\")"
   ]
  },
  {
   "cell_type": "code",
   "execution_count": 9,
   "id": "4c273480-2d7c-4e82-93b5-cc5b02de3e82",
   "metadata": {},
   "outputs": [
    {
     "data": {
      "text/plain": [
       "Sequential(\n",
       "  (0): Conv2d(3, 32, kernel_size=(3, 3), stride=(1, 1), padding=(1, 1))\n",
       "  (1): BatchNorm2d(32, eps=1e-05, momentum=0.1, affine=True, track_running_stats=True)\n",
       "  (2): ReLU()\n",
       "  (3): MaxPool2d(kernel_size=2, stride=2, padding=0, dilation=1, ceil_mode=False)\n",
       "  (4): Conv2d(32, 64, kernel_size=(3, 3), stride=(1, 1), padding=(1, 1))\n",
       "  (5): BatchNorm2d(64, eps=1e-05, momentum=0.1, affine=True, track_running_stats=True)\n",
       "  (6): ReLU()\n",
       "  (7): MaxPool2d(kernel_size=2, stride=2, padding=0, dilation=1, ceil_mode=False)\n",
       "  (8): Conv2d(64, 128, kernel_size=(3, 3), stride=(1, 1), padding=(1, 1))\n",
       "  (9): BatchNorm2d(128, eps=1e-05, momentum=0.1, affine=True, track_running_stats=True)\n",
       "  (10): ReLU()\n",
       "  (11): MaxPool2d(kernel_size=2, stride=2, padding=0, dilation=1, ceil_mode=False)\n",
       "  (12): Flatten(start_dim=1, end_dim=-1)\n",
       "  (13): Linear(in_features=100352, out_features=256, bias=True)\n",
       "  (14): Dropout(p=0.3, inplace=False)\n",
       "  (15): ReLU()\n",
       "  (16): Linear(in_features=256, out_features=128, bias=True)\n",
       "  (17): Dropout(p=0.3, inplace=False)\n",
       "  (18): ReLU()\n",
       "  (19): Linear(in_features=128, out_features=64, bias=True)\n",
       "  (20): Dropout(p=0.3, inplace=False)\n",
       "  (21): ReLU()\n",
       "  (22): Linear(in_features=64, out_features=3, bias=True)\n",
       ")"
      ]
     },
     "execution_count": 9,
     "metadata": {},
     "output_type": "execute_result"
    }
   ],
   "source": [
    "model.to(device)"
   ]
  },
  {
   "cell_type": "code",
   "execution_count": 10,
   "id": "7852f30f-76af-4d58-89bb-6fb14936b060",
   "metadata": {},
   "outputs": [],
   "source": [
    "num_epoch = 250\n",
    "learning_rate = 0.01\n",
    "optimizer = optim.Adam(model.parameters(), lr=learning_rate)\n",
    "loss_fn = nn.CrossEntropyLoss()"
   ]
  },
  {
   "cell_type": "code",
   "execution_count": 11,
   "id": "687f4e6b-98ff-4199-b293-72274969f197",
   "metadata": {
    "scrolled": true
   },
   "outputs": [
    {
     "name": "stdout",
     "output_type": "stream",
     "text": [
      "Época 1/250 - Perda no treinamento: 10.759992 - Acurácia: 0.5833\n",
      "Época 2/250 - Perda no treinamento: 1.194933 - Acurácia: 0.3333\n",
      "Época 3/250 - Perda no treinamento: 1.120319 - Acurácia: 0.3333\n",
      "Época 4/250 - Perda no treinamento: 1.124941 - Acurácia: 0.2500\n",
      "Época 5/250 - Perda no treinamento: 1.100805 - Acurácia: 0.5000\n",
      "Época 6/250 - Perda no treinamento: 1.108639 - Acurácia: 0.2500\n",
      "Época 7/250 - Perda no treinamento: 1.097688 - Acurácia: 0.4167\n",
      "Época 8/250 - Perda no treinamento: 1.103981 - Acurácia: 0.3333\n",
      "Época 9/250 - Perda no treinamento: 1.100197 - Acurácia: 0.4167\n",
      "Época 10/250 - Perda no treinamento: 1.100445 - Acurácia: 0.5833\n",
      "Época 11/250 - Perda no treinamento: 1.099631 - Acurácia: 0.3333\n",
      "Época 12/250 - Perda no treinamento: 1.102351 - Acurácia: 0.5833\n",
      "Época 13/250 - Perda no treinamento: 1.099099 - Acurácia: 0.3333\n",
      "Época 14/250 - Perda no treinamento: 1.099237 - Acurácia: 0.2500\n",
      "Época 15/250 - Perda no treinamento: 1.102864 - Acurácia: 0.3333\n",
      "Época 16/250 - Perda no treinamento: 1.098021 - Acurácia: 0.0833\n",
      "Época 17/250 - Perda no treinamento: 1.100389 - Acurácia: 0.1667\n",
      "Época 18/250 - Perda no treinamento: 1.100415 - Acurácia: 0.2500\n",
      "Época 19/250 - Perda no treinamento: 1.100099 - Acurácia: 0.1667\n",
      "Época 20/250 - Perda no treinamento: 1.098219 - Acurácia: 0.3333\n",
      "Época 21/250 - Perda no treinamento: 1.102365 - Acurácia: 0.3333\n",
      "Época 22/250 - Perda no treinamento: 1.099357 - Acurácia: 0.3333\n",
      "Época 23/250 - Perda no treinamento: 1.098777 - Acurácia: 0.3333\n",
      "Época 24/250 - Perda no treinamento: 1.099099 - Acurácia: 0.5000\n",
      "Época 25/250 - Perda no treinamento: 1.099340 - Acurácia: 0.1667\n",
      "Época 26/250 - Perda no treinamento: 1.098582 - Acurácia: 0.2500\n",
      "Época 27/250 - Perda no treinamento: 1.102528 - Acurácia: 0.4167\n",
      "Época 28/250 - Perda no treinamento: 1.098879 - Acurácia: 0.3333\n",
      "Época 29/250 - Perda no treinamento: 1.109698 - Acurácia: 0.4167\n",
      "Época 30/250 - Perda no treinamento: 1.098543 - Acurácia: 0.2500\n",
      "Época 31/250 - Perda no treinamento: 1.128040 - Acurácia: 0.1667\n",
      "Época 32/250 - Perda no treinamento: 1.119634 - Acurácia: 0.3333\n",
      "Época 33/250 - Perda no treinamento: 1.121738 - Acurácia: 0.4167\n",
      "Época 34/250 - Perda no treinamento: 1.116708 - Acurácia: 0.4167\n",
      "Época 35/250 - Perda no treinamento: 1.098404 - Acurácia: 0.5000\n",
      "Época 36/250 - Perda no treinamento: 1.101424 - Acurácia: 0.2500\n",
      "Época 37/250 - Perda no treinamento: 1.099477 - Acurácia: 0.1667\n",
      "Época 38/250 - Perda no treinamento: 1.099041 - Acurácia: 0.5000\n",
      "Época 39/250 - Perda no treinamento: 1.100454 - Acurácia: 0.3333\n",
      "Época 40/250 - Perda no treinamento: 1.105578 - Acurácia: 0.1667\n",
      "Época 41/250 - Perda no treinamento: 1.100607 - Acurácia: 0.4167\n",
      "Época 42/250 - Perda no treinamento: 1.099306 - Acurácia: 0.2500\n",
      "Época 43/250 - Perda no treinamento: 1.098517 - Acurácia: 0.5000\n",
      "Época 44/250 - Perda no treinamento: 1.098710 - Acurácia: 0.6667\n",
      "Época 45/250 - Perda no treinamento: 1.098524 - Acurácia: 0.5000\n",
      "Época 46/250 - Perda no treinamento: 1.099018 - Acurácia: 0.3333\n",
      "Época 47/250 - Perda no treinamento: 1.098789 - Acurácia: 0.2500\n",
      "Época 48/250 - Perda no treinamento: 1.098523 - Acurácia: 0.2500\n",
      "Época 49/250 - Perda no treinamento: 1.099241 - Acurácia: 0.3333\n",
      "Época 50/250 - Perda no treinamento: 1.102203 - Acurácia: 0.2500\n",
      "Época 51/250 - Perda no treinamento: 1.101072 - Acurácia: 0.4167\n",
      "Época 52/250 - Perda no treinamento: 1.098518 - Acurácia: 0.0833\n",
      "Época 53/250 - Perda no treinamento: 1.098385 - Acurácia: 0.4167\n",
      "Época 54/250 - Perda no treinamento: 1.098665 - Acurácia: 0.4167\n",
      "Época 55/250 - Perda no treinamento: 1.098919 - Acurácia: 0.1667\n",
      "Época 56/250 - Perda no treinamento: 1.099221 - Acurácia: 0.3333\n",
      "Época 57/250 - Perda no treinamento: 1.099248 - Acurácia: 0.1667\n",
      "Época 58/250 - Perda no treinamento: 1.099211 - Acurácia: 0.2500\n",
      "Época 59/250 - Perda no treinamento: 1.099654 - Acurácia: 0.5000\n",
      "Época 60/250 - Perda no treinamento: 1.099918 - Acurácia: 0.2500\n",
      "Época 61/250 - Perda no treinamento: 1.098746 - Acurácia: 0.4167\n",
      "Época 62/250 - Perda no treinamento: 1.099215 - Acurácia: 0.2500\n",
      "Época 63/250 - Perda no treinamento: 1.099158 - Acurácia: 0.4167\n",
      "Época 64/250 - Perda no treinamento: 1.098400 - Acurácia: 0.3333\n",
      "Época 65/250 - Perda no treinamento: 1.098352 - Acurácia: 0.3333\n",
      "Época 66/250 - Perda no treinamento: 1.098495 - Acurácia: 0.4167\n",
      "Época 67/250 - Perda no treinamento: 1.098694 - Acurácia: 0.4167\n",
      "Época 68/250 - Perda no treinamento: 1.098621 - Acurácia: 0.5000\n",
      "Época 69/250 - Perda no treinamento: 1.098990 - Acurácia: 0.5000\n",
      "Época 70/250 - Perda no treinamento: 1.099345 - Acurácia: 0.1667\n",
      "Época 71/250 - Perda no treinamento: 1.098890 - Acurácia: 0.2500\n",
      "Época 72/250 - Perda no treinamento: 1.098561 - Acurácia: 0.5000\n",
      "Época 73/250 - Perda no treinamento: 1.098471 - Acurácia: 0.3333\n",
      "Época 74/250 - Perda no treinamento: 1.098589 - Acurácia: 0.1667\n",
      "Época 75/250 - Perda no treinamento: 1.098454 - Acurácia: 0.2500\n",
      "Época 76/250 - Perda no treinamento: 1.098792 - Acurácia: 0.4167\n",
      "Época 77/250 - Perda no treinamento: 1.098946 - Acurácia: 0.0833\n",
      "Época 78/250 - Perda no treinamento: 1.098279 - Acurácia: 0.3333\n",
      "Época 79/250 - Perda no treinamento: 1.099641 - Acurácia: 0.3333\n",
      "Época 80/250 - Perda no treinamento: 1.099401 - Acurácia: 0.5000\n",
      "Época 81/250 - Perda no treinamento: 1.098552 - Acurácia: 0.2500\n",
      "Época 82/250 - Perda no treinamento: 1.098978 - Acurácia: 0.3333\n",
      "Época 83/250 - Perda no treinamento: 1.098960 - Acurácia: 0.4167\n",
      "Época 84/250 - Perda no treinamento: 1.099322 - Acurácia: 0.3333\n",
      "Época 85/250 - Perda no treinamento: 1.098926 - Acurácia: 0.0833\n",
      "Época 86/250 - Perda no treinamento: 1.098456 - Acurácia: 0.1667\n",
      "Época 87/250 - Perda no treinamento: 1.098668 - Acurácia: 0.5833\n",
      "Época 88/250 - Perda no treinamento: 1.099210 - Acurácia: 0.5000\n",
      "Época 89/250 - Perda no treinamento: 1.099131 - Acurácia: 0.5833\n",
      "Época 90/250 - Perda no treinamento: 1.098518 - Acurácia: 0.2500\n",
      "Época 91/250 - Perda no treinamento: 1.107364 - Acurácia: 0.4167\n",
      "Época 92/250 - Perda no treinamento: 1.098778 - Acurácia: 0.5833\n",
      "Época 93/250 - Perda no treinamento: 1.269591 - Acurácia: 0.4167\n",
      "Época 94/250 - Perda no treinamento: 1.330990 - Acurácia: 0.5000\n",
      "Época 95/250 - Perda no treinamento: 1.124638 - Acurácia: 0.4167\n",
      "Época 96/250 - Perda no treinamento: 1.099312 - Acurácia: 0.5000\n",
      "Época 97/250 - Perda no treinamento: 1.101058 - Acurácia: 0.1667\n",
      "Época 98/250 - Perda no treinamento: 1.098751 - Acurácia: 0.5000\n",
      "Época 99/250 - Perda no treinamento: 1.099017 - Acurácia: 0.5833\n",
      "Época 100/250 - Perda no treinamento: 1.098804 - Acurácia: 0.3333\n",
      "Época 101/250 - Perda no treinamento: 1.098663 - Acurácia: 0.5833\n",
      "Época 102/250 - Perda no treinamento: 1.098984 - Acurácia: 0.5833\n",
      "Época 103/250 - Perda no treinamento: 1.098666 - Acurácia: 0.4167\n",
      "Época 104/250 - Perda no treinamento: 1.098590 - Acurácia: 0.3333\n",
      "Época 105/250 - Perda no treinamento: 1.098889 - Acurácia: 0.2500\n",
      "Época 106/250 - Perda no treinamento: 1.099667 - Acurácia: 0.1667\n",
      "Época 107/250 - Perda no treinamento: 1.099053 - Acurácia: 0.0833\n",
      "Época 108/250 - Perda no treinamento: 1.098799 - Acurácia: 0.2500\n",
      "Época 109/250 - Perda no treinamento: 1.098308 - Acurácia: 0.4167\n",
      "Época 110/250 - Perda no treinamento: 1.098346 - Acurácia: 0.4167\n",
      "Época 111/250 - Perda no treinamento: 1.098472 - Acurácia: 0.5833\n",
      "Época 112/250 - Perda no treinamento: 1.099132 - Acurácia: 0.3333\n",
      "Época 113/250 - Perda no treinamento: 1.098323 - Acurácia: 0.2500\n",
      "Época 114/250 - Perda no treinamento: 1.100289 - Acurácia: 0.1667\n",
      "Época 115/250 - Perda no treinamento: 1.098577 - Acurácia: 0.4167\n",
      "Época 116/250 - Perda no treinamento: 1.099457 - Acurácia: 0.2500\n",
      "Época 117/250 - Perda no treinamento: 1.098685 - Acurácia: 0.2500\n",
      "Época 118/250 - Perda no treinamento: 1.099821 - Acurácia: 0.4167\n",
      "Época 119/250 - Perda no treinamento: 1.098456 - Acurácia: 0.4167\n",
      "Época 120/250 - Perda no treinamento: 1.098884 - Acurácia: 0.6667\n",
      "Época 121/250 - Perda no treinamento: 1.098925 - Acurácia: 0.3333\n",
      "Época 122/250 - Perda no treinamento: 1.098506 - Acurácia: 0.3333\n",
      "Época 123/250 - Perda no treinamento: 1.099447 - Acurácia: 0.2500\n",
      "Época 124/250 - Perda no treinamento: 1.100220 - Acurácia: 0.5000\n",
      "Época 125/250 - Perda no treinamento: 1.099020 - Acurácia: 0.3333\n",
      "Época 126/250 - Perda no treinamento: 1.098838 - Acurácia: 0.2500\n",
      "Época 127/250 - Perda no treinamento: 1.098572 - Acurácia: 0.4167\n",
      "Época 128/250 - Perda no treinamento: 1.099242 - Acurácia: 0.3333\n",
      "Época 129/250 - Perda no treinamento: 1.098421 - Acurácia: 0.4167\n",
      "Época 130/250 - Perda no treinamento: 1.098363 - Acurácia: 0.3333\n",
      "Época 131/250 - Perda no treinamento: 1.098737 - Acurácia: 0.1667\n",
      "Época 132/250 - Perda no treinamento: 1.098579 - Acurácia: 0.3333\n",
      "Época 133/250 - Perda no treinamento: 1.099520 - Acurácia: 0.0833\n",
      "Época 134/250 - Perda no treinamento: 1.099062 - Acurácia: 0.1667\n",
      "Época 135/250 - Perda no treinamento: 1.099258 - Acurácia: 0.3333\n",
      "Época 136/250 - Perda no treinamento: 1.099193 - Acurácia: 0.1667\n",
      "Época 137/250 - Perda no treinamento: 1.098341 - Acurácia: 0.2500\n",
      "Época 138/250 - Perda no treinamento: 1.098479 - Acurácia: 0.1667\n",
      "Época 139/250 - Perda no treinamento: 1.098533 - Acurácia: 0.3333\n",
      "Época 140/250 - Perda no treinamento: 1.098966 - Acurácia: 0.3333\n",
      "Época 141/250 - Perda no treinamento: 1.098705 - Acurácia: 0.2500\n",
      "Época 142/250 - Perda no treinamento: 1.099093 - Acurácia: 0.4167\n",
      "Época 143/250 - Perda no treinamento: 1.098812 - Acurácia: 0.4167\n",
      "Época 144/250 - Perda no treinamento: 1.098401 - Acurácia: 0.2500\n",
      "Época 145/250 - Perda no treinamento: 1.099124 - Acurácia: 0.5000\n",
      "Época 146/250 - Perda no treinamento: 1.098747 - Acurácia: 0.4167\n",
      "Época 147/250 - Perda no treinamento: 1.098654 - Acurácia: 0.5000\n",
      "Época 148/250 - Perda no treinamento: 1.100447 - Acurácia: 0.2500\n",
      "Época 149/250 - Perda no treinamento: 1.098709 - Acurácia: 0.4167\n",
      "Época 150/250 - Perda no treinamento: 1.099554 - Acurácia: 0.3333\n",
      "Época 151/250 - Perda no treinamento: 1.098704 - Acurácia: 0.4167\n",
      "Época 152/250 - Perda no treinamento: 1.098936 - Acurácia: 0.3333\n",
      "Época 153/250 - Perda no treinamento: 1.100527 - Acurácia: 0.3333\n",
      "Época 154/250 - Perda no treinamento: 1.098647 - Acurácia: 0.1667\n",
      "Época 155/250 - Perda no treinamento: 1.099048 - Acurácia: 0.3333\n",
      "Época 156/250 - Perda no treinamento: 1.098635 - Acurácia: 0.2500\n",
      "Época 157/250 - Perda no treinamento: 1.099138 - Acurácia: 0.2500\n",
      "Época 158/250 - Perda no treinamento: 1.098759 - Acurácia: 0.2500\n",
      "Época 159/250 - Perda no treinamento: 1.098647 - Acurácia: 0.4167\n",
      "Época 160/250 - Perda no treinamento: 1.098657 - Acurácia: 0.0833\n",
      "Época 161/250 - Perda no treinamento: 1.098840 - Acurácia: 0.4167\n",
      "Época 162/250 - Perda no treinamento: 1.099569 - Acurácia: 0.3333\n",
      "Época 163/250 - Perda no treinamento: 1.098865 - Acurácia: 0.3333\n",
      "Época 164/250 - Perda no treinamento: 1.098766 - Acurácia: 0.3333\n",
      "Época 165/250 - Perda no treinamento: 1.098797 - Acurácia: 0.5833\n",
      "Época 166/250 - Perda no treinamento: 1.099457 - Acurácia: 0.3333\n",
      "Época 167/250 - Perda no treinamento: 1.098743 - Acurácia: 0.4167\n",
      "Época 168/250 - Perda no treinamento: 1.098968 - Acurácia: 0.5000\n",
      "Época 169/250 - Perda no treinamento: 1.098930 - Acurácia: 0.2500\n",
      "Época 170/250 - Perda no treinamento: 1.098970 - Acurácia: 0.1667\n",
      "Época 171/250 - Perda no treinamento: 1.099094 - Acurácia: 0.2500\n",
      "Época 172/250 - Perda no treinamento: 1.098966 - Acurácia: 0.2500\n",
      "Época 173/250 - Perda no treinamento: 1.098886 - Acurácia: 0.7500\n",
      "Época 174/250 - Perda no treinamento: 1.098752 - Acurácia: 0.1667\n",
      "Época 175/250 - Perda no treinamento: 1.099486 - Acurácia: 0.2500\n",
      "Época 176/250 - Perda no treinamento: 1.098585 - Acurácia: 0.5000\n",
      "Época 177/250 - Perda no treinamento: 1.100047 - Acurácia: 0.4167\n",
      "Época 178/250 - Perda no treinamento: 1.099075 - Acurácia: 0.5000\n",
      "Época 179/250 - Perda no treinamento: 1.099786 - Acurácia: 0.5000\n",
      "Época 180/250 - Perda no treinamento: 1.098557 - Acurácia: 0.0833\n",
      "Época 181/250 - Perda no treinamento: 1.099443 - Acurácia: 0.0000\n",
      "Época 182/250 - Perda no treinamento: 1.098733 - Acurácia: 0.2500\n",
      "Época 183/250 - Perda no treinamento: 1.098887 - Acurácia: 0.2500\n",
      "Época 184/250 - Perda no treinamento: 1.099539 - Acurácia: 0.0833\n",
      "Época 185/250 - Perda no treinamento: 1.099228 - Acurácia: 0.3333\n",
      "Época 186/250 - Perda no treinamento: 1.099650 - Acurácia: 0.0833\n",
      "Época 187/250 - Perda no treinamento: 1.104061 - Acurácia: 0.3333\n",
      "Época 188/250 - Perda no treinamento: 1.099270 - Acurácia: 0.1667\n",
      "Época 189/250 - Perda no treinamento: 1.098708 - Acurácia: 0.2500\n",
      "Época 190/250 - Perda no treinamento: 1.098178 - Acurácia: 0.0833\n",
      "Época 191/250 - Perda no treinamento: 1.099151 - Acurácia: 0.2500\n",
      "Época 192/250 - Perda no treinamento: 1.098656 - Acurácia: 0.3333\n",
      "Época 193/250 - Perda no treinamento: 1.099189 - Acurácia: 0.5833\n",
      "Época 194/250 - Perda no treinamento: 1.098751 - Acurácia: 0.3333\n",
      "Época 195/250 - Perda no treinamento: 1.098501 - Acurácia: 0.1667\n",
      "Época 196/250 - Perda no treinamento: 1.098400 - Acurácia: 0.2500\n",
      "Época 197/250 - Perda no treinamento: 1.098592 - Acurácia: 0.3333\n",
      "Época 198/250 - Perda no treinamento: 1.098914 - Acurácia: 0.1667\n",
      "Época 199/250 - Perda no treinamento: 1.098823 - Acurácia: 0.2500\n",
      "Época 200/250 - Perda no treinamento: 1.098798 - Acurácia: 0.2500\n",
      "Época 201/250 - Perda no treinamento: 1.098366 - Acurácia: 0.1667\n",
      "Época 202/250 - Perda no treinamento: 1.098766 - Acurácia: 0.3333\n",
      "Época 203/250 - Perda no treinamento: 1.098510 - Acurácia: 0.4167\n",
      "Época 204/250 - Perda no treinamento: 1.098763 - Acurácia: 0.6667\n",
      "Época 205/250 - Perda no treinamento: 1.098356 - Acurácia: 0.4167\n",
      "Época 206/250 - Perda no treinamento: 1.099819 - Acurácia: 0.4167\n",
      "Época 207/250 - Perda no treinamento: 1.098475 - Acurácia: 0.3333\n",
      "Época 208/250 - Perda no treinamento: 1.098985 - Acurácia: 0.2500\n",
      "Época 209/250 - Perda no treinamento: 1.099242 - Acurácia: 0.5833\n",
      "Época 210/250 - Perda no treinamento: 1.099066 - Acurácia: 0.3333\n",
      "Época 211/250 - Perda no treinamento: 1.098141 - Acurácia: 0.2500\n",
      "Época 212/250 - Perda no treinamento: 1.099077 - Acurácia: 0.3333\n",
      "Época 213/250 - Perda no treinamento: 1.098694 - Acurácia: 0.2500\n",
      "Época 214/250 - Perda no treinamento: 1.099012 - Acurácia: 0.2500\n",
      "Época 215/250 - Perda no treinamento: 1.099074 - Acurácia: 0.3333\n",
      "Época 216/250 - Perda no treinamento: 1.098652 - Acurácia: 0.3333\n",
      "Época 217/250 - Perda no treinamento: 1.099865 - Acurácia: 0.0833\n",
      "Época 218/250 - Perda no treinamento: 1.098834 - Acurácia: 0.4167\n",
      "Época 219/250 - Perda no treinamento: 1.098776 - Acurácia: 0.1667\n",
      "Época 220/250 - Perda no treinamento: 1.098265 - Acurácia: 0.5000\n",
      "Época 221/250 - Perda no treinamento: 1.099379 - Acurácia: 0.3333\n",
      "Época 222/250 - Perda no treinamento: 1.100049 - Acurácia: 0.0833\n",
      "Época 223/250 - Perda no treinamento: 1.099186 - Acurácia: 0.3333\n",
      "Época 224/250 - Perda no treinamento: 1.098776 - Acurácia: 0.4167\n",
      "Época 225/250 - Perda no treinamento: 1.099019 - Acurácia: 0.5000\n",
      "Época 226/250 - Perda no treinamento: 1.099200 - Acurácia: 0.4167\n",
      "Época 227/250 - Perda no treinamento: 1.098595 - Acurácia: 0.1667\n",
      "Época 228/250 - Perda no treinamento: 1.099305 - Acurácia: 0.1667\n",
      "Época 229/250 - Perda no treinamento: 1.098718 - Acurácia: 0.4167\n",
      "Época 230/250 - Perda no treinamento: 1.098384 - Acurácia: 0.4167\n",
      "Época 231/250 - Perda no treinamento: 1.098836 - Acurácia: 0.0833\n",
      "Época 232/250 - Perda no treinamento: 1.099526 - Acurácia: 0.0000\n",
      "Época 233/250 - Perda no treinamento: 1.098365 - Acurácia: 0.0833\n",
      "Época 234/250 - Perda no treinamento: 1.098815 - Acurácia: 0.2500\n",
      "Época 235/250 - Perda no treinamento: 1.098512 - Acurácia: 0.5000\n",
      "Época 236/250 - Perda no treinamento: 1.098697 - Acurácia: 0.3333\n",
      "Época 237/250 - Perda no treinamento: 1.099247 - Acurácia: 0.4167\n",
      "Época 238/250 - Perda no treinamento: 1.098578 - Acurácia: 0.5833\n",
      "Época 239/250 - Perda no treinamento: 1.098611 - Acurácia: 0.5000\n",
      "Época 240/250 - Perda no treinamento: 1.098559 - Acurácia: 0.1667\n",
      "Época 241/250 - Perda no treinamento: 1.098805 - Acurácia: 0.3333\n",
      "Época 242/250 - Perda no treinamento: 1.098811 - Acurácia: 0.5833\n",
      "Época 243/250 - Perda no treinamento: 1.098819 - Acurácia: 0.4167\n",
      "Época 244/250 - Perda no treinamento: 1.098934 - Acurácia: 0.3333\n",
      "Época 245/250 - Perda no treinamento: 1.100966 - Acurácia: 0.4167\n",
      "Época 246/250 - Perda no treinamento: 1.098323 - Acurácia: 0.5000\n",
      "Época 247/250 - Perda no treinamento: 1.099095 - Acurácia: 0.3333\n",
      "Época 248/250 - Perda no treinamento: 1.098595 - Acurácia: 0.5833\n",
      "Época 249/250 - Perda no treinamento: 1.098374 - Acurácia: 0.3333\n",
      "Época 250/250 - Perda no treinamento: 1.098056 - Acurácia: 0.4167\n",
      "\n",
      "Tempo total de treinamento: 4632.25 segundos\n"
     ]
    }
   ],
   "source": [
    "train_losses = []\n",
    "train_acc = []\n",
    "\n",
    "training_start_time = time.time()\n",
    "\n",
    "for epoch in range(num_epoch):\n",
    "    model.train()\n",
    "    running_train_loss = 0.0\n",
    "\n",
    "    for inputs, labels in train_loader:\n",
    "        inputs = inputs.to(device)\n",
    "        labels = labels.to(device)\n",
    "    \n",
    "        optimizer.zero_grad()\n",
    "        outputs = model(inputs)\n",
    "\n",
    "        loss = loss_fn(outputs, labels)\n",
    "        loss.backward()\n",
    "        optimizer.step()\n",
    "        running_train_loss += loss.item()\n",
    "\n",
    "    train_loss = running_train_loss / len(train_loader)\n",
    "    train_losses.append(train_loss)\n",
    "\n",
    "    _, predicted = torch.max(outputs.data, 1)\n",
    "\n",
    "    acc = accuracy_score(labels.cpu().detach().numpy(), predicted.cpu().detach().numpy())\n",
    "    train_acc.append(acc)\n",
    "\n",
    "    print(f\"Época {epoch + 1}/{num_epoch} - Perda no treinamento: {train_loss:.6f} - Acurácia: {acc:.4f}\")\n",
    "\n",
    "training_time = time.time() - training_start_time\n",
    "print(f\"\\nTempo total de treinamento: {training_time:.2f} segundos\")"
   ]
  },
  {
   "cell_type": "code",
   "execution_count": 12,
   "id": "0041d957-3264-4d9e-94bc-7d4eb1ac6000",
   "metadata": {},
   "outputs": [
    {
     "data": {
      "text/plain": [
       "Text(0.5, 0.98, 'Treinamento')"
      ]
     },
     "execution_count": 12,
     "metadata": {},
     "output_type": "execute_result"
    },
    {
     "data": {
      "image/png": "[encoded data removed]",
      "text/plain": [
       "<Figure size 1200x500 with 2 Axes>"
      ]
     },
     "metadata": {},
     "output_type": "display_data"
    }
   ],
   "source": [
    "epochs = range(1, num_epoch + 1)\n",
    "\n",
    "plt.figure(figsize=(12, 5))\n",
    "\n",
    "plt.subplot(1, 2, 1)\n",
    "plt.plot(epochs, train_losses, 'bo-')\n",
    "plt.xlabel('Épocas')\n",
    "plt.ylabel('Perda')\n",
    "\n",
    "plt.subplot(1, 2, 2)\n",
    "plt.plot(epochs, train_acc, 'ro-')\n",
    "plt.xlabel('Épocas')\n",
    "plt.ylabel('Acurácia')\n",
    "\n",
    "plt.suptitle(\"Treinamento\", fontsize = 20)"
   ]
  },
  {
   "cell_type": "code",
   "execution_count": 13,
   "id": "d488edcf-2fa7-4adc-b9ea-58111d5b250c",
   "metadata": {},
   "outputs": [
    {
     "name": "stdout",
     "output_type": "stream",
     "text": [
      "!!!Teste finalizado!!!\n"
     ]
    }
   ],
   "source": [
    "rot_array = []\n",
    "predt_array = []\n",
    "\n",
    "model.eval()\n",
    "    \n",
    "with torch.no_grad():\n",
    "        \n",
    "    for images, labels in test_loader:\n",
    "        images = images.to(device)\n",
    "        labels = labels.to(device)\n",
    "        \n",
    "        outputs = model(images)\n",
    "        _, predicted = torch.max(outputs.data, 1)\n",
    "\n",
    "        rot_array.extend(labels.cpu().detach().numpy())\n",
    "        predt_array.extend(predicted.cpu().detach().numpy())\n",
    "\n",
    "print(\"!!!Teste finalizado!!!\")"
   ]
  },
  {
   "cell_type": "markdown",
   "id": "db5d7bfa-3d44-4194-b113-d5721c9f140e",
   "metadata": {},
   "source": [
    "# <center>Métricas de avaliação</center>"
   ]
  },
  {
   "cell_type": "code",
   "execution_count": 14,
   "id": "628e9ecc-ce7e-4983-8926-4efccfceb59f",
   "metadata": {},
   "outputs": [
    {
     "data": {
      "image/png": "[encoded data removed]",
      "text/plain": [
       "<Figure size 640x480 with 2 Axes>"
      ]
     },
     "metadata": {},
     "output_type": "display_data"
    }
   ],
   "source": [
    "cm = confusion_matrix(rot_array, predt_array)\n",
    "\n",
    "disp = ConfusionMatrixDisplay(confusion_matrix=cm, display_labels=['Normal', 'Pneumonia', 'Tuberculose'])\n",
    "disp.plot(cmap=plt.cm.Blues)\n",
    "\n",
    "plt.xlabel('Rótulo previsto')\n",
    "plt.ylabel('Rótulo verdadeiro')\n",
    "plt.show()"
   ]
  },
  {
   "cell_type": "code",
   "execution_count": 15,
   "id": "8fbd9294-a1a3-4f3e-aaf6-73261fda3b87",
   "metadata": {},
   "outputs": [
    {
     "name": "stdout",
     "output_type": "stream",
     "text": [
      "Acurácia: 31.67%\n"
     ]
    }
   ],
   "source": [
    "acc = accuracy_score(rot_array, predt_array)\n",
    "print(f\"Acurácia: {acc * 100 :.2f}%\")"
   ]
  },
  {
   "cell_type": "code",
   "execution_count": 16,
   "id": "351feaf8-0fc9-47b7-b1d0-ff121ff5029c",
   "metadata": {},
   "outputs": [
    {
     "name": "stdout",
     "output_type": "stream",
     "text": [
      "Precisão: 10.03%\n"
     ]
    },
    {
     "name": "stderr",
     "output_type": "stream",
     "text": [
      "C:\\Users\\Aleder\\AppData\\Local\\Programs\\Python\\Python312\\Lib\\site-packages\\sklearn\\metrics\\_classification.py:1565: UndefinedMetricWarning: Precision is ill-defined and being set to 0.0 in labels with no predicted samples. Use `zero_division` parameter to control this behavior.\n",
      "  _warn_prf(average, modifier, f\"{metric.capitalize()} is\", len(result))\n"
     ]
    }
   ],
   "source": [
    "precision = precision_score(rot_array, predt_array, average='weighted')\n",
    "print(f\"Precisão: {precision * 100 :.2f}%\")"
   ]
  },
  {
   "cell_type": "code",
   "execution_count": 17,
   "id": "42782efb-0e53-4de5-b39e-9f89f999ad6c",
   "metadata": {},
   "outputs": [
    {
     "name": "stdout",
     "output_type": "stream",
     "text": [
      "Recall: 31.67%\n"
     ]
    }
   ],
   "source": [
    "recall = recall_score(rot_array, predt_array, average='weighted')\n",
    "print(f\"Recall: {recall * 100 :.2f}%\")"
   ]
  },
  {
   "cell_type": "code",
   "execution_count": 18,
   "id": "846cd0eb-a7b5-4794-acad-0e66d05ee3ce",
   "metadata": {},
   "outputs": [
    {
     "name": "stdout",
     "output_type": "stream",
     "text": [
      "F1 Score: 15.23%\n"
     ]
    }
   ],
   "source": [
    "f1 = f1_score(rot_array, predt_array, average='weighted')\n",
    "print(f\"F1 Score: {f1 * 100 :.2f}%\")"
   ]
  }
 ],
 "metadata": {
  "kernelspec": {
   "display_name": "Python 3 (ipykernel)",
   "language": "python",
   "name": "python3"
  },
  "language_info": {
   "codemirror_mode": {
    "name": "ipython",
    "version": 3
   },
   "file_extension": ".py",
   "mimetype": "text/x-python",
   "name": "python",
   "nbconvert_exporter": "python",
   "pygments_lexer": "ipython3",
   "version": "3.12.8"
  }
 },
 "nbformat": 4,
 "nbformat_minor": 5
}
