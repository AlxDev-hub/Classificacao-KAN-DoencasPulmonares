{
 "cells": [
  {
   "cell_type": "code",
   "execution_count": 1,
   "id": "a77bd366-35d9-4e91-82ee-e8e0396d3e85",
   "metadata": {},
   "outputs": [],
   "source": [
    "import time\n",
    "import numpy as np\n",
    "import matplotlib.pyplot as plt\n",
    "\n",
    "import torch\n",
    "import torch.nn as nn\n",
    "import torch.optim as optim\n",
    "from torchvision import datasets, transforms\n",
    "from torch.utils.data import DataLoader, random_split\n",
    "\n",
    "from sklearn.metrics import *"
   ]
  },
  {
   "cell_type": "markdown",
   "id": "f999a09d-3bcc-4162-9d21-919ce24d6421",
   "metadata": {},
   "source": [
    "# <center>Pré-processamento dos dados</center>"
   ]
  },
  {
   "cell_type": "code",
   "execution_count": 2,
   "id": "69719f5f-2a25-47fb-8f9b-d7e422b86e84",
   "metadata": {},
   "outputs": [],
   "source": [
    "dataset_path = 'dataset_teste2'"
   ]
  },
  {
   "cell_type": "code",
   "execution_count": 3,
   "id": "c4a49511",
   "metadata": {},
   "outputs": [],
   "source": [
    "transform_dataset = transforms.Compose(\n",
    "    [transforms.Resize(size = (224,224)),\n",
    "     transforms.ToTensor(),\n",
    "     transforms.Normalize(mean=[0.5], std=[0.5])\n",
    "    ]\n",
    ")"
   ]
  },
  {
   "cell_type": "code",
   "execution_count": 4,
   "id": "d13c3df3-9d9d-4663-92c2-b840e87ce7c4",
   "metadata": {},
   "outputs": [],
   "source": [
    "dataset = datasets.ImageFolder(dataset_path, transform = transform_dataset)"
   ]
  },
  {
   "cell_type": "code",
   "execution_count": 5,
   "id": "4422f07c",
   "metadata": {},
   "outputs": [
    {
     "name": "stdout",
     "output_type": "stream",
     "text": [
      "Informações sobre o Dataset: \n",
      "\n",
      " Dataset ImageFolder\n",
      "    Number of datapoints: 1000\n",
      "    Root location: dataset_teste2\n",
      "    StandardTransform\n",
      "Transform: Compose(\n",
      "               Resize(size=(224, 224), interpolation=bilinear, max_size=None, antialias=True)\n",
      "               ToTensor()\n",
      "               Normalize(mean=[0.5], std=[0.5])\n",
      "           )\n",
      "\n",
      "Rótulos:  {'NORMAL': 0, 'PNEUMONIA': 1, 'TUBERCULOSE': 2}\n"
     ]
    }
   ],
   "source": [
    "print(\"Informações sobre o Dataset: \\n\\n\", dataset)\n",
    "print(\"\\nRótulos: \", dataset.class_to_idx)"
   ]
  },
  {
   "cell_type": "code",
   "execution_count": 6,
   "id": "633ad56f-f28d-4664-8588-c797f40bd4f4",
   "metadata": {},
   "outputs": [],
   "source": [
    "train_size = int(0.7 * len(dataset))\n",
    "test_size = len(dataset) - train_size\n",
    "\n",
    "train_dataset, test_dataset = random_split(dataset, [train_size, test_size])"
   ]
  },
  {
   "cell_type": "code",
   "execution_count": 7,
   "id": "ca463df2-b9a0-42dd-ba6f-380c640f682b",
   "metadata": {},
   "outputs": [],
   "source": [
    "train_loader = DataLoader(train_dataset, batch_size=16, shuffle=True)\n",
    "test_loader = DataLoader(test_dataset, batch_size=16, shuffle=False)"
   ]
  },
  {
   "cell_type": "code",
   "execution_count": 8,
   "id": "d728a02c-d75c-4600-bda0-568138709d04",
   "metadata": {},
   "outputs": [],
   "source": [
    "all_targets = []\n",
    "for images, labels in train_loader:\n",
    "    all_targets.extend(labels.tolist())\n",
    "\n",
    "nor = []\n",
    "pne = []\n",
    "tub = []\n",
    "for i in range(700):\n",
    "    if all_targets[i] == 0:\n",
    "        nor.append(all_targets[i])\n",
    "    elif all_targets[i] == 1:\n",
    "        pne.append(all_targets[i])\n",
    "    elif all_targets[i] == 2:\n",
    "        tub.append(all_targets[i])"
   ]
  },
  {
   "cell_type": "code",
   "execution_count": 9,
   "id": "d5072b0f-e7cd-487b-8732-fdad8d77e0b4",
   "metadata": {},
   "outputs": [
    {
     "name": "stdout",
     "output_type": "stream",
     "text": [
      "!!!Distribuição dos dados de treinamento!!!\n",
      "\n",
      "Normal:  237\n",
      "Pneumonia:  227\n",
      "Tuberculose:  236\n"
     ]
    }
   ],
   "source": [
    "print(\"!!!Distribuição dos dados de treinamento!!!\\n\")\n",
    "print(\"Normal: \", len(nor))\n",
    "print(\"Pneumonia: \", len(pne))\n",
    "print(\"Tuberculose: \", len(tub))"
   ]
  },
  {
   "cell_type": "markdown",
   "id": "7bf3038a-8d82-45ab-94a3-f11406160a86",
   "metadata": {},
   "source": [
    "# <center>Implementação da arquitetura CNN</center>"
   ]
  },
  {
   "cell_type": "code",
   "execution_count": 10,
   "id": "5118d0d6-aaf5-4cbe-88a2-399d77684108",
   "metadata": {},
   "outputs": [
    {
     "name": "stdout",
     "output_type": "stream",
     "text": [
      "Dispositivo utilizado: cuda\n"
     ]
    }
   ],
   "source": [
    "model = nn.Sequential(\n",
    "    nn.Conv2d(3, 32, kernel_size=3, stride=1, padding=1),\n",
    "    nn.BatchNorm2d(32),\n",
    "    nn.ReLU(),\n",
    "    nn.MaxPool2d(kernel_size=2, stride=2, padding=0),\n",
    "    \n",
    "    nn.Conv2d(32, 64, kernel_size=3, stride=1, padding=1),\n",
    "    nn.BatchNorm2d(64),\n",
    "    nn.ReLU(),\n",
    "    nn.MaxPool2d(kernel_size=2, stride=2, padding=0),\n",
    "    \n",
    "    nn.Conv2d(64, 128, kernel_size=3, stride=1, padding=1),\n",
    "    nn.BatchNorm2d(128),\n",
    "    nn.ReLU(),\n",
    "    nn.MaxPool2d(kernel_size=2, stride=2, padding=0),\n",
    "    \n",
    "    nn.Flatten(),\n",
    "    \n",
    "    nn.Linear(128 * 28 * 28, 256),\n",
    "    nn.Dropout(p=0.3),\n",
    "    nn.ReLU(),\n",
    "\n",
    "    nn.Linear(256, 128),\n",
    "    nn.Dropout(p=0.3),\n",
    "    nn.ReLU(),\n",
    "    \n",
    "    nn.Linear(128, 64),\n",
    "    nn.Dropout(p=0.3),\n",
    "    nn.ReLU(),\n",
    "    \n",
    "    nn.Linear(64, 3)\n",
    ")\n",
    "\n",
    "device = torch.device(\"cuda\" if torch.cuda.is_available() else \"cpu\")\n",
    "print(f\"Dispositivo utilizado: {device}\")"
   ]
  },
  {
   "cell_type": "code",
   "execution_count": 11,
   "id": "4c273480-2d7c-4e82-93b5-cc5b02de3e82",
   "metadata": {},
   "outputs": [
    {
     "data": {
      "text/plain": [
       "Sequential(\n",
       "  (0): Conv2d(3, 32, kernel_size=(3, 3), stride=(1, 1), padding=(1, 1))\n",
       "  (1): BatchNorm2d(32, eps=1e-05, momentum=0.1, affine=True, track_running_stats=True)\n",
       "  (2): ReLU()\n",
       "  (3): MaxPool2d(kernel_size=2, stride=2, padding=0, dilation=1, ceil_mode=False)\n",
       "  (4): Conv2d(32, 64, kernel_size=(3, 3), stride=(1, 1), padding=(1, 1))\n",
       "  (5): BatchNorm2d(64, eps=1e-05, momentum=0.1, affine=True, track_running_stats=True)\n",
       "  (6): ReLU()\n",
       "  (7): MaxPool2d(kernel_size=2, stride=2, padding=0, dilation=1, ceil_mode=False)\n",
       "  (8): Conv2d(64, 128, kernel_size=(3, 3), stride=(1, 1), padding=(1, 1))\n",
       "  (9): BatchNorm2d(128, eps=1e-05, momentum=0.1, affine=True, track_running_stats=True)\n",
       "  (10): ReLU()\n",
       "  (11): MaxPool2d(kernel_size=2, stride=2, padding=0, dilation=1, ceil_mode=False)\n",
       "  (12): Flatten(start_dim=1, end_dim=-1)\n",
       "  (13): Linear(in_features=100352, out_features=256, bias=True)\n",
       "  (14): Dropout(p=0.3, inplace=False)\n",
       "  (15): ReLU()\n",
       "  (16): Linear(in_features=256, out_features=128, bias=True)\n",
       "  (17): Dropout(p=0.3, inplace=False)\n",
       "  (18): ReLU()\n",
       "  (19): Linear(in_features=128, out_features=64, bias=True)\n",
       "  (20): Dropout(p=0.3, inplace=False)\n",
       "  (21): ReLU()\n",
       "  (22): Linear(in_features=64, out_features=3, bias=True)\n",
       ")"
      ]
     },
     "execution_count": 11,
     "metadata": {},
     "output_type": "execute_result"
    }
   ],
   "source": [
    "model.to(device)"
   ]
  },
  {
   "cell_type": "code",
   "execution_count": 12,
   "id": "7852f30f-76af-4d58-89bb-6fb14936b060",
   "metadata": {},
   "outputs": [],
   "source": [
    "num_epoch = 250\n",
    "learning_rate = 0.1\n",
    "\n",
    "optimizer = optim.Adam(model.parameters(), lr=learning_rate)\n",
    "scheduler = optim.lr_scheduler.StepLR(optimizer, step_size=50, gamma=0.1)\n",
    "\n",
    "loss_fn = nn.CrossEntropyLoss()"
   ]
  },
  {
   "cell_type": "code",
   "execution_count": 13,
   "id": "687f4e6b-98ff-4199-b293-72274969f197",
   "metadata": {
    "scrolled": true
   },
   "outputs": [
    {
     "name": "stdout",
     "output_type": "stream",
     "text": [
      "Época 1/250 - Perda no treinamento: 1727.333727 - Acurácia: 0.1667 - LR: 0.1\n",
      "Época 2/250 - Perda no treinamento: 1.117548 - Acurácia: 0.4167 - LR: 0.1\n",
      "Época 3/250 - Perda no treinamento: 1.285468 - Acurácia: 0.1667 - LR: 0.1\n",
      "Época 4/250 - Perda no treinamento: 2.573477 - Acurácia: 0.4167 - LR: 0.1\n",
      "Época 5/250 - Perda no treinamento: 1.471861 - Acurácia: 0.5000 - LR: 0.1\n",
      "Época 6/250 - Perda no treinamento: 1.190265 - Acurácia: 0.2500 - LR: 0.1\n",
      "Época 7/250 - Perda no treinamento: 6.033629 - Acurácia: 0.4167 - LR: 0.1\n",
      "Época 8/250 - Perda no treinamento: 4.413311 - Acurácia: 0.1667 - LR: 0.1\n",
      "Época 9/250 - Perda no treinamento: 1.119386 - Acurácia: 0.1667 - LR: 0.1\n",
      "Época 10/250 - Perda no treinamento: 2.031801 - Acurácia: 0.3333 - LR: 0.1\n",
      "Época 11/250 - Perda no treinamento: 1.101533 - Acurácia: 0.4167 - LR: 0.1\n",
      "Época 12/250 - Perda no treinamento: 1.105418 - Acurácia: 0.4167 - LR: 0.1\n",
      "Época 13/250 - Perda no treinamento: 1.118304 - Acurácia: 0.5000 - LR: 0.1\n",
      "Época 14/250 - Perda no treinamento: 1.104388 - Acurácia: 0.3333 - LR: 0.1\n",
      "Época 15/250 - Perda no treinamento: 1.102168 - Acurácia: 0.3333 - LR: 0.1\n",
      "Época 16/250 - Perda no treinamento: 1.212509 - Acurácia: 0.4167 - LR: 0.1\n",
      "Época 17/250 - Perda no treinamento: 1.128696 - Acurácia: 0.5000 - LR: 0.1\n",
      "Época 18/250 - Perda no treinamento: 1.221197 - Acurácia: 0.4167 - LR: 0.1\n",
      "Época 19/250 - Perda no treinamento: 1.108177 - Acurácia: 0.3333 - LR: 0.1\n",
      "Época 20/250 - Perda no treinamento: 2.001056 - Acurácia: 0.3333 - LR: 0.1\n",
      "Época 21/250 - Perda no treinamento: 1.124225 - Acurácia: 0.5833 - LR: 0.1\n",
      "Época 22/250 - Perda no treinamento: 1.122896 - Acurácia: 0.4167 - LR: 0.1\n",
      "Época 23/250 - Perda no treinamento: 1.108605 - Acurácia: 0.3333 - LR: 0.1\n",
      "Época 24/250 - Perda no treinamento: 1.229848 - Acurácia: 0.1667 - LR: 0.1\n",
      "Época 25/250 - Perda no treinamento: 1.109292 - Acurácia: 0.5833 - LR: 0.1\n",
      "Época 26/250 - Perda no treinamento: 3.145861 - Acurácia: 0.2500 - LR: 0.1\n",
      "Época 27/250 - Perda no treinamento: 1.101532 - Acurácia: 0.3333 - LR: 0.1\n",
      "Época 28/250 - Perda no treinamento: 1.109993 - Acurácia: 0.6667 - LR: 0.1\n",
      "Época 29/250 - Perda no treinamento: 1.111230 - Acurácia: 0.1667 - LR: 0.1\n",
      "Época 30/250 - Perda no treinamento: 1.116319 - Acurácia: 0.3333 - LR: 0.1\n",
      "Época 31/250 - Perda no treinamento: 1.113116 - Acurácia: 0.2500 - LR: 0.1\n",
      "Época 32/250 - Perda no treinamento: 1.108661 - Acurácia: 0.2500 - LR: 0.1\n",
      "Época 33/250 - Perda no treinamento: 1.107153 - Acurácia: 0.4167 - LR: 0.1\n",
      "Época 34/250 - Perda no treinamento: 1.106460 - Acurácia: 0.5000 - LR: 0.1\n",
      "Época 35/250 - Perda no treinamento: 1.103575 - Acurácia: 0.4167 - LR: 0.1\n",
      "Época 36/250 - Perda no treinamento: 1.099752 - Acurácia: 0.4167 - LR: 0.1\n",
      "Época 37/250 - Perda no treinamento: 1.121036 - Acurácia: 0.2500 - LR: 0.1\n",
      "Época 38/250 - Perda no treinamento: 1.108233 - Acurácia: 0.5833 - LR: 0.1\n",
      "Época 39/250 - Perda no treinamento: 1.130817 - Acurácia: 0.3333 - LR: 0.1\n",
      "Época 40/250 - Perda no treinamento: 1.114224 - Acurácia: 0.1667 - LR: 0.1\n",
      "Época 41/250 - Perda no treinamento: 1.107611 - Acurácia: 0.2500 - LR: 0.1\n",
      "Época 42/250 - Perda no treinamento: 1.110879 - Acurácia: 0.1667 - LR: 0.1\n",
      "Época 43/250 - Perda no treinamento: 1.108758 - Acurácia: 0.3333 - LR: 0.1\n",
      "Época 44/250 - Perda no treinamento: 1.106998 - Acurácia: 0.1667 - LR: 0.1\n",
      "Época 45/250 - Perda no treinamento: 1.105818 - Acurácia: 0.2500 - LR: 0.1\n",
      "Época 46/250 - Perda no treinamento: 1.105417 - Acurácia: 0.3333 - LR: 0.1\n",
      "Época 47/250 - Perda no treinamento: 1.110064 - Acurácia: 0.1667 - LR: 0.1\n",
      "Época 48/250 - Perda no treinamento: 1.106785 - Acurácia: 0.4167 - LR: 0.1\n",
      "Época 49/250 - Perda no treinamento: 1.106345 - Acurácia: 0.3333 - LR: 0.1\n",
      "Época 50/250 - Perda no treinamento: 1.106639 - Acurácia: 0.5833 - LR: 0.010000000000000002\n",
      "Época 51/250 - Perda no treinamento: 1.100525 - Acurácia: 0.4167 - LR: 0.010000000000000002\n",
      "Época 52/250 - Perda no treinamento: 1.099425 - Acurácia: 0.0000 - LR: 0.010000000000000002\n",
      "Época 53/250 - Perda no treinamento: 1.099448 - Acurácia: 0.0833 - LR: 0.010000000000000002\n",
      "Época 54/250 - Perda no treinamento: 1.099852 - Acurácia: 0.0833 - LR: 0.010000000000000002\n",
      "Época 55/250 - Perda no treinamento: 1.098851 - Acurácia: 0.2500 - LR: 0.010000000000000002\n",
      "Época 56/250 - Perda no treinamento: 1.099601 - Acurácia: 0.2500 - LR: 0.010000000000000002\n",
      "Época 57/250 - Perda no treinamento: 1.099468 - Acurácia: 0.2500 - LR: 0.010000000000000002\n",
      "Época 58/250 - Perda no treinamento: 1.098075 - Acurácia: 0.0833 - LR: 0.010000000000000002\n",
      "Época 59/250 - Perda no treinamento: 1.099155 - Acurácia: 0.5000 - LR: 0.010000000000000002\n",
      "Época 60/250 - Perda no treinamento: 1.099652 - Acurácia: 0.4167 - LR: 0.010000000000000002\n",
      "Época 61/250 - Perda no treinamento: 1.100142 - Acurácia: 0.3333 - LR: 0.010000000000000002\n",
      "Época 62/250 - Perda no treinamento: 1.099291 - Acurácia: 0.2500 - LR: 0.010000000000000002\n",
      "Época 63/250 - Perda no treinamento: 1.099168 - Acurácia: 0.3333 - LR: 0.010000000000000002\n",
      "Época 64/250 - Perda no treinamento: 1.099131 - Acurácia: 0.5833 - LR: 0.010000000000000002\n",
      "Época 65/250 - Perda no treinamento: 1.099619 - Acurácia: 0.3333 - LR: 0.010000000000000002\n",
      "Época 66/250 - Perda no treinamento: 1.099335 - Acurácia: 0.1667 - LR: 0.010000000000000002\n",
      "Época 67/250 - Perda no treinamento: 1.098982 - Acurácia: 0.5833 - LR: 0.010000000000000002\n",
      "Época 68/250 - Perda no treinamento: 1.099251 - Acurácia: 0.4167 - LR: 0.010000000000000002\n",
      "Época 69/250 - Perda no treinamento: 1.099720 - Acurácia: 0.4167 - LR: 0.010000000000000002\n",
      "Época 70/250 - Perda no treinamento: 1.098988 - Acurácia: 0.4167 - LR: 0.010000000000000002\n",
      "Época 71/250 - Perda no treinamento: 1.099458 - Acurácia: 0.5833 - LR: 0.010000000000000002\n",
      "Época 72/250 - Perda no treinamento: 1.099012 - Acurácia: 0.5000 - LR: 0.010000000000000002\n",
      "Época 73/250 - Perda no treinamento: 1.099421 - Acurácia: 0.4167 - LR: 0.010000000000000002\n",
      "Época 74/250 - Perda no treinamento: 1.098987 - Acurácia: 0.3333 - LR: 0.010000000000000002\n",
      "Época 75/250 - Perda no treinamento: 1.099397 - Acurácia: 0.2500 - LR: 0.010000000000000002\n",
      "Época 76/250 - Perda no treinamento: 1.099647 - Acurácia: 0.0000 - LR: 0.010000000000000002\n",
      "Época 77/250 - Perda no treinamento: 1.099474 - Acurácia: 0.1667 - LR: 0.010000000000000002\n",
      "Época 78/250 - Perda no treinamento: 1.099034 - Acurácia: 0.3333 - LR: 0.010000000000000002\n",
      "Época 79/250 - Perda no treinamento: 1.099708 - Acurácia: 0.1667 - LR: 0.010000000000000002\n",
      "Época 80/250 - Perda no treinamento: 1.099391 - Acurácia: 0.3333 - LR: 0.010000000000000002\n",
      "Época 81/250 - Perda no treinamento: 1.099868 - Acurácia: 0.4167 - LR: 0.010000000000000002\n",
      "Época 82/250 - Perda no treinamento: 1.099089 - Acurácia: 0.2500 - LR: 0.010000000000000002\n",
      "Época 83/250 - Perda no treinamento: 1.099331 - Acurácia: 0.5833 - LR: 0.010000000000000002\n",
      "Época 84/250 - Perda no treinamento: 1.100152 - Acurácia: 0.4167 - LR: 0.010000000000000002\n",
      "Época 85/250 - Perda no treinamento: 1.098820 - Acurácia: 0.3333 - LR: 0.010000000000000002\n",
      "Época 86/250 - Perda no treinamento: 1.099965 - Acurácia: 0.3333 - LR: 0.010000000000000002\n",
      "Época 87/250 - Perda no treinamento: 1.099169 - Acurácia: 0.4167 - LR: 0.010000000000000002\n",
      "Época 88/250 - Perda no treinamento: 1.099551 - Acurácia: 0.3333 - LR: 0.010000000000000002\n",
      "Época 89/250 - Perda no treinamento: 1.100063 - Acurácia: 0.2500 - LR: 0.010000000000000002\n",
      "Época 90/250 - Perda no treinamento: 1.098863 - Acurácia: 0.1667 - LR: 0.010000000000000002\n",
      "Época 91/250 - Perda no treinamento: 1.099278 - Acurácia: 0.1667 - LR: 0.010000000000000002\n",
      "Época 92/250 - Perda no treinamento: 1.099739 - Acurácia: 0.1667 - LR: 0.010000000000000002\n",
      "Época 93/250 - Perda no treinamento: 1.099951 - Acurácia: 0.5000 - LR: 0.010000000000000002\n",
      "Época 94/250 - Perda no treinamento: 1.099509 - Acurácia: 0.3333 - LR: 0.010000000000000002\n",
      "Época 95/250 - Perda no treinamento: 1.099064 - Acurácia: 0.2500 - LR: 0.010000000000000002\n",
      "Época 96/250 - Perda no treinamento: 1.099714 - Acurácia: 0.2500 - LR: 0.010000000000000002\n",
      "Época 97/250 - Perda no treinamento: 1.099282 - Acurácia: 0.2500 - LR: 0.010000000000000002\n",
      "Época 98/250 - Perda no treinamento: 1.099567 - Acurácia: 0.4167 - LR: 0.010000000000000002\n",
      "Época 99/250 - Perda no treinamento: 1.099321 - Acurácia: 0.2500 - LR: 0.010000000000000002\n",
      "Época 100/250 - Perda no treinamento: 1.099960 - Acurácia: 0.2500 - LR: 0.0010000000000000002\n",
      "Época 101/250 - Perda no treinamento: 1.098620 - Acurácia: 0.5000 - LR: 0.0010000000000000002\n",
      "Época 102/250 - Perda no treinamento: 1.098830 - Acurácia: 0.3333 - LR: 0.0010000000000000002\n",
      "Época 103/250 - Perda no treinamento: 1.098627 - Acurácia: 0.4167 - LR: 0.0010000000000000002\n",
      "Época 104/250 - Perda no treinamento: 1.098611 - Acurácia: 0.4167 - LR: 0.0010000000000000002\n",
      "Época 105/250 - Perda no treinamento: 1.098501 - Acurácia: 0.4167 - LR: 0.0010000000000000002\n",
      "Época 106/250 - Perda no treinamento: 1.098547 - Acurácia: 0.4167 - LR: 0.0010000000000000002\n",
      "Época 107/250 - Perda no treinamento: 1.098636 - Acurácia: 0.0833 - LR: 0.0010000000000000002\n",
      "Época 108/250 - Perda no treinamento: 1.098567 - Acurácia: 0.1667 - LR: 0.0010000000000000002\n",
      "Época 109/250 - Perda no treinamento: 1.098541 - Acurácia: 0.3333 - LR: 0.0010000000000000002\n",
      "Época 110/250 - Perda no treinamento: 1.098668 - Acurácia: 0.4167 - LR: 0.0010000000000000002\n",
      "Época 111/250 - Perda no treinamento: 1.098519 - Acurácia: 0.3333 - LR: 0.0010000000000000002\n",
      "Época 112/250 - Perda no treinamento: 1.098523 - Acurácia: 0.3333 - LR: 0.0010000000000000002\n",
      "Época 113/250 - Perda no treinamento: 1.098527 - Acurácia: 0.3333 - LR: 0.0010000000000000002\n",
      "Época 114/250 - Perda no treinamento: 1.098635 - Acurácia: 0.4167 - LR: 0.0010000000000000002\n",
      "Época 115/250 - Perda no treinamento: 1.098485 - Acurácia: 0.4167 - LR: 0.0010000000000000002\n",
      "Época 116/250 - Perda no treinamento: 1.098468 - Acurácia: 0.3333 - LR: 0.0010000000000000002\n",
      "Época 117/250 - Perda no treinamento: 1.098536 - Acurácia: 0.2500 - LR: 0.0010000000000000002\n",
      "Época 118/250 - Perda no treinamento: 1.098468 - Acurácia: 0.4167 - LR: 0.0010000000000000002\n",
      "Época 119/250 - Perda no treinamento: 1.098484 - Acurácia: 0.3333 - LR: 0.0010000000000000002\n",
      "Época 120/250 - Perda no treinamento: 1.098553 - Acurácia: 0.2500 - LR: 0.0010000000000000002\n",
      "Época 121/250 - Perda no treinamento: 1.098626 - Acurácia: 0.3333 - LR: 0.0010000000000000002\n",
      "Época 122/250 - Perda no treinamento: 1.098584 - Acurácia: 0.3333 - LR: 0.0010000000000000002\n",
      "Época 123/250 - Perda no treinamento: 1.098597 - Acurácia: 0.3333 - LR: 0.0010000000000000002\n",
      "Época 124/250 - Perda no treinamento: 1.098474 - Acurácia: 0.5000 - LR: 0.0010000000000000002\n",
      "Época 125/250 - Perda no treinamento: 1.098566 - Acurácia: 0.3333 - LR: 0.0010000000000000002\n",
      "Época 126/250 - Perda no treinamento: 1.098509 - Acurácia: 0.3333 - LR: 0.0010000000000000002\n",
      "Época 127/250 - Perda no treinamento: 1.098631 - Acurácia: 0.2500 - LR: 0.0010000000000000002\n",
      "Época 128/250 - Perda no treinamento: 1.098531 - Acurácia: 0.3333 - LR: 0.0010000000000000002\n",
      "Época 129/250 - Perda no treinamento: 1.098525 - Acurácia: 0.4167 - LR: 0.0010000000000000002\n",
      "Época 130/250 - Perda no treinamento: 1.098521 - Acurácia: 0.2500 - LR: 0.0010000000000000002\n",
      "Época 131/250 - Perda no treinamento: 1.098508 - Acurácia: 0.3333 - LR: 0.0010000000000000002\n",
      "Época 132/250 - Perda no treinamento: 1.098594 - Acurácia: 0.2500 - LR: 0.0010000000000000002\n",
      "Época 133/250 - Perda no treinamento: 1.098567 - Acurácia: 0.4167 - LR: 0.0010000000000000002\n",
      "Época 134/250 - Perda no treinamento: 1.098700 - Acurácia: 0.2500 - LR: 0.0010000000000000002\n",
      "Época 135/250 - Perda no treinamento: 1.098508 - Acurácia: 0.2500 - LR: 0.0010000000000000002\n",
      "Época 136/250 - Perda no treinamento: 1.098537 - Acurácia: 0.3333 - LR: 0.0010000000000000002\n",
      "Época 137/250 - Perda no treinamento: 1.098593 - Acurácia: 0.1667 - LR: 0.0010000000000000002\n",
      "Época 138/250 - Perda no treinamento: 1.098628 - Acurácia: 0.3333 - LR: 0.0010000000000000002\n",
      "Época 139/250 - Perda no treinamento: 1.098486 - Acurácia: 0.5000 - LR: 0.0010000000000000002\n",
      "Época 140/250 - Perda no treinamento: 1.098481 - Acurácia: 0.2500 - LR: 0.0010000000000000002\n",
      "Época 141/250 - Perda no treinamento: 1.098566 - Acurácia: 0.2500 - LR: 0.0010000000000000002\n",
      "Época 142/250 - Perda no treinamento: 1.098640 - Acurácia: 0.3333 - LR: 0.0010000000000000002\n",
      "Época 143/250 - Perda no treinamento: 1.098537 - Acurácia: 0.2500 - LR: 0.0010000000000000002\n",
      "Época 144/250 - Perda no treinamento: 1.098605 - Acurácia: 0.2500 - LR: 0.0010000000000000002\n",
      "Época 145/250 - Perda no treinamento: 1.098532 - Acurácia: 0.2500 - LR: 0.0010000000000000002\n",
      "Época 146/250 - Perda no treinamento: 1.098560 - Acurácia: 0.2500 - LR: 0.0010000000000000002\n",
      "Época 147/250 - Perda no treinamento: 1.098550 - Acurácia: 0.1667 - LR: 0.0010000000000000002\n",
      "Época 148/250 - Perda no treinamento: 1.098550 - Acurácia: 0.2500 - LR: 0.0010000000000000002\n",
      "Época 149/250 - Perda no treinamento: 1.098567 - Acurácia: 0.2500 - LR: 0.0010000000000000002\n",
      "Época 150/250 - Perda no treinamento: 1.098526 - Acurácia: 0.1667 - LR: 0.00010000000000000003\n",
      "Época 151/250 - Perda no treinamento: 1.098476 - Acurácia: 0.3333 - LR: 0.00010000000000000003\n",
      "Época 152/250 - Perda no treinamento: 1.098422 - Acurácia: 0.5000 - LR: 0.00010000000000000003\n",
      "Época 153/250 - Perda no treinamento: 1.098473 - Acurácia: 0.3333 - LR: 0.00010000000000000003\n",
      "Época 154/250 - Perda no treinamento: 1.098401 - Acurácia: 0.4167 - LR: 0.00010000000000000003\n",
      "Época 155/250 - Perda no treinamento: 1.098436 - Acurácia: 0.4167 - LR: 0.00010000000000000003\n",
      "Época 156/250 - Perda no treinamento: 1.098436 - Acurácia: 0.4167 - LR: 0.00010000000000000003\n",
      "Época 157/250 - Perda no treinamento: 1.098417 - Acurácia: 0.5000 - LR: 0.00010000000000000003\n",
      "Época 158/250 - Perda no treinamento: 1.098497 - Acurácia: 0.2500 - LR: 0.00010000000000000003\n",
      "Época 159/250 - Perda no treinamento: 1.098442 - Acurácia: 0.1667 - LR: 0.00010000000000000003\n",
      "Época 160/250 - Perda no treinamento: 1.098419 - Acurácia: 0.5833 - LR: 0.00010000000000000003\n",
      "Época 161/250 - Perda no treinamento: 1.098434 - Acurácia: 0.5833 - LR: 0.00010000000000000003\n",
      "Época 162/250 - Perda no treinamento: 1.098436 - Acurácia: 0.3333 - LR: 0.00010000000000000003\n",
      "Época 163/250 - Perda no treinamento: 1.096386 - Acurácia: 0.4167 - LR: 0.00010000000000000003\n",
      "Época 164/250 - Perda no treinamento: 1.098460 - Acurácia: 0.2500 - LR: 0.00010000000000000003\n",
      "Época 165/250 - Perda no treinamento: 1.098439 - Acurácia: 0.1667 - LR: 0.00010000000000000003\n",
      "Época 166/250 - Perda no treinamento: 1.098484 - Acurácia: 0.2500 - LR: 0.00010000000000000003\n",
      "Época 167/250 - Perda no treinamento: 1.098477 - Acurácia: 0.1667 - LR: 0.00010000000000000003\n",
      "Época 168/250 - Perda no treinamento: 1.098424 - Acurácia: 0.2500 - LR: 0.00010000000000000003\n",
      "Época 169/250 - Perda no treinamento: 1.098435 - Acurácia: 0.3333 - LR: 0.00010000000000000003\n",
      "Época 170/250 - Perda no treinamento: 1.098455 - Acurácia: 0.2500 - LR: 0.00010000000000000003\n",
      "Época 171/250 - Perda no treinamento: 1.098417 - Acurácia: 0.3333 - LR: 0.00010000000000000003\n",
      "Época 172/250 - Perda no treinamento: 1.098454 - Acurácia: 0.2500 - LR: 0.00010000000000000003\n",
      "Época 173/250 - Perda no treinamento: 1.098436 - Acurácia: 0.4167 - LR: 0.00010000000000000003\n",
      "Época 174/250 - Perda no treinamento: 1.098439 - Acurácia: 0.4167 - LR: 0.00010000000000000003\n",
      "Época 175/250 - Perda no treinamento: 1.098380 - Acurácia: 0.5000 - LR: 0.00010000000000000003\n",
      "Época 176/250 - Perda no treinamento: 1.098420 - Acurácia: 0.5000 - LR: 0.00010000000000000003\n",
      "Época 177/250 - Perda no treinamento: 1.098497 - Acurácia: 0.2500 - LR: 0.00010000000000000003\n",
      "Época 178/250 - Perda no treinamento: 1.098400 - Acurácia: 0.4167 - LR: 0.00010000000000000003\n",
      "Época 179/250 - Perda no treinamento: 1.098439 - Acurácia: 0.2500 - LR: 0.00010000000000000003\n",
      "Época 180/250 - Perda no treinamento: 1.098432 - Acurácia: 0.5000 - LR: 0.00010000000000000003\n",
      "Época 181/250 - Perda no treinamento: 1.098470 - Acurácia: 0.3333 - LR: 0.00010000000000000003\n",
      "Época 182/250 - Perda no treinamento: 1.098478 - Acurácia: 0.4167 - LR: 0.00010000000000000003\n",
      "Época 183/250 - Perda no treinamento: 1.098461 - Acurácia: 0.4167 - LR: 0.00010000000000000003\n",
      "Época 184/250 - Perda no treinamento: 1.098417 - Acurácia: 0.5000 - LR: 0.00010000000000000003\n",
      "Época 185/250 - Perda no treinamento: 1.098394 - Acurácia: 0.5000 - LR: 0.00010000000000000003\n",
      "Época 186/250 - Perda no treinamento: 1.098499 - Acurácia: 0.1667 - LR: 0.00010000000000000003\n",
      "Época 187/250 - Perda no treinamento: 1.098420 - Acurácia: 0.5000 - LR: 0.00010000000000000003\n",
      "Época 188/250 - Perda no treinamento: 1.098391 - Acurácia: 0.2500 - LR: 0.00010000000000000003\n",
      "Época 189/250 - Perda no treinamento: 1.098395 - Acurácia: 0.5833 - LR: 0.00010000000000000003\n",
      "Época 190/250 - Perda no treinamento: 1.098459 - Acurácia: 0.1667 - LR: 0.00010000000000000003\n",
      "Época 191/250 - Perda no treinamento: 1.098439 - Acurácia: 0.5000 - LR: 0.00010000000000000003\n",
      "Época 192/250 - Perda no treinamento: 1.098426 - Acurácia: 0.0833 - LR: 0.00010000000000000003\n",
      "Época 193/250 - Perda no treinamento: 1.098418 - Acurácia: 0.3333 - LR: 0.00010000000000000003\n",
      "Época 194/250 - Perda no treinamento: 1.098401 - Acurácia: 0.4167 - LR: 0.00010000000000000003\n",
      "Época 195/250 - Perda no treinamento: 1.098399 - Acurácia: 0.4167 - LR: 0.00010000000000000003\n",
      "Época 196/250 - Perda no treinamento: 1.098436 - Acurácia: 0.3333 - LR: 0.00010000000000000003\n",
      "Época 197/250 - Perda no treinamento: 1.098416 - Acurácia: 0.5000 - LR: 0.00010000000000000003\n",
      "Época 198/250 - Perda no treinamento: 1.098413 - Acurácia: 0.5000 - LR: 0.00010000000000000003\n",
      "Época 199/250 - Perda no treinamento: 1.098424 - Acurácia: 0.5000 - LR: 0.00010000000000000003\n",
      "Época 200/250 - Perda no treinamento: 1.098430 - Acurácia: 0.5000 - LR: 1.0000000000000004e-05\n",
      "Época 201/250 - Perda no treinamento: 1.096833 - Acurácia: 0.4167 - LR: 1.0000000000000004e-05\n",
      "Época 202/250 - Perda no treinamento: 1.098446 - Acurácia: 0.4167 - LR: 1.0000000000000004e-05\n",
      "Época 203/250 - Perda no treinamento: 1.098451 - Acurácia: 0.0833 - LR: 1.0000000000000004e-05\n",
      "Época 204/250 - Perda no treinamento: 1.098449 - Acurácia: 0.2500 - LR: 1.0000000000000004e-05\n",
      "Época 205/250 - Perda no treinamento: 1.098466 - Acurácia: 0.3333 - LR: 1.0000000000000004e-05\n",
      "Época 206/250 - Perda no treinamento: 1.098414 - Acurácia: 0.1667 - LR: 1.0000000000000004e-05\n",
      "Época 207/250 - Perda no treinamento: 1.098426 - Acurácia: 0.5000 - LR: 1.0000000000000004e-05\n",
      "Época 208/250 - Perda no treinamento: 1.098430 - Acurácia: 0.3333 - LR: 1.0000000000000004e-05\n",
      "Época 209/250 - Perda no treinamento: 1.098397 - Acurácia: 0.0833 - LR: 1.0000000000000004e-05\n",
      "Época 210/250 - Perda no treinamento: 1.098413 - Acurácia: 0.1667 - LR: 1.0000000000000004e-05\n",
      "Época 211/250 - Perda no treinamento: 1.098395 - Acurácia: 0.1667 - LR: 1.0000000000000004e-05\n",
      "Época 212/250 - Perda no treinamento: 1.098433 - Acurácia: 0.0833 - LR: 1.0000000000000004e-05\n",
      "Época 213/250 - Perda no treinamento: 1.098429 - Acurácia: 0.3333 - LR: 1.0000000000000004e-05\n",
      "Época 214/250 - Perda no treinamento: 1.098448 - Acurácia: 0.3333 - LR: 1.0000000000000004e-05\n",
      "Época 215/250 - Perda no treinamento: 1.098449 - Acurácia: 0.2500 - LR: 1.0000000000000004e-05\n",
      "Época 216/250 - Perda no treinamento: 1.098391 - Acurácia: 0.5000 - LR: 1.0000000000000004e-05\n",
      "Época 217/250 - Perda no treinamento: 1.098448 - Acurácia: 0.3333 - LR: 1.0000000000000004e-05\n",
      "Época 218/250 - Perda no treinamento: 1.098428 - Acurácia: 0.4167 - LR: 1.0000000000000004e-05\n",
      "Época 219/250 - Perda no treinamento: 1.098430 - Acurácia: 0.3333 - LR: 1.0000000000000004e-05\n",
      "Época 220/250 - Perda no treinamento: 1.098387 - Acurácia: 0.6667 - LR: 1.0000000000000004e-05\n",
      "Época 221/250 - Perda no treinamento: 1.098351 - Acurácia: 0.6667 - LR: 1.0000000000000004e-05\n",
      "Época 222/250 - Perda no treinamento: 1.098448 - Acurácia: 0.2500 - LR: 1.0000000000000004e-05\n",
      "Época 223/250 - Perda no treinamento: 1.098451 - Acurácia: 0.1667 - LR: 1.0000000000000004e-05\n",
      "Época 224/250 - Perda no treinamento: 1.098430 - Acurácia: 0.2500 - LR: 1.0000000000000004e-05\n",
      "Época 225/250 - Perda no treinamento: 1.098410 - Acurácia: 0.4167 - LR: 1.0000000000000004e-05\n",
      "Época 226/250 - Perda no treinamento: 1.098447 - Acurácia: 0.3333 - LR: 1.0000000000000004e-05\n",
      "Época 227/250 - Perda no treinamento: 1.098448 - Acurácia: 0.3333 - LR: 1.0000000000000004e-05\n",
      "Época 228/250 - Perda no treinamento: 1.098372 - Acurácia: 0.4167 - LR: 1.0000000000000004e-05\n",
      "Época 229/250 - Perda no treinamento: 1.098449 - Acurácia: 0.2500 - LR: 1.0000000000000004e-05\n",
      "Época 230/250 - Perda no treinamento: 1.098412 - Acurácia: 0.2500 - LR: 1.0000000000000004e-05\n",
      "Época 231/250 - Perda no treinamento: 1.098447 - Acurácia: 0.4167 - LR: 1.0000000000000004e-05\n",
      "Época 232/250 - Perda no treinamento: 1.098408 - Acurácia: 0.5833 - LR: 1.0000000000000004e-05\n",
      "Época 233/250 - Perda no treinamento: 1.098375 - Acurácia: 0.3333 - LR: 1.0000000000000004e-05\n",
      "Época 234/250 - Perda no treinamento: 1.098389 - Acurácia: 0.5000 - LR: 1.0000000000000004e-05\n",
      "Época 235/250 - Perda no treinamento: 1.098429 - Acurácia: 0.3333 - LR: 1.0000000000000004e-05\n",
      "Época 236/250 - Perda no treinamento: 1.098390 - Acurácia: 0.5000 - LR: 1.0000000000000004e-05\n",
      "Época 237/250 - Perda no treinamento: 1.098429 - Acurácia: 0.3333 - LR: 1.0000000000000004e-05\n",
      "Época 238/250 - Perda no treinamento: 1.098413 - Acurácia: 0.1667 - LR: 1.0000000000000004e-05\n",
      "Época 239/250 - Perda no treinamento: 1.098507 - Acurácia: 0.0833 - LR: 1.0000000000000004e-05\n",
      "Época 240/250 - Perda no treinamento: 1.098447 - Acurácia: 0.3333 - LR: 1.0000000000000004e-05\n",
      "Época 241/250 - Perda no treinamento: 1.098412 - Acurácia: 0.3333 - LR: 1.0000000000000004e-05\n",
      "Época 242/250 - Perda no treinamento: 1.098394 - Acurácia: 0.2500 - LR: 1.0000000000000004e-05\n",
      "Época 243/250 - Perda no treinamento: 1.098433 - Acurácia: 0.0833 - LR: 1.0000000000000004e-05\n",
      "Época 244/250 - Perda no treinamento: 1.098412 - Acurácia: 0.2500 - LR: 1.0000000000000004e-05\n",
      "Época 245/250 - Perda no treinamento: 1.098431 - Acurácia: 0.2500 - LR: 1.0000000000000004e-05\n",
      "Época 246/250 - Perda no treinamento: 1.098484 - Acurácia: 0.3333 - LR: 1.0000000000000004e-05\n",
      "Época 247/250 - Perda no treinamento: 1.098428 - Acurácia: 0.4167 - LR: 1.0000000000000004e-05\n",
      "Época 248/250 - Perda no treinamento: 1.098450 - Acurácia: 0.2500 - LR: 1.0000000000000004e-05\n",
      "Época 249/250 - Perda no treinamento: 1.098391 - Acurácia: 0.5000 - LR: 1.0000000000000004e-05\n",
      "Época 250/250 - Perda no treinamento: 1.098412 - Acurácia: 0.2500 - LR: 1.0000000000000004e-06\n",
      "\n",
      "Tempo total de treinamento: 3113.21 segundos\n"
     ]
    }
   ],
   "source": [
    "train_losses = []\n",
    "train_acc = []\n",
    "\n",
    "training_start_time = time.time()\n",
    "\n",
    "for epoch in range(num_epoch):\n",
    "    model.train()\n",
    "    running_train_loss = 0.0\n",
    "\n",
    "    for inputs, labels in train_loader:\n",
    "        inputs = inputs.to(device)\n",
    "        labels = labels.to(device)\n",
    "    \n",
    "        optimizer.zero_grad()\n",
    "        outputs = model(inputs)\n",
    "\n",
    "        loss = loss_fn(outputs, labels)\n",
    "        loss.backward()\n",
    "        optimizer.step()\n",
    "        running_train_loss += loss.item()\n",
    "        \n",
    "    scheduler.step()\n",
    "\n",
    "    train_loss = running_train_loss / len(train_loader)\n",
    "    train_losses.append(train_loss)\n",
    "\n",
    "    _, predicted = torch.max(outputs.data, 1)\n",
    "\n",
    "    acc = accuracy_score(labels.cpu().detach().numpy(), predicted.cpu().detach().numpy())\n",
    "    train_acc.append(acc)\n",
    "\n",
    "    print(f\"Época {epoch + 1}/{num_epoch} - Perda no treinamento: {train_loss:.6f} - Acurácia: {acc:.4f} - LR: {scheduler.get_last_lr()[0]}\")\n",
    "\n",
    "training_time = time.time() - training_start_time\n",
    "print(f\"\\nTempo total de treinamento: {training_time:.2f} segundos\")"
   ]
  },
  {
   "cell_type": "code",
   "execution_count": 14,
   "id": "0041d957-3264-4d9e-94bc-7d4eb1ac6000",
   "metadata": {},
   "outputs": [
    {
     "data": {
      "text/plain": [
       "Text(0.5, 0.98, 'Treinamento')"
      ]
     },
     "execution_count": 14,
     "metadata": {},
     "output_type": "execute_result"
    },
    {
     "data": {
      "image/png": "[encoded data removed]",
      "text/plain": [
       "<Figure size 1200x500 with 2 Axes>"
      ]
     },
     "metadata": {},
     "output_type": "display_data"
    }
   ],
   "source": [
    "epochs = range(1, num_epoch + 1)\n",
    "\n",
    "plt.figure(figsize=(12, 5))\n",
    "\n",
    "plt.subplot(1, 2, 1)\n",
    "plt.plot(epochs, train_losses, 'bo-')\n",
    "plt.xlabel('Épocas')\n",
    "plt.ylabel('Perda')\n",
    "\n",
    "plt.subplot(1, 2, 2)\n",
    "plt.plot(epochs, train_acc, 'ro-')\n",
    "plt.xlabel('Épocas')\n",
    "plt.ylabel('Acurácia')\n",
    "\n",
    "plt.suptitle(\"Treinamento\", fontsize = 20)"
   ]
  },
  {
   "cell_type": "code",
   "execution_count": 15,
   "id": "d488edcf-2fa7-4adc-b9ea-58111d5b250c",
   "metadata": {},
   "outputs": [
    {
     "name": "stdout",
     "output_type": "stream",
     "text": [
      "!!!Teste finalizado!!!\n"
     ]
    }
   ],
   "source": [
    "rot_array = []\n",
    "predt_array = []\n",
    "\n",
    "model.eval()\n",
    "    \n",
    "with torch.no_grad():\n",
    "        \n",
    "    for images, labels in test_loader:\n",
    "        images = images.to(device)\n",
    "        labels = labels.to(device)\n",
    "        \n",
    "        outputs = model(images)\n",
    "        _, predicted = torch.max(outputs.data, 1)\n",
    "\n",
    "        rot_array.extend(labels.cpu().detach().numpy())\n",
    "        predt_array.extend(predicted.cpu().detach().numpy())\n",
    "\n",
    "print(\"!!!Teste finalizado!!!\")"
   ]
  },
  {
   "cell_type": "markdown",
   "id": "db5d7bfa-3d44-4194-b113-d5721c9f140e",
   "metadata": {},
   "source": [
    "# <center>Métricas de avaliação</center>"
   ]
  },
  {
   "cell_type": "code",
   "execution_count": 16,
   "id": "628e9ecc-ce7e-4983-8926-4efccfceb59f",
   "metadata": {},
   "outputs": [
    {
     "data": {
      "image/png": "[encoded data removed]",
      "text/plain": [
       "<Figure size 640x480 with 2 Axes>"
      ]
     },
     "metadata": {},
     "output_type": "display_data"
    }
   ],
   "source": [
    "cm = confusion_matrix(rot_array, predt_array)\n",
    "\n",
    "disp = ConfusionMatrixDisplay(confusion_matrix=cm, display_labels=['Normal', 'Pneumonia', 'Tuberculose'])\n",
    "disp.plot(cmap=plt.cm.Blues)\n",
    "\n",
    "plt.xlabel('Rótulo previsto')\n",
    "plt.ylabel('Rótulo verdadeiro')\n",
    "plt.show()"
   ]
  },
  {
   "cell_type": "code",
   "execution_count": 17,
   "id": "8fbd9294-a1a3-4f3e-aaf6-73261fda3b87",
   "metadata": {},
   "outputs": [
    {
     "name": "stdout",
     "output_type": "stream",
     "text": [
      "Acurácia: 34.33%\n"
     ]
    }
   ],
   "source": [
    "acc = accuracy_score(rot_array, predt_array)\n",
    "print(f\"Acurácia: {acc * 100 :.2f}%\")"
   ]
  },
  {
   "cell_type": "code",
   "execution_count": 18,
   "id": "351feaf8-0fc9-47b7-b1d0-ff121ff5029c",
   "metadata": {},
   "outputs": [
    {
     "name": "stdout",
     "output_type": "stream",
     "text": [
      "Precisão: 11.79%\n"
     ]
    },
    {
     "name": "stderr",
     "output_type": "stream",
     "text": [
      "C:\\Users\\Aleder\\AppData\\Local\\Programs\\Python\\Python312\\Lib\\site-packages\\sklearn\\metrics\\_classification.py:1565: UndefinedMetricWarning: Precision is ill-defined and being set to 0.0 in labels with no predicted samples. Use `zero_division` parameter to control this behavior.\n",
      "  _warn_prf(average, modifier, f\"{metric.capitalize()} is\", len(result))\n"
     ]
    }
   ],
   "source": [
    "precision = precision_score(rot_array, predt_array, average='weighted')\n",
    "print(f\"Precisão: {precision * 100 :.2f}%\")"
   ]
  },
  {
   "cell_type": "code",
   "execution_count": 19,
   "id": "42782efb-0e53-4de5-b39e-9f89f999ad6c",
   "metadata": {},
   "outputs": [
    {
     "name": "stdout",
     "output_type": "stream",
     "text": [
      "Recall: 34.33%\n"
     ]
    }
   ],
   "source": [
    "recall = recall_score(rot_array, predt_array, average='weighted')\n",
    "print(f\"Recall: {recall * 100 :.2f}%\")"
   ]
  },
  {
   "cell_type": "code",
   "execution_count": 20,
   "id": "846cd0eb-a7b5-4794-acad-0e66d05ee3ce",
   "metadata": {},
   "outputs": [
    {
     "name": "stdout",
     "output_type": "stream",
     "text": [
      "F1 Score: 17.55%\n"
     ]
    }
   ],
   "source": [
    "f1 = f1_score(rot_array, predt_array, average='weighted')\n",
    "print(f\"F1 Score: {f1 * 100 :.2f}%\")"
   ]
  }
 ],
 "metadata": {
  "kernelspec": {
   "display_name": "Python 3 (ipykernel)",
   "language": "python",
   "name": "python3"
  },
  "language_info": {
   "codemirror_mode": {
    "name": "ipython",
    "version": 3
   },
   "file_extension": ".py",
   "mimetype": "text/x-python",
   "name": "python",
   "nbconvert_exporter": "python",
   "pygments_lexer": "ipython3",
   "version": "3.12.8"
  }
 },
 "nbformat": 4,
 "nbformat_minor": 5
}
