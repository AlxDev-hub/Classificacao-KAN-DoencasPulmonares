{
 "cells": [
  {
   "cell_type": "code",
   "execution_count": 1,
   "id": "a77bd366-35d9-4e91-82ee-e8e0396d3e85",
   "metadata": {},
   "outputs": [],
   "source": [
    "import time\n",
    "import numpy as np\n",
    "import matplotlib.pyplot as plt\n",
    "\n",
    "import torch\n",
    "import torch.nn as nn\n",
    "import torch.optim as optim\n",
    "from torchvision import datasets, transforms\n",
    "from torch.utils.data import DataLoader, random_split\n",
    "\n",
    "from sklearn.metrics import *"
   ]
  },
  {
   "cell_type": "markdown",
   "id": "f999a09d-3bcc-4162-9d21-919ce24d6421",
   "metadata": {},
   "source": [
    "# <center>Pré-processamento dos dados</center>"
   ]
  },
  {
   "cell_type": "code",
   "execution_count": 2,
   "id": "69719f5f-2a25-47fb-8f9b-d7e422b86e84",
   "metadata": {},
   "outputs": [],
   "source": [
    "dataset_path = 'dataset_teste2'"
   ]
  },
  {
   "cell_type": "code",
   "execution_count": 3,
   "id": "c4a49511",
   "metadata": {},
   "outputs": [],
   "source": [
    "transform_dataset = transforms.Compose(\n",
    "    [transforms.Resize(size = (224,224)),\n",
    "     transforms.ToTensor(),\n",
    "     transforms.Normalize(mean=[0.5], std=[0.5])\n",
    "    ]\n",
    ")"
   ]
  },
  {
   "cell_type": "code",
   "execution_count": 4,
   "id": "d13c3df3-9d9d-4663-92c2-b840e87ce7c4",
   "metadata": {},
   "outputs": [],
   "source": [
    "dataset = datasets.ImageFolder(dataset_path, transform = transform_dataset)"
   ]
  },
  {
   "cell_type": "code",
   "execution_count": 5,
   "id": "4422f07c",
   "metadata": {},
   "outputs": [
    {
     "name": "stdout",
     "output_type": "stream",
     "text": [
      "Informações sobre o Dataset: \n",
      "\n",
      " Dataset ImageFolder\n",
      "    Number of datapoints: 1000\n",
      "    Root location: dataset_teste2\n",
      "    StandardTransform\n",
      "Transform: Compose(\n",
      "               Resize(size=(224, 224), interpolation=bilinear, max_size=None, antialias=True)\n",
      "               ToTensor()\n",
      "               Normalize(mean=[0.5], std=[0.5])\n",
      "           )\n",
      "\n",
      "Rótulos:  {'NORMAL': 0, 'PNEUMONIA': 1, 'TUBERCULOSE': 2}\n"
     ]
    }
   ],
   "source": [
    "print(\"Informações sobre o Dataset: \\n\\n\", dataset)\n",
    "print(\"\\nRótulos: \", dataset.class_to_idx)"
   ]
  },
  {
   "cell_type": "code",
   "execution_count": 6,
   "id": "633ad56f-f28d-4664-8588-c797f40bd4f4",
   "metadata": {},
   "outputs": [],
   "source": [
    "train_size = int(0.7 * len(dataset))\n",
    "test_size = len(dataset) - train_size\n",
    "\n",
    "train_dataset, test_dataset = random_split(dataset, [train_size, test_size])"
   ]
  },
  {
   "cell_type": "code",
   "execution_count": 7,
   "id": "ca463df2-b9a0-42dd-ba6f-380c640f682b",
   "metadata": {},
   "outputs": [],
   "source": [
    "train_loader = DataLoader(train_dataset, batch_size=16, shuffle=True)\n",
    "test_loader = DataLoader(test_dataset, batch_size=16, shuffle=False)"
   ]
  },
  {
   "cell_type": "code",
   "execution_count": 8,
   "id": "d728a02c-d75c-4600-bda0-568138709d04",
   "metadata": {},
   "outputs": [],
   "source": [
    "all_targets = []\n",
    "for images, labels in train_loader:\n",
    "    all_targets.extend(labels.tolist())\n",
    "\n",
    "nor = []\n",
    "pne = []\n",
    "tub = []\n",
    "for i in range(700):\n",
    "    if all_targets[i] == 0:\n",
    "        nor.append(all_targets[i])\n",
    "    elif all_targets[i] == 1:\n",
    "        pne.append(all_targets[i])\n",
    "    elif all_targets[i] == 2:\n",
    "        tub.append(all_targets[i])"
   ]
  },
  {
   "cell_type": "code",
   "execution_count": 9,
   "id": "d5072b0f-e7cd-487b-8732-fdad8d77e0b4",
   "metadata": {},
   "outputs": [
    {
     "name": "stdout",
     "output_type": "stream",
     "text": [
      "!!!Distribuição dos dados de treinamento!!!\n",
      "\n",
      "Normal:  248\n",
      "Pneumonia:  215\n",
      "Tuberculose:  237\n"
     ]
    }
   ],
   "source": [
    "print(\"!!!Distribuição dos dados de treinamento!!!\\n\")\n",
    "print(\"Normal: \", len(nor))\n",
    "print(\"Pneumonia: \", len(pne))\n",
    "print(\"Tuberculose: \", len(tub))"
   ]
  },
  {
   "cell_type": "markdown",
   "id": "7bf3038a-8d82-45ab-94a3-f11406160a86",
   "metadata": {},
   "source": [
    "# <center>Implementação da arquitetura CNN</center>"
   ]
  },
  {
   "cell_type": "code",
   "execution_count": 10,
   "id": "5118d0d6-aaf5-4cbe-88a2-399d77684108",
   "metadata": {},
   "outputs": [
    {
     "name": "stdout",
     "output_type": "stream",
     "text": [
      "Dispositivo utilizado: cuda\n"
     ]
    }
   ],
   "source": [
    "model = nn.Sequential(\n",
    "    nn.Conv2d(3, 32, kernel_size=3, stride=1, padding=1),\n",
    "    nn.BatchNorm2d(32),\n",
    "    nn.ReLU(),\n",
    "    nn.MaxPool2d(kernel_size=2, stride=2, padding=0),\n",
    "    \n",
    "    nn.Conv2d(32, 64, kernel_size=3, stride=1, padding=1),\n",
    "    nn.BatchNorm2d(64),\n",
    "    nn.ReLU(),\n",
    "    nn.MaxPool2d(kernel_size=2, stride=2, padding=0),\n",
    "    \n",
    "    nn.Conv2d(64, 128, kernel_size=3, stride=1, padding=1),\n",
    "    nn.BatchNorm2d(128),\n",
    "    nn.ReLU(),\n",
    "    nn.MaxPool2d(kernel_size=2, stride=2, padding=0),\n",
    "    \n",
    "    nn.Flatten(),\n",
    "    \n",
    "    nn.Linear(128 * 28 * 28, 256),\n",
    "    nn.Dropout(p=0.3),\n",
    "    nn.ReLU(),\n",
    "\n",
    "    nn.Linear(256, 128),\n",
    "    nn.Dropout(p=0.3),\n",
    "    nn.ReLU(),\n",
    "    \n",
    "    nn.Linear(128, 64),\n",
    "    nn.Dropout(p=0.3),\n",
    "    nn.ReLU(),\n",
    "    \n",
    "    nn.Linear(64, 3)\n",
    ")\n",
    "\n",
    "device = torch.device(\"cuda\" if torch.cuda.is_available() else \"cpu\")\n",
    "print(f\"Dispositivo utilizado: {device}\")"
   ]
  },
  {
   "cell_type": "code",
   "execution_count": 11,
   "id": "4c273480-2d7c-4e82-93b5-cc5b02de3e82",
   "metadata": {},
   "outputs": [
    {
     "data": {
      "text/plain": [
       "Sequential(\n",
       "  (0): Conv2d(3, 32, kernel_size=(3, 3), stride=(1, 1), padding=(1, 1))\n",
       "  (1): BatchNorm2d(32, eps=1e-05, momentum=0.1, affine=True, track_running_stats=True)\n",
       "  (2): ReLU()\n",
       "  (3): MaxPool2d(kernel_size=2, stride=2, padding=0, dilation=1, ceil_mode=False)\n",
       "  (4): Conv2d(32, 64, kernel_size=(3, 3), stride=(1, 1), padding=(1, 1))\n",
       "  (5): BatchNorm2d(64, eps=1e-05, momentum=0.1, affine=True, track_running_stats=True)\n",
       "  (6): ReLU()\n",
       "  (7): MaxPool2d(kernel_size=2, stride=2, padding=0, dilation=1, ceil_mode=False)\n",
       "  (8): Conv2d(64, 128, kernel_size=(3, 3), stride=(1, 1), padding=(1, 1))\n",
       "  (9): BatchNorm2d(128, eps=1e-05, momentum=0.1, affine=True, track_running_stats=True)\n",
       "  (10): ReLU()\n",
       "  (11): MaxPool2d(kernel_size=2, stride=2, padding=0, dilation=1, ceil_mode=False)\n",
       "  (12): Flatten(start_dim=1, end_dim=-1)\n",
       "  (13): Linear(in_features=100352, out_features=256, bias=True)\n",
       "  (14): Dropout(p=0.3, inplace=False)\n",
       "  (15): ReLU()\n",
       "  (16): Linear(in_features=256, out_features=128, bias=True)\n",
       "  (17): Dropout(p=0.3, inplace=False)\n",
       "  (18): ReLU()\n",
       "  (19): Linear(in_features=128, out_features=64, bias=True)\n",
       "  (20): Dropout(p=0.3, inplace=False)\n",
       "  (21): ReLU()\n",
       "  (22): Linear(in_features=64, out_features=3, bias=True)\n",
       ")"
      ]
     },
     "execution_count": 11,
     "metadata": {},
     "output_type": "execute_result"
    }
   ],
   "source": [
    "model.to(device)"
   ]
  },
  {
   "cell_type": "code",
   "execution_count": 12,
   "id": "7852f30f-76af-4d58-89bb-6fb14936b060",
   "metadata": {},
   "outputs": [],
   "source": [
    "num_epoch = 250\n",
    "learning_rate = 0.001\n",
    "\n",
    "optimizer = optim.Adam(model.parameters(), lr=learning_rate)\n",
    "scheduler = optim.lr_scheduler.StepLR(optimizer, step_size=50, gamma=0.1)\n",
    "\n",
    "loss_fn = nn.CrossEntropyLoss()"
   ]
  },
  {
   "cell_type": "code",
   "execution_count": 13,
   "id": "687f4e6b-98ff-4199-b293-72274969f197",
   "metadata": {
    "scrolled": true
   },
   "outputs": [
    {
     "name": "stdout",
     "output_type": "stream",
     "text": [
      "Época 1/250 - Perda no treinamento: 1.717702 - Acurácia: 0.9167 - LR: 0.001\n",
      "Época 2/250 - Perda no treinamento: 0.499594 - Acurácia: 0.8333 - LR: 0.001\n",
      "Época 3/250 - Perda no treinamento: 0.279728 - Acurácia: 1.0000 - LR: 0.001\n",
      "Época 4/250 - Perda no treinamento: 0.230188 - Acurácia: 1.0000 - LR: 0.001\n",
      "Época 5/250 - Perda no treinamento: 0.198468 - Acurácia: 1.0000 - LR: 0.001\n",
      "Época 6/250 - Perda no treinamento: 0.223675 - Acurácia: 0.9167 - LR: 0.001\n",
      "Época 7/250 - Perda no treinamento: 0.132199 - Acurácia: 1.0000 - LR: 0.001\n",
      "Época 8/250 - Perda no treinamento: 0.104006 - Acurácia: 1.0000 - LR: 0.001\n",
      "Época 9/250 - Perda no treinamento: 0.155807 - Acurácia: 1.0000 - LR: 0.001\n",
      "Época 10/250 - Perda no treinamento: 0.095922 - Acurácia: 1.0000 - LR: 0.001\n",
      "Época 11/250 - Perda no treinamento: 0.070077 - Acurácia: 1.0000 - LR: 0.001\n",
      "Época 12/250 - Perda no treinamento: 0.185121 - Acurácia: 0.7500 - LR: 0.001\n",
      "Época 13/250 - Perda no treinamento: 0.120353 - Acurácia: 0.9167 - LR: 0.001\n",
      "Época 14/250 - Perda no treinamento: 0.077068 - Acurácia: 0.9167 - LR: 0.001\n",
      "Época 15/250 - Perda no treinamento: 0.110322 - Acurácia: 1.0000 - LR: 0.001\n",
      "Época 16/250 - Perda no treinamento: 0.085224 - Acurácia: 0.9167 - LR: 0.001\n",
      "Época 17/250 - Perda no treinamento: 0.074952 - Acurácia: 1.0000 - LR: 0.001\n",
      "Época 18/250 - Perda no treinamento: 0.038850 - Acurácia: 0.9167 - LR: 0.001\n",
      "Época 19/250 - Perda no treinamento: 0.046255 - Acurácia: 0.9167 - LR: 0.001\n",
      "Época 20/250 - Perda no treinamento: 0.079338 - Acurácia: 1.0000 - LR: 0.001\n",
      "Época 21/250 - Perda no treinamento: 0.056338 - Acurácia: 1.0000 - LR: 0.001\n",
      "Época 22/250 - Perda no treinamento: 0.037149 - Acurácia: 1.0000 - LR: 0.001\n",
      "Época 23/250 - Perda no treinamento: 0.023965 - Acurácia: 1.0000 - LR: 0.001\n",
      "Época 24/250 - Perda no treinamento: 0.023327 - Acurácia: 1.0000 - LR: 0.001\n",
      "Época 25/250 - Perda no treinamento: 0.023358 - Acurácia: 1.0000 - LR: 0.001\n",
      "Época 26/250 - Perda no treinamento: 0.025042 - Acurácia: 0.9167 - LR: 0.001\n",
      "Época 27/250 - Perda no treinamento: 0.071132 - Acurácia: 1.0000 - LR: 0.001\n",
      "Época 28/250 - Perda no treinamento: 0.045782 - Acurácia: 1.0000 - LR: 0.001\n",
      "Época 29/250 - Perda no treinamento: 0.084340 - Acurácia: 1.0000 - LR: 0.001\n",
      "Época 30/250 - Perda no treinamento: 0.050892 - Acurácia: 1.0000 - LR: 0.001\n",
      "Época 31/250 - Perda no treinamento: 0.086659 - Acurácia: 1.0000 - LR: 0.001\n",
      "Época 32/250 - Perda no treinamento: 0.036269 - Acurácia: 1.0000 - LR: 0.001\n",
      "Época 33/250 - Perda no treinamento: 0.015436 - Acurácia: 1.0000 - LR: 0.001\n",
      "Época 34/250 - Perda no treinamento: 0.025800 - Acurácia: 1.0000 - LR: 0.001\n",
      "Época 35/250 - Perda no treinamento: 0.008535 - Acurácia: 1.0000 - LR: 0.001\n",
      "Época 36/250 - Perda no treinamento: 0.008364 - Acurácia: 1.0000 - LR: 0.001\n",
      "Época 37/250 - Perda no treinamento: 0.010348 - Acurácia: 1.0000 - LR: 0.001\n",
      "Época 38/250 - Perda no treinamento: 0.033319 - Acurácia: 0.9167 - LR: 0.001\n",
      "Época 39/250 - Perda no treinamento: 0.032653 - Acurácia: 1.0000 - LR: 0.001\n",
      "Época 40/250 - Perda no treinamento: 0.085096 - Acurácia: 1.0000 - LR: 0.001\n",
      "Época 41/250 - Perda no treinamento: 0.093550 - Acurácia: 1.0000 - LR: 0.001\n",
      "Época 42/250 - Perda no treinamento: 0.045025 - Acurácia: 1.0000 - LR: 0.001\n",
      "Época 43/250 - Perda no treinamento: 0.017183 - Acurácia: 1.0000 - LR: 0.001\n",
      "Época 44/250 - Perda no treinamento: 0.038201 - Acurácia: 1.0000 - LR: 0.001\n",
      "Época 45/250 - Perda no treinamento: 0.077673 - Acurácia: 1.0000 - LR: 0.001\n",
      "Época 46/250 - Perda no treinamento: 0.025534 - Acurácia: 1.0000 - LR: 0.001\n",
      "Época 47/250 - Perda no treinamento: 0.010825 - Acurácia: 1.0000 - LR: 0.001\n",
      "Época 48/250 - Perda no treinamento: 0.017180 - Acurácia: 1.0000 - LR: 0.001\n",
      "Época 49/250 - Perda no treinamento: 0.023913 - Acurácia: 1.0000 - LR: 0.001\n",
      "Época 50/250 - Perda no treinamento: 0.006357 - Acurácia: 1.0000 - LR: 0.0001\n",
      "Época 51/250 - Perda no treinamento: 0.015025 - Acurácia: 0.9167 - LR: 0.0001\n",
      "Época 52/250 - Perda no treinamento: 0.001265 - Acurácia: 1.0000 - LR: 0.0001\n",
      "Época 53/250 - Perda no treinamento: 0.010192 - Acurácia: 1.0000 - LR: 0.0001\n",
      "Época 54/250 - Perda no treinamento: 0.001022 - Acurácia: 1.0000 - LR: 0.0001\n",
      "Época 55/250 - Perda no treinamento: 0.005184 - Acurácia: 1.0000 - LR: 0.0001\n",
      "Época 56/250 - Perda no treinamento: 0.005636 - Acurácia: 1.0000 - LR: 0.0001\n",
      "Época 57/250 - Perda no treinamento: 0.009334 - Acurácia: 1.0000 - LR: 0.0001\n",
      "Época 58/250 - Perda no treinamento: 0.010300 - Acurácia: 1.0000 - LR: 0.0001\n",
      "Época 59/250 - Perda no treinamento: 0.006636 - Acurácia: 1.0000 - LR: 0.0001\n",
      "Época 60/250 - Perda no treinamento: 0.002816 - Acurácia: 1.0000 - LR: 0.0001\n",
      "Época 61/250 - Perda no treinamento: 0.005715 - Acurácia: 1.0000 - LR: 0.0001\n",
      "Época 62/250 - Perda no treinamento: 0.002921 - Acurácia: 1.0000 - LR: 0.0001\n",
      "Época 63/250 - Perda no treinamento: 0.008998 - Acurácia: 1.0000 - LR: 0.0001\n",
      "Época 64/250 - Perda no treinamento: 0.002538 - Acurácia: 1.0000 - LR: 0.0001\n",
      "Época 65/250 - Perda no treinamento: 0.002667 - Acurácia: 1.0000 - LR: 0.0001\n",
      "Época 66/250 - Perda no treinamento: 0.001850 - Acurácia: 1.0000 - LR: 0.0001\n",
      "Época 67/250 - Perda no treinamento: 0.000273 - Acurácia: 1.0000 - LR: 0.0001\n",
      "Época 68/250 - Perda no treinamento: 0.002170 - Acurácia: 1.0000 - LR: 0.0001\n",
      "Época 69/250 - Perda no treinamento: 0.005170 - Acurácia: 1.0000 - LR: 0.0001\n",
      "Época 70/250 - Perda no treinamento: 0.009603 - Acurácia: 1.0000 - LR: 0.0001\n",
      "Época 71/250 - Perda no treinamento: 0.002036 - Acurácia: 1.0000 - LR: 0.0001\n",
      "Época 72/250 - Perda no treinamento: 0.001214 - Acurácia: 1.0000 - LR: 0.0001\n",
      "Época 73/250 - Perda no treinamento: 0.000760 - Acurácia: 1.0000 - LR: 0.0001\n",
      "Época 74/250 - Perda no treinamento: 0.001002 - Acurácia: 1.0000 - LR: 0.0001\n",
      "Época 75/250 - Perda no treinamento: 0.006993 - Acurácia: 1.0000 - LR: 0.0001\n",
      "Época 76/250 - Perda no treinamento: 0.001339 - Acurácia: 1.0000 - LR: 0.0001\n",
      "Época 77/250 - Perda no treinamento: 0.000901 - Acurácia: 1.0000 - LR: 0.0001\n",
      "Época 78/250 - Perda no treinamento: 0.001651 - Acurácia: 1.0000 - LR: 0.0001\n",
      "Época 79/250 - Perda no treinamento: 0.005577 - Acurácia: 1.0000 - LR: 0.0001\n",
      "Época 80/250 - Perda no treinamento: 0.003413 - Acurácia: 1.0000 - LR: 0.0001\n",
      "Época 81/250 - Perda no treinamento: 0.004411 - Acurácia: 1.0000 - LR: 0.0001\n",
      "Época 82/250 - Perda no treinamento: 0.002424 - Acurácia: 1.0000 - LR: 0.0001\n",
      "Época 83/250 - Perda no treinamento: 0.000496 - Acurácia: 1.0000 - LR: 0.0001\n",
      "Época 84/250 - Perda no treinamento: 0.007461 - Acurácia: 1.0000 - LR: 0.0001\n",
      "Época 85/250 - Perda no treinamento: 0.008763 - Acurácia: 1.0000 - LR: 0.0001\n",
      "Época 86/250 - Perda no treinamento: 0.000673 - Acurácia: 1.0000 - LR: 0.0001\n",
      "Época 87/250 - Perda no treinamento: 0.003626 - Acurácia: 1.0000 - LR: 0.0001\n",
      "Época 88/250 - Perda no treinamento: 0.000774 - Acurácia: 1.0000 - LR: 0.0001\n",
      "Época 89/250 - Perda no treinamento: 0.000522 - Acurácia: 1.0000 - LR: 0.0001\n",
      "Época 90/250 - Perda no treinamento: 0.002693 - Acurácia: 1.0000 - LR: 0.0001\n",
      "Época 91/250 - Perda no treinamento: 0.002958 - Acurácia: 1.0000 - LR: 0.0001\n",
      "Época 92/250 - Perda no treinamento: 0.000859 - Acurácia: 1.0000 - LR: 0.0001\n",
      "Época 93/250 - Perda no treinamento: 0.001074 - Acurácia: 1.0000 - LR: 0.0001\n",
      "Época 94/250 - Perda no treinamento: 0.001958 - Acurácia: 1.0000 - LR: 0.0001\n",
      "Época 95/250 - Perda no treinamento: 0.003027 - Acurácia: 1.0000 - LR: 0.0001\n",
      "Época 96/250 - Perda no treinamento: 0.003078 - Acurácia: 1.0000 - LR: 0.0001\n",
      "Época 97/250 - Perda no treinamento: 0.006873 - Acurácia: 1.0000 - LR: 0.0001\n",
      "Época 98/250 - Perda no treinamento: 0.001195 - Acurácia: 1.0000 - LR: 0.0001\n",
      "Época 99/250 - Perda no treinamento: 0.005990 - Acurácia: 1.0000 - LR: 0.0001\n",
      "Época 100/250 - Perda no treinamento: 0.002794 - Acurácia: 1.0000 - LR: 1e-05\n",
      "Época 101/250 - Perda no treinamento: 0.001979 - Acurácia: 1.0000 - LR: 1e-05\n",
      "Época 102/250 - Perda no treinamento: 0.000610 - Acurácia: 1.0000 - LR: 1e-05\n",
      "Época 103/250 - Perda no treinamento: 0.000781 - Acurácia: 1.0000 - LR: 1e-05\n",
      "Época 104/250 - Perda no treinamento: 0.000753 - Acurácia: 1.0000 - LR: 1e-05\n",
      "Época 105/250 - Perda no treinamento: 0.007747 - Acurácia: 1.0000 - LR: 1e-05\n",
      "Época 106/250 - Perda no treinamento: 0.006315 - Acurácia: 0.9167 - LR: 1e-05\n",
      "Época 107/250 - Perda no treinamento: 0.000360 - Acurácia: 1.0000 - LR: 1e-05\n",
      "Época 108/250 - Perda no treinamento: 0.000279 - Acurácia: 1.0000 - LR: 1e-05\n",
      "Época 109/250 - Perda no treinamento: 0.000550 - Acurácia: 1.0000 - LR: 1e-05\n",
      "Época 110/250 - Perda no treinamento: 0.001457 - Acurácia: 1.0000 - LR: 1e-05\n",
      "Época 111/250 - Perda no treinamento: 0.009673 - Acurácia: 1.0000 - LR: 1e-05\n",
      "Época 112/250 - Perda no treinamento: 0.000653 - Acurácia: 1.0000 - LR: 1e-05\n",
      "Época 113/250 - Perda no treinamento: 0.001536 - Acurácia: 1.0000 - LR: 1e-05\n",
      "Época 114/250 - Perda no treinamento: 0.001023 - Acurácia: 1.0000 - LR: 1e-05\n",
      "Época 115/250 - Perda no treinamento: 0.007971 - Acurácia: 0.9167 - LR: 1e-05\n",
      "Época 116/250 - Perda no treinamento: 0.000567 - Acurácia: 1.0000 - LR: 1e-05\n",
      "Época 117/250 - Perda no treinamento: 0.002176 - Acurácia: 1.0000 - LR: 1e-05\n",
      "Época 118/250 - Perda no treinamento: 0.000600 - Acurácia: 1.0000 - LR: 1e-05\n",
      "Época 119/250 - Perda no treinamento: 0.000734 - Acurácia: 1.0000 - LR: 1e-05\n",
      "Época 120/250 - Perda no treinamento: 0.001195 - Acurácia: 1.0000 - LR: 1e-05\n",
      "Época 121/250 - Perda no treinamento: 0.005598 - Acurácia: 1.0000 - LR: 1e-05\n",
      "Época 122/250 - Perda no treinamento: 0.006836 - Acurácia: 1.0000 - LR: 1e-05\n",
      "Época 123/250 - Perda no treinamento: 0.000552 - Acurácia: 1.0000 - LR: 1e-05\n",
      "Época 124/250 - Perda no treinamento: 0.004836 - Acurácia: 1.0000 - LR: 1e-05\n",
      "Época 125/250 - Perda no treinamento: 0.001886 - Acurácia: 1.0000 - LR: 1e-05\n",
      "Época 126/250 - Perda no treinamento: 0.000930 - Acurácia: 1.0000 - LR: 1e-05\n",
      "Época 127/250 - Perda no treinamento: 0.003090 - Acurácia: 1.0000 - LR: 1e-05\n",
      "Época 128/250 - Perda no treinamento: 0.000385 - Acurácia: 1.0000 - LR: 1e-05\n",
      "Época 129/250 - Perda no treinamento: 0.003264 - Acurácia: 1.0000 - LR: 1e-05\n",
      "Época 130/250 - Perda no treinamento: 0.000723 - Acurácia: 1.0000 - LR: 1e-05\n",
      "Época 131/250 - Perda no treinamento: 0.000431 - Acurácia: 1.0000 - LR: 1e-05\n",
      "Época 132/250 - Perda no treinamento: 0.000149 - Acurácia: 1.0000 - LR: 1e-05\n",
      "Época 133/250 - Perda no treinamento: 0.000243 - Acurácia: 1.0000 - LR: 1e-05\n",
      "Época 134/250 - Perda no treinamento: 0.000665 - Acurácia: 1.0000 - LR: 1e-05\n",
      "Época 135/250 - Perda no treinamento: 0.000485 - Acurácia: 1.0000 - LR: 1e-05\n",
      "Época 136/250 - Perda no treinamento: 0.000366 - Acurácia: 1.0000 - LR: 1e-05\n",
      "Época 137/250 - Perda no treinamento: 0.000198 - Acurácia: 1.0000 - LR: 1e-05\n",
      "Época 138/250 - Perda no treinamento: 0.001406 - Acurácia: 1.0000 - LR: 1e-05\n",
      "Época 139/250 - Perda no treinamento: 0.000890 - Acurácia: 1.0000 - LR: 1e-05\n",
      "Época 140/250 - Perda no treinamento: 0.000890 - Acurácia: 1.0000 - LR: 1e-05\n",
      "Época 141/250 - Perda no treinamento: 0.000934 - Acurácia: 1.0000 - LR: 1e-05\n",
      "Época 142/250 - Perda no treinamento: 0.003467 - Acurácia: 1.0000 - LR: 1e-05\n",
      "Época 143/250 - Perda no treinamento: 0.001745 - Acurácia: 1.0000 - LR: 1e-05\n",
      "Época 144/250 - Perda no treinamento: 0.000843 - Acurácia: 1.0000 - LR: 1e-05\n",
      "Época 145/250 - Perda no treinamento: 0.000525 - Acurácia: 1.0000 - LR: 1e-05\n",
      "Época 146/250 - Perda no treinamento: 0.000168 - Acurácia: 1.0000 - LR: 1e-05\n",
      "Época 147/250 - Perda no treinamento: 0.000480 - Acurácia: 1.0000 - LR: 1e-05\n",
      "Época 148/250 - Perda no treinamento: 0.000266 - Acurácia: 1.0000 - LR: 1e-05\n",
      "Época 149/250 - Perda no treinamento: 0.001371 - Acurácia: 1.0000 - LR: 1e-05\n",
      "Época 150/250 - Perda no treinamento: 0.002042 - Acurácia: 1.0000 - LR: 1.0000000000000002e-06\n",
      "Época 151/250 - Perda no treinamento: 0.000099 - Acurácia: 1.0000 - LR: 1.0000000000000002e-06\n",
      "Época 152/250 - Perda no treinamento: 0.000549 - Acurácia: 1.0000 - LR: 1.0000000000000002e-06\n",
      "Época 153/250 - Perda no treinamento: 0.001612 - Acurácia: 1.0000 - LR: 1.0000000000000002e-06\n",
      "Época 154/250 - Perda no treinamento: 0.000274 - Acurácia: 1.0000 - LR: 1.0000000000000002e-06\n",
      "Época 155/250 - Perda no treinamento: 0.000243 - Acurácia: 1.0000 - LR: 1.0000000000000002e-06\n",
      "Época 156/250 - Perda no treinamento: 0.000693 - Acurácia: 1.0000 - LR: 1.0000000000000002e-06\n",
      "Época 157/250 - Perda no treinamento: 0.000454 - Acurácia: 1.0000 - LR: 1.0000000000000002e-06\n",
      "Época 158/250 - Perda no treinamento: 0.003451 - Acurácia: 1.0000 - LR: 1.0000000000000002e-06\n",
      "Época 159/250 - Perda no treinamento: 0.000760 - Acurácia: 1.0000 - LR: 1.0000000000000002e-06\n",
      "Época 160/250 - Perda no treinamento: 0.001910 - Acurácia: 1.0000 - LR: 1.0000000000000002e-06\n",
      "Época 161/250 - Perda no treinamento: 0.000412 - Acurácia: 1.0000 - LR: 1.0000000000000002e-06\n",
      "Época 162/250 - Perda no treinamento: 0.000653 - Acurácia: 1.0000 - LR: 1.0000000000000002e-06\n",
      "Época 163/250 - Perda no treinamento: 0.003116 - Acurácia: 1.0000 - LR: 1.0000000000000002e-06\n",
      "Época 164/250 - Perda no treinamento: 0.000499 - Acurácia: 1.0000 - LR: 1.0000000000000002e-06\n",
      "Época 165/250 - Perda no treinamento: 0.000232 - Acurácia: 1.0000 - LR: 1.0000000000000002e-06\n",
      "Época 166/250 - Perda no treinamento: 0.000158 - Acurácia: 1.0000 - LR: 1.0000000000000002e-06\n",
      "Época 167/250 - Perda no treinamento: 0.001451 - Acurácia: 1.0000 - LR: 1.0000000000000002e-06\n",
      "Época 168/250 - Perda no treinamento: 0.000242 - Acurácia: 1.0000 - LR: 1.0000000000000002e-06\n",
      "Época 169/250 - Perda no treinamento: 0.000870 - Acurácia: 1.0000 - LR: 1.0000000000000002e-06\n",
      "Época 170/250 - Perda no treinamento: 0.001576 - Acurácia: 1.0000 - LR: 1.0000000000000002e-06\n",
      "Época 171/250 - Perda no treinamento: 0.000211 - Acurácia: 1.0000 - LR: 1.0000000000000002e-06\n",
      "Época 172/250 - Perda no treinamento: 0.000283 - Acurácia: 1.0000 - LR: 1.0000000000000002e-06\n",
      "Época 173/250 - Perda no treinamento: 0.002550 - Acurácia: 1.0000 - LR: 1.0000000000000002e-06\n",
      "Época 174/250 - Perda no treinamento: 0.001482 - Acurácia: 1.0000 - LR: 1.0000000000000002e-06\n",
      "Época 175/250 - Perda no treinamento: 0.000698 - Acurácia: 1.0000 - LR: 1.0000000000000002e-06\n",
      "Época 176/250 - Perda no treinamento: 0.000082 - Acurácia: 1.0000 - LR: 1.0000000000000002e-06\n",
      "Época 177/250 - Perda no treinamento: 0.001914 - Acurácia: 1.0000 - LR: 1.0000000000000002e-06\n",
      "Época 178/250 - Perda no treinamento: 0.001246 - Acurácia: 1.0000 - LR: 1.0000000000000002e-06\n",
      "Época 179/250 - Perda no treinamento: 0.001150 - Acurácia: 1.0000 - LR: 1.0000000000000002e-06\n",
      "Época 180/250 - Perda no treinamento: 0.000659 - Acurácia: 1.0000 - LR: 1.0000000000000002e-06\n",
      "Época 181/250 - Perda no treinamento: 0.000631 - Acurácia: 1.0000 - LR: 1.0000000000000002e-06\n",
      "Época 182/250 - Perda no treinamento: 0.000330 - Acurácia: 1.0000 - LR: 1.0000000000000002e-06\n",
      "Época 183/250 - Perda no treinamento: 0.005518 - Acurácia: 1.0000 - LR: 1.0000000000000002e-06\n",
      "Época 184/250 - Perda no treinamento: 0.000102 - Acurácia: 1.0000 - LR: 1.0000000000000002e-06\n",
      "Época 185/250 - Perda no treinamento: 0.002129 - Acurácia: 1.0000 - LR: 1.0000000000000002e-06\n",
      "Época 186/250 - Perda no treinamento: 0.000679 - Acurácia: 1.0000 - LR: 1.0000000000000002e-06\n",
      "Época 187/250 - Perda no treinamento: 0.000259 - Acurácia: 1.0000 - LR: 1.0000000000000002e-06\n",
      "Época 188/250 - Perda no treinamento: 0.002086 - Acurácia: 1.0000 - LR: 1.0000000000000002e-06\n",
      "Época 189/250 - Perda no treinamento: 0.007929 - Acurácia: 1.0000 - LR: 1.0000000000000002e-06\n",
      "Época 190/250 - Perda no treinamento: 0.000532 - Acurácia: 1.0000 - LR: 1.0000000000000002e-06\n",
      "Época 191/250 - Perda no treinamento: 0.000797 - Acurácia: 1.0000 - LR: 1.0000000000000002e-06\n",
      "Época 192/250 - Perda no treinamento: 0.001811 - Acurácia: 1.0000 - LR: 1.0000000000000002e-06\n",
      "Época 193/250 - Perda no treinamento: 0.003031 - Acurácia: 0.9167 - LR: 1.0000000000000002e-06\n",
      "Época 194/250 - Perda no treinamento: 0.002845 - Acurácia: 1.0000 - LR: 1.0000000000000002e-06\n",
      "Época 195/250 - Perda no treinamento: 0.000142 - Acurácia: 1.0000 - LR: 1.0000000000000002e-06\n",
      "Época 196/250 - Perda no treinamento: 0.000988 - Acurácia: 1.0000 - LR: 1.0000000000000002e-06\n",
      "Época 197/250 - Perda no treinamento: 0.000410 - Acurácia: 1.0000 - LR: 1.0000000000000002e-06\n",
      "Época 198/250 - Perda no treinamento: 0.000370 - Acurácia: 1.0000 - LR: 1.0000000000000002e-06\n",
      "Época 199/250 - Perda no treinamento: 0.000276 - Acurácia: 1.0000 - LR: 1.0000000000000002e-06\n",
      "Época 200/250 - Perda no treinamento: 0.000740 - Acurácia: 1.0000 - LR: 1.0000000000000002e-07\n",
      "Época 201/250 - Perda no treinamento: 0.001448 - Acurácia: 1.0000 - LR: 1.0000000000000002e-07\n",
      "Época 202/250 - Perda no treinamento: 0.000113 - Acurácia: 1.0000 - LR: 1.0000000000000002e-07\n",
      "Época 203/250 - Perda no treinamento: 0.003033 - Acurácia: 1.0000 - LR: 1.0000000000000002e-07\n",
      "Época 204/250 - Perda no treinamento: 0.000380 - Acurácia: 1.0000 - LR: 1.0000000000000002e-07\n",
      "Época 205/250 - Perda no treinamento: 0.004008 - Acurácia: 1.0000 - LR: 1.0000000000000002e-07\n",
      "Época 206/250 - Perda no treinamento: 0.000542 - Acurácia: 1.0000 - LR: 1.0000000000000002e-07\n",
      "Época 207/250 - Perda no treinamento: 0.004973 - Acurácia: 1.0000 - LR: 1.0000000000000002e-07\n",
      "Época 208/250 - Perda no treinamento: 0.000350 - Acurácia: 1.0000 - LR: 1.0000000000000002e-07\n",
      "Época 209/250 - Perda no treinamento: 0.001546 - Acurácia: 1.0000 - LR: 1.0000000000000002e-07\n",
      "Época 210/250 - Perda no treinamento: 0.001105 - Acurácia: 1.0000 - LR: 1.0000000000000002e-07\n",
      "Época 211/250 - Perda no treinamento: 0.000501 - Acurácia: 1.0000 - LR: 1.0000000000000002e-07\n",
      "Época 212/250 - Perda no treinamento: 0.000882 - Acurácia: 1.0000 - LR: 1.0000000000000002e-07\n",
      "Época 213/250 - Perda no treinamento: 0.000352 - Acurácia: 1.0000 - LR: 1.0000000000000002e-07\n",
      "Época 214/250 - Perda no treinamento: 0.000696 - Acurácia: 1.0000 - LR: 1.0000000000000002e-07\n",
      "Época 215/250 - Perda no treinamento: 0.000244 - Acurácia: 1.0000 - LR: 1.0000000000000002e-07\n",
      "Época 216/250 - Perda no treinamento: 0.000213 - Acurácia: 1.0000 - LR: 1.0000000000000002e-07\n",
      "Época 217/250 - Perda no treinamento: 0.000214 - Acurácia: 1.0000 - LR: 1.0000000000000002e-07\n",
      "Época 218/250 - Perda no treinamento: 0.000816 - Acurácia: 1.0000 - LR: 1.0000000000000002e-07\n",
      "Época 219/250 - Perda no treinamento: 0.001189 - Acurácia: 1.0000 - LR: 1.0000000000000002e-07\n",
      "Época 220/250 - Perda no treinamento: 0.000546 - Acurácia: 1.0000 - LR: 1.0000000000000002e-07\n",
      "Época 221/250 - Perda no treinamento: 0.000202 - Acurácia: 1.0000 - LR: 1.0000000000000002e-07\n",
      "Época 222/250 - Perda no treinamento: 0.002014 - Acurácia: 1.0000 - LR: 1.0000000000000002e-07\n",
      "Época 223/250 - Perda no treinamento: 0.000158 - Acurácia: 1.0000 - LR: 1.0000000000000002e-07\n",
      "Época 224/250 - Perda no treinamento: 0.003334 - Acurácia: 1.0000 - LR: 1.0000000000000002e-07\n",
      "Época 225/250 - Perda no treinamento: 0.000324 - Acurácia: 1.0000 - LR: 1.0000000000000002e-07\n",
      "Época 226/250 - Perda no treinamento: 0.000616 - Acurácia: 1.0000 - LR: 1.0000000000000002e-07\n",
      "Época 227/250 - Perda no treinamento: 0.000150 - Acurácia: 1.0000 - LR: 1.0000000000000002e-07\n",
      "Época 228/250 - Perda no treinamento: 0.003271 - Acurácia: 1.0000 - LR: 1.0000000000000002e-07\n",
      "Época 229/250 - Perda no treinamento: 0.000136 - Acurácia: 1.0000 - LR: 1.0000000000000002e-07\n",
      "Época 230/250 - Perda no treinamento: 0.001068 - Acurácia: 1.0000 - LR: 1.0000000000000002e-07\n",
      "Época 231/250 - Perda no treinamento: 0.002446 - Acurácia: 1.0000 - LR: 1.0000000000000002e-07\n",
      "Época 232/250 - Perda no treinamento: 0.002207 - Acurácia: 0.9167 - LR: 1.0000000000000002e-07\n",
      "Época 233/250 - Perda no treinamento: 0.000158 - Acurácia: 1.0000 - LR: 1.0000000000000002e-07\n",
      "Época 234/250 - Perda no treinamento: 0.002097 - Acurácia: 1.0000 - LR: 1.0000000000000002e-07\n",
      "Época 235/250 - Perda no treinamento: 0.003693 - Acurácia: 1.0000 - LR: 1.0000000000000002e-07\n",
      "Época 236/250 - Perda no treinamento: 0.000633 - Acurácia: 1.0000 - LR: 1.0000000000000002e-07\n",
      "Época 237/250 - Perda no treinamento: 0.001696 - Acurácia: 1.0000 - LR: 1.0000000000000002e-07\n",
      "Época 238/250 - Perda no treinamento: 0.000452 - Acurácia: 1.0000 - LR: 1.0000000000000002e-07\n",
      "Época 239/250 - Perda no treinamento: 0.003238 - Acurácia: 1.0000 - LR: 1.0000000000000002e-07\n",
      "Época 240/250 - Perda no treinamento: 0.000258 - Acurácia: 1.0000 - LR: 1.0000000000000002e-07\n",
      "Época 241/250 - Perda no treinamento: 0.000573 - Acurácia: 1.0000 - LR: 1.0000000000000002e-07\n",
      "Época 242/250 - Perda no treinamento: 0.003439 - Acurácia: 1.0000 - LR: 1.0000000000000002e-07\n",
      "Época 243/250 - Perda no treinamento: 0.000399 - Acurácia: 1.0000 - LR: 1.0000000000000002e-07\n",
      "Época 244/250 - Perda no treinamento: 0.005329 - Acurácia: 1.0000 - LR: 1.0000000000000002e-07\n",
      "Época 245/250 - Perda no treinamento: 0.000057 - Acurácia: 1.0000 - LR: 1.0000000000000002e-07\n",
      "Época 246/250 - Perda no treinamento: 0.000199 - Acurácia: 1.0000 - LR: 1.0000000000000002e-07\n",
      "Época 247/250 - Perda no treinamento: 0.000167 - Acurácia: 1.0000 - LR: 1.0000000000000002e-07\n",
      "Época 248/250 - Perda no treinamento: 0.002764 - Acurácia: 1.0000 - LR: 1.0000000000000002e-07\n",
      "Época 249/250 - Perda no treinamento: 0.000107 - Acurácia: 1.0000 - LR: 1.0000000000000002e-07\n",
      "Época 250/250 - Perda no treinamento: 0.000301 - Acurácia: 1.0000 - LR: 1.0000000000000004e-08\n",
      "\n",
      "Tempo total de treinamento: 3149.22 segundos\n"
     ]
    }
   ],
   "source": [
    "train_losses = []\n",
    "train_acc = []\n",
    "\n",
    "training_start_time = time.time()\n",
    "\n",
    "for epoch in range(num_epoch):\n",
    "    model.train()\n",
    "    running_train_loss = 0.0\n",
    "\n",
    "    for inputs, labels in train_loader:\n",
    "        inputs = inputs.to(device)\n",
    "        labels = labels.to(device)\n",
    "    \n",
    "        optimizer.zero_grad()\n",
    "        outputs = model(inputs)\n",
    "\n",
    "        loss = loss_fn(outputs, labels)\n",
    "        loss.backward()\n",
    "        optimizer.step()\n",
    "        running_train_loss += loss.item()\n",
    "\n",
    "    scheduler.step()\n",
    "\n",
    "    train_loss = running_train_loss / len(train_loader)\n",
    "    train_losses.append(train_loss)\n",
    "\n",
    "    _, predicted = torch.max(outputs.data, 1)\n",
    "\n",
    "    acc = accuracy_score(labels.cpu().detach().numpy(), predicted.cpu().detach().numpy())\n",
    "    train_acc.append(acc)\n",
    "\n",
    "    print(f\"Época {epoch + 1}/{num_epoch} - Perda no treinamento: {train_loss:.6f} - Acurácia: {acc:.4f} - LR: {scheduler.get_last_lr()[0]}\")\n",
    "\n",
    "training_time = time.time() - training_start_time\n",
    "print(f\"\\nTempo total de treinamento: {training_time:.2f} segundos\")"
   ]
  },
  {
   "cell_type": "code",
   "execution_count": 14,
   "id": "0041d957-3264-4d9e-94bc-7d4eb1ac6000",
   "metadata": {},
   "outputs": [
    {
     "data": {
      "text/plain": [
       "Text(0.5, 0.98, 'Treinamento')"
      ]
     },
     "execution_count": 14,
     "metadata": {},
     "output_type": "execute_result"
    },
    {
     "data": {
      "image/png": "[encoded data removed]",
      "text/plain": [
       "<Figure size 1200x500 with 2 Axes>"
      ]
     },
     "metadata": {},
     "output_type": "display_data"
    }
   ],
   "source": [
    "epochs = range(1, num_epoch + 1)\n",
    "\n",
    "plt.figure(figsize=(12, 5))\n",
    "\n",
    "plt.subplot(1, 2, 1)\n",
    "plt.plot(epochs, train_losses, 'bo-')\n",
    "plt.xlabel('Épocas')\n",
    "plt.ylabel('Perda')\n",
    "\n",
    "plt.subplot(1, 2, 2)\n",
    "plt.plot(epochs, train_acc, 'ro-')\n",
    "plt.xlabel('Épocas')\n",
    "plt.ylabel('Acurácia')\n",
    "\n",
    "plt.suptitle(\"Treinamento\", fontsize = 20)"
   ]
  },
  {
   "cell_type": "code",
   "execution_count": 15,
   "id": "d488edcf-2fa7-4adc-b9ea-58111d5b250c",
   "metadata": {},
   "outputs": [
    {
     "name": "stdout",
     "output_type": "stream",
     "text": [
      "!!!Teste finalizado!!!\n"
     ]
    }
   ],
   "source": [
    "rot_array = []\n",
    "predt_array = []\n",
    "\n",
    "model.eval()\n",
    "    \n",
    "with torch.no_grad():\n",
    "        \n",
    "    for images, labels in test_loader:\n",
    "        images = images.to(device)\n",
    "        labels = labels.to(device)\n",
    "        \n",
    "        outputs = model(images)\n",
    "        _, predicted = torch.max(outputs.data, 1)\n",
    "\n",
    "        rot_array.extend(labels.cpu().detach().numpy())\n",
    "        predt_array.extend(predicted.cpu().detach().numpy())\n",
    "\n",
    "print(\"!!!Teste finalizado!!!\")"
   ]
  },
  {
   "cell_type": "markdown",
   "id": "db5d7bfa-3d44-4194-b113-d5721c9f140e",
   "metadata": {},
   "source": [
    "# <center>Métricas de avaliação</center>"
   ]
  },
  {
   "cell_type": "code",
   "execution_count": 16,
   "id": "628e9ecc-ce7e-4983-8926-4efccfceb59f",
   "metadata": {},
   "outputs": [
    {
     "data": {
      "image/png": "[encoded data removed]",
      "text/plain": [
       "<Figure size 640x480 with 2 Axes>"
      ]
     },
     "metadata": {},
     "output_type": "display_data"
    }
   ],
   "source": [
    "cm = confusion_matrix(rot_array, predt_array)\n",
    "\n",
    "disp = ConfusionMatrixDisplay(confusion_matrix=cm, display_labels=['Normal', 'Pneumonia', 'Tuberculose'])\n",
    "disp.plot(cmap=plt.cm.Blues)\n",
    "\n",
    "plt.xlabel('Rótulo previsto')\n",
    "plt.ylabel('Rótulo verdadeiro')\n",
    "plt.show()"
   ]
  },
  {
   "cell_type": "code",
   "execution_count": 17,
   "id": "8fbd9294-a1a3-4f3e-aaf6-73261fda3b87",
   "metadata": {},
   "outputs": [
    {
     "name": "stdout",
     "output_type": "stream",
     "text": [
      "Acurácia: 94.33%\n"
     ]
    }
   ],
   "source": [
    "acc = accuracy_score(rot_array, predt_array)\n",
    "print(f\"Acurácia: {acc * 100 :.2f}%\")"
   ]
  },
  {
   "cell_type": "code",
   "execution_count": 18,
   "id": "351feaf8-0fc9-47b7-b1d0-ff121ff5029c",
   "metadata": {},
   "outputs": [
    {
     "name": "stdout",
     "output_type": "stream",
     "text": [
      "Precisão: 94.33%\n"
     ]
    }
   ],
   "source": [
    "precision = precision_score(rot_array, predt_array, average='weighted')\n",
    "print(f\"Precisão: {precision * 100 :.2f}%\")"
   ]
  },
  {
   "cell_type": "code",
   "execution_count": 19,
   "id": "42782efb-0e53-4de5-b39e-9f89f999ad6c",
   "metadata": {},
   "outputs": [
    {
     "name": "stdout",
     "output_type": "stream",
     "text": [
      "Recall: 94.33%\n"
     ]
    }
   ],
   "source": [
    "recall = recall_score(rot_array, predt_array, average='weighted')\n",
    "print(f\"Recall: {recall * 100 :.2f}%\")"
   ]
  },
  {
   "cell_type": "code",
   "execution_count": 20,
   "id": "846cd0eb-a7b5-4794-acad-0e66d05ee3ce",
   "metadata": {},
   "outputs": [
    {
     "name": "stdout",
     "output_type": "stream",
     "text": [
      "F1 Score: 94.29%\n"
     ]
    }
   ],
   "source": [
    "f1 = f1_score(rot_array, predt_array, average='weighted')\n",
    "print(f\"F1 Score: {f1 * 100 :.2f}%\")"
   ]
  }
 ],
 "metadata": {
  "kernelspec": {
   "display_name": "Python 3 (ipykernel)",
   "language": "python",
   "name": "python3"
  },
  "language_info": {
   "codemirror_mode": {
    "name": "ipython",
    "version": 3
   },
   "file_extension": ".py",
   "mimetype": "text/x-python",
   "name": "python",
   "nbconvert_exporter": "python",
   "pygments_lexer": "ipython3",
   "version": "3.12.8"
  }
 },
 "nbformat": 4,
 "nbformat_minor": 5
}
