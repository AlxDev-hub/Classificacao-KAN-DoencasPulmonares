{
 "cells": [
  {
   "cell_type": "markdown",
   "id": "6855a8d8-a76b-4896-81c4-b8156120107f",
   "metadata": {},
   "source": [
    "# <center>Bibliotecas utilizadas</center>"
   ]
  },
  {
   "cell_type": "code",
   "execution_count": 1,
   "id": "1f64ec00-9531-44bd-8ca9-9fcf0da006a6",
   "metadata": {},
   "outputs": [],
   "source": [
    "from fastkan import FastKAN as KAN\n",
    "\n",
    "import time\n",
    "import numpy as np\n",
    "import matplotlib.pyplot as plt\n",
    "\n",
    "import torch\n",
    "import torch.nn as nn\n",
    "import torch.optim as optim\n",
    "from torchvision import datasets, transforms\n",
    "from torch.utils.data import DataLoader, random_split\n",
    "\n",
    "from sklearn.metrics import *"
   ]
  },
  {
   "cell_type": "markdown",
   "id": "ae56c89e-e3c7-4ccd-bb43-e121a98fa2fe",
   "metadata": {},
   "source": [
    "# <center>Pré-processamento dos dados</center>"
   ]
  },
  {
   "cell_type": "code",
   "execution_count": 2,
   "id": "8c196e86-6689-4567-bb8e-f16c664e48e2",
   "metadata": {},
   "outputs": [],
   "source": [
    "dataset_path = 'dataset_teste3'"
   ]
  },
  {
   "cell_type": "code",
   "execution_count": 3,
   "id": "e140c4b1-1881-4b33-b314-bc14f0ce7cec",
   "metadata": {},
   "outputs": [],
   "source": [
    "transform = transforms.Compose(\n",
    "    [transforms.Resize(size = (164,164)),\n",
    "     transforms.RandomRotation(degrees=15),\n",
    "     transforms.RandomAffine(degrees=0, translate=(0.1, 0.1), scale=(0.9, 1.1), shear=10),\n",
    "     transforms.ColorJitter(brightness=0.2, contrast=0.2, saturation=0.1, hue=0.1),\n",
    "     transforms.ToTensor(),\n",
    "     transforms.Normalize(mean=[0.5], std=[0.5])\n",
    "    ]\n",
    ")"
   ]
  },
  {
   "cell_type": "code",
   "execution_count": 4,
   "id": "3baca18f",
   "metadata": {},
   "outputs": [],
   "source": [
    "dataset = datasets.ImageFolder(dataset_path, transform = transform)"
   ]
  },
  {
   "cell_type": "code",
   "execution_count": 5,
   "id": "96b5b525-8463-47c7-8807-1f34a37dc669",
   "metadata": {},
   "outputs": [
    {
     "name": "stdout",
     "output_type": "stream",
     "text": [
      "Informações sobre o Dataset: \n",
      "\n",
      " Dataset ImageFolder\n",
      "    Number of datapoints: 5000\n",
      "    Root location: dataset_teste3\n",
      "    StandardTransform\n",
      "Transform: Compose(\n",
      "               Resize(size=(164, 164), interpolation=bilinear, max_size=None, antialias=True)\n",
      "               RandomRotation(degrees=[-15.0, 15.0], interpolation=nearest, expand=False, fill=0)\n",
      "               RandomAffine(degrees=[0.0, 0.0], translate=(0.1, 0.1), scale=(0.9, 1.1), shear=[-10.0, 10.0])\n",
      "               ColorJitter(brightness=(0.8, 1.2), contrast=(0.8, 1.2), saturation=(0.9, 1.1), hue=(-0.1, 0.1))\n",
      "               ToTensor()\n",
      "               Normalize(mean=[0.5], std=[0.5])\n",
      "           )\n",
      "\n",
      "Rótulos:  {'NORMAL': 0, 'PNEUMONIA': 1, 'TUBERCULOSE': 2}\n"
     ]
    }
   ],
   "source": [
    "print(\"Informações sobre o Dataset: \\n\\n\", dataset)\n",
    "print(\"\\nRótulos: \", dataset.class_to_idx)"
   ]
  },
  {
   "cell_type": "code",
   "execution_count": 6,
   "id": "982aeb7f-3940-43cf-82a9-3c66bc1f1d47",
   "metadata": {},
   "outputs": [],
   "source": [
    "train_size = int(0.7 * len(dataset))\n",
    "test_size = len(dataset) - train_size\n",
    "\n",
    "train_dataset, test_dataset = random_split(dataset, [train_size, test_size])"
   ]
  },
  {
   "cell_type": "code",
   "execution_count": 7,
   "id": "69b21bef",
   "metadata": {},
   "outputs": [],
   "source": [
    "train_loader = DataLoader(train_dataset, batch_size=28, shuffle=True)\n",
    "test_loader = DataLoader(test_dataset, batch_size=30, shuffle=False)"
   ]
  },
  {
   "cell_type": "markdown",
   "id": "3aced6a8-6811-47ee-926e-11c777215a60",
   "metadata": {},
   "source": [
    "# <center>Implementação da arquitetura *fastKAN*</center>"
   ]
  },
  {
   "cell_type": "code",
   "execution_count": 8,
   "id": "83c60357-3bee-47cf-bcc6-95041ca67f7b",
   "metadata": {},
   "outputs": [
    {
     "data": {
      "text/plain": [
       "FastKAN(\n",
       "  (layers): ModuleList(\n",
       "    (0): FastKANLayer(\n",
       "      (layernorm): LayerNorm((80688,), eps=1e-05, elementwise_affine=True)\n",
       "      (rbf): RadialBasisFunction()\n",
       "      (spline_linear): SplineLinear(in_features=645504, out_features=164, bias=False)\n",
       "      (base_linear): Linear(in_features=80688, out_features=164, bias=True)\n",
       "    )\n",
       "    (1): FastKANLayer(\n",
       "      (layernorm): LayerNorm((164,), eps=1e-05, elementwise_affine=True)\n",
       "      (rbf): RadialBasisFunction()\n",
       "      (spline_linear): SplineLinear(in_features=1312, out_features=64, bias=False)\n",
       "      (base_linear): Linear(in_features=164, out_features=64, bias=True)\n",
       "    )\n",
       "    (2): FastKANLayer(\n",
       "      (layernorm): LayerNorm((64,), eps=1e-05, elementwise_affine=True)\n",
       "      (rbf): RadialBasisFunction()\n",
       "      (spline_linear): SplineLinear(in_features=512, out_features=3, bias=False)\n",
       "      (base_linear): Linear(in_features=64, out_features=3, bias=True)\n",
       "    )\n",
       "  )\n",
       ")"
      ]
     },
     "execution_count": 8,
     "metadata": {},
     "output_type": "execute_result"
    }
   ],
   "source": [
    "model = KAN([164*164*3, 164, 64, 3])\n",
    "\n",
    "device = torch.device(\"cuda\" if torch.cuda.is_available() else \"cpu\")\n",
    "model.to(device)"
   ]
  },
  {
   "cell_type": "code",
   "execution_count": 9,
   "id": "90226ee4-b269-4744-9bb5-5dc35865363c",
   "metadata": {},
   "outputs": [],
   "source": [
    "num_epoch = 250\n",
    "learning_rate = 0.001\n",
    "optimizer = optim.Adam(model.parameters(), lr=learning_rate)\n",
    "loss_fn = nn.CrossEntropyLoss()"
   ]
  },
  {
   "cell_type": "code",
   "execution_count": 10,
   "id": "b5dcfc2a-c400-48a7-b6da-33129b8d6b6f",
   "metadata": {
    "scrolled": true
   },
   "outputs": [
    {
     "name": "stdout",
     "output_type": "stream",
     "text": [
      "Época 1/250 - Perda no treinamento: 2.529781 - Acurácia: 0.7500\n",
      "Época 2/250 - Perda no treinamento: 0.596693 - Acurácia: 0.8929\n",
      "Época 3/250 - Perda no treinamento: 0.447120 - Acurácia: 0.8929\n",
      "Época 4/250 - Perda no treinamento: 0.511440 - Acurácia: 0.9643\n",
      "Época 5/250 - Perda no treinamento: 0.362438 - Acurácia: 0.8214\n",
      "Época 6/250 - Perda no treinamento: 0.343309 - Acurácia: 0.8214\n",
      "Época 7/250 - Perda no treinamento: 0.294116 - Acurácia: 1.0000\n",
      "Época 8/250 - Perda no treinamento: 0.310561 - Acurácia: 0.9286\n",
      "Época 9/250 - Perda no treinamento: 0.281181 - Acurácia: 0.8571\n",
      "Época 10/250 - Perda no treinamento: 0.256999 - Acurácia: 0.9286\n",
      "Época 11/250 - Perda no treinamento: 0.254998 - Acurácia: 0.9286\n",
      "Época 12/250 - Perda no treinamento: 0.231491 - Acurácia: 0.8929\n",
      "Época 13/250 - Perda no treinamento: 0.263742 - Acurácia: 0.9286\n",
      "Época 14/250 - Perda no treinamento: 0.232740 - Acurácia: 0.9286\n",
      "Época 15/250 - Perda no treinamento: 0.245393 - Acurácia: 0.7500\n",
      "Época 16/250 - Perda no treinamento: 0.247275 - Acurácia: 0.9286\n",
      "Época 17/250 - Perda no treinamento: 0.262593 - Acurácia: 0.9643\n",
      "Época 18/250 - Perda no treinamento: 0.218631 - Acurácia: 0.8929\n",
      "Época 19/250 - Perda no treinamento: 0.242281 - Acurácia: 0.8929\n",
      "Época 20/250 - Perda no treinamento: 0.226515 - Acurácia: 0.8571\n",
      "Época 21/250 - Perda no treinamento: 0.240725 - Acurácia: 0.8571\n",
      "Época 22/250 - Perda no treinamento: 0.217069 - Acurácia: 0.8929\n",
      "Época 23/250 - Perda no treinamento: 0.202065 - Acurácia: 0.8929\n",
      "Época 24/250 - Perda no treinamento: 0.201548 - Acurácia: 0.8929\n",
      "Época 25/250 - Perda no treinamento: 0.227712 - Acurácia: 0.9643\n",
      "Época 26/250 - Perda no treinamento: 0.217077 - Acurácia: 0.9643\n",
      "Época 27/250 - Perda no treinamento: 0.234964 - Acurácia: 0.9286\n",
      "Época 28/250 - Perda no treinamento: 0.220088 - Acurácia: 0.9643\n",
      "Época 29/250 - Perda no treinamento: 0.206050 - Acurácia: 1.0000\n",
      "Época 30/250 - Perda no treinamento: 0.201365 - Acurácia: 0.7857\n",
      "Época 31/250 - Perda no treinamento: 0.202050 - Acurácia: 0.9286\n",
      "Época 32/250 - Perda no treinamento: 0.199875 - Acurácia: 0.9643\n",
      "Época 33/250 - Perda no treinamento: 0.200398 - Acurácia: 0.9643\n",
      "Época 34/250 - Perda no treinamento: 0.202340 - Acurácia: 0.9643\n",
      "Época 35/250 - Perda no treinamento: 0.196788 - Acurácia: 1.0000\n",
      "Época 36/250 - Perda no treinamento: 0.187533 - Acurácia: 0.9286\n",
      "Época 37/250 - Perda no treinamento: 0.186688 - Acurácia: 0.8929\n",
      "Época 38/250 - Perda no treinamento: 0.207026 - Acurácia: 0.8929\n",
      "Época 39/250 - Perda no treinamento: 0.174801 - Acurácia: 0.9643\n",
      "Época 40/250 - Perda no treinamento: 0.184830 - Acurácia: 0.8929\n",
      "Época 41/250 - Perda no treinamento: 0.174436 - Acurácia: 0.9286\n",
      "Época 42/250 - Perda no treinamento: 0.207894 - Acurácia: 0.9643\n",
      "Época 43/250 - Perda no treinamento: 0.169751 - Acurácia: 0.9286\n",
      "Época 44/250 - Perda no treinamento: 0.196202 - Acurácia: 0.9643\n",
      "Época 45/250 - Perda no treinamento: 0.152789 - Acurácia: 0.8571\n",
      "Época 46/250 - Perda no treinamento: 0.153304 - Acurácia: 0.9286\n",
      "Época 47/250 - Perda no treinamento: 0.188854 - Acurácia: 0.9286\n",
      "Época 48/250 - Perda no treinamento: 0.185979 - Acurácia: 0.8214\n",
      "Época 49/250 - Perda no treinamento: 0.171369 - Acurácia: 0.9643\n",
      "Época 50/250 - Perda no treinamento: 0.153424 - Acurácia: 0.9286\n",
      "Época 51/250 - Perda no treinamento: 0.168246 - Acurácia: 0.9286\n",
      "Época 52/250 - Perda no treinamento: 0.164287 - Acurácia: 0.8214\n",
      "Época 53/250 - Perda no treinamento: 0.147040 - Acurácia: 1.0000\n",
      "Época 54/250 - Perda no treinamento: 0.176723 - Acurácia: 0.9643\n",
      "Época 55/250 - Perda no treinamento: 0.171341 - Acurácia: 1.0000\n",
      "Época 56/250 - Perda no treinamento: 0.167194 - Acurácia: 0.8929\n",
      "Época 57/250 - Perda no treinamento: 0.161185 - Acurácia: 1.0000\n",
      "Época 58/250 - Perda no treinamento: 0.160230 - Acurácia: 0.9643\n",
      "Época 59/250 - Perda no treinamento: 0.149740 - Acurácia: 0.9286\n",
      "Época 60/250 - Perda no treinamento: 0.157190 - Acurácia: 0.8929\n",
      "Época 61/250 - Perda no treinamento: 0.156749 - Acurácia: 1.0000\n",
      "Época 62/250 - Perda no treinamento: 0.158739 - Acurácia: 0.9643\n",
      "Época 63/250 - Perda no treinamento: 0.158738 - Acurácia: 0.9643\n",
      "Época 64/250 - Perda no treinamento: 0.145617 - Acurácia: 0.8929\n",
      "Época 65/250 - Perda no treinamento: 0.131338 - Acurácia: 0.8929\n",
      "Época 66/250 - Perda no treinamento: 0.148350 - Acurácia: 0.9643\n",
      "Época 67/250 - Perda no treinamento: 0.145962 - Acurácia: 1.0000\n",
      "Época 68/250 - Perda no treinamento: 0.146194 - Acurácia: 1.0000\n",
      "Época 69/250 - Perda no treinamento: 0.142145 - Acurácia: 0.9643\n",
      "Época 70/250 - Perda no treinamento: 0.150690 - Acurácia: 1.0000\n",
      "Época 71/250 - Perda no treinamento: 0.159278 - Acurácia: 0.9643\n",
      "Época 72/250 - Perda no treinamento: 0.141890 - Acurácia: 0.9286\n",
      "Época 73/250 - Perda no treinamento: 0.139727 - Acurácia: 0.9643\n",
      "Época 74/250 - Perda no treinamento: 0.150031 - Acurácia: 0.9643\n",
      "Época 75/250 - Perda no treinamento: 0.153656 - Acurácia: 0.9643\n",
      "Época 76/250 - Perda no treinamento: 0.151695 - Acurácia: 0.9286\n",
      "Época 77/250 - Perda no treinamento: 0.144040 - Acurácia: 0.8929\n",
      "Época 78/250 - Perda no treinamento: 0.143007 - Acurácia: 0.9286\n",
      "Época 79/250 - Perda no treinamento: 0.138872 - Acurácia: 0.9643\n",
      "Época 80/250 - Perda no treinamento: 0.148946 - Acurácia: 0.8929\n",
      "Época 81/250 - Perda no treinamento: 0.134018 - Acurácia: 0.9643\n",
      "Época 82/250 - Perda no treinamento: 0.140154 - Acurácia: 0.8929\n",
      "Época 83/250 - Perda no treinamento: 0.134046 - Acurácia: 0.8571\n",
      "Época 84/250 - Perda no treinamento: 0.135408 - Acurácia: 0.9643\n",
      "Época 85/250 - Perda no treinamento: 0.144820 - Acurácia: 0.9286\n",
      "Época 86/250 - Perda no treinamento: 0.127775 - Acurácia: 0.9643\n",
      "Época 87/250 - Perda no treinamento: 0.127410 - Acurácia: 0.9286\n",
      "Época 88/250 - Perda no treinamento: 0.129884 - Acurácia: 0.9643\n",
      "Época 89/250 - Perda no treinamento: 0.130519 - Acurácia: 0.9643\n",
      "Época 90/250 - Perda no treinamento: 0.142072 - Acurácia: 0.9643\n",
      "Época 91/250 - Perda no treinamento: 0.135306 - Acurácia: 0.9643\n",
      "Época 92/250 - Perda no treinamento: 0.144923 - Acurácia: 0.9643\n",
      "Época 93/250 - Perda no treinamento: 0.141512 - Acurácia: 0.8214\n",
      "Época 94/250 - Perda no treinamento: 0.126107 - Acurácia: 1.0000\n",
      "Época 95/250 - Perda no treinamento: 0.126057 - Acurácia: 1.0000\n",
      "Época 96/250 - Perda no treinamento: 0.124003 - Acurácia: 0.9643\n",
      "Época 97/250 - Perda no treinamento: 0.132092 - Acurácia: 0.8929\n",
      "Época 98/250 - Perda no treinamento: 0.151670 - Acurácia: 0.8571\n",
      "Época 99/250 - Perda no treinamento: 0.133285 - Acurácia: 1.0000\n",
      "Época 100/250 - Perda no treinamento: 0.119676 - Acurácia: 0.9643\n",
      "Época 101/250 - Perda no treinamento: 0.133699 - Acurácia: 0.9643\n",
      "Época 102/250 - Perda no treinamento: 0.126250 - Acurácia: 0.8929\n",
      "Época 103/250 - Perda no treinamento: 0.125315 - Acurácia: 1.0000\n",
      "Época 104/250 - Perda no treinamento: 0.124672 - Acurácia: 0.9643\n",
      "Época 105/250 - Perda no treinamento: 0.129097 - Acurácia: 0.9643\n",
      "Época 106/250 - Perda no treinamento: 0.133478 - Acurácia: 0.9286\n",
      "Época 107/250 - Perda no treinamento: 0.115742 - Acurácia: 0.9643\n",
      "Época 108/250 - Perda no treinamento: 0.127943 - Acurácia: 0.9286\n",
      "Época 109/250 - Perda no treinamento: 0.131344 - Acurácia: 0.9286\n",
      "Época 110/250 - Perda no treinamento: 0.109980 - Acurácia: 0.9643\n",
      "Época 111/250 - Perda no treinamento: 0.105434 - Acurácia: 0.9286\n",
      "Época 112/250 - Perda no treinamento: 0.116769 - Acurácia: 0.8929\n",
      "Época 113/250 - Perda no treinamento: 0.130292 - Acurácia: 1.0000\n",
      "Época 114/250 - Perda no treinamento: 0.119944 - Acurácia: 0.8214\n",
      "Época 115/250 - Perda no treinamento: 0.134037 - Acurácia: 1.0000\n",
      "Época 116/250 - Perda no treinamento: 0.136830 - Acurácia: 1.0000\n",
      "Época 117/250 - Perda no treinamento: 0.133017 - Acurácia: 1.0000\n",
      "Época 118/250 - Perda no treinamento: 0.124983 - Acurácia: 0.9643\n",
      "Época 119/250 - Perda no treinamento: 0.108835 - Acurácia: 0.9286\n",
      "Época 120/250 - Perda no treinamento: 0.114773 - Acurácia: 0.9643\n",
      "Época 121/250 - Perda no treinamento: 0.111890 - Acurácia: 0.9643\n",
      "Época 122/250 - Perda no treinamento: 0.099671 - Acurácia: 1.0000\n",
      "Época 123/250 - Perda no treinamento: 0.111027 - Acurácia: 0.8929\n",
      "Época 124/250 - Perda no treinamento: 0.118315 - Acurácia: 1.0000\n",
      "Época 125/250 - Perda no treinamento: 0.126125 - Acurácia: 1.0000\n",
      "Época 126/250 - Perda no treinamento: 0.108712 - Acurácia: 0.8929\n",
      "Época 127/250 - Perda no treinamento: 0.108553 - Acurácia: 0.9286\n",
      "Época 128/250 - Perda no treinamento: 0.101479 - Acurácia: 0.9643\n",
      "Época 129/250 - Perda no treinamento: 0.110925 - Acurácia: 1.0000\n",
      "Época 130/250 - Perda no treinamento: 0.106543 - Acurácia: 0.9286\n",
      "Época 131/250 - Perda no treinamento: 0.118702 - Acurácia: 0.9643\n",
      "Época 132/250 - Perda no treinamento: 0.115921 - Acurácia: 0.9643\n",
      "Época 133/250 - Perda no treinamento: 0.107383 - Acurácia: 0.9643\n",
      "Época 134/250 - Perda no treinamento: 0.099607 - Acurácia: 0.9643\n",
      "Época 135/250 - Perda no treinamento: 0.110256 - Acurácia: 1.0000\n",
      "Época 136/250 - Perda no treinamento: 0.109676 - Acurácia: 1.0000\n",
      "Época 137/250 - Perda no treinamento: 0.113866 - Acurácia: 1.0000\n",
      "Época 138/250 - Perda no treinamento: 0.105546 - Acurácia: 1.0000\n",
      "Época 139/250 - Perda no treinamento: 0.097459 - Acurácia: 0.8929\n",
      "Época 140/250 - Perda no treinamento: 0.096683 - Acurácia: 0.9643\n",
      "Época 141/250 - Perda no treinamento: 0.099541 - Acurácia: 1.0000\n",
      "Época 142/250 - Perda no treinamento: 0.115525 - Acurácia: 0.9286\n",
      "Época 143/250 - Perda no treinamento: 0.105192 - Acurácia: 0.9643\n",
      "Época 144/250 - Perda no treinamento: 0.092785 - Acurácia: 0.9643\n",
      "Época 145/250 - Perda no treinamento: 0.106381 - Acurácia: 0.9286\n",
      "Época 146/250 - Perda no treinamento: 0.102487 - Acurácia: 0.8929\n",
      "Época 147/250 - Perda no treinamento: 0.096439 - Acurácia: 0.8929\n",
      "Época 148/250 - Perda no treinamento: 0.096266 - Acurácia: 0.9643\n",
      "Época 149/250 - Perda no treinamento: 0.087785 - Acurácia: 0.9643\n",
      "Época 150/250 - Perda no treinamento: 0.092049 - Acurácia: 0.8929\n",
      "Época 151/250 - Perda no treinamento: 0.086411 - Acurácia: 1.0000\n",
      "Época 152/250 - Perda no treinamento: 0.090166 - Acurácia: 0.9286\n",
      "Época 153/250 - Perda no treinamento: 0.101773 - Acurácia: 0.9643\n",
      "Época 154/250 - Perda no treinamento: 0.099298 - Acurácia: 0.8929\n",
      "Época 155/250 - Perda no treinamento: 0.121956 - Acurácia: 1.0000\n",
      "Época 156/250 - Perda no treinamento: 0.098611 - Acurácia: 0.9286\n",
      "Época 157/250 - Perda no treinamento: 0.096387 - Acurácia: 1.0000\n",
      "Época 158/250 - Perda no treinamento: 0.088681 - Acurácia: 0.9643\n",
      "Época 159/250 - Perda no treinamento: 0.080492 - Acurácia: 1.0000\n",
      "Época 160/250 - Perda no treinamento: 0.101825 - Acurácia: 0.9643\n",
      "Época 161/250 - Perda no treinamento: 0.099980 - Acurácia: 0.8929\n",
      "Época 162/250 - Perda no treinamento: 0.103049 - Acurácia: 0.9643\n",
      "Época 163/250 - Perda no treinamento: 0.090155 - Acurácia: 0.9643\n",
      "Época 164/250 - Perda no treinamento: 0.108039 - Acurácia: 0.8571\n",
      "Época 165/250 - Perda no treinamento: 0.097014 - Acurácia: 0.9643\n",
      "Época 166/250 - Perda no treinamento: 0.094406 - Acurácia: 0.9643\n",
      "Época 167/250 - Perda no treinamento: 0.099127 - Acurácia: 0.8929\n",
      "Época 168/250 - Perda no treinamento: 0.096128 - Acurácia: 0.9643\n",
      "Época 169/250 - Perda no treinamento: 0.086393 - Acurácia: 1.0000\n",
      "Época 170/250 - Perda no treinamento: 0.093853 - Acurácia: 0.9643\n",
      "Época 171/250 - Perda no treinamento: 0.091733 - Acurácia: 1.0000\n",
      "Época 172/250 - Perda no treinamento: 0.091091 - Acurácia: 0.9286\n",
      "Época 173/250 - Perda no treinamento: 0.086937 - Acurácia: 1.0000\n",
      "Época 174/250 - Perda no treinamento: 0.101148 - Acurácia: 0.9643\n",
      "Época 175/250 - Perda no treinamento: 0.081899 - Acurácia: 0.9643\n",
      "Época 176/250 - Perda no treinamento: 0.102893 - Acurácia: 1.0000\n",
      "Época 177/250 - Perda no treinamento: 0.082194 - Acurácia: 0.9643\n",
      "Época 178/250 - Perda no treinamento: 0.091084 - Acurácia: 1.0000\n",
      "Época 179/250 - Perda no treinamento: 0.082933 - Acurácia: 0.9643\n",
      "Época 180/250 - Perda no treinamento: 0.099562 - Acurácia: 0.9286\n",
      "Época 181/250 - Perda no treinamento: 0.092410 - Acurácia: 0.9643\n",
      "Época 182/250 - Perda no treinamento: 0.089606 - Acurácia: 0.9643\n",
      "Época 183/250 - Perda no treinamento: 0.092765 - Acurácia: 0.9643\n",
      "Época 184/250 - Perda no treinamento: 0.085649 - Acurácia: 0.9643\n",
      "Época 185/250 - Perda no treinamento: 0.108458 - Acurácia: 0.9643\n",
      "Época 186/250 - Perda no treinamento: 0.088339 - Acurácia: 0.9643\n",
      "Época 187/250 - Perda no treinamento: 0.096345 - Acurácia: 0.9643\n",
      "Época 188/250 - Perda no treinamento: 0.081924 - Acurácia: 0.9286\n",
      "Época 189/250 - Perda no treinamento: 0.132898 - Acurácia: 0.9643\n",
      "Época 190/250 - Perda no treinamento: 0.097554 - Acurácia: 0.9643\n",
      "Época 191/250 - Perda no treinamento: 0.094694 - Acurácia: 1.0000\n",
      "Época 192/250 - Perda no treinamento: 0.091143 - Acurácia: 0.9643\n",
      "Época 193/250 - Perda no treinamento: 0.086840 - Acurácia: 0.9643\n",
      "Época 194/250 - Perda no treinamento: 0.088210 - Acurácia: 1.0000\n",
      "Época 195/250 - Perda no treinamento: 0.080046 - Acurácia: 0.9286\n",
      "Época 196/250 - Perda no treinamento: 0.088243 - Acurácia: 1.0000\n",
      "Época 197/250 - Perda no treinamento: 0.102591 - Acurácia: 0.8929\n",
      "Época 198/250 - Perda no treinamento: 0.102453 - Acurácia: 0.9643\n",
      "Época 199/250 - Perda no treinamento: 0.098211 - Acurácia: 0.8571\n",
      "Época 200/250 - Perda no treinamento: 0.092519 - Acurácia: 0.9643\n",
      "Época 201/250 - Perda no treinamento: 0.086169 - Acurácia: 0.9643\n",
      "Época 202/250 - Perda no treinamento: 0.085222 - Acurácia: 1.0000\n",
      "Época 203/250 - Perda no treinamento: 0.086947 - Acurácia: 0.9286\n",
      "Época 204/250 - Perda no treinamento: 0.090393 - Acurácia: 1.0000\n",
      "Época 205/250 - Perda no treinamento: 0.091151 - Acurácia: 0.9643\n",
      "Época 206/250 - Perda no treinamento: 0.079075 - Acurácia: 0.9643\n",
      "Época 207/250 - Perda no treinamento: 0.081538 - Acurácia: 0.9286\n",
      "Época 208/250 - Perda no treinamento: 0.083793 - Acurácia: 0.9643\n",
      "Época 209/250 - Perda no treinamento: 0.096954 - Acurácia: 0.9286\n",
      "Época 210/250 - Perda no treinamento: 0.094660 - Acurácia: 1.0000\n",
      "Época 211/250 - Perda no treinamento: 0.080719 - Acurácia: 1.0000\n",
      "Época 212/250 - Perda no treinamento: 0.087571 - Acurácia: 0.9643\n",
      "Época 213/250 - Perda no treinamento: 0.085069 - Acurácia: 0.9643\n",
      "Época 214/250 - Perda no treinamento: 0.084898 - Acurácia: 1.0000\n",
      "Época 215/250 - Perda no treinamento: 0.074511 - Acurácia: 0.9643\n",
      "Época 216/250 - Perda no treinamento: 0.073063 - Acurácia: 0.9643\n",
      "Época 217/250 - Perda no treinamento: 0.085191 - Acurácia: 0.9286\n",
      "Época 218/250 - Perda no treinamento: 0.090179 - Acurácia: 0.9286\n",
      "Época 219/250 - Perda no treinamento: 0.084681 - Acurácia: 1.0000\n",
      "Época 220/250 - Perda no treinamento: 0.077596 - Acurácia: 1.0000\n",
      "Época 221/250 - Perda no treinamento: 0.076322 - Acurácia: 0.9643\n",
      "Época 222/250 - Perda no treinamento: 0.095702 - Acurácia: 0.9643\n",
      "Época 223/250 - Perda no treinamento: 0.074065 - Acurácia: 1.0000\n",
      "Época 224/250 - Perda no treinamento: 0.076502 - Acurácia: 1.0000\n",
      "Época 225/250 - Perda no treinamento: 0.075212 - Acurácia: 1.0000\n",
      "Época 226/250 - Perda no treinamento: 0.073140 - Acurácia: 0.9643\n",
      "Época 227/250 - Perda no treinamento: 0.086456 - Acurácia: 0.9286\n",
      "Época 228/250 - Perda no treinamento: 0.087261 - Acurácia: 0.9643\n",
      "Época 229/250 - Perda no treinamento: 0.078141 - Acurácia: 0.9643\n",
      "Época 230/250 - Perda no treinamento: 0.081992 - Acurácia: 1.0000\n",
      "Época 231/250 - Perda no treinamento: 0.086849 - Acurácia: 1.0000\n",
      "Época 232/250 - Perda no treinamento: 0.082374 - Acurácia: 0.8929\n",
      "Época 233/250 - Perda no treinamento: 0.082541 - Acurácia: 1.0000\n",
      "Época 234/250 - Perda no treinamento: 0.078786 - Acurácia: 1.0000\n",
      "Época 235/250 - Perda no treinamento: 0.078691 - Acurácia: 0.9643\n",
      "Época 236/250 - Perda no treinamento: 0.076581 - Acurácia: 1.0000\n",
      "Época 237/250 - Perda no treinamento: 0.092613 - Acurácia: 0.9643\n",
      "Época 238/250 - Perda no treinamento: 0.086316 - Acurácia: 1.0000\n",
      "Época 239/250 - Perda no treinamento: 0.079364 - Acurácia: 0.9286\n",
      "Época 240/250 - Perda no treinamento: 0.083731 - Acurácia: 1.0000\n",
      "Época 241/250 - Perda no treinamento: 0.076110 - Acurácia: 0.9286\n",
      "Época 242/250 - Perda no treinamento: 0.070554 - Acurácia: 1.0000\n",
      "Época 243/250 - Perda no treinamento: 0.079506 - Acurácia: 0.9286\n",
      "Época 244/250 - Perda no treinamento: 0.083494 - Acurácia: 1.0000\n",
      "Época 245/250 - Perda no treinamento: 0.082262 - Acurácia: 0.9643\n",
      "Época 246/250 - Perda no treinamento: 0.066771 - Acurácia: 0.9286\n",
      "Época 247/250 - Perda no treinamento: 0.079431 - Acurácia: 0.9286\n",
      "Época 248/250 - Perda no treinamento: 0.076190 - Acurácia: 1.0000\n",
      "Época 249/250 - Perda no treinamento: 0.076840 - Acurácia: 1.0000\n",
      "Época 250/250 - Perda no treinamento: 0.096807 - Acurácia: 0.9286\n",
      "Tempo total de treinamento: 16419.24 segundos\n"
     ]
    }
   ],
   "source": [
    "train_losses = []\n",
    "train_acc = []\n",
    "\n",
    "training_start_time = time.time()\n",
    "\n",
    "for epoch in range(num_epoch):\n",
    "    model.train()\n",
    "    running_train_loss = 0.0\n",
    "\n",
    "    for inputs, labels in train_loader:\n",
    "        inputs = inputs.view(-1, 164*164*3).to(device)\n",
    "        labels = labels.to(device)\n",
    "    \n",
    "        optimizer.zero_grad()\n",
    "        outputs = model(inputs)\n",
    "\n",
    "        loss = loss_fn(outputs, labels)\n",
    "        loss.backward()\n",
    "        optimizer.step()\n",
    "        running_train_loss += loss.item()\n",
    "\n",
    "    train_loss = running_train_loss / len(train_loader)\n",
    "    train_losses.append(train_loss)\n",
    "\n",
    "    _, predicted = torch.max(outputs.data, 1)\n",
    "\n",
    "    acc = accuracy_score(labels.cpu().detach().numpy(), predicted.cpu().detach().numpy())\n",
    "    train_acc.append(acc)\n",
    "\n",
    "    print(f\"Época {epoch + 1}/{num_epoch} - Perda no treinamento: {train_loss:.6f} - Acurácia: {acc:.4f}\")\n",
    "\n",
    "training_time = time.time() - training_start_time\n",
    "print(f\"Tempo total de treinamento: {training_time:.2f} segundos\")"
   ]
  },
  {
   "cell_type": "code",
   "execution_count": 11,
   "id": "b3cefe95-b202-4037-be85-2b492b1da9a1",
   "metadata": {},
   "outputs": [
    {
     "data": {
      "text/plain": [
       "Text(0.5, 0.98, 'Treinamento')"
      ]
     },
     "execution_count": 11,
     "metadata": {},
     "output_type": "execute_result"
    },
    {
     "data": {
      "image/png": "[encoded data removed]",
      "text/plain": [
       "<Figure size 1200x500 with 2 Axes>"
      ]
     },
     "metadata": {},
     "output_type": "display_data"
    }
   ],
   "source": [
    "epochs = range(1, num_epoch + 1)\n",
    "\n",
    "plt.figure(figsize=(12, 5))\n",
    "\n",
    "plt.subplot(1, 2, 1)\n",
    "plt.plot(epochs, train_losses, 'bo-')\n",
    "plt.xlabel('Épocas')\n",
    "plt.ylabel('Perda')\n",
    "\n",
    "plt.subplot(1, 2, 2)\n",
    "plt.plot(epochs, train_acc, 'ro-')\n",
    "plt.xlabel('Épocas')\n",
    "plt.ylabel('Acurácia')\n",
    "\n",
    "plt.suptitle(\"Treinamento\", fontsize = 20)"
   ]
  },
  {
   "cell_type": "code",
   "execution_count": 12,
   "id": "504e3333-6256-4349-b805-f0a4e1bc3dc2",
   "metadata": {},
   "outputs": [
    {
     "name": "stdout",
     "output_type": "stream",
     "text": [
      "!!!Teste finalizado!!!\n"
     ]
    }
   ],
   "source": [
    "rot_array = []\n",
    "predt_array = []\n",
    "\n",
    "model.eval()\n",
    "    \n",
    "with torch.no_grad():\n",
    "        \n",
    "    for images, labels in test_loader:\n",
    "        images = images.view(-1, 164*164*3).to(device)\n",
    "        labels = labels.to(device)\n",
    "        \n",
    "        outputs = model(images)\n",
    "        _, predicted = torch.max(outputs.data, 1)\n",
    "\n",
    "        rot_array.extend(labels.cpu().detach().numpy())\n",
    "        predt_array.extend(predicted.cpu().detach().numpy())\n",
    "        \n",
    "print(\"!!!Teste finalizado!!!\")"
   ]
  },
  {
   "cell_type": "markdown",
   "id": "33459ca6-ec7a-48a4-a510-a9f77c353ba3",
   "metadata": {},
   "source": [
    "# <center>Métricas de avaliação</center>"
   ]
  },
  {
   "cell_type": "code",
   "execution_count": 13,
   "id": "7e756c77-100b-469b-a4fd-bb8a4e425acc",
   "metadata": {},
   "outputs": [
    {
     "data": {
      "image/png": "[encoded data removed]",
      "text/plain": [
       "<Figure size 640x480 with 2 Axes>"
      ]
     },
     "metadata": {},
     "output_type": "display_data"
    }
   ],
   "source": [
    "cm = confusion_matrix(rot_array, predt_array)\n",
    "\n",
    "disp = ConfusionMatrixDisplay(confusion_matrix=cm, display_labels=['Normal', 'Pneumonia', 'Tuberculose'])\n",
    "disp.plot(cmap=plt.cm.Blues)\n",
    "\n",
    "plt.xlabel('Rótulo previsto')\n",
    "plt.ylabel('Rótulo verdadeiro')\n",
    "plt.show()"
   ]
  },
  {
   "cell_type": "code",
   "execution_count": 14,
   "id": "836a8799",
   "metadata": {},
   "outputs": [
    {
     "name": "stdout",
     "output_type": "stream",
     "text": [
      "Acurácia: 93.93%\n"
     ]
    }
   ],
   "source": [
    "acc = accuracy_score(rot_array, predt_array)\n",
    "print(f\"Acurácia: {acc * 100 :.2f}%\")"
   ]
  },
  {
   "cell_type": "code",
   "execution_count": 15,
   "id": "ab7f02ca-3310-468b-bc2c-dd9ae7a2129d",
   "metadata": {},
   "outputs": [
    {
     "name": "stdout",
     "output_type": "stream",
     "text": [
      "Precisão: 94.18%\n"
     ]
    }
   ],
   "source": [
    "precision = precision_score(rot_array, predt_array, average='weighted')\n",
    "print(f\"Precisão: {precision * 100 :.2f}%\")"
   ]
  },
  {
   "cell_type": "code",
   "execution_count": 16,
   "id": "ed2a326a-258d-47aa-b9a2-ad297b6e335c",
   "metadata": {},
   "outputs": [
    {
     "name": "stdout",
     "output_type": "stream",
     "text": [
      "Recall: 93.93%\n"
     ]
    }
   ],
   "source": [
    "recall = recall_score(rot_array, predt_array, average='weighted')\n",
    "print(f\"Recall: {recall * 100 :.2f}%\")"
   ]
  },
  {
   "cell_type": "code",
   "execution_count": 17,
   "id": "ecacbcd3-4bf1-4997-9b2f-5e9c83bd6a0c",
   "metadata": {},
   "outputs": [
    {
     "name": "stdout",
     "output_type": "stream",
     "text": [
      "F1 Score: 93.96%\n"
     ]
    }
   ],
   "source": [
    "f1 = f1_score(rot_array, predt_array, average='weighted')\n",
    "print(f\"F1 Score: {f1 * 100 :.2f}%\")"
   ]
  }
 ],
 "metadata": {
  "kernelspec": {
   "display_name": "Python 3",
   "language": "python",
   "name": "python3"
  },
  "language_info": {
   "codemirror_mode": {
    "name": "ipython",
    "version": 3
   },
   "file_extension": ".py",
   "mimetype": "text/x-python",
   "name": "python",
   "nbconvert_exporter": "python",
   "pygments_lexer": "ipython3",
   "version": "3.12.8"
  }
 },
 "nbformat": 4,
 "nbformat_minor": 5
}
