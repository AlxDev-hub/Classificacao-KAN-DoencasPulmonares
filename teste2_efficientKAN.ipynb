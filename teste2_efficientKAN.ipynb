{
 "cells": [
  {
   "cell_type": "markdown",
   "id": "7ed9cbe7-a91f-4822-8689-11ddcb9720af",
   "metadata": {},
   "source": [
    "# <center>Bibliotecas utilizadas</center>"
   ]
  },
  {
   "cell_type": "code",
   "execution_count": null,
   "id": "16400b9b-8a6d-4e5d-a8b1-0f466d13ed04",
   "metadata": {},
   "outputs": [],
   "source": [
    "from efficient_kan import KAN\n",
    "\n",
    "import time\n",
    "import torch\n",
    "import torch.nn as nn\n",
    "import torch.optim as optim\n",
    "import torchvision.transforms as transforms\n",
    "import torchvision.datasets as datasets\n",
    "import matplotlib.pyplot as plt\n",
    "from sklearn.metrics import *\n",
    "from torch.utils.data import DataLoader"
   ]
  },
  {
   "cell_type": "markdown",
   "id": "7e2f0b78-9959-471b-87b9-9e0f192a75ef",
   "metadata": {},
   "source": [
    "# <center>Pré-processamento dos dados</center>"
   ]
  },
  {
   "cell_type": "code",
   "execution_count": null,
   "id": "91a50223-30f8-4061-aa59-3431c46b8585",
   "metadata": {},
   "outputs": [],
   "source": [
    "train_path = 'Dataset/train'\n",
    "test_path = 'Dataset/test'"
   ]
  },
  {
   "cell_type": "code",
   "execution_count": null,
   "id": "e445c1ee-b6ec-45f7-a1d4-4700ea5e89c8",
   "metadata": {},
   "outputs": [],
   "source": [
    "#Aumentar a quantidade de técnicas de aumento de dados\n",
    "transform_train = transforms.Compose(\n",
    "    [transforms.Resize(size = (164,164)),\n",
    "     transforms.RandomRotation(degrees=15),\n",
    "     transforms.RandomHorizontalFlip(),\n",
    "     transforms.ToTensor(),\n",
    "     transforms.Normalize(mean=[0.5], std=[0.5])\n",
    "    ]\n",
    ")\n",
    "\n",
    "transform_test = transforms.Compose(\n",
    "    [transforms.Resize(size = (164,164)),\n",
    "     transforms.ToTensor(),\n",
    "     transforms.Normalize(mean=[0.5], std=[0.5])\n",
    "    ]\n",
    ")"
   ]
  },
  {
   "cell_type": "code",
   "execution_count": null,
   "id": "0b03f0cf-87a2-46f3-bd89-c89a0185b823",
   "metadata": {},
   "outputs": [],
   "source": [
    "train_dataset = datasets.ImageFolder(train_path, transform = transform_train)\n",
    "test_dataset = datasets.ImageFolder(test_path, transform = transform_test)"
   ]
  },
  {
   "cell_type": "code",
   "execution_count": null,
   "id": "e869b1ee-e9da-443f-8dcc-64cf960f70b6",
   "metadata": {},
   "outputs": [],
   "source": [
    "trainloader = DataLoader(train_dataset, batch_size = 28, shuffle = True)\n",
    "testloader = DataLoader(test_dataset, batch_size = 30, shuffle = True)"
   ]
  },
  {
   "cell_type": "markdown",
   "id": "af6f8f0b-ab6d-456e-af12-d632b8f237d9",
   "metadata": {},
   "source": [
    "# <center>Implementação da arquitetura *efficientKAN*</center>"
   ]
  },
  {
   "cell_type": "code",
   "execution_count": null,
   "id": "aadacba0-d234-4cf9-a5c2-e3c59051b13a",
   "metadata": {},
   "outputs": [],
   "source": [
    "model = KAN([164*164*3, 164, 64, 3])\n",
    "\n",
    "device = torch.device(\"cuda\" if torch.cuda.is_available() else \"cpu\")\n",
    "model.to(device)"
   ]
  },
  {
   "cell_type": "code",
   "execution_count": null,
   "id": "feb9436e-b0d2-47b8-a793-71458c8e8c37",
   "metadata": {},
   "outputs": [],
   "source": [
    "num_epoch = 250\n",
    "learning_rate = 0.001"
   ]
  },
  {
   "cell_type": "code",
   "execution_count": null,
   "id": "3f078fc1-d113-42cb-975c-b32dc2d0acc1",
   "metadata": {},
   "outputs": [],
   "source": [
    "optimizer = optim.Adam(model.parameters(), lr=learning_rate)\n",
    "loss_fn = nn.CrossEntropyLoss()"
   ]
  },
  {
   "cell_type": "code",
   "execution_count": null,
   "id": "342b8e74-6720-4df0-982c-5667a3d63c09",
   "metadata": {
    "scrolled": true
   },
   "outputs": [],
   "source": [
    "train_losses = []\n",
    "train_acc = []\n",
    "correct = 0\n",
    "total = 0\n",
    "\n",
    "training_start_time = time.time()\n",
    "\n",
    "for epoch in range(num_epoch):\n",
    "    model.train()\n",
    "    running_train_loss = 0.0\n",
    "\n",
    "    for inputs, labels in trainloader:\n",
    "        inputs = inputs.view(-1, 164*164*3).to(device)\n",
    "        labels = labels.to(device)\n",
    "    \n",
    "        optimizer.zero_grad()\n",
    "        outputs = model(inputs)\n",
    "\n",
    "        loss = loss_fn(outputs, labels)\n",
    "        loss.backward()\n",
    "        optimizer.step()\n",
    "        running_train_loss += loss.item()\n",
    "\n",
    "    train_loss = running_train_loss / len(trainloader)\n",
    "    train_losses.append(train_loss)\n",
    "\n",
    "    _, predicted = torch.max(outputs.data, 1)\n",
    "\n",
    "    acc = accuracy_score(labels.cpu().detach().numpy(), predicted.cpu().detach().numpy())\n",
    "    train_acc.append(acc)\n",
    "\n",
    "    print(f\"Época {epoch + 1}/{num_epoch} - Perda no treinamento: {train_loss:.6f} - Acurácia: {acc:.4f}\")\n",
    "\n",
    "training_time = time.time() - training_start_time\n",
    "print(f\"\\nTempo total de treinamento: {training_time:.2f} segundos\")"
   ]
  },
  {
   "cell_type": "code",
   "execution_count": null,
   "id": "16293bb2-49a6-4d17-a047-8ede3f3fd57b",
   "metadata": {},
   "outputs": [],
   "source": [
    "epochs = range(1, num_epoch + 1)\n",
    "\n",
    "plt.figure(figsize=(12, 5))\n",
    "\n",
    "plt.subplot(1, 2, 1)\n",
    "plt.plot(epochs, train_losses, 'bo-')\n",
    "plt.xlabel('Épocas')\n",
    "plt.ylabel('Perda')\n",
    "\n",
    "plt.subplot(1, 2, 2)\n",
    "plt.plot(epochs, train_acc, 'ro-')\n",
    "plt.xlabel('Épocas')\n",
    "plt.ylabel('Acurácia')\n",
    "\n",
    "plt.suptitle(\"Treinamento\", fontsize = 20)"
   ]
  },
  {
   "cell_type": "code",
   "execution_count": null,
   "id": "b7ce3210-11e0-4c86-8283-ee14dc33a267",
   "metadata": {},
   "outputs": [],
   "source": [
    "model.eval()\n",
    "    \n",
    "with torch.no_grad():\n",
    "        \n",
    "    for images, labels in testloader:\n",
    "        images = images.view(-1, 164*164*3).to(device)\n",
    "        labels = labels.to(device)\n",
    "        \n",
    "        outputs = model(images)\n",
    "        _, predicted = torch.max(outputs.data, 1)\n",
    "\n",
    "        acc = accuracy_score(labels.cpu().detach().numpy(), predicted.cpu().detach().numpy())\n",
    "        \n",
    "print(f\"Acurácia: {acc:.2f}\")"
   ]
  },
  {
   "cell_type": "markdown",
   "id": "ce2909be-e551-4bea-85bb-cede4046e8a6",
   "metadata": {},
   "source": [
    "# <center>Métricas de avaliação</center>"
   ]
  },
  {
   "cell_type": "code",
   "execution_count": null,
   "id": "1c7a9ae9-0bbb-43b9-945d-03a4708df9f5",
   "metadata": {},
   "outputs": [],
   "source": [
    "cm = confusion_matrix(labels.cpu().detach().numpy(), predicted.cpu().detach().numpy())\n",
    "\n",
    "disp = ConfusionMatrixDisplay(confusion_matrix=cm, display_labels=['Normal', 'Pneumonia', 'Tuberculose'])\n",
    "disp.plot(cmap=plt.cm.Blues)\n",
    "\n",
    "plt.xlabel('Rótulo previsto')\n",
    "plt.ylabel('Rótulo verdadeiro')\n",
    "plt.show()"
   ]
  },
  {
   "cell_type": "code",
   "execution_count": null,
   "id": "e91e5a04-bf37-4c2d-b349-a4156cb9a107",
   "metadata": {},
   "outputs": [],
   "source": [
    "print(classification_report(labels.cpu().detach().numpy(), predicted.cpu().detach().numpy(), target_names=['Normal', 'Pneumonia', 'Tuberculose']))"
   ]
  },
  {
   "cell_type": "code",
   "execution_count": null,
   "id": "b3fd6060-4bdf-48b0-b592-bb957cd60486",
   "metadata": {},
   "outputs": [],
   "source": [
    "precision = precision_score(labels.cpu().detach().numpy(), predicted.cpu().detach().numpy(), average='weighted')\n",
    "print(f\"Precisão: {precision * 100 :.2f}%\")"
   ]
  },
  {
   "cell_type": "code",
   "execution_count": null,
   "id": "cfb7398e-e7a7-4e0e-97df-bed04108382f",
   "metadata": {},
   "outputs": [],
   "source": [
    "recall = recall_score(labels.cpu().detach().numpy(), predicted.cpu().detach().numpy(), average='weighted')\n",
    "print(f\"Recall: {recall * 100 :.2f}%\")"
   ]
  },
  {
   "cell_type": "code",
   "execution_count": null,
   "id": "e9613979-a2e6-4769-b117-c9673a5f5ed1",
   "metadata": {},
   "outputs": [],
   "source": [
    "f1 = f1_score(labels.cpu().detach().numpy(), predicted.cpu().detach().numpy(), average='weighted')\n",
    "print(f\"F1 Score: {f1 * 100 :.2f}%\")"
   ]
  }
 ],
 "metadata": {
  "kernelspec": {
   "display_name": "Python 3 (ipykernel)",
   "language": "python",
   "name": "python3"
  },
  "language_info": {
   "codemirror_mode": {
    "name": "ipython",
    "version": 3
   },
   "file_extension": ".py",
   "mimetype": "text/x-python",
   "name": "python",
   "nbconvert_exporter": "python",
   "pygments_lexer": "ipython3",
   "version": "3.10.12"
  }
 },
 "nbformat": 4,
 "nbformat_minor": 5
}
