{
 "cells": [
  {
   "cell_type": "code",
   "execution_count": 1,
   "id": "a77bd366-35d9-4e91-82ee-e8e0396d3e85",
   "metadata": {},
   "outputs": [],
   "source": [
    "import torch\n",
    "import torch.nn as nn\n",
    "import torch.optim as optim\n",
    "from torch.utils.data import DataLoader\n",
    "import torchvision.transforms as transforms\n",
    "import torchvision.datasets as datasets\n",
    "import numpy as np\n",
    "from sklearn.metrics import confusion_matrix, accuracy_score, precision_score, recall_score, f1_score, roc_auc_score, roc_curve, ConfusionMatrixDisplay\n",
    "import matplotlib.pyplot as plt"
   ]
  },
  {
   "cell_type": "markdown",
   "id": "f999a09d-3bcc-4162-9d21-919ce24d6421",
   "metadata": {},
   "source": [
    "# Pré-processamento dos dados"
   ]
  },
  {
   "cell_type": "code",
   "execution_count": 2,
   "id": "99cd0c5c-4c5e-47ad-8ec9-04e1a8e9ccea",
   "metadata": {},
   "outputs": [],
   "source": [
    "transform = transforms.Compose(\n",
    "    [transforms.Resize(size = (512,512)), \n",
    "     transforms.ToTensor(),\n",
    "     transforms.Normalize((0.5, 0.5, 0.5), (0.5, 0.5, 0.5))])"
   ]
  },
  {
   "cell_type": "code",
   "execution_count": 3,
   "id": "8965b204-83a8-46da-9795-043ec845e7f4",
   "metadata": {},
   "outputs": [],
   "source": [
    "train = '1Amostragem/train'\n",
    "test = '1Amostragem/test'"
   ]
  },
  {
   "cell_type": "code",
   "execution_count": 4,
   "id": "19f53c26-7317-4237-9428-015ddd93e8a0",
   "metadata": {},
   "outputs": [],
   "source": [
    "train_dataset = datasets.ImageFolder(train, transform = transform)\n",
    "test_dataset = datasets.ImageFolder(test, transform = transform)"
   ]
  },
  {
   "cell_type": "code",
   "execution_count": 5,
   "id": "f1b1ea27-7f58-45e6-ba4b-59d59c3a29bf",
   "metadata": {},
   "outputs": [],
   "source": [
    "trainloader = DataLoader(train_dataset, batch_size = 50, shuffle = True)\n",
    "testloader = DataLoader(test_dataset, batch_size = 50, shuffle = True)"
   ]
  },
  {
   "cell_type": "markdown",
   "id": "7bf3038a-8d82-45ab-94a3-f11406160a86",
   "metadata": {},
   "source": [
    "# Implementação da arquitetura CNN"
   ]
  },
  {
   "cell_type": "code",
   "execution_count": 20,
   "id": "5118d0d6-aaf5-4cbe-88a2-399d77684108",
   "metadata": {},
   "outputs": [],
   "source": [
    "model = nn.Sequential(\n",
    "    nn.Conv2d(3, 32, kernel_size=3, stride=1, padding=1),\n",
    "    nn.ReLU(),\n",
    "    nn.MaxPool2d(kernel_size=2, stride=2, padding=0),\n",
    "    \n",
    "    nn.Conv2d(32, 64, kernel_size=3, stride=1, padding=1),\n",
    "    nn.ReLU(),\n",
    "    nn.MaxPool2d(kernel_size=2, stride=2, padding=0),\n",
    "    \n",
    "    nn.Conv2d(64, 128, kernel_size=3, stride=1, padding=1),\n",
    "    nn.ReLU(),\n",
    "    nn.MaxPool2d(kernel_size=2, stride=2, padding=0),\n",
    "    \n",
    "    nn.Flatten(),\n",
    "    \n",
    "    nn.Linear(128 * 64 * 64, 128),\n",
    "    nn.ReLU(),\n",
    "    \n",
    "    nn.Linear(128, 64),\n",
    "    nn.ReLU(),\n",
    "    \n",
    "    nn.Linear(64, 1),\n",
    "    nn.Sigmoid()\n",
    ")        "
   ]
  },
  {
   "cell_type": "code",
   "execution_count": 21,
   "id": "6a675871-9fef-4d9e-93c5-b5e2739bfc81",
   "metadata": {},
   "outputs": [
    {
     "data": {
      "text/plain": [
       "Sequential(\n",
       "  (0): Conv2d(3, 32, kernel_size=(3, 3), stride=(1, 1), padding=(1, 1))\n",
       "  (1): ReLU()\n",
       "  (2): MaxPool2d(kernel_size=2, stride=2, padding=0, dilation=1, ceil_mode=False)\n",
       "  (3): Conv2d(32, 64, kernel_size=(3, 3), stride=(1, 1), padding=(1, 1))\n",
       "  (4): ReLU()\n",
       "  (5): MaxPool2d(kernel_size=2, stride=2, padding=0, dilation=1, ceil_mode=False)\n",
       "  (6): Conv2d(64, 128, kernel_size=(3, 3), stride=(1, 1), padding=(1, 1))\n",
       "  (7): ReLU()\n",
       "  (8): MaxPool2d(kernel_size=2, stride=2, padding=0, dilation=1, ceil_mode=False)\n",
       "  (9): Flatten(start_dim=1, end_dim=-1)\n",
       "  (10): Linear(in_features=524288, out_features=128, bias=True)\n",
       "  (11): ReLU()\n",
       "  (12): Linear(in_features=128, out_features=64, bias=True)\n",
       "  (13): ReLU()\n",
       "  (14): Linear(in_features=64, out_features=1, bias=True)\n",
       "  (15): Sigmoid()\n",
       ")"
      ]
     },
     "execution_count": 21,
     "metadata": {},
     "output_type": "execute_result"
    }
   ],
   "source": [
    "device = torch.device(\"cuda:0\" if torch.cuda.is_available() else \"cpu\")\n",
    "model.to(device)"
   ]
  },
  {
   "cell_type": "code",
   "execution_count": 22,
   "id": "97b234bc-e3ad-4ffd-9140-2a4537715259",
   "metadata": {},
   "outputs": [],
   "source": [
    "num_epoch = 50\n",
    "learning_rate = 0.001\n",
    "train_losses = []"
   ]
  },
  {
   "cell_type": "code",
   "execution_count": 23,
   "id": "7852f30f-76af-4d58-89bb-6fb14936b060",
   "metadata": {},
   "outputs": [],
   "source": [
    "optimizer = optim.Adam(model.parameters(), lr=learning_rate)\n",
    "loss_fn = nn.BCELoss()"
   ]
  },
  {
   "cell_type": "code",
   "execution_count": 24,
   "id": "687f4e6b-98ff-4199-b293-72274969f197",
   "metadata": {
    "scrolled": true
   },
   "outputs": [
    {
     "name": "stdout",
     "output_type": "stream",
     "text": [
      "Época 1/50 - Perda no treinamento: 0.693599\n",
      "Época 2/50 - Perda no treinamento: 1.157829\n",
      "Época 3/50 - Perda no treinamento: 1.281664\n",
      "Época 4/50 - Perda no treinamento: 0.728405\n",
      "Época 5/50 - Perda no treinamento: 0.667739\n",
      "Época 6/50 - Perda no treinamento: 0.676362\n",
      "Época 7/50 - Perda no treinamento: 0.634106\n",
      "Época 8/50 - Perda no treinamento: 0.571138\n",
      "Época 9/50 - Perda no treinamento: 0.492298\n",
      "Época 10/50 - Perda no treinamento: 0.357989\n",
      "Época 11/50 - Perda no treinamento: 0.235310\n",
      "Época 12/50 - Perda no treinamento: 0.148562\n",
      "Época 13/50 - Perda no treinamento: 0.158248\n",
      "Época 14/50 - Perda no treinamento: 0.098228\n",
      "Época 15/50 - Perda no treinamento: 0.062548\n",
      "Época 16/50 - Perda no treinamento: 0.012173\n",
      "Época 17/50 - Perda no treinamento: 0.031290\n",
      "Época 18/50 - Perda no treinamento: 0.013597\n",
      "Época 19/50 - Perda no treinamento: 0.001910\n",
      "Época 20/50 - Perda no treinamento: 0.000314\n",
      "Época 21/50 - Perda no treinamento: 0.000192\n",
      "Época 22/50 - Perda no treinamento: 0.000378\n",
      "Época 23/50 - Perda no treinamento: 0.000861\n",
      "Época 24/50 - Perda no treinamento: 0.001354\n",
      "Época 25/50 - Perda no treinamento: 0.000966\n",
      "Época 26/50 - Perda no treinamento: 0.000297\n",
      "Época 27/50 - Perda no treinamento: 0.000045\n",
      "Época 28/50 - Perda no treinamento: 0.000005\n",
      "Época 29/50 - Perda no treinamento: 0.000001\n",
      "Época 30/50 - Perda no treinamento: 0.000001\n",
      "Época 31/50 - Perda no treinamento: 0.000004\n",
      "Época 32/50 - Perda no treinamento: 0.000019\n",
      "Época 33/50 - Perda no treinamento: 0.000071\n",
      "Época 34/50 - Perda no treinamento: 0.000109\n",
      "Época 35/50 - Perda no treinamento: 0.000048\n",
      "Época 36/50 - Perda no treinamento: 0.000015\n",
      "Época 37/50 - Perda no treinamento: 0.000005\n",
      "Época 38/50 - Perda no treinamento: 0.000002\n",
      "Época 39/50 - Perda no treinamento: 0.000001\n",
      "Época 40/50 - Perda no treinamento: 0.000000\n",
      "Época 41/50 - Perda no treinamento: 0.000000\n",
      "Época 42/50 - Perda no treinamento: 0.000000\n",
      "Época 43/50 - Perda no treinamento: 0.000000\n",
      "Época 44/50 - Perda no treinamento: 0.000000\n",
      "Época 45/50 - Perda no treinamento: 0.000000\n",
      "Época 46/50 - Perda no treinamento: 0.000000\n",
      "Época 47/50 - Perda no treinamento: 0.000000\n",
      "Época 48/50 - Perda no treinamento: 0.000000\n",
      "Época 49/50 - Perda no treinamento: 0.000000\n",
      "Época 50/50 - Perda no treinamento: 0.000000\n"
     ]
    }
   ],
   "source": [
    "for epoch in range(num_epoch):\n",
    "    model.train()\n",
    "    running_train_loss = 0.0\n",
    "    \n",
    "    for inputs, labels in trainloader:\n",
    "        inputs = inputs.to(device)\n",
    "        labels = labels.to(device).float().view(-1, 1)\n",
    "        optimizer.zero_grad()\n",
    "        outputs = model(inputs)\n",
    "        loss = loss_fn(outputs, labels)\n",
    "        loss.backward()\n",
    "        optimizer.step()\n",
    "        running_train_loss += loss.item()\n",
    "\n",
    "    train_loss = running_train_loss / len(trainloader)\n",
    "    train_losses.append(train_loss)\n",
    "    \n",
    "    print(f\"Época {epoch + 1}/{num_epoch} - Perda no treinamento: {train_loss:.6f}\")"
   ]
  },
  {
   "cell_type": "code",
   "execution_count": 25,
   "id": "54185d83-f0cf-4f41-ac7d-52a50fd012bd",
   "metadata": {},
   "outputs": [
    {
     "name": "stdout",
     "output_type": "stream",
     "text": [
      "Acurácia: 94.00%\n"
     ]
    }
   ],
   "source": [
    "model.eval()\n",
    "correct = 0\n",
    "total = 0\n",
    "    \n",
    "with torch.no_grad():\n",
    "        \n",
    "    for images, labels in testloader:\n",
    "        images = images.to(device)\n",
    "        labels = labels.to(device).float().view(-1, 1)\n",
    "        outputs = model(images)\n",
    "        predicted = (outputs > 0.5).float()\n",
    "        total += labels.size(0)\n",
    "        correct += (predicted == labels).sum().item()\n",
    "\n",
    "acc = (correct / total) * 100\n",
    "print(f\"Acurácia: {acc:.2f}%\")"
   ]
  },
  {
   "cell_type": "code",
   "execution_count": 26,
   "id": "edda6f18-4e2c-417e-8820-e859730cbc2e",
   "metadata": {},
   "outputs": [
    {
     "data": {
      "image/png": "[encoded data removed]",
      "text/plain": [
       "<Figure size 1200x500 with 1 Axes>"
      ]
     },
     "metadata": {},
     "output_type": "display_data"
    }
   ],
   "source": [
    "epochs = range(1, 51)\n",
    "\n",
    "plt.figure(figsize=(12, 5))\n",
    "\n",
    "plt.subplot(1, 2, 1)\n",
    "plt.plot(epochs, train_losses, 'b')\n",
    "plt.title('Train Loss')\n",
    "plt.xlabel('Epochs')\n",
    "plt.ylabel('Loss')\n",
    "\n",
    "plt.show()"
   ]
  },
  {
   "cell_type": "markdown",
   "id": "82b79ba0-c770-4e9f-8855-c1d053b9ad4a",
   "metadata": {},
   "source": [
    "# Métricas de avaliação"
   ]
  },
  {
   "cell_type": "code",
   "execution_count": 27,
   "id": "1a7130e0-a990-4e9b-a48b-ab9f49870499",
   "metadata": {},
   "outputs": [
    {
     "data": {
      "image/png": "[encoded data removed]",
      "text/plain": [
       "<Figure size 640x480 with 2 Axes>"
      ]
     },
     "metadata": {},
     "output_type": "display_data"
    }
   ],
   "source": [
    "cm = confusion_matrix(labels, predicted)\n",
    "\n",
    "disp = ConfusionMatrixDisplay(confusion_matrix=cm, display_labels=['Normal', 'Pneumonia'])\n",
    "disp.plot(cmap=plt.cm.Blues)\n",
    "\n",
    "plt.xlabel('Rótulo previsto')\n",
    "plt.ylabel('Rótulo verdadeiro')\n",
    "plt.show()"
   ]
  },
  {
   "cell_type": "code",
   "execution_count": 28,
   "id": "32901b92-850f-4349-9e32-c0023447a561",
   "metadata": {},
   "outputs": [
    {
     "name": "stdout",
     "output_type": "stream",
     "text": [
      "Acurácia: 0.94\n"
     ]
    }
   ],
   "source": [
    "accuracy = accuracy_score(labels, predicted)\n",
    "print(f\"Acurácia: {accuracy:.2f}\")"
   ]
  },
  {
   "cell_type": "code",
   "execution_count": 29,
   "id": "e033d72d-ea2b-4b94-9c24-e2e9c92d85df",
   "metadata": {},
   "outputs": [
    {
     "name": "stdout",
     "output_type": "stream",
     "text": [
      "Precisão: 0.94\n"
     ]
    }
   ],
   "source": [
    "precision = precision_score(labels, predicted, average='weighted')\n",
    "print(f\"Precisão: {precision:.2f}\")"
   ]
  },
  {
   "cell_type": "code",
   "execution_count": 30,
   "id": "1acf786f-fbb3-4e5a-a903-fcadbbd2e26a",
   "metadata": {},
   "outputs": [
    {
     "name": "stdout",
     "output_type": "stream",
     "text": [
      "Recall: 0.94\n"
     ]
    }
   ],
   "source": [
    "recall = recall_score(labels, predicted, average='weighted')\n",
    "print(f\"Recall: {recall:.2f}\")"
   ]
  },
  {
   "cell_type": "code",
   "execution_count": 31,
   "id": "a77c4451-93ce-42b0-a90e-afd9a817380a",
   "metadata": {},
   "outputs": [
    {
     "name": "stdout",
     "output_type": "stream",
     "text": [
      "F1 Score: 0.94\n"
     ]
    }
   ],
   "source": [
    "f1 = f1_score(labels, predicted, average='weighted')\n",
    "print(f\"F1 Score: {f1:.2f}\")"
   ]
  },
  {
   "cell_type": "code",
   "execution_count": 32,
   "id": "1c5aa1a7-b3cf-4a28-8722-4ca8489f5cc5",
   "metadata": {},
   "outputs": [
    {
     "name": "stdout",
     "output_type": "stream",
     "text": [
      "AUC-ROC: 0.94\n"
     ]
    },
    {
     "data": {
      "image/png": "[encoded data removed]",
      "text/plain": [
       "<Figure size 640x480 with 1 Axes>"
      ]
     },
     "metadata": {},
     "output_type": "display_data"
    }
   ],
   "source": [
    "if len(train_dataset.classes) == 2:\n",
    "    auc_roc = roc_auc_score(labels, predicted)\n",
    "    print(f\"AUC-ROC: {auc_roc:.2f}\")\n",
    "\n",
    "    fpr, tpr, _ = roc_curve(labels, predicted)\n",
    "    plt.figure()\n",
    "    plt.plot(fpr, tpr, color='darkorange', lw=2, label='Curva ROC')\n",
    "    plt.plot([0, 1], [0, 1], color='navy', lw=2, linestyle='--')\n",
    "    plt.xlabel('Taxa de Falsos Positivos')\n",
    "    plt.ylabel('Taxa de Verdadeiros Positivos')\n",
    "    plt.title('Curva ROC')\n",
    "    plt.legend(loc=\"lower right\")\n",
    "    plt.show()"
   ]
  },
  {
   "cell_type": "code",
   "execution_count": null,
   "id": "a529e474-5bfd-4745-a8ff-cbac1682abb5",
   "metadata": {},
   "outputs": [],
   "source": []
  }
 ],
 "metadata": {
  "kernelspec": {
   "display_name": "Python 3 (ipykernel)",
   "language": "python",
   "name": "python3"
  },
  "language_info": {
   "codemirror_mode": {
    "name": "ipython",
    "version": 3
   },
   "file_extension": ".py",
   "mimetype": "text/x-python",
   "name": "python",
   "nbconvert_exporter": "python",
   "pygments_lexer": "ipython3",
   "version": "3.12.3"
  }
 },
 "nbformat": 4,
 "nbformat_minor": 5
}
