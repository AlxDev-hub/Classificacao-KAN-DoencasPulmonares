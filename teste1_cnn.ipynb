{
 "cells": [
  {
   "cell_type": "code",
   "execution_count": 1,
   "id": "a77bd366-35d9-4e91-82ee-e8e0396d3e85",
   "metadata": {},
   "outputs": [],
   "source": [
    "import torch\n",
    "import torch.nn as nn\n",
    "import torch.optim as optim\n",
    "import torchvision.transforms as transforms\n",
    "import torchvision.datasets as datasets\n",
    "import matplotlib.pyplot as plt\n",
    "from sklearn.metrics import *\n",
    "from torch.utils.data import DataLoader"
   ]
  },
  {
   "cell_type": "markdown",
   "id": "f999a09d-3bcc-4162-9d21-919ce24d6421",
   "metadata": {},
   "source": [
    "# <center>Pré-processamento dos dados</center>"
   ]
  },
  {
   "cell_type": "code",
   "execution_count": 2,
   "id": "eb38a3f1",
   "metadata": {},
   "outputs": [],
   "source": [
    "train_path = 'Dataset/train'\n",
    "test_path = 'Dataset/test'"
   ]
  },
  {
   "cell_type": "code",
   "execution_count": 3,
   "id": "c4a49511",
   "metadata": {},
   "outputs": [],
   "source": [
    "transform_train = transforms.Compose(\n",
    "    [transforms.Resize(size = (512,512)),\n",
    "     transforms.ToTensor(),\n",
    "     transforms.Normalize((0.5, 0.5, 0.5), (0.5, 0.5, 0.5))])"
   ]
  },
  {
   "cell_type": "code",
   "execution_count": 4,
   "id": "27f865b3-673a-4188-beaa-17eb9436eec1",
   "metadata": {},
   "outputs": [],
   "source": [
    "transform_test = transforms.Compose(\n",
    "    [transforms.Resize(size = (512,512)),\n",
    "     transforms.ToTensor(),\n",
    "     transforms.Normalize((0.5, 0.5, 0.5), (0.5, 0.5, 0.5))])"
   ]
  },
  {
   "cell_type": "code",
   "execution_count": 5,
   "id": "f0bb0680",
   "metadata": {},
   "outputs": [],
   "source": [
    "train_dataset = datasets.ImageFolder(train_path, transform = transform_train)\n",
    "test_dataset = datasets.ImageFolder(test_path, transform = transform_test)"
   ]
  },
  {
   "cell_type": "code",
   "execution_count": 6,
   "id": "9e9c686d",
   "metadata": {},
   "outputs": [],
   "source": [
    "trainloader = DataLoader(train_dataset, batch_size = 30, shuffle = True)\n",
    "testloader = DataLoader(test_dataset, batch_size = 90, shuffle = True)"
   ]
  },
  {
   "cell_type": "markdown",
   "id": "7bf3038a-8d82-45ab-94a3-f11406160a86",
   "metadata": {},
   "source": [
    "# <center>Implementação da arquitetura CNN</center>"
   ]
  },
  {
   "cell_type": "code",
   "execution_count": 7,
   "id": "5118d0d6-aaf5-4cbe-88a2-399d77684108",
   "metadata": {},
   "outputs": [],
   "source": [
    "model = nn.Sequential(\n",
    "    nn.Conv2d(3, 32, kernel_size=3, stride=1, padding=1),\n",
    "    nn.BatchNorm2d(32),\n",
    "    nn.ReLU(),\n",
    "    nn.MaxPool2d(kernel_size=2, stride=2, padding=0),\n",
    "    \n",
    "    nn.Conv2d(32, 64, kernel_size=3, stride=1, padding=1),\n",
    "    nn.BatchNorm2d(64),\n",
    "    nn.ReLU(),\n",
    "    nn.MaxPool2d(kernel_size=2, stride=2, padding=0),\n",
    "    \n",
    "    nn.Conv2d(64, 128, kernel_size=3, stride=1, padding=1),\n",
    "    nn.BatchNorm2d(128),\n",
    "    nn.ReLU(),\n",
    "    nn.MaxPool2d(kernel_size=2, stride=2, padding=0),\n",
    "\n",
    "    nn.Conv2d(128, 256, kernel_size=3, stride=1, padding=1),\n",
    "    nn.BatchNorm2d(256),\n",
    "    nn.ReLU(),\n",
    "    nn.MaxPool2d(kernel_size=2, stride=2, padding=0),\n",
    "    \n",
    "    nn.Flatten(),\n",
    "    \n",
    "    nn.Linear(256 * 32 * 32, 256),\n",
    "    nn.ReLU(),\n",
    "\n",
    "    nn.Linear(256, 128),\n",
    "    nn.ReLU(),\n",
    "    \n",
    "    nn.Linear(128, 64),\n",
    "    nn.ReLU(),\n",
    "    \n",
    "    nn.Linear(64, 3)\n",
    ")        "
   ]
  },
  {
   "cell_type": "code",
   "execution_count": 8,
   "id": "6a675871-9fef-4d9e-93c5-b5e2739bfc81",
   "metadata": {},
   "outputs": [
    {
     "data": {
      "text/plain": [
       "Sequential(\n",
       "  (0): Conv2d(3, 32, kernel_size=(3, 3), stride=(1, 1), padding=(1, 1))\n",
       "  (1): BatchNorm2d(32, eps=1e-05, momentum=0.1, affine=True, track_running_stats=True)\n",
       "  (2): ReLU()\n",
       "  (3): MaxPool2d(kernel_size=2, stride=2, padding=0, dilation=1, ceil_mode=False)\n",
       "  (4): Conv2d(32, 64, kernel_size=(3, 3), stride=(1, 1), padding=(1, 1))\n",
       "  (5): BatchNorm2d(64, eps=1e-05, momentum=0.1, affine=True, track_running_stats=True)\n",
       "  (6): ReLU()\n",
       "  (7): MaxPool2d(kernel_size=2, stride=2, padding=0, dilation=1, ceil_mode=False)\n",
       "  (8): Conv2d(64, 128, kernel_size=(3, 3), stride=(1, 1), padding=(1, 1))\n",
       "  (9): BatchNorm2d(128, eps=1e-05, momentum=0.1, affine=True, track_running_stats=True)\n",
       "  (10): ReLU()\n",
       "  (11): MaxPool2d(kernel_size=2, stride=2, padding=0, dilation=1, ceil_mode=False)\n",
       "  (12): Conv2d(128, 256, kernel_size=(3, 3), stride=(1, 1), padding=(1, 1))\n",
       "  (13): BatchNorm2d(256, eps=1e-05, momentum=0.1, affine=True, track_running_stats=True)\n",
       "  (14): ReLU()\n",
       "  (15): MaxPool2d(kernel_size=2, stride=2, padding=0, dilation=1, ceil_mode=False)\n",
       "  (16): Flatten(start_dim=1, end_dim=-1)\n",
       "  (17): Linear(in_features=262144, out_features=256, bias=True)\n",
       "  (18): ReLU()\n",
       "  (19): Linear(in_features=256, out_features=128, bias=True)\n",
       "  (20): ReLU()\n",
       "  (21): Linear(in_features=128, out_features=64, bias=True)\n",
       "  (22): ReLU()\n",
       "  (23): Linear(in_features=64, out_features=3, bias=True)\n",
       ")"
      ]
     },
     "execution_count": 8,
     "metadata": {},
     "output_type": "execute_result"
    }
   ],
   "source": [
    "device = torch.device(\"cuda:0\" if torch.cuda.is_available() else \"cpu\")\n",
    "model.to(device)"
   ]
  },
  {
   "cell_type": "code",
   "execution_count": 9,
   "id": "97b234bc-e3ad-4ffd-9140-2a4537715259",
   "metadata": {},
   "outputs": [],
   "source": [
    "num_epoch = 40\n",
    "learning_rate = 0.001"
   ]
  },
  {
   "cell_type": "code",
   "execution_count": 10,
   "id": "7852f30f-76af-4d58-89bb-6fb14936b060",
   "metadata": {},
   "outputs": [],
   "source": [
    "optimizer = optim.Adam(model.parameters(), lr=learning_rate)\n",
    "loss_fn = nn.CrossEntropyLoss()"
   ]
  },
  {
   "cell_type": "code",
   "execution_count": 11,
   "id": "687f4e6b-98ff-4199-b293-72274969f197",
   "metadata": {
    "scrolled": true
   },
   "outputs": [
    {
     "name": "stdout",
     "output_type": "stream",
     "text": [
      "Época 1/40 - Perda no treinamento: 6.842808 - Acurácia: 0.70\n",
      "Época 2/40 - Perda no treinamento: 0.887786 - Acurácia: 0.80\n",
      "Época 3/40 - Perda no treinamento: 0.293353 - Acurácia: 0.87\n",
      "Época 4/40 - Perda no treinamento: 0.182139 - Acurácia: 0.83\n",
      "Época 5/40 - Perda no treinamento: 0.094222 - Acurácia: 1.00\n",
      "Época 6/40 - Perda no treinamento: 0.071757 - Acurácia: 1.00\n",
      "Época 7/40 - Perda no treinamento: 0.028174 - Acurácia: 0.97\n",
      "Época 8/40 - Perda no treinamento: 0.014973 - Acurácia: 1.00\n",
      "Época 9/40 - Perda no treinamento: 0.002072 - Acurácia: 1.00\n",
      "Época 10/40 - Perda no treinamento: 0.001162 - Acurácia: 1.00\n",
      "Época 11/40 - Perda no treinamento: 0.001193 - Acurácia: 1.00\n",
      "Época 12/40 - Perda no treinamento: 0.000508 - Acurácia: 1.00\n",
      "Época 13/40 - Perda no treinamento: 0.000500 - Acurácia: 1.00\n",
      "Época 14/40 - Perda no treinamento: 0.000627 - Acurácia: 1.00\n",
      "Época 15/40 - Perda no treinamento: 0.000411 - Acurácia: 1.00\n",
      "Época 16/40 - Perda no treinamento: 0.000344 - Acurácia: 1.00\n",
      "Época 17/40 - Perda no treinamento: 0.000222 - Acurácia: 1.00\n",
      "Época 18/40 - Perda no treinamento: 0.000212 - Acurácia: 1.00\n",
      "Época 19/40 - Perda no treinamento: 0.000211 - Acurácia: 1.00\n",
      "Época 20/40 - Perda no treinamento: 0.000252 - Acurácia: 1.00\n",
      "Época 21/40 - Perda no treinamento: 0.000162 - Acurácia: 1.00\n",
      "Época 22/40 - Perda no treinamento: 0.000119 - Acurácia: 1.00\n",
      "Época 23/40 - Perda no treinamento: 0.000151 - Acurácia: 1.00\n",
      "Época 24/40 - Perda no treinamento: 0.000127 - Acurácia: 1.00\n",
      "Época 25/40 - Perda no treinamento: 0.000115 - Acurácia: 1.00\n",
      "Época 26/40 - Perda no treinamento: 0.000356 - Acurácia: 1.00\n",
      "Época 27/40 - Perda no treinamento: 0.000166 - Acurácia: 1.00\n",
      "Época 28/40 - Perda no treinamento: 0.000320 - Acurácia: 1.00\n",
      "Época 29/40 - Perda no treinamento: 0.000113 - Acurácia: 1.00\n",
      "Época 30/40 - Perda no treinamento: 0.000078 - Acurácia: 1.00\n",
      "Época 31/40 - Perda no treinamento: 0.000099 - Acurácia: 1.00\n",
      "Época 32/40 - Perda no treinamento: 0.000083 - Acurácia: 1.00\n",
      "Época 33/40 - Perda no treinamento: 0.000112 - Acurácia: 1.00\n",
      "Época 34/40 - Perda no treinamento: 0.000105 - Acurácia: 1.00\n",
      "Época 35/40 - Perda no treinamento: 0.000042 - Acurácia: 1.00\n",
      "Época 36/40 - Perda no treinamento: 0.000067 - Acurácia: 1.00\n",
      "Época 37/40 - Perda no treinamento: 0.000082 - Acurácia: 1.00\n",
      "Época 38/40 - Perda no treinamento: 0.000214 - Acurácia: 1.00\n",
      "Época 39/40 - Perda no treinamento: 0.000057 - Acurácia: 1.00\n",
      "Época 40/40 - Perda no treinamento: 0.000112 - Acurácia: 1.00\n"
     ]
    }
   ],
   "source": [
    "train_losses = []\n",
    "train_acc = []\n",
    "\n",
    "for epoch in range(num_epoch):\n",
    "    model.train()\n",
    "    running_train_loss = 0.0\n",
    "\n",
    "    for inputs, labels in trainloader:\n",
    "        inputs = inputs.to(device)\n",
    "        labels = labels.to(device)\n",
    "    \n",
    "        optimizer.zero_grad()\n",
    "        outputs = model(inputs)\n",
    "\n",
    "        loss = loss_fn(outputs, labels)\n",
    "        loss.backward()\n",
    "        optimizer.step()\n",
    "        running_train_loss += loss.item()\n",
    "\n",
    "    train_loss = running_train_loss / len(trainloader)\n",
    "    train_losses.append(train_loss)\n",
    "\n",
    "    _, predicted = torch.max(outputs.data, 1)\n",
    "    acc = accuracy_score(labels, predicted)\n",
    "    train_acc.append(acc)\n",
    "\n",
    "    print(f\"Época {epoch + 1}/{num_epoch} - Perda no treinamento: {train_loss:.6f} - Acurácia: {acc:.2f}\")"
   ]
  },
  {
   "cell_type": "code",
   "execution_count": 12,
   "id": "e3ea067a",
   "metadata": {},
   "outputs": [
    {
     "data": {
      "text/plain": [
       "Text(0.5, 0.98, 'Treinamento')"
      ]
     },
     "execution_count": 12,
     "metadata": {},
     "output_type": "execute_result"
    },
    {
     "data": {
      "image/png": "[encoded data removed]",
      "text/plain": [
       "<Figure size 1200x500 with 2 Axes>"
      ]
     },
     "metadata": {},
     "output_type": "display_data"
    }
   ],
   "source": [
    "epochs = range(1, num_epoch + 1)\n",
    "\n",
    "plt.figure(figsize=(12, 5))\n",
    "\n",
    "plt.subplot(1, 2, 1)\n",
    "plt.plot(epochs, train_losses, 'bo-')\n",
    "plt.xlabel('Épocas')\n",
    "plt.ylabel('Perda')\n",
    "\n",
    "plt.subplot(1, 2, 2)\n",
    "plt.plot(epochs, train_acc, 'ro-')\n",
    "plt.xlabel('Épocas')\n",
    "plt.ylabel('Acurácia')\n",
    "\n",
    "plt.suptitle(\"Treinamento\", fontsize = 20)"
   ]
  },
  {
   "cell_type": "code",
   "execution_count": 13,
   "id": "54185d83-f0cf-4f41-ac7d-52a50fd012bd",
   "metadata": {},
   "outputs": [
    {
     "name": "stdout",
     "output_type": "stream",
     "text": [
      "Acurácia: 0.98\n"
     ]
    }
   ],
   "source": [
    "model.eval()\n",
    "    \n",
    "with torch.no_grad():\n",
    "        \n",
    "    for images, labels in testloader:\n",
    "        images = images.to(device)\n",
    "        labels = labels.to(device)\n",
    "        \n",
    "        outputs = model(images)\n",
    "        _, predicted = torch.max(outputs.data, 1)\n",
    "\n",
    "        acc = accuracy_score(labels, predicted)\n",
    "        \n",
    "print(f\"Acurácia: {acc:.2f}\")"
   ]
  },
  {
   "cell_type": "markdown",
   "id": "82b79ba0-c770-4e9f-8855-c1d053b9ad4a",
   "metadata": {},
   "source": [
    "# Métricas de avaliação"
   ]
  },
  {
   "cell_type": "code",
   "execution_count": 14,
   "id": "1a7130e0-a990-4e9b-a48b-ab9f49870499",
   "metadata": {},
   "outputs": [
    {
     "data": {
      "image/png": "[encoded data removed]",
      "text/plain": [
       "<Figure size 640x480 with 2 Axes>"
      ]
     },
     "metadata": {},
     "output_type": "display_data"
    }
   ],
   "source": [
    "cm = confusion_matrix(labels, predicted)\n",
    "\n",
    "disp = ConfusionMatrixDisplay(confusion_matrix=cm, display_labels=['Normal', 'Pneumonia', 'Tuberculose'])\n",
    "disp.plot(cmap=plt.cm.Blues)\n",
    "\n",
    "plt.xlabel('Rótulo previsto')\n",
    "plt.ylabel('Rótulo verdadeiro')\n",
    "plt.show()"
   ]
  },
  {
   "cell_type": "code",
   "execution_count": 15,
   "id": "e033d72d-ea2b-4b94-9c24-e2e9c92d85df",
   "metadata": {},
   "outputs": [
    {
     "name": "stdout",
     "output_type": "stream",
     "text": [
      "Precisão: 0.98\n"
     ]
    }
   ],
   "source": [
    "precision = precision_score(labels, predicted, average='weighted')\n",
    "print(f\"Precisão: {precision:.2f}\")"
   ]
  },
  {
   "cell_type": "code",
   "execution_count": 16,
   "id": "1acf786f-fbb3-4e5a-a903-fcadbbd2e26a",
   "metadata": {},
   "outputs": [
    {
     "name": "stdout",
     "output_type": "stream",
     "text": [
      "Recall: 0.98\n"
     ]
    }
   ],
   "source": [
    "recall = recall_score(labels, predicted, average='weighted')\n",
    "print(f\"Recall: {recall:.2f}\")"
   ]
  },
  {
   "cell_type": "code",
   "execution_count": 17,
   "id": "a77c4451-93ce-42b0-a90e-afd9a817380a",
   "metadata": {},
   "outputs": [
    {
     "name": "stdout",
     "output_type": "stream",
     "text": [
      "F1 Score: 0.98\n"
     ]
    }
   ],
   "source": [
    "f1 = f1_score(labels, predicted, average='weighted')\n",
    "print(f\"F1 Score: {f1:.2f}\")"
   ]
  }
 ],
 "metadata": {
  "kernelspec": {
   "display_name": "Python 3 (ipykernel)",
   "language": "python",
   "name": "python3"
  },
  "language_info": {
   "codemirror_mode": {
    "name": "ipython",
    "version": 3
   },
   "file_extension": ".py",
   "mimetype": "text/x-python",
   "name": "python",
   "nbconvert_exporter": "python",
   "pygments_lexer": "ipython3",
   "version": "3.12.3"
  }
 },
 "nbformat": 4,
 "nbformat_minor": 5
}
