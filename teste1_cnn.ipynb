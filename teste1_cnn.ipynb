{
 "cells": [
  {
   "cell_type": "code",
   "execution_count": 19,
   "id": "a77bd366-35d9-4e91-82ee-e8e0396d3e85",
   "metadata": {},
   "outputs": [],
   "source": [
    "import torch\n",
    "import torch.nn as nn\n",
    "import torch.optim as optim\n",
    "from torch.utils.data import DataLoader\n",
    "import torchvision.transforms as transforms\n",
    "import tqdm\n",
    "import numpy as np"
   ]
  },
  {
   "cell_type": "code",
   "execution_count": 20,
   "id": "99cd0c5c-4c5e-47ad-8ec9-04e1a8e9ccea",
   "metadata": {},
   "outputs": [],
   "source": [
    "transform = transforms.Compose(\n",
    "    [transforms.Resize(size = (224,224)), \n",
    "     transforms.ToTensor(),\n",
    "     transforms.Normalize((0.5, 0.5, 0.5), (0.5, 0.5, 0.5))])"
   ]
  },
  {
   "cell_type": "code",
   "execution_count": 21,
   "id": "a75adaa9-63f5-4217-aaf1-9748676a0e85",
   "metadata": {},
   "outputs": [],
   "source": [
    "train = '1Amostragem/train'\n",
    "test = '1Amostragem/test'"
   ]
  },
  {
   "cell_type": "code",
   "execution_count": 22,
   "id": "70974c83-f363-48a5-a9cc-7d2670e54194",
   "metadata": {},
   "outputs": [],
   "source": [
    "train_dataset = datasets.ImageFolder(train,transform = transform)\n",
    "test_dataset = datasets.ImageFolder(test,transform = transform)"
   ]
  },
  {
   "cell_type": "code",
   "execution_count": 23,
   "id": "4c5e7489-8c8d-4805-bfef-b54ea0a0cd08",
   "metadata": {},
   "outputs": [
    {
     "data": {
      "text/plain": [
       "Dataset ImageFolder\n",
       "    Number of datapoints: 50\n",
       "    Root location: 1Amostragem/train\n",
       "    StandardTransform\n",
       "Transform: Compose(\n",
       "               Resize(size=(224, 224), interpolation=bilinear, max_size=None, antialias=True)\n",
       "               ToTensor()\n",
       "               Normalize(mean=(0.5, 0.5, 0.5), std=(0.5, 0.5, 0.5))\n",
       "           )"
      ]
     },
     "execution_count": 23,
     "metadata": {},
     "output_type": "execute_result"
    }
   ],
   "source": [
    "train_dataset"
   ]
  },
  {
   "cell_type": "code",
   "execution_count": 24,
   "id": "248afb9b-714a-49c0-8476-5e6c47cfa445",
   "metadata": {},
   "outputs": [
    {
     "data": {
      "text/plain": [
       "['normal', 'pneumonia']"
      ]
     },
     "execution_count": 24,
     "metadata": {},
     "output_type": "execute_result"
    }
   ],
   "source": [
    "train_dataset.classes"
   ]
  },
  {
   "cell_type": "code",
   "execution_count": 25,
   "id": "baeeb77e-e0d0-4aa4-94c7-63d23aed3dc3",
   "metadata": {},
   "outputs": [
    {
     "data": {
      "text/plain": [
       "Dataset ImageFolder\n",
       "    Number of datapoints: 50\n",
       "    Root location: 1Amostragem/test\n",
       "    StandardTransform\n",
       "Transform: Compose(\n",
       "               Resize(size=(224, 224), interpolation=bilinear, max_size=None, antialias=True)\n",
       "               ToTensor()\n",
       "               Normalize(mean=(0.5, 0.5, 0.5), std=(0.5, 0.5, 0.5))\n",
       "           )"
      ]
     },
     "execution_count": 25,
     "metadata": {},
     "output_type": "execute_result"
    }
   ],
   "source": [
    "test_dataset"
   ]
  },
  {
   "cell_type": "code",
   "execution_count": 26,
   "id": "21ce33c2-79f0-4547-8d44-8ff65ddb5736",
   "metadata": {},
   "outputs": [
    {
     "data": {
      "text/plain": [
       "['normal', 'pneumonia']"
      ]
     },
     "execution_count": 26,
     "metadata": {},
     "output_type": "execute_result"
    }
   ],
   "source": [
    "test_dataset.classes"
   ]
  },
  {
   "cell_type": "code",
   "execution_count": 27,
   "id": "c356d4df-f293-44ae-ae57-e3c88511aefc",
   "metadata": {},
   "outputs": [],
   "source": [
    "trainloader = DataLoader(train_dataset,batch_size = 64,shuffle = True)\n",
    "testloader = DataLoader(test_dataset,batch_size = 64,shuffle = True)"
   ]
  },
  {
   "cell_type": "code",
   "execution_count": 28,
   "id": "939b1429-df5c-4077-9c7d-aaa94ad18097",
   "metadata": {},
   "outputs": [
    {
     "name": "stdout",
     "output_type": "stream",
     "text": [
      "torch.Size([50, 3, 224, 224])\n",
      "torch.Size([50])\n"
     ]
    }
   ],
   "source": [
    "images, labels = next(iter(trainloader))\n",
    "print(images.shape)\n",
    "print(labels.shape)"
   ]
  },
  {
   "cell_type": "code",
   "execution_count": 29,
   "id": "5ab0014a-63e4-46e0-9e31-532fd5b2a06a",
   "metadata": {},
   "outputs": [],
   "source": [
    "from torch.autograd import Variable\n",
    "for i, (images,labels) in enumerate(trainloader):\n",
    "        if torch.cuda.is_available():\n",
    "            images=Variable(images.cuda())\n",
    "            labels=Variable(labels.cuda())"
   ]
  },
  {
   "cell_type": "code",
   "execution_count": 30,
   "id": "5118d0d6-aaf5-4cbe-88a2-399d77684108",
   "metadata": {},
   "outputs": [],
   "source": [
    "class Model(nn.Module):\n",
    "    def __init__(self, num_classes=2):\n",
    "        super(Model, self).__init__()\n",
    "\n",
    "        self.conv1 = nn.Conv2d(in_channels=3, out_channels=96, kernel_size=3, stride=1, padding=1)\n",
    "        self.bn1 = nn.BatchNorm2d(96)\n",
    "        self.conv2 = nn.Conv2d(in_channels=96, out_channels=256, kernel_size=3, stride=1, padding=1)\n",
    "        self.bn2 = nn.BatchNorm2d(256)\n",
    "        self.conv3 = nn.Conv2d(in_channels=256, out_channels=384, kernel_size=3, stride=1, padding=1)\n",
    "        self.bn3 = nn.BatchNorm2d(384)\n",
    "        self.conv4 = nn.Conv2d(in_channels=384, out_channels=384, kernel_size=3, stride=1, padding=1)\n",
    "        self.bn4 = nn.BatchNorm2d(384)\n",
    "        self.conv5 = nn.Conv2d(in_channels=384, out_channels=256, kernel_size=3, stride=1, padding=1)\n",
    "        self.bn5 = nn.BatchNorm2d(256)\n",
    "        self.pool = nn.MaxPool2d(kernel_size=2, stride=2)\n",
    "        self.linear1 = nn.Linear(256 * 14 * 14, 1000)\n",
    "        self.bn6 = nn.BatchNorm1d(1000)\n",
    "        self.linear2 = nn.Linear(1000, num_classes)\n",
    "        self.relu = nn.ReLU()\n",
    "\n",
    "    def forward(self, x):\n",
    "        x = self.relu(self.bn1(self.conv1(x)))\n",
    "        x = self.pool(x)\n",
    "        x = self.relu(self.bn2(self.conv2(x)))\n",
    "        x = self.pool(x)\n",
    "        x = self.relu(self.bn3(self.conv3(x)))\n",
    "        x = self.pool(x)\n",
    "        x = self.relu(self.bn4(self.conv4(x)))\n",
    "        x = self.relu(self.bn5(self.conv5(x)))\n",
    "        x = self.pool(x)\n",
    "        x = x.reshape(x.shape[0], -1)\n",
    "        x = self.relu(self.bn6(self.linear1(x)))\n",
    "        x = self.linear2(x)\n",
    "        return x\n",
    "\n",
    "# Use CUDA if available\n",
    "device = torch.device('cuda' if torch.cuda.is_available() else 'cpu')"
   ]
  },
  {
   "cell_type": "code",
   "execution_count": 35,
   "id": "7b76dbe4-fc82-43e9-a9b0-8486e1f96d84",
   "metadata": {},
   "outputs": [
    {
     "name": "stdout",
     "output_type": "stream",
     "text": [
      "Epoca 1/20 - Perda no treinamento: 0.6766\n",
      "Epoca 1/20 - Perda no teste: 1.1064, Metrica de avaliacao (Accuracy): 50.00%\n",
      "Epoca 2/20 - Perda no treinamento: 0.1084\n",
      "Epoca 2/20 - Perda no teste: 1.3317, Metrica de avaliacao (Accuracy): 44.00%\n",
      "Epoca 3/20 - Perda no treinamento: 1.3217\n",
      "Epoca 3/20 - Perda no teste: 2.2411, Metrica de avaliacao (Accuracy): 52.00%\n",
      "Epoca 4/20 - Perda no treinamento: 0.0731\n",
      "Epoca 4/20 - Perda no teste: 2.6876, Metrica de avaliacao (Accuracy): 52.00%\n",
      "Epoca 5/20 - Perda no treinamento: 0.0676\n",
      "Epoca 5/20 - Perda no teste: 3.1202, Metrica de avaliacao (Accuracy): 52.00%\n",
      "Epoca 6/20 - Perda no treinamento: 0.0666\n",
      "Epoca 6/20 - Perda no teste: 2.6031, Metrica de avaliacao (Accuracy): 54.00%\n",
      "Epoca 7/20 - Perda no treinamento: 0.0544\n",
      "Epoca 7/20 - Perda no teste: 1.7585, Metrica de avaliacao (Accuracy): 60.00%\n",
      "Epoca 8/20 - Perda no treinamento: 0.0471\n",
      "Epoca 8/20 - Perda no teste: 1.4023, Metrica de avaliacao (Accuracy): 66.00%\n",
      "Epoca 9/20 - Perda no treinamento: 0.0408\n",
      "Epoca 9/20 - Perda no teste: 1.4293, Metrica de avaliacao (Accuracy): 66.00%\n",
      "Epoca 10/20 - Perda no treinamento: 0.0311\n",
      "Epoca 10/20 - Perda no teste: 1.6949, Metrica de avaliacao (Accuracy): 62.00%\n",
      "Epoca 11/20 - Perda no treinamento: 0.0249\n",
      "Epoca 11/20 - Perda no teste: 2.0700, Metrica de avaliacao (Accuracy): 56.00%\n",
      "Epoca 12/20 - Perda no treinamento: 0.0212\n",
      "Epoca 12/20 - Perda no teste: 2.4410, Metrica de avaliacao (Accuracy): 54.00%\n",
      "Epoca 13/20 - Perda no treinamento: 0.0182\n",
      "Epoca 13/20 - Perda no teste: 2.7790, Metrica de avaliacao (Accuracy): 54.00%\n",
      "Epoca 14/20 - Perda no treinamento: 0.0155\n",
      "Epoca 14/20 - Perda no teste: 3.0833, Metrica de avaliacao (Accuracy): 52.00%\n",
      "Epoca 15/20 - Perda no treinamento: 0.0134\n",
      "Epoca 15/20 - Perda no teste: 3.3569, Metrica de avaliacao (Accuracy): 52.00%\n",
      "Epoca 16/20 - Perda no treinamento: 0.0117\n",
      "Epoca 16/20 - Perda no teste: 3.6030, Metrica de avaliacao (Accuracy): 52.00%\n",
      "Epoca 17/20 - Perda no treinamento: 0.0104\n",
      "Epoca 17/20 - Perda no teste: 3.8295, Metrica de avaliacao (Accuracy): 52.00%\n",
      "Epoca 18/20 - Perda no treinamento: 0.0092\n",
      "Epoca 18/20 - Perda no teste: 4.0389, Metrica de avaliacao (Accuracy): 52.00%\n",
      "Epoca 19/20 - Perda no treinamento: 0.0081\n",
      "Epoca 19/20 - Perda no teste: 4.2285, Metrica de avaliacao (Accuracy): 52.00%\n",
      "Epoca 20/20 - Perda no treinamento: 0.0071\n",
      "Epoca 20/20 - Perda no teste: 4.3961, Metrica de avaliacao (Accuracy): 52.00%\n"
     ]
    }
   ],
   "source": [
    "model = Model(num_classes=2)\n",
    "optimizer = optim.Adam(model.parameters(), lr=0.001)\n",
    "criterion = nn.CrossEntropyLoss()\n",
    "\n",
    "device = torch.device(\"cuda\" if torch.cuda.is_available() else \"cpu\")\n",
    "model.to(device)\n",
    "\n",
    "num_epochs = 20\n",
    "train_losses = []\n",
    "test_losses = []\n",
    "\n",
    "for epoch in range(num_epochs):\n",
    "    model.train()  \n",
    "    running_loss = 0\n",
    "    \n",
    "    for images, labels in trainloader:\n",
    "        \n",
    "        images, labels = images.to(device), labels.to(device)\n",
    "        \n",
    "        optimizer.zero_grad()\n",
    "        \n",
    "        outputs = model(images)\n",
    "        \n",
    "        loss = criterion(outputs, labels)\n",
    "        \n",
    "        loss.backward()\n",
    "        optimizer.step()\n",
    "        \n",
    "        running_loss += loss.item()\n",
    "    \n",
    "    avg_train_loss = running_loss / len(trainloader)\n",
    "    train_losses.append(avg_train_loss)\n",
    "    \n",
    "    print(f\"Epoca {epoch + 1}/{num_epochs} - Perda no treinamento: {avg_train_loss:.4f}\")\n",
    "    \n",
    "    # Teste\n",
    "    model.eval()\n",
    "    test_loss = 0\n",
    "    correct = 0\n",
    "    total = 0\n",
    "    \n",
    "    with torch.no_grad():\n",
    "        for images, labels in testloader:\n",
    "            images, labels = images.to(device), labels.to(device)\n",
    "            \n",
    "            outputs = model(images)\n",
    "            \n",
    "            loss = criterion(outputs, labels)\n",
    "            test_loss += loss.item()\n",
    "            \n",
    "            _, predicted = torch.max(outputs, 1)\n",
    "            total += labels.size(0)\n",
    "            correct += (predicted == labels).sum().item()\n",
    "    \n",
    "    avg_test_loss = test_loss / len(testloader)\n",
    "    test_losses.append(avg_test_loss)\n",
    "    accuracy = correct / total * 100\n",
    "    \n",
    "    print(f\"Epoca {epoch + 1}/{num_epochs} - Perda no teste: {avg_test_loss:.4f}, Metrica de avaliacao (Accuracy): {accuracy:.2f}%\")"
   ]
  },
  {
   "cell_type": "code",
   "execution_count": null,
   "id": "1a7130e0-a990-4e9b-a48b-ab9f49870499",
   "metadata": {},
   "outputs": [],
   "source": []
  }
 ],
 "metadata": {
  "kernelspec": {
   "display_name": "Python 3 (ipykernel)",
   "language": "python",
   "name": "python3"
  },
  "language_info": {
   "codemirror_mode": {
    "name": "ipython",
    "version": 3
   },
   "file_extension": ".py",
   "mimetype": "text/x-python",
   "name": "python",
   "nbconvert_exporter": "python",
   "pygments_lexer": "ipython3",
   "version": "3.11.2"
  }
 },
 "nbformat": 4,
 "nbformat_minor": 5
}
