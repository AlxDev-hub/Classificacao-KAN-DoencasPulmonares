{
 "cells": [
  {
   "cell_type": "code",
   "execution_count": 1,
   "id": "a77bd366-35d9-4e91-82ee-e8e0396d3e85",
   "metadata": {},
   "outputs": [],
   "source": [
    "import time\n",
    "import numpy as np\n",
    "import matplotlib.pyplot as plt\n",
    "\n",
    "import torch\n",
    "import torch.nn as nn\n",
    "import torch.optim as optim\n",
    "from torchvision import datasets, transforms\n",
    "from torch.utils.data import DataLoader, random_split\n",
    "\n",
    "from sklearn.metrics import *"
   ]
  },
  {
   "cell_type": "markdown",
   "id": "f999a09d-3bcc-4162-9d21-919ce24d6421",
   "metadata": {},
   "source": [
    "# <center>Pré-processamento dos dados</center>"
   ]
  },
  {
   "cell_type": "code",
   "execution_count": 2,
   "id": "eb38a3f1",
   "metadata": {},
   "outputs": [],
   "source": [
    "dataset_path = 'Dataset_Completo'"
   ]
  },
  {
   "cell_type": "code",
   "execution_count": 3,
   "id": "c4a49511",
   "metadata": {},
   "outputs": [],
   "source": [
    "transform_dataset = transforms.Compose(\n",
    "    [transforms.Resize(size = (224,224)),\n",
    "     transforms.ToTensor(),\n",
    "     transforms.Normalize(mean=[0.5], std=[0.5])\n",
    "    ]\n",
    ")"
   ]
  },
  {
   "cell_type": "code",
   "execution_count": 5,
   "id": "f0bb0680",
   "metadata": {},
   "outputs": [],
   "source": [
    "dataset = datasets.ImageFolder(dataset_path, transform = transform_dataset)"
   ]
  },
  {
   "cell_type": "code",
   "execution_count": 6,
   "id": "58308826",
   "metadata": {},
   "outputs": [
    {
     "name": "stdout",
     "output_type": "stream",
     "text": [
      "Informações sobre o Dataset: \n",
      "\n",
      " Dataset ImageFolder\n",
      "    Number of datapoints: 13411\n",
      "    Root location: Dataset_Completo\n",
      "    StandardTransform\n",
      "Transform: Compose(\n",
      "               Resize(size=(224, 224), interpolation=bilinear, max_size=None, antialias=True)\n",
      "               ToTensor()\n",
      "               Normalize(mean=[0.5], std=[0.5])\n",
      "           )\n",
      "\n",
      "Rótulos:  {'NORMAL': 0, 'PNEUMONIA': 1, 'TUBERCULOSE': 2}\n"
     ]
    }
   ],
   "source": [
    "print(\"Informações sobre o Dataset: \\n\\n\", dataset)\n",
    "print(\"\\nRótulos: \", dataset.class_to_idx)"
   ]
  },
  {
   "cell_type": "code",
   "execution_count": 7,
   "id": "343179bc",
   "metadata": {},
   "outputs": [],
   "source": [
    "train_size = int(0.7 * len(dataset))\n",
    "test_size = len(dataset) - train_size\n",
    "\n",
    "train_dataset, test_dataset = random_split(dataset, [train_size, test_size])"
   ]
  },
  {
   "cell_type": "code",
   "execution_count": 8,
   "id": "1dd381ef",
   "metadata": {},
   "outputs": [],
   "source": [
    "train_loader = DataLoader(train_dataset, batch_size=32, shuffle=True)\n",
    "test_loader = DataLoader(test_dataset, batch_size=32, shuffle=False)"
   ]
  },
  {
   "cell_type": "code",
   "execution_count": 9,
   "id": "8cdd29fc-26f4-41b0-bf6d-a4e794c6d329",
   "metadata": {},
   "outputs": [],
   "source": [
    "all_targets = []\n",
    "for images, labels in train_loader:\n",
    "    all_targets.extend(labels.tolist())\n",
    "\n",
    "nor = []\n",
    "pne = []\n",
    "tub = []\n",
    "for i in range(train_size):\n",
    "    if all_targets[i] == 0:\n",
    "        nor.append(all_targets[i])\n",
    "    elif all_targets[i] == 1:\n",
    "        pne.append(all_targets[i])\n",
    "    elif all_targets[i] == 2:\n",
    "        tub.append(all_targets[i])"
   ]
  },
  {
   "cell_type": "code",
   "execution_count": 10,
   "id": "d9ef05d9-1444-4382-965b-9cf1df16abee",
   "metadata": {},
   "outputs": [
    {
     "name": "stdout",
     "output_type": "stream",
     "text": [
      "!!!Distribuição dos dados de treinamento!!!\n",
      "\n",
      "Normal:  3577\n",
      "Pneumonia:  2976\n",
      "Tuberculose:  2834\n"
     ]
    }
   ],
   "source": [
    "print(\"!!!Distribuição dos dados de treinamento!!!\\n\")\n",
    "print(\"Normal: \", len(nor))\n",
    "print(\"Pneumonia: \", len(pne))\n",
    "print(\"Tuberculose: \", len(tub))"
   ]
  },
  {
   "cell_type": "markdown",
   "id": "7bf3038a-8d82-45ab-94a3-f11406160a86",
   "metadata": {},
   "source": [
    "# <center>Implementação da arquitetura CNN</center>"
   ]
  },
  {
   "cell_type": "code",
   "execution_count": 11,
   "id": "5118d0d6-aaf5-4cbe-88a2-399d77684108",
   "metadata": {},
   "outputs": [
    {
     "name": "stdout",
     "output_type": "stream",
     "text": [
      "Dispositivo utilizado: cuda\n"
     ]
    }
   ],
   "source": [
    "model = nn.Sequential(\n",
    "    nn.Conv2d(3, 32, kernel_size=3, stride=1, padding=1),\n",
    "    nn.BatchNorm2d(32),\n",
    "    nn.ReLU(),\n",
    "    \n",
    "    nn.MaxPool2d(kernel_size=2, stride=2, padding=0),\n",
    "    \n",
    "    nn.Conv2d(32, 64, kernel_size=3, stride=1, padding=1),\n",
    "    nn.BatchNorm2d(64),\n",
    "    nn.ReLU(),\n",
    "    \n",
    "    nn.MaxPool2d(kernel_size=2, stride=2, padding=0),\n",
    "    \n",
    "    nn.Conv2d(64, 128, kernel_size=3, stride=1, padding=1),\n",
    "    nn.BatchNorm2d(128),\n",
    "    nn.ReLU(),\n",
    "\n",
    "    nn.MaxPool2d(kernel_size=2, stride=2, padding=0),\n",
    "    \n",
    "    nn.Conv2d(128, 256, kernel_size=3, stride=1, padding=1),\n",
    "    nn.BatchNorm2d(256),\n",
    "    nn.ReLU(),\n",
    "    \n",
    "    nn.Flatten(),\n",
    "\n",
    "    nn.Linear(256 * 28 * 28, 256),\n",
    "    nn.Dropout(p=0.3),\n",
    "    nn.ReLU(),\n",
    "    \n",
    "    nn.Linear(256, 128),\n",
    "    nn.Dropout(p=0.3),\n",
    "    nn.ReLU(),\n",
    "\n",
    "    nn.Linear(128, 64),\n",
    "    nn.Dropout(p=0.3),\n",
    "    nn.ReLU(),\n",
    "    \n",
    "    nn.Linear(64, 32),\n",
    "    nn.Dropout(p=0.3),\n",
    "    nn.ReLU(),\n",
    "    \n",
    "    nn.Linear(32, 3)\n",
    ")\n",
    "\n",
    "\n",
    "device = torch.device(\"cuda\" if torch.cuda.is_available() else \"cpu\")\n",
    "print(f\"Dispositivo utilizado: {device}\")"
   ]
  },
  {
   "cell_type": "code",
   "execution_count": 12,
   "id": "4c273480-2d7c-4e82-93b5-cc5b02de3e82",
   "metadata": {},
   "outputs": [
    {
     "data": {
      "text/plain": [
       "Sequential(\n",
       "  (0): Conv2d(3, 32, kernel_size=(3, 3), stride=(1, 1), padding=(1, 1))\n",
       "  (1): BatchNorm2d(32, eps=1e-05, momentum=0.1, affine=True, track_running_stats=True)\n",
       "  (2): ReLU()\n",
       "  (3): MaxPool2d(kernel_size=2, stride=2, padding=0, dilation=1, ceil_mode=False)\n",
       "  (4): Conv2d(32, 64, kernel_size=(3, 3), stride=(1, 1), padding=(1, 1))\n",
       "  (5): BatchNorm2d(64, eps=1e-05, momentum=0.1, affine=True, track_running_stats=True)\n",
       "  (6): ReLU()\n",
       "  (7): MaxPool2d(kernel_size=2, stride=2, padding=0, dilation=1, ceil_mode=False)\n",
       "  (8): Conv2d(64, 128, kernel_size=(3, 3), stride=(1, 1), padding=(1, 1))\n",
       "  (9): BatchNorm2d(128, eps=1e-05, momentum=0.1, affine=True, track_running_stats=True)\n",
       "  (10): ReLU()\n",
       "  (11): MaxPool2d(kernel_size=2, stride=2, padding=0, dilation=1, ceil_mode=False)\n",
       "  (12): Conv2d(128, 256, kernel_size=(3, 3), stride=(1, 1), padding=(1, 1))\n",
       "  (13): BatchNorm2d(256, eps=1e-05, momentum=0.1, affine=True, track_running_stats=True)\n",
       "  (14): ReLU()\n",
       "  (15): Flatten(start_dim=1, end_dim=-1)\n",
       "  (16): Linear(in_features=200704, out_features=256, bias=True)\n",
       "  (17): Dropout(p=0.3, inplace=False)\n",
       "  (18): ReLU()\n",
       "  (19): Linear(in_features=256, out_features=128, bias=True)\n",
       "  (20): Dropout(p=0.3, inplace=False)\n",
       "  (21): ReLU()\n",
       "  (22): Linear(in_features=128, out_features=64, bias=True)\n",
       "  (23): Dropout(p=0.3, inplace=False)\n",
       "  (24): ReLU()\n",
       "  (25): Linear(in_features=64, out_features=32, bias=True)\n",
       "  (26): Dropout(p=0.3, inplace=False)\n",
       "  (27): ReLU()\n",
       "  (28): Linear(in_features=32, out_features=3, bias=True)\n",
       ")"
      ]
     },
     "execution_count": 12,
     "metadata": {},
     "output_type": "execute_result"
    }
   ],
   "source": [
    "model.to(device)"
   ]
  },
  {
   "cell_type": "code",
   "execution_count": 13,
   "id": "7852f30f-76af-4d58-89bb-6fb14936b060",
   "metadata": {},
   "outputs": [],
   "source": [
    "num_epoch = 250\n",
    "learning_rate = 0.001\n",
    "optimizer = optim.Adam(model.parameters(), lr=learning_rate)\n",
    "loss_fn = nn.CrossEntropyLoss()"
   ]
  },
  {
   "cell_type": "code",
   "execution_count": 14,
   "id": "db6fb9fc",
   "metadata": {
    "scrolled": true
   },
   "outputs": [
    {
     "name": "stdout",
     "output_type": "stream",
     "text": [
      "Época 1/250 - Perda no treinamento: 0.515340 - Acurácia: 0.7273\n",
      "Época 2/250 - Perda no treinamento: 0.228232 - Acurácia: 0.8182\n",
      "Época 3/250 - Perda no treinamento: 0.173050 - Acurácia: 0.9091\n",
      "Época 4/250 - Perda no treinamento: 0.146983 - Acurácia: 0.9091\n",
      "Época 5/250 - Perda no treinamento: 0.127601 - Acurácia: 1.0000\n",
      "Época 6/250 - Perda no treinamento: 0.110669 - Acurácia: 1.0000\n",
      "Época 7/250 - Perda no treinamento: 0.103712 - Acurácia: 1.0000\n",
      "Época 8/250 - Perda no treinamento: 0.081980 - Acurácia: 1.0000\n",
      "Época 9/250 - Perda no treinamento: 0.081137 - Acurácia: 1.0000\n",
      "Época 10/250 - Perda no treinamento: 0.075737 - Acurácia: 0.9091\n",
      "Época 11/250 - Perda no treinamento: 0.081425 - Acurácia: 1.0000\n",
      "Época 12/250 - Perda no treinamento: 0.064681 - Acurácia: 1.0000\n",
      "Época 13/250 - Perda no treinamento: 0.066186 - Acurácia: 1.0000\n",
      "Época 14/250 - Perda no treinamento: 0.062402 - Acurácia: 1.0000\n",
      "Época 15/250 - Perda no treinamento: 0.050650 - Acurácia: 1.0000\n",
      "Época 16/250 - Perda no treinamento: 0.047445 - Acurácia: 1.0000\n",
      "Época 17/250 - Perda no treinamento: 0.048728 - Acurácia: 1.0000\n",
      "Época 18/250 - Perda no treinamento: 0.041717 - Acurácia: 1.0000\n",
      "Época 19/250 - Perda no treinamento: 0.047126 - Acurácia: 0.9091\n",
      "Época 20/250 - Perda no treinamento: 0.045391 - Acurácia: 1.0000\n",
      "Época 21/250 - Perda no treinamento: 0.031656 - Acurácia: 1.0000\n",
      "Época 22/250 - Perda no treinamento: 0.034711 - Acurácia: 1.0000\n",
      "Época 23/250 - Perda no treinamento: 0.025481 - Acurácia: 1.0000\n",
      "Época 24/250 - Perda no treinamento: 0.050401 - Acurácia: 1.0000\n",
      "Época 25/250 - Perda no treinamento: 0.040806 - Acurácia: 1.0000\n",
      "Época 26/250 - Perda no treinamento: 0.026128 - Acurácia: 1.0000\n",
      "Época 27/250 - Perda no treinamento: 0.035619 - Acurácia: 1.0000\n",
      "Época 28/250 - Perda no treinamento: 0.034042 - Acurácia: 1.0000\n",
      "Época 29/250 - Perda no treinamento: 0.028208 - Acurácia: 1.0000\n",
      "Época 30/250 - Perda no treinamento: 0.030755 - Acurácia: 0.9091\n",
      "Época 31/250 - Perda no treinamento: 0.037455 - Acurácia: 1.0000\n",
      "Época 32/250 - Perda no treinamento: 0.021814 - Acurácia: 1.0000\n",
      "Época 33/250 - Perda no treinamento: 0.032735 - Acurácia: 0.9091\n",
      "Época 34/250 - Perda no treinamento: 0.021657 - Acurácia: 1.0000\n",
      "Época 35/250 - Perda no treinamento: 0.022630 - Acurácia: 1.0000\n",
      "Época 36/250 - Perda no treinamento: 0.022481 - Acurácia: 1.0000\n",
      "Época 37/250 - Perda no treinamento: 0.019465 - Acurácia: 1.0000\n",
      "Época 38/250 - Perda no treinamento: 0.018329 - Acurácia: 1.0000\n",
      "Época 39/250 - Perda no treinamento: 0.022993 - Acurácia: 1.0000\n",
      "Época 40/250 - Perda no treinamento: 0.019185 - Acurácia: 1.0000\n",
      "Época 41/250 - Perda no treinamento: 0.016648 - Acurácia: 1.0000\n",
      "Época 42/250 - Perda no treinamento: 0.011218 - Acurácia: 1.0000\n",
      "Época 43/250 - Perda no treinamento: 0.015106 - Acurácia: 1.0000\n",
      "Época 44/250 - Perda no treinamento: 0.027461 - Acurácia: 1.0000\n",
      "Época 45/250 - Perda no treinamento: 0.020322 - Acurácia: 1.0000\n",
      "Época 46/250 - Perda no treinamento: 0.017306 - Acurácia: 1.0000\n",
      "Época 47/250 - Perda no treinamento: 0.037170 - Acurácia: 1.0000\n",
      "Época 48/250 - Perda no treinamento: 0.014163 - Acurácia: 1.0000\n",
      "Época 49/250 - Perda no treinamento: 0.022795 - Acurácia: 1.0000\n",
      "Época 50/250 - Perda no treinamento: 0.021508 - Acurácia: 1.0000\n",
      "Época 51/250 - Perda no treinamento: 0.014894 - Acurácia: 1.0000\n",
      "Época 52/250 - Perda no treinamento: 0.011724 - Acurácia: 1.0000\n",
      "Época 53/250 - Perda no treinamento: 0.013706 - Acurácia: 1.0000\n",
      "Época 54/250 - Perda no treinamento: 0.007311 - Acurácia: 1.0000\n",
      "Época 55/250 - Perda no treinamento: 0.010195 - Acurácia: 1.0000\n",
      "Época 56/250 - Perda no treinamento: 0.020165 - Acurácia: 0.9091\n",
      "Época 57/250 - Perda no treinamento: 0.020920 - Acurácia: 1.0000\n",
      "Época 58/250 - Perda no treinamento: 0.020247 - Acurácia: 1.0000\n",
      "Época 59/250 - Perda no treinamento: 0.016825 - Acurácia: 1.0000\n",
      "Época 60/250 - Perda no treinamento: 0.013589 - Acurácia: 1.0000\n",
      "Época 61/250 - Perda no treinamento: 0.014167 - Acurácia: 1.0000\n",
      "Época 62/250 - Perda no treinamento: 0.011875 - Acurácia: 1.0000\n",
      "Época 63/250 - Perda no treinamento: 0.010831 - Acurácia: 1.0000\n",
      "Época 64/250 - Perda no treinamento: 0.008091 - Acurácia: 1.0000\n",
      "Época 65/250 - Perda no treinamento: 0.010967 - Acurácia: 1.0000\n",
      "Época 66/250 - Perda no treinamento: 0.011299 - Acurácia: 1.0000\n",
      "Época 67/250 - Perda no treinamento: 0.011171 - Acurácia: 1.0000\n",
      "Época 68/250 - Perda no treinamento: 0.010909 - Acurácia: 1.0000\n",
      "Época 69/250 - Perda no treinamento: 0.019988 - Acurácia: 1.0000\n",
      "Época 70/250 - Perda no treinamento: 0.014266 - Acurácia: 1.0000\n",
      "Época 71/250 - Perda no treinamento: 0.007429 - Acurácia: 1.0000\n",
      "Época 72/250 - Perda no treinamento: 0.005553 - Acurácia: 1.0000\n",
      "Época 73/250 - Perda no treinamento: 0.006985 - Acurácia: 1.0000\n",
      "Época 74/250 - Perda no treinamento: 0.026467 - Acurácia: 1.0000\n",
      "Época 75/250 - Perda no treinamento: 0.009676 - Acurácia: 1.0000\n",
      "Época 76/250 - Perda no treinamento: 0.009775 - Acurácia: 1.0000\n",
      "Época 77/250 - Perda no treinamento: 0.014642 - Acurácia: 1.0000\n",
      "Época 78/250 - Perda no treinamento: 0.013220 - Acurácia: 1.0000\n",
      "Época 79/250 - Perda no treinamento: 0.004642 - Acurácia: 1.0000\n",
      "Época 80/250 - Perda no treinamento: 0.009010 - Acurácia: 1.0000\n",
      "Época 81/250 - Perda no treinamento: 0.008109 - Acurácia: 1.0000\n",
      "Época 82/250 - Perda no treinamento: 0.021278 - Acurácia: 1.0000\n",
      "Época 83/250 - Perda no treinamento: 0.014788 - Acurácia: 1.0000\n",
      "Época 84/250 - Perda no treinamento: 0.006839 - Acurácia: 1.0000\n",
      "Época 85/250 - Perda no treinamento: 0.006743 - Acurácia: 1.0000\n",
      "Época 86/250 - Perda no treinamento: 0.010952 - Acurácia: 1.0000\n",
      "Época 87/250 - Perda no treinamento: 0.006291 - Acurácia: 1.0000\n",
      "Época 88/250 - Perda no treinamento: 0.010738 - Acurácia: 1.0000\n",
      "Época 89/250 - Perda no treinamento: 0.008648 - Acurácia: 1.0000\n",
      "Época 90/250 - Perda no treinamento: 0.010215 - Acurácia: 1.0000\n",
      "Época 91/250 - Perda no treinamento: 0.017491 - Acurácia: 1.0000\n",
      "Época 92/250 - Perda no treinamento: 0.006214 - Acurácia: 1.0000\n",
      "Época 93/250 - Perda no treinamento: 0.006452 - Acurácia: 1.0000\n",
      "Época 94/250 - Perda no treinamento: 0.033340 - Acurácia: 0.9091\n",
      "Época 95/250 - Perda no treinamento: 0.008512 - Acurácia: 1.0000\n",
      "Época 96/250 - Perda no treinamento: 0.017600 - Acurácia: 0.9091\n",
      "Época 97/250 - Perda no treinamento: 0.006526 - Acurácia: 1.0000\n",
      "Época 98/250 - Perda no treinamento: 0.013518 - Acurácia: 1.0000\n",
      "Época 99/250 - Perda no treinamento: 0.009033 - Acurácia: 1.0000\n",
      "Época 100/250 - Perda no treinamento: 0.009390 - Acurácia: 1.0000\n",
      "Época 101/250 - Perda no treinamento: 0.009556 - Acurácia: 1.0000\n",
      "Época 102/250 - Perda no treinamento: 0.008587 - Acurácia: 1.0000\n",
      "Época 103/250 - Perda no treinamento: 0.004410 - Acurácia: 1.0000\n",
      "Época 104/250 - Perda no treinamento: 0.019725 - Acurácia: 1.0000\n",
      "Época 105/250 - Perda no treinamento: 0.016831 - Acurácia: 1.0000\n",
      "Época 106/250 - Perda no treinamento: 0.012003 - Acurácia: 1.0000\n",
      "Época 107/250 - Perda no treinamento: 0.004008 - Acurácia: 1.0000\n",
      "Época 108/250 - Perda no treinamento: 0.006468 - Acurácia: 1.0000\n",
      "Época 109/250 - Perda no treinamento: 0.008574 - Acurácia: 1.0000\n",
      "Época 110/250 - Perda no treinamento: 0.007318 - Acurácia: 1.0000\n",
      "Época 111/250 - Perda no treinamento: 0.008390 - Acurácia: 1.0000\n",
      "Época 112/250 - Perda no treinamento: 0.013549 - Acurácia: 1.0000\n",
      "Época 113/250 - Perda no treinamento: 0.008529 - Acurácia: 1.0000\n",
      "Época 114/250 - Perda no treinamento: 0.004393 - Acurácia: 1.0000\n",
      "Época 115/250 - Perda no treinamento: 0.007868 - Acurácia: 1.0000\n",
      "Época 116/250 - Perda no treinamento: 0.007353 - Acurácia: 1.0000\n",
      "Época 117/250 - Perda no treinamento: 0.005882 - Acurácia: 1.0000\n",
      "Época 118/250 - Perda no treinamento: 0.015864 - Acurácia: 1.0000\n",
      "Época 119/250 - Perda no treinamento: 0.003806 - Acurácia: 1.0000\n",
      "Época 120/250 - Perda no treinamento: 0.009147 - Acurácia: 1.0000\n",
      "Época 121/250 - Perda no treinamento: 0.004677 - Acurácia: 1.0000\n",
      "Época 122/250 - Perda no treinamento: 0.012774 - Acurácia: 1.0000\n",
      "Época 123/250 - Perda no treinamento: 0.006561 - Acurácia: 1.0000\n",
      "Época 124/250 - Perda no treinamento: 0.011382 - Acurácia: 1.0000\n",
      "Época 125/250 - Perda no treinamento: 0.026558 - Acurácia: 0.9091\n",
      "Época 126/250 - Perda no treinamento: 0.010030 - Acurácia: 1.0000\n",
      "Época 127/250 - Perda no treinamento: 0.009795 - Acurácia: 1.0000\n",
      "Época 128/250 - Perda no treinamento: 0.015537 - Acurácia: 1.0000\n",
      "Época 129/250 - Perda no treinamento: 0.008255 - Acurácia: 1.0000\n",
      "Época 130/250 - Perda no treinamento: 0.009665 - Acurácia: 1.0000\n",
      "Época 131/250 - Perda no treinamento: 0.008105 - Acurácia: 1.0000\n",
      "Época 132/250 - Perda no treinamento: 0.006702 - Acurácia: 1.0000\n",
      "Época 133/250 - Perda no treinamento: 0.009053 - Acurácia: 1.0000\n",
      "Época 134/250 - Perda no treinamento: 0.013008 - Acurácia: 1.0000\n",
      "Época 135/250 - Perda no treinamento: 0.005108 - Acurácia: 0.9091\n",
      "Época 136/250 - Perda no treinamento: 0.016779 - Acurácia: 1.0000\n",
      "Época 137/250 - Perda no treinamento: 0.012323 - Acurácia: 1.0000\n",
      "Época 138/250 - Perda no treinamento: 0.012167 - Acurácia: 0.9091\n",
      "Época 139/250 - Perda no treinamento: 0.006169 - Acurácia: 1.0000\n",
      "Época 140/250 - Perda no treinamento: 0.008078 - Acurácia: 1.0000\n",
      "Época 141/250 - Perda no treinamento: 0.003102 - Acurácia: 1.0000\n",
      "Época 142/250 - Perda no treinamento: 0.002379 - Acurácia: 1.0000\n",
      "Época 143/250 - Perda no treinamento: 0.005188 - Acurácia: 1.0000\n",
      "Época 144/250 - Perda no treinamento: 0.007900 - Acurácia: 1.0000\n",
      "Época 145/250 - Perda no treinamento: 0.020391 - Acurácia: 1.0000\n",
      "Época 146/250 - Perda no treinamento: 0.005824 - Acurácia: 1.0000\n",
      "Época 147/250 - Perda no treinamento: 0.006689 - Acurácia: 1.0000\n",
      "Época 148/250 - Perda no treinamento: 0.007877 - Acurácia: 1.0000\n",
      "Época 149/250 - Perda no treinamento: 0.003983 - Acurácia: 1.0000\n",
      "Época 150/250 - Perda no treinamento: 0.005613 - Acurácia: 1.0000\n",
      "Época 151/250 - Perda no treinamento: 0.020596 - Acurácia: 1.0000\n",
      "Época 152/250 - Perda no treinamento: 0.002884 - Acurácia: 1.0000\n",
      "Época 153/250 - Perda no treinamento: 0.007858 - Acurácia: 1.0000\n",
      "Época 154/250 - Perda no treinamento: 0.004684 - Acurácia: 1.0000\n",
      "Época 155/250 - Perda no treinamento: 0.003008 - Acurácia: 1.0000\n",
      "Época 156/250 - Perda no treinamento: 0.008703 - Acurácia: 1.0000\n",
      "Época 157/250 - Perda no treinamento: 0.016275 - Acurácia: 1.0000\n",
      "Época 158/250 - Perda no treinamento: 0.002698 - Acurácia: 1.0000\n",
      "Época 159/250 - Perda no treinamento: 0.011524 - Acurácia: 1.0000\n",
      "Época 160/250 - Perda no treinamento: 0.003350 - Acurácia: 1.0000\n",
      "Época 161/250 - Perda no treinamento: 0.010824 - Acurácia: 1.0000\n",
      "Época 162/250 - Perda no treinamento: 0.007261 - Acurácia: 1.0000\n",
      "Época 163/250 - Perda no treinamento: 0.005842 - Acurácia: 1.0000\n",
      "Época 164/250 - Perda no treinamento: 0.007833 - Acurácia: 1.0000\n",
      "Época 165/250 - Perda no treinamento: 0.006316 - Acurácia: 1.0000\n",
      "Época 166/250 - Perda no treinamento: 0.004257 - Acurácia: 1.0000\n",
      "Época 167/250 - Perda no treinamento: 0.003242 - Acurácia: 1.0000\n",
      "Época 168/250 - Perda no treinamento: 0.007113 - Acurácia: 1.0000\n",
      "Época 169/250 - Perda no treinamento: 0.004365 - Acurácia: 1.0000\n",
      "Época 170/250 - Perda no treinamento: 0.010827 - Acurácia: 1.0000\n",
      "Época 171/250 - Perda no treinamento: 0.012027 - Acurácia: 1.0000\n",
      "Época 172/250 - Perda no treinamento: 0.012885 - Acurácia: 0.9091\n",
      "Época 173/250 - Perda no treinamento: 0.011489 - Acurácia: 1.0000\n",
      "Época 174/250 - Perda no treinamento: 0.007062 - Acurácia: 1.0000\n",
      "Época 175/250 - Perda no treinamento: 0.002713 - Acurácia: 1.0000\n",
      "Época 176/250 - Perda no treinamento: 0.006726 - Acurácia: 1.0000\n",
      "Época 177/250 - Perda no treinamento: 0.008416 - Acurácia: 1.0000\n",
      "Época 178/250 - Perda no treinamento: 0.003524 - Acurácia: 1.0000\n",
      "Época 179/250 - Perda no treinamento: 0.011587 - Acurácia: 1.0000\n",
      "Época 180/250 - Perda no treinamento: 0.004418 - Acurácia: 1.0000\n",
      "Época 181/250 - Perda no treinamento: 0.007565 - Acurácia: 1.0000\n",
      "Época 182/250 - Perda no treinamento: 0.014268 - Acurácia: 1.0000\n",
      "Época 183/250 - Perda no treinamento: 0.015388 - Acurácia: 1.0000\n",
      "Época 184/250 - Perda no treinamento: 0.005269 - Acurácia: 1.0000\n",
      "Época 185/250 - Perda no treinamento: 0.008501 - Acurácia: 1.0000\n",
      "Época 186/250 - Perda no treinamento: 0.006084 - Acurácia: 1.0000\n",
      "Época 187/250 - Perda no treinamento: 0.002814 - Acurácia: 1.0000\n",
      "Época 188/250 - Perda no treinamento: 0.005177 - Acurácia: 1.0000\n",
      "Época 189/250 - Perda no treinamento: 0.007263 - Acurácia: 1.0000\n",
      "Época 190/250 - Perda no treinamento: 0.009017 - Acurácia: 1.0000\n",
      "Época 191/250 - Perda no treinamento: 0.014959 - Acurácia: 1.0000\n",
      "Época 192/250 - Perda no treinamento: 0.009431 - Acurácia: 1.0000\n",
      "Época 193/250 - Perda no treinamento: 0.004500 - Acurácia: 0.9091\n",
      "Época 194/250 - Perda no treinamento: 0.006324 - Acurácia: 1.0000\n",
      "Época 195/250 - Perda no treinamento: 0.004076 - Acurácia: 1.0000\n",
      "Época 196/250 - Perda no treinamento: 0.003242 - Acurácia: 1.0000\n",
      "Época 197/250 - Perda no treinamento: 0.001695 - Acurácia: 1.0000\n",
      "Época 198/250 - Perda no treinamento: 0.004809 - Acurácia: 1.0000\n",
      "Época 199/250 - Perda no treinamento: 0.007164 - Acurácia: 1.0000\n",
      "Época 200/250 - Perda no treinamento: 0.017982 - Acurácia: 1.0000\n",
      "Época 201/250 - Perda no treinamento: 0.014777 - Acurácia: 1.0000\n",
      "Época 202/250 - Perda no treinamento: 0.007636 - Acurácia: 1.0000\n",
      "Época 203/250 - Perda no treinamento: 0.003679 - Acurácia: 1.0000\n",
      "Época 204/250 - Perda no treinamento: 0.005484 - Acurácia: 1.0000\n",
      "Época 205/250 - Perda no treinamento: 0.015348 - Acurácia: 1.0000\n",
      "Época 206/250 - Perda no treinamento: 0.006184 - Acurácia: 1.0000\n",
      "Época 207/250 - Perda no treinamento: 0.012865 - Acurácia: 1.0000\n",
      "Época 208/250 - Perda no treinamento: 0.008104 - Acurácia: 1.0000\n",
      "Época 209/250 - Perda no treinamento: 0.002600 - Acurácia: 1.0000\n",
      "Época 210/250 - Perda no treinamento: 0.004001 - Acurácia: 1.0000\n",
      "Época 211/250 - Perda no treinamento: 0.006650 - Acurácia: 1.0000\n",
      "Época 212/250 - Perda no treinamento: 0.008474 - Acurácia: 1.0000\n",
      "Época 213/250 - Perda no treinamento: 0.006423 - Acurácia: 1.0000\n",
      "Época 214/250 - Perda no treinamento: 0.004459 - Acurácia: 1.0000\n",
      "Época 215/250 - Perda no treinamento: 0.009052 - Acurácia: 1.0000\n",
      "Época 216/250 - Perda no treinamento: 0.003734 - Acurácia: 1.0000\n",
      "Época 217/250 - Perda no treinamento: 0.004715 - Acurácia: 1.0000\n",
      "Época 218/250 - Perda no treinamento: 0.003181 - Acurácia: 1.0000\n",
      "Época 219/250 - Perda no treinamento: 0.019054 - Acurácia: 1.0000\n",
      "Época 220/250 - Perda no treinamento: 0.006635 - Acurácia: 1.0000\n",
      "Época 221/250 - Perda no treinamento: 0.001583 - Acurácia: 1.0000\n",
      "Época 222/250 - Perda no treinamento: 0.004300 - Acurácia: 1.0000\n",
      "Época 223/250 - Perda no treinamento: 0.008190 - Acurácia: 1.0000\n",
      "Época 224/250 - Perda no treinamento: 0.005519 - Acurácia: 0.9091\n",
      "Época 225/250 - Perda no treinamento: 0.008242 - Acurácia: 1.0000\n",
      "Época 226/250 - Perda no treinamento: 0.003650 - Acurácia: 1.0000\n",
      "Época 227/250 - Perda no treinamento: 0.010566 - Acurácia: 1.0000\n",
      "Época 228/250 - Perda no treinamento: 0.005612 - Acurácia: 1.0000\n",
      "Época 229/250 - Perda no treinamento: 0.005216 - Acurácia: 1.0000\n",
      "Época 230/250 - Perda no treinamento: 0.017881 - Acurácia: 1.0000\n",
      "Época 231/250 - Perda no treinamento: 0.018358 - Acurácia: 1.0000\n",
      "Época 232/250 - Perda no treinamento: 0.012045 - Acurácia: 1.0000\n",
      "Época 233/250 - Perda no treinamento: 0.005224 - Acurácia: 0.9091\n",
      "Época 234/250 - Perda no treinamento: 0.003343 - Acurácia: 1.0000\n",
      "Época 235/250 - Perda no treinamento: 0.006260 - Acurácia: 1.0000\n",
      "Época 236/250 - Perda no treinamento: 0.004463 - Acurácia: 1.0000\n",
      "Época 237/250 - Perda no treinamento: 0.006237 - Acurácia: 1.0000\n",
      "Época 238/250 - Perda no treinamento: 0.003529 - Acurácia: 1.0000\n",
      "Época 239/250 - Perda no treinamento: 0.006163 - Acurácia: 1.0000\n",
      "Época 240/250 - Perda no treinamento: 0.013311 - Acurácia: 1.0000\n",
      "Época 241/250 - Perda no treinamento: 0.003608 - Acurácia: 1.0000\n",
      "Época 242/250 - Perda no treinamento: 0.006632 - Acurácia: 1.0000\n",
      "Época 243/250 - Perda no treinamento: 0.004978 - Acurácia: 1.0000\n",
      "Época 244/250 - Perda no treinamento: 0.020004 - Acurácia: 1.0000\n",
      "Época 245/250 - Perda no treinamento: 0.005769 - Acurácia: 1.0000\n",
      "Época 246/250 - Perda no treinamento: 0.001309 - Acurácia: 1.0000\n",
      "Época 247/250 - Perda no treinamento: 0.002340 - Acurácia: 1.0000\n",
      "Época 248/250 - Perda no treinamento: 0.006253 - Acurácia: 1.0000\n",
      "Época 249/250 - Perda no treinamento: 0.003335 - Acurácia: 0.9091\n",
      "Época 250/250 - Perda no treinamento: 0.009052 - Acurácia: 1.0000\n",
      "\n",
      "Tempo total de treinamento: 37071.66 segundos\n"
     ]
    }
   ],
   "source": [
    "train_losses = []\n",
    "train_acc = []\n",
    "\n",
    "training_start_time = time.time()\n",
    "\n",
    "for epoch in range(num_epoch):\n",
    "    model.train()\n",
    "    running_train_loss = 0.0\n",
    "\n",
    "    for inputs, labels in train_loader:\n",
    "        inputs = inputs.to(device)\n",
    "        labels = labels.to(device)\n",
    "    \n",
    "        optimizer.zero_grad()\n",
    "        outputs = model(inputs)\n",
    "\n",
    "        loss = loss_fn(outputs, labels)\n",
    "        loss.backward()\n",
    "        optimizer.step()\n",
    "        running_train_loss += loss.item()\n",
    "\n",
    "    train_loss = running_train_loss / len(train_loader)\n",
    "    train_losses.append(train_loss)\n",
    "\n",
    "    _, predicted = torch.max(outputs.data, 1)\n",
    "\n",
    "    acc = accuracy_score(labels.cpu().detach().numpy(), predicted.cpu().detach().numpy())\n",
    "    train_acc.append(acc)\n",
    "\n",
    "    print(f\"Época {epoch + 1}/{num_epoch} - Perda no treinamento: {train_loss:.6f} - Acurácia: {acc:.4f}\")\n",
    "\n",
    "training_time = time.time() - training_start_time\n",
    "print(f\"\\nTempo total de treinamento: {training_time:.2f} segundos\")"
   ]
  },
  {
   "cell_type": "code",
   "execution_count": 15,
   "id": "6e0bfba8",
   "metadata": {},
   "outputs": [
    {
     "data": {
      "text/plain": [
       "Text(0.5, 0.98, 'Treinamento')"
      ]
     },
     "execution_count": 15,
     "metadata": {},
     "output_type": "execute_result"
    },
    {
     "data": {
      "image/png": "[encoded data removed]",
      "text/plain": [
       "<Figure size 1200x500 with 2 Axes>"
      ]
     },
     "metadata": {},
     "output_type": "display_data"
    }
   ],
   "source": [
    "epochs = range(1, num_epoch + 1)\n",
    "\n",
    "plt.figure(figsize=(12, 5))\n",
    "\n",
    "plt.subplot(1, 2, 1)\n",
    "plt.plot(epochs, train_losses, 'bo-')\n",
    "plt.xlabel('Épocas')\n",
    "plt.ylabel('Perda')\n",
    "\n",
    "plt.subplot(1, 2, 2)\n",
    "plt.plot(epochs, train_acc, 'ro-')\n",
    "plt.xlabel('Épocas')\n",
    "plt.ylabel('Acurácia')\n",
    "\n",
    "plt.suptitle(\"Treinamento\", fontsize = 20)"
   ]
  },
  {
   "cell_type": "code",
   "execution_count": 16,
   "id": "b69784a6",
   "metadata": {},
   "outputs": [
    {
     "name": "stdout",
     "output_type": "stream",
     "text": [
      "!!!Teste finalizado!!!\n"
     ]
    }
   ],
   "source": [
    "rot_array = []\n",
    "predt_array = []\n",
    "\n",
    "model.eval()\n",
    "    \n",
    "with torch.no_grad():\n",
    "        \n",
    "    for images, labels in test_loader:\n",
    "        images = images.to(device)\n",
    "        labels = labels.to(device)\n",
    "        \n",
    "        outputs = model(images)\n",
    "        _, predicted = torch.max(outputs.data, 1)\n",
    "\n",
    "        rot_array.extend(labels.cpu().detach().numpy())\n",
    "        predt_array.extend(predicted.cpu().detach().numpy())\n",
    "\n",
    "print(\"!!!Teste finalizado!!!\")"
   ]
  },
  {
   "cell_type": "markdown",
   "id": "7d4e8125",
   "metadata": {},
   "source": [
    "# <center> Métricas de avaliação </center>"
   ]
  },
  {
   "cell_type": "code",
   "execution_count": 17,
   "id": "3db4b94b",
   "metadata": {},
   "outputs": [
    {
     "data": {
      "image/png": "[encoded data removed]",
      "text/plain": [
       "<Figure size 640x480 with 2 Axes>"
      ]
     },
     "metadata": {},
     "output_type": "display_data"
    }
   ],
   "source": [
    "cm = confusion_matrix(rot_array, predt_array)\n",
    "\n",
    "disp = ConfusionMatrixDisplay(confusion_matrix=cm, display_labels=['Normal', 'Pneumonia', 'Tuberculose'])\n",
    "disp.plot(cmap=plt.cm.Blues)\n",
    "\n",
    "plt.xlabel('Rótulo previsto')\n",
    "plt.ylabel('Rótulo verdadeiro')\n",
    "plt.show()"
   ]
  },
  {
   "cell_type": "code",
   "execution_count": 18,
   "id": "5cc4b82f",
   "metadata": {},
   "outputs": [
    {
     "name": "stdout",
     "output_type": "stream",
     "text": [
      "Acurácia: 96.72%\n"
     ]
    }
   ],
   "source": [
    "acc = accuracy_score(rot_array, predt_array)\n",
    "print(f\"Acurácia: {acc * 100 :.2f}%\")"
   ]
  },
  {
   "cell_type": "code",
   "execution_count": 19,
   "id": "b6110c3c",
   "metadata": {},
   "outputs": [
    {
     "name": "stdout",
     "output_type": "stream",
     "text": [
      "Precisão: 96.75%\n"
     ]
    }
   ],
   "source": [
    "precision = precision_score(rot_array, predt_array, average='weighted')\n",
    "print(f\"Precisão: {precision * 100 :.2f}%\")"
   ]
  },
  {
   "cell_type": "code",
   "execution_count": 20,
   "id": "a1b52987",
   "metadata": {},
   "outputs": [
    {
     "name": "stdout",
     "output_type": "stream",
     "text": [
      "Recall: 96.72%\n"
     ]
    }
   ],
   "source": [
    "recall = recall_score(rot_array, predt_array, average='weighted')\n",
    "print(f\"Recall: {recall * 100 :.2f}%\")"
   ]
  },
  {
   "cell_type": "code",
   "execution_count": 21,
   "id": "8fdb017e",
   "metadata": {},
   "outputs": [
    {
     "name": "stdout",
     "output_type": "stream",
     "text": [
      "F1 Score: 96.71%\n"
     ]
    }
   ],
   "source": [
    "f1 = f1_score(rot_array, predt_array, average='weighted')\n",
    "print(f\"F1 Score: {f1 * 100 :.2f}%\")"
   ]
  }
 ],
 "metadata": {
  "kernelspec": {
   "display_name": "Python 3 (ipykernel)",
   "language": "python",
   "name": "python3"
  },
  "language_info": {
   "codemirror_mode": {
    "name": "ipython",
    "version": 3
   },
   "file_extension": ".py",
   "mimetype": "text/x-python",
   "name": "python",
   "nbconvert_exporter": "python",
   "pygments_lexer": "ipython3",
   "version": "3.12.8"
  }
 },
 "nbformat": 4,
 "nbformat_minor": 5
}
