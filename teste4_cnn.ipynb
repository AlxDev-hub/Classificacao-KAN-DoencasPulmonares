{
 "cells": [
  {
   "cell_type": "code",
   "execution_count": 1,
   "id": "a77bd366-35d9-4e91-82ee-e8e0396d3e85",
   "metadata": {},
   "outputs": [],
   "source": [
    "import time\n",
    "import numpy as np\n",
    "import matplotlib.pyplot as plt\n",
    "\n",
    "import torch\n",
    "import torch.nn as nn\n",
    "import torch.optim as optim\n",
    "from torchvision import datasets, transforms\n",
    "from torch.utils.data import DataLoader, random_split\n",
    "\n",
    "from sklearn.metrics import *"
   ]
  },
  {
   "cell_type": "markdown",
   "id": "f999a09d-3bcc-4162-9d21-919ce24d6421",
   "metadata": {},
   "source": [
    "# <center>Pré-processamento dos dados</center>"
   ]
  },
  {
   "cell_type": "code",
   "execution_count": 2,
   "id": "eb38a3f1",
   "metadata": {},
   "outputs": [],
   "source": [
    "dataset_path = 'Dataset_Completo'"
   ]
  },
  {
   "cell_type": "code",
   "execution_count": 3,
   "id": "c4a49511",
   "metadata": {},
   "outputs": [],
   "source": [
    "transform_dataset = transforms.Compose(\n",
    "    [transforms.Resize(size = (224,224)),\n",
    "     transforms.RandomRotation(degrees=10),\n",
    "     transforms.RandomAffine(degrees=0, translate=(0.1, 0.1), scale=(0.9, 1.1), shear=10),\n",
    "     transforms.ColorJitter(brightness=0.2, contrast=0.2, saturation=0.1, hue=0.1),\n",
    "     transforms.ToTensor(),\n",
    "     transforms.Lambda(lambda x: torch.clamp(x + torch.randn_like(x) * 0.05, 0., 1.)),\n",
    "     transforms.Normalize(mean=[0.5], std=[0.5])\n",
    "    ]\n",
    ")"
   ]
  },
  {
   "cell_type": "code",
   "execution_count": 4,
   "id": "f0bb0680",
   "metadata": {},
   "outputs": [],
   "source": [
    "dataset = datasets.ImageFolder(dataset_path, transform = transform_dataset)"
   ]
  },
  {
   "cell_type": "code",
   "execution_count": 5,
   "id": "58308826",
   "metadata": {},
   "outputs": [
    {
     "name": "stdout",
     "output_type": "stream",
     "text": [
      "Informações sobre o Dataset: \n",
      "\n",
      " Dataset ImageFolder\n",
      "    Number of datapoints: 13411\n",
      "    Root location: Dataset_Completo\n",
      "    StandardTransform\n",
      "Transform: Compose(\n",
      "               Resize(size=(224, 224), interpolation=bilinear, max_size=None, antialias=True)\n",
      "               RandomRotation(degrees=[-10.0, 10.0], interpolation=nearest, expand=False, fill=0)\n",
      "               RandomAffine(degrees=[0.0, 0.0], translate=(0.1, 0.1), scale=(0.9, 1.1), shear=[-10.0, 10.0])\n",
      "               ColorJitter(brightness=(0.8, 1.2), contrast=(0.8, 1.2), saturation=(0.9, 1.1), hue=(-0.1, 0.1))\n",
      "               ToTensor()\n",
      "               Lambda()\n",
      "               Normalize(mean=[0.5], std=[0.5])\n",
      "           )\n",
      "\n",
      "Rótulos:  {'NORMAL': 0, 'PNEUMONIA': 1, 'TUBERCULOSE': 2}\n"
     ]
    }
   ],
   "source": [
    "print(\"Informações sobre o Dataset: \\n\\n\", dataset)\n",
    "print(\"\\nRótulos: \", dataset.class_to_idx)"
   ]
  },
  {
   "cell_type": "code",
   "execution_count": 6,
   "id": "343179bc",
   "metadata": {},
   "outputs": [],
   "source": [
    "train_size = int(0.7 * len(dataset))\n",
    "test_size = len(dataset) - train_size\n",
    "\n",
    "train_dataset, test_dataset = random_split(dataset, [train_size, test_size])"
   ]
  },
  {
   "cell_type": "code",
   "execution_count": 7,
   "id": "1dd381ef",
   "metadata": {},
   "outputs": [],
   "source": [
    "train_loader = DataLoader(train_dataset, batch_size=32, shuffle=True)\n",
    "test_loader = DataLoader(test_dataset, batch_size=32, shuffle=False)"
   ]
  },
  {
   "cell_type": "code",
   "execution_count": 8,
   "id": "8cdd29fc-26f4-41b0-bf6d-a4e794c6d329",
   "metadata": {},
   "outputs": [],
   "source": [
    "all_targets = []\n",
    "for images, labels in train_loader:\n",
    "    all_targets.extend(labels.tolist())\n",
    "\n",
    "nor = []\n",
    "pne = []\n",
    "tub = []\n",
    "for i in range(train_size):\n",
    "    if all_targets[i] == 0:\n",
    "        nor.append(all_targets[i])\n",
    "    elif all_targets[i] == 1:\n",
    "        pne.append(all_targets[i])\n",
    "    elif all_targets[i] == 2:\n",
    "        tub.append(all_targets[i])"
   ]
  },
  {
   "cell_type": "code",
   "execution_count": 9,
   "id": "d9ef05d9-1444-4382-965b-9cf1df16abee",
   "metadata": {},
   "outputs": [
    {
     "name": "stdout",
     "output_type": "stream",
     "text": [
      "!!!Distribuição dos dados de treinamento!!!\n",
      "\n",
      "Normal:  3562\n",
      "Pneumonia:  2970\n",
      "Tuberculose:  2855\n"
     ]
    }
   ],
   "source": [
    "print(\"!!!Distribuição dos dados de treinamento!!!\\n\")\n",
    "print(\"Normal: \", len(nor))\n",
    "print(\"Pneumonia: \", len(pne))\n",
    "print(\"Tuberculose: \", len(tub))"
   ]
  },
  {
   "cell_type": "markdown",
   "id": "7bf3038a-8d82-45ab-94a3-f11406160a86",
   "metadata": {},
   "source": [
    "# <center>Implementação da arquitetura CNN</center>"
   ]
  },
  {
   "cell_type": "code",
   "execution_count": 10,
   "id": "5118d0d6-aaf5-4cbe-88a2-399d77684108",
   "metadata": {},
   "outputs": [
    {
     "name": "stdout",
     "output_type": "stream",
     "text": [
      "Dispositivo utilizado: cuda\n"
     ]
    }
   ],
   "source": [
    "model = nn.Sequential(\n",
    "    nn.Conv2d(3, 32, kernel_size=3, stride=1, padding=1),\n",
    "    nn.BatchNorm2d(32),\n",
    "    nn.ReLU(),\n",
    "    \n",
    "    nn.MaxPool2d(kernel_size=2, stride=2, padding=0),\n",
    "    \n",
    "    nn.Conv2d(32, 64, kernel_size=3, stride=1, padding=1),\n",
    "    nn.BatchNorm2d(64),\n",
    "    nn.ReLU(),\n",
    "    \n",
    "    nn.MaxPool2d(kernel_size=2, stride=2, padding=0),\n",
    "    \n",
    "    nn.Conv2d(64, 128, kernel_size=3, stride=1, padding=1),\n",
    "    nn.BatchNorm2d(128),\n",
    "    nn.ReLU(),\n",
    "\n",
    "    nn.MaxPool2d(kernel_size=2, stride=2, padding=0),\n",
    "    \n",
    "    nn.Conv2d(128, 256, kernel_size=3, stride=1, padding=1),\n",
    "    nn.BatchNorm2d(256),\n",
    "    nn.ReLU(),\n",
    "    \n",
    "    nn.Flatten(),\n",
    "\n",
    "    nn.Linear(256 * 28 * 28, 256),\n",
    "    nn.Dropout(p=0.3),\n",
    "    nn.ReLU(),\n",
    "    \n",
    "    nn.Linear(256, 128),\n",
    "    nn.Dropout(p=0.3),\n",
    "    nn.ReLU(),\n",
    "\n",
    "    nn.Linear(128, 64),\n",
    "    nn.Dropout(p=0.3),\n",
    "    nn.ReLU(),\n",
    "    \n",
    "    nn.Linear(64, 32),\n",
    "    nn.Dropout(p=0.3),\n",
    "    nn.ReLU(),\n",
    "    \n",
    "    nn.Linear(32, 3)\n",
    ")\n",
    "\n",
    "\n",
    "device = torch.device(\"cuda\" if torch.cuda.is_available() else \"cpu\")\n",
    "print(f\"Dispositivo utilizado: {device}\")"
   ]
  },
  {
   "cell_type": "code",
   "execution_count": 11,
   "id": "4c273480-2d7c-4e82-93b5-cc5b02de3e82",
   "metadata": {},
   "outputs": [
    {
     "data": {
      "text/plain": [
       "Sequential(\n",
       "  (0): Conv2d(3, 32, kernel_size=(3, 3), stride=(1, 1), padding=(1, 1))\n",
       "  (1): BatchNorm2d(32, eps=1e-05, momentum=0.1, affine=True, track_running_stats=True)\n",
       "  (2): ReLU()\n",
       "  (3): MaxPool2d(kernel_size=2, stride=2, padding=0, dilation=1, ceil_mode=False)\n",
       "  (4): Conv2d(32, 64, kernel_size=(3, 3), stride=(1, 1), padding=(1, 1))\n",
       "  (5): BatchNorm2d(64, eps=1e-05, momentum=0.1, affine=True, track_running_stats=True)\n",
       "  (6): ReLU()\n",
       "  (7): MaxPool2d(kernel_size=2, stride=2, padding=0, dilation=1, ceil_mode=False)\n",
       "  (8): Conv2d(64, 128, kernel_size=(3, 3), stride=(1, 1), padding=(1, 1))\n",
       "  (9): BatchNorm2d(128, eps=1e-05, momentum=0.1, affine=True, track_running_stats=True)\n",
       "  (10): ReLU()\n",
       "  (11): MaxPool2d(kernel_size=2, stride=2, padding=0, dilation=1, ceil_mode=False)\n",
       "  (12): Conv2d(128, 256, kernel_size=(3, 3), stride=(1, 1), padding=(1, 1))\n",
       "  (13): BatchNorm2d(256, eps=1e-05, momentum=0.1, affine=True, track_running_stats=True)\n",
       "  (14): ReLU()\n",
       "  (15): Flatten(start_dim=1, end_dim=-1)\n",
       "  (16): Linear(in_features=200704, out_features=256, bias=True)\n",
       "  (17): Dropout(p=0.3, inplace=False)\n",
       "  (18): ReLU()\n",
       "  (19): Linear(in_features=256, out_features=128, bias=True)\n",
       "  (20): Dropout(p=0.3, inplace=False)\n",
       "  (21): ReLU()\n",
       "  (22): Linear(in_features=128, out_features=64, bias=True)\n",
       "  (23): Dropout(p=0.3, inplace=False)\n",
       "  (24): ReLU()\n",
       "  (25): Linear(in_features=64, out_features=32, bias=True)\n",
       "  (26): Dropout(p=0.3, inplace=False)\n",
       "  (27): ReLU()\n",
       "  (28): Linear(in_features=32, out_features=3, bias=True)\n",
       ")"
      ]
     },
     "execution_count": 11,
     "metadata": {},
     "output_type": "execute_result"
    }
   ],
   "source": [
    "model.to(device)"
   ]
  },
  {
   "cell_type": "code",
   "execution_count": 12,
   "id": "7852f30f-76af-4d58-89bb-6fb14936b060",
   "metadata": {},
   "outputs": [],
   "source": [
    "num_epoch = 250\n",
    "learning_rate = 0.001\n",
    "optimizer = optim.Adam(model.parameters(), lr=learning_rate)\n",
    "loss_fn = nn.CrossEntropyLoss()"
   ]
  },
  {
   "cell_type": "code",
   "execution_count": 13,
   "id": "db6fb9fc",
   "metadata": {
    "scrolled": true
   },
   "outputs": [
    {
     "name": "stdout",
     "output_type": "stream",
     "text": [
      "Época 1/250 - Perda no treinamento: 0.991064 - Acurácia: 0.6364\n",
      "Época 2/250 - Perda no treinamento: 0.661263 - Acurácia: 0.6364\n",
      "Época 3/250 - Perda no treinamento: 0.503685 - Acurácia: 0.9091\n",
      "Época 4/250 - Perda no treinamento: 0.442236 - Acurácia: 0.9091\n",
      "Época 5/250 - Perda no treinamento: 0.417619 - Acurácia: 0.9091\n",
      "Época 6/250 - Perda no treinamento: 0.387253 - Acurácia: 0.9091\n",
      "Época 7/250 - Perda no treinamento: 0.361537 - Acurácia: 1.0000\n",
      "Época 8/250 - Perda no treinamento: 0.339032 - Acurácia: 0.9091\n",
      "Época 9/250 - Perda no treinamento: 0.331987 - Acurácia: 0.9091\n",
      "Época 10/250 - Perda no treinamento: 0.307840 - Acurácia: 0.9091\n",
      "Época 11/250 - Perda no treinamento: 0.304073 - Acurácia: 0.9091\n",
      "Época 12/250 - Perda no treinamento: 0.297868 - Acurácia: 0.9091\n",
      "Época 13/250 - Perda no treinamento: 0.282349 - Acurácia: 0.8182\n",
      "Época 14/250 - Perda no treinamento: 0.280128 - Acurácia: 1.0000\n",
      "Época 15/250 - Perda no treinamento: 0.262849 - Acurácia: 0.9091\n",
      "Época 16/250 - Perda no treinamento: 0.263445 - Acurácia: 1.0000\n",
      "Época 17/250 - Perda no treinamento: 0.241103 - Acurácia: 1.0000\n",
      "Época 18/250 - Perda no treinamento: 0.247466 - Acurácia: 0.9091\n",
      "Época 19/250 - Perda no treinamento: 0.227909 - Acurácia: 0.8182\n",
      "Época 20/250 - Perda no treinamento: 0.235890 - Acurácia: 0.9091\n",
      "Época 21/250 - Perda no treinamento: 0.237395 - Acurácia: 0.9091\n",
      "Época 22/250 - Perda no treinamento: 0.224336 - Acurácia: 0.8182\n",
      "Época 23/250 - Perda no treinamento: 0.223411 - Acurácia: 0.8182\n",
      "Época 24/250 - Perda no treinamento: 0.225719 - Acurácia: 0.8182\n",
      "Época 25/250 - Perda no treinamento: 0.221414 - Acurácia: 0.7273\n",
      "Época 26/250 - Perda no treinamento: 0.208698 - Acurácia: 0.9091\n",
      "Época 27/250 - Perda no treinamento: 0.213883 - Acurácia: 0.7273\n",
      "Época 28/250 - Perda no treinamento: 0.195067 - Acurácia: 1.0000\n",
      "Época 29/250 - Perda no treinamento: 0.191224 - Acurácia: 1.0000\n",
      "Época 30/250 - Perda no treinamento: 0.185408 - Acurácia: 0.8182\n",
      "Época 31/250 - Perda no treinamento: 0.189050 - Acurácia: 0.9091\n",
      "Época 32/250 - Perda no treinamento: 0.208514 - Acurácia: 1.0000\n",
      "Época 33/250 - Perda no treinamento: 0.177662 - Acurácia: 0.9091\n",
      "Época 34/250 - Perda no treinamento: 0.179756 - Acurácia: 1.0000\n",
      "Época 35/250 - Perda no treinamento: 0.182221 - Acurácia: 1.0000\n",
      "Época 36/250 - Perda no treinamento: 0.195812 - Acurácia: 0.9091\n",
      "Época 37/250 - Perda no treinamento: 0.181912 - Acurácia: 0.9091\n",
      "Época 38/250 - Perda no treinamento: 0.162699 - Acurácia: 1.0000\n",
      "Época 39/250 - Perda no treinamento: 0.169734 - Acurácia: 1.0000\n",
      "Época 40/250 - Perda no treinamento: 0.173360 - Acurácia: 1.0000\n",
      "Época 41/250 - Perda no treinamento: 0.167140 - Acurácia: 0.9091\n",
      "Época 42/250 - Perda no treinamento: 0.163045 - Acurácia: 1.0000\n",
      "Época 43/250 - Perda no treinamento: 0.168629 - Acurácia: 0.9091\n",
      "Época 44/250 - Perda no treinamento: 0.152897 - Acurácia: 1.0000\n",
      "Época 45/250 - Perda no treinamento: 0.170345 - Acurácia: 1.0000\n",
      "Época 46/250 - Perda no treinamento: 0.162738 - Acurácia: 1.0000\n",
      "Época 47/250 - Perda no treinamento: 0.142390 - Acurácia: 1.0000\n",
      "Época 48/250 - Perda no treinamento: 0.149031 - Acurácia: 1.0000\n",
      "Época 49/250 - Perda no treinamento: 0.146010 - Acurácia: 1.0000\n",
      "Época 50/250 - Perda no treinamento: 0.151898 - Acurácia: 1.0000\n",
      "Época 51/250 - Perda no treinamento: 0.141316 - Acurácia: 0.9091\n",
      "Época 52/250 - Perda no treinamento: 0.150950 - Acurácia: 0.9091\n",
      "Época 53/250 - Perda no treinamento: 0.151225 - Acurácia: 1.0000\n",
      "Época 54/250 - Perda no treinamento: 0.149907 - Acurácia: 0.9091\n",
      "Época 55/250 - Perda no treinamento: 0.139495 - Acurácia: 1.0000\n",
      "Época 56/250 - Perda no treinamento: 0.134691 - Acurácia: 0.9091\n",
      "Época 57/250 - Perda no treinamento: 0.133226 - Acurácia: 1.0000\n",
      "Época 58/250 - Perda no treinamento: 0.134390 - Acurácia: 1.0000\n",
      "Época 59/250 - Perda no treinamento: 0.135081 - Acurácia: 1.0000\n",
      "Época 60/250 - Perda no treinamento: 0.130928 - Acurácia: 1.0000\n",
      "Época 61/250 - Perda no treinamento: 0.117538 - Acurácia: 1.0000\n",
      "Época 62/250 - Perda no treinamento: 0.134060 - Acurácia: 1.0000\n",
      "Época 63/250 - Perda no treinamento: 0.133178 - Acurácia: 1.0000\n",
      "Época 64/250 - Perda no treinamento: 0.135690 - Acurácia: 1.0000\n",
      "Época 65/250 - Perda no treinamento: 0.128515 - Acurácia: 1.0000\n",
      "Época 66/250 - Perda no treinamento: 0.130625 - Acurácia: 0.9091\n",
      "Época 67/250 - Perda no treinamento: 0.143103 - Acurácia: 1.0000\n",
      "Época 68/250 - Perda no treinamento: 0.122324 - Acurácia: 1.0000\n",
      "Época 69/250 - Perda no treinamento: 0.117740 - Acurácia: 0.8182\n",
      "Época 70/250 - Perda no treinamento: 0.133600 - Acurácia: 0.8182\n",
      "Época 71/250 - Perda no treinamento: 0.132680 - Acurácia: 1.0000\n",
      "Época 72/250 - Perda no treinamento: 0.118109 - Acurácia: 1.0000\n",
      "Época 73/250 - Perda no treinamento: 0.127963 - Acurácia: 0.9091\n",
      "Época 74/250 - Perda no treinamento: 0.131880 - Acurácia: 1.0000\n",
      "Época 75/250 - Perda no treinamento: 0.122067 - Acurácia: 0.9091\n",
      "Época 76/250 - Perda no treinamento: 0.111069 - Acurácia: 1.0000\n",
      "Época 77/250 - Perda no treinamento: 0.111710 - Acurácia: 0.9091\n",
      "Época 78/250 - Perda no treinamento: 0.114993 - Acurácia: 0.9091\n",
      "Época 79/250 - Perda no treinamento: 0.114988 - Acurácia: 0.9091\n",
      "Época 80/250 - Perda no treinamento: 0.114551 - Acurácia: 1.0000\n",
      "Época 81/250 - Perda no treinamento: 0.112412 - Acurácia: 1.0000\n",
      "Época 82/250 - Perda no treinamento: 0.111762 - Acurácia: 0.9091\n",
      "Época 83/250 - Perda no treinamento: 0.105712 - Acurácia: 1.0000\n",
      "Época 84/250 - Perda no treinamento: 0.108178 - Acurácia: 1.0000\n",
      "Época 85/250 - Perda no treinamento: 0.110773 - Acurácia: 1.0000\n",
      "Época 86/250 - Perda no treinamento: 0.102202 - Acurácia: 0.9091\n",
      "Época 87/250 - Perda no treinamento: 0.129950 - Acurácia: 1.0000\n",
      "Época 88/250 - Perda no treinamento: 0.105799 - Acurácia: 0.8182\n",
      "Época 89/250 - Perda no treinamento: 0.100642 - Acurácia: 1.0000\n",
      "Época 90/250 - Perda no treinamento: 0.104817 - Acurácia: 1.0000\n",
      "Época 91/250 - Perda no treinamento: 0.106561 - Acurácia: 1.0000\n",
      "Época 92/250 - Perda no treinamento: 0.110522 - Acurácia: 1.0000\n",
      "Época 93/250 - Perda no treinamento: 0.091720 - Acurácia: 1.0000\n",
      "Época 94/250 - Perda no treinamento: 0.102518 - Acurácia: 0.9091\n",
      "Época 95/250 - Perda no treinamento: 0.108566 - Acurácia: 1.0000\n",
      "Época 96/250 - Perda no treinamento: 0.091513 - Acurácia: 1.0000\n",
      "Época 97/250 - Perda no treinamento: 0.111841 - Acurácia: 1.0000\n",
      "Época 98/250 - Perda no treinamento: 0.101364 - Acurácia: 1.0000\n",
      "Época 99/250 - Perda no treinamento: 0.112198 - Acurácia: 1.0000\n",
      "Época 100/250 - Perda no treinamento: 0.091904 - Acurácia: 1.0000\n",
      "Época 101/250 - Perda no treinamento: 0.104454 - Acurácia: 0.9091\n",
      "Época 102/250 - Perda no treinamento: 0.097648 - Acurácia: 1.0000\n",
      "Época 103/250 - Perda no treinamento: 0.109724 - Acurácia: 0.9091\n",
      "Época 104/250 - Perda no treinamento: 0.102478 - Acurácia: 0.9091\n",
      "Época 105/250 - Perda no treinamento: 0.094490 - Acurácia: 0.9091\n",
      "Época 106/250 - Perda no treinamento: 0.087207 - Acurácia: 0.9091\n",
      "Época 107/250 - Perda no treinamento: 0.103474 - Acurácia: 1.0000\n",
      "Época 108/250 - Perda no treinamento: 0.083663 - Acurácia: 1.0000\n",
      "Época 109/250 - Perda no treinamento: 0.094806 - Acurácia: 1.0000\n",
      "Época 110/250 - Perda no treinamento: 0.088552 - Acurácia: 1.0000\n",
      "Época 111/250 - Perda no treinamento: 0.100339 - Acurácia: 1.0000\n",
      "Época 112/250 - Perda no treinamento: 0.094963 - Acurácia: 1.0000\n",
      "Época 113/250 - Perda no treinamento: 0.093509 - Acurácia: 1.0000\n",
      "Época 114/250 - Perda no treinamento: 0.086090 - Acurácia: 0.9091\n",
      "Época 115/250 - Perda no treinamento: 0.097348 - Acurácia: 1.0000\n",
      "Época 116/250 - Perda no treinamento: 0.093736 - Acurácia: 0.8182\n",
      "Época 117/250 - Perda no treinamento: 0.085504 - Acurácia: 1.0000\n",
      "Época 118/250 - Perda no treinamento: 0.087132 - Acurácia: 0.9091\n",
      "Época 119/250 - Perda no treinamento: 0.090089 - Acurácia: 1.0000\n",
      "Época 120/250 - Perda no treinamento: 0.094415 - Acurácia: 0.9091\n",
      "Época 121/250 - Perda no treinamento: 0.095331 - Acurácia: 1.0000\n",
      "Época 122/250 - Perda no treinamento: 0.092123 - Acurácia: 1.0000\n",
      "Época 123/250 - Perda no treinamento: 0.085545 - Acurácia: 1.0000\n",
      "Época 124/250 - Perda no treinamento: 0.089361 - Acurácia: 0.9091\n",
      "Época 125/250 - Perda no treinamento: 0.082431 - Acurácia: 1.0000\n",
      "Época 126/250 - Perda no treinamento: 0.092115 - Acurácia: 1.0000\n",
      "Época 127/250 - Perda no treinamento: 0.099585 - Acurácia: 1.0000\n",
      "Época 128/250 - Perda no treinamento: 0.081907 - Acurácia: 1.0000\n",
      "Época 129/250 - Perda no treinamento: 0.088413 - Acurácia: 0.8182\n",
      "Época 130/250 - Perda no treinamento: 0.085523 - Acurácia: 1.0000\n",
      "Época 131/250 - Perda no treinamento: 0.083186 - Acurácia: 0.9091\n",
      "Época 132/250 - Perda no treinamento: 0.093457 - Acurácia: 1.0000\n",
      "Época 133/250 - Perda no treinamento: 0.088624 - Acurácia: 1.0000\n",
      "Época 134/250 - Perda no treinamento: 0.083820 - Acurácia: 0.9091\n",
      "Época 135/250 - Perda no treinamento: 0.083440 - Acurácia: 1.0000\n",
      "Época 136/250 - Perda no treinamento: 0.086105 - Acurácia: 1.0000\n",
      "Época 137/250 - Perda no treinamento: 0.077368 - Acurácia: 0.9091\n",
      "Época 138/250 - Perda no treinamento: 0.092339 - Acurácia: 1.0000\n",
      "Época 139/250 - Perda no treinamento: 0.072415 - Acurácia: 1.0000\n",
      "Época 140/250 - Perda no treinamento: 0.071772 - Acurácia: 0.9091\n",
      "Época 141/250 - Perda no treinamento: 0.073980 - Acurácia: 1.0000\n",
      "Época 142/250 - Perda no treinamento: 0.082604 - Acurácia: 1.0000\n",
      "Época 143/250 - Perda no treinamento: 0.090631 - Acurácia: 1.0000\n",
      "Época 144/250 - Perda no treinamento: 0.078883 - Acurácia: 0.9091\n",
      "Época 145/250 - Perda no treinamento: 0.078092 - Acurácia: 1.0000\n",
      "Época 146/250 - Perda no treinamento: 0.071716 - Acurácia: 0.9091\n",
      "Época 147/250 - Perda no treinamento: 0.078659 - Acurácia: 1.0000\n",
      "Época 148/250 - Perda no treinamento: 0.090309 - Acurácia: 1.0000\n",
      "Época 149/250 - Perda no treinamento: 0.078965 - Acurácia: 1.0000\n",
      "Época 150/250 - Perda no treinamento: 0.082925 - Acurácia: 1.0000\n",
      "Época 151/250 - Perda no treinamento: 0.079633 - Acurácia: 1.0000\n",
      "Época 152/250 - Perda no treinamento: 0.083383 - Acurácia: 1.0000\n",
      "Época 153/250 - Perda no treinamento: 0.070433 - Acurácia: 0.9091\n",
      "Época 154/250 - Perda no treinamento: 0.076331 - Acurácia: 1.0000\n",
      "Época 155/250 - Perda no treinamento: 0.067492 - Acurácia: 1.0000\n",
      "Época 156/250 - Perda no treinamento: 0.077617 - Acurácia: 1.0000\n",
      "Época 157/250 - Perda no treinamento: 0.081482 - Acurácia: 0.8182\n",
      "Época 158/250 - Perda no treinamento: 0.084799 - Acurácia: 0.9091\n",
      "Época 159/250 - Perda no treinamento: 0.077045 - Acurácia: 1.0000\n",
      "Época 160/250 - Perda no treinamento: 0.072422 - Acurácia: 0.9091\n",
      "Época 161/250 - Perda no treinamento: 0.073894 - Acurácia: 1.0000\n",
      "Época 162/250 - Perda no treinamento: 0.070502 - Acurácia: 1.0000\n",
      "Época 163/250 - Perda no treinamento: 0.075753 - Acurácia: 1.0000\n",
      "Época 164/250 - Perda no treinamento: 0.072299 - Acurácia: 1.0000\n",
      "Época 165/250 - Perda no treinamento: 0.076835 - Acurácia: 1.0000\n",
      "Época 166/250 - Perda no treinamento: 0.074069 - Acurácia: 1.0000\n",
      "Época 167/250 - Perda no treinamento: 0.073983 - Acurácia: 1.0000\n",
      "Época 168/250 - Perda no treinamento: 0.062545 - Acurácia: 0.9091\n",
      "Época 169/250 - Perda no treinamento: 0.071423 - Acurácia: 0.8182\n",
      "Época 170/250 - Perda no treinamento: 0.081889 - Acurácia: 0.8182\n",
      "Época 171/250 - Perda no treinamento: 0.086015 - Acurácia: 0.8182\n",
      "Época 172/250 - Perda no treinamento: 0.068122 - Acurácia: 1.0000\n",
      "Época 173/250 - Perda no treinamento: 0.066047 - Acurácia: 1.0000\n",
      "Época 174/250 - Perda no treinamento: 0.071083 - Acurácia: 0.9091\n",
      "Época 175/250 - Perda no treinamento: 0.074816 - Acurácia: 0.9091\n",
      "Época 176/250 - Perda no treinamento: 0.070236 - Acurácia: 0.9091\n",
      "Época 177/250 - Perda no treinamento: 0.077820 - Acurácia: 1.0000\n",
      "Época 178/250 - Perda no treinamento: 0.078568 - Acurácia: 1.0000\n",
      "Época 179/250 - Perda no treinamento: 0.084160 - Acurácia: 1.0000\n",
      "Época 180/250 - Perda no treinamento: 0.073262 - Acurácia: 1.0000\n",
      "Época 181/250 - Perda no treinamento: 0.076902 - Acurácia: 1.0000\n",
      "Época 182/250 - Perda no treinamento: 0.074647 - Acurácia: 1.0000\n",
      "Época 183/250 - Perda no treinamento: 0.065132 - Acurácia: 0.9091\n",
      "Época 184/250 - Perda no treinamento: 0.075327 - Acurácia: 1.0000\n",
      "Época 185/250 - Perda no treinamento: 0.065957 - Acurácia: 1.0000\n",
      "Época 186/250 - Perda no treinamento: 0.068090 - Acurácia: 1.0000\n",
      "Época 187/250 - Perda no treinamento: 0.068851 - Acurácia: 1.0000\n",
      "Época 188/250 - Perda no treinamento: 0.085728 - Acurácia: 1.0000\n",
      "Época 189/250 - Perda no treinamento: 0.068003 - Acurácia: 1.0000\n",
      "Época 190/250 - Perda no treinamento: 0.067335 - Acurácia: 1.0000\n",
      "Época 191/250 - Perda no treinamento: 0.059610 - Acurácia: 1.0000\n",
      "Época 192/250 - Perda no treinamento: 0.059933 - Acurácia: 1.0000\n",
      "Época 193/250 - Perda no treinamento: 0.075916 - Acurácia: 1.0000\n",
      "Época 194/250 - Perda no treinamento: 0.066175 - Acurácia: 1.0000\n",
      "Época 195/250 - Perda no treinamento: 0.069281 - Acurácia: 1.0000\n",
      "Época 196/250 - Perda no treinamento: 0.075339 - Acurácia: 0.9091\n",
      "Época 197/250 - Perda no treinamento: 0.072569 - Acurácia: 1.0000\n",
      "Época 198/250 - Perda no treinamento: 0.063443 - Acurácia: 0.9091\n",
      "Época 199/250 - Perda no treinamento: 0.062904 - Acurácia: 1.0000\n",
      "Época 200/250 - Perda no treinamento: 0.059512 - Acurácia: 1.0000\n",
      "Época 201/250 - Perda no treinamento: 0.060558 - Acurácia: 0.9091\n",
      "Época 202/250 - Perda no treinamento: 0.064827 - Acurácia: 1.0000\n",
      "Época 203/250 - Perda no treinamento: 0.066638 - Acurácia: 1.0000\n",
      "Época 204/250 - Perda no treinamento: 0.070758 - Acurácia: 1.0000\n",
      "Época 205/250 - Perda no treinamento: 0.057614 - Acurácia: 1.0000\n",
      "Época 206/250 - Perda no treinamento: 0.066381 - Acurácia: 1.0000\n",
      "Época 207/250 - Perda no treinamento: 0.065180 - Acurácia: 1.0000\n",
      "Época 208/250 - Perda no treinamento: 0.066903 - Acurácia: 1.0000\n",
      "Época 209/250 - Perda no treinamento: 0.054800 - Acurácia: 1.0000\n",
      "Época 210/250 - Perda no treinamento: 0.065310 - Acurácia: 0.9091\n",
      "Época 211/250 - Perda no treinamento: 0.070640 - Acurácia: 0.9091\n",
      "Época 212/250 - Perda no treinamento: 0.059739 - Acurácia: 0.9091\n",
      "Época 213/250 - Perda no treinamento: 0.074385 - Acurácia: 1.0000\n",
      "Época 214/250 - Perda no treinamento: 0.078216 - Acurácia: 1.0000\n",
      "Época 215/250 - Perda no treinamento: 0.061723 - Acurácia: 0.9091\n",
      "Época 216/250 - Perda no treinamento: 0.082543 - Acurácia: 0.9091\n",
      "Época 217/250 - Perda no treinamento: 0.066754 - Acurácia: 1.0000\n",
      "Época 218/250 - Perda no treinamento: 0.066554 - Acurácia: 1.0000\n",
      "Época 219/250 - Perda no treinamento: 0.054699 - Acurácia: 1.0000\n",
      "Época 220/250 - Perda no treinamento: 0.062773 - Acurácia: 1.0000\n",
      "Época 221/250 - Perda no treinamento: 0.063563 - Acurácia: 1.0000\n",
      "Época 222/250 - Perda no treinamento: 0.065512 - Acurácia: 1.0000\n",
      "Época 223/250 - Perda no treinamento: 0.062437 - Acurácia: 0.9091\n",
      "Época 224/250 - Perda no treinamento: 0.062028 - Acurácia: 1.0000\n",
      "Época 225/250 - Perda no treinamento: 0.063118 - Acurácia: 1.0000\n",
      "Época 226/250 - Perda no treinamento: 0.054675 - Acurácia: 1.0000\n",
      "Época 227/250 - Perda no treinamento: 0.051048 - Acurácia: 0.9091\n",
      "Época 228/250 - Perda no treinamento: 0.067505 - Acurácia: 1.0000\n",
      "Época 229/250 - Perda no treinamento: 0.069955 - Acurácia: 1.0000\n",
      "Época 230/250 - Perda no treinamento: 0.059898 - Acurácia: 1.0000\n",
      "Época 231/250 - Perda no treinamento: 0.060416 - Acurácia: 1.0000\n",
      "Época 232/250 - Perda no treinamento: 0.055352 - Acurácia: 1.0000\n",
      "Época 233/250 - Perda no treinamento: 0.062057 - Acurácia: 0.9091\n",
      "Época 234/250 - Perda no treinamento: 0.064299 - Acurácia: 1.0000\n",
      "Época 235/250 - Perda no treinamento: 0.056670 - Acurácia: 1.0000\n",
      "Época 236/250 - Perda no treinamento: 0.056061 - Acurácia: 1.0000\n",
      "Época 237/250 - Perda no treinamento: 0.045880 - Acurácia: 1.0000\n",
      "Época 238/250 - Perda no treinamento: 0.060486 - Acurácia: 0.9091\n",
      "Época 239/250 - Perda no treinamento: 0.059872 - Acurácia: 1.0000\n",
      "Época 240/250 - Perda no treinamento: 0.053902 - Acurácia: 0.9091\n",
      "Época 241/250 - Perda no treinamento: 0.060994 - Acurácia: 1.0000\n",
      "Época 242/250 - Perda no treinamento: 0.061709 - Acurácia: 0.9091\n",
      "Época 243/250 - Perda no treinamento: 0.053843 - Acurácia: 1.0000\n",
      "Época 244/250 - Perda no treinamento: 0.058379 - Acurácia: 0.9091\n",
      "Época 245/250 - Perda no treinamento: 0.056565 - Acurácia: 1.0000\n",
      "Época 246/250 - Perda no treinamento: 0.054870 - Acurácia: 1.0000\n",
      "Época 247/250 - Perda no treinamento: 0.055532 - Acurácia: 1.0000\n",
      "Época 248/250 - Perda no treinamento: 0.057698 - Acurácia: 1.0000\n",
      "Época 249/250 - Perda no treinamento: 0.060908 - Acurácia: 1.0000\n",
      "Época 250/250 - Perda no treinamento: 0.054060 - Acurácia: 0.9091\n",
      "\n",
      "Tempo total de treinamento: 53778.03 segundos\n"
     ]
    }
   ],
   "source": [
    "train_losses = []\n",
    "train_acc = []\n",
    "\n",
    "training_start_time = time.time()\n",
    "\n",
    "for epoch in range(num_epoch):\n",
    "    model.train()\n",
    "    running_train_loss = 0.0\n",
    "\n",
    "    for inputs, labels in train_loader:\n",
    "        inputs = inputs.to(device)\n",
    "        labels = labels.to(device)\n",
    "    \n",
    "        optimizer.zero_grad()\n",
    "        outputs = model(inputs)\n",
    "\n",
    "        loss = loss_fn(outputs, labels)\n",
    "        loss.backward()\n",
    "        optimizer.step()\n",
    "        running_train_loss += loss.item()\n",
    "\n",
    "    train_loss = running_train_loss / len(train_loader)\n",
    "    train_losses.append(train_loss)\n",
    "\n",
    "    _, predicted = torch.max(outputs.data, 1)\n",
    "\n",
    "    acc = accuracy_score(labels.cpu().detach().numpy(), predicted.cpu().detach().numpy())\n",
    "    train_acc.append(acc)\n",
    "\n",
    "    print(f\"Época {epoch + 1}/{num_epoch} - Perda no treinamento: {train_loss:.6f} - Acurácia: {acc:.4f}\")\n",
    "\n",
    "training_time = time.time() - training_start_time\n",
    "print(f\"\\nTempo total de treinamento: {training_time:.2f} segundos\")"
   ]
  },
  {
   "cell_type": "code",
   "execution_count": 14,
   "id": "6e0bfba8",
   "metadata": {},
   "outputs": [
    {
     "data": {
      "text/plain": [
       "Text(0.5, 0.98, 'Treinamento')"
      ]
     },
     "execution_count": 14,
     "metadata": {},
     "output_type": "execute_result"
    },
    {
     "data": {
      "image/png": "[encoded data removed]",
      "text/plain": [
       "<Figure size 1200x500 with 2 Axes>"
      ]
     },
     "metadata": {},
     "output_type": "display_data"
    }
   ],
   "source": [
    "epochs = range(1, num_epoch + 1)\n",
    "\n",
    "plt.figure(figsize=(12, 5))\n",
    "\n",
    "plt.subplot(1, 2, 1)\n",
    "plt.plot(epochs, train_losses, 'bo-')\n",
    "plt.xlabel('Épocas')\n",
    "plt.ylabel('Perda')\n",
    "\n",
    "plt.subplot(1, 2, 2)\n",
    "plt.plot(epochs, train_acc, 'ro-')\n",
    "plt.xlabel('Épocas')\n",
    "plt.ylabel('Acurácia')\n",
    "\n",
    "plt.suptitle(\"Treinamento\", fontsize = 20)"
   ]
  },
  {
   "cell_type": "code",
   "execution_count": 15,
   "id": "b69784a6",
   "metadata": {},
   "outputs": [
    {
     "name": "stdout",
     "output_type": "stream",
     "text": [
      "!!!Teste finalizado!!!\n"
     ]
    }
   ],
   "source": [
    "rot_array = []\n",
    "predt_array = []\n",
    "\n",
    "model.eval()\n",
    "    \n",
    "with torch.no_grad():\n",
    "        \n",
    "    for images, labels in test_loader:\n",
    "        images = images.to(device)\n",
    "        labels = labels.to(device)\n",
    "        \n",
    "        outputs = model(images)\n",
    "        _, predicted = torch.max(outputs.data, 1)\n",
    "\n",
    "        rot_array.extend(labels.cpu().detach().numpy())\n",
    "        predt_array.extend(predicted.cpu().detach().numpy())\n",
    "\n",
    "print(\"!!!Teste finalizado!!!\")"
   ]
  },
  {
   "cell_type": "markdown",
   "id": "7d4e8125",
   "metadata": {},
   "source": [
    "# <center> Métricas de avaliação </center>"
   ]
  },
  {
   "cell_type": "code",
   "execution_count": 16,
   "id": "3db4b94b",
   "metadata": {},
   "outputs": [
    {
     "data": {
      "image/png": "[encoded data removed]",
      "text/plain": [
       "<Figure size 640x480 with 2 Axes>"
      ]
     },
     "metadata": {},
     "output_type": "display_data"
    }
   ],
   "source": [
    "cm = confusion_matrix(rot_array, predt_array)\n",
    "\n",
    "disp = ConfusionMatrixDisplay(confusion_matrix=cm, display_labels=['Normal', 'Pneumonia', 'Tuberculose'])\n",
    "disp.plot(cmap=plt.cm.Blues)\n",
    "\n",
    "plt.xlabel('Rótulo previsto')\n",
    "plt.ylabel('Rótulo verdadeiro')\n",
    "plt.show()"
   ]
  },
  {
   "cell_type": "code",
   "execution_count": 17,
   "id": "5cc4b82f",
   "metadata": {},
   "outputs": [
    {
     "name": "stdout",
     "output_type": "stream",
     "text": [
      "Acurácia: 97.44%\n"
     ]
    }
   ],
   "source": [
    "acc = accuracy_score(rot_array, predt_array)\n",
    "print(f\"Acurácia: {acc * 100 :.2f}%\")"
   ]
  },
  {
   "cell_type": "code",
   "execution_count": 18,
   "id": "b6110c3c",
   "metadata": {},
   "outputs": [
    {
     "name": "stdout",
     "output_type": "stream",
     "text": [
      "Precisão: 97.44%\n"
     ]
    }
   ],
   "source": [
    "precision = precision_score(rot_array, predt_array, average='weighted')\n",
    "print(f\"Precisão: {precision * 100 :.2f}%\")"
   ]
  },
  {
   "cell_type": "code",
   "execution_count": 19,
   "id": "a1b52987",
   "metadata": {},
   "outputs": [
    {
     "name": "stdout",
     "output_type": "stream",
     "text": [
      "Recall: 97.44%\n"
     ]
    }
   ],
   "source": [
    "recall = recall_score(rot_array, predt_array, average='weighted')\n",
    "print(f\"Recall: {recall * 100 :.2f}%\")"
   ]
  },
  {
   "cell_type": "code",
   "execution_count": 20,
   "id": "8fdb017e",
   "metadata": {},
   "outputs": [
    {
     "name": "stdout",
     "output_type": "stream",
     "text": [
      "F1 Score: 97.44%\n"
     ]
    }
   ],
   "source": [
    "f1 = f1_score(rot_array, predt_array, average='weighted')\n",
    "print(f\"F1 Score: {f1 * 100 :.2f}%\")"
   ]
  }
 ],
 "metadata": {
  "kernelspec": {
   "display_name": "Python 3 (ipykernel)",
   "language": "python",
   "name": "python3"
  },
  "language_info": {
   "codemirror_mode": {
    "name": "ipython",
    "version": 3
   },
   "file_extension": ".py",
   "mimetype": "text/x-python",
   "name": "python",
   "nbconvert_exporter": "python",
   "pygments_lexer": "ipython3",
   "version": "3.12.8"
  }
 },
 "nbformat": 4,
 "nbformat_minor": 5
}
