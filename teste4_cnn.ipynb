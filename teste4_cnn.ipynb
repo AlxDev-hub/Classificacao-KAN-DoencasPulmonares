{
 "cells": [
  {
   "cell_type": "code",
   "execution_count": 1,
   "id": "a77bd366-35d9-4e91-82ee-e8e0396d3e85",
   "metadata": {},
   "outputs": [],
   "source": [
    "import time\n",
    "import numpy as np\n",
    "import matplotlib.pyplot as plt\n",
    "\n",
    "import torch\n",
    "import torch.nn as nn\n",
    "import torch.optim as optim\n",
    "from torchvision import datasets, transforms\n",
    "from torch.utils.data import DataLoader, random_split\n",
    "\n",
    "from sklearn.metrics import *"
   ]
  },
  {
   "cell_type": "markdown",
   "id": "f999a09d-3bcc-4162-9d21-919ce24d6421",
   "metadata": {},
   "source": [
    "# <center>Pré-processamento dos dados</center>"
   ]
  },
  {
   "cell_type": "code",
   "execution_count": 2,
   "id": "eb38a3f1",
   "metadata": {},
   "outputs": [],
   "source": [
    "dataset_path = 'Dataset_Completo'"
   ]
  },
  {
   "cell_type": "code",
   "execution_count": 3,
   "id": "c4a49511",
   "metadata": {},
   "outputs": [],
   "source": [
    "transform = transforms.Compose(\n",
    "    [transforms.Resize(size = (224,224)),\n",
    "     transforms.ToTensor(),\n",
    "     transforms.Normalize(mean=[0.5], std=[0.5])\n",
    "    ]\n",
    ")"
   ]
  },
  {
   "cell_type": "code",
   "execution_count": 4,
   "id": "f0bb0680",
   "metadata": {},
   "outputs": [],
   "source": [
    "dataset = datasets.ImageFolder(dataset_path, transform = transform)"
   ]
  },
  {
   "cell_type": "code",
   "execution_count": 5,
   "id": "58308826",
   "metadata": {},
   "outputs": [
    {
     "name": "stdout",
     "output_type": "stream",
     "text": [
      "Informações sobre o Dataset: \n",
      "\n",
      " Dataset ImageFolder\n",
      "    Number of datapoints: 13411\n",
      "    Root location: Dataset_Completo\n",
      "    StandardTransform\n",
      "Transform: Compose(\n",
      "               Resize(size=(224, 224), interpolation=bilinear, max_size=None, antialias=True)\n",
      "               ToTensor()\n",
      "               Normalize(mean=[0.5], std=[0.5])\n",
      "           )\n",
      "\n",
      "Rótulos:  {'NORMAL': 0, 'PNEUMONIA': 1, 'TUBERCULOSE': 2}\n"
     ]
    }
   ],
   "source": [
    "print(\"Informações sobre o Dataset: \\n\\n\", dataset)\n",
    "print(\"\\nRótulos: \", dataset.class_to_idx)"
   ]
  },
  {
   "cell_type": "code",
   "execution_count": 6,
   "id": "343179bc",
   "metadata": {},
   "outputs": [],
   "source": [
    "train_size = int(0.7 * len(dataset))\n",
    "test_size = len(dataset) - train_size\n",
    "\n",
    "train_dataset, test_dataset = random_split(dataset, [train_size, test_size])"
   ]
  },
  {
   "cell_type": "code",
   "execution_count": 8,
   "id": "1dd381ef",
   "metadata": {},
   "outputs": [],
   "source": [
    "train_loader = DataLoader(train_dataset, batch_size=32, shuffle=True)\n",
    "test_loader = DataLoader(test_dataset, batch_size=32, shuffle=False)"
   ]
  },
  {
   "cell_type": "markdown",
   "id": "7bf3038a-8d82-45ab-94a3-f11406160a86",
   "metadata": {},
   "source": [
    "# <center>Implementação da arquitetura CNN</center>"
   ]
  },
  {
   "cell_type": "code",
   "execution_count": 9,
   "id": "5118d0d6-aaf5-4cbe-88a2-399d77684108",
   "metadata": {},
   "outputs": [
    {
     "name": "stdout",
     "output_type": "stream",
     "text": [
      "Dispositivo utilizado: cuda\n"
     ]
    }
   ],
   "source": [
    "model = nn.Sequential(\n",
    "    nn.Conv2d(3, 32, kernel_size=3, stride=1, padding=1),\n",
    "    nn.BatchNorm2d(32),\n",
    "    nn.ReLU(),\n",
    "    nn.MaxPool2d(kernel_size=2, stride=2, padding=0),\n",
    "    \n",
    "    nn.Conv2d(32, 64, kernel_size=3, stride=1, padding=1),\n",
    "    nn.BatchNorm2d(64),\n",
    "    nn.ReLU(),\n",
    "    nn.MaxPool2d(kernel_size=2, stride=2, padding=0),\n",
    "    \n",
    "    nn.Conv2d(64, 128, kernel_size=3, stride=1, padding=1),\n",
    "    nn.BatchNorm2d(128),\n",
    "    nn.ReLU(),\n",
    "    nn.MaxPool2d(kernel_size=2, stride=2, padding=0),\n",
    "    \n",
    "    nn.Flatten(),\n",
    "    \n",
    "    nn.Linear(128 * 28 * 28, 256),\n",
    "    nn.Dropout(p=0.3),\n",
    "    nn.ReLU(),\n",
    "\n",
    "    nn.Linear(256, 128),\n",
    "    nn.Dropout(p=0.3),\n",
    "    nn.ReLU(),\n",
    "    \n",
    "    nn.Linear(128, 64),\n",
    "    nn.Dropout(p=0.3),\n",
    "    nn.ReLU(),\n",
    "    \n",
    "    nn.Linear(64, 3)\n",
    ")\n",
    "\n",
    "device = torch.device(\"cuda\" if torch.cuda.is_available() else \"cpu\")\n",
    "print(f\"Dispositivo utilizado: {device}\")"
   ]
  },
  {
   "cell_type": "code",
   "execution_count": 10,
   "id": "4c273480-2d7c-4e82-93b5-cc5b02de3e82",
   "metadata": {},
   "outputs": [
    {
     "data": {
      "text/plain": [
       "Sequential(\n",
       "  (0): Conv2d(3, 32, kernel_size=(3, 3), stride=(1, 1), padding=(1, 1))\n",
       "  (1): BatchNorm2d(32, eps=1e-05, momentum=0.1, affine=True, track_running_stats=True)\n",
       "  (2): ReLU()\n",
       "  (3): MaxPool2d(kernel_size=2, stride=2, padding=0, dilation=1, ceil_mode=False)\n",
       "  (4): Conv2d(32, 64, kernel_size=(3, 3), stride=(1, 1), padding=(1, 1))\n",
       "  (5): BatchNorm2d(64, eps=1e-05, momentum=0.1, affine=True, track_running_stats=True)\n",
       "  (6): ReLU()\n",
       "  (7): MaxPool2d(kernel_size=2, stride=2, padding=0, dilation=1, ceil_mode=False)\n",
       "  (8): Conv2d(64, 128, kernel_size=(3, 3), stride=(1, 1), padding=(1, 1))\n",
       "  (9): BatchNorm2d(128, eps=1e-05, momentum=0.1, affine=True, track_running_stats=True)\n",
       "  (10): ReLU()\n",
       "  (11): MaxPool2d(kernel_size=2, stride=2, padding=0, dilation=1, ceil_mode=False)\n",
       "  (12): Flatten(start_dim=1, end_dim=-1)\n",
       "  (13): Linear(in_features=100352, out_features=256, bias=True)\n",
       "  (14): Dropout(p=0.3, inplace=False)\n",
       "  (15): ReLU()\n",
       "  (16): Linear(in_features=256, out_features=128, bias=True)\n",
       "  (17): Dropout(p=0.3, inplace=False)\n",
       "  (18): ReLU()\n",
       "  (19): Linear(in_features=128, out_features=64, bias=True)\n",
       "  (20): Dropout(p=0.3, inplace=False)\n",
       "  (21): ReLU()\n",
       "  (22): Linear(in_features=64, out_features=3, bias=True)\n",
       ")"
      ]
     },
     "execution_count": 10,
     "metadata": {},
     "output_type": "execute_result"
    }
   ],
   "source": [
    "model.to(device)"
   ]
  },
  {
   "cell_type": "code",
   "execution_count": 11,
   "id": "7852f30f-76af-4d58-89bb-6fb14936b060",
   "metadata": {},
   "outputs": [],
   "source": [
    "num_epoch = 250\n",
    "learning_rate = 0.001\n",
    "optimizer = optim.Adam(model.parameters(), lr=learning_rate)\n",
    "loss_fn = nn.CrossEntropyLoss()"
   ]
  },
  {
   "cell_type": "code",
   "execution_count": 12,
   "id": "db6fb9fc",
   "metadata": {},
   "outputs": [
    {
     "name": "stdout",
     "output_type": "stream",
     "text": [
      "Época 1/250 - Perda no treinamento: 0.547670 - Acurácia: 0.9091\n",
      "Época 2/250 - Perda no treinamento: 0.248494 - Acurácia: 1.0000\n",
      "Época 3/250 - Perda no treinamento: 0.197591 - Acurácia: 1.0000\n",
      "Época 4/250 - Perda no treinamento: 0.166732 - Acurácia: 1.0000\n",
      "Época 5/250 - Perda no treinamento: 0.135861 - Acurácia: 1.0000\n",
      "Época 6/250 - Perda no treinamento: 0.128232 - Acurácia: 1.0000\n",
      "Época 7/250 - Perda no treinamento: 0.120636 - Acurácia: 1.0000\n",
      "Época 8/250 - Perda no treinamento: 0.108311 - Acurácia: 0.9091\n",
      "Época 9/250 - Perda no treinamento: 0.100772 - Acurácia: 1.0000\n",
      "Época 10/250 - Perda no treinamento: 0.099296 - Acurácia: 1.0000\n",
      "Época 11/250 - Perda no treinamento: 0.082701 - Acurácia: 1.0000\n",
      "Época 12/250 - Perda no treinamento: 0.082527 - Acurácia: 1.0000\n",
      "Época 13/250 - Perda no treinamento: 0.083398 - Acurácia: 1.0000\n",
      "Época 14/250 - Perda no treinamento: 0.068402 - Acurácia: 1.0000\n",
      "Época 15/250 - Perda no treinamento: 0.062819 - Acurácia: 0.9091\n",
      "Época 16/250 - Perda no treinamento: 0.069158 - Acurácia: 1.0000\n",
      "Época 17/250 - Perda no treinamento: 0.061819 - Acurácia: 1.0000\n",
      "Época 18/250 - Perda no treinamento: 0.057558 - Acurácia: 1.0000\n",
      "Época 19/250 - Perda no treinamento: 0.050034 - Acurácia: 1.0000\n",
      "Época 20/250 - Perda no treinamento: 0.051443 - Acurácia: 1.0000\n",
      "Época 21/250 - Perda no treinamento: 0.052842 - Acurácia: 1.0000\n",
      "Época 22/250 - Perda no treinamento: 0.058144 - Acurácia: 1.0000\n",
      "Época 23/250 - Perda no treinamento: 0.041478 - Acurácia: 1.0000\n",
      "Época 24/250 - Perda no treinamento: 0.048865 - Acurácia: 1.0000\n",
      "Época 25/250 - Perda no treinamento: 0.045524 - Acurácia: 1.0000\n",
      "Época 26/250 - Perda no treinamento: 0.046034 - Acurácia: 1.0000\n",
      "Época 27/250 - Perda no treinamento: 0.030884 - Acurácia: 1.0000\n",
      "Época 28/250 - Perda no treinamento: 0.037515 - Acurácia: 1.0000\n",
      "Época 29/250 - Perda no treinamento: 0.045867 - Acurácia: 1.0000\n",
      "Época 30/250 - Perda no treinamento: 0.038823 - Acurácia: 1.0000\n",
      "Época 31/250 - Perda no treinamento: 0.037278 - Acurácia: 1.0000\n",
      "Época 32/250 - Perda no treinamento: 0.028570 - Acurácia: 1.0000\n",
      "Época 33/250 - Perda no treinamento: 0.027114 - Acurácia: 0.9091\n",
      "Época 34/250 - Perda no treinamento: 0.032347 - Acurácia: 1.0000\n",
      "Época 35/250 - Perda no treinamento: 0.034356 - Acurácia: 1.0000\n",
      "Época 36/250 - Perda no treinamento: 0.028384 - Acurácia: 0.9091\n",
      "Época 37/250 - Perda no treinamento: 0.042349 - Acurácia: 1.0000\n",
      "Época 38/250 - Perda no treinamento: 0.031393 - Acurácia: 0.9091\n",
      "Época 39/250 - Perda no treinamento: 0.041160 - Acurácia: 1.0000\n",
      "Época 40/250 - Perda no treinamento: 0.024553 - Acurácia: 1.0000\n",
      "Época 41/250 - Perda no treinamento: 0.030801 - Acurácia: 1.0000\n",
      "Época 42/250 - Perda no treinamento: 0.026982 - Acurácia: 1.0000\n",
      "Época 43/250 - Perda no treinamento: 0.024574 - Acurácia: 1.0000\n",
      "Época 44/250 - Perda no treinamento: 0.028869 - Acurácia: 1.0000\n",
      "Época 45/250 - Perda no treinamento: 0.020415 - Acurácia: 1.0000\n",
      "Época 46/250 - Perda no treinamento: 0.022714 - Acurácia: 0.9091\n",
      "Época 47/250 - Perda no treinamento: 0.022395 - Acurácia: 1.0000\n",
      "Época 48/250 - Perda no treinamento: 0.028537 - Acurácia: 1.0000\n",
      "Época 49/250 - Perda no treinamento: 0.030907 - Acurácia: 1.0000\n",
      "Época 50/250 - Perda no treinamento: 0.025999 - Acurácia: 1.0000\n",
      "Época 51/250 - Perda no treinamento: 0.021359 - Acurácia: 1.0000\n",
      "Época 52/250 - Perda no treinamento: 0.020821 - Acurácia: 1.0000\n",
      "Época 53/250 - Perda no treinamento: 0.016453 - Acurácia: 1.0000\n",
      "Época 54/250 - Perda no treinamento: 0.024566 - Acurácia: 1.0000\n",
      "Época 55/250 - Perda no treinamento: 0.013452 - Acurácia: 1.0000\n",
      "Época 56/250 - Perda no treinamento: 0.016996 - Acurácia: 1.0000\n",
      "Época 57/250 - Perda no treinamento: 0.025490 - Acurácia: 1.0000\n",
      "Época 58/250 - Perda no treinamento: 0.018381 - Acurácia: 1.0000\n",
      "Época 59/250 - Perda no treinamento: 0.026000 - Acurácia: 1.0000\n",
      "Época 60/250 - Perda no treinamento: 0.015848 - Acurácia: 1.0000\n",
      "Época 61/250 - Perda no treinamento: 0.021667 - Acurácia: 1.0000\n",
      "Época 62/250 - Perda no treinamento: 0.015573 - Acurácia: 1.0000\n",
      "Época 63/250 - Perda no treinamento: 0.018744 - Acurácia: 1.0000\n",
      "Época 64/250 - Perda no treinamento: 0.016580 - Acurácia: 1.0000\n",
      "Época 65/250 - Perda no treinamento: 0.017976 - Acurácia: 1.0000\n",
      "Época 66/250 - Perda no treinamento: 0.010304 - Acurácia: 1.0000\n",
      "Época 67/250 - Perda no treinamento: 0.019196 - Acurácia: 1.0000\n",
      "Época 68/250 - Perda no treinamento: 0.022123 - Acurácia: 1.0000\n",
      "Época 69/250 - Perda no treinamento: 0.016142 - Acurácia: 1.0000\n",
      "Época 70/250 - Perda no treinamento: 0.013585 - Acurácia: 1.0000\n",
      "Época 71/250 - Perda no treinamento: 0.010891 - Acurácia: 1.0000\n",
      "Época 72/250 - Perda no treinamento: 0.024990 - Acurácia: 1.0000\n",
      "Época 73/250 - Perda no treinamento: 0.013924 - Acurácia: 1.0000\n",
      "Época 74/250 - Perda no treinamento: 0.010924 - Acurácia: 1.0000\n",
      "Época 75/250 - Perda no treinamento: 0.014723 - Acurácia: 1.0000\n",
      "Época 76/250 - Perda no treinamento: 0.021354 - Acurácia: 1.0000\n",
      "Época 77/250 - Perda no treinamento: 0.016887 - Acurácia: 1.0000\n",
      "Época 78/250 - Perda no treinamento: 0.021974 - Acurácia: 0.9091\n",
      "Época 79/250 - Perda no treinamento: 0.017285 - Acurácia: 1.0000\n",
      "Época 80/250 - Perda no treinamento: 0.010169 - Acurácia: 1.0000\n",
      "Época 81/250 - Perda no treinamento: 0.012732 - Acurácia: 1.0000\n",
      "Época 82/250 - Perda no treinamento: 0.013285 - Acurácia: 1.0000\n",
      "Época 83/250 - Perda no treinamento: 0.009428 - Acurácia: 1.0000\n",
      "Época 84/250 - Perda no treinamento: 0.013169 - Acurácia: 1.0000\n",
      "Época 85/250 - Perda no treinamento: 0.016831 - Acurácia: 1.0000\n",
      "Época 86/250 - Perda no treinamento: 0.016747 - Acurácia: 1.0000\n",
      "Época 87/250 - Perda no treinamento: 0.016706 - Acurácia: 1.0000\n",
      "Época 88/250 - Perda no treinamento: 0.008617 - Acurácia: 1.0000\n",
      "Época 89/250 - Perda no treinamento: 0.009198 - Acurácia: 1.0000\n",
      "Época 90/250 - Perda no treinamento: 0.012678 - Acurácia: 1.0000\n",
      "Época 91/250 - Perda no treinamento: 0.018445 - Acurácia: 1.0000\n",
      "Época 92/250 - Perda no treinamento: 0.013470 - Acurácia: 0.9091\n",
      "Época 93/250 - Perda no treinamento: 0.015671 - Acurácia: 1.0000\n",
      "Época 94/250 - Perda no treinamento: 0.010008 - Acurácia: 1.0000\n",
      "Época 95/250 - Perda no treinamento: 0.017331 - Acurácia: 1.0000\n",
      "Época 96/250 - Perda no treinamento: 0.016552 - Acurácia: 1.0000\n",
      "Época 97/250 - Perda no treinamento: 0.012426 - Acurácia: 1.0000\n",
      "Época 98/250 - Perda no treinamento: 0.013453 - Acurácia: 1.0000\n",
      "Época 99/250 - Perda no treinamento: 0.014369 - Acurácia: 1.0000\n",
      "Época 100/250 - Perda no treinamento: 0.011320 - Acurácia: 0.9091\n",
      "Época 101/250 - Perda no treinamento: 0.008469 - Acurácia: 1.0000\n",
      "Época 102/250 - Perda no treinamento: 0.005629 - Acurácia: 1.0000\n",
      "Época 103/250 - Perda no treinamento: 0.014525 - Acurácia: 1.0000\n",
      "Época 104/250 - Perda no treinamento: 0.014678 - Acurácia: 1.0000\n",
      "Época 105/250 - Perda no treinamento: 0.008898 - Acurácia: 1.0000\n",
      "Época 106/250 - Perda no treinamento: 0.009055 - Acurácia: 1.0000\n",
      "Época 107/250 - Perda no treinamento: 0.011454 - Acurácia: 1.0000\n",
      "Época 108/250 - Perda no treinamento: 0.011461 - Acurácia: 1.0000\n",
      "Época 109/250 - Perda no treinamento: 0.007855 - Acurácia: 1.0000\n",
      "Época 110/250 - Perda no treinamento: 0.008637 - Acurácia: 1.0000\n",
      "Época 111/250 - Perda no treinamento: 0.007331 - Acurácia: 1.0000\n",
      "Época 112/250 - Perda no treinamento: 0.019065 - Acurácia: 1.0000\n",
      "Época 113/250 - Perda no treinamento: 0.015904 - Acurácia: 1.0000\n",
      "Época 114/250 - Perda no treinamento: 0.008552 - Acurácia: 1.0000\n",
      "Época 115/250 - Perda no treinamento: 0.010331 - Acurácia: 1.0000\n",
      "Época 116/250 - Perda no treinamento: 0.012648 - Acurácia: 1.0000\n",
      "Época 117/250 - Perda no treinamento: 0.011792 - Acurácia: 1.0000\n",
      "Época 118/250 - Perda no treinamento: 0.012647 - Acurácia: 1.0000\n",
      "Época 119/250 - Perda no treinamento: 0.010380 - Acurácia: 1.0000\n",
      "Época 120/250 - Perda no treinamento: 0.012651 - Acurácia: 1.0000\n",
      "Época 121/250 - Perda no treinamento: 0.014332 - Acurácia: 0.9091\n",
      "Época 122/250 - Perda no treinamento: 0.006879 - Acurácia: 1.0000\n",
      "Época 123/250 - Perda no treinamento: 0.008296 - Acurácia: 1.0000\n",
      "Época 124/250 - Perda no treinamento: 0.006088 - Acurácia: 1.0000\n",
      "Época 125/250 - Perda no treinamento: 0.010915 - Acurácia: 1.0000\n",
      "Época 126/250 - Perda no treinamento: 0.006549 - Acurácia: 1.0000\n",
      "Época 127/250 - Perda no treinamento: 0.006892 - Acurácia: 1.0000\n",
      "Época 128/250 - Perda no treinamento: 0.013086 - Acurácia: 1.0000\n",
      "Época 129/250 - Perda no treinamento: 0.020916 - Acurácia: 1.0000\n",
      "Época 130/250 - Perda no treinamento: 0.009434 - Acurácia: 1.0000\n",
      "Época 131/250 - Perda no treinamento: 0.004655 - Acurácia: 1.0000\n",
      "Época 132/250 - Perda no treinamento: 0.005439 - Acurácia: 1.0000\n",
      "Época 133/250 - Perda no treinamento: 0.008058 - Acurácia: 1.0000\n",
      "Época 134/250 - Perda no treinamento: 0.010388 - Acurácia: 1.0000\n",
      "Época 135/250 - Perda no treinamento: 0.016544 - Acurácia: 1.0000\n",
      "Época 136/250 - Perda no treinamento: 0.007117 - Acurácia: 1.0000\n",
      "Época 137/250 - Perda no treinamento: 0.004236 - Acurácia: 1.0000\n",
      "Época 138/250 - Perda no treinamento: 0.010356 - Acurácia: 1.0000\n",
      "Época 139/250 - Perda no treinamento: 0.006553 - Acurácia: 1.0000\n",
      "Época 140/250 - Perda no treinamento: 0.009015 - Acurácia: 1.0000\n",
      "Época 141/250 - Perda no treinamento: 0.016528 - Acurácia: 1.0000\n",
      "Época 142/250 - Perda no treinamento: 0.015329 - Acurácia: 1.0000\n",
      "Época 143/250 - Perda no treinamento: 0.009830 - Acurácia: 1.0000\n",
      "Época 144/250 - Perda no treinamento: 0.006903 - Acurácia: 1.0000\n",
      "Época 145/250 - Perda no treinamento: 0.008259 - Acurácia: 1.0000\n",
      "Época 146/250 - Perda no treinamento: 0.008815 - Acurácia: 1.0000\n",
      "Época 147/250 - Perda no treinamento: 0.009320 - Acurácia: 1.0000\n",
      "Época 148/250 - Perda no treinamento: 0.003652 - Acurácia: 1.0000\n",
      "Época 149/250 - Perda no treinamento: 0.011961 - Acurácia: 1.0000\n",
      "Época 150/250 - Perda no treinamento: 0.007776 - Acurácia: 1.0000\n",
      "Época 151/250 - Perda no treinamento: 0.012103 - Acurácia: 1.0000\n",
      "Época 152/250 - Perda no treinamento: 0.008939 - Acurácia: 1.0000\n",
      "Época 153/250 - Perda no treinamento: 0.009147 - Acurácia: 1.0000\n",
      "Época 154/250 - Perda no treinamento: 0.006863 - Acurácia: 1.0000\n",
      "Época 155/250 - Perda no treinamento: 0.005594 - Acurácia: 1.0000\n",
      "Época 156/250 - Perda no treinamento: 0.009850 - Acurácia: 1.0000\n",
      "Época 157/250 - Perda no treinamento: 0.004454 - Acurácia: 0.9091\n",
      "Época 158/250 - Perda no treinamento: 0.005868 - Acurácia: 1.0000\n",
      "Época 159/250 - Perda no treinamento: 0.008892 - Acurácia: 1.0000\n",
      "Época 160/250 - Perda no treinamento: 0.014766 - Acurácia: 1.0000\n",
      "Época 161/250 - Perda no treinamento: 0.017087 - Acurácia: 1.0000\n",
      "Época 162/250 - Perda no treinamento: 0.007789 - Acurácia: 1.0000\n",
      "Época 163/250 - Perda no treinamento: 0.006208 - Acurácia: 1.0000\n",
      "Época 164/250 - Perda no treinamento: 0.008826 - Acurácia: 1.0000\n",
      "Época 165/250 - Perda no treinamento: 0.004589 - Acurácia: 1.0000\n",
      "Época 166/250 - Perda no treinamento: 0.016757 - Acurácia: 1.0000\n",
      "Época 167/250 - Perda no treinamento: 0.012376 - Acurácia: 1.0000\n",
      "Época 168/250 - Perda no treinamento: 0.008479 - Acurácia: 1.0000\n",
      "Época 169/250 - Perda no treinamento: 0.012185 - Acurácia: 1.0000\n",
      "Época 170/250 - Perda no treinamento: 0.003100 - Acurácia: 1.0000\n",
      "Época 171/250 - Perda no treinamento: 0.002776 - Acurácia: 1.0000\n",
      "Época 172/250 - Perda no treinamento: 0.007652 - Acurácia: 1.0000\n",
      "Época 173/250 - Perda no treinamento: 0.007836 - Acurácia: 1.0000\n",
      "Época 174/250 - Perda no treinamento: 0.008418 - Acurácia: 1.0000\n",
      "Época 175/250 - Perda no treinamento: 0.008970 - Acurácia: 1.0000\n",
      "Época 176/250 - Perda no treinamento: 0.004222 - Acurácia: 1.0000\n",
      "Época 177/250 - Perda no treinamento: 0.014247 - Acurácia: 1.0000\n",
      "Época 178/250 - Perda no treinamento: 0.009829 - Acurácia: 1.0000\n",
      "Época 179/250 - Perda no treinamento: 0.006657 - Acurácia: 1.0000\n",
      "Época 180/250 - Perda no treinamento: 0.008044 - Acurácia: 1.0000\n",
      "Época 181/250 - Perda no treinamento: 0.006920 - Acurácia: 1.0000\n",
      "Época 182/250 - Perda no treinamento: 0.010820 - Acurácia: 1.0000\n",
      "Época 183/250 - Perda no treinamento: 0.006015 - Acurácia: 1.0000\n",
      "Época 184/250 - Perda no treinamento: 0.012031 - Acurácia: 1.0000\n",
      "Época 185/250 - Perda no treinamento: 0.005596 - Acurácia: 1.0000\n",
      "Época 186/250 - Perda no treinamento: 0.008320 - Acurácia: 1.0000\n",
      "Época 187/250 - Perda no treinamento: 0.005172 - Acurácia: 1.0000\n",
      "Época 188/250 - Perda no treinamento: 0.002540 - Acurácia: 1.0000\n",
      "Época 189/250 - Perda no treinamento: 0.006657 - Acurácia: 1.0000\n",
      "Época 190/250 - Perda no treinamento: 0.013451 - Acurácia: 1.0000\n",
      "Época 191/250 - Perda no treinamento: 0.007722 - Acurácia: 1.0000\n",
      "Época 192/250 - Perda no treinamento: 0.005927 - Acurácia: 0.9091\n",
      "Época 193/250 - Perda no treinamento: 0.010650 - Acurácia: 1.0000\n",
      "Época 194/250 - Perda no treinamento: 0.004727 - Acurácia: 1.0000\n",
      "Época 195/250 - Perda no treinamento: 0.006850 - Acurácia: 1.0000\n",
      "Época 196/250 - Perda no treinamento: 0.004346 - Acurácia: 1.0000\n",
      "Época 197/250 - Perda no treinamento: 0.004979 - Acurácia: 1.0000\n",
      "Época 198/250 - Perda no treinamento: 0.017012 - Acurácia: 1.0000\n",
      "Época 199/250 - Perda no treinamento: 0.021379 - Acurácia: 1.0000\n",
      "Época 200/250 - Perda no treinamento: 0.007683 - Acurácia: 1.0000\n",
      "Época 201/250 - Perda no treinamento: 0.005658 - Acurácia: 1.0000\n",
      "Época 202/250 - Perda no treinamento: 0.009061 - Acurácia: 1.0000\n",
      "Época 203/250 - Perda no treinamento: 0.009530 - Acurácia: 1.0000\n",
      "Época 204/250 - Perda no treinamento: 0.003449 - Acurácia: 1.0000\n",
      "Época 205/250 - Perda no treinamento: 0.009761 - Acurácia: 1.0000\n",
      "Época 206/250 - Perda no treinamento: 0.003651 - Acurácia: 1.0000\n",
      "Época 207/250 - Perda no treinamento: 0.008611 - Acurácia: 1.0000\n",
      "Época 208/250 - Perda no treinamento: 0.009458 - Acurácia: 1.0000\n",
      "Época 209/250 - Perda no treinamento: 0.004494 - Acurácia: 1.0000\n",
      "Época 210/250 - Perda no treinamento: 0.003513 - Acurácia: 1.0000\n",
      "Época 211/250 - Perda no treinamento: 0.005047 - Acurácia: 1.0000\n",
      "Época 212/250 - Perda no treinamento: 0.007451 - Acurácia: 1.0000\n",
      "Época 213/250 - Perda no treinamento: 0.007498 - Acurácia: 1.0000\n",
      "Época 214/250 - Perda no treinamento: 0.002730 - Acurácia: 1.0000\n",
      "Época 215/250 - Perda no treinamento: 0.005485 - Acurácia: 1.0000\n",
      "Época 216/250 - Perda no treinamento: 0.009655 - Acurácia: 1.0000\n",
      "Época 217/250 - Perda no treinamento: 0.004276 - Acurácia: 1.0000\n",
      "Época 218/250 - Perda no treinamento: 0.003305 - Acurácia: 1.0000\n",
      "Época 219/250 - Perda no treinamento: 0.003978 - Acurácia: 1.0000\n",
      "Época 220/250 - Perda no treinamento: 0.018907 - Acurácia: 1.0000\n",
      "Época 221/250 - Perda no treinamento: 0.006804 - Acurácia: 0.9091\n",
      "Época 222/250 - Perda no treinamento: 0.004181 - Acurácia: 1.0000\n",
      "Época 223/250 - Perda no treinamento: 0.004522 - Acurácia: 1.0000\n",
      "Época 224/250 - Perda no treinamento: 0.002219 - Acurácia: 1.0000\n",
      "Época 225/250 - Perda no treinamento: 0.002533 - Acurácia: 1.0000\n",
      "Época 226/250 - Perda no treinamento: 0.008403 - Acurácia: 1.0000\n",
      "Época 227/250 - Perda no treinamento: 0.004736 - Acurácia: 1.0000\n",
      "Época 228/250 - Perda no treinamento: 0.016049 - Acurácia: 1.0000\n",
      "Época 229/250 - Perda no treinamento: 0.011359 - Acurácia: 1.0000\n",
      "Época 230/250 - Perda no treinamento: 0.011087 - Acurácia: 0.9091\n",
      "Época 231/250 - Perda no treinamento: 0.006425 - Acurácia: 0.9091\n",
      "Época 232/250 - Perda no treinamento: 0.008117 - Acurácia: 1.0000\n",
      "Época 233/250 - Perda no treinamento: 0.009964 - Acurácia: 1.0000\n",
      "Época 234/250 - Perda no treinamento: 0.011460 - Acurácia: 1.0000\n",
      "Época 235/250 - Perda no treinamento: 0.009217 - Acurácia: 1.0000\n",
      "Época 236/250 - Perda no treinamento: 0.008273 - Acurácia: 1.0000\n",
      "Época 237/250 - Perda no treinamento: 0.003003 - Acurácia: 1.0000\n",
      "Época 238/250 - Perda no treinamento: 0.004895 - Acurácia: 1.0000\n",
      "Época 239/250 - Perda no treinamento: 0.006773 - Acurácia: 1.0000\n",
      "Época 240/250 - Perda no treinamento: 0.008851 - Acurácia: 1.0000\n",
      "Época 241/250 - Perda no treinamento: 0.007955 - Acurácia: 1.0000\n",
      "Época 242/250 - Perda no treinamento: 0.004278 - Acurácia: 1.0000\n",
      "Época 243/250 - Perda no treinamento: 0.004551 - Acurácia: 1.0000\n",
      "Época 244/250 - Perda no treinamento: 0.012386 - Acurácia: 1.0000\n",
      "Época 245/250 - Perda no treinamento: 0.018964 - Acurácia: 1.0000\n",
      "Época 246/250 - Perda no treinamento: 0.012408 - Acurácia: 1.0000\n",
      "Época 247/250 - Perda no treinamento: 0.011437 - Acurácia: 1.0000\n",
      "Época 248/250 - Perda no treinamento: 0.004846 - Acurácia: 1.0000\n",
      "Época 249/250 - Perda no treinamento: 0.004179 - Acurácia: 1.0000\n",
      "Época 250/250 - Perda no treinamento: 0.011334 - Acurácia: 1.0000\n",
      "\n",
      "Tempo total de treinamento: 37014.85 segundos\n"
     ]
    }
   ],
   "source": [
    "train_losses = []\n",
    "train_acc = []\n",
    "\n",
    "training_start_time = time.time()\n",
    "\n",
    "for epoch in range(num_epoch):\n",
    "    model.train()\n",
    "    running_train_loss = 0.0\n",
    "\n",
    "    for inputs, labels in train_loader:\n",
    "        inputs = inputs.to(device)\n",
    "        labels = labels.to(device)\n",
    "    \n",
    "        optimizer.zero_grad()\n",
    "        outputs = model(inputs)\n",
    "\n",
    "        loss = loss_fn(outputs, labels)\n",
    "        loss.backward()\n",
    "        optimizer.step()\n",
    "        running_train_loss += loss.item()\n",
    "\n",
    "    train_loss = running_train_loss / len(train_loader)\n",
    "    train_losses.append(train_loss)\n",
    "\n",
    "    _, predicted = torch.max(outputs.data, 1)\n",
    "\n",
    "    acc = accuracy_score(labels.cpu().detach().numpy(), predicted.cpu().detach().numpy())\n",
    "    train_acc.append(acc)\n",
    "\n",
    "    print(f\"Época {epoch + 1}/{num_epoch} - Perda no treinamento: {train_loss:.6f} - Acurácia: {acc:.4f}\")\n",
    "\n",
    "training_time = time.time() - training_start_time\n",
    "print(f\"\\nTempo total de treinamento: {training_time:.2f} segundos\")"
   ]
  },
  {
   "cell_type": "code",
   "execution_count": 13,
   "id": "6e0bfba8",
   "metadata": {},
   "outputs": [
    {
     "data": {
      "text/plain": [
       "Text(0.5, 0.98, 'Treinamento')"
      ]
     },
     "execution_count": 13,
     "metadata": {},
     "output_type": "execute_result"
    },
    {
     "data": {
      "image/png": "[encoded data removed]",
      "text/plain": [
       "<Figure size 1200x500 with 2 Axes>"
      ]
     },
     "metadata": {},
     "output_type": "display_data"
    }
   ],
   "source": [
    "epochs = range(1, num_epoch + 1)\n",
    "\n",
    "plt.figure(figsize=(12, 5))\n",
    "\n",
    "plt.subplot(1, 2, 1)\n",
    "plt.plot(epochs, train_losses, 'bo-')\n",
    "plt.xlabel('Épocas')\n",
    "plt.ylabel('Perda')\n",
    "\n",
    "plt.subplot(1, 2, 2)\n",
    "plt.plot(epochs, train_acc, 'ro-')\n",
    "plt.xlabel('Épocas')\n",
    "plt.ylabel('Acurácia')\n",
    "\n",
    "plt.suptitle(\"Treinamento\", fontsize = 20)"
   ]
  },
  {
   "cell_type": "code",
   "execution_count": 14,
   "id": "b69784a6",
   "metadata": {},
   "outputs": [
    {
     "name": "stdout",
     "output_type": "stream",
     "text": [
      "!!!Teste finalizado!!!\n"
     ]
    }
   ],
   "source": [
    "rot_array = []\n",
    "predt_array = []\n",
    "\n",
    "model.eval()\n",
    "    \n",
    "with torch.no_grad():\n",
    "        \n",
    "    for images, labels in test_loader:\n",
    "        images = images.to(device)\n",
    "        labels = labels.to(device)\n",
    "        \n",
    "        outputs = model(images)\n",
    "        _, predicted = torch.max(outputs.data, 1)\n",
    "\n",
    "        rot_array.extend(labels.cpu().detach().numpy())\n",
    "        predt_array.extend(predicted.cpu().detach().numpy())\n",
    "\n",
    "print(\"!!!Teste finalizado!!!\")"
   ]
  },
  {
   "cell_type": "markdown",
   "id": "7d4e8125",
   "metadata": {},
   "source": [
    "# <center> Métricas de avaliação </center>"
   ]
  },
  {
   "cell_type": "code",
   "execution_count": 15,
   "id": "3db4b94b",
   "metadata": {},
   "outputs": [
    {
     "data": {
      "image/png": "[encoded data removed]",
      "text/plain": [
       "<Figure size 640x480 with 2 Axes>"
      ]
     },
     "metadata": {},
     "output_type": "display_data"
    }
   ],
   "source": [
    "cm = confusion_matrix(rot_array, predt_array)\n",
    "\n",
    "disp = ConfusionMatrixDisplay(confusion_matrix=cm, display_labels=['Normal', 'Pneumonia', 'Tuberculose'])\n",
    "disp.plot(cmap=plt.cm.Blues)\n",
    "\n",
    "plt.xlabel('Rótulo previsto')\n",
    "plt.ylabel('Rótulo verdadeiro')\n",
    "plt.show()"
   ]
  },
  {
   "cell_type": "code",
   "execution_count": 16,
   "id": "5cc4b82f",
   "metadata": {},
   "outputs": [
    {
     "name": "stdout",
     "output_type": "stream",
     "text": [
      "Acurácia: 97.54%\n"
     ]
    }
   ],
   "source": [
    "acc = accuracy_score(rot_array, predt_array)\n",
    "print(f\"Acurácia: {acc * 100 :.2f}%\")"
   ]
  },
  {
   "cell_type": "code",
   "execution_count": 17,
   "id": "b6110c3c",
   "metadata": {},
   "outputs": [
    {
     "name": "stdout",
     "output_type": "stream",
     "text": [
      "Precisão: 97.55%\n"
     ]
    }
   ],
   "source": [
    "precision = precision_score(rot_array, predt_array, average='weighted')\n",
    "print(f\"Precisão: {precision * 100 :.2f}%\")"
   ]
  },
  {
   "cell_type": "code",
   "execution_count": 18,
   "id": "a1b52987",
   "metadata": {},
   "outputs": [
    {
     "name": "stdout",
     "output_type": "stream",
     "text": [
      "Recall: 97.54%\n"
     ]
    }
   ],
   "source": [
    "recall = recall_score(rot_array, predt_array, average='weighted')\n",
    "print(f\"Recall: {recall * 100 :.2f}%\")"
   ]
  },
  {
   "cell_type": "code",
   "execution_count": 19,
   "id": "8fdb017e",
   "metadata": {},
   "outputs": [
    {
     "name": "stdout",
     "output_type": "stream",
     "text": [
      "F1 Score: 97.54%\n"
     ]
    }
   ],
   "source": [
    "f1 = f1_score(rot_array, predt_array, average='weighted')\n",
    "print(f\"F1 Score: {f1 * 100 :.2f}%\")"
   ]
  }
 ],
 "metadata": {
  "kernelspec": {
   "display_name": "Python 3",
   "language": "python",
   "name": "python3"
  },
  "language_info": {
   "codemirror_mode": {
    "name": "ipython",
    "version": 3
   },
   "file_extension": ".py",
   "mimetype": "text/x-python",
   "name": "python",
   "nbconvert_exporter": "python",
   "pygments_lexer": "ipython3",
   "version": "3.12.8"
  }
 },
 "nbformat": 4,
 "nbformat_minor": 5
}
