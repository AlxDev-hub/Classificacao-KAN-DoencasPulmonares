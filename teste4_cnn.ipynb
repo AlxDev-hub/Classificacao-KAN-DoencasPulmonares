{
 "cells": [
  {
   "cell_type": "code",
   "execution_count": 1,
   "id": "a77bd366-35d9-4e91-82ee-e8e0396d3e85",
   "metadata": {},
   "outputs": [],
   "source": [
    "import time\n",
    "import numpy as np\n",
    "import matplotlib.pyplot as plt\n",
    "\n",
    "import torch\n",
    "import torch.nn as nn\n",
    "import torch.optim as optim\n",
    "from torchvision import datasets, transforms\n",
    "from torch.utils.data import DataLoader, random_split\n",
    "\n",
    "from sklearn.metrics import *"
   ]
  },
  {
   "cell_type": "markdown",
   "id": "f999a09d-3bcc-4162-9d21-919ce24d6421",
   "metadata": {},
   "source": [
    "# <center>Pré-processamento dos dados</center>"
   ]
  },
  {
   "cell_type": "code",
   "execution_count": 2,
   "id": "eb38a3f1",
   "metadata": {},
   "outputs": [],
   "source": [
    "dataset_path = 'Dataset_Completo'"
   ]
  },
  {
   "cell_type": "code",
   "execution_count": 3,
   "id": "c4a49511",
   "metadata": {},
   "outputs": [],
   "source": [
    "transform_dataset = transforms.Compose(\n",
    "    [transforms.Resize(size = (224,224)),\n",
    "     transforms.RandomRotation(degrees=10),\n",
    "     transforms.RandomAffine(degrees=0, translate=(0.1, 0.1), scale=(0.9, 1.1), shear=10),\n",
    "     transforms.ColorJitter(brightness=0.2, contrast=0.2, saturation=0.1, hue=0.1),\n",
    "     transforms.ToTensor(),\n",
    "     transforms.Lambda(lambda x: torch.clamp(x + torch.randn_like(x) * 0.05, 0., 1.)),\n",
    "     transforms.Normalize(mean=[0.5], std=[0.5])\n",
    "    ]\n",
    ")"
   ]
  },
  {
   "cell_type": "code",
   "execution_count": 4,
   "id": "f0bb0680",
   "metadata": {},
   "outputs": [],
   "source": [
    "dataset = datasets.ImageFolder(dataset_path, transform = transform_dataset)"
   ]
  },
  {
   "cell_type": "code",
   "execution_count": 5,
   "id": "58308826",
   "metadata": {},
   "outputs": [
    {
     "name": "stdout",
     "output_type": "stream",
     "text": [
      "Informações sobre o Dataset: \n",
      "\n",
      " Dataset ImageFolder\n",
      "    Number of datapoints: 13411\n",
      "    Root location: Dataset_Completo\n",
      "    StandardTransform\n",
      "Transform: Compose(\n",
      "               Resize(size=(224, 224), interpolation=bilinear, max_size=None, antialias=True)\n",
      "               RandomRotation(degrees=[-10.0, 10.0], interpolation=nearest, expand=False, fill=0)\n",
      "               RandomAffine(degrees=[0.0, 0.0], translate=(0.1, 0.1), scale=(0.9, 1.1), shear=[-10.0, 10.0])\n",
      "               ColorJitter(brightness=(0.8, 1.2), contrast=(0.8, 1.2), saturation=(0.9, 1.1), hue=(-0.1, 0.1))\n",
      "               ToTensor()\n",
      "               Lambda()\n",
      "               Normalize(mean=[0.5], std=[0.5])\n",
      "           )\n",
      "\n",
      "Rótulos:  {'NORMAL': 0, 'PNEUMONIA': 1, 'TUBERCULOSE': 2}\n"
     ]
    }
   ],
   "source": [
    "print(\"Informações sobre o Dataset: \\n\\n\", dataset)\n",
    "print(\"\\nRótulos: \", dataset.class_to_idx)"
   ]
  },
  {
   "cell_type": "code",
   "execution_count": 6,
   "id": "343179bc",
   "metadata": {},
   "outputs": [],
   "source": [
    "train_size = int(0.7 * len(dataset))\n",
    "test_size = len(dataset) - train_size\n",
    "\n",
    "train_dataset, test_dataset = random_split(dataset, [train_size, test_size])"
   ]
  },
  {
   "cell_type": "code",
   "execution_count": 7,
   "id": "1dd381ef",
   "metadata": {},
   "outputs": [],
   "source": [
    "train_loader = DataLoader(train_dataset, batch_size=32, shuffle=True)\n",
    "test_loader = DataLoader(test_dataset, batch_size=32, shuffle=False)"
   ]
  },
  {
   "cell_type": "code",
   "execution_count": 8,
   "id": "8cdd29fc-26f4-41b0-bf6d-a4e794c6d329",
   "metadata": {},
   "outputs": [],
   "source": [
    "all_targets = []\n",
    "for images, labels in train_loader:\n",
    "    all_targets.extend(labels.tolist())\n",
    "\n",
    "nor = []\n",
    "pne = []\n",
    "tub = []\n",
    "for i in range(train_size):\n",
    "    if all_targets[i] == 0:\n",
    "        nor.append(all_targets[i])\n",
    "    elif all_targets[i] == 1:\n",
    "        pne.append(all_targets[i])\n",
    "    elif all_targets[i] == 2:\n",
    "        tub.append(all_targets[i])"
   ]
  },
  {
   "cell_type": "code",
   "execution_count": 9,
   "id": "d9ef05d9-1444-4382-965b-9cf1df16abee",
   "metadata": {},
   "outputs": [
    {
     "name": "stdout",
     "output_type": "stream",
     "text": [
      "!!!Distribuição dos dados de treinamento!!!\n",
      "\n",
      "Normal:  3549\n",
      "Pneumonia:  3004\n",
      "Tuberculose:  2834\n"
     ]
    }
   ],
   "source": [
    "print(\"!!!Distribuição dos dados de treinamento!!!\\n\")\n",
    "print(\"Normal: \", len(nor))\n",
    "print(\"Pneumonia: \", len(pne))\n",
    "print(\"Tuberculose: \", len(tub))"
   ]
  },
  {
   "cell_type": "markdown",
   "id": "7bf3038a-8d82-45ab-94a3-f11406160a86",
   "metadata": {},
   "source": [
    "# <center>Implementação da arquitetura CNN</center>"
   ]
  },
  {
   "cell_type": "code",
   "execution_count": 10,
   "id": "5118d0d6-aaf5-4cbe-88a2-399d77684108",
   "metadata": {},
   "outputs": [
    {
     "name": "stdout",
     "output_type": "stream",
     "text": [
      "Dispositivo utilizado: cuda\n"
     ]
    }
   ],
   "source": [
    "model = nn.Sequential(\n",
    "    nn.Conv2d(3, 32, kernel_size=3, stride=1, padding=1),\n",
    "    nn.BatchNorm2d(32),\n",
    "    nn.ReLU(),\n",
    "    \n",
    "    nn.MaxPool2d(kernel_size=2, stride=2, padding=0),\n",
    "    \n",
    "    nn.Conv2d(32, 64, kernel_size=3, stride=1, padding=1),\n",
    "    nn.BatchNorm2d(64),\n",
    "    nn.ReLU(),\n",
    "    \n",
    "    nn.MaxPool2d(kernel_size=2, stride=2, padding=0),\n",
    "    \n",
    "    nn.Conv2d(64, 128, kernel_size=3, stride=1, padding=1),\n",
    "    nn.BatchNorm2d(128),\n",
    "    nn.ReLU(),\n",
    "\n",
    "    nn.MaxPool2d(kernel_size=2, stride=2, padding=0),\n",
    "    \n",
    "    nn.Conv2d(128, 256, kernel_size=3, stride=1, padding=1),\n",
    "    nn.BatchNorm2d(256),\n",
    "    nn.ReLU(),\n",
    "    \n",
    "    nn.Flatten(),\n",
    "\n",
    "    nn.Linear(256 * 28 * 28, 256),\n",
    "    nn.Dropout(p=0.3),\n",
    "    nn.ReLU(),\n",
    "    \n",
    "    nn.Linear(256, 128),\n",
    "    nn.Dropout(p=0.3),\n",
    "    nn.ReLU(),\n",
    "\n",
    "    nn.Linear(128, 64),\n",
    "    nn.Dropout(p=0.3),\n",
    "    nn.ReLU(),\n",
    "    \n",
    "    nn.Linear(64, 32),\n",
    "    nn.Dropout(p=0.3),\n",
    "    nn.ReLU(),\n",
    "    \n",
    "    nn.Linear(32, 3)\n",
    ")\n",
    "\n",
    "\n",
    "device = torch.device(\"cuda\" if torch.cuda.is_available() else \"cpu\")\n",
    "print(f\"Dispositivo utilizado: {device}\")"
   ]
  },
  {
   "cell_type": "code",
   "execution_count": 11,
   "id": "4c273480-2d7c-4e82-93b5-cc5b02de3e82",
   "metadata": {},
   "outputs": [
    {
     "data": {
      "text/plain": [
       "Sequential(\n",
       "  (0): Conv2d(3, 32, kernel_size=(3, 3), stride=(1, 1), padding=(1, 1))\n",
       "  (1): BatchNorm2d(32, eps=1e-05, momentum=0.1, affine=True, track_running_stats=True)\n",
       "  (2): ReLU()\n",
       "  (3): MaxPool2d(kernel_size=2, stride=2, padding=0, dilation=1, ceil_mode=False)\n",
       "  (4): Conv2d(32, 64, kernel_size=(3, 3), stride=(1, 1), padding=(1, 1))\n",
       "  (5): BatchNorm2d(64, eps=1e-05, momentum=0.1, affine=True, track_running_stats=True)\n",
       "  (6): ReLU()\n",
       "  (7): MaxPool2d(kernel_size=2, stride=2, padding=0, dilation=1, ceil_mode=False)\n",
       "  (8): Conv2d(64, 128, kernel_size=(3, 3), stride=(1, 1), padding=(1, 1))\n",
       "  (9): BatchNorm2d(128, eps=1e-05, momentum=0.1, affine=True, track_running_stats=True)\n",
       "  (10): ReLU()\n",
       "  (11): MaxPool2d(kernel_size=2, stride=2, padding=0, dilation=1, ceil_mode=False)\n",
       "  (12): Conv2d(128, 256, kernel_size=(3, 3), stride=(1, 1), padding=(1, 1))\n",
       "  (13): BatchNorm2d(256, eps=1e-05, momentum=0.1, affine=True, track_running_stats=True)\n",
       "  (14): ReLU()\n",
       "  (15): Flatten(start_dim=1, end_dim=-1)\n",
       "  (16): Linear(in_features=200704, out_features=256, bias=True)\n",
       "  (17): Dropout(p=0.3, inplace=False)\n",
       "  (18): ReLU()\n",
       "  (19): Linear(in_features=256, out_features=128, bias=True)\n",
       "  (20): Dropout(p=0.3, inplace=False)\n",
       "  (21): ReLU()\n",
       "  (22): Linear(in_features=128, out_features=64, bias=True)\n",
       "  (23): Dropout(p=0.3, inplace=False)\n",
       "  (24): ReLU()\n",
       "  (25): Linear(in_features=64, out_features=32, bias=True)\n",
       "  (26): Dropout(p=0.3, inplace=False)\n",
       "  (27): ReLU()\n",
       "  (28): Linear(in_features=32, out_features=3, bias=True)\n",
       ")"
      ]
     },
     "execution_count": 11,
     "metadata": {},
     "output_type": "execute_result"
    }
   ],
   "source": [
    "model.to(device)"
   ]
  },
  {
   "cell_type": "code",
   "execution_count": 12,
   "id": "7852f30f-76af-4d58-89bb-6fb14936b060",
   "metadata": {},
   "outputs": [],
   "source": [
    "num_epoch = 250\n",
    "learning_rate = 0.001\n",
    "\n",
    "optimizer = optim.Adam(model.parameters(), lr=learning_rate)\n",
    "scheduler = optim.lr_scheduler.StepLR(optimizer, step_size=50, gamma=0.1)\n",
    "\n",
    "loss_fn = nn.CrossEntropyLoss()"
   ]
  },
  {
   "cell_type": "code",
   "execution_count": 13,
   "id": "db6fb9fc",
   "metadata": {
    "scrolled": true
   },
   "outputs": [
    {
     "name": "stdout",
     "output_type": "stream",
     "text": [
      "Época 1/250 - Perda no treinamento: 0.959105 - Acurácia: 0.6364 - LR: 0.001\n",
      "Época 2/250 - Perda no treinamento: 0.630581 - Acurácia: 0.7273 - LR: 0.001\n",
      "Época 3/250 - Perda no treinamento: 0.510625 - Acurácia: 0.7273 - LR: 0.001\n",
      "Época 4/250 - Perda no treinamento: 0.445191 - Acurácia: 0.6364 - LR: 0.001\n",
      "Época 5/250 - Perda no treinamento: 0.426120 - Acurácia: 0.9091 - LR: 0.001\n",
      "Época 6/250 - Perda no treinamento: 0.386641 - Acurácia: 0.9091 - LR: 0.001\n",
      "Época 7/250 - Perda no treinamento: 0.361494 - Acurácia: 0.9091 - LR: 0.001\n",
      "Época 8/250 - Perda no treinamento: 0.343746 - Acurácia: 1.0000 - LR: 0.001\n",
      "Época 9/250 - Perda no treinamento: 0.334300 - Acurácia: 0.7273 - LR: 0.001\n",
      "Época 10/250 - Perda no treinamento: 0.318861 - Acurácia: 1.0000 - LR: 0.001\n",
      "Época 11/250 - Perda no treinamento: 0.317769 - Acurácia: 0.7273 - LR: 0.001\n",
      "Época 12/250 - Perda no treinamento: 0.297862 - Acurácia: 0.6364 - LR: 0.001\n",
      "Época 13/250 - Perda no treinamento: 0.288743 - Acurácia: 1.0000 - LR: 0.001\n",
      "Época 14/250 - Perda no treinamento: 0.269620 - Acurácia: 0.9091 - LR: 0.001\n",
      "Época 15/250 - Perda no treinamento: 0.267059 - Acurácia: 1.0000 - LR: 0.001\n",
      "Época 16/250 - Perda no treinamento: 0.252105 - Acurácia: 0.9091 - LR: 0.001\n",
      "Época 17/250 - Perda no treinamento: 0.261347 - Acurácia: 1.0000 - LR: 0.001\n",
      "Época 18/250 - Perda no treinamento: 0.230146 - Acurácia: 1.0000 - LR: 0.001\n",
      "Época 19/250 - Perda no treinamento: 0.239391 - Acurácia: 0.9091 - LR: 0.001\n",
      "Época 20/250 - Perda no treinamento: 0.236538 - Acurácia: 1.0000 - LR: 0.001\n",
      "Época 21/250 - Perda no treinamento: 0.231379 - Acurácia: 1.0000 - LR: 0.001\n",
      "Época 22/250 - Perda no treinamento: 0.225052 - Acurácia: 0.9091 - LR: 0.001\n",
      "Época 23/250 - Perda no treinamento: 0.212772 - Acurácia: 1.0000 - LR: 0.001\n",
      "Época 24/250 - Perda no treinamento: 0.208633 - Acurácia: 1.0000 - LR: 0.001\n",
      "Época 25/250 - Perda no treinamento: 0.208750 - Acurácia: 1.0000 - LR: 0.001\n",
      "Época 26/250 - Perda no treinamento: 0.190116 - Acurácia: 0.9091 - LR: 0.001\n",
      "Época 27/250 - Perda no treinamento: 0.190521 - Acurácia: 0.9091 - LR: 0.001\n",
      "Época 28/250 - Perda no treinamento: 0.185479 - Acurácia: 1.0000 - LR: 0.001\n",
      "Época 29/250 - Perda no treinamento: 0.184498 - Acurácia: 0.9091 - LR: 0.001\n",
      "Época 30/250 - Perda no treinamento: 0.190678 - Acurácia: 0.6364 - LR: 0.001\n",
      "Época 31/250 - Perda no treinamento: 0.192363 - Acurácia: 0.9091 - LR: 0.001\n",
      "Época 32/250 - Perda no treinamento: 0.166947 - Acurácia: 0.8182 - LR: 0.001\n",
      "Época 33/250 - Perda no treinamento: 0.179775 - Acurácia: 0.9091 - LR: 0.001\n",
      "Época 34/250 - Perda no treinamento: 0.181820 - Acurácia: 1.0000 - LR: 0.001\n",
      "Época 35/250 - Perda no treinamento: 0.163210 - Acurácia: 0.9091 - LR: 0.001\n",
      "Época 36/250 - Perda no treinamento: 0.169377 - Acurácia: 0.9091 - LR: 0.001\n",
      "Época 37/250 - Perda no treinamento: 0.167964 - Acurácia: 0.8182 - LR: 0.001\n",
      "Época 38/250 - Perda no treinamento: 0.164754 - Acurácia: 0.9091 - LR: 0.001\n",
      "Época 39/250 - Perda no treinamento: 0.169569 - Acurácia: 1.0000 - LR: 0.001\n",
      "Época 40/250 - Perda no treinamento: 0.151316 - Acurácia: 1.0000 - LR: 0.001\n",
      "Época 41/250 - Perda no treinamento: 0.159385 - Acurácia: 1.0000 - LR: 0.001\n",
      "Época 42/250 - Perda no treinamento: 0.137455 - Acurácia: 0.9091 - LR: 0.001\n",
      "Época 43/250 - Perda no treinamento: 0.148854 - Acurácia: 1.0000 - LR: 0.001\n",
      "Época 44/250 - Perda no treinamento: 0.150435 - Acurácia: 1.0000 - LR: 0.001\n",
      "Época 45/250 - Perda no treinamento: 0.155113 - Acurácia: 0.9091 - LR: 0.001\n",
      "Época 46/250 - Perda no treinamento: 0.139382 - Acurácia: 1.0000 - LR: 0.001\n",
      "Época 47/250 - Perda no treinamento: 0.137689 - Acurácia: 1.0000 - LR: 0.001\n",
      "Época 48/250 - Perda no treinamento: 0.144262 - Acurácia: 0.9091 - LR: 0.001\n",
      "Época 49/250 - Perda no treinamento: 0.140374 - Acurácia: 1.0000 - LR: 0.001\n",
      "Época 50/250 - Perda no treinamento: 0.137478 - Acurácia: 0.9091 - LR: 0.0001\n",
      "Época 51/250 - Perda no treinamento: 0.110296 - Acurácia: 1.0000 - LR: 0.0001\n",
      "Época 52/250 - Perda no treinamento: 0.103748 - Acurácia: 0.8182 - LR: 0.0001\n",
      "Época 53/250 - Perda no treinamento: 0.097648 - Acurácia: 1.0000 - LR: 0.0001\n",
      "Época 54/250 - Perda no treinamento: 0.092985 - Acurácia: 1.0000 - LR: 0.0001\n",
      "Época 55/250 - Perda no treinamento: 0.094645 - Acurácia: 1.0000 - LR: 0.0001\n",
      "Época 56/250 - Perda no treinamento: 0.093420 - Acurácia: 1.0000 - LR: 0.0001\n",
      "Época 57/250 - Perda no treinamento: 0.084975 - Acurácia: 1.0000 - LR: 0.0001\n",
      "Época 58/250 - Perda no treinamento: 0.088614 - Acurácia: 1.0000 - LR: 0.0001\n",
      "Época 59/250 - Perda no treinamento: 0.086618 - Acurácia: 0.9091 - LR: 0.0001\n",
      "Época 60/250 - Perda no treinamento: 0.090323 - Acurácia: 1.0000 - LR: 0.0001\n",
      "Época 61/250 - Perda no treinamento: 0.094264 - Acurácia: 1.0000 - LR: 0.0001\n",
      "Época 62/250 - Perda no treinamento: 0.079941 - Acurácia: 0.9091 - LR: 0.0001\n",
      "Época 63/250 - Perda no treinamento: 0.092704 - Acurácia: 1.0000 - LR: 0.0001\n",
      "Época 64/250 - Perda no treinamento: 0.082470 - Acurácia: 1.0000 - LR: 0.0001\n",
      "Época 65/250 - Perda no treinamento: 0.088517 - Acurácia: 1.0000 - LR: 0.0001\n",
      "Época 66/250 - Perda no treinamento: 0.087726 - Acurácia: 1.0000 - LR: 0.0001\n",
      "Época 67/250 - Perda no treinamento: 0.084284 - Acurácia: 1.0000 - LR: 0.0001\n",
      "Época 68/250 - Perda no treinamento: 0.085626 - Acurácia: 0.9091 - LR: 0.0001\n",
      "Época 69/250 - Perda no treinamento: 0.083956 - Acurácia: 1.0000 - LR: 0.0001\n",
      "Época 70/250 - Perda no treinamento: 0.076135 - Acurácia: 1.0000 - LR: 0.0001\n",
      "Época 71/250 - Perda no treinamento: 0.077514 - Acurácia: 0.9091 - LR: 0.0001\n",
      "Época 72/250 - Perda no treinamento: 0.084422 - Acurácia: 0.9091 - LR: 0.0001\n",
      "Época 73/250 - Perda no treinamento: 0.075035 - Acurácia: 1.0000 - LR: 0.0001\n",
      "Época 74/250 - Perda no treinamento: 0.083879 - Acurácia: 1.0000 - LR: 0.0001\n",
      "Época 75/250 - Perda no treinamento: 0.081526 - Acurácia: 0.9091 - LR: 0.0001\n",
      "Época 76/250 - Perda no treinamento: 0.083418 - Acurácia: 1.0000 - LR: 0.0001\n",
      "Época 77/250 - Perda no treinamento: 0.073687 - Acurácia: 1.0000 - LR: 0.0001\n",
      "Época 78/250 - Perda no treinamento: 0.082523 - Acurácia: 0.8182 - LR: 0.0001\n",
      "Época 79/250 - Perda no treinamento: 0.079461 - Acurácia: 1.0000 - LR: 0.0001\n",
      "Época 80/250 - Perda no treinamento: 0.087570 - Acurácia: 1.0000 - LR: 0.0001\n",
      "Época 81/250 - Perda no treinamento: 0.073275 - Acurácia: 1.0000 - LR: 0.0001\n",
      "Época 82/250 - Perda no treinamento: 0.076830 - Acurácia: 1.0000 - LR: 0.0001\n",
      "Época 83/250 - Perda no treinamento: 0.075111 - Acurácia: 0.9091 - LR: 0.0001\n",
      "Época 84/250 - Perda no treinamento: 0.076483 - Acurácia: 1.0000 - LR: 0.0001\n",
      "Época 85/250 - Perda no treinamento: 0.077548 - Acurácia: 1.0000 - LR: 0.0001\n",
      "Época 86/250 - Perda no treinamento: 0.072373 - Acurácia: 1.0000 - LR: 0.0001\n",
      "Época 87/250 - Perda no treinamento: 0.073507 - Acurácia: 1.0000 - LR: 0.0001\n",
      "Época 88/250 - Perda no treinamento: 0.084219 - Acurácia: 0.9091 - LR: 0.0001\n",
      "Época 89/250 - Perda no treinamento: 0.075668 - Acurácia: 1.0000 - LR: 0.0001\n",
      "Época 90/250 - Perda no treinamento: 0.073825 - Acurácia: 0.9091 - LR: 0.0001\n",
      "Época 91/250 - Perda no treinamento: 0.080398 - Acurácia: 0.9091 - LR: 0.0001\n",
      "Época 92/250 - Perda no treinamento: 0.081859 - Acurácia: 1.0000 - LR: 0.0001\n",
      "Época 93/250 - Perda no treinamento: 0.068880 - Acurácia: 1.0000 - LR: 0.0001\n",
      "Época 94/250 - Perda no treinamento: 0.075903 - Acurácia: 1.0000 - LR: 0.0001\n",
      "Época 95/250 - Perda no treinamento: 0.074297 - Acurácia: 1.0000 - LR: 0.0001\n",
      "Época 96/250 - Perda no treinamento: 0.072367 - Acurácia: 1.0000 - LR: 0.0001\n",
      "Época 97/250 - Perda no treinamento: 0.070606 - Acurácia: 1.0000 - LR: 0.0001\n",
      "Época 98/250 - Perda no treinamento: 0.068578 - Acurácia: 0.8182 - LR: 0.0001\n",
      "Época 99/250 - Perda no treinamento: 0.074312 - Acurácia: 1.0000 - LR: 0.0001\n",
      "Época 100/250 - Perda no treinamento: 0.071267 - Acurácia: 1.0000 - LR: 1e-05\n",
      "Época 101/250 - Perda no treinamento: 0.061788 - Acurácia: 1.0000 - LR: 1e-05\n",
      "Época 102/250 - Perda no treinamento: 0.063989 - Acurácia: 1.0000 - LR: 1e-05\n",
      "Época 103/250 - Perda no treinamento: 0.068486 - Acurácia: 1.0000 - LR: 1e-05\n",
      "Época 104/250 - Perda no treinamento: 0.064994 - Acurácia: 1.0000 - LR: 1e-05\n",
      "Época 105/250 - Perda no treinamento: 0.072257 - Acurácia: 1.0000 - LR: 1e-05\n",
      "Época 106/250 - Perda no treinamento: 0.070915 - Acurácia: 0.9091 - LR: 1e-05\n",
      "Época 107/250 - Perda no treinamento: 0.064953 - Acurácia: 1.0000 - LR: 1e-05\n",
      "Época 108/250 - Perda no treinamento: 0.069256 - Acurácia: 1.0000 - LR: 1e-05\n",
      "Época 109/250 - Perda no treinamento: 0.069405 - Acurácia: 1.0000 - LR: 1e-05\n",
      "Época 110/250 - Perda no treinamento: 0.066474 - Acurácia: 1.0000 - LR: 1e-05\n",
      "Época 111/250 - Perda no treinamento: 0.062252 - Acurácia: 1.0000 - LR: 1e-05\n",
      "Época 112/250 - Perda no treinamento: 0.069109 - Acurácia: 1.0000 - LR: 1e-05\n",
      "Época 113/250 - Perda no treinamento: 0.063249 - Acurácia: 1.0000 - LR: 1e-05\n",
      "Época 114/250 - Perda no treinamento: 0.067094 - Acurácia: 1.0000 - LR: 1e-05\n",
      "Época 115/250 - Perda no treinamento: 0.059613 - Acurácia: 1.0000 - LR: 1e-05\n",
      "Época 116/250 - Perda no treinamento: 0.065282 - Acurácia: 1.0000 - LR: 1e-05\n",
      "Época 117/250 - Perda no treinamento: 0.063933 - Acurácia: 1.0000 - LR: 1e-05\n",
      "Época 118/250 - Perda no treinamento: 0.064060 - Acurácia: 1.0000 - LR: 1e-05\n",
      "Época 119/250 - Perda no treinamento: 0.066490 - Acurácia: 1.0000 - LR: 1e-05\n",
      "Época 120/250 - Perda no treinamento: 0.065089 - Acurácia: 1.0000 - LR: 1e-05\n",
      "Época 121/250 - Perda no treinamento: 0.067528 - Acurácia: 1.0000 - LR: 1e-05\n",
      "Época 122/250 - Perda no treinamento: 0.063172 - Acurácia: 0.9091 - LR: 1e-05\n",
      "Época 123/250 - Perda no treinamento: 0.069045 - Acurácia: 0.9091 - LR: 1e-05\n",
      "Época 124/250 - Perda no treinamento: 0.067932 - Acurácia: 1.0000 - LR: 1e-05\n",
      "Época 125/250 - Perda no treinamento: 0.065892 - Acurácia: 1.0000 - LR: 1e-05\n",
      "Época 126/250 - Perda no treinamento: 0.063633 - Acurácia: 0.8182 - LR: 1e-05\n",
      "Época 127/250 - Perda no treinamento: 0.068755 - Acurácia: 1.0000 - LR: 1e-05\n",
      "Época 128/250 - Perda no treinamento: 0.069692 - Acurácia: 0.9091 - LR: 1e-05\n",
      "Época 129/250 - Perda no treinamento: 0.062447 - Acurácia: 0.9091 - LR: 1e-05\n",
      "Época 130/250 - Perda no treinamento: 0.067484 - Acurácia: 1.0000 - LR: 1e-05\n",
      "Época 131/250 - Perda no treinamento: 0.065958 - Acurácia: 1.0000 - LR: 1e-05\n",
      "Época 132/250 - Perda no treinamento: 0.065699 - Acurácia: 1.0000 - LR: 1e-05\n",
      "Época 133/250 - Perda no treinamento: 0.068272 - Acurácia: 1.0000 - LR: 1e-05\n",
      "Época 134/250 - Perda no treinamento: 0.063185 - Acurácia: 1.0000 - LR: 1e-05\n",
      "Época 135/250 - Perda no treinamento: 0.063539 - Acurácia: 1.0000 - LR: 1e-05\n",
      "Época 136/250 - Perda no treinamento: 0.066181 - Acurácia: 1.0000 - LR: 1e-05\n",
      "Época 137/250 - Perda no treinamento: 0.070083 - Acurácia: 0.9091 - LR: 1e-05\n",
      "Época 138/250 - Perda no treinamento: 0.067010 - Acurácia: 0.9091 - LR: 1e-05\n",
      "Época 139/250 - Perda no treinamento: 0.061799 - Acurácia: 1.0000 - LR: 1e-05\n",
      "Época 140/250 - Perda no treinamento: 0.066986 - Acurácia: 0.9091 - LR: 1e-05\n",
      "Época 141/250 - Perda no treinamento: 0.060753 - Acurácia: 1.0000 - LR: 1e-05\n",
      "Época 142/250 - Perda no treinamento: 0.065492 - Acurácia: 1.0000 - LR: 1e-05\n",
      "Época 143/250 - Perda no treinamento: 0.070086 - Acurácia: 1.0000 - LR: 1e-05\n",
      "Época 144/250 - Perda no treinamento: 0.064782 - Acurácia: 1.0000 - LR: 1e-05\n",
      "Época 145/250 - Perda no treinamento: 0.070195 - Acurácia: 1.0000 - LR: 1e-05\n",
      "Época 146/250 - Perda no treinamento: 0.064573 - Acurácia: 1.0000 - LR: 1e-05\n",
      "Época 147/250 - Perda no treinamento: 0.065746 - Acurácia: 0.9091 - LR: 1e-05\n",
      "Época 148/250 - Perda no treinamento: 0.064250 - Acurácia: 1.0000 - LR: 1e-05\n",
      "Época 149/250 - Perda no treinamento: 0.062253 - Acurácia: 1.0000 - LR: 1e-05\n",
      "Época 150/250 - Perda no treinamento: 0.064182 - Acurácia: 1.0000 - LR: 1.0000000000000002e-06\n",
      "Época 151/250 - Perda no treinamento: 0.062947 - Acurácia: 1.0000 - LR: 1.0000000000000002e-06\n",
      "Época 152/250 - Perda no treinamento: 0.069666 - Acurácia: 1.0000 - LR: 1.0000000000000002e-06\n",
      "Época 153/250 - Perda no treinamento: 0.059603 - Acurácia: 1.0000 - LR: 1.0000000000000002e-06\n",
      "Época 154/250 - Perda no treinamento: 0.061910 - Acurácia: 1.0000 - LR: 1.0000000000000002e-06\n",
      "Época 155/250 - Perda no treinamento: 0.066193 - Acurácia: 0.9091 - LR: 1.0000000000000002e-06\n",
      "Época 156/250 - Perda no treinamento: 0.059617 - Acurácia: 1.0000 - LR: 1.0000000000000002e-06\n",
      "Época 157/250 - Perda no treinamento: 0.066273 - Acurácia: 0.9091 - LR: 1.0000000000000002e-06\n",
      "Época 158/250 - Perda no treinamento: 0.062949 - Acurácia: 1.0000 - LR: 1.0000000000000002e-06\n",
      "Época 159/250 - Perda no treinamento: 0.063089 - Acurácia: 1.0000 - LR: 1.0000000000000002e-06\n",
      "Época 160/250 - Perda no treinamento: 0.062796 - Acurácia: 1.0000 - LR: 1.0000000000000002e-06\n",
      "Época 161/250 - Perda no treinamento: 0.060517 - Acurácia: 0.9091 - LR: 1.0000000000000002e-06\n",
      "Época 162/250 - Perda no treinamento: 0.064022 - Acurácia: 1.0000 - LR: 1.0000000000000002e-06\n",
      "Época 163/250 - Perda no treinamento: 0.062257 - Acurácia: 1.0000 - LR: 1.0000000000000002e-06\n",
      "Época 164/250 - Perda no treinamento: 0.061327 - Acurácia: 1.0000 - LR: 1.0000000000000002e-06\n",
      "Época 165/250 - Perda no treinamento: 0.064777 - Acurácia: 0.9091 - LR: 1.0000000000000002e-06\n",
      "Época 166/250 - Perda no treinamento: 0.062751 - Acurácia: 0.9091 - LR: 1.0000000000000002e-06\n",
      "Época 167/250 - Perda no treinamento: 0.062279 - Acurácia: 1.0000 - LR: 1.0000000000000002e-06\n",
      "Época 168/250 - Perda no treinamento: 0.062184 - Acurácia: 1.0000 - LR: 1.0000000000000002e-06\n",
      "Época 169/250 - Perda no treinamento: 0.067423 - Acurácia: 0.8182 - LR: 1.0000000000000002e-06\n",
      "Época 170/250 - Perda no treinamento: 0.066920 - Acurácia: 0.9091 - LR: 1.0000000000000002e-06\n",
      "Época 171/250 - Perda no treinamento: 0.069138 - Acurácia: 1.0000 - LR: 1.0000000000000002e-06\n",
      "Época 172/250 - Perda no treinamento: 0.056552 - Acurácia: 1.0000 - LR: 1.0000000000000002e-06\n",
      "Época 173/250 - Perda no treinamento: 0.060315 - Acurácia: 1.0000 - LR: 1.0000000000000002e-06\n",
      "Época 174/250 - Perda no treinamento: 0.059334 - Acurácia: 1.0000 - LR: 1.0000000000000002e-06\n",
      "Época 175/250 - Perda no treinamento: 0.066187 - Acurácia: 1.0000 - LR: 1.0000000000000002e-06\n",
      "Época 176/250 - Perda no treinamento: 0.062495 - Acurácia: 1.0000 - LR: 1.0000000000000002e-06\n",
      "Época 177/250 - Perda no treinamento: 0.064164 - Acurácia: 1.0000 - LR: 1.0000000000000002e-06\n",
      "Época 178/250 - Perda no treinamento: 0.059509 - Acurácia: 1.0000 - LR: 1.0000000000000002e-06\n",
      "Época 179/250 - Perda no treinamento: 0.060443 - Acurácia: 0.9091 - LR: 1.0000000000000002e-06\n",
      "Época 180/250 - Perda no treinamento: 0.065888 - Acurácia: 1.0000 - LR: 1.0000000000000002e-06\n",
      "Época 181/250 - Perda no treinamento: 0.058911 - Acurácia: 1.0000 - LR: 1.0000000000000002e-06\n",
      "Época 182/250 - Perda no treinamento: 0.059721 - Acurácia: 1.0000 - LR: 1.0000000000000002e-06\n",
      "Época 183/250 - Perda no treinamento: 0.060535 - Acurácia: 1.0000 - LR: 1.0000000000000002e-06\n",
      "Época 184/250 - Perda no treinamento: 0.065156 - Acurácia: 1.0000 - LR: 1.0000000000000002e-06\n",
      "Época 185/250 - Perda no treinamento: 0.062648 - Acurácia: 1.0000 - LR: 1.0000000000000002e-06\n",
      "Época 186/250 - Perda no treinamento: 0.064031 - Acurácia: 1.0000 - LR: 1.0000000000000002e-06\n",
      "Época 187/250 - Perda no treinamento: 0.061501 - Acurácia: 1.0000 - LR: 1.0000000000000002e-06\n",
      "Época 188/250 - Perda no treinamento: 0.062033 - Acurácia: 1.0000 - LR: 1.0000000000000002e-06\n",
      "Época 189/250 - Perda no treinamento: 0.067799 - Acurácia: 1.0000 - LR: 1.0000000000000002e-06\n",
      "Época 190/250 - Perda no treinamento: 0.062603 - Acurácia: 1.0000 - LR: 1.0000000000000002e-06\n",
      "Época 191/250 - Perda no treinamento: 0.063135 - Acurácia: 1.0000 - LR: 1.0000000000000002e-06\n",
      "Época 192/250 - Perda no treinamento: 0.062427 - Acurácia: 1.0000 - LR: 1.0000000000000002e-06\n",
      "Época 193/250 - Perda no treinamento: 0.065147 - Acurácia: 1.0000 - LR: 1.0000000000000002e-06\n",
      "Época 194/250 - Perda no treinamento: 0.063268 - Acurácia: 1.0000 - LR: 1.0000000000000002e-06\n",
      "Época 195/250 - Perda no treinamento: 0.065397 - Acurácia: 1.0000 - LR: 1.0000000000000002e-06\n",
      "Época 196/250 - Perda no treinamento: 0.059526 - Acurácia: 1.0000 - LR: 1.0000000000000002e-06\n",
      "Época 197/250 - Perda no treinamento: 0.064588 - Acurácia: 1.0000 - LR: 1.0000000000000002e-06\n",
      "Época 198/250 - Perda no treinamento: 0.064058 - Acurácia: 1.0000 - LR: 1.0000000000000002e-06\n",
      "Época 199/250 - Perda no treinamento: 0.067849 - Acurácia: 0.9091 - LR: 1.0000000000000002e-06\n",
      "Época 200/250 - Perda no treinamento: 0.062319 - Acurácia: 0.8182 - LR: 1.0000000000000002e-07\n",
      "Época 201/250 - Perda no treinamento: 0.067994 - Acurácia: 1.0000 - LR: 1.0000000000000002e-07\n",
      "Época 202/250 - Perda no treinamento: 0.061840 - Acurácia: 1.0000 - LR: 1.0000000000000002e-07\n",
      "Época 203/250 - Perda no treinamento: 0.066639 - Acurácia: 1.0000 - LR: 1.0000000000000002e-07\n",
      "Época 204/250 - Perda no treinamento: 0.058133 - Acurácia: 1.0000 - LR: 1.0000000000000002e-07\n",
      "Época 205/250 - Perda no treinamento: 0.062532 - Acurácia: 1.0000 - LR: 1.0000000000000002e-07\n",
      "Época 206/250 - Perda no treinamento: 0.061227 - Acurácia: 0.9091 - LR: 1.0000000000000002e-07\n",
      "Época 207/250 - Perda no treinamento: 0.061340 - Acurácia: 1.0000 - LR: 1.0000000000000002e-07\n",
      "Época 208/250 - Perda no treinamento: 0.064192 - Acurácia: 1.0000 - LR: 1.0000000000000002e-07\n",
      "Época 209/250 - Perda no treinamento: 0.060967 - Acurácia: 0.9091 - LR: 1.0000000000000002e-07\n",
      "Época 210/250 - Perda no treinamento: 0.063766 - Acurácia: 1.0000 - LR: 1.0000000000000002e-07\n",
      "Época 211/250 - Perda no treinamento: 0.065536 - Acurácia: 0.9091 - LR: 1.0000000000000002e-07\n",
      "Época 212/250 - Perda no treinamento: 0.065328 - Acurácia: 1.0000 - LR: 1.0000000000000002e-07\n",
      "Época 213/250 - Perda no treinamento: 0.063696 - Acurácia: 0.9091 - LR: 1.0000000000000002e-07\n",
      "Época 214/250 - Perda no treinamento: 0.064809 - Acurácia: 1.0000 - LR: 1.0000000000000002e-07\n",
      "Época 215/250 - Perda no treinamento: 0.068111 - Acurácia: 0.8182 - LR: 1.0000000000000002e-07\n",
      "Época 216/250 - Perda no treinamento: 0.065283 - Acurácia: 0.9091 - LR: 1.0000000000000002e-07\n",
      "Época 217/250 - Perda no treinamento: 0.063517 - Acurácia: 1.0000 - LR: 1.0000000000000002e-07\n",
      "Época 218/250 - Perda no treinamento: 0.067621 - Acurácia: 1.0000 - LR: 1.0000000000000002e-07\n",
      "Época 219/250 - Perda no treinamento: 0.062946 - Acurácia: 1.0000 - LR: 1.0000000000000002e-07\n",
      "Época 220/250 - Perda no treinamento: 0.060807 - Acurácia: 1.0000 - LR: 1.0000000000000002e-07\n",
      "Época 221/250 - Perda no treinamento: 0.064748 - Acurácia: 0.9091 - LR: 1.0000000000000002e-07\n",
      "Época 222/250 - Perda no treinamento: 0.061799 - Acurácia: 1.0000 - LR: 1.0000000000000002e-07\n",
      "Época 223/250 - Perda no treinamento: 0.063036 - Acurácia: 1.0000 - LR: 1.0000000000000002e-07\n",
      "Época 224/250 - Perda no treinamento: 0.063731 - Acurácia: 1.0000 - LR: 1.0000000000000002e-07\n",
      "Época 225/250 - Perda no treinamento: 0.058369 - Acurácia: 1.0000 - LR: 1.0000000000000002e-07\n",
      "Época 226/250 - Perda no treinamento: 0.068708 - Acurácia: 1.0000 - LR: 1.0000000000000002e-07\n",
      "Época 227/250 - Perda no treinamento: 0.057894 - Acurácia: 1.0000 - LR: 1.0000000000000002e-07\n",
      "Época 228/250 - Perda no treinamento: 0.058985 - Acurácia: 0.9091 - LR: 1.0000000000000002e-07\n",
      "Época 229/250 - Perda no treinamento: 0.055864 - Acurácia: 1.0000 - LR: 1.0000000000000002e-07\n",
      "Época 230/250 - Perda no treinamento: 0.066276 - Acurácia: 0.9091 - LR: 1.0000000000000002e-07\n",
      "Época 231/250 - Perda no treinamento: 0.052592 - Acurácia: 1.0000 - LR: 1.0000000000000002e-07\n",
      "Época 232/250 - Perda no treinamento: 0.063133 - Acurácia: 1.0000 - LR: 1.0000000000000002e-07\n",
      "Época 233/250 - Perda no treinamento: 0.062285 - Acurácia: 1.0000 - LR: 1.0000000000000002e-07\n",
      "Época 234/250 - Perda no treinamento: 0.061495 - Acurácia: 1.0000 - LR: 1.0000000000000002e-07\n",
      "Época 235/250 - Perda no treinamento: 0.062178 - Acurácia: 1.0000 - LR: 1.0000000000000002e-07\n",
      "Época 236/250 - Perda no treinamento: 0.067786 - Acurácia: 0.9091 - LR: 1.0000000000000002e-07\n",
      "Época 237/250 - Perda no treinamento: 0.062261 - Acurácia: 1.0000 - LR: 1.0000000000000002e-07\n",
      "Época 238/250 - Perda no treinamento: 0.061413 - Acurácia: 1.0000 - LR: 1.0000000000000002e-07\n",
      "Época 239/250 - Perda no treinamento: 0.067080 - Acurácia: 1.0000 - LR: 1.0000000000000002e-07\n",
      "Época 240/250 - Perda no treinamento: 0.063978 - Acurácia: 0.9091 - LR: 1.0000000000000002e-07\n",
      "Época 241/250 - Perda no treinamento: 0.065055 - Acurácia: 1.0000 - LR: 1.0000000000000002e-07\n",
      "Época 242/250 - Perda no treinamento: 0.062377 - Acurácia: 1.0000 - LR: 1.0000000000000002e-07\n",
      "Época 243/250 - Perda no treinamento: 0.066043 - Acurácia: 1.0000 - LR: 1.0000000000000002e-07\n",
      "Época 244/250 - Perda no treinamento: 0.063997 - Acurácia: 0.9091 - LR: 1.0000000000000002e-07\n",
      "Época 245/250 - Perda no treinamento: 0.064411 - Acurácia: 1.0000 - LR: 1.0000000000000002e-07\n",
      "Época 246/250 - Perda no treinamento: 0.064230 - Acurácia: 1.0000 - LR: 1.0000000000000002e-07\n",
      "Época 247/250 - Perda no treinamento: 0.063214 - Acurácia: 0.9091 - LR: 1.0000000000000002e-07\n",
      "Época 248/250 - Perda no treinamento: 0.060246 - Acurácia: 1.0000 - LR: 1.0000000000000002e-07\n",
      "Época 249/250 - Perda no treinamento: 0.065078 - Acurácia: 1.0000 - LR: 1.0000000000000002e-07\n",
      "Época 250/250 - Perda no treinamento: 0.065584 - Acurácia: 1.0000 - LR: 1.0000000000000004e-08\n",
      "\n",
      "Tempo total de treinamento: 54852.14 segundos\n"
     ]
    }
   ],
   "source": [
    "train_losses = []\n",
    "train_acc = []\n",
    "\n",
    "training_start_time = time.time()\n",
    "\n",
    "for epoch in range(num_epoch):\n",
    "    model.train()\n",
    "    running_train_loss = 0.0\n",
    "\n",
    "    for inputs, labels in train_loader:\n",
    "        inputs = inputs.to(device)\n",
    "        labels = labels.to(device)\n",
    "    \n",
    "        optimizer.zero_grad()\n",
    "        outputs = model(inputs)\n",
    "\n",
    "        loss = loss_fn(outputs, labels)\n",
    "        loss.backward()\n",
    "        optimizer.step()\n",
    "        running_train_loss += loss.item()\n",
    "\n",
    "    scheduler.step()\n",
    "\n",
    "    train_loss = running_train_loss / len(train_loader)\n",
    "    train_losses.append(train_loss)\n",
    "\n",
    "    _, predicted = torch.max(outputs.data, 1)\n",
    "\n",
    "    acc = accuracy_score(labels.cpu().detach().numpy(), predicted.cpu().detach().numpy())\n",
    "    train_acc.append(acc)\n",
    "\n",
    "    print(f\"Época {epoch + 1}/{num_epoch} - Perda no treinamento: {train_loss:.6f} - Acurácia: {acc:.4f} - LR: {scheduler.get_last_lr()[0]}\")\n",
    "\n",
    "training_time = time.time() - training_start_time\n",
    "print(f\"\\nTempo total de treinamento: {training_time:.2f} segundos\")"
   ]
  },
  {
   "cell_type": "code",
   "execution_count": 14,
   "id": "6e0bfba8",
   "metadata": {},
   "outputs": [
    {
     "data": {
      "text/plain": [
       "Text(0.5, 0.98, 'Treinamento')"
      ]
     },
     "execution_count": 14,
     "metadata": {},
     "output_type": "execute_result"
    },
    {
     "data": {
      "image/png": "[encoded data removed]",
      "text/plain": [
       "<Figure size 1200x500 with 2 Axes>"
      ]
     },
     "metadata": {},
     "output_type": "display_data"
    }
   ],
   "source": [
    "epochs = range(1, num_epoch + 1)\n",
    "\n",
    "plt.figure(figsize=(12, 5))\n",
    "\n",
    "plt.subplot(1, 2, 1)\n",
    "plt.plot(epochs, train_losses, 'bo-')\n",
    "plt.xlabel('Épocas')\n",
    "plt.ylabel('Perda')\n",
    "\n",
    "plt.subplot(1, 2, 2)\n",
    "plt.plot(epochs, train_acc, 'ro-')\n",
    "plt.xlabel('Épocas')\n",
    "plt.ylabel('Acurácia')\n",
    "\n",
    "plt.suptitle(\"Treinamento\", fontsize = 20)"
   ]
  },
  {
   "cell_type": "code",
   "execution_count": 15,
   "id": "b69784a6",
   "metadata": {},
   "outputs": [
    {
     "name": "stdout",
     "output_type": "stream",
     "text": [
      "!!!Teste finalizado!!!\n"
     ]
    }
   ],
   "source": [
    "rot_array = []\n",
    "predt_array = []\n",
    "\n",
    "model.eval()\n",
    "    \n",
    "with torch.no_grad():\n",
    "        \n",
    "    for images, labels in test_loader:\n",
    "        images = images.to(device)\n",
    "        labels = labels.to(device)\n",
    "        \n",
    "        outputs = model(images)\n",
    "        _, predicted = torch.max(outputs.data, 1)\n",
    "\n",
    "        rot_array.extend(labels.cpu().detach().numpy())\n",
    "        predt_array.extend(predicted.cpu().detach().numpy())\n",
    "\n",
    "print(\"!!!Teste finalizado!!!\")"
   ]
  },
  {
   "cell_type": "markdown",
   "id": "7d4e8125",
   "metadata": {},
   "source": [
    "# <center> Métricas de avaliação </center>"
   ]
  },
  {
   "cell_type": "code",
   "execution_count": 16,
   "id": "3db4b94b",
   "metadata": {},
   "outputs": [
    {
     "data": {
      "image/png": "[encoded data removed]",
      "text/plain": [
       "<Figure size 640x480 with 2 Axes>"
      ]
     },
     "metadata": {},
     "output_type": "display_data"
    }
   ],
   "source": [
    "cm = confusion_matrix(rot_array, predt_array)\n",
    "\n",
    "disp = ConfusionMatrixDisplay(confusion_matrix=cm, display_labels=['Normal', 'Pneumonia', 'Tuberculose'])\n",
    "disp.plot(cmap=plt.cm.Blues)\n",
    "\n",
    "plt.xlabel('Rótulo previsto')\n",
    "plt.ylabel('Rótulo verdadeiro')\n",
    "plt.show()"
   ]
  },
  {
   "cell_type": "code",
   "execution_count": 17,
   "id": "5cc4b82f",
   "metadata": {},
   "outputs": [
    {
     "name": "stdout",
     "output_type": "stream",
     "text": [
      "Acurácia: 97.42%\n"
     ]
    }
   ],
   "source": [
    "acc = accuracy_score(rot_array, predt_array)\n",
    "print(f\"Acurácia: {acc * 100 :.2f}%\")"
   ]
  },
  {
   "cell_type": "code",
   "execution_count": 18,
   "id": "b6110c3c",
   "metadata": {},
   "outputs": [
    {
     "name": "stdout",
     "output_type": "stream",
     "text": [
      "Precisão: 97.42%\n"
     ]
    }
   ],
   "source": [
    "precision = precision_score(rot_array, predt_array, average='weighted')\n",
    "print(f\"Precisão: {precision * 100 :.2f}%\")"
   ]
  },
  {
   "cell_type": "code",
   "execution_count": 19,
   "id": "a1b52987",
   "metadata": {},
   "outputs": [
    {
     "name": "stdout",
     "output_type": "stream",
     "text": [
      "Recall: 97.42%\n"
     ]
    }
   ],
   "source": [
    "recall = recall_score(rot_array, predt_array, average='weighted')\n",
    "print(f\"Recall: {recall * 100 :.2f}%\")"
   ]
  },
  {
   "cell_type": "code",
   "execution_count": 20,
   "id": "8fdb017e",
   "metadata": {},
   "outputs": [
    {
     "name": "stdout",
     "output_type": "stream",
     "text": [
      "F1 Score: 97.41%\n"
     ]
    }
   ],
   "source": [
    "f1 = f1_score(rot_array, predt_array, average='weighted')\n",
    "print(f\"F1 Score: {f1 * 100 :.2f}%\")"
   ]
  }
 ],
 "metadata": {
  "kernelspec": {
   "display_name": "Python 3 (ipykernel)",
   "language": "python",
   "name": "python3"
  },
  "language_info": {
   "codemirror_mode": {
    "name": "ipython",
    "version": 3
   },
   "file_extension": ".py",
   "mimetype": "text/x-python",
   "name": "python",
   "nbconvert_exporter": "python",
   "pygments_lexer": "ipython3",
   "version": "3.12.8"
  }
 },
 "nbformat": 4,
 "nbformat_minor": 5
}
