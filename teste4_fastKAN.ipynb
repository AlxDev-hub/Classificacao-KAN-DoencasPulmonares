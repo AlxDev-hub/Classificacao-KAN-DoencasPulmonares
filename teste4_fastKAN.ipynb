{
 "cells": [
  {
   "cell_type": "code",
   "execution_count": 1,
   "id": "5b75895e-1bb9-45bc-8368-18e7ebc095a1",
   "metadata": {},
   "outputs": [],
   "source": [
    "from fastkan import FastKAN as KAN\n",
    "\n",
    "import time\n",
    "import numpy as np\n",
    "import matplotlib.pyplot as plt\n",
    "\n",
    "import torch\n",
    "import torch.nn as nn\n",
    "import torch.optim as optim\n",
    "from torchvision import datasets, transforms\n",
    "from torch.utils.data import DataLoader, random_split\n",
    "\n",
    "from sklearn.metrics import *"
   ]
  },
  {
   "cell_type": "code",
   "execution_count": 2,
   "id": "e8ff8ce7-9d4e-4b34-99a0-11ddf095fe8a",
   "metadata": {},
   "outputs": [],
   "source": [
    "dataset_path = 'Dataset_Completo'"
   ]
  },
  {
   "cell_type": "code",
   "execution_count": 3,
   "id": "3704805d-8219-4ecd-a64b-29e1445d94b0",
   "metadata": {},
   "outputs": [],
   "source": [
    "transform = transforms.Compose(\n",
    "    [transforms.Resize(size = (164,164)),\n",
    "     transforms.RandomRotation(degrees=10),\n",
    "     transforms.RandomAffine(degrees=0, translate=(0.1, 0.1), scale=(0.9, 1.1), shear=10),\n",
    "     transforms.ColorJitter(brightness=0.2, contrast=0.2, saturation=0.1, hue=0.1),\n",
    "     transforms.ToTensor(),\n",
    "     transforms.Lambda(lambda x: torch.clamp(x + torch.randn_like(x) * 0.05, 0., 1.)),\n",
    "     transforms.Normalize(mean=[0.5], std=[0.5])\n",
    "    ]\n",
    ")"
   ]
  },
  {
   "cell_type": "code",
   "execution_count": 4,
   "id": "b69961e4-656a-47b0-9d8b-d3b41523ef7a",
   "metadata": {},
   "outputs": [],
   "source": [
    "dataset = datasets.ImageFolder(dataset_path, transform = transform)"
   ]
  },
  {
   "cell_type": "code",
   "execution_count": 5,
   "id": "a315013b-6338-4533-86f8-bd2196b6295c",
   "metadata": {},
   "outputs": [
    {
     "name": "stdout",
     "output_type": "stream",
     "text": [
      "Informações sobre o Dataset: \n",
      "\n",
      " Dataset ImageFolder\n",
      "    Number of datapoints: 13411\n",
      "    Root location: Dataset_Completo\n",
      "    StandardTransform\n",
      "Transform: Compose(\n",
      "               Resize(size=(164, 164), interpolation=bilinear, max_size=None, antialias=True)\n",
      "               RandomRotation(degrees=[-10.0, 10.0], interpolation=nearest, expand=False, fill=0)\n",
      "               RandomAffine(degrees=[0.0, 0.0], translate=(0.1, 0.1), scale=(0.9, 1.1), shear=[-10.0, 10.0])\n",
      "               ColorJitter(brightness=(0.8, 1.2), contrast=(0.8, 1.2), saturation=(0.9, 1.1), hue=(-0.1, 0.1))\n",
      "               ToTensor()\n",
      "               Lambda()\n",
      "               Normalize(mean=[0.5], std=[0.5])\n",
      "           )\n",
      "\n",
      "Rótulos:  {'NORMAL': 0, 'PNEUMONIA': 1, 'TUBERCULOSE': 2}\n"
     ]
    }
   ],
   "source": [
    "print(\"Informações sobre o Dataset: \\n\\n\", dataset)\n",
    "print(\"\\nRótulos: \", dataset.class_to_idx)"
   ]
  },
  {
   "cell_type": "code",
   "execution_count": 6,
   "id": "e20c2127-abec-4fd8-b2ff-7595da3efa1e",
   "metadata": {},
   "outputs": [],
   "source": [
    "train_size = int(0.7 * len(dataset))\n",
    "test_size = len(dataset) - train_size\n",
    "\n",
    "train_dataset, test_dataset = random_split(dataset, [train_size, test_size])"
   ]
  },
  {
   "cell_type": "code",
   "execution_count": 7,
   "id": "da166b3f-cb48-4bc1-bc98-9069298ac675",
   "metadata": {},
   "outputs": [],
   "source": [
    "train_loader = DataLoader(train_dataset, batch_size=32, shuffle=True)\n",
    "test_loader = DataLoader(test_dataset, batch_size=32, shuffle=False)"
   ]
  },
  {
   "cell_type": "code",
   "execution_count": 8,
   "id": "9dc5c14d-4869-4517-be58-0aeab45f41b9",
   "metadata": {},
   "outputs": [],
   "source": [
    "all_targets = []\n",
    "for images, labels in train_loader:\n",
    "    all_targets.extend(labels.tolist())\n",
    "\n",
    "nor = []\n",
    "pne = []\n",
    "tub = []\n",
    "for i in range(train_size):\n",
    "    if all_targets[i] == 0:\n",
    "        nor.append(all_targets[i])\n",
    "    elif all_targets[i] == 1:\n",
    "        pne.append(all_targets[i])\n",
    "    elif all_targets[i] == 2:\n",
    "        tub.append(all_targets[i])"
   ]
  },
  {
   "cell_type": "code",
   "execution_count": 9,
   "id": "e12899f3-e92f-4ea4-bd33-3c6625ebebd6",
   "metadata": {},
   "outputs": [
    {
     "name": "stdout",
     "output_type": "stream",
     "text": [
      "!!!Distribuição dos dados de treinamento!!!\n",
      "\n",
      "Normal:  3567\n",
      "Pneumonia:  2979\n",
      "Tuberculose:  2841\n"
     ]
    }
   ],
   "source": [
    "print(\"!!!Distribuição dos dados de treinamento!!!\\n\")\n",
    "print(\"Normal: \", len(nor))\n",
    "print(\"Pneumonia: \", len(pne))\n",
    "print(\"Tuberculose: \", len(tub))"
   ]
  },
  {
   "cell_type": "code",
   "execution_count": 10,
   "id": "5ff038ec-9b14-41f5-8e96-0ac91fe6cc21",
   "metadata": {},
   "outputs": [
    {
     "data": {
      "text/plain": [
       "FastKAN(\n",
       "  (layers): ModuleList(\n",
       "    (0): FastKANLayer(\n",
       "      (layernorm): LayerNorm((80688,), eps=1e-05, elementwise_affine=True)\n",
       "      (rbf): RadialBasisFunction()\n",
       "      (spline_linear): SplineLinear(in_features=645504, out_features=164, bias=False)\n",
       "      (base_linear): Linear(in_features=80688, out_features=164, bias=True)\n",
       "    )\n",
       "    (1): FastKANLayer(\n",
       "      (layernorm): LayerNorm((164,), eps=1e-05, elementwise_affine=True)\n",
       "      (rbf): RadialBasisFunction()\n",
       "      (spline_linear): SplineLinear(in_features=1312, out_features=64, bias=False)\n",
       "      (base_linear): Linear(in_features=164, out_features=64, bias=True)\n",
       "    )\n",
       "    (2): FastKANLayer(\n",
       "      (layernorm): LayerNorm((64,), eps=1e-05, elementwise_affine=True)\n",
       "      (rbf): RadialBasisFunction()\n",
       "      (spline_linear): SplineLinear(in_features=512, out_features=32, bias=False)\n",
       "      (base_linear): Linear(in_features=64, out_features=32, bias=True)\n",
       "    )\n",
       "    (3): FastKANLayer(\n",
       "      (layernorm): LayerNorm((32,), eps=1e-05, elementwise_affine=True)\n",
       "      (rbf): RadialBasisFunction()\n",
       "      (spline_linear): SplineLinear(in_features=256, out_features=3, bias=False)\n",
       "      (base_linear): Linear(in_features=32, out_features=3, bias=True)\n",
       "    )\n",
       "  )\n",
       ")"
      ]
     },
     "execution_count": 10,
     "metadata": {},
     "output_type": "execute_result"
    }
   ],
   "source": [
    "model = KAN([164*164*3, 164, 64, 32, 3])\n",
    "\n",
    "device = torch.device(\"cuda\" if torch.cuda.is_available() else \"cpu\")\n",
    "model.to(device)"
   ]
  },
  {
   "cell_type": "code",
   "execution_count": 11,
   "id": "a857d38f-e9ce-4fe0-819f-eeec61a089a9",
   "metadata": {},
   "outputs": [],
   "source": [
    "num_epoch = 250\n",
    "learning_rate = 0.001\n",
    "\n",
    "optimizer = optim.Adam(model.parameters(), lr=learning_rate)\n",
    "scheduler = optim.lr_scheduler.StepLR(optimizer, step_size=50, gamma=0.1)\n",
    "\n",
    "loss_fn = nn.CrossEntropyLoss()"
   ]
  },
  {
   "cell_type": "code",
   "execution_count": 12,
   "id": "8c0f4a1d-6db3-4b12-b067-1be178fcdce5",
   "metadata": {
    "scrolled": true
   },
   "outputs": [
    {
     "name": "stdout",
     "output_type": "stream",
     "text": [
      "Época 1/250 - Perda no treinamento: 0.650971 - Acurácia: 0.9091 - LR: 0.001\n",
      "Época 2/250 - Perda no treinamento: 0.425723 - Acurácia: 0.9091 - LR: 0.001\n",
      "Época 3/250 - Perda no treinamento: 0.382062 - Acurácia: 0.8182 - LR: 0.001\n",
      "Época 4/250 - Perda no treinamento: 0.333077 - Acurácia: 0.7273 - LR: 0.001\n",
      "Época 5/250 - Perda no treinamento: 0.317591 - Acurácia: 0.9091 - LR: 0.001\n",
      "Época 6/250 - Perda no treinamento: 0.332652 - Acurácia: 0.7273 - LR: 0.001\n",
      "Época 7/250 - Perda no treinamento: 0.295038 - Acurácia: 1.0000 - LR: 0.001\n",
      "Época 8/250 - Perda no treinamento: 0.285657 - Acurácia: 1.0000 - LR: 0.001\n",
      "Época 9/250 - Perda no treinamento: 0.278043 - Acurácia: 0.9091 - LR: 0.001\n",
      "Época 10/250 - Perda no treinamento: 0.272340 - Acurácia: 0.9091 - LR: 0.001\n",
      "Época 11/250 - Perda no treinamento: 0.255430 - Acurácia: 1.0000 - LR: 0.001\n",
      "Época 12/250 - Perda no treinamento: 0.256998 - Acurácia: 0.9091 - LR: 0.001\n",
      "Época 13/250 - Perda no treinamento: 0.251493 - Acurácia: 1.0000 - LR: 0.001\n",
      "Época 14/250 - Perda no treinamento: 0.254217 - Acurácia: 1.0000 - LR: 0.001\n",
      "Época 15/250 - Perda no treinamento: 0.248743 - Acurácia: 0.8182 - LR: 0.001\n",
      "Época 16/250 - Perda no treinamento: 0.239235 - Acurácia: 0.9091 - LR: 0.001\n",
      "Época 17/250 - Perda no treinamento: 0.243630 - Acurácia: 1.0000 - LR: 0.001\n",
      "Época 18/250 - Perda no treinamento: 0.232678 - Acurácia: 1.0000 - LR: 0.001\n",
      "Época 19/250 - Perda no treinamento: 0.219896 - Acurácia: 1.0000 - LR: 0.001\n",
      "Época 20/250 - Perda no treinamento: 0.221237 - Acurácia: 0.8182 - LR: 0.001\n",
      "Época 21/250 - Perda no treinamento: 0.230866 - Acurácia: 1.0000 - LR: 0.001\n",
      "Época 22/250 - Perda no treinamento: 0.224187 - Acurácia: 0.8182 - LR: 0.001\n",
      "Época 23/250 - Perda no treinamento: 0.213229 - Acurácia: 0.9091 - LR: 0.001\n",
      "Época 24/250 - Perda no treinamento: 0.219388 - Acurácia: 1.0000 - LR: 0.001\n",
      "Época 25/250 - Perda no treinamento: 0.219108 - Acurácia: 0.7273 - LR: 0.001\n",
      "Época 26/250 - Perda no treinamento: 0.219558 - Acurácia: 0.9091 - LR: 0.001\n",
      "Época 27/250 - Perda no treinamento: 0.199942 - Acurácia: 0.9091 - LR: 0.001\n",
      "Época 28/250 - Perda no treinamento: 0.205302 - Acurácia: 0.9091 - LR: 0.001\n",
      "Época 29/250 - Perda no treinamento: 0.203342 - Acurácia: 0.9091 - LR: 0.001\n",
      "Época 30/250 - Perda no treinamento: 0.216075 - Acurácia: 0.8182 - LR: 0.001\n",
      "Época 31/250 - Perda no treinamento: 0.191129 - Acurácia: 1.0000 - LR: 0.001\n",
      "Época 32/250 - Perda no treinamento: 0.201106 - Acurácia: 0.8182 - LR: 0.001\n",
      "Época 33/250 - Perda no treinamento: 0.201988 - Acurácia: 0.9091 - LR: 0.001\n",
      "Época 34/250 - Perda no treinamento: 0.195128 - Acurácia: 0.9091 - LR: 0.001\n",
      "Época 35/250 - Perda no treinamento: 0.199933 - Acurácia: 1.0000 - LR: 0.001\n",
      "Época 36/250 - Perda no treinamento: 0.190140 - Acurácia: 0.9091 - LR: 0.001\n",
      "Época 37/250 - Perda no treinamento: 0.189637 - Acurácia: 1.0000 - LR: 0.001\n",
      "Época 38/250 - Perda no treinamento: 0.184179 - Acurácia: 0.9091 - LR: 0.001\n",
      "Época 39/250 - Perda no treinamento: 0.189296 - Acurácia: 0.9091 - LR: 0.001\n",
      "Época 40/250 - Perda no treinamento: 0.187725 - Acurácia: 1.0000 - LR: 0.001\n",
      "Época 41/250 - Perda no treinamento: 0.184915 - Acurácia: 1.0000 - LR: 0.001\n",
      "Época 42/250 - Perda no treinamento: 0.187863 - Acurácia: 1.0000 - LR: 0.001\n",
      "Época 43/250 - Perda no treinamento: 0.184390 - Acurácia: 0.9091 - LR: 0.001\n",
      "Época 44/250 - Perda no treinamento: 0.186272 - Acurácia: 1.0000 - LR: 0.001\n",
      "Época 45/250 - Perda no treinamento: 0.192548 - Acurácia: 0.9091 - LR: 0.001\n",
      "Época 46/250 - Perda no treinamento: 0.182198 - Acurácia: 0.9091 - LR: 0.001\n",
      "Época 47/250 - Perda no treinamento: 0.180767 - Acurácia: 1.0000 - LR: 0.001\n",
      "Época 48/250 - Perda no treinamento: 0.176199 - Acurácia: 0.9091 - LR: 0.001\n",
      "Época 49/250 - Perda no treinamento: 0.173046 - Acurácia: 0.9091 - LR: 0.001\n",
      "Época 50/250 - Perda no treinamento: 0.169389 - Acurácia: 1.0000 - LR: 0.0001\n",
      "Época 51/250 - Perda no treinamento: 0.155205 - Acurácia: 1.0000 - LR: 0.0001\n",
      "Época 52/250 - Perda no treinamento: 0.145597 - Acurácia: 0.9091 - LR: 0.0001\n",
      "Época 53/250 - Perda no treinamento: 0.143383 - Acurácia: 1.0000 - LR: 0.0001\n",
      "Época 54/250 - Perda no treinamento: 0.142359 - Acurácia: 1.0000 - LR: 0.0001\n",
      "Época 55/250 - Perda no treinamento: 0.139567 - Acurácia: 1.0000 - LR: 0.0001\n",
      "Época 56/250 - Perda no treinamento: 0.144158 - Acurácia: 1.0000 - LR: 0.0001\n",
      "Época 57/250 - Perda no treinamento: 0.143906 - Acurácia: 1.0000 - LR: 0.0001\n",
      "Época 58/250 - Perda no treinamento: 0.136127 - Acurácia: 1.0000 - LR: 0.0001\n",
      "Época 59/250 - Perda no treinamento: 0.138318 - Acurácia: 0.9091 - LR: 0.0001\n",
      "Época 60/250 - Perda no treinamento: 0.134881 - Acurácia: 0.9091 - LR: 0.0001\n",
      "Época 61/250 - Perda no treinamento: 0.139296 - Acurácia: 0.9091 - LR: 0.0001\n",
      "Época 62/250 - Perda no treinamento: 0.138371 - Acurácia: 1.0000 - LR: 0.0001\n",
      "Época 63/250 - Perda no treinamento: 0.129591 - Acurácia: 0.9091 - LR: 0.0001\n",
      "Época 64/250 - Perda no treinamento: 0.130751 - Acurácia: 1.0000 - LR: 0.0001\n",
      "Época 65/250 - Perda no treinamento: 0.132336 - Acurácia: 1.0000 - LR: 0.0001\n",
      "Época 66/250 - Perda no treinamento: 0.131602 - Acurácia: 0.9091 - LR: 0.0001\n",
      "Época 67/250 - Perda no treinamento: 0.132129 - Acurácia: 1.0000 - LR: 0.0001\n",
      "Época 68/250 - Perda no treinamento: 0.125864 - Acurácia: 0.8182 - LR: 0.0001\n",
      "Época 69/250 - Perda no treinamento: 0.129557 - Acurácia: 0.9091 - LR: 0.0001\n",
      "Época 70/250 - Perda no treinamento: 0.128191 - Acurácia: 1.0000 - LR: 0.0001\n",
      "Época 71/250 - Perda no treinamento: 0.128935 - Acurácia: 0.9091 - LR: 0.0001\n",
      "Época 72/250 - Perda no treinamento: 0.132597 - Acurácia: 1.0000 - LR: 0.0001\n",
      "Época 73/250 - Perda no treinamento: 0.125373 - Acurácia: 0.9091 - LR: 0.0001\n",
      "Época 74/250 - Perda no treinamento: 0.127396 - Acurácia: 0.9091 - LR: 0.0001\n",
      "Época 75/250 - Perda no treinamento: 0.132885 - Acurácia: 1.0000 - LR: 0.0001\n",
      "Época 76/250 - Perda no treinamento: 0.130109 - Acurácia: 0.9091 - LR: 0.0001\n",
      "Época 77/250 - Perda no treinamento: 0.122965 - Acurácia: 1.0000 - LR: 0.0001\n",
      "Época 78/250 - Perda no treinamento: 0.125505 - Acurácia: 0.9091 - LR: 0.0001\n",
      "Época 79/250 - Perda no treinamento: 0.129657 - Acurácia: 1.0000 - LR: 0.0001\n",
      "Época 80/250 - Perda no treinamento: 0.131335 - Acurácia: 0.6364 - LR: 0.0001\n",
      "Época 81/250 - Perda no treinamento: 0.126067 - Acurácia: 0.8182 - LR: 0.0001\n",
      "Época 82/250 - Perda no treinamento: 0.127907 - Acurácia: 0.9091 - LR: 0.0001\n",
      "Época 83/250 - Perda no treinamento: 0.126051 - Acurácia: 0.8182 - LR: 0.0001\n",
      "Época 84/250 - Perda no treinamento: 0.123034 - Acurácia: 0.9091 - LR: 0.0001\n",
      "Época 85/250 - Perda no treinamento: 0.125588 - Acurácia: 1.0000 - LR: 0.0001\n",
      "Época 86/250 - Perda no treinamento: 0.120627 - Acurácia: 1.0000 - LR: 0.0001\n",
      "Época 87/250 - Perda no treinamento: 0.124243 - Acurácia: 1.0000 - LR: 0.0001\n",
      "Época 88/250 - Perda no treinamento: 0.126152 - Acurácia: 0.8182 - LR: 0.0001\n",
      "Época 89/250 - Perda no treinamento: 0.124670 - Acurácia: 0.9091 - LR: 0.0001\n",
      "Época 90/250 - Perda no treinamento: 0.123695 - Acurácia: 0.9091 - LR: 0.0001\n",
      "Época 91/250 - Perda no treinamento: 0.124061 - Acurácia: 1.0000 - LR: 0.0001\n",
      "Época 92/250 - Perda no treinamento: 0.125840 - Acurácia: 0.8182 - LR: 0.0001\n",
      "Época 93/250 - Perda no treinamento: 0.125350 - Acurácia: 1.0000 - LR: 0.0001\n",
      "Época 94/250 - Perda no treinamento: 0.117885 - Acurácia: 1.0000 - LR: 0.0001\n",
      "Época 95/250 - Perda no treinamento: 0.124077 - Acurácia: 0.9091 - LR: 0.0001\n",
      "Época 96/250 - Perda no treinamento: 0.125398 - Acurácia: 1.0000 - LR: 0.0001\n",
      "Época 97/250 - Perda no treinamento: 0.118027 - Acurácia: 1.0000 - LR: 0.0001\n",
      "Época 98/250 - Perda no treinamento: 0.120464 - Acurácia: 1.0000 - LR: 0.0001\n",
      "Época 99/250 - Perda no treinamento: 0.122698 - Acurácia: 1.0000 - LR: 0.0001\n",
      "Época 100/250 - Perda no treinamento: 0.116631 - Acurácia: 1.0000 - LR: 1e-05\n",
      "Época 101/250 - Perda no treinamento: 0.121088 - Acurácia: 1.0000 - LR: 1e-05\n",
      "Época 102/250 - Perda no treinamento: 0.117213 - Acurácia: 0.9091 - LR: 1e-05\n",
      "Época 103/250 - Perda no treinamento: 0.113437 - Acurácia: 1.0000 - LR: 1e-05\n",
      "Época 104/250 - Perda no treinamento: 0.122338 - Acurácia: 0.9091 - LR: 1e-05\n",
      "Época 105/250 - Perda no treinamento: 0.116482 - Acurácia: 1.0000 - LR: 1e-05\n",
      "Época 106/250 - Perda no treinamento: 0.117342 - Acurácia: 0.9091 - LR: 1e-05\n",
      "Época 107/250 - Perda no treinamento: 0.115117 - Acurácia: 1.0000 - LR: 1e-05\n",
      "Época 108/250 - Perda no treinamento: 0.115184 - Acurácia: 1.0000 - LR: 1e-05\n",
      "Época 109/250 - Perda no treinamento: 0.115748 - Acurácia: 0.9091 - LR: 1e-05\n",
      "Época 110/250 - Perda no treinamento: 0.116635 - Acurácia: 0.9091 - LR: 1e-05\n",
      "Época 111/250 - Perda no treinamento: 0.116894 - Acurácia: 0.9091 - LR: 1e-05\n",
      "Época 112/250 - Perda no treinamento: 0.116487 - Acurácia: 0.9091 - LR: 1e-05\n",
      "Época 113/250 - Perda no treinamento: 0.112887 - Acurácia: 0.9091 - LR: 1e-05\n",
      "Época 114/250 - Perda no treinamento: 0.111660 - Acurácia: 1.0000 - LR: 1e-05\n",
      "Época 115/250 - Perda no treinamento: 0.117866 - Acurácia: 0.9091 - LR: 1e-05\n",
      "Época 116/250 - Perda no treinamento: 0.114101 - Acurácia: 1.0000 - LR: 1e-05\n",
      "Época 117/250 - Perda no treinamento: 0.114891 - Acurácia: 1.0000 - LR: 1e-05\n",
      "Época 118/250 - Perda no treinamento: 0.116577 - Acurácia: 0.9091 - LR: 1e-05\n",
      "Época 119/250 - Perda no treinamento: 0.115577 - Acurácia: 1.0000 - LR: 1e-05\n",
      "Época 120/250 - Perda no treinamento: 0.116217 - Acurácia: 1.0000 - LR: 1e-05\n",
      "Época 121/250 - Perda no treinamento: 0.120251 - Acurácia: 1.0000 - LR: 1e-05\n",
      "Época 122/250 - Perda no treinamento: 0.113255 - Acurácia: 1.0000 - LR: 1e-05\n",
      "Época 123/250 - Perda no treinamento: 0.116702 - Acurácia: 1.0000 - LR: 1e-05\n",
      "Época 124/250 - Perda no treinamento: 0.113923 - Acurácia: 0.8182 - LR: 1e-05\n",
      "Época 125/250 - Perda no treinamento: 0.114656 - Acurácia: 1.0000 - LR: 1e-05\n",
      "Época 126/250 - Perda no treinamento: 0.112024 - Acurácia: 0.9091 - LR: 1e-05\n",
      "Época 127/250 - Perda no treinamento: 0.119575 - Acurácia: 1.0000 - LR: 1e-05\n",
      "Época 128/250 - Perda no treinamento: 0.115634 - Acurácia: 1.0000 - LR: 1e-05\n",
      "Época 129/250 - Perda no treinamento: 0.120082 - Acurácia: 0.8182 - LR: 1e-05\n",
      "Época 130/250 - Perda no treinamento: 0.118815 - Acurácia: 1.0000 - LR: 1e-05\n",
      "Época 131/250 - Perda no treinamento: 0.118147 - Acurácia: 1.0000 - LR: 1e-05\n",
      "Época 132/250 - Perda no treinamento: 0.118260 - Acurácia: 1.0000 - LR: 1e-05\n",
      "Época 133/250 - Perda no treinamento: 0.117518 - Acurácia: 0.9091 - LR: 1e-05\n",
      "Época 134/250 - Perda no treinamento: 0.118472 - Acurácia: 1.0000 - LR: 1e-05\n",
      "Época 135/250 - Perda no treinamento: 0.114489 - Acurácia: 1.0000 - LR: 1e-05\n",
      "Época 136/250 - Perda no treinamento: 0.117036 - Acurácia: 0.9091 - LR: 1e-05\n",
      "Época 137/250 - Perda no treinamento: 0.110623 - Acurácia: 0.9091 - LR: 1e-05\n",
      "Época 138/250 - Perda no treinamento: 0.115657 - Acurácia: 0.9091 - LR: 1e-05\n",
      "Época 139/250 - Perda no treinamento: 0.113621 - Acurácia: 0.9091 - LR: 1e-05\n",
      "Época 140/250 - Perda no treinamento: 0.116379 - Acurácia: 1.0000 - LR: 1e-05\n",
      "Época 141/250 - Perda no treinamento: 0.116427 - Acurácia: 0.7273 - LR: 1e-05\n",
      "Época 142/250 - Perda no treinamento: 0.112103 - Acurácia: 1.0000 - LR: 1e-05\n",
      "Época 143/250 - Perda no treinamento: 0.121224 - Acurácia: 0.9091 - LR: 1e-05\n",
      "Época 144/250 - Perda no treinamento: 0.114511 - Acurácia: 1.0000 - LR: 1e-05\n",
      "Época 145/250 - Perda no treinamento: 0.116064 - Acurácia: 0.9091 - LR: 1e-05\n",
      "Época 146/250 - Perda no treinamento: 0.114313 - Acurácia: 0.8182 - LR: 1e-05\n",
      "Época 147/250 - Perda no treinamento: 0.116854 - Acurácia: 0.9091 - LR: 1e-05\n",
      "Época 148/250 - Perda no treinamento: 0.114798 - Acurácia: 1.0000 - LR: 1e-05\n",
      "Época 149/250 - Perda no treinamento: 0.121830 - Acurácia: 0.8182 - LR: 1e-05\n",
      "Época 150/250 - Perda no treinamento: 0.114302 - Acurácia: 0.9091 - LR: 1.0000000000000002e-06\n",
      "Época 151/250 - Perda no treinamento: 0.109888 - Acurácia: 1.0000 - LR: 1.0000000000000002e-06\n",
      "Época 152/250 - Perda no treinamento: 0.118113 - Acurácia: 1.0000 - LR: 1.0000000000000002e-06\n",
      "Época 153/250 - Perda no treinamento: 0.115201 - Acurácia: 1.0000 - LR: 1.0000000000000002e-06\n",
      "Época 154/250 - Perda no treinamento: 0.115165 - Acurácia: 0.9091 - LR: 1.0000000000000002e-06\n",
      "Época 155/250 - Perda no treinamento: 0.115677 - Acurácia: 1.0000 - LR: 1.0000000000000002e-06\n",
      "Época 156/250 - Perda no treinamento: 0.117285 - Acurácia: 1.0000 - LR: 1.0000000000000002e-06\n",
      "Época 157/250 - Perda no treinamento: 0.117037 - Acurácia: 0.9091 - LR: 1.0000000000000002e-06\n",
      "Época 158/250 - Perda no treinamento: 0.115189 - Acurácia: 1.0000 - LR: 1.0000000000000002e-06\n",
      "Época 159/250 - Perda no treinamento: 0.118971 - Acurácia: 0.9091 - LR: 1.0000000000000002e-06\n",
      "Época 160/250 - Perda no treinamento: 0.116108 - Acurácia: 0.8182 - LR: 1.0000000000000002e-06\n",
      "Época 161/250 - Perda no treinamento: 0.114239 - Acurácia: 0.9091 - LR: 1.0000000000000002e-06\n",
      "Época 162/250 - Perda no treinamento: 0.114947 - Acurácia: 1.0000 - LR: 1.0000000000000002e-06\n",
      "Época 163/250 - Perda no treinamento: 0.112550 - Acurácia: 0.9091 - LR: 1.0000000000000002e-06\n",
      "Época 164/250 - Perda no treinamento: 0.112142 - Acurácia: 0.9091 - LR: 1.0000000000000002e-06\n",
      "Época 165/250 - Perda no treinamento: 0.116017 - Acurácia: 0.9091 - LR: 1.0000000000000002e-06\n",
      "Época 166/250 - Perda no treinamento: 0.117134 - Acurácia: 0.9091 - LR: 1.0000000000000002e-06\n",
      "Época 167/250 - Perda no treinamento: 0.115856 - Acurácia: 1.0000 - LR: 1.0000000000000002e-06\n",
      "Época 168/250 - Perda no treinamento: 0.114645 - Acurácia: 0.9091 - LR: 1.0000000000000002e-06\n",
      "Época 169/250 - Perda no treinamento: 0.119129 - Acurácia: 0.9091 - LR: 1.0000000000000002e-06\n",
      "Época 170/250 - Perda no treinamento: 0.116270 - Acurácia: 0.9091 - LR: 1.0000000000000002e-06\n",
      "Época 171/250 - Perda no treinamento: 0.117256 - Acurácia: 0.9091 - LR: 1.0000000000000002e-06\n",
      "Época 172/250 - Perda no treinamento: 0.111707 - Acurácia: 0.8182 - LR: 1.0000000000000002e-06\n",
      "Época 173/250 - Perda no treinamento: 0.115988 - Acurácia: 1.0000 - LR: 1.0000000000000002e-06\n",
      "Época 174/250 - Perda no treinamento: 0.116173 - Acurácia: 1.0000 - LR: 1.0000000000000002e-06\n",
      "Época 175/250 - Perda no treinamento: 0.110689 - Acurácia: 0.9091 - LR: 1.0000000000000002e-06\n",
      "Época 176/250 - Perda no treinamento: 0.115309 - Acurácia: 1.0000 - LR: 1.0000000000000002e-06\n",
      "Época 177/250 - Perda no treinamento: 0.111453 - Acurácia: 1.0000 - LR: 1.0000000000000002e-06\n",
      "Época 178/250 - Perda no treinamento: 0.113818 - Acurácia: 1.0000 - LR: 1.0000000000000002e-06\n",
      "Época 179/250 - Perda no treinamento: 0.116510 - Acurácia: 0.9091 - LR: 1.0000000000000002e-06\n",
      "Época 180/250 - Perda no treinamento: 0.115542 - Acurácia: 0.8182 - LR: 1.0000000000000002e-06\n",
      "Época 181/250 - Perda no treinamento: 0.121118 - Acurácia: 1.0000 - LR: 1.0000000000000002e-06\n",
      "Época 182/250 - Perda no treinamento: 0.115466 - Acurácia: 0.8182 - LR: 1.0000000000000002e-06\n",
      "Época 183/250 - Perda no treinamento: 0.124547 - Acurácia: 1.0000 - LR: 1.0000000000000002e-06\n",
      "Época 184/250 - Perda no treinamento: 0.115074 - Acurácia: 1.0000 - LR: 1.0000000000000002e-06\n",
      "Época 185/250 - Perda no treinamento: 0.117695 - Acurácia: 1.0000 - LR: 1.0000000000000002e-06\n",
      "Época 186/250 - Perda no treinamento: 0.113481 - Acurácia: 1.0000 - LR: 1.0000000000000002e-06\n",
      "Época 187/250 - Perda no treinamento: 0.110598 - Acurácia: 1.0000 - LR: 1.0000000000000002e-06\n",
      "Época 188/250 - Perda no treinamento: 0.110561 - Acurácia: 1.0000 - LR: 1.0000000000000002e-06\n",
      "Época 189/250 - Perda no treinamento: 0.113617 - Acurácia: 1.0000 - LR: 1.0000000000000002e-06\n",
      "Época 190/250 - Perda no treinamento: 0.114512 - Acurácia: 1.0000 - LR: 1.0000000000000002e-06\n",
      "Época 191/250 - Perda no treinamento: 0.117099 - Acurácia: 1.0000 - LR: 1.0000000000000002e-06\n",
      "Época 192/250 - Perda no treinamento: 0.115449 - Acurácia: 0.9091 - LR: 1.0000000000000002e-06\n",
      "Época 193/250 - Perda no treinamento: 0.114281 - Acurácia: 1.0000 - LR: 1.0000000000000002e-06\n",
      "Época 194/250 - Perda no treinamento: 0.113272 - Acurácia: 0.8182 - LR: 1.0000000000000002e-06\n",
      "Época 195/250 - Perda no treinamento: 0.116579 - Acurácia: 0.9091 - LR: 1.0000000000000002e-06\n",
      "Época 196/250 - Perda no treinamento: 0.118278 - Acurácia: 1.0000 - LR: 1.0000000000000002e-06\n",
      "Época 197/250 - Perda no treinamento: 0.113479 - Acurácia: 1.0000 - LR: 1.0000000000000002e-06\n",
      "Época 198/250 - Perda no treinamento: 0.116243 - Acurácia: 1.0000 - LR: 1.0000000000000002e-06\n",
      "Época 199/250 - Perda no treinamento: 0.110910 - Acurácia: 1.0000 - LR: 1.0000000000000002e-06\n",
      "Época 200/250 - Perda no treinamento: 0.114893 - Acurácia: 1.0000 - LR: 1.0000000000000002e-07\n",
      "Época 201/250 - Perda no treinamento: 0.111833 - Acurácia: 0.9091 - LR: 1.0000000000000002e-07\n",
      "Época 202/250 - Perda no treinamento: 0.109486 - Acurácia: 0.9091 - LR: 1.0000000000000002e-07\n",
      "Época 203/250 - Perda no treinamento: 0.117827 - Acurácia: 1.0000 - LR: 1.0000000000000002e-07\n",
      "Época 204/250 - Perda no treinamento: 0.113366 - Acurácia: 1.0000 - LR: 1.0000000000000002e-07\n",
      "Época 205/250 - Perda no treinamento: 0.117910 - Acurácia: 0.8182 - LR: 1.0000000000000002e-07\n",
      "Época 206/250 - Perda no treinamento: 0.119412 - Acurácia: 0.9091 - LR: 1.0000000000000002e-07\n",
      "Época 207/250 - Perda no treinamento: 0.118380 - Acurácia: 1.0000 - LR: 1.0000000000000002e-07\n",
      "Época 208/250 - Perda no treinamento: 0.110870 - Acurácia: 1.0000 - LR: 1.0000000000000002e-07\n",
      "Época 209/250 - Perda no treinamento: 0.114006 - Acurácia: 0.9091 - LR: 1.0000000000000002e-07\n",
      "Época 210/250 - Perda no treinamento: 0.114274 - Acurácia: 1.0000 - LR: 1.0000000000000002e-07\n",
      "Época 211/250 - Perda no treinamento: 0.112914 - Acurácia: 1.0000 - LR: 1.0000000000000002e-07\n",
      "Época 212/250 - Perda no treinamento: 0.113801 - Acurácia: 1.0000 - LR: 1.0000000000000002e-07\n",
      "Época 213/250 - Perda no treinamento: 0.114700 - Acurácia: 1.0000 - LR: 1.0000000000000002e-07\n",
      "Época 214/250 - Perda no treinamento: 0.115564 - Acurácia: 1.0000 - LR: 1.0000000000000002e-07\n",
      "Época 215/250 - Perda no treinamento: 0.117579 - Acurácia: 0.9091 - LR: 1.0000000000000002e-07\n",
      "Época 216/250 - Perda no treinamento: 0.113157 - Acurácia: 1.0000 - LR: 1.0000000000000002e-07\n",
      "Época 217/250 - Perda no treinamento: 0.114034 - Acurácia: 1.0000 - LR: 1.0000000000000002e-07\n",
      "Época 218/250 - Perda no treinamento: 0.113441 - Acurácia: 1.0000 - LR: 1.0000000000000002e-07\n",
      "Época 219/250 - Perda no treinamento: 0.115740 - Acurácia: 0.9091 - LR: 1.0000000000000002e-07\n",
      "Época 220/250 - Perda no treinamento: 0.118067 - Acurácia: 0.7273 - LR: 1.0000000000000002e-07\n",
      "Época 221/250 - Perda no treinamento: 0.123723 - Acurácia: 0.9091 - LR: 1.0000000000000002e-07\n",
      "Época 222/250 - Perda no treinamento: 0.116674 - Acurácia: 1.0000 - LR: 1.0000000000000002e-07\n",
      "Época 223/250 - Perda no treinamento: 0.116012 - Acurácia: 1.0000 - LR: 1.0000000000000002e-07\n",
      "Época 224/250 - Perda no treinamento: 0.118357 - Acurácia: 1.0000 - LR: 1.0000000000000002e-07\n",
      "Época 225/250 - Perda no treinamento: 0.112189 - Acurácia: 1.0000 - LR: 1.0000000000000002e-07\n",
      "Época 226/250 - Perda no treinamento: 0.115560 - Acurácia: 1.0000 - LR: 1.0000000000000002e-07\n",
      "Época 227/250 - Perda no treinamento: 0.115897 - Acurácia: 1.0000 - LR: 1.0000000000000002e-07\n",
      "Época 228/250 - Perda no treinamento: 0.111094 - Acurácia: 0.9091 - LR: 1.0000000000000002e-07\n",
      "Época 229/250 - Perda no treinamento: 0.117246 - Acurácia: 0.8182 - LR: 1.0000000000000002e-07\n",
      "Época 230/250 - Perda no treinamento: 0.116681 - Acurácia: 1.0000 - LR: 1.0000000000000002e-07\n",
      "Época 231/250 - Perda no treinamento: 0.120970 - Acurácia: 0.8182 - LR: 1.0000000000000002e-07\n",
      "Época 232/250 - Perda no treinamento: 0.111370 - Acurácia: 1.0000 - LR: 1.0000000000000002e-07\n",
      "Época 233/250 - Perda no treinamento: 0.117621 - Acurácia: 0.9091 - LR: 1.0000000000000002e-07\n",
      "Época 234/250 - Perda no treinamento: 0.112628 - Acurácia: 1.0000 - LR: 1.0000000000000002e-07\n",
      "Época 235/250 - Perda no treinamento: 0.116494 - Acurácia: 1.0000 - LR: 1.0000000000000002e-07\n",
      "Época 236/250 - Perda no treinamento: 0.117681 - Acurácia: 0.8182 - LR: 1.0000000000000002e-07\n",
      "Época 237/250 - Perda no treinamento: 0.113847 - Acurácia: 1.0000 - LR: 1.0000000000000002e-07\n",
      "Época 238/250 - Perda no treinamento: 0.119525 - Acurácia: 0.8182 - LR: 1.0000000000000002e-07\n",
      "Época 239/250 - Perda no treinamento: 0.114714 - Acurácia: 1.0000 - LR: 1.0000000000000002e-07\n",
      "Época 240/250 - Perda no treinamento: 0.113312 - Acurácia: 1.0000 - LR: 1.0000000000000002e-07\n",
      "Época 241/250 - Perda no treinamento: 0.114766 - Acurácia: 0.8182 - LR: 1.0000000000000002e-07\n",
      "Época 242/250 - Perda no treinamento: 0.118453 - Acurácia: 0.9091 - LR: 1.0000000000000002e-07\n",
      "Época 243/250 - Perda no treinamento: 0.114431 - Acurácia: 1.0000 - LR: 1.0000000000000002e-07\n",
      "Época 244/250 - Perda no treinamento: 0.113926 - Acurácia: 1.0000 - LR: 1.0000000000000002e-07\n",
      "Época 245/250 - Perda no treinamento: 0.111940 - Acurácia: 1.0000 - LR: 1.0000000000000002e-07\n",
      "Época 246/250 - Perda no treinamento: 0.113398 - Acurácia: 1.0000 - LR: 1.0000000000000002e-07\n",
      "Época 247/250 - Perda no treinamento: 0.112349 - Acurácia: 1.0000 - LR: 1.0000000000000002e-07\n",
      "Época 248/250 - Perda no treinamento: 0.117156 - Acurácia: 1.0000 - LR: 1.0000000000000002e-07\n",
      "Época 249/250 - Perda no treinamento: 0.111780 - Acurácia: 1.0000 - LR: 1.0000000000000002e-07\n",
      "Época 250/250 - Perda no treinamento: 0.118511 - Acurácia: 0.9091 - LR: 1.0000000000000004e-08\n",
      "\n",
      "Tempo total de treinamento: 41664.31 segundos\n"
     ]
    }
   ],
   "source": [
    "train_losses = []\n",
    "train_acc = []\n",
    "\n",
    "training_start_time = time.time()\n",
    "\n",
    "for epoch in range(num_epoch):\n",
    "    model.train()\n",
    "    running_train_loss = 0.0\n",
    "\n",
    "    for inputs, labels in train_loader:\n",
    "        inputs = inputs.view(-1, 164*164*3).to(device)\n",
    "        labels = labels.to(device)\n",
    "    \n",
    "        optimizer.zero_grad()\n",
    "        outputs = model(inputs)\n",
    "\n",
    "        loss = loss_fn(outputs, labels)\n",
    "        loss.backward()\n",
    "        optimizer.step()\n",
    "        running_train_loss += loss.item()\n",
    "\n",
    "    scheduler.step()\n",
    "\n",
    "    train_loss = running_train_loss / len(train_loader)\n",
    "    train_losses.append(train_loss)\n",
    "\n",
    "    _, predicted = torch.max(outputs.data, 1)\n",
    "\n",
    "    acc = accuracy_score(labels.cpu().detach().numpy(), predicted.cpu().detach().numpy())\n",
    "    train_acc.append(acc)\n",
    "\n",
    "    print(f\"Época {epoch + 1}/{num_epoch} - Perda no treinamento: {train_loss:.6f} - Acurácia: {acc:.4f} - LR: {scheduler.get_last_lr()[0]}\")\n",
    "\n",
    "training_time = time.time() - training_start_time\n",
    "print(f\"\\nTempo total de treinamento: {training_time:.2f} segundos\")"
   ]
  },
  {
   "cell_type": "code",
   "execution_count": 13,
   "id": "18e4c7b6-1f32-4e52-a03d-3a5029dc63e3",
   "metadata": {},
   "outputs": [
    {
     "data": {
      "text/plain": [
       "Text(0.5, 0.98, 'Treinamento')"
      ]
     },
     "execution_count": 13,
     "metadata": {},
     "output_type": "execute_result"
    },
    {
     "data": {
      "image/png": "[encoded data removed]",
      "text/plain": [
       "<Figure size 1200x500 with 2 Axes>"
      ]
     },
     "metadata": {},
     "output_type": "display_data"
    }
   ],
   "source": [
    "epochs = range(1, num_epoch + 1)\n",
    "\n",
    "plt.figure(figsize=(12, 5))\n",
    "\n",
    "plt.subplot(1, 2, 1)\n",
    "plt.plot(epochs, train_losses, 'bo-')\n",
    "plt.xlabel('Épocas')\n",
    "plt.ylabel('Perda')\n",
    "\n",
    "plt.subplot(1, 2, 2)\n",
    "plt.plot(epochs, train_acc, 'ro-')\n",
    "plt.xlabel('Épocas')\n",
    "plt.ylabel('Acurácia')\n",
    "\n",
    "plt.suptitle(\"Treinamento\", fontsize = 20)"
   ]
  },
  {
   "cell_type": "code",
   "execution_count": 14,
   "id": "caf03529-17f1-4eb5-8304-dfebd3f516ce",
   "metadata": {},
   "outputs": [
    {
     "name": "stdout",
     "output_type": "stream",
     "text": [
      "!!!Teste finalizado!!!\n"
     ]
    }
   ],
   "source": [
    "rot_array = []\n",
    "predt_array = []\n",
    "\n",
    "model.eval()\n",
    "    \n",
    "with torch.no_grad():\n",
    "        \n",
    "    for images, labels in test_loader:\n",
    "        images = images.view(-1, 164*164*3).to(device)\n",
    "        labels = labels.to(device)\n",
    "        \n",
    "        outputs = model(images)\n",
    "        _, predicted = torch.max(outputs.data, 1)\n",
    "\n",
    "        rot_array.extend(labels.cpu().detach().numpy())\n",
    "        predt_array.extend(predicted.cpu().detach().numpy())\n",
    "        \n",
    "print(\"!!!Teste finalizado!!!\")"
   ]
  },
  {
   "cell_type": "code",
   "execution_count": 15,
   "id": "12583bc3-1cfa-4a69-8b17-d5166e6e98e2",
   "metadata": {},
   "outputs": [
    {
     "data": {
      "image/png": "[encoded data removed]",
      "text/plain": [
       "<Figure size 640x480 with 2 Axes>"
      ]
     },
     "metadata": {},
     "output_type": "display_data"
    }
   ],
   "source": [
    "cm = confusion_matrix(rot_array, predt_array)\n",
    "\n",
    "disp = ConfusionMatrixDisplay(confusion_matrix=cm, display_labels=['Normal', 'Pneumonia', 'Tuberculose'])\n",
    "disp.plot(cmap=plt.cm.Blues)\n",
    "\n",
    "plt.xlabel('Rótulo previsto')\n",
    "plt.ylabel('Rótulo verdadeiro')\n",
    "plt.show()"
   ]
  },
  {
   "cell_type": "code",
   "execution_count": 16,
   "id": "2176aa50-1058-4a86-96b5-5392862aee0b",
   "metadata": {},
   "outputs": [
    {
     "name": "stdout",
     "output_type": "stream",
     "text": [
      "Acurácia: 94.41%\n"
     ]
    }
   ],
   "source": [
    "acc = accuracy_score(rot_array, predt_array)\n",
    "print(f\"Acurácia: {acc * 100 :.2f}%\")"
   ]
  },
  {
   "cell_type": "code",
   "execution_count": 17,
   "id": "43db4d50-daa3-4fb4-84de-a3356fede5f2",
   "metadata": {},
   "outputs": [
    {
     "name": "stdout",
     "output_type": "stream",
     "text": [
      "Precisão: 94.41%\n"
     ]
    }
   ],
   "source": [
    "precision = precision_score(rot_array, predt_array, average='weighted')\n",
    "print(f\"Precisão: {precision * 100 :.2f}%\")"
   ]
  },
  {
   "cell_type": "code",
   "execution_count": 18,
   "id": "0bee197d-1da7-4e51-b8e1-d580f6f0141d",
   "metadata": {},
   "outputs": [
    {
     "name": "stdout",
     "output_type": "stream",
     "text": [
      "Recall: 94.41%\n"
     ]
    }
   ],
   "source": [
    "recall = recall_score(rot_array, predt_array, average='weighted')\n",
    "print(f\"Recall: {recall * 100 :.2f}%\")"
   ]
  },
  {
   "cell_type": "code",
   "execution_count": 19,
   "id": "c1bced5b-8148-44f4-8cb7-c9da558a0899",
   "metadata": {},
   "outputs": [
    {
     "name": "stdout",
     "output_type": "stream",
     "text": [
      "F1 Score: 94.41%\n"
     ]
    }
   ],
   "source": [
    "f1 = f1_score(rot_array, predt_array, average='weighted')\n",
    "print(f\"F1 Score: {f1 * 100 :.2f}%\")"
   ]
  }
 ],
 "metadata": {
  "kernelspec": {
   "display_name": "Python 3 (ipykernel)",
   "language": "python",
   "name": "python3"
  },
  "language_info": {
   "codemirror_mode": {
    "name": "ipython",
    "version": 3
   },
   "file_extension": ".py",
   "mimetype": "text/x-python",
   "name": "python",
   "nbconvert_exporter": "python",
   "pygments_lexer": "ipython3",
   "version": "3.12.8"
  }
 },
 "nbformat": 4,
 "nbformat_minor": 5
}
