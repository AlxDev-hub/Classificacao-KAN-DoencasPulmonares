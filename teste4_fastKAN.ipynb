{
 "cells": [
  {
   "cell_type": "code",
   "execution_count": 1,
   "id": "5b75895e-1bb9-45bc-8368-18e7ebc095a1",
   "metadata": {},
   "outputs": [],
   "source": [
    "from fastkan import FastKAN as KAN\n",
    "\n",
    "import time\n",
    "import numpy as np\n",
    "import matplotlib.pyplot as plt\n",
    "\n",
    "import torch\n",
    "import torch.nn as nn\n",
    "import torch.optim as optim\n",
    "from torchvision import datasets, transforms\n",
    "from torch.utils.data import DataLoader, random_split\n",
    "\n",
    "from sklearn.metrics import *"
   ]
  },
  {
   "cell_type": "code",
   "execution_count": 2,
   "id": "e8ff8ce7-9d4e-4b34-99a0-11ddf095fe8a",
   "metadata": {},
   "outputs": [],
   "source": [
    "dataset_path = 'Dataset_Completo'"
   ]
  },
  {
   "cell_type": "code",
   "execution_count": 3,
   "id": "3704805d-8219-4ecd-a64b-29e1445d94b0",
   "metadata": {},
   "outputs": [],
   "source": [
    "transform = transforms.Compose(\n",
    "    [transforms.Resize(size = (164,164)),\n",
    "     transforms.RandomRotation(degrees=10),\n",
    "     transforms.RandomAffine(degrees=0, translate=(0.1, 0.1), scale=(0.9, 1.1), shear=10),\n",
    "     transforms.ColorJitter(brightness=0.2, contrast=0.2, saturation=0.1, hue=0.1),\n",
    "     transforms.ToTensor(),\n",
    "     transforms.Lambda(lambda x: torch.clamp(x + torch.randn_like(x) * 0.05, 0., 1.)),\n",
    "     transforms.Normalize(mean=[0.5], std=[0.5])\n",
    "    ]\n",
    ")"
   ]
  },
  {
   "cell_type": "code",
   "execution_count": 4,
   "id": "b69961e4-656a-47b0-9d8b-d3b41523ef7a",
   "metadata": {},
   "outputs": [],
   "source": [
    "dataset = datasets.ImageFolder(dataset_path, transform = transform)"
   ]
  },
  {
   "cell_type": "code",
   "execution_count": 5,
   "id": "a315013b-6338-4533-86f8-bd2196b6295c",
   "metadata": {},
   "outputs": [
    {
     "name": "stdout",
     "output_type": "stream",
     "text": [
      "Informações sobre o Dataset: \n",
      "\n",
      " Dataset ImageFolder\n",
      "    Number of datapoints: 13411\n",
      "    Root location: Dataset_Completo\n",
      "    StandardTransform\n",
      "Transform: Compose(\n",
      "               Resize(size=(164, 164), interpolation=bilinear, max_size=None, antialias=True)\n",
      "               RandomRotation(degrees=[-10.0, 10.0], interpolation=nearest, expand=False, fill=0)\n",
      "               RandomAffine(degrees=[0.0, 0.0], translate=(0.1, 0.1), scale=(0.9, 1.1), shear=[-10.0, 10.0])\n",
      "               ColorJitter(brightness=(0.8, 1.2), contrast=(0.8, 1.2), saturation=(0.9, 1.1), hue=(-0.1, 0.1))\n",
      "               ToTensor()\n",
      "               Lambda()\n",
      "               Normalize(mean=[0.5], std=[0.5])\n",
      "           )\n",
      "\n",
      "Rótulos:  {'NORMAL': 0, 'PNEUMONIA': 1, 'TUBERCULOSE': 2}\n"
     ]
    }
   ],
   "source": [
    "print(\"Informações sobre o Dataset: \\n\\n\", dataset)\n",
    "print(\"\\nRótulos: \", dataset.class_to_idx)"
   ]
  },
  {
   "cell_type": "code",
   "execution_count": 6,
   "id": "e20c2127-abec-4fd8-b2ff-7595da3efa1e",
   "metadata": {},
   "outputs": [],
   "source": [
    "train_size = int(0.7 * len(dataset))\n",
    "test_size = len(dataset) - train_size\n",
    "\n",
    "train_dataset, test_dataset = random_split(dataset, [train_size, test_size])"
   ]
  },
  {
   "cell_type": "code",
   "execution_count": 7,
   "id": "da166b3f-cb48-4bc1-bc98-9069298ac675",
   "metadata": {},
   "outputs": [],
   "source": [
    "train_loader = DataLoader(train_dataset, batch_size=32, shuffle=True)\n",
    "test_loader = DataLoader(test_dataset, batch_size=32, shuffle=False)"
   ]
  },
  {
   "cell_type": "code",
   "execution_count": 8,
   "id": "9dc5c14d-4869-4517-be58-0aeab45f41b9",
   "metadata": {},
   "outputs": [],
   "source": [
    "all_targets = []\n",
    "for images, labels in train_loader:\n",
    "    all_targets.extend(labels.tolist())\n",
    "\n",
    "nor = []\n",
    "pne = []\n",
    "tub = []\n",
    "for i in range(train_size):\n",
    "    if all_targets[i] == 0:\n",
    "        nor.append(all_targets[i])\n",
    "    elif all_targets[i] == 1:\n",
    "        pne.append(all_targets[i])\n",
    "    elif all_targets[i] == 2:\n",
    "        tub.append(all_targets[i])"
   ]
  },
  {
   "cell_type": "code",
   "execution_count": 9,
   "id": "e12899f3-e92f-4ea4-bd33-3c6625ebebd6",
   "metadata": {},
   "outputs": [
    {
     "name": "stdout",
     "output_type": "stream",
     "text": [
      "!!!Distribuição dos dados de treinamento!!!\n",
      "\n",
      "Normal:  3576\n",
      "Pneumonia:  2958\n",
      "Tuberculose:  2853\n"
     ]
    }
   ],
   "source": [
    "print(\"!!!Distribuição dos dados de treinamento!!!\\n\")\n",
    "print(\"Normal: \", len(nor))\n",
    "print(\"Pneumonia: \", len(pne))\n",
    "print(\"Tuberculose: \", len(tub))"
   ]
  },
  {
   "cell_type": "code",
   "execution_count": 10,
   "id": "5ff038ec-9b14-41f5-8e96-0ac91fe6cc21",
   "metadata": {},
   "outputs": [
    {
     "data": {
      "text/plain": [
       "FastKAN(\n",
       "  (layers): ModuleList(\n",
       "    (0): FastKANLayer(\n",
       "      (layernorm): LayerNorm((80688,), eps=1e-05, elementwise_affine=True)\n",
       "      (rbf): RadialBasisFunction()\n",
       "      (spline_linear): SplineLinear(in_features=645504, out_features=164, bias=False)\n",
       "      (base_linear): Linear(in_features=80688, out_features=164, bias=True)\n",
       "    )\n",
       "    (1): FastKANLayer(\n",
       "      (layernorm): LayerNorm((164,), eps=1e-05, elementwise_affine=True)\n",
       "      (rbf): RadialBasisFunction()\n",
       "      (spline_linear): SplineLinear(in_features=1312, out_features=64, bias=False)\n",
       "      (base_linear): Linear(in_features=164, out_features=64, bias=True)\n",
       "    )\n",
       "    (2): FastKANLayer(\n",
       "      (layernorm): LayerNorm((64,), eps=1e-05, elementwise_affine=True)\n",
       "      (rbf): RadialBasisFunction()\n",
       "      (spline_linear): SplineLinear(in_features=512, out_features=32, bias=False)\n",
       "      (base_linear): Linear(in_features=64, out_features=32, bias=True)\n",
       "    )\n",
       "    (3): FastKANLayer(\n",
       "      (layernorm): LayerNorm((32,), eps=1e-05, elementwise_affine=True)\n",
       "      (rbf): RadialBasisFunction()\n",
       "      (spline_linear): SplineLinear(in_features=256, out_features=3, bias=False)\n",
       "      (base_linear): Linear(in_features=32, out_features=3, bias=True)\n",
       "    )\n",
       "  )\n",
       ")"
      ]
     },
     "execution_count": 10,
     "metadata": {},
     "output_type": "execute_result"
    }
   ],
   "source": [
    "model = KAN([164*164*3, 164, 64, 32, 3])\n",
    "\n",
    "device = torch.device(\"cuda\" if torch.cuda.is_available() else \"cpu\")\n",
    "model.to(device)"
   ]
  },
  {
   "cell_type": "code",
   "execution_count": 11,
   "id": "a857d38f-e9ce-4fe0-819f-eeec61a089a9",
   "metadata": {},
   "outputs": [],
   "source": [
    "num_epoch = 250\n",
    "learning_rate = 0.001\n",
    "optimizer = optim.Adam(model.parameters(), lr=learning_rate)\n",
    "loss_fn = nn.CrossEntropyLoss()"
   ]
  },
  {
   "cell_type": "code",
   "execution_count": 12,
   "id": "8c0f4a1d-6db3-4b12-b067-1be178fcdce5",
   "metadata": {
    "scrolled": true
   },
   "outputs": [
    {
     "name": "stdout",
     "output_type": "stream",
     "text": [
      "Época 1/250 - Perda no treinamento: 0.831544 - Acurácia: 0.9091\n",
      "Época 2/250 - Perda no treinamento: 0.422440 - Acurácia: 0.8182\n",
      "Época 3/250 - Perda no treinamento: 0.370483 - Acurácia: 0.9091\n",
      "Época 4/250 - Perda no treinamento: 0.344124 - Acurácia: 0.8182\n",
      "Época 5/250 - Perda no treinamento: 0.325253 - Acurácia: 1.0000\n",
      "Época 6/250 - Perda no treinamento: 0.308942 - Acurácia: 0.9091\n",
      "Época 7/250 - Perda no treinamento: 0.302604 - Acurácia: 0.6364\n",
      "Época 8/250 - Perda no treinamento: 0.286455 - Acurácia: 1.0000\n",
      "Época 9/250 - Perda no treinamento: 0.275019 - Acurácia: 1.0000\n",
      "Época 10/250 - Perda no treinamento: 0.279571 - Acurácia: 0.9091\n",
      "Época 11/250 - Perda no treinamento: 0.261525 - Acurácia: 0.8182\n",
      "Época 12/250 - Perda no treinamento: 0.269388 - Acurácia: 0.9091\n",
      "Época 13/250 - Perda no treinamento: 0.254209 - Acurácia: 0.9091\n",
      "Época 14/250 - Perda no treinamento: 0.248411 - Acurácia: 0.8182\n",
      "Época 15/250 - Perda no treinamento: 0.247635 - Acurácia: 0.7273\n",
      "Época 16/250 - Perda no treinamento: 0.240224 - Acurácia: 0.9091\n",
      "Época 17/250 - Perda no treinamento: 0.229498 - Acurácia: 1.0000\n",
      "Época 18/250 - Perda no treinamento: 0.227229 - Acurácia: 0.9091\n",
      "Época 19/250 - Perda no treinamento: 0.234748 - Acurácia: 1.0000\n",
      "Época 20/250 - Perda no treinamento: 0.231949 - Acurácia: 0.8182\n",
      "Época 21/250 - Perda no treinamento: 0.221342 - Acurácia: 1.0000\n",
      "Época 22/250 - Perda no treinamento: 0.213160 - Acurácia: 0.9091\n",
      "Época 23/250 - Perda no treinamento: 0.221120 - Acurácia: 1.0000\n",
      "Época 24/250 - Perda no treinamento: 0.218343 - Acurácia: 0.9091\n",
      "Época 25/250 - Perda no treinamento: 0.207052 - Acurácia: 1.0000\n",
      "Época 26/250 - Perda no treinamento: 0.212685 - Acurácia: 0.9091\n",
      "Época 27/250 - Perda no treinamento: 0.201732 - Acurácia: 1.0000\n",
      "Época 28/250 - Perda no treinamento: 0.202482 - Acurácia: 0.9091\n",
      "Época 29/250 - Perda no treinamento: 0.204413 - Acurácia: 0.8182\n",
      "Época 30/250 - Perda no treinamento: 0.202335 - Acurácia: 0.8182\n",
      "Época 31/250 - Perda no treinamento: 0.203717 - Acurácia: 0.9091\n",
      "Época 32/250 - Perda no treinamento: 0.194814 - Acurácia: 1.0000\n",
      "Época 33/250 - Perda no treinamento: 0.203462 - Acurácia: 1.0000\n",
      "Época 34/250 - Perda no treinamento: 0.187879 - Acurácia: 1.0000\n",
      "Época 35/250 - Perda no treinamento: 0.200146 - Acurácia: 1.0000\n",
      "Época 36/250 - Perda no treinamento: 0.197269 - Acurácia: 0.8182\n",
      "Época 37/250 - Perda no treinamento: 0.197466 - Acurácia: 1.0000\n",
      "Época 38/250 - Perda no treinamento: 0.195018 - Acurácia: 1.0000\n",
      "Época 39/250 - Perda no treinamento: 0.191903 - Acurácia: 1.0000\n",
      "Época 40/250 - Perda no treinamento: 0.188196 - Acurácia: 0.9091\n",
      "Época 41/250 - Perda no treinamento: 0.194343 - Acurácia: 1.0000\n",
      "Época 42/250 - Perda no treinamento: 0.179284 - Acurácia: 0.9091\n",
      "Época 43/250 - Perda no treinamento: 0.176161 - Acurácia: 1.0000\n",
      "Época 44/250 - Perda no treinamento: 0.172679 - Acurácia: 1.0000\n",
      "Época 45/250 - Perda no treinamento: 0.176294 - Acurácia: 1.0000\n",
      "Época 46/250 - Perda no treinamento: 0.185406 - Acurácia: 0.9091\n",
      "Época 47/250 - Perda no treinamento: 0.182614 - Acurácia: 0.9091\n",
      "Época 48/250 - Perda no treinamento: 0.188200 - Acurácia: 0.9091\n",
      "Época 49/250 - Perda no treinamento: 0.177791 - Acurácia: 0.9091\n",
      "Época 50/250 - Perda no treinamento: 0.180867 - Acurácia: 1.0000\n",
      "Época 51/250 - Perda no treinamento: 0.173271 - Acurácia: 0.9091\n",
      "Época 52/250 - Perda no treinamento: 0.174884 - Acurácia: 1.0000\n",
      "Época 53/250 - Perda no treinamento: 0.183769 - Acurácia: 0.9091\n",
      "Época 54/250 - Perda no treinamento: 0.172487 - Acurácia: 0.9091\n",
      "Época 55/250 - Perda no treinamento: 0.183312 - Acurácia: 1.0000\n",
      "Época 56/250 - Perda no treinamento: 0.177840 - Acurácia: 0.9091\n",
      "Época 57/250 - Perda no treinamento: 0.176014 - Acurácia: 0.9091\n",
      "Época 58/250 - Perda no treinamento: 0.167369 - Acurácia: 0.9091\n",
      "Época 59/250 - Perda no treinamento: 0.163300 - Acurácia: 0.9091\n",
      "Época 60/250 - Perda no treinamento: 0.166257 - Acurácia: 0.9091\n",
      "Época 61/250 - Perda no treinamento: 0.174909 - Acurácia: 0.9091\n",
      "Época 62/250 - Perda no treinamento: 0.164258 - Acurácia: 1.0000\n",
      "Época 63/250 - Perda no treinamento: 0.166444 - Acurácia: 1.0000\n",
      "Época 64/250 - Perda no treinamento: 0.164566 - Acurácia: 0.8182\n",
      "Época 65/250 - Perda no treinamento: 0.168270 - Acurácia: 1.0000\n",
      "Época 66/250 - Perda no treinamento: 0.174004 - Acurácia: 1.0000\n",
      "Época 67/250 - Perda no treinamento: 0.161232 - Acurácia: 1.0000\n",
      "Época 68/250 - Perda no treinamento: 0.164457 - Acurácia: 1.0000\n",
      "Época 69/250 - Perda no treinamento: 0.168219 - Acurácia: 1.0000\n",
      "Época 70/250 - Perda no treinamento: 0.170086 - Acurácia: 0.9091\n",
      "Época 71/250 - Perda no treinamento: 0.163124 - Acurácia: 1.0000\n",
      "Época 72/250 - Perda no treinamento: 0.166945 - Acurácia: 0.9091\n",
      "Época 73/250 - Perda no treinamento: 0.161701 - Acurácia: 1.0000\n",
      "Época 74/250 - Perda no treinamento: 0.170348 - Acurácia: 1.0000\n",
      "Época 75/250 - Perda no treinamento: 0.166423 - Acurácia: 0.9091\n",
      "Época 76/250 - Perda no treinamento: 0.157034 - Acurácia: 1.0000\n",
      "Época 77/250 - Perda no treinamento: 0.157230 - Acurácia: 1.0000\n",
      "Época 78/250 - Perda no treinamento: 0.162826 - Acurácia: 1.0000\n",
      "Época 79/250 - Perda no treinamento: 0.159230 - Acurácia: 1.0000\n",
      "Época 80/250 - Perda no treinamento: 0.151498 - Acurácia: 1.0000\n",
      "Época 81/250 - Perda no treinamento: 0.156223 - Acurácia: 1.0000\n",
      "Época 82/250 - Perda no treinamento: 0.152941 - Acurácia: 1.0000\n",
      "Época 83/250 - Perda no treinamento: 0.150003 - Acurácia: 0.9091\n",
      "Época 84/250 - Perda no treinamento: 0.157313 - Acurácia: 0.9091\n",
      "Época 85/250 - Perda no treinamento: 0.153946 - Acurácia: 1.0000\n",
      "Época 86/250 - Perda no treinamento: 0.155284 - Acurácia: 1.0000\n",
      "Época 87/250 - Perda no treinamento: 0.153970 - Acurácia: 1.0000\n",
      "Época 88/250 - Perda no treinamento: 0.154372 - Acurácia: 1.0000\n",
      "Época 89/250 - Perda no treinamento: 0.151528 - Acurácia: 1.0000\n",
      "Época 90/250 - Perda no treinamento: 0.157161 - Acurácia: 0.8182\n",
      "Época 91/250 - Perda no treinamento: 0.148968 - Acurácia: 0.9091\n",
      "Época 92/250 - Perda no treinamento: 0.149937 - Acurácia: 1.0000\n",
      "Época 93/250 - Perda no treinamento: 0.147575 - Acurácia: 0.9091\n",
      "Época 94/250 - Perda no treinamento: 0.149985 - Acurácia: 0.9091\n",
      "Época 95/250 - Perda no treinamento: 0.152415 - Acurácia: 0.9091\n",
      "Época 96/250 - Perda no treinamento: 0.150141 - Acurácia: 1.0000\n",
      "Época 97/250 - Perda no treinamento: 0.148496 - Acurácia: 1.0000\n",
      "Época 98/250 - Perda no treinamento: 0.147674 - Acurácia: 0.9091\n",
      "Época 99/250 - Perda no treinamento: 0.138404 - Acurácia: 1.0000\n",
      "Época 100/250 - Perda no treinamento: 0.144147 - Acurácia: 1.0000\n",
      "Época 101/250 - Perda no treinamento: 0.146041 - Acurácia: 1.0000\n",
      "Época 102/250 - Perda no treinamento: 0.152313 - Acurácia: 1.0000\n",
      "Época 103/250 - Perda no treinamento: 0.149013 - Acurácia: 0.9091\n",
      "Época 104/250 - Perda no treinamento: 0.144412 - Acurácia: 1.0000\n",
      "Época 105/250 - Perda no treinamento: 0.139547 - Acurácia: 0.9091\n",
      "Época 106/250 - Perda no treinamento: 0.148322 - Acurácia: 0.7273\n",
      "Época 107/250 - Perda no treinamento: 0.138424 - Acurácia: 1.0000\n",
      "Época 108/250 - Perda no treinamento: 0.144577 - Acurácia: 0.9091\n",
      "Época 109/250 - Perda no treinamento: 0.136673 - Acurácia: 1.0000\n",
      "Época 110/250 - Perda no treinamento: 0.144537 - Acurácia: 1.0000\n",
      "Época 111/250 - Perda no treinamento: 0.137402 - Acurácia: 1.0000\n",
      "Época 112/250 - Perda no treinamento: 0.132561 - Acurácia: 0.9091\n",
      "Época 113/250 - Perda no treinamento: 0.143010 - Acurácia: 1.0000\n",
      "Época 114/250 - Perda no treinamento: 0.147187 - Acurácia: 1.0000\n",
      "Época 115/250 - Perda no treinamento: 0.150831 - Acurácia: 0.9091\n",
      "Época 116/250 - Perda no treinamento: 0.139376 - Acurácia: 1.0000\n",
      "Época 117/250 - Perda no treinamento: 0.133019 - Acurácia: 1.0000\n",
      "Época 118/250 - Perda no treinamento: 0.134151 - Acurácia: 1.0000\n",
      "Época 119/250 - Perda no treinamento: 0.132263 - Acurácia: 0.9091\n",
      "Época 120/250 - Perda no treinamento: 0.137415 - Acurácia: 0.9091\n",
      "Época 121/250 - Perda no treinamento: 0.142113 - Acurácia: 1.0000\n",
      "Época 122/250 - Perda no treinamento: 0.132783 - Acurácia: 1.0000\n",
      "Época 123/250 - Perda no treinamento: 0.139798 - Acurácia: 1.0000\n",
      "Época 124/250 - Perda no treinamento: 0.132544 - Acurácia: 0.8182\n",
      "Época 125/250 - Perda no treinamento: 0.126480 - Acurácia: 1.0000\n",
      "Época 126/250 - Perda no treinamento: 0.135443 - Acurácia: 0.9091\n",
      "Época 127/250 - Perda no treinamento: 0.138965 - Acurácia: 0.8182\n",
      "Época 128/250 - Perda no treinamento: 0.131335 - Acurácia: 1.0000\n",
      "Época 129/250 - Perda no treinamento: 0.133673 - Acurácia: 1.0000\n",
      "Época 130/250 - Perda no treinamento: 0.131748 - Acurácia: 1.0000\n",
      "Época 131/250 - Perda no treinamento: 0.126533 - Acurácia: 1.0000\n",
      "Época 132/250 - Perda no treinamento: 0.134993 - Acurácia: 0.9091\n",
      "Época 133/250 - Perda no treinamento: 0.127894 - Acurácia: 1.0000\n",
      "Época 134/250 - Perda no treinamento: 0.135875 - Acurácia: 0.8182\n",
      "Época 135/250 - Perda no treinamento: 0.134594 - Acurácia: 1.0000\n",
      "Época 136/250 - Perda no treinamento: 0.133919 - Acurácia: 1.0000\n",
      "Época 137/250 - Perda no treinamento: 0.136390 - Acurácia: 0.7273\n",
      "Época 138/250 - Perda no treinamento: 0.125158 - Acurácia: 1.0000\n",
      "Época 139/250 - Perda no treinamento: 0.164820 - Acurácia: 0.9091\n",
      "Época 140/250 - Perda no treinamento: 0.142437 - Acurácia: 0.9091\n",
      "Época 141/250 - Perda no treinamento: 0.126099 - Acurácia: 1.0000\n",
      "Época 142/250 - Perda no treinamento: 0.128878 - Acurácia: 1.0000\n",
      "Época 143/250 - Perda no treinamento: 0.127074 - Acurácia: 1.0000\n",
      "Época 144/250 - Perda no treinamento: 0.130125 - Acurácia: 1.0000\n",
      "Época 145/250 - Perda no treinamento: 0.124696 - Acurácia: 1.0000\n",
      "Época 146/250 - Perda no treinamento: 0.153557 - Acurácia: 1.0000\n",
      "Época 147/250 - Perda no treinamento: 0.129251 - Acurácia: 0.9091\n",
      "Época 148/250 - Perda no treinamento: 0.132074 - Acurácia: 0.9091\n",
      "Época 149/250 - Perda no treinamento: 0.121245 - Acurácia: 1.0000\n",
      "Época 150/250 - Perda no treinamento: 0.142057 - Acurácia: 0.8182\n",
      "Época 151/250 - Perda no treinamento: 0.134360 - Acurácia: 0.8182\n",
      "Época 152/250 - Perda no treinamento: 0.128482 - Acurácia: 1.0000\n",
      "Época 153/250 - Perda no treinamento: 0.119694 - Acurácia: 1.0000\n",
      "Época 154/250 - Perda no treinamento: 0.138733 - Acurácia: 1.0000\n",
      "Época 155/250 - Perda no treinamento: 0.128351 - Acurácia: 1.0000\n",
      "Época 156/250 - Perda no treinamento: 0.127230 - Acurácia: 0.9091\n",
      "Época 157/250 - Perda no treinamento: 0.119550 - Acurácia: 0.9091\n",
      "Época 158/250 - Perda no treinamento: 0.121894 - Acurácia: 0.9091\n",
      "Época 159/250 - Perda no treinamento: 0.127578 - Acurácia: 0.9091\n",
      "Época 160/250 - Perda no treinamento: 0.119345 - Acurácia: 1.0000\n",
      "Época 161/250 - Perda no treinamento: 0.117094 - Acurácia: 1.0000\n",
      "Época 162/250 - Perda no treinamento: 0.123605 - Acurácia: 1.0000\n",
      "Época 163/250 - Perda no treinamento: 0.133991 - Acurácia: 1.0000\n",
      "Época 164/250 - Perda no treinamento: 0.125178 - Acurácia: 1.0000\n",
      "Época 165/250 - Perda no treinamento: 0.123224 - Acurácia: 1.0000\n",
      "Época 166/250 - Perda no treinamento: 0.119362 - Acurácia: 0.9091\n",
      "Época 167/250 - Perda no treinamento: 0.122257 - Acurácia: 0.9091\n",
      "Época 168/250 - Perda no treinamento: 0.120707 - Acurácia: 0.9091\n",
      "Época 169/250 - Perda no treinamento: 0.119141 - Acurácia: 1.0000\n",
      "Época 170/250 - Perda no treinamento: 0.125769 - Acurácia: 0.8182\n",
      "Época 171/250 - Perda no treinamento: 0.114430 - Acurácia: 0.9091\n",
      "Época 172/250 - Perda no treinamento: 0.131899 - Acurácia: 1.0000\n",
      "Época 173/250 - Perda no treinamento: 0.121808 - Acurácia: 1.0000\n",
      "Época 174/250 - Perda no treinamento: 0.110400 - Acurácia: 1.0000\n",
      "Época 175/250 - Perda no treinamento: 0.114476 - Acurácia: 1.0000\n",
      "Época 176/250 - Perda no treinamento: 0.120499 - Acurácia: 1.0000\n",
      "Época 177/250 - Perda no treinamento: 0.129937 - Acurácia: 1.0000\n",
      "Época 178/250 - Perda no treinamento: 0.122450 - Acurácia: 0.9091\n",
      "Época 179/250 - Perda no treinamento: 0.117358 - Acurácia: 1.0000\n",
      "Época 180/250 - Perda no treinamento: 0.118854 - Acurácia: 1.0000\n",
      "Época 181/250 - Perda no treinamento: 0.115483 - Acurácia: 1.0000\n",
      "Época 182/250 - Perda no treinamento: 0.126226 - Acurácia: 0.9091\n",
      "Época 183/250 - Perda no treinamento: 0.117324 - Acurácia: 1.0000\n",
      "Época 184/250 - Perda no treinamento: 0.119662 - Acurácia: 0.9091\n",
      "Época 185/250 - Perda no treinamento: 0.115723 - Acurácia: 0.9091\n",
      "Época 186/250 - Perda no treinamento: 0.121544 - Acurácia: 0.9091\n",
      "Época 187/250 - Perda no treinamento: 0.119650 - Acurácia: 1.0000\n",
      "Época 188/250 - Perda no treinamento: 0.118368 - Acurácia: 1.0000\n",
      "Época 189/250 - Perda no treinamento: 0.130589 - Acurácia: 1.0000\n",
      "Época 190/250 - Perda no treinamento: 0.120344 - Acurácia: 1.0000\n",
      "Época 191/250 - Perda no treinamento: 0.127758 - Acurácia: 1.0000\n",
      "Época 192/250 - Perda no treinamento: 0.125725 - Acurácia: 1.0000\n",
      "Época 193/250 - Perda no treinamento: 0.120229 - Acurácia: 1.0000\n",
      "Época 194/250 - Perda no treinamento: 0.115137 - Acurácia: 0.9091\n",
      "Época 195/250 - Perda no treinamento: 0.115893 - Acurácia: 1.0000\n",
      "Época 196/250 - Perda no treinamento: 0.141419 - Acurácia: 1.0000\n",
      "Época 197/250 - Perda no treinamento: 0.115490 - Acurácia: 0.9091\n",
      "Época 198/250 - Perda no treinamento: 0.113350 - Acurácia: 0.9091\n",
      "Época 199/250 - Perda no treinamento: 0.118952 - Acurácia: 0.9091\n",
      "Época 200/250 - Perda no treinamento: 0.116982 - Acurácia: 1.0000\n",
      "Época 201/250 - Perda no treinamento: 0.106745 - Acurácia: 1.0000\n",
      "Época 202/250 - Perda no treinamento: 0.112249 - Acurácia: 1.0000\n",
      "Época 203/250 - Perda no treinamento: 0.108231 - Acurácia: 1.0000\n",
      "Época 204/250 - Perda no treinamento: 0.109928 - Acurácia: 0.9091\n",
      "Época 205/250 - Perda no treinamento: 0.115942 - Acurácia: 1.0000\n",
      "Época 206/250 - Perda no treinamento: 0.118405 - Acurácia: 0.9091\n",
      "Época 207/250 - Perda no treinamento: 0.116263 - Acurácia: 1.0000\n",
      "Época 208/250 - Perda no treinamento: 0.116237 - Acurácia: 1.0000\n",
      "Época 209/250 - Perda no treinamento: 0.123805 - Acurácia: 0.8182\n",
      "Época 210/250 - Perda no treinamento: 0.111404 - Acurácia: 1.0000\n",
      "Época 211/250 - Perda no treinamento: 0.116777 - Acurácia: 1.0000\n",
      "Época 212/250 - Perda no treinamento: 0.109297 - Acurácia: 1.0000\n",
      "Época 213/250 - Perda no treinamento: 0.146462 - Acurácia: 0.9091\n",
      "Época 214/250 - Perda no treinamento: 0.121845 - Acurácia: 1.0000\n",
      "Época 215/250 - Perda no treinamento: 0.114840 - Acurácia: 0.8182\n",
      "Época 216/250 - Perda no treinamento: 0.108852 - Acurácia: 1.0000\n",
      "Época 217/250 - Perda no treinamento: 0.108742 - Acurácia: 1.0000\n",
      "Época 218/250 - Perda no treinamento: 0.105650 - Acurácia: 0.9091\n",
      "Época 219/250 - Perda no treinamento: 0.110123 - Acurácia: 1.0000\n",
      "Época 220/250 - Perda no treinamento: 0.103999 - Acurácia: 1.0000\n",
      "Época 221/250 - Perda no treinamento: 0.105571 - Acurácia: 1.0000\n",
      "Época 222/250 - Perda no treinamento: 0.107653 - Acurácia: 1.0000\n",
      "Época 223/250 - Perda no treinamento: 0.110273 - Acurácia: 1.0000\n",
      "Época 224/250 - Perda no treinamento: 0.108421 - Acurácia: 1.0000\n",
      "Época 225/250 - Perda no treinamento: 0.105089 - Acurácia: 1.0000\n",
      "Época 226/250 - Perda no treinamento: 0.114191 - Acurácia: 1.0000\n",
      "Época 227/250 - Perda no treinamento: 0.103507 - Acurácia: 1.0000\n",
      "Época 228/250 - Perda no treinamento: 0.110902 - Acurácia: 1.0000\n",
      "Época 229/250 - Perda no treinamento: 0.131113 - Acurácia: 0.9091\n",
      "Época 230/250 - Perda no treinamento: 0.109734 - Acurácia: 1.0000\n",
      "Época 231/250 - Perda no treinamento: 0.107695 - Acurácia: 0.9091\n",
      "Época 232/250 - Perda no treinamento: 0.107523 - Acurácia: 0.8182\n",
      "Época 233/250 - Perda no treinamento: 0.103285 - Acurácia: 0.9091\n",
      "Época 234/250 - Perda no treinamento: 0.171046 - Acurácia: 1.0000\n",
      "Época 235/250 - Perda no treinamento: 0.135269 - Acurácia: 0.9091\n",
      "Época 236/250 - Perda no treinamento: 0.114373 - Acurácia: 0.8182\n",
      "Época 237/250 - Perda no treinamento: 0.107631 - Acurácia: 0.9091\n",
      "Época 238/250 - Perda no treinamento: 0.109021 - Acurácia: 1.0000\n",
      "Época 239/250 - Perda no treinamento: 0.114807 - Acurácia: 0.9091\n",
      "Época 240/250 - Perda no treinamento: 0.101659 - Acurácia: 0.9091\n",
      "Época 241/250 - Perda no treinamento: 0.100699 - Acurácia: 1.0000\n",
      "Época 242/250 - Perda no treinamento: 0.104977 - Acurácia: 1.0000\n",
      "Época 243/250 - Perda no treinamento: 0.107933 - Acurácia: 0.9091\n",
      "Época 244/250 - Perda no treinamento: 0.105722 - Acurácia: 1.0000\n",
      "Época 245/250 - Perda no treinamento: 0.104332 - Acurácia: 1.0000\n",
      "Época 246/250 - Perda no treinamento: 0.105118 - Acurácia: 1.0000\n",
      "Época 247/250 - Perda no treinamento: 0.101264 - Acurácia: 0.9091\n",
      "Época 248/250 - Perda no treinamento: 0.105447 - Acurácia: 1.0000\n",
      "Época 249/250 - Perda no treinamento: 0.104473 - Acurácia: 0.8182\n",
      "Época 250/250 - Perda no treinamento: 0.106562 - Acurácia: 1.0000\n",
      "\n",
      "Tempo total de treinamento: 43978.83 segundos\n"
     ]
    }
   ],
   "source": [
    "train_losses = []\n",
    "train_acc = []\n",
    "\n",
    "training_start_time = time.time()\n",
    "\n",
    "for epoch in range(num_epoch):\n",
    "    model.train()\n",
    "    running_train_loss = 0.0\n",
    "\n",
    "    for inputs, labels in train_loader:\n",
    "        inputs = inputs.view(-1, 164*164*3).to(device)\n",
    "        labels = labels.to(device)\n",
    "    \n",
    "        optimizer.zero_grad()\n",
    "        outputs = model(inputs)\n",
    "\n",
    "        loss = loss_fn(outputs, labels)\n",
    "        loss.backward()\n",
    "        optimizer.step()\n",
    "        running_train_loss += loss.item()\n",
    "\n",
    "    train_loss = running_train_loss / len(train_loader)\n",
    "    train_losses.append(train_loss)\n",
    "\n",
    "    _, predicted = torch.max(outputs.data, 1)\n",
    "\n",
    "    acc = accuracy_score(labels.cpu().detach().numpy(), predicted.cpu().detach().numpy())\n",
    "    train_acc.append(acc)\n",
    "\n",
    "    print(f\"Época {epoch + 1}/{num_epoch} - Perda no treinamento: {train_loss:.6f} - Acurácia: {acc:.4f}\")\n",
    "\n",
    "training_time = time.time() - training_start_time\n",
    "print(f\"\\nTempo total de treinamento: {training_time:.2f} segundos\")"
   ]
  },
  {
   "cell_type": "code",
   "execution_count": 13,
   "id": "18e4c7b6-1f32-4e52-a03d-3a5029dc63e3",
   "metadata": {},
   "outputs": [
    {
     "data": {
      "text/plain": [
       "Text(0.5, 0.98, 'Treinamento')"
      ]
     },
     "execution_count": 13,
     "metadata": {},
     "output_type": "execute_result"
    },
    {
     "data": {
      "image/png": "[encoded data removed]",
      "text/plain": [
       "<Figure size 1200x500 with 2 Axes>"
      ]
     },
     "metadata": {},
     "output_type": "display_data"
    }
   ],
   "source": [
    "epochs = range(1, num_epoch + 1)\n",
    "\n",
    "plt.figure(figsize=(12, 5))\n",
    "\n",
    "plt.subplot(1, 2, 1)\n",
    "plt.plot(epochs, train_losses, 'bo-')\n",
    "plt.xlabel('Épocas')\n",
    "plt.ylabel('Perda')\n",
    "\n",
    "plt.subplot(1, 2, 2)\n",
    "plt.plot(epochs, train_acc, 'ro-')\n",
    "plt.xlabel('Épocas')\n",
    "plt.ylabel('Acurácia')\n",
    "\n",
    "plt.suptitle(\"Treinamento\", fontsize = 20)"
   ]
  },
  {
   "cell_type": "code",
   "execution_count": 14,
   "id": "caf03529-17f1-4eb5-8304-dfebd3f516ce",
   "metadata": {},
   "outputs": [
    {
     "name": "stdout",
     "output_type": "stream",
     "text": [
      "!!!Teste finalizado!!!\n"
     ]
    }
   ],
   "source": [
    "rot_array = []\n",
    "predt_array = []\n",
    "\n",
    "model.eval()\n",
    "    \n",
    "with torch.no_grad():\n",
    "        \n",
    "    for images, labels in test_loader:\n",
    "        images = images.view(-1, 164*164*3).to(device)\n",
    "        labels = labels.to(device)\n",
    "        \n",
    "        outputs = model(images)\n",
    "        _, predicted = torch.max(outputs.data, 1)\n",
    "\n",
    "        rot_array.extend(labels.cpu().detach().numpy())\n",
    "        predt_array.extend(predicted.cpu().detach().numpy())\n",
    "        \n",
    "print(\"!!!Teste finalizado!!!\")"
   ]
  },
  {
   "cell_type": "code",
   "execution_count": 15,
   "id": "12583bc3-1cfa-4a69-8b17-d5166e6e98e2",
   "metadata": {},
   "outputs": [
    {
     "data": {
      "image/png": "[encoded data removed]",
      "text/plain": [
       "<Figure size 640x480 with 2 Axes>"
      ]
     },
     "metadata": {},
     "output_type": "display_data"
    }
   ],
   "source": [
    "cm = confusion_matrix(rot_array, predt_array)\n",
    "\n",
    "disp = ConfusionMatrixDisplay(confusion_matrix=cm, display_labels=['Normal', 'Pneumonia', 'Tuberculose'])\n",
    "disp.plot(cmap=plt.cm.Blues)\n",
    "\n",
    "plt.xlabel('Rótulo previsto')\n",
    "plt.ylabel('Rótulo verdadeiro')\n",
    "plt.show()"
   ]
  },
  {
   "cell_type": "code",
   "execution_count": 16,
   "id": "2176aa50-1058-4a86-96b5-5392862aee0b",
   "metadata": {},
   "outputs": [
    {
     "name": "stdout",
     "output_type": "stream",
     "text": [
      "Acurácia: 93.59%\n"
     ]
    }
   ],
   "source": [
    "acc = accuracy_score(rot_array, predt_array)\n",
    "print(f\"Acurácia: {acc * 100 :.2f}%\")"
   ]
  },
  {
   "cell_type": "code",
   "execution_count": 17,
   "id": "43db4d50-daa3-4fb4-84de-a3356fede5f2",
   "metadata": {},
   "outputs": [
    {
     "name": "stdout",
     "output_type": "stream",
     "text": [
      "Precisão: 93.78%\n"
     ]
    }
   ],
   "source": [
    "precision = precision_score(rot_array, predt_array, average='weighted')\n",
    "print(f\"Precisão: {precision * 100 :.2f}%\")"
   ]
  },
  {
   "cell_type": "code",
   "execution_count": 18,
   "id": "0bee197d-1da7-4e51-b8e1-d580f6f0141d",
   "metadata": {},
   "outputs": [
    {
     "name": "stdout",
     "output_type": "stream",
     "text": [
      "Recall: 93.59%\n"
     ]
    }
   ],
   "source": [
    "recall = recall_score(rot_array, predt_array, average='weighted')\n",
    "print(f\"Recall: {recall * 100 :.2f}%\")"
   ]
  },
  {
   "cell_type": "code",
   "execution_count": 19,
   "id": "c1bced5b-8148-44f4-8cb7-c9da558a0899",
   "metadata": {},
   "outputs": [
    {
     "name": "stdout",
     "output_type": "stream",
     "text": [
      "F1 Score: 93.60%\n"
     ]
    }
   ],
   "source": [
    "f1 = f1_score(rot_array, predt_array, average='weighted')\n",
    "print(f\"F1 Score: {f1 * 100 :.2f}%\")"
   ]
  }
 ],
 "metadata": {
  "kernelspec": {
   "display_name": "Python 3 (ipykernel)",
   "language": "python",
   "name": "python3"
  },
  "language_info": {
   "codemirror_mode": {
    "name": "ipython",
    "version": 3
   },
   "file_extension": ".py",
   "mimetype": "text/x-python",
   "name": "python",
   "nbconvert_exporter": "python",
   "pygments_lexer": "ipython3",
   "version": "3.12.8"
  }
 },
 "nbformat": 4,
 "nbformat_minor": 5
}
