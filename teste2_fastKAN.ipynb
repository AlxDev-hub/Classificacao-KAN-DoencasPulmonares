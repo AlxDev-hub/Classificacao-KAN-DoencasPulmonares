{
 "cells": [
  {
   "cell_type": "markdown",
   "id": "6855a8d8-a76b-4896-81c4-b8156120107f",
   "metadata": {},
   "source": [
    "# <center>Bibliotecas utilizadas</center>"
   ]
  },
  {
   "cell_type": "code",
   "execution_count": null,
   "id": "1f64ec00-9531-44bd-8ca9-9fcf0da006a6",
   "metadata": {},
   "outputs": [],
   "source": [
    "from fastkan import FastKAN as KAN\n",
    "\n",
    "import time\n",
    "import torch\n",
    "import torch.nn as nn\n",
    "import torch.optim as optim\n",
    "import torchvision.transforms as transforms\n",
    "import torchvision.datasets as datasets\n",
    "import matplotlib.pyplot as plt\n",
    "from sklearn.metrics import *\n",
    "from torch.utils.data import DataLoader"
   ]
  },
  {
   "cell_type": "markdown",
   "id": "ae56c89e-e3c7-4ccd-bb43-e121a98fa2fe",
   "metadata": {},
   "source": [
    "# <center>Pré-processamento dos dados</center>"
   ]
  },
  {
   "cell_type": "code",
   "execution_count": null,
   "id": "8c196e86-6689-4567-bb8e-f16c664e48e2",
   "metadata": {},
   "outputs": [],
   "source": [
    "train_path = 'Dataset/train'\n",
    "test_path = 'Dataset/test'"
   ]
  },
  {
   "cell_type": "code",
   "execution_count": null,
   "id": "e140c4b1-1881-4b33-b314-bc14f0ce7cec",
   "metadata": {},
   "outputs": [],
   "source": [
    "#Aumentar a quantidade de técnicas de aumento de dados\n",
    "transform_train = transforms.Compose(\n",
    "    [transforms.Resize(size = (164,164)),\n",
    "     transforms.RandomRotation(degrees=15),\n",
    "     transforms.RandomHorizontalFlip(),\n",
    "     transforms.ToTensor(),\n",
    "     transforms.Normalize(mean=[0.5], std=[0.5])\n",
    "    ]\n",
    ")\n",
    "\n",
    "transform_test = transforms.Compose(\n",
    "    [transforms.Resize(size = (164,164)),\n",
    "     transforms.ToTensor(),\n",
    "     transforms.Normalize(mean=[0.5], std=[0.5])\n",
    "    ]\n",
    ")"
   ]
  },
  {
   "cell_type": "code",
   "execution_count": null,
   "id": "96b5b525-8463-47c7-8807-1f34a37dc669",
   "metadata": {},
   "outputs": [],
   "source": [
    "train_dataset = datasets.ImageFolder(train_path, transform = transform_train)\n",
    "test_dataset = datasets.ImageFolder(test_path, transform = transform_test)"
   ]
  },
  {
   "cell_type": "code",
   "execution_count": null,
   "id": "982aeb7f-3940-43cf-82a9-3c66bc1f1d47",
   "metadata": {},
   "outputs": [],
   "source": [
    "trainloader = DataLoader(train_dataset, batch_size = 28, shuffle = True)\n",
    "testloader = DataLoader(test_dataset, batch_size = 30, shuffle = True)"
   ]
  },
  {
   "cell_type": "markdown",
   "id": "3aced6a8-6811-47ee-926e-11c777215a60",
   "metadata": {},
   "source": [
    "# <center>Implementação da arquitetura *fastKAN*</center>"
   ]
  },
  {
   "cell_type": "code",
   "execution_count": null,
   "id": "83c60357-3bee-47cf-bcc6-95041ca67f7b",
   "metadata": {},
   "outputs": [],
   "source": [
    "model = KAN([164*164*3, 164, 64, 3])\n",
    "\n",
    "device = torch.device(\"cuda\" if torch.cuda.is_available() else \"cpu\")\n",
    "model.to(device)"
   ]
  },
  {
   "cell_type": "code",
   "execution_count": null,
   "id": "90226ee4-b269-4744-9bb5-5dc35865363c",
   "metadata": {},
   "outputs": [],
   "source": [
    "num_epoch = 250\n",
    "learning_rate = 0.001"
   ]
  },
  {
   "cell_type": "code",
   "execution_count": null,
   "id": "6af96d12-9001-4642-9968-0d038b003bc6",
   "metadata": {},
   "outputs": [],
   "source": [
    "optimizer = optim.Adam(model.parameters(), lr=learning_rate)\n",
    "loss_fn = nn.CrossEntropyLoss()"
   ]
  },
  {
   "cell_type": "code",
   "execution_count": null,
   "id": "b5dcfc2a-c400-48a7-b6da-33129b8d6b6f",
   "metadata": {
    "scrolled": true
   },
   "outputs": [],
   "source": [
    "train_losses = []\n",
    "train_acc = []\n",
    "\n",
    "training_start_time = time.time()\n",
    "\n",
    "for epoch in range(num_epoch):\n",
    "    model.train()\n",
    "    running_train_loss = 0.0\n",
    "\n",
    "    for inputs, labels in trainloader:\n",
    "        inputs = inputs.view(-1, 164*164*3).to(device)\n",
    "        labels = labels.to(device)\n",
    "    \n",
    "        optimizer.zero_grad()\n",
    "        outputs = model(inputs)\n",
    "\n",
    "        loss = loss_fn(outputs, labels)\n",
    "        loss.backward()\n",
    "        optimizer.step()\n",
    "        running_train_loss += loss.item()\n",
    "\n",
    "    train_loss = running_train_loss / len(trainloader)\n",
    "    train_losses.append(train_loss)\n",
    "\n",
    "    _, predicted = torch.max(outputs.data, 1)\n",
    "\n",
    "    acc = accuracy_score(labels.cpu().detach().numpy(), predicted.cpu().detach().numpy())\n",
    "    train_acc.append(acc)\n",
    "\n",
    "    print(f\"Época {epoch + 1}/{num_epoch} - Perda no treinamento: {train_loss:.6f} - Acurácia: {acc:.6f}\")\n",
    "\n",
    "training_time = time.time() - training_start_time\n",
    "print(f\"Tempo total de treinamento: {training_time:.2f} segundos\")"
   ]
  },
  {
   "cell_type": "code",
   "execution_count": null,
   "id": "b3cefe95-b202-4037-be85-2b492b1da9a1",
   "metadata": {},
   "outputs": [],
   "source": [
    "epochs = range(1, num_epoch + 1)\n",
    "\n",
    "plt.figure(figsize=(12, 5))\n",
    "\n",
    "plt.subplot(1, 2, 1)\n",
    "plt.plot(epochs, train_losses, 'bo-')\n",
    "plt.xlabel('Épocas')\n",
    "plt.ylabel('Perda')\n",
    "\n",
    "plt.subplot(1, 2, 2)\n",
    "plt.plot(epochs, train_acc, 'ro-')\n",
    "plt.xlabel('Épocas')\n",
    "plt.ylabel('Acurácia')\n",
    "\n",
    "plt.suptitle(\"Treinamento\", fontsize = 20)"
   ]
  },
  {
   "cell_type": "code",
   "execution_count": null,
   "id": "504e3333-6256-4349-b805-f0a4e1bc3dc2",
   "metadata": {},
   "outputs": [],
   "source": [
    "model.eval()\n",
    "    \n",
    "with torch.no_grad():\n",
    "        \n",
    "    for images, labels in testloader:\n",
    "        images = images.view(-1, 164*164*3).to(device)\n",
    "        labels = labels.to(device)\n",
    "        \n",
    "        outputs = model(images)\n",
    "        _, predicted = torch.max(outputs.data, 1)\n",
    "\n",
    "        acc = accuracy_score(labels.cpu().detach().numpy(), predicted.cpu().detach().numpy())\n",
    "        \n",
    "print(f\"Acurácia: {acc:.6f}\")"
   ]
  },
  {
   "cell_type": "markdown",
   "id": "33459ca6-ec7a-48a4-a510-a9f77c353ba3",
   "metadata": {},
   "source": [
    "# <center>Métricas de avaliação</center>"
   ]
  },
  {
   "cell_type": "code",
   "execution_count": null,
   "id": "7e756c77-100b-469b-a4fd-bb8a4e425acc",
   "metadata": {},
   "outputs": [],
   "source": [
    "cm = confusion_matrix(labels.cpu().detach().numpy(), predicted.cpu().detach().numpy())\n",
    "\n",
    "disp = ConfusionMatrixDisplay(confusion_matrix=cm, display_labels=['Normal', 'Pneumonia', 'Tuberculose'])\n",
    "disp.plot(cmap=plt.cm.Blues)\n",
    "\n",
    "plt.xlabel('Rótulo previsto')\n",
    "plt.ylabel('Rótulo verdadeiro')\n",
    "plt.show()"
   ]
  },
  {
   "cell_type": "code",
   "execution_count": null,
   "id": "9a2fb649-fed5-4153-ac81-62c6351f1160",
   "metadata": {},
   "outputs": [],
   "source": [
    "print(classification_report(labels.cpu().detach().numpy(), predicted.cpu().detach().numpy(), target_names=['Normal', 'Pneumonia', 'Tuberculose']))"
   ]
  },
  {
   "cell_type": "code",
   "execution_count": null,
   "id": "ab7f02ca-3310-468b-bc2c-dd9ae7a2129d",
   "metadata": {},
   "outputs": [],
   "source": [
    "precision = precision_score(labels.cpu().detach().numpy(), predicted.cpu().detach().numpy(), average='weighted')\n",
    "print(f\"Precisão: {precision * 100 :.2f}%\")"
   ]
  },
  {
   "cell_type": "code",
   "execution_count": null,
   "id": "ed2a326a-258d-47aa-b9a2-ad297b6e335c",
   "metadata": {},
   "outputs": [],
   "source": [
    "recall = recall_score(labels.cpu().detach().numpy(), predicted.cpu().detach().numpy(), average='weighted')\n",
    "print(f\"Recall: {recall * 100 :.2f}%\")"
   ]
  },
  {
   "cell_type": "code",
   "execution_count": null,
   "id": "ecacbcd3-4bf1-4997-9b2f-5e9c83bd6a0c",
   "metadata": {},
   "outputs": [],
   "source": [
    "f1 = f1_score(labels.cpu().detach().numpy(), predicted.cpu().detach().numpy(), average='weighted')\n",
    "print(f\"F1 Score: {f1 * 100 :.2f}%\")"
   ]
  }
 ],
 "metadata": {
  "kernelspec": {
   "display_name": "Python 3 (ipykernel)",
   "language": "python",
   "name": "python3"
  },
  "language_info": {
   "codemirror_mode": {
    "name": "ipython",
    "version": 3
   },
   "file_extension": ".py",
   "mimetype": "text/x-python",
   "name": "python",
   "nbconvert_exporter": "python",
   "pygments_lexer": "ipython3",
   "version": "3.10.12"
  }
 },
 "nbformat": 4,
 "nbformat_minor": 5
}
