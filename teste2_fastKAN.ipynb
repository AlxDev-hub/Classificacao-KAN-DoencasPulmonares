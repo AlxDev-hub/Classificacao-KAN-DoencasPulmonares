{
 "cells": [
  {
   "cell_type": "markdown",
   "id": "6855a8d8-a76b-4896-81c4-b8156120107f",
   "metadata": {},
   "source": [
    "# <center>Bibliotecas utilizadas</center>"
   ]
  },
  {
   "cell_type": "code",
   "execution_count": 1,
   "id": "1f64ec00-9531-44bd-8ca9-9fcf0da006a6",
   "metadata": {},
   "outputs": [],
   "source": [
    "from fastkan import FastKAN as KAN\n",
    "\n",
    "import time\n",
    "import numpy as np\n",
    "import matplotlib.pyplot as plt\n",
    "\n",
    "import torch\n",
    "import torch.nn as nn\n",
    "import torch.optim as optim\n",
    "from torchvision import datasets, transforms\n",
    "from torch.utils.data import DataLoader, random_split\n",
    "\n",
    "from sklearn.metrics import *"
   ]
  },
  {
   "cell_type": "markdown",
   "id": "ae56c89e-e3c7-4ccd-bb43-e121a98fa2fe",
   "metadata": {},
   "source": [
    "# <center>Pré-processamento dos dados</center>"
   ]
  },
  {
   "cell_type": "code",
   "execution_count": 2,
   "id": "8c196e86-6689-4567-bb8e-f16c664e48e2",
   "metadata": {},
   "outputs": [],
   "source": [
    "dataset_path = 'dataset_teste2'"
   ]
  },
  {
   "cell_type": "code",
   "execution_count": 3,
   "id": "e140c4b1-1881-4b33-b314-bc14f0ce7cec",
   "metadata": {},
   "outputs": [],
   "source": [
    "transform_dataset = transforms.Compose(\n",
    "    [transforms.Resize(size = (164,164)),\n",
    "     transforms.ToTensor(),\n",
    "     transforms.Normalize(mean=[0.5], std=[0.5])\n",
    "    ]\n",
    ")"
   ]
  },
  {
   "cell_type": "code",
   "execution_count": 4,
   "id": "96b5b525-8463-47c7-8807-1f34a37dc669",
   "metadata": {},
   "outputs": [],
   "source": [
    "dataset = datasets.ImageFolder(dataset_path, transform = transform_dataset)"
   ]
  },
  {
   "cell_type": "code",
   "execution_count": 5,
   "id": "982aeb7f-3940-43cf-82a9-3c66bc1f1d47",
   "metadata": {},
   "outputs": [
    {
     "name": "stdout",
     "output_type": "stream",
     "text": [
      "Informações sobre o Dataset: \n",
      "\n",
      " Dataset ImageFolder\n",
      "    Number of datapoints: 1000\n",
      "    Root location: dataset_teste2\n",
      "    StandardTransform\n",
      "Transform: Compose(\n",
      "               Resize(size=(164, 164), interpolation=bilinear, max_size=None, antialias=True)\n",
      "               ToTensor()\n",
      "               Normalize(mean=[0.5], std=[0.5])\n",
      "           )\n",
      "\n",
      "Rótulos:  {'NORMAL': 0, 'PNEUMONIA': 1, 'TUBERCULOSE': 2}\n"
     ]
    }
   ],
   "source": [
    "print(\"Informações sobre o Dataset: \\n\\n\", dataset)\n",
    "print(\"\\nRótulos: \", dataset.class_to_idx)"
   ]
  },
  {
   "cell_type": "code",
   "execution_count": 6,
   "id": "257fe640-87f7-4223-95bd-96dfc0db176f",
   "metadata": {},
   "outputs": [],
   "source": [
    "train_size = int(0.7 * len(dataset))\n",
    "test_size = len(dataset) - train_size\n",
    "\n",
    "train_dataset, test_dataset = random_split(dataset, [train_size, test_size])"
   ]
  },
  {
   "cell_type": "code",
   "execution_count": 7,
   "id": "24cc1f66-d238-494c-9c17-39af133d92b8",
   "metadata": {},
   "outputs": [],
   "source": [
    "train_loader = DataLoader(train_dataset, batch_size=16, shuffle=True)\n",
    "test_loader = DataLoader(test_dataset, batch_size=16, shuffle=False)"
   ]
  },
  {
   "cell_type": "code",
   "execution_count": 8,
   "id": "189a0403-151b-4273-8195-a20ee59639a1",
   "metadata": {},
   "outputs": [],
   "source": [
    "all_targets = []\n",
    "for images, labels in train_loader:\n",
    "    all_targets.extend(labels.tolist())\n",
    "\n",
    "nor = []\n",
    "pne = []\n",
    "tub = []\n",
    "for i in range(700):\n",
    "    if all_targets[i] == 0:\n",
    "        nor.append(all_targets[i])\n",
    "    elif all_targets[i] == 1:\n",
    "        pne.append(all_targets[i])\n",
    "    elif all_targets[i] == 2:\n",
    "        tub.append(all_targets[i])"
   ]
  },
  {
   "cell_type": "code",
   "execution_count": 9,
   "id": "c6ae6287-2618-4ebe-93aa-0c9943982d93",
   "metadata": {},
   "outputs": [
    {
     "name": "stdout",
     "output_type": "stream",
     "text": [
      "!!!Distribuição dos dados de treinamento!!!\n",
      "\n",
      "Normal:  237\n",
      "Pneumonia:  236\n",
      "Tuberculose:  227\n"
     ]
    }
   ],
   "source": [
    "print(\"!!!Distribuição dos dados de treinamento!!!\\n\")\n",
    "print(\"Normal: \", len(nor))\n",
    "print(\"Pneumonia: \", len(pne))\n",
    "print(\"Tuberculose: \", len(tub))"
   ]
  },
  {
   "cell_type": "markdown",
   "id": "3aced6a8-6811-47ee-926e-11c777215a60",
   "metadata": {},
   "source": [
    "# <center>Implementação da arquitetura *fastKAN*</center>"
   ]
  },
  {
   "cell_type": "code",
   "execution_count": 10,
   "id": "83c60357-3bee-47cf-bcc6-95041ca67f7b",
   "metadata": {},
   "outputs": [
    {
     "data": {
      "text/plain": [
       "FastKAN(\n",
       "  (layers): ModuleList(\n",
       "    (0): FastKANLayer(\n",
       "      (layernorm): LayerNorm((80688,), eps=1e-05, elementwise_affine=True)\n",
       "      (rbf): RadialBasisFunction()\n",
       "      (spline_linear): SplineLinear(in_features=645504, out_features=164, bias=False)\n",
       "      (base_linear): Linear(in_features=80688, out_features=164, bias=True)\n",
       "    )\n",
       "    (1): FastKANLayer(\n",
       "      (layernorm): LayerNorm((164,), eps=1e-05, elementwise_affine=True)\n",
       "      (rbf): RadialBasisFunction()\n",
       "      (spline_linear): SplineLinear(in_features=1312, out_features=64, bias=False)\n",
       "      (base_linear): Linear(in_features=164, out_features=64, bias=True)\n",
       "    )\n",
       "    (2): FastKANLayer(\n",
       "      (layernorm): LayerNorm((64,), eps=1e-05, elementwise_affine=True)\n",
       "      (rbf): RadialBasisFunction()\n",
       "      (spline_linear): SplineLinear(in_features=512, out_features=3, bias=False)\n",
       "      (base_linear): Linear(in_features=64, out_features=3, bias=True)\n",
       "    )\n",
       "  )\n",
       ")"
      ]
     },
     "execution_count": 10,
     "metadata": {},
     "output_type": "execute_result"
    }
   ],
   "source": [
    "model = KAN([164*164*3, 164, 64, 3])\n",
    "\n",
    "device = torch.device(\"cuda\" if torch.cuda.is_available() else \"cpu\")\n",
    "model.to(device)"
   ]
  },
  {
   "cell_type": "code",
   "execution_count": 11,
   "id": "90226ee4-b269-4744-9bb5-5dc35865363c",
   "metadata": {},
   "outputs": [],
   "source": [
    "num_epoch = 250\n",
    "learning_rate = 0.001\n",
    "\n",
    "optimizer = optim.Adam(model.parameters(), lr=learning_rate)\n",
    "loss_fn = nn.CrossEntropyLoss()"
   ]
  },
  {
   "cell_type": "code",
   "execution_count": 13,
   "id": "b5dcfc2a-c400-48a7-b6da-33129b8d6b6f",
   "metadata": {
    "scrolled": true
   },
   "outputs": [
    {
     "name": "stdout",
     "output_type": "stream",
     "text": [
      "Época 1/250 - Perda no treinamento: 6.146774 - Acurácia: 0.750000\n",
      "Época 2/250 - Perda no treinamento: 0.851941 - Acurácia: 0.833333\n",
      "Época 3/250 - Perda no treinamento: 0.374338 - Acurácia: 0.916667\n",
      "Época 4/250 - Perda no treinamento: 0.172776 - Acurácia: 1.000000\n",
      "Época 5/250 - Perda no treinamento: 0.126731 - Acurácia: 1.000000\n",
      "Época 6/250 - Perda no treinamento: 0.129136 - Acurácia: 1.000000\n",
      "Época 7/250 - Perda no treinamento: 0.541198 - Acurácia: 0.750000\n",
      "Época 8/250 - Perda no treinamento: 0.272616 - Acurácia: 1.000000\n",
      "Época 9/250 - Perda no treinamento: 0.030058 - Acurácia: 1.000000\n",
      "Época 10/250 - Perda no treinamento: 0.013798 - Acurácia: 1.000000\n",
      "Época 11/250 - Perda no treinamento: 0.021721 - Acurácia: 1.000000\n",
      "Época 12/250 - Perda no treinamento: 0.014506 - Acurácia: 1.000000\n",
      "Época 13/250 - Perda no treinamento: 0.019061 - Acurácia: 1.000000\n",
      "Época 14/250 - Perda no treinamento: 0.044561 - Acurácia: 1.000000\n",
      "Época 15/250 - Perda no treinamento: 0.026799 - Acurácia: 0.916667\n",
      "Época 16/250 - Perda no treinamento: 0.077790 - Acurácia: 1.000000\n",
      "Época 17/250 - Perda no treinamento: 0.010386 - Acurácia: 1.000000\n",
      "Época 18/250 - Perda no treinamento: 0.000099 - Acurácia: 1.000000\n",
      "Época 19/250 - Perda no treinamento: 0.000004 - Acurácia: 1.000000\n",
      "Época 20/250 - Perda no treinamento: 0.000004 - Acurácia: 1.000000\n",
      "Época 21/250 - Perda no treinamento: 0.000003 - Acurácia: 1.000000\n",
      "Época 22/250 - Perda no treinamento: 0.000003 - Acurácia: 1.000000\n",
      "Época 23/250 - Perda no treinamento: 0.000003 - Acurácia: 1.000000\n",
      "Época 24/250 - Perda no treinamento: 0.000003 - Acurácia: 1.000000\n",
      "Época 25/250 - Perda no treinamento: 0.000003 - Acurácia: 1.000000\n",
      "Época 26/250 - Perda no treinamento: 0.000003 - Acurácia: 1.000000\n",
      "Época 27/250 - Perda no treinamento: 0.000003 - Acurácia: 1.000000\n",
      "Época 28/250 - Perda no treinamento: 0.000003 - Acurácia: 1.000000\n",
      "Época 29/250 - Perda no treinamento: 0.000002 - Acurácia: 1.000000\n",
      "Época 30/250 - Perda no treinamento: 0.000002 - Acurácia: 1.000000\n",
      "Época 31/250 - Perda no treinamento: 0.000002 - Acurácia: 1.000000\n",
      "Época 32/250 - Perda no treinamento: 0.000002 - Acurácia: 1.000000\n",
      "Época 33/250 - Perda no treinamento: 0.000002 - Acurácia: 1.000000\n",
      "Época 34/250 - Perda no treinamento: 0.000002 - Acurácia: 1.000000\n",
      "Época 35/250 - Perda no treinamento: 0.000002 - Acurácia: 1.000000\n",
      "Época 36/250 - Perda no treinamento: 0.000002 - Acurácia: 1.000000\n",
      "Época 37/250 - Perda no treinamento: 0.000002 - Acurácia: 1.000000\n",
      "Época 38/250 - Perda no treinamento: 0.000002 - Acurácia: 1.000000\n",
      "Época 39/250 - Perda no treinamento: 0.000002 - Acurácia: 1.000000\n",
      "Época 40/250 - Perda no treinamento: 0.000002 - Acurácia: 1.000000\n",
      "Época 41/250 - Perda no treinamento: 0.000002 - Acurácia: 1.000000\n",
      "Época 42/250 - Perda no treinamento: 0.000002 - Acurácia: 1.000000\n",
      "Época 43/250 - Perda no treinamento: 0.000002 - Acurácia: 1.000000\n",
      "Época 44/250 - Perda no treinamento: 0.000002 - Acurácia: 1.000000\n",
      "Época 45/250 - Perda no treinamento: 0.000002 - Acurácia: 1.000000\n",
      "Época 46/250 - Perda no treinamento: 0.000002 - Acurácia: 1.000000\n",
      "Época 47/250 - Perda no treinamento: 0.000002 - Acurácia: 1.000000\n",
      "Época 48/250 - Perda no treinamento: 0.000001 - Acurácia: 1.000000\n",
      "Época 49/250 - Perda no treinamento: 0.000001 - Acurácia: 1.000000\n",
      "Época 50/250 - Perda no treinamento: 0.000001 - Acurácia: 1.000000\n",
      "Época 51/250 - Perda no treinamento: 0.000001 - Acurácia: 1.000000\n",
      "Época 52/250 - Perda no treinamento: 0.000001 - Acurácia: 1.000000\n",
      "Época 53/250 - Perda no treinamento: 0.000001 - Acurácia: 1.000000\n",
      "Época 54/250 - Perda no treinamento: 0.000001 - Acurácia: 1.000000\n",
      "Época 55/250 - Perda no treinamento: 0.000001 - Acurácia: 1.000000\n",
      "Época 56/250 - Perda no treinamento: 0.000001 - Acurácia: 1.000000\n",
      "Época 57/250 - Perda no treinamento: 0.000001 - Acurácia: 1.000000\n",
      "Época 58/250 - Perda no treinamento: 0.000001 - Acurácia: 1.000000\n",
      "Época 59/250 - Perda no treinamento: 0.000001 - Acurácia: 1.000000\n",
      "Época 60/250 - Perda no treinamento: 0.000001 - Acurácia: 1.000000\n",
      "Época 61/250 - Perda no treinamento: 0.000001 - Acurácia: 1.000000\n",
      "Época 62/250 - Perda no treinamento: 0.000001 - Acurácia: 1.000000\n",
      "Época 63/250 - Perda no treinamento: 0.000001 - Acurácia: 1.000000\n",
      "Época 64/250 - Perda no treinamento: 0.000001 - Acurácia: 1.000000\n",
      "Época 65/250 - Perda no treinamento: 0.000001 - Acurácia: 1.000000\n",
      "Época 66/250 - Perda no treinamento: 0.000001 - Acurácia: 1.000000\n",
      "Época 67/250 - Perda no treinamento: 0.000001 - Acurácia: 1.000000\n",
      "Época 68/250 - Perda no treinamento: 0.000001 - Acurácia: 1.000000\n",
      "Época 69/250 - Perda no treinamento: 0.000001 - Acurácia: 1.000000\n",
      "Época 70/250 - Perda no treinamento: 0.000001 - Acurácia: 1.000000\n",
      "Época 71/250 - Perda no treinamento: 0.000001 - Acurácia: 1.000000\n",
      "Época 72/250 - Perda no treinamento: 0.000001 - Acurácia: 1.000000\n",
      "Época 73/250 - Perda no treinamento: 0.000001 - Acurácia: 1.000000\n",
      "Época 74/250 - Perda no treinamento: 0.000001 - Acurácia: 1.000000\n",
      "Época 75/250 - Perda no treinamento: 0.000001 - Acurácia: 1.000000\n",
      "Época 76/250 - Perda no treinamento: 0.000001 - Acurácia: 1.000000\n",
      "Época 77/250 - Perda no treinamento: 0.000001 - Acurácia: 1.000000\n",
      "Época 78/250 - Perda no treinamento: 0.000001 - Acurácia: 1.000000\n",
      "Época 79/250 - Perda no treinamento: 0.000001 - Acurácia: 1.000000\n",
      "Época 80/250 - Perda no treinamento: 0.000001 - Acurácia: 1.000000\n",
      "Época 81/250 - Perda no treinamento: 0.000001 - Acurácia: 1.000000\n",
      "Época 82/250 - Perda no treinamento: 0.000001 - Acurácia: 1.000000\n",
      "Época 83/250 - Perda no treinamento: 0.000001 - Acurácia: 1.000000\n",
      "Época 84/250 - Perda no treinamento: 0.000001 - Acurácia: 1.000000\n",
      "Época 85/250 - Perda no treinamento: 0.000001 - Acurácia: 1.000000\n",
      "Época 86/250 - Perda no treinamento: 0.000001 - Acurácia: 1.000000\n",
      "Época 87/250 - Perda no treinamento: 0.000001 - Acurácia: 1.000000\n",
      "Época 88/250 - Perda no treinamento: 0.000001 - Acurácia: 1.000000\n",
      "Época 89/250 - Perda no treinamento: 0.000001 - Acurácia: 1.000000\n",
      "Época 90/250 - Perda no treinamento: 0.000001 - Acurácia: 1.000000\n",
      "Época 91/250 - Perda no treinamento: 0.000001 - Acurácia: 1.000000\n",
      "Época 92/250 - Perda no treinamento: 0.000001 - Acurácia: 1.000000\n",
      "Época 93/250 - Perda no treinamento: 0.000001 - Acurácia: 1.000000\n",
      "Época 94/250 - Perda no treinamento: 0.000001 - Acurácia: 1.000000\n",
      "Época 95/250 - Perda no treinamento: 0.000001 - Acurácia: 1.000000\n",
      "Época 96/250 - Perda no treinamento: 0.000001 - Acurácia: 1.000000\n",
      "Época 97/250 - Perda no treinamento: 0.000001 - Acurácia: 1.000000\n",
      "Época 98/250 - Perda no treinamento: 0.000001 - Acurácia: 1.000000\n",
      "Época 99/250 - Perda no treinamento: 0.000001 - Acurácia: 1.000000\n",
      "Época 100/250 - Perda no treinamento: 0.000001 - Acurácia: 1.000000\n",
      "Época 101/250 - Perda no treinamento: 0.000001 - Acurácia: 1.000000\n",
      "Época 102/250 - Perda no treinamento: 0.000001 - Acurácia: 1.000000\n",
      "Época 103/250 - Perda no treinamento: 0.000001 - Acurácia: 1.000000\n",
      "Época 104/250 - Perda no treinamento: 0.000001 - Acurácia: 1.000000\n",
      "Época 105/250 - Perda no treinamento: 0.000001 - Acurácia: 1.000000\n",
      "Época 106/250 - Perda no treinamento: 0.000001 - Acurácia: 1.000000\n",
      "Época 107/250 - Perda no treinamento: 0.000001 - Acurácia: 1.000000\n",
      "Época 108/250 - Perda no treinamento: 0.000001 - Acurácia: 1.000000\n",
      "Época 109/250 - Perda no treinamento: 0.000001 - Acurácia: 1.000000\n",
      "Época 110/250 - Perda no treinamento: 0.000001 - Acurácia: 1.000000\n",
      "Época 111/250 - Perda no treinamento: 0.000001 - Acurácia: 1.000000\n",
      "Época 112/250 - Perda no treinamento: 0.000001 - Acurácia: 1.000000\n",
      "Época 113/250 - Perda no treinamento: 0.000001 - Acurácia: 1.000000\n",
      "Época 114/250 - Perda no treinamento: 0.000001 - Acurácia: 1.000000\n",
      "Época 115/250 - Perda no treinamento: 0.000000 - Acurácia: 1.000000\n",
      "Época 116/250 - Perda no treinamento: 0.000000 - Acurácia: 1.000000\n",
      "Época 117/250 - Perda no treinamento: 0.000000 - Acurácia: 1.000000\n",
      "Época 118/250 - Perda no treinamento: 0.000000 - Acurácia: 1.000000\n",
      "Época 119/250 - Perda no treinamento: 0.000000 - Acurácia: 1.000000\n",
      "Época 120/250 - Perda no treinamento: 0.000000 - Acurácia: 1.000000\n",
      "Época 121/250 - Perda no treinamento: 0.000000 - Acurácia: 1.000000\n",
      "Época 122/250 - Perda no treinamento: 0.000000 - Acurácia: 1.000000\n",
      "Época 123/250 - Perda no treinamento: 0.000000 - Acurácia: 1.000000\n",
      "Época 124/250 - Perda no treinamento: 0.000000 - Acurácia: 1.000000\n",
      "Época 125/250 - Perda no treinamento: 0.000000 - Acurácia: 1.000000\n",
      "Época 126/250 - Perda no treinamento: 0.000000 - Acurácia: 1.000000\n",
      "Época 127/250 - Perda no treinamento: 0.000000 - Acurácia: 1.000000\n",
      "Época 128/250 - Perda no treinamento: 0.000000 - Acurácia: 1.000000\n",
      "Época 129/250 - Perda no treinamento: 0.000000 - Acurácia: 1.000000\n",
      "Época 130/250 - Perda no treinamento: 0.000000 - Acurácia: 1.000000\n",
      "Época 131/250 - Perda no treinamento: 0.000000 - Acurácia: 1.000000\n",
      "Época 132/250 - Perda no treinamento: 0.000000 - Acurácia: 1.000000\n",
      "Época 133/250 - Perda no treinamento: 0.000000 - Acurácia: 1.000000\n",
      "Época 134/250 - Perda no treinamento: 0.000000 - Acurácia: 1.000000\n",
      "Época 135/250 - Perda no treinamento: 0.000000 - Acurácia: 1.000000\n",
      "Época 136/250 - Perda no treinamento: 0.000000 - Acurácia: 1.000000\n",
      "Época 137/250 - Perda no treinamento: 0.000000 - Acurácia: 1.000000\n",
      "Época 138/250 - Perda no treinamento: 0.000000 - Acurácia: 1.000000\n",
      "Época 139/250 - Perda no treinamento: 0.000000 - Acurácia: 1.000000\n",
      "Época 140/250 - Perda no treinamento: 0.000000 - Acurácia: 1.000000\n",
      "Época 141/250 - Perda no treinamento: 0.000000 - Acurácia: 1.000000\n",
      "Época 142/250 - Perda no treinamento: 0.000000 - Acurácia: 1.000000\n",
      "Época 143/250 - Perda no treinamento: 0.000000 - Acurácia: 1.000000\n",
      "Época 144/250 - Perda no treinamento: 0.000000 - Acurácia: 1.000000\n",
      "Época 145/250 - Perda no treinamento: 0.000000 - Acurácia: 1.000000\n",
      "Época 146/250 - Perda no treinamento: 0.000000 - Acurácia: 1.000000\n",
      "Época 147/250 - Perda no treinamento: 0.000000 - Acurácia: 1.000000\n",
      "Época 148/250 - Perda no treinamento: 0.000000 - Acurácia: 1.000000\n",
      "Época 149/250 - Perda no treinamento: 0.000000 - Acurácia: 1.000000\n",
      "Época 150/250 - Perda no treinamento: 0.000000 - Acurácia: 1.000000\n",
      "Época 151/250 - Perda no treinamento: 0.000000 - Acurácia: 1.000000\n",
      "Época 152/250 - Perda no treinamento: 0.000000 - Acurácia: 1.000000\n",
      "Época 153/250 - Perda no treinamento: 0.000000 - Acurácia: 1.000000\n",
      "Época 154/250 - Perda no treinamento: 0.000000 - Acurácia: 1.000000\n",
      "Época 155/250 - Perda no treinamento: 0.000000 - Acurácia: 1.000000\n",
      "Época 156/250 - Perda no treinamento: 0.000000 - Acurácia: 1.000000\n",
      "Época 157/250 - Perda no treinamento: 0.000000 - Acurácia: 1.000000\n",
      "Época 158/250 - Perda no treinamento: 0.000000 - Acurácia: 1.000000\n",
      "Época 159/250 - Perda no treinamento: 0.000000 - Acurácia: 1.000000\n",
      "Época 160/250 - Perda no treinamento: 0.000000 - Acurácia: 1.000000\n",
      "Época 161/250 - Perda no treinamento: 0.000000 - Acurácia: 1.000000\n",
      "Época 162/250 - Perda no treinamento: 0.000000 - Acurácia: 1.000000\n",
      "Época 163/250 - Perda no treinamento: 0.000000 - Acurácia: 1.000000\n",
      "Época 164/250 - Perda no treinamento: 0.000000 - Acurácia: 1.000000\n",
      "Época 165/250 - Perda no treinamento: 0.000000 - Acurácia: 1.000000\n",
      "Época 166/250 - Perda no treinamento: 0.000000 - Acurácia: 1.000000\n",
      "Época 167/250 - Perda no treinamento: 0.000000 - Acurácia: 1.000000\n",
      "Época 168/250 - Perda no treinamento: 0.000000 - Acurácia: 1.000000\n",
      "Época 169/250 - Perda no treinamento: 0.000000 - Acurácia: 1.000000\n",
      "Época 170/250 - Perda no treinamento: 0.000000 - Acurácia: 1.000000\n",
      "Época 171/250 - Perda no treinamento: 0.000000 - Acurácia: 1.000000\n",
      "Época 172/250 - Perda no treinamento: 0.000000 - Acurácia: 1.000000\n",
      "Época 173/250 - Perda no treinamento: 0.000000 - Acurácia: 1.000000\n",
      "Época 174/250 - Perda no treinamento: 0.000000 - Acurácia: 1.000000\n",
      "Época 175/250 - Perda no treinamento: 0.000000 - Acurácia: 1.000000\n",
      "Época 176/250 - Perda no treinamento: 0.000000 - Acurácia: 1.000000\n",
      "Época 177/250 - Perda no treinamento: 0.000000 - Acurácia: 1.000000\n",
      "Época 178/250 - Perda no treinamento: 0.000000 - Acurácia: 1.000000\n",
      "Época 179/250 - Perda no treinamento: 0.000000 - Acurácia: 1.000000\n",
      "Época 180/250 - Perda no treinamento: 0.000000 - Acurácia: 1.000000\n",
      "Época 181/250 - Perda no treinamento: 0.000000 - Acurácia: 1.000000\n",
      "Época 182/250 - Perda no treinamento: 0.000000 - Acurácia: 1.000000\n",
      "Época 183/250 - Perda no treinamento: 0.000000 - Acurácia: 1.000000\n",
      "Época 184/250 - Perda no treinamento: 0.000000 - Acurácia: 1.000000\n",
      "Época 185/250 - Perda no treinamento: 0.000000 - Acurácia: 1.000000\n",
      "Época 186/250 - Perda no treinamento: 0.000000 - Acurácia: 1.000000\n",
      "Época 187/250 - Perda no treinamento: 0.000000 - Acurácia: 1.000000\n",
      "Época 188/250 - Perda no treinamento: 0.000000 - Acurácia: 1.000000\n",
      "Época 189/250 - Perda no treinamento: 0.000000 - Acurácia: 1.000000\n",
      "Época 190/250 - Perda no treinamento: 0.000000 - Acurácia: 1.000000\n",
      "Época 191/250 - Perda no treinamento: 0.000000 - Acurácia: 1.000000\n",
      "Época 192/250 - Perda no treinamento: 0.000000 - Acurácia: 1.000000\n",
      "Época 193/250 - Perda no treinamento: 0.000000 - Acurácia: 1.000000\n",
      "Época 194/250 - Perda no treinamento: 0.000000 - Acurácia: 1.000000\n",
      "Época 195/250 - Perda no treinamento: 0.000000 - Acurácia: 1.000000\n",
      "Época 196/250 - Perda no treinamento: 0.000000 - Acurácia: 1.000000\n",
      "Época 197/250 - Perda no treinamento: 0.000000 - Acurácia: 1.000000\n",
      "Época 198/250 - Perda no treinamento: 0.000000 - Acurácia: 1.000000\n",
      "Época 199/250 - Perda no treinamento: 0.000000 - Acurácia: 1.000000\n",
      "Época 200/250 - Perda no treinamento: 0.000000 - Acurácia: 1.000000\n",
      "Época 201/250 - Perda no treinamento: 0.000000 - Acurácia: 1.000000\n",
      "Época 202/250 - Perda no treinamento: 0.000000 - Acurácia: 1.000000\n",
      "Época 203/250 - Perda no treinamento: 0.000000 - Acurácia: 1.000000\n",
      "Época 204/250 - Perda no treinamento: 0.000000 - Acurácia: 1.000000\n",
      "Época 205/250 - Perda no treinamento: 0.000000 - Acurácia: 1.000000\n",
      "Época 206/250 - Perda no treinamento: 0.000000 - Acurácia: 1.000000\n",
      "Época 207/250 - Perda no treinamento: 0.000000 - Acurácia: 1.000000\n",
      "Época 208/250 - Perda no treinamento: 0.000000 - Acurácia: 1.000000\n",
      "Época 209/250 - Perda no treinamento: 0.000000 - Acurácia: 1.000000\n",
      "Época 210/250 - Perda no treinamento: 0.000000 - Acurácia: 1.000000\n",
      "Época 211/250 - Perda no treinamento: 0.000000 - Acurácia: 1.000000\n",
      "Época 212/250 - Perda no treinamento: 0.000000 - Acurácia: 1.000000\n",
      "Época 213/250 - Perda no treinamento: 0.000000 - Acurácia: 1.000000\n",
      "Época 214/250 - Perda no treinamento: 0.000000 - Acurácia: 1.000000\n",
      "Época 215/250 - Perda no treinamento: 0.000000 - Acurácia: 1.000000\n",
      "Época 216/250 - Perda no treinamento: 0.000000 - Acurácia: 1.000000\n",
      "Época 217/250 - Perda no treinamento: 0.000000 - Acurácia: 1.000000\n",
      "Época 218/250 - Perda no treinamento: 0.000000 - Acurácia: 1.000000\n",
      "Época 219/250 - Perda no treinamento: 0.000000 - Acurácia: 1.000000\n",
      "Época 220/250 - Perda no treinamento: 0.000000 - Acurácia: 1.000000\n",
      "Época 221/250 - Perda no treinamento: 0.000000 - Acurácia: 1.000000\n",
      "Época 222/250 - Perda no treinamento: 0.000000 - Acurácia: 1.000000\n",
      "Época 223/250 - Perda no treinamento: 0.000000 - Acurácia: 1.000000\n",
      "Época 224/250 - Perda no treinamento: 0.000000 - Acurácia: 1.000000\n",
      "Época 225/250 - Perda no treinamento: 0.000000 - Acurácia: 1.000000\n",
      "Época 226/250 - Perda no treinamento: 0.000000 - Acurácia: 1.000000\n",
      "Época 227/250 - Perda no treinamento: 0.000000 - Acurácia: 1.000000\n",
      "Época 228/250 - Perda no treinamento: 0.000000 - Acurácia: 1.000000\n",
      "Época 229/250 - Perda no treinamento: 0.000000 - Acurácia: 1.000000\n",
      "Época 230/250 - Perda no treinamento: 0.000000 - Acurácia: 1.000000\n",
      "Época 231/250 - Perda no treinamento: 0.000000 - Acurácia: 1.000000\n",
      "Época 232/250 - Perda no treinamento: 0.000000 - Acurácia: 1.000000\n",
      "Época 233/250 - Perda no treinamento: 0.000000 - Acurácia: 1.000000\n",
      "Época 234/250 - Perda no treinamento: 0.000000 - Acurácia: 1.000000\n",
      "Época 235/250 - Perda no treinamento: 0.000000 - Acurácia: 1.000000\n",
      "Época 236/250 - Perda no treinamento: 0.000000 - Acurácia: 1.000000\n",
      "Época 237/250 - Perda no treinamento: 0.000000 - Acurácia: 1.000000\n",
      "Época 238/250 - Perda no treinamento: 0.000000 - Acurácia: 1.000000\n",
      "Época 239/250 - Perda no treinamento: 0.000000 - Acurácia: 1.000000\n",
      "Época 240/250 - Perda no treinamento: 0.000000 - Acurácia: 1.000000\n",
      "Época 241/250 - Perda no treinamento: 0.000000 - Acurácia: 1.000000\n",
      "Época 242/250 - Perda no treinamento: 0.000000 - Acurácia: 1.000000\n",
      "Época 243/250 - Perda no treinamento: 0.000000 - Acurácia: 1.000000\n",
      "Época 244/250 - Perda no treinamento: 0.000000 - Acurácia: 1.000000\n",
      "Época 245/250 - Perda no treinamento: 0.000000 - Acurácia: 1.000000\n",
      "Época 246/250 - Perda no treinamento: 0.000000 - Acurácia: 1.000000\n",
      "Época 247/250 - Perda no treinamento: 0.000000 - Acurácia: 1.000000\n",
      "Época 248/250 - Perda no treinamento: 0.000000 - Acurácia: 1.000000\n",
      "Época 249/250 - Perda no treinamento: 0.000000 - Acurácia: 1.000000\n",
      "Época 250/250 - Perda no treinamento: 0.000000 - Acurácia: 1.000000\n",
      "Tempo total de treinamento: 3077.00 segundos\n"
     ]
    }
   ],
   "source": [
    "train_losses = []\n",
    "train_acc = []\n",
    "\n",
    "training_start_time = time.time()\n",
    "\n",
    "for epoch in range(num_epoch):\n",
    "    model.train()\n",
    "    running_train_loss = 0.0\n",
    "\n",
    "    for inputs, labels in train_loader:\n",
    "        inputs = inputs.view(-1, 164*164*3).to(device)\n",
    "        labels = labels.to(device)\n",
    "    \n",
    "        optimizer.zero_grad()\n",
    "        outputs = model(inputs)\n",
    "\n",
    "        loss = loss_fn(outputs, labels)\n",
    "        loss.backward()\n",
    "        optimizer.step()\n",
    "        running_train_loss += loss.item()\n",
    "\n",
    "    train_loss = running_train_loss / len(train_loader)\n",
    "    train_losses.append(train_loss)\n",
    "\n",
    "    _, predicted = torch.max(outputs.data, 1)\n",
    "\n",
    "    acc = accuracy_score(labels.cpu().detach().numpy(), predicted.cpu().detach().numpy())\n",
    "    train_acc.append(acc)\n",
    "\n",
    "    print(f\"Época {epoch + 1}/{num_epoch} - Perda no treinamento: {train_loss:.6f} - Acurácia: {acc:.6f}\")\n",
    "\n",
    "training_time = time.time() - training_start_time\n",
    "print(f\"Tempo total de treinamento: {training_time:.2f} segundos\")"
   ]
  },
  {
   "cell_type": "code",
   "execution_count": 14,
   "id": "b3cefe95-b202-4037-be85-2b492b1da9a1",
   "metadata": {},
   "outputs": [
    {
     "data": {
      "text/plain": [
       "Text(0.5, 0.98, 'Treinamento')"
      ]
     },
     "execution_count": 14,
     "metadata": {},
     "output_type": "execute_result"
    },
    {
     "data": {
      "image/png": "[encoded data removed]",
      "text/plain": [
       "<Figure size 1200x500 with 2 Axes>"
      ]
     },
     "metadata": {},
     "output_type": "display_data"
    }
   ],
   "source": [
    "epochs = range(1, num_epoch + 1)\n",
    "\n",
    "plt.figure(figsize=(12, 5))\n",
    "\n",
    "plt.subplot(1, 2, 1)\n",
    "plt.plot(epochs, train_losses, 'bo-')\n",
    "plt.xlabel('Épocas')\n",
    "plt.ylabel('Perda')\n",
    "\n",
    "plt.subplot(1, 2, 2)\n",
    "plt.plot(epochs, train_acc, 'ro-')\n",
    "plt.xlabel('Épocas')\n",
    "plt.ylabel('Acurácia')\n",
    "\n",
    "plt.suptitle(\"Treinamento\", fontsize = 20)"
   ]
  },
  {
   "cell_type": "code",
   "execution_count": 15,
   "id": "504e3333-6256-4349-b805-f0a4e1bc3dc2",
   "metadata": {},
   "outputs": [
    {
     "name": "stdout",
     "output_type": "stream",
     "text": [
      "!!!Teste finalizado!!!\n"
     ]
    }
   ],
   "source": [
    "rot_array = []\n",
    "predt_array = []\n",
    "\n",
    "model.eval()\n",
    "    \n",
    "with torch.no_grad():\n",
    "        \n",
    "    for images, labels in test_loader:\n",
    "        images = images.view(-1, 164*164*3).to(device)\n",
    "        labels = labels.to(device)\n",
    "        \n",
    "        outputs = model(images)\n",
    "        _, predicted = torch.max(outputs.data, 1)\n",
    "\n",
    "        rot_array.extend(labels.cpu().detach().numpy())\n",
    "        predt_array.extend(predicted.cpu().detach().numpy())\n",
    "        \n",
    "print(\"!!!Teste finalizado!!!\")"
   ]
  },
  {
   "cell_type": "markdown",
   "id": "33459ca6-ec7a-48a4-a510-a9f77c353ba3",
   "metadata": {},
   "source": [
    "# <center>Métricas de avaliação</center>"
   ]
  },
  {
   "cell_type": "code",
   "execution_count": 16,
   "id": "7e756c77-100b-469b-a4fd-bb8a4e425acc",
   "metadata": {},
   "outputs": [
    {
     "data": {
      "image/png": "[encoded data removed]",
      "text/plain": [
       "<Figure size 640x480 with 2 Axes>"
      ]
     },
     "metadata": {},
     "output_type": "display_data"
    }
   ],
   "source": [
    "cm = confusion_matrix(rot_array, predt_array)\n",
    "\n",
    "disp = ConfusionMatrixDisplay(confusion_matrix=cm, display_labels=['Normal', 'Pneumonia', 'Tuberculose'])\n",
    "disp.plot(cmap=plt.cm.Blues)\n",
    "\n",
    "plt.xlabel('Rótulo previsto')\n",
    "plt.ylabel('Rótulo verdadeiro')\n",
    "plt.show()"
   ]
  },
  {
   "cell_type": "code",
   "execution_count": 17,
   "id": "836a8799",
   "metadata": {},
   "outputs": [
    {
     "name": "stdout",
     "output_type": "stream",
     "text": [
      "Acurácia: 95.00%\n"
     ]
    }
   ],
   "source": [
    "acc = accuracy_score(rot_array, predt_array)\n",
    "print(f\"Acurácia: {acc * 100 :.2f}%\")"
   ]
  },
  {
   "cell_type": "code",
   "execution_count": 18,
   "id": "ab7f02ca-3310-468b-bc2c-dd9ae7a2129d",
   "metadata": {},
   "outputs": [
    {
     "name": "stdout",
     "output_type": "stream",
     "text": [
      "Precisão: 94.99%\n"
     ]
    }
   ],
   "source": [
    "precision = precision_score(rot_array, predt_array, average='weighted')\n",
    "print(f\"Precisão: {precision * 100 :.2f}%\")"
   ]
  },
  {
   "cell_type": "code",
   "execution_count": 19,
   "id": "ed2a326a-258d-47aa-b9a2-ad297b6e335c",
   "metadata": {},
   "outputs": [
    {
     "name": "stdout",
     "output_type": "stream",
     "text": [
      "Recall: 95.00%\n"
     ]
    }
   ],
   "source": [
    "recall = recall_score(rot_array, predt_array, average='weighted')\n",
    "print(f\"Recall: {recall * 100 :.2f}%\")"
   ]
  },
  {
   "cell_type": "code",
   "execution_count": 20,
   "id": "ecacbcd3-4bf1-4997-9b2f-5e9c83bd6a0c",
   "metadata": {},
   "outputs": [
    {
     "name": "stdout",
     "output_type": "stream",
     "text": [
      "F1 Score: 94.97%\n"
     ]
    }
   ],
   "source": [
    "f1 = f1_score(rot_array, predt_array, average='weighted')\n",
    "print(f\"F1 Score: {f1 * 100 :.2f}%\")"
   ]
  }
 ],
 "metadata": {
  "kernelspec": {
   "display_name": "Python 3 (ipykernel)",
   "language": "python",
   "name": "python3"
  },
  "language_info": {
   "codemirror_mode": {
    "name": "ipython",
    "version": 3
   },
   "file_extension": ".py",
   "mimetype": "text/x-python",
   "name": "python",
   "nbconvert_exporter": "python",
   "pygments_lexer": "ipython3",
   "version": "3.12.8"
  }
 },
 "nbformat": 4,
 "nbformat_minor": 5
}
