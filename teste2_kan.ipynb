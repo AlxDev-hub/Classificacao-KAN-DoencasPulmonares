{
 "cells": [
  {
   "cell_type": "code",
   "execution_count": null,
   "id": "39b041b3-fe5c-4a26-96d9-23e3f90d7655",
   "metadata": {},
   "outputs": [],
   "source": [
    "from kan import KAN\n",
    "\n",
    "import torchvision.transforms as transforms\n",
    "import torchvision.datasets as datasets\n",
    "from torch.utils.data import DataLoader\n",
    "import torch\n",
    "\n",
    "import numpy as np\n",
    "import matplotlib.pyplot as plt\n",
    "\n",
    "from sklearn.metrics import *"
   ]
  },
  {
   "cell_type": "markdown",
   "id": "b8b33dd3-8361-4b2a-b6a5-4fb5a6bf1398",
   "metadata": {},
   "source": [
    "# <center>Pré-processamento dos dados</center>"
   ]
  },
  {
   "cell_type": "code",
   "execution_count": null,
   "id": "259a78ad-f7b0-40bd-a8a9-c80acef1263a",
   "metadata": {},
   "outputs": [],
   "source": [
    "train_path = 'Dataset/train'\n",
    "test_path = 'Dataset/test'"
   ]
  },
  {
   "cell_type": "code",
   "execution_count": null,
   "id": "e40bf47f-df03-43a8-8ecf-8957ce7a7985",
   "metadata": {},
   "outputs": [],
   "source": [
    "#Aumentar a quantidade de técnicas de aumento de dados\n",
    "transform_train = transforms.Compose(\n",
    "    [transforms.Resize(size = (164,164)),\n",
    "     transforms.RandomRotation(degrees=15),\n",
    "     transforms.RandomHorizontalFlip(),\n",
    "     transforms.ToTensor(),\n",
    "     transforms.Normalize(mean=[0.5], std=[0.5])\n",
    "    ]\n",
    ")\n",
    "\n",
    "transform_test = transforms.Compose(\n",
    "    [transforms.Resize(size = (164,164)),\n",
    "     transforms.ToTensor(),\n",
    "     transforms.Normalize(mean=[0.5], std=[0.5])\n",
    "    ]\n",
    ")"
   ]
  },
  {
   "cell_type": "code",
   "execution_count": null,
   "id": "f3e47039-ec24-478c-8273-39508a261543",
   "metadata": {},
   "outputs": [],
   "source": [
    "train_dataset = datasets.ImageFolder(train_path, transform = transform_train)\n",
    "test_dataset = datasets.ImageFolder(test_path, transform = transform_test)"
   ]
  },
  {
   "cell_type": "code",
   "execution_count": null,
   "id": "10057abd-4b4b-4150-9864-4d0c54ab3e25",
   "metadata": {},
   "outputs": [],
   "source": [
    "trainloader = DataLoader(train_dataset, shuffle = True)\n",
    "testloader = DataLoader(test_dataset, shuffle = True)"
   ]
  },
  {
   "cell_type": "code",
   "execution_count": null,
   "id": "c8956ab8-37cd-4dba-8806-8c024016d312",
   "metadata": {},
   "outputs": [],
   "source": [
    "train_data = []\n",
    "train_targets = []\n",
    "\n",
    "for batch_data_train, batch_targets_train in trainloader:\n",
    "    train_data.append(batch_data_train)\n",
    "    train_targets.append(batch_targets_train)\n",
    "\n",
    "train_data = torch.cat(train_data, dim=0)\n",
    "train_targets = torch.cat(train_targets, dim=0)"
   ]
  },
  {
   "cell_type": "code",
   "execution_count": null,
   "id": "feb36ba8-43de-428c-af2c-edcff616b3b2",
   "metadata": {},
   "outputs": [],
   "source": [
    "print(\"Targets train:\")\n",
    "print(train_targets)"
   ]
  },
  {
   "cell_type": "code",
   "execution_count": null,
   "id": "7fc9ac53-695b-405e-b400-6273fde26a43",
   "metadata": {},
   "outputs": [],
   "source": [
    "test_data = []\n",
    "test_targets = []\n",
    "\n",
    "for batch_data_test, batch_targets_test in testloader:\n",
    "    test_data.append(batch_data_test)\n",
    "    test_targets.append(batch_targets_test)\n",
    "\n",
    "test_data = torch.cat(test_data, dim=0)\n",
    "test_targets = torch.cat(test_targets, dim=0)"
   ]
  },
  {
   "cell_type": "code",
   "execution_count": null,
   "id": "f4864ecd-43ab-4995-b1c5-d2551b64d7b9",
   "metadata": {},
   "outputs": [],
   "source": [
    "print(\"Targets test:\")\n",
    "print(test_targets)"
   ]
  },
  {
   "cell_type": "code",
   "execution_count": null,
   "id": "325ba56a-7682-41e1-b14c-7c6229da5b96",
   "metadata": {},
   "outputs": [],
   "source": [
    "dataset = {}\n",
    "\n",
    "dataset['train_input'] = train_data.view(-1, 164*164*3)\n",
    "dataset['test_input'] = test_data.view(-1, 164*164*3)\n",
    "dataset['train_label'] = train_targets\n",
    "dataset['test_label'] = test_targets"
   ]
  },
  {
   "cell_type": "markdown",
   "id": "c4815e7e-4e41-46c1-be59-12b291473ebb",
   "metadata": {},
   "source": [
    "# <center>Implementação da arquitetura KAN</center>"
   ]
  },
  {
   "cell_type": "code",
   "execution_count": null,
   "id": "f98705f6-55b9-4f29-9c55-e17a239b4a9b",
   "metadata": {},
   "outputs": [],
   "source": [
    "model = KAN(width=[dataset['train_input'].shape[1], 14, 3], grid=3, k=3, base_fun=torch.nn.ReLU(), auto_save=False)"
   ]
  },
  {
   "cell_type": "code",
   "execution_count": null,
   "id": "69f2f3f1-43ae-42bf-966d-9e07daea9177",
   "metadata": {},
   "outputs": [],
   "source": [
    "dtype = torch.get_default_dtype()\n",
    "\n",
    "def train_acc():\n",
    "    return torch.mean((torch.argmax(model(dataset['train_input']), dim=1) == dataset['train_label']).type(dtype))\n",
    "\n",
    "def test_acc():\n",
    "    return torch.mean((torch.argmax(model(dataset['test_input']), dim=1) == dataset['test_label']).type(dtype))\n"
   ]
  },
  {
   "cell_type": "code",
   "execution_count": null,
   "id": "e88a6c40-779f-4ad0-90e6-c0d11bb98d1b",
   "metadata": {},
   "outputs": [],
   "source": [
    "results = model.fit(dataset, opt=\"Adam\", steps=250, metrics=(train_acc, test_acc), \n",
    "                    loss_fn=torch.nn.CrossEntropyLoss(), lr=0.001, batch=30)"
   ]
  },
  {
   "cell_type": "code",
   "execution_count": null,
   "id": "380efa3e-49a7-4bc3-93c7-697f6318a891",
   "metadata": {},
   "outputs": [],
   "source": [
    "results['train_acc'][-1], results['test_acc'][-1]"
   ]
  },
  {
   "cell_type": "code",
   "execution_count": null,
   "id": "cf5d4e0e-bc69-4187-940d-8e021ceaaa91",
   "metadata": {},
   "outputs": [],
   "source": [
    "epochs = range(1, 251)\n",
    "\n",
    "plt.figure(figsize=(12, 5))\n",
    "\n",
    "plt.subplot(1, 2, 1)\n",
    "plt.plot(epochs, results['train_loss'], 'bo-')\n",
    "plt.xlabel('Épocas')\n",
    "plt.ylabel('Perda')\n",
    "\n",
    "plt.subplot(1, 2, 2)\n",
    "plt.plot(epochs, results['train_acc'], 'ro-')\n",
    "plt.xlabel('Épocas')\n",
    "plt.ylabel('Acurácia')\n",
    "\n",
    "plt.suptitle(\"Treinamento\", fontsize = 20)"
   ]
  },
  {
   "cell_type": "code",
   "execution_count": null,
   "id": "12c2804c-bb27-4d99-a114-fae2c60ed98d",
   "metadata": {},
   "outputs": [],
   "source": [
    "epochs = range(1, 251)\n",
    "\n",
    "plt.figure(figsize=(12, 5))\n",
    "\n",
    "plt.subplot(1, 2, 1)\n",
    "plt.plot(epochs, results['test_loss'], 'bo-')\n",
    "plt.xlabel('Épocas')\n",
    "plt.ylabel('Perda')\n",
    "\n",
    "plt.subplot(1, 2, 2)\n",
    "plt.plot(epochs, results['test_acc'], 'ro-')\n",
    "plt.xlabel('Épocas')\n",
    "plt.ylabel('Acurácia')\n",
    "\n",
    "plt.suptitle(\"Teste\", fontsize = 20)"
   ]
  },
  {
   "cell_type": "code",
   "execution_count": null,
   "id": "f9611da3-e5bb-4dc6-b35a-6f81fc1c46a5",
   "metadata": {},
   "outputs": [],
   "source": [
    "test_outputs = model(dataset['test_input'])\n",
    "test_predictions = torch.argmax(test_outputs, dim=1).numpy()"
   ]
  },
  {
   "cell_type": "markdown",
   "id": "ef899577-a89b-4b1d-8e78-5da9c9af9501",
   "metadata": {},
   "source": [
    "# <center>Métricas de avaliação</center>"
   ]
  },
  {
   "cell_type": "code",
   "execution_count": null,
   "id": "464c6eeb-04d3-4b96-a01f-13b1fa3dc554",
   "metadata": {},
   "outputs": [],
   "source": [
    "cm = confusion_matrix(dataset['test_label'], test_predictions)\n",
    "\n",
    "disp = ConfusionMatrixDisplay(confusion_matrix=cm, display_labels=['Normal', 'Pneumonia', 'Tuberculose'])\n",
    "disp.plot(cmap=plt.cm.Blues)\n",
    "\n",
    "plt.xlabel('Rótulo previsto')\n",
    "plt.ylabel('Rótulo verdadeiro')\n",
    "plt.show()"
   ]
  },
  {
   "cell_type": "code",
   "execution_count": null,
   "id": "a9d96105-4504-4ab5-8dce-27b821d3ab2f",
   "metadata": {},
   "outputs": [],
   "source": [
    "accuracy = accuracy_score(dataset['test_label'], test_predictions)\n",
    "print(f\"Acurácia: {accuracy:.2f}\")"
   ]
  },
  {
   "cell_type": "code",
   "execution_count": null,
   "id": "9230ff87-a2ca-498b-95e8-d07b20c67ca6",
   "metadata": {},
   "outputs": [],
   "source": [
    "precision = precision_score(dataset['test_label'], test_predictions, average='weighted')\n",
    "print(f\"Precisão: {precision:.2f}\")"
   ]
  },
  {
   "cell_type": "code",
   "execution_count": null,
   "id": "fef7bed7-8b48-45e8-92b8-d98f27d90f83",
   "metadata": {},
   "outputs": [],
   "source": [
    "recall = recall_score(dataset['test_label'], test_predictions, average='weighted')\n",
    "print(f\"Recall: {recall:.2f}\")"
   ]
  },
  {
   "cell_type": "code",
   "execution_count": null,
   "id": "e470b9f4-f1ae-491b-8570-399862de44ca",
   "metadata": {},
   "outputs": [],
   "source": [
    "f1 = f1_score(dataset['test_label'], test_predictions, average='weighted')\n",
    "print(f\"F1 Score: {f1:.2f}\")"
   ]
  }
 ],
 "metadata": {
  "kernelspec": {
   "display_name": "Python 3 (ipykernel)",
   "language": "python",
   "name": "python3"
  },
  "language_info": {
   "codemirror_mode": {
    "name": "ipython",
    "version": 3
   },
   "file_extension": ".py",
   "mimetype": "text/x-python",
   "name": "python",
   "nbconvert_exporter": "python",
   "pygments_lexer": "ipython3",
   "version": "3.10.12"
  }
 },
 "nbformat": 4,
 "nbformat_minor": 5
}
