{
 "cells": [
  {
   "cell_type": "code",
   "execution_count": 1,
   "id": "39b041b3-fe5c-4a26-96d9-23e3f90d7655",
   "metadata": {},
   "outputs": [],
   "source": [
    "from kan import KAN\n",
    "import cv2\n",
    "import numpy as np\n",
    "import matplotlib.pyplot as plt\n",
    "import torch\n",
    "import os\n",
    "from sklearn.metrics import confusion_matrix, accuracy_score, precision_score, recall_score, f1_score, roc_auc_score, roc_curve, ConfusionMatrixDisplay\n",
    "from sklearn.model_selection import train_test_split"
   ]
  },
  {
   "cell_type": "markdown",
   "id": "b8b33dd3-8361-4b2a-b6a5-4fb5a6bf1398",
   "metadata": {},
   "source": [
    "# Pré-processamento dos dados"
   ]
  },
  {
   "cell_type": "code",
   "execution_count": 5,
   "id": "259a78ad-f7b0-40bd-a8a9-c80acef1263a",
   "metadata": {},
   "outputs": [],
   "source": [
    "dataset_path = 'Dataset'"
   ]
  },
  {
   "cell_type": "code",
   "execution_count": 6,
   "id": "e40bf47f-df03-43a8-8ecf-8957ce7a7985",
   "metadata": {},
   "outputs": [],
   "source": [
    "X = []\n",
    "y = []\n",
    "\n",
    "classes = ['NORMAL', 'PNEUMONIA']"
   ]
  },
  {
   "cell_type": "code",
   "execution_count": 7,
   "id": "f3e47039-ec24-478c-8273-39508a261543",
   "metadata": {},
   "outputs": [],
   "source": [
    "for class_index, class_name in enumerate(classes):\n",
    "    class_path = os.path.join(dataset_path, class_name)\n",
    "    for image_name in os.listdir(class_path):\n",
    "        image_path = os.path.join(class_path, image_name)\n",
    "        image = cv2.imread(image_path)\n",
    "        \n",
    "        image = cv2.resize(image, (224, 224))\n",
    "        image = image.flatten()\n",
    "        \n",
    "        X.append(image)\n",
    "        y.append(class_index)\n",
    "\n",
    "X = np.array(X)\n",
    "y = np.array(y)"
   ]
  },
  {
   "cell_type": "code",
   "execution_count": 8,
   "id": "d6ea3516-94b2-4de7-998b-6039ddf1e943",
   "metadata": {},
   "outputs": [],
   "source": [
    "X = X / 255.0"
   ]
  },
  {
   "cell_type": "code",
   "execution_count": 12,
   "id": "298661a2-3fe8-4b96-8224-2aae142aa69f",
   "metadata": {},
   "outputs": [
    {
     "name": "stdout",
     "output_type": "stream",
     "text": [
      "Formato do X: (100, 150528)\n",
      "Formato do y: (100,)\n"
     ]
    }
   ],
   "source": [
    "print('Formato do X:', X.shape)\n",
    "print('Formato do y:', y.shape)"
   ]
  },
  {
   "cell_type": "code",
   "execution_count": 13,
   "id": "285c06b2-7aed-42cd-a798-8d1cdf2163d4",
   "metadata": {},
   "outputs": [],
   "source": [
    "X_train, X_test, y_train, y_test = train_test_split(X, y, test_size=0.3, random_state=42)"
   ]
  },
  {
   "cell_type": "code",
   "execution_count": 17,
   "id": "e1c9f074-dd0a-4d46-8fde-7dee0c8e60b3",
   "metadata": {},
   "outputs": [
    {
     "name": "stdout",
     "output_type": "stream",
     "text": [
      "Formato do X_train: (70, 150528)\n",
      "Formato do y_train: (70,)\n"
     ]
    }
   ],
   "source": [
    "print('Formato do X_train:', X_train.shape)\n",
    "print('Formato do y_train:', y_train.shape)"
   ]
  },
  {
   "cell_type": "code",
   "execution_count": 18,
   "id": "96194d04-4fd7-4612-ad50-e1890b559a8a",
   "metadata": {},
   "outputs": [
    {
     "name": "stdout",
     "output_type": "stream",
     "text": [
      "Formato do X_test: (30, 150528)\n",
      "Formato do y_test: (30,)\n"
     ]
    }
   ],
   "source": [
    "print('Formato do X_test:', X_test.shape)\n",
    "print('Formato do y_test:', y_test.shape)"
   ]
  },
  {
   "cell_type": "code",
   "execution_count": 19,
   "id": "78f7bb06-3485-4f56-a4c8-eea5d346fa33",
   "metadata": {},
   "outputs": [],
   "source": [
    "dataset = {}\n",
    "\n",
    "dtype = torch.get_default_dtype()\n",
    "\n",
    "dataset['train_input'] = torch.from_numpy(X_train).type(dtype)\n",
    "dataset['test_input'] = torch.from_numpy(X_test).type(dtype)\n",
    "dataset['train_label'] = torch.from_numpy(y_train).type(torch.long)\n",
    "dataset['test_label'] = torch.from_numpy(y_test).type(torch.long)"
   ]
  },
  {
   "cell_type": "markdown",
   "id": "c4815e7e-4e41-46c1-be59-12b291473ebb",
   "metadata": {},
   "source": [
    "# Implementação da arquitetura KAN"
   ]
  },
  {
   "cell_type": "code",
   "execution_count": 20,
   "id": "f98705f6-55b9-4f29-9c55-e17a239b4a9b",
   "metadata": {},
   "outputs": [
    {
     "name": "stdout",
     "output_type": "stream",
     "text": [
      "checkpoint directory created: ./model\n",
      "saving model version 0.0\n"
     ]
    }
   ],
   "source": [
    "model = KAN(width=[X_train.shape[1], 2], grid=3, k=3)"
   ]
  },
  {
   "cell_type": "code",
   "execution_count": 22,
   "id": "f9049874-f461-4ab5-84b0-20dd1913e6c4",
   "metadata": {},
   "outputs": [
    {
     "data": {
      "text/plain": [
       "MultKAN(\n",
       "  (act_fun): ModuleList(\n",
       "    (0): KANLayer(\n",
       "      (base_fun): SiLU()\n",
       "    )\n",
       "  )\n",
       "  (base_fun): SiLU()\n",
       "  (symbolic_fun): ModuleList(\n",
       "    (0): Symbolic_KANLayer()\n",
       "  )\n",
       ")"
      ]
     },
     "execution_count": 22,
     "metadata": {},
     "output_type": "execute_result"
    }
   ],
   "source": [
    "device = torch.device(\"cuda:0\" if torch.cuda.is_available() else \"cpu\")\n",
    "model.to(device)"
   ]
  },
  {
   "cell_type": "code",
   "execution_count": 23,
   "id": "dbf7170a-c3a3-4936-8147-2e85e54bc0f7",
   "metadata": {},
   "outputs": [],
   "source": [
    "def train_acc():\n",
    "    return torch.mean((torch.argmax(model(dataset['train_input']), dim=1) == dataset['train_label']).type(dtype))\n",
    "\n",
    "def test_acc():\n",
    "    return torch.mean((torch.argmax(model(dataset['test_input']), dim=1) == dataset['test_label']).type(dtype))"
   ]
  },
  {
   "cell_type": "code",
   "execution_count": 24,
   "id": "e88a6c40-779f-4ad0-90e6-c0d11bb98d1b",
   "metadata": {},
   "outputs": [
    {
     "name": "stderr",
     "output_type": "stream",
     "text": [
      "| train_loss: 4.13e-05 | test_loss: 1.07e+00 | reg: 3.03e+04 | : 100%|█| 20/20 [16:12<00:00, 48.61s/\n"
     ]
    },
    {
     "name": "stdout",
     "output_type": "stream",
     "text": [
      "saving model version 0.1\n"
     ]
    },
    {
     "data": {
      "text/plain": [
       "(1.0, 0.8999999761581421)"
      ]
     },
     "execution_count": 24,
     "metadata": {},
     "output_type": "execute_result"
    }
   ],
   "source": [
    "results = model.fit(dataset, opt=\"LBFGS\", steps=20, metrics=(train_acc, test_acc), loss_fn=torch.nn.CrossEntropyLoss());\n",
    "results['train_acc'][-1], results['test_acc'][-1]"
   ]
  },
  {
   "cell_type": "code",
   "execution_count": 26,
   "id": "ec974999-539b-481c-aaee-5f5dc07259b3",
   "metadata": {},
   "outputs": [
    {
     "data": {
      "image/png": "[encoded data removed]",
      "text/plain": [
       "<Figure size 640x480 with 1 Axes>"
      ]
     },
     "metadata": {},
     "output_type": "display_data"
    }
   ],
   "source": [
    "plt.plot(results['train_acc'], label='Train Acc')\n",
    "plt.plot(results['test_acc'], label='Test Acc')\n",
    "plt.xlabel('Steps')\n",
    "plt.ylabel('Acc')\n",
    "plt.legend()\n",
    "plt.show()"
   ]
  },
  {
   "cell_type": "code",
   "execution_count": 27,
   "id": "f9611da3-e5bb-4dc6-b35a-6f81fc1c46a5",
   "metadata": {},
   "outputs": [],
   "source": [
    "test_outputs = model(dataset['test_input'])\n",
    "test_predictions = torch.argmax(test_outputs, dim=1).numpy()"
   ]
  },
  {
   "cell_type": "markdown",
   "id": "ef899577-a89b-4b1d-8e78-5da9c9af9501",
   "metadata": {},
   "source": [
    "# Métricas de avaliação"
   ]
  },
  {
   "cell_type": "code",
   "execution_count": 28,
   "id": "464c6eeb-04d3-4b96-a01f-13b1fa3dc554",
   "metadata": {},
   "outputs": [
    {
     "data": {
      "image/png": "[encoded data removed]",
      "text/plain": [
       "<Figure size 640x480 with 2 Axes>"
      ]
     },
     "metadata": {},
     "output_type": "display_data"
    }
   ],
   "source": [
    "cm = confusion_matrix(y_test, test_predictions)\n",
    "\n",
    "disp = ConfusionMatrixDisplay(confusion_matrix=cm, display_labels=['Normal', 'Pneumonia'])\n",
    "disp.plot(cmap=plt.cm.Blues)\n",
    "\n",
    "plt.xlabel('Rótulo previsto')\n",
    "plt.ylabel('Rótulo verdadeiro')\n",
    "plt.show()"
   ]
  },
  {
   "cell_type": "code",
   "execution_count": 29,
   "id": "a9d96105-4504-4ab5-8dce-27b821d3ab2f",
   "metadata": {},
   "outputs": [
    {
     "name": "stdout",
     "output_type": "stream",
     "text": [
      "Acurácia: 0.90\n"
     ]
    }
   ],
   "source": [
    "accuracy = accuracy_score(y_test, test_predictions)\n",
    "print(f\"Acurácia: {accuracy:.2f}\")"
   ]
  },
  {
   "cell_type": "code",
   "execution_count": 30,
   "id": "9230ff87-a2ca-498b-95e8-d07b20c67ca6",
   "metadata": {},
   "outputs": [
    {
     "name": "stdout",
     "output_type": "stream",
     "text": [
      "Precisão: 0.92\n"
     ]
    }
   ],
   "source": [
    "precision = precision_score(y_test, test_predictions, average='weighted')\n",
    "print(f\"Precisão: {precision:.2f}\")"
   ]
  },
  {
   "cell_type": "code",
   "execution_count": 31,
   "id": "fef7bed7-8b48-45e8-92b8-d98f27d90f83",
   "metadata": {},
   "outputs": [
    {
     "name": "stdout",
     "output_type": "stream",
     "text": [
      "Recall: 0.90\n"
     ]
    }
   ],
   "source": [
    "recall = recall_score(y_test, test_predictions, average='weighted')\n",
    "print(f\"Recall: {recall:.2f}\")"
   ]
  },
  {
   "cell_type": "code",
   "execution_count": 32,
   "id": "e470b9f4-f1ae-491b-8570-399862de44ca",
   "metadata": {},
   "outputs": [
    {
     "name": "stdout",
     "output_type": "stream",
     "text": [
      "F1 Score: 0.90\n"
     ]
    }
   ],
   "source": [
    "f1 = f1_score(y_test, test_predictions, average='weighted')\n",
    "print(f\"F1 Score: {f1:.2f}\")"
   ]
  },
  {
   "cell_type": "code",
   "execution_count": 33,
   "id": "73d65519-d120-4ec3-afb0-a72e4ee3c18e",
   "metadata": {},
   "outputs": [
    {
     "name": "stdout",
     "output_type": "stream",
     "text": [
      "AUC-ROC: 0.91\n"
     ]
    },
    {
     "data": {
      "image/png": "[encoded data removed]",
      "text/plain": [
       "<Figure size 640x480 with 1 Axes>"
      ]
     },
     "metadata": {},
     "output_type": "display_data"
    }
   ],
   "source": [
    "auc_roc = roc_auc_score(y_test, test_predictions)\n",
    "print(f\"AUC-ROC: {auc_roc:.2f}\")\n",
    "\n",
    "fpr, tpr, _ = roc_curve(y_test, test_predictions)\n",
    "plt.figure()\n",
    "plt.plot(fpr, tpr, color='darkorange', lw=2, label='Curva ROC')\n",
    "plt.plot([0, 1], [0, 1], color='navy', lw=2, linestyle='--')\n",
    "plt.xlabel('Taxa de Falsos Positivos')\n",
    "plt.ylabel('Taxa de Verdadeiros Positivos')\n",
    "plt.title('Curva ROC')\n",
    "plt.legend(loc=\"lower right\")\n",
    "plt.show()"
   ]
  },
  {
   "cell_type": "markdown",
   "id": "21104d60-9cc0-43c4-b52a-ea1913c3d70e",
   "metadata": {},
   "source": [
    "# Vetores dos rótulos verdadeiras e previstos"
   ]
  },
  {
   "cell_type": "code",
   "execution_count": 34,
   "id": "51ed422d-6cfc-4711-b106-04847553667f",
   "metadata": {},
   "outputs": [
    {
     "name": "stdout",
     "output_type": "stream",
     "text": [
      "Verdadeiro: [1 1 1 0 0 0 0 1 0 0 0 0 1 0 1 0 1 1 0 0 1 1 0 0 1 0 0 1 0 1]\n"
     ]
    }
   ],
   "source": [
    "print(\"Verdadeiro:\", y_test)"
   ]
  },
  {
   "cell_type": "code",
   "execution_count": 35,
   "id": "1cdc5808-de51-48dd-a1c9-5618e9865bdc",
   "metadata": {},
   "outputs": [
    {
     "name": "stdout",
     "output_type": "stream",
     "text": [
      "Previsto: [1 1 1 0 1 0 1 1 0 0 1 0 1 0 1 0 1 1 0 0 1 1 0 0 1 0 0 1 0 1]\n"
     ]
    }
   ],
   "source": [
    "print(\"Previsto:\", test_predictions)"
   ]
  },
  {
   "cell_type": "code",
   "execution_count": null,
   "id": "55557ec6-6963-4d53-9089-2cf12ef823ac",
   "metadata": {},
   "outputs": [],
   "source": []
  }
 ],
 "metadata": {
  "kernelspec": {
   "display_name": "Python 3 (ipykernel)",
   "language": "python",
   "name": "python3"
  },
  "language_info": {
   "codemirror_mode": {
    "name": "ipython",
    "version": 3
   },
   "file_extension": ".py",
   "mimetype": "text/x-python",
   "name": "python",
   "nbconvert_exporter": "python",
   "pygments_lexer": "ipython3",
   "version": "3.12.3"
  }
 },
 "nbformat": 4,
 "nbformat_minor": 5
}
