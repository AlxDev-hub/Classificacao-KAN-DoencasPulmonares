{
 "cells": [
  {
   "cell_type": "code",
   "execution_count": 1,
   "id": "39b041b3-fe5c-4a26-96d9-23e3f90d7655",
   "metadata": {},
   "outputs": [],
   "source": [
    "from kan import *\n",
    "import cv2\n",
    "import numpy as np\n",
    "import matplotlib.pyplot as plt"
   ]
  },
  {
   "cell_type": "markdown",
   "id": "b8b33dd3-8361-4b2a-b6a5-4fb5a6bf1398",
   "metadata": {},
   "source": [
    "# Pré-processamento dos dados"
   ]
  },
  {
   "cell_type": "code",
   "execution_count": 2,
   "id": "259a78ad-f7b0-40bd-a8a9-c80acef1263a",
   "metadata": {},
   "outputs": [],
   "source": [
    "train = '1Amostragem/train'\n",
    "test = '1Amostragem/test'"
   ]
  },
  {
   "cell_type": "code",
   "execution_count": 4,
   "id": "f3e47039-ec24-478c-8273-39508a261543",
   "metadata": {},
   "outputs": [],
   "source": [
    "X_train = []\n",
    "y_train = []\n",
    "\n",
    "X_test = []\n",
    "y_test = []\n",
    "\n",
    "classes = ['NORMAL', 'PNEUMONIA']"
   ]
  },
  {
   "cell_type": "code",
   "execution_count": 5,
   "id": "08a2cac6-6f0f-40a3-b241-42b65b89f612",
   "metadata": {},
   "outputs": [],
   "source": [
    "for class_index, class_name in enumerate(classes):\n",
    "    class_path = os.path.join(train, class_name)\n",
    "    for image_name in os.listdir(class_path):\n",
    "        image_path = os.path.join(class_path, image_name)\n",
    "        image = cv2.imread(image_path)\n",
    "        \n",
    "        image = cv2.resize(image, (224, 224))\n",
    "        \n",
    "        X_train.append(image)\n",
    "        y_train.append(class_index)\n",
    "\n",
    "X_train = np.array(X_train)\n",
    "y_train = np.array(y_train)"
   ]
  },
  {
   "cell_type": "code",
   "execution_count": 9,
   "id": "1c92f832-55b7-4fb1-9890-a2ae77770302",
   "metadata": {},
   "outputs": [],
   "source": [
    "X_train = X_train / 255.0"
   ]
  },
  {
   "cell_type": "code",
   "execution_count": 10,
   "id": "16dd1ec8-ab69-4166-bc29-7474750e3db8",
   "metadata": {},
   "outputs": [
    {
     "name": "stdout",
     "output_type": "stream",
     "text": [
      "Formato do X_train: (50, 224, 224, 3)\n",
      "Formato do y_train: (50,)\n"
     ]
    }
   ],
   "source": [
    "print('Formato do X_train:', X_train.shape)\n",
    "print('Formato do y_train:', y_train.shape)"
   ]
  },
  {
   "cell_type": "code",
   "execution_count": 12,
   "id": "7be4eb3e-8f89-4b3e-8068-fc75a41c550d",
   "metadata": {},
   "outputs": [],
   "source": [
    "for class_index, class_name in enumerate(classes):\n",
    "    class_path = os.path.join(test, class_name)\n",
    "    for image_name in os.listdir(class_path):\n",
    "        image_path = os.path.join(class_path, image_name)\n",
    "        image = cv2.imread(image_path)\n",
    "        \n",
    "        image = cv2.resize(image, (224, 224))\n",
    "        \n",
    "        X_test.append(image)\n",
    "        y_test.append(class_index)\n",
    "\n",
    "X_test = np.array(X_test)\n",
    "y_test = np.array(y_test)"
   ]
  },
  {
   "cell_type": "code",
   "execution_count": 13,
   "id": "9e9f4e0b-5ef3-4daa-b327-b412cc835c83",
   "metadata": {},
   "outputs": [],
   "source": [
    "X_test = X_test / 255.0"
   ]
  },
  {
   "cell_type": "code",
   "execution_count": 14,
   "id": "00c4d3ef-329e-4558-82bb-a94e0a85bb50",
   "metadata": {},
   "outputs": [
    {
     "name": "stdout",
     "output_type": "stream",
     "text": [
      "Formato do X_test: (50, 224, 224, 3)\n",
      "Formato do y_test: (50,)\n"
     ]
    }
   ],
   "source": [
    "print('Formato do X_test:', X_test.shape)\n",
    "print('Formato do y_test:', y_test.shape)"
   ]
  },
  {
   "cell_type": "code",
   "execution_count": 18,
   "id": "78f7bb06-3485-4f56-a4c8-eea5d346fa33",
   "metadata": {},
   "outputs": [],
   "source": [
    "dataset = {}\n",
    "\n",
    "dtype = torch.get_default_dtype()\n",
    "dataset['train_input'] = torch.from_numpy(X_train).type(dtype)\n",
    "dataset['test_input'] = torch.from_numpy(X_test).type(dtype)\n",
    "dataset['train_label'] = torch.from_numpy(y_train[:,None]).type(dtype)\n",
    "dataset['test_label'] = torch.from_numpy(y_test[:,None]).type(dtype)\n",
    "\n",
    "X = dataset['train_input']\n",
    "y = dataset['train_label']"
   ]
  },
  {
   "cell_type": "markdown",
   "id": "c4815e7e-4e41-46c1-be59-12b291473ebb",
   "metadata": {},
   "source": [
    "# Implementação da arquitetura KAN"
   ]
  },
  {
   "cell_type": "code",
   "execution_count": 21,
   "id": "f98705f6-55b9-4f29-9c55-e17a239b4a9b",
   "metadata": {},
   "outputs": [
    {
     "name": "stdout",
     "output_type": "stream",
     "text": [
      "checkpoint directory created: ./model\n",
      "saving model version 0.0\n"
     ]
    }
   ],
   "source": [
    "model = KAN(width=[3, 16, 32, 8, 1], grid=3, k=3)"
   ]
  },
  {
   "cell_type": "code",
   "execution_count": 22,
   "id": "dbf7170a-c3a3-4936-8147-2e85e54bc0f7",
   "metadata": {},
   "outputs": [],
   "source": [
    "def train_acc():\n",
    "    return torch.mean((torch.round(model(dataset['train_input'])[:,0]) == dataset['train_label'][:,0]).type(dtype))\n",
    "\n",
    "def test_acc():\n",
    "    return torch.mean((torch.round(model(dataset['test_input'])[:,0]) == dataset['test_label'][:,0]).type(dtype))"
   ]
  },
  {
   "cell_type": "code",
   "execution_count": 23,
   "id": "e88a6c40-779f-4ad0-90e6-c0d11bb98d1b",
   "metadata": {},
   "outputs": [
    {
     "name": "stderr",
     "output_type": "stream",
     "text": [
      "description:   0%|                                                           | 0/20 [00:00<?, ?it/s]\n"
     ]
    },
    {
     "ename": "AssertionError",
     "evalue": "",
     "output_type": "error",
     "traceback": [
      "\u001b[0;31m---------------------------------------------------------------------------\u001b[0m",
      "\u001b[0;31mAssertionError\u001b[0m                            Traceback (most recent call last)",
      "Cell \u001b[0;32mIn[23], line 1\u001b[0m\n\u001b[0;32m----> 1\u001b[0m results \u001b[38;5;241m=\u001b[39m \u001b[43mmodel\u001b[49m\u001b[38;5;241;43m.\u001b[39;49m\u001b[43mfit\u001b[49m\u001b[43m(\u001b[49m\u001b[43mdataset\u001b[49m\u001b[43m,\u001b[49m\u001b[43m \u001b[49m\u001b[43mopt\u001b[49m\u001b[38;5;241;43m=\u001b[39;49m\u001b[38;5;124;43m\"\u001b[39;49m\u001b[38;5;124;43mLBFGS\u001b[39;49m\u001b[38;5;124;43m\"\u001b[39;49m\u001b[43m,\u001b[49m\u001b[43m \u001b[49m\u001b[43msteps\u001b[49m\u001b[38;5;241;43m=\u001b[39;49m\u001b[38;5;241;43m20\u001b[39;49m\u001b[43m,\u001b[49m\u001b[43m \u001b[49m\u001b[43mmetrics\u001b[49m\u001b[38;5;241;43m=\u001b[39;49m\u001b[43m(\u001b[49m\u001b[43mtrain_acc\u001b[49m\u001b[43m,\u001b[49m\u001b[43m \u001b[49m\u001b[43mtest_acc\u001b[49m\u001b[43m)\u001b[49m\u001b[43m)\u001b[49m;\n\u001b[1;32m      2\u001b[0m results[\u001b[38;5;124m'\u001b[39m\u001b[38;5;124mtrain_acc\u001b[39m\u001b[38;5;124m'\u001b[39m][\u001b[38;5;241m-\u001b[39m\u001b[38;5;241m1\u001b[39m], results[\u001b[38;5;124m'\u001b[39m\u001b[38;5;124mtest_acc\u001b[39m\u001b[38;5;124m'\u001b[39m][\u001b[38;5;241m-\u001b[39m\u001b[38;5;241m1\u001b[39m]\n",
      "File \u001b[0;32m~/Documentos/Códigos/Classificacao-KAN-DoencasPulmonares/mestrado/lib/python3.11/site-packages/kan/MultKAN.py:946\u001b[0m, in \u001b[0;36mMultKAN.fit\u001b[0;34m(self, dataset, opt, steps, log, lamb, lamb_l1, lamb_entropy, lamb_coef, lamb_coefdiff, update_grid, grid_update_num, loss_fn, lr, start_grid_update_step, stop_grid_update_step, batch, metrics, save_fig, in_vars, out_vars, beta, save_fig_freq, img_folder, singularity_avoiding, y_th, reg_metric, display_metrics)\u001b[0m\n\u001b[1;32m    943\u001b[0m test_id \u001b[38;5;241m=\u001b[39m np\u001b[38;5;241m.\u001b[39mrandom\u001b[38;5;241m.\u001b[39mchoice(dataset[\u001b[38;5;124m'\u001b[39m\u001b[38;5;124mtest_input\u001b[39m\u001b[38;5;124m'\u001b[39m]\u001b[38;5;241m.\u001b[39mshape[\u001b[38;5;241m0\u001b[39m], batch_size_test, replace\u001b[38;5;241m=\u001b[39m\u001b[38;5;28;01mFalse\u001b[39;00m)\n\u001b[1;32m    945\u001b[0m \u001b[38;5;28;01mif\u001b[39;00m _ \u001b[38;5;241m%\u001b[39m grid_update_freq \u001b[38;5;241m==\u001b[39m \u001b[38;5;241m0\u001b[39m \u001b[38;5;129;01mand\u001b[39;00m _ \u001b[38;5;241m<\u001b[39m stop_grid_update_step \u001b[38;5;129;01mand\u001b[39;00m update_grid \u001b[38;5;129;01mand\u001b[39;00m _ \u001b[38;5;241m>\u001b[39m\u001b[38;5;241m=\u001b[39m start_grid_update_step:\n\u001b[0;32m--> 946\u001b[0m     \u001b[38;5;28;43mself\u001b[39;49m\u001b[38;5;241;43m.\u001b[39;49m\u001b[43mupdate_grid\u001b[49m\u001b[43m(\u001b[49m\u001b[43mdataset\u001b[49m\u001b[43m[\u001b[49m\u001b[38;5;124;43m'\u001b[39;49m\u001b[38;5;124;43mtrain_input\u001b[39;49m\u001b[38;5;124;43m'\u001b[39;49m\u001b[43m]\u001b[49m\u001b[43m[\u001b[49m\u001b[43mtrain_id\u001b[49m\u001b[43m]\u001b[49m\u001b[43m)\u001b[49m\n\u001b[1;32m    948\u001b[0m \u001b[38;5;28;01mif\u001b[39;00m opt \u001b[38;5;241m==\u001b[39m \u001b[38;5;124m\"\u001b[39m\u001b[38;5;124mLBFGS\u001b[39m\u001b[38;5;124m\"\u001b[39m:\n\u001b[1;32m    949\u001b[0m     optimizer\u001b[38;5;241m.\u001b[39mstep(closure)\n",
      "File \u001b[0;32m~/Documentos/Códigos/Classificacao-KAN-DoencasPulmonares/mestrado/lib/python3.11/site-packages/kan/MultKAN.py:358\u001b[0m, in \u001b[0;36mMultKAN.update_grid\u001b[0;34m(self, x)\u001b[0m\n\u001b[1;32m    357\u001b[0m \u001b[38;5;28;01mdef\u001b[39;00m \u001b[38;5;21mupdate_grid\u001b[39m(\u001b[38;5;28mself\u001b[39m, x):\n\u001b[0;32m--> 358\u001b[0m     \u001b[38;5;28;43mself\u001b[39;49m\u001b[38;5;241;43m.\u001b[39;49m\u001b[43mupdate_grid_from_samples\u001b[49m\u001b[43m(\u001b[49m\u001b[43mx\u001b[49m\u001b[43m)\u001b[49m\n",
      "File \u001b[0;32m~/Documentos/Códigos/Classificacao-KAN-DoencasPulmonares/mestrado/lib/python3.11/site-packages/kan/MultKAN.py:354\u001b[0m, in \u001b[0;36mMultKAN.update_grid_from_samples\u001b[0;34m(self, x)\u001b[0m\n\u001b[1;32m    352\u001b[0m \u001b[38;5;28;01mdef\u001b[39;00m \u001b[38;5;21mupdate_grid_from_samples\u001b[39m(\u001b[38;5;28mself\u001b[39m, x):\n\u001b[1;32m    353\u001b[0m     \u001b[38;5;28;01mfor\u001b[39;00m l \u001b[38;5;129;01min\u001b[39;00m \u001b[38;5;28mrange\u001b[39m(\u001b[38;5;28mself\u001b[39m\u001b[38;5;241m.\u001b[39mdepth):\n\u001b[0;32m--> 354\u001b[0m         \u001b[38;5;28;43mself\u001b[39;49m\u001b[38;5;241;43m.\u001b[39;49m\u001b[43mget_act\u001b[49m\u001b[43m(\u001b[49m\u001b[43mx\u001b[49m\u001b[43m)\u001b[49m\n\u001b[1;32m    355\u001b[0m         \u001b[38;5;28mself\u001b[39m\u001b[38;5;241m.\u001b[39mact_fun[l]\u001b[38;5;241m.\u001b[39mupdate_grid_from_samples(\u001b[38;5;28mself\u001b[39m\u001b[38;5;241m.\u001b[39macts[l])\n",
      "File \u001b[0;32m~/Documentos/Códigos/Classificacao-KAN-DoencasPulmonares/mestrado/lib/python3.11/site-packages/kan/MultKAN.py:1739\u001b[0m, in \u001b[0;36mMultKAN.get_act\u001b[0;34m(self, x)\u001b[0m\n\u001b[1;32m   1737\u001b[0m save_act \u001b[38;5;241m=\u001b[39m \u001b[38;5;28mself\u001b[39m\u001b[38;5;241m.\u001b[39msave_act\n\u001b[1;32m   1738\u001b[0m \u001b[38;5;28mself\u001b[39m\u001b[38;5;241m.\u001b[39msave_act \u001b[38;5;241m=\u001b[39m \u001b[38;5;28;01mTrue\u001b[39;00m\n\u001b[0;32m-> 1739\u001b[0m \u001b[38;5;28;43mself\u001b[39;49m\u001b[38;5;241;43m.\u001b[39;49m\u001b[43mforward\u001b[49m\u001b[43m(\u001b[49m\u001b[43mx\u001b[49m\u001b[43m)\u001b[49m\n\u001b[1;32m   1740\u001b[0m \u001b[38;5;28mself\u001b[39m\u001b[38;5;241m.\u001b[39msave_act \u001b[38;5;241m=\u001b[39m save_act\n",
      "File \u001b[0;32m~/Documentos/Códigos/Classificacao-KAN-DoencasPulmonares/mestrado/lib/python3.11/site-packages/kan/MultKAN.py:367\u001b[0m, in \u001b[0;36mMultKAN.forward\u001b[0;34m(self, x, singularity_avoiding, y_th)\u001b[0m\n\u001b[1;32m    365\u001b[0m \u001b[38;5;28;01mdef\u001b[39;00m \u001b[38;5;21mforward\u001b[39m(\u001b[38;5;28mself\u001b[39m, x, singularity_avoiding\u001b[38;5;241m=\u001b[39m\u001b[38;5;28;01mFalse\u001b[39;00m, y_th\u001b[38;5;241m=\u001b[39m\u001b[38;5;241m10.\u001b[39m):\n\u001b[0;32m--> 367\u001b[0m     \u001b[38;5;28;01massert\u001b[39;00m x\u001b[38;5;241m.\u001b[39mshape[\u001b[38;5;241m1\u001b[39m] \u001b[38;5;241m==\u001b[39m \u001b[38;5;28mself\u001b[39m\u001b[38;5;241m.\u001b[39mwidth_in[\u001b[38;5;241m0\u001b[39m]\n\u001b[1;32m    369\u001b[0m     x \u001b[38;5;241m=\u001b[39m x[:,\u001b[38;5;28mself\u001b[39m\u001b[38;5;241m.\u001b[39minput_id\u001b[38;5;241m.\u001b[39mlong()]\n\u001b[1;32m    371\u001b[0m     \u001b[38;5;66;03m# cache data\u001b[39;00m\n",
      "\u001b[0;31mAssertionError\u001b[0m: "
     ]
    }
   ],
   "source": [
    "results = model.fit(dataset, opt=\"LBFGS\", steps=20, metrics=(train_acc, test_acc));\n",
    "results['train_acc'][-1], results['test_acc'][-1]"
   ]
  },
  {
   "cell_type": "code",
   "execution_count": null,
   "id": "ec974999-539b-481c-aaee-5f5dc07259b3",
   "metadata": {},
   "outputs": [],
   "source": []
  }
 ],
 "metadata": {
  "kernelspec": {
   "display_name": "Python 3 (ipykernel)",
   "language": "python",
   "name": "python3"
  },
  "language_info": {
   "codemirror_mode": {
    "name": "ipython",
    "version": 3
   },
   "file_extension": ".py",
   "mimetype": "text/x-python",
   "name": "python",
   "nbconvert_exporter": "python",
   "pygments_lexer": "ipython3",
   "version": "3.11.2"
  }
 },
 "nbformat": 4,
 "nbformat_minor": 5
}
