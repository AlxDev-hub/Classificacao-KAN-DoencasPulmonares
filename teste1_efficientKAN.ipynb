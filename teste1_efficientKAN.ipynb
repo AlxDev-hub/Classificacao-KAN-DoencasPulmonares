{
 "cells": [
  {
   "cell_type": "markdown",
   "id": "7ed9cbe7-a91f-4822-8689-11ddcb9720af",
   "metadata": {},
   "source": [
    "# <center>Bibliotecas utilizadas</center>"
   ]
  },
  {
   "cell_type": "code",
   "execution_count": 1,
   "id": "16400b9b-8a6d-4e5d-a8b1-0f466d13ed04",
   "metadata": {},
   "outputs": [],
   "source": [
    "from efficient_kan import KAN\n",
    "\n",
    "import time\n",
    "import torch\n",
    "import torch.nn as nn\n",
    "import torch.optim as optim\n",
    "import torchvision.transforms as transforms\n",
    "import torchvision.datasets as datasets\n",
    "import matplotlib.pyplot as plt\n",
    "from sklearn.metrics import *\n",
    "from torch.utils.data import DataLoader"
   ]
  },
  {
   "cell_type": "markdown",
   "id": "7e2f0b78-9959-471b-87b9-9e0f192a75ef",
   "metadata": {},
   "source": [
    "# <center>Pré-processamento dos dados</center>"
   ]
  },
  {
   "cell_type": "code",
   "execution_count": 2,
   "id": "91a50223-30f8-4061-aa59-3431c46b8585",
   "metadata": {},
   "outputs": [],
   "source": [
    "train_path = 'Dataset/train'\n",
    "test_path = 'Dataset/test'"
   ]
  },
  {
   "cell_type": "code",
   "execution_count": 3,
   "id": "e445c1ee-b6ec-45f7-a1d4-4700ea5e89c8",
   "metadata": {},
   "outputs": [],
   "source": [
    "transform_train = transforms.Compose(\n",
    "    [transforms.Resize(size = (164,164)),\n",
    "     transforms.RandomRotation(degrees=15),\n",
    "     transforms.RandomHorizontalFlip(),\n",
    "     transforms.ToTensor(),\n",
    "     transforms.Normalize(mean=[0.5], std=[0.5])\n",
    "    ]\n",
    ")\n",
    "\n",
    "transform_test = transforms.Compose(\n",
    "    [transforms.Resize(size = (164,164)),\n",
    "     transforms.ToTensor(),\n",
    "     transforms.Normalize(mean=[0.5], std=[0.5])\n",
    "    ]\n",
    ")"
   ]
  },
  {
   "cell_type": "code",
   "execution_count": 4,
   "id": "0b03f0cf-87a2-46f3-bd89-c89a0185b823",
   "metadata": {},
   "outputs": [],
   "source": [
    "train_dataset = datasets.ImageFolder(train_path, transform = transform_train)\n",
    "test_dataset = datasets.ImageFolder(test_path, transform = transform_test)"
   ]
  },
  {
   "cell_type": "code",
   "execution_count": 5,
   "id": "e869b1ee-e9da-443f-8dcc-64cf960f70b6",
   "metadata": {},
   "outputs": [],
   "source": [
    "trainloader = DataLoader(train_dataset, batch_size = 30, shuffle = True)\n",
    "testloader = DataLoader(test_dataset, batch_size = 90, shuffle = True)"
   ]
  },
  {
   "cell_type": "markdown",
   "id": "af6f8f0b-ab6d-456e-af12-d632b8f237d9",
   "metadata": {},
   "source": [
    "# <center>Implementação da arquitetura *efficientKAN*</center>"
   ]
  },
  {
   "cell_type": "code",
   "execution_count": 6,
   "id": "aadacba0-d234-4cf9-a5c2-e3c59051b13a",
   "metadata": {},
   "outputs": [
    {
     "data": {
      "text/plain": [
       "KAN(\n",
       "  (layers): ModuleList(\n",
       "    (0-2): 3 x KANLinear(\n",
       "      (base_activation): ReLU()\n",
       "    )\n",
       "  )\n",
       ")"
      ]
     },
     "execution_count": 6,
     "metadata": {},
     "output_type": "execute_result"
    }
   ],
   "source": [
    "model = KAN([164*164*3, 164, 64, 3])\n",
    "\n",
    "device = torch.device(\"cuda\" if torch.cuda.is_available() else \"cpu\")\n",
    "model.to(device)"
   ]
  },
  {
   "cell_type": "code",
   "execution_count": 7,
   "id": "feb9436e-b0d2-47b8-a793-71458c8e8c37",
   "metadata": {},
   "outputs": [],
   "source": [
    "num_epoch = 250\n",
    "learning_rate = 0.001"
   ]
  },
  {
   "cell_type": "code",
   "execution_count": 8,
   "id": "3f078fc1-d113-42cb-975c-b32dc2d0acc1",
   "metadata": {},
   "outputs": [],
   "source": [
    "optimizer = optim.Adam(model.parameters(), lr=learning_rate)\n",
    "loss_fn = nn.CrossEntropyLoss()"
   ]
  },
  {
   "cell_type": "code",
   "execution_count": 9,
   "id": "342b8e74-6720-4df0-982c-5667a3d63c09",
   "metadata": {
    "scrolled": true
   },
   "outputs": [
    {
     "name": "stdout",
     "output_type": "stream",
     "text": [
      "Época 1/250 - Perda no treinamento: 2.219940 - Acurácia: 0.5667\n",
      "Época 2/250 - Perda no treinamento: 0.911306 - Acurácia: 0.6667\n",
      "Época 3/250 - Perda no treinamento: 0.507108 - Acurácia: 0.7667\n",
      "Época 4/250 - Perda no treinamento: 0.448474 - Acurácia: 0.9333\n",
      "Época 5/250 - Perda no treinamento: 0.251564 - Acurácia: 0.9667\n",
      "Época 6/250 - Perda no treinamento: 0.212713 - Acurácia: 0.8667\n",
      "Época 7/250 - Perda no treinamento: 0.250224 - Acurácia: 0.9000\n",
      "Época 8/250 - Perda no treinamento: 0.245125 - Acurácia: 0.8667\n",
      "Época 9/250 - Perda no treinamento: 0.158514 - Acurácia: 0.9000\n",
      "Época 10/250 - Perda no treinamento: 0.133146 - Acurácia: 0.9667\n",
      "Época 11/250 - Perda no treinamento: 0.113397 - Acurácia: 1.0000\n",
      "Época 12/250 - Perda no treinamento: 0.111548 - Acurácia: 1.0000\n",
      "Época 13/250 - Perda no treinamento: 0.097030 - Acurácia: 0.9333\n",
      "Época 14/250 - Perda no treinamento: 0.084306 - Acurácia: 0.9667\n",
      "Época 15/250 - Perda no treinamento: 0.086034 - Acurácia: 0.9667\n",
      "Época 16/250 - Perda no treinamento: 0.098987 - Acurácia: 0.9333\n",
      "Época 17/250 - Perda no treinamento: 0.106146 - Acurácia: 1.0000\n",
      "Época 18/250 - Perda no treinamento: 0.113454 - Acurácia: 0.9667\n",
      "Época 19/250 - Perda no treinamento: 0.076447 - Acurácia: 0.9667\n",
      "Época 20/250 - Perda no treinamento: 0.078041 - Acurácia: 1.0000\n",
      "Época 21/250 - Perda no treinamento: 0.050252 - Acurácia: 1.0000\n",
      "Época 22/250 - Perda no treinamento: 0.038055 - Acurácia: 1.0000\n",
      "Época 23/250 - Perda no treinamento: 0.032622 - Acurácia: 0.9667\n",
      "Época 24/250 - Perda no treinamento: 0.054950 - Acurácia: 0.9667\n",
      "Época 25/250 - Perda no treinamento: 0.031245 - Acurácia: 1.0000\n",
      "Época 26/250 - Perda no treinamento: 0.074956 - Acurácia: 0.9667\n",
      "Época 27/250 - Perda no treinamento: 0.082560 - Acurácia: 0.9333\n",
      "Época 28/250 - Perda no treinamento: 0.105144 - Acurácia: 1.0000\n",
      "Época 29/250 - Perda no treinamento: 0.071961 - Acurácia: 1.0000\n",
      "Época 30/250 - Perda no treinamento: 0.060143 - Acurácia: 1.0000\n",
      "Época 31/250 - Perda no treinamento: 0.060062 - Acurácia: 0.9333\n",
      "Época 32/250 - Perda no treinamento: 0.029404 - Acurácia: 1.0000\n",
      "Época 33/250 - Perda no treinamento: 0.031382 - Acurácia: 0.9667\n",
      "Época 34/250 - Perda no treinamento: 0.019797 - Acurácia: 1.0000\n",
      "Época 35/250 - Perda no treinamento: 0.016038 - Acurácia: 1.0000\n",
      "Época 36/250 - Perda no treinamento: 0.018873 - Acurácia: 1.0000\n",
      "Época 37/250 - Perda no treinamento: 0.012268 - Acurácia: 1.0000\n",
      "Época 38/250 - Perda no treinamento: 0.021191 - Acurácia: 1.0000\n",
      "Época 39/250 - Perda no treinamento: 0.015511 - Acurácia: 1.0000\n",
      "Época 40/250 - Perda no treinamento: 0.008887 - Acurácia: 1.0000\n",
      "Época 41/250 - Perda no treinamento: 0.006742 - Acurácia: 1.0000\n",
      "Época 42/250 - Perda no treinamento: 0.006377 - Acurácia: 1.0000\n",
      "Época 43/250 - Perda no treinamento: 0.008143 - Acurácia: 1.0000\n",
      "Época 44/250 - Perda no treinamento: 0.003797 - Acurácia: 1.0000\n",
      "Época 45/250 - Perda no treinamento: 0.010711 - Acurácia: 1.0000\n",
      "Época 46/250 - Perda no treinamento: 0.014719 - Acurácia: 1.0000\n",
      "Época 47/250 - Perda no treinamento: 0.005163 - Acurácia: 1.0000\n",
      "Época 48/250 - Perda no treinamento: 0.007246 - Acurácia: 1.0000\n",
      "Época 49/250 - Perda no treinamento: 0.008446 - Acurácia: 1.0000\n",
      "Época 50/250 - Perda no treinamento: 0.024303 - Acurácia: 0.9667\n",
      "Época 51/250 - Perda no treinamento: 0.005086 - Acurácia: 1.0000\n",
      "Época 52/250 - Perda no treinamento: 0.004653 - Acurácia: 1.0000\n",
      "Época 53/250 - Perda no treinamento: 0.005246 - Acurácia: 1.0000\n",
      "Época 54/250 - Perda no treinamento: 0.002569 - Acurácia: 1.0000\n",
      "Época 55/250 - Perda no treinamento: 0.002962 - Acurácia: 1.0000\n",
      "Época 56/250 - Perda no treinamento: 0.002453 - Acurácia: 1.0000\n",
      "Época 57/250 - Perda no treinamento: 0.003157 - Acurácia: 1.0000\n",
      "Época 58/250 - Perda no treinamento: 0.003936 - Acurácia: 1.0000\n",
      "Época 59/250 - Perda no treinamento: 0.002188 - Acurácia: 1.0000\n",
      "Época 60/250 - Perda no treinamento: 0.004241 - Acurácia: 1.0000\n",
      "Época 61/250 - Perda no treinamento: 0.003183 - Acurácia: 1.0000\n",
      "Época 62/250 - Perda no treinamento: 0.002185 - Acurácia: 1.0000\n",
      "Época 63/250 - Perda no treinamento: 0.000822 - Acurácia: 1.0000\n",
      "Época 64/250 - Perda no treinamento: 0.001708 - Acurácia: 1.0000\n",
      "Época 65/250 - Perda no treinamento: 0.000854 - Acurácia: 1.0000\n",
      "Época 66/250 - Perda no treinamento: 0.000892 - Acurácia: 1.0000\n",
      "Época 67/250 - Perda no treinamento: 0.000675 - Acurácia: 1.0000\n",
      "Época 68/250 - Perda no treinamento: 0.001352 - Acurácia: 1.0000\n",
      "Época 69/250 - Perda no treinamento: 0.000688 - Acurácia: 1.0000\n",
      "Época 70/250 - Perda no treinamento: 0.000772 - Acurácia: 1.0000\n",
      "Época 71/250 - Perda no treinamento: 0.000917 - Acurácia: 1.0000\n",
      "Época 72/250 - Perda no treinamento: 0.000640 - Acurácia: 1.0000\n",
      "Época 73/250 - Perda no treinamento: 0.001590 - Acurácia: 1.0000\n",
      "Época 74/250 - Perda no treinamento: 0.001289 - Acurácia: 1.0000\n",
      "Época 75/250 - Perda no treinamento: 0.000562 - Acurácia: 1.0000\n",
      "Época 76/250 - Perda no treinamento: 0.000591 - Acurácia: 1.0000\n",
      "Época 77/250 - Perda no treinamento: 0.000508 - Acurácia: 1.0000\n",
      "Época 78/250 - Perda no treinamento: 0.000503 - Acurácia: 1.0000\n",
      "Época 79/250 - Perda no treinamento: 0.000866 - Acurácia: 1.0000\n",
      "Época 80/250 - Perda no treinamento: 0.000512 - Acurácia: 1.0000\n",
      "Época 81/250 - Perda no treinamento: 0.000602 - Acurácia: 1.0000\n",
      "Época 82/250 - Perda no treinamento: 0.000425 - Acurácia: 1.0000\n",
      "Época 83/250 - Perda no treinamento: 0.001205 - Acurácia: 1.0000\n",
      "Época 84/250 - Perda no treinamento: 0.001205 - Acurácia: 1.0000\n",
      "Época 85/250 - Perda no treinamento: 0.000610 - Acurácia: 1.0000\n",
      "Época 86/250 - Perda no treinamento: 0.000396 - Acurácia: 1.0000\n",
      "Época 87/250 - Perda no treinamento: 0.000894 - Acurácia: 1.0000\n",
      "Época 88/250 - Perda no treinamento: 0.000690 - Acurácia: 1.0000\n",
      "Época 89/250 - Perda no treinamento: 0.000413 - Acurácia: 1.0000\n",
      "Época 90/250 - Perda no treinamento: 0.000511 - Acurácia: 1.0000\n",
      "Época 91/250 - Perda no treinamento: 0.000498 - Acurácia: 1.0000\n",
      "Época 92/250 - Perda no treinamento: 0.000267 - Acurácia: 1.0000\n",
      "Época 93/250 - Perda no treinamento: 0.000554 - Acurácia: 1.0000\n",
      "Época 94/250 - Perda no treinamento: 0.000368 - Acurácia: 1.0000\n",
      "Época 95/250 - Perda no treinamento: 0.000354 - Acurácia: 1.0000\n",
      "Época 96/250 - Perda no treinamento: 0.000424 - Acurácia: 1.0000\n",
      "Época 97/250 - Perda no treinamento: 0.000564 - Acurácia: 1.0000\n",
      "Época 98/250 - Perda no treinamento: 0.000458 - Acurácia: 1.0000\n",
      "Época 99/250 - Perda no treinamento: 0.000290 - Acurácia: 1.0000\n",
      "Época 100/250 - Perda no treinamento: 0.000503 - Acurácia: 1.0000\n",
      "Época 101/250 - Perda no treinamento: 0.000609 - Acurácia: 1.0000\n",
      "Época 102/250 - Perda no treinamento: 0.001096 - Acurácia: 1.0000\n",
      "Época 103/250 - Perda no treinamento: 0.000696 - Acurácia: 1.0000\n",
      "Época 104/250 - Perda no treinamento: 0.000996 - Acurácia: 1.0000\n",
      "Época 105/250 - Perda no treinamento: 0.000437 - Acurácia: 1.0000\n",
      "Época 106/250 - Perda no treinamento: 0.000666 - Acurácia: 1.0000\n",
      "Época 107/250 - Perda no treinamento: 0.000301 - Acurácia: 1.0000\n",
      "Época 108/250 - Perda no treinamento: 0.000556 - Acurácia: 1.0000\n",
      "Época 109/250 - Perda no treinamento: 0.000292 - Acurácia: 1.0000\n",
      "Época 110/250 - Perda no treinamento: 0.000290 - Acurácia: 1.0000\n",
      "Época 111/250 - Perda no treinamento: 0.000245 - Acurácia: 1.0000\n",
      "Época 112/250 - Perda no treinamento: 0.000327 - Acurácia: 1.0000\n",
      "Época 113/250 - Perda no treinamento: 0.000205 - Acurácia: 1.0000\n",
      "Época 114/250 - Perda no treinamento: 0.000268 - Acurácia: 1.0000\n",
      "Época 115/250 - Perda no treinamento: 0.000320 - Acurácia: 1.0000\n",
      "Época 116/250 - Perda no treinamento: 0.000387 - Acurácia: 1.0000\n",
      "Época 117/250 - Perda no treinamento: 0.000274 - Acurácia: 1.0000\n",
      "Época 118/250 - Perda no treinamento: 0.000302 - Acurácia: 1.0000\n",
      "Época 119/250 - Perda no treinamento: 0.000216 - Acurácia: 1.0000\n",
      "Época 120/250 - Perda no treinamento: 0.000535 - Acurácia: 1.0000\n",
      "Época 121/250 - Perda no treinamento: 0.000250 - Acurácia: 1.0000\n",
      "Época 122/250 - Perda no treinamento: 0.000239 - Acurácia: 1.0000\n",
      "Época 123/250 - Perda no treinamento: 0.000219 - Acurácia: 1.0000\n",
      "Época 124/250 - Perda no treinamento: 0.000244 - Acurácia: 1.0000\n",
      "Época 125/250 - Perda no treinamento: 0.000149 - Acurácia: 1.0000\n",
      "Época 126/250 - Perda no treinamento: 0.000400 - Acurácia: 1.0000\n",
      "Época 127/250 - Perda no treinamento: 0.000174 - Acurácia: 1.0000\n",
      "Época 128/250 - Perda no treinamento: 0.000272 - Acurácia: 1.0000\n",
      "Época 129/250 - Perda no treinamento: 0.000216 - Acurácia: 1.0000\n",
      "Época 130/250 - Perda no treinamento: 0.000180 - Acurácia: 1.0000\n",
      "Época 131/250 - Perda no treinamento: 0.000265 - Acurácia: 1.0000\n",
      "Época 132/250 - Perda no treinamento: 0.000319 - Acurácia: 1.0000\n",
      "Época 133/250 - Perda no treinamento: 0.000308 - Acurácia: 1.0000\n",
      "Época 134/250 - Perda no treinamento: 0.000538 - Acurácia: 1.0000\n",
      "Época 135/250 - Perda no treinamento: 0.000293 - Acurácia: 1.0000\n",
      "Época 136/250 - Perda no treinamento: 0.000342 - Acurácia: 1.0000\n",
      "Época 137/250 - Perda no treinamento: 0.000247 - Acurácia: 1.0000\n",
      "Época 138/250 - Perda no treinamento: 0.000162 - Acurácia: 1.0000\n",
      "Época 139/250 - Perda no treinamento: 0.000165 - Acurácia: 1.0000\n",
      "Época 140/250 - Perda no treinamento: 0.000269 - Acurácia: 1.0000\n",
      "Época 141/250 - Perda no treinamento: 0.000305 - Acurácia: 1.0000\n",
      "Época 142/250 - Perda no treinamento: 0.000249 - Acurácia: 1.0000\n",
      "Época 143/250 - Perda no treinamento: 0.000144 - Acurácia: 1.0000\n",
      "Época 144/250 - Perda no treinamento: 0.000188 - Acurácia: 1.0000\n",
      "Época 145/250 - Perda no treinamento: 0.000231 - Acurácia: 1.0000\n",
      "Época 146/250 - Perda no treinamento: 0.000180 - Acurácia: 1.0000\n",
      "Época 147/250 - Perda no treinamento: 0.000278 - Acurácia: 1.0000\n",
      "Época 148/250 - Perda no treinamento: 0.000129 - Acurácia: 1.0000\n",
      "Época 149/250 - Perda no treinamento: 0.000107 - Acurácia: 1.0000\n",
      "Época 150/250 - Perda no treinamento: 0.000111 - Acurácia: 1.0000\n",
      "Época 151/250 - Perda no treinamento: 0.000118 - Acurácia: 1.0000\n",
      "Época 152/250 - Perda no treinamento: 0.000090 - Acurácia: 1.0000\n",
      "Época 153/250 - Perda no treinamento: 0.000091 - Acurácia: 1.0000\n",
      "Época 154/250 - Perda no treinamento: 0.000141 - Acurácia: 1.0000\n",
      "Época 155/250 - Perda no treinamento: 0.000094 - Acurácia: 1.0000\n",
      "Época 156/250 - Perda no treinamento: 0.000112 - Acurácia: 1.0000\n",
      "Época 157/250 - Perda no treinamento: 0.000152 - Acurácia: 1.0000\n",
      "Época 158/250 - Perda no treinamento: 0.000120 - Acurácia: 1.0000\n",
      "Época 159/250 - Perda no treinamento: 0.000188 - Acurácia: 1.0000\n",
      "Época 160/250 - Perda no treinamento: 0.000103 - Acurácia: 1.0000\n",
      "Época 161/250 - Perda no treinamento: 0.000091 - Acurácia: 1.0000\n",
      "Época 162/250 - Perda no treinamento: 0.000137 - Acurácia: 1.0000\n",
      "Época 163/250 - Perda no treinamento: 0.000157 - Acurácia: 1.0000\n",
      "Época 164/250 - Perda no treinamento: 0.000138 - Acurácia: 1.0000\n",
      "Época 165/250 - Perda no treinamento: 0.000045 - Acurácia: 1.0000\n",
      "Época 166/250 - Perda no treinamento: 0.000054 - Acurácia: 1.0000\n",
      "Época 167/250 - Perda no treinamento: 0.000081 - Acurácia: 1.0000\n",
      "Época 168/250 - Perda no treinamento: 0.000061 - Acurácia: 1.0000\n",
      "Época 169/250 - Perda no treinamento: 0.000049 - Acurácia: 1.0000\n",
      "Época 170/250 - Perda no treinamento: 0.000055 - Acurácia: 1.0000\n",
      "Época 171/250 - Perda no treinamento: 0.000046 - Acurácia: 1.0000\n",
      "Época 172/250 - Perda no treinamento: 0.000072 - Acurácia: 1.0000\n",
      "Época 173/250 - Perda no treinamento: 0.000037 - Acurácia: 1.0000\n",
      "Época 174/250 - Perda no treinamento: 0.000046 - Acurácia: 1.0000\n",
      "Época 175/250 - Perda no treinamento: 0.000042 - Acurácia: 1.0000\n",
      "Época 176/250 - Perda no treinamento: 0.000034 - Acurácia: 1.0000\n",
      "Época 177/250 - Perda no treinamento: 0.000035 - Acurácia: 1.0000\n",
      "Época 178/250 - Perda no treinamento: 0.000034 - Acurácia: 1.0000\n",
      "Época 179/250 - Perda no treinamento: 0.000055 - Acurácia: 1.0000\n",
      "Época 180/250 - Perda no treinamento: 0.000049 - Acurácia: 1.0000\n",
      "Época 181/250 - Perda no treinamento: 0.000040 - Acurácia: 1.0000\n",
      "Época 182/250 - Perda no treinamento: 0.000044 - Acurácia: 1.0000\n",
      "Época 183/250 - Perda no treinamento: 0.000037 - Acurácia: 1.0000\n",
      "Época 184/250 - Perda no treinamento: 0.000052 - Acurácia: 1.0000\n",
      "Época 185/250 - Perda no treinamento: 0.000031 - Acurácia: 1.0000\n",
      "Época 186/250 - Perda no treinamento: 0.000044 - Acurácia: 1.0000\n",
      "Época 187/250 - Perda no treinamento: 0.000031 - Acurácia: 1.0000\n",
      "Época 188/250 - Perda no treinamento: 0.000037 - Acurácia: 1.0000\n",
      "Época 189/250 - Perda no treinamento: 0.000034 - Acurácia: 1.0000\n",
      "Época 190/250 - Perda no treinamento: 0.000030 - Acurácia: 1.0000\n",
      "Época 191/250 - Perda no treinamento: 0.000041 - Acurácia: 1.0000\n",
      "Época 192/250 - Perda no treinamento: 0.000030 - Acurácia: 1.0000\n",
      "Época 193/250 - Perda no treinamento: 0.000022 - Acurácia: 1.0000\n",
      "Época 194/250 - Perda no treinamento: 0.000023 - Acurácia: 1.0000\n",
      "Época 195/250 - Perda no treinamento: 0.000031 - Acurácia: 1.0000\n",
      "Época 196/250 - Perda no treinamento: 0.000028 - Acurácia: 1.0000\n",
      "Época 197/250 - Perda no treinamento: 0.000027 - Acurácia: 1.0000\n",
      "Época 198/250 - Perda no treinamento: 0.000037 - Acurácia: 1.0000\n",
      "Época 199/250 - Perda no treinamento: 0.000027 - Acurácia: 1.0000\n",
      "Época 200/250 - Perda no treinamento: 0.000026 - Acurácia: 1.0000\n",
      "Época 201/250 - Perda no treinamento: 0.000021 - Acurácia: 1.0000\n",
      "Época 202/250 - Perda no treinamento: 0.000023 - Acurácia: 1.0000\n",
      "Época 203/250 - Perda no treinamento: 0.000025 - Acurácia: 1.0000\n",
      "Época 204/250 - Perda no treinamento: 0.000014 - Acurácia: 1.0000\n",
      "Época 205/250 - Perda no treinamento: 0.000032 - Acurácia: 1.0000\n",
      "Época 206/250 - Perda no treinamento: 0.000023 - Acurácia: 1.0000\n",
      "Época 207/250 - Perda no treinamento: 0.000045 - Acurácia: 1.0000\n",
      "Época 208/250 - Perda no treinamento: 0.000018 - Acurácia: 1.0000\n",
      "Época 209/250 - Perda no treinamento: 0.000024 - Acurácia: 1.0000\n",
      "Época 210/250 - Perda no treinamento: 0.000019 - Acurácia: 1.0000\n",
      "Época 211/250 - Perda no treinamento: 0.000019 - Acurácia: 1.0000\n",
      "Época 212/250 - Perda no treinamento: 0.000016 - Acurácia: 1.0000\n",
      "Época 213/250 - Perda no treinamento: 0.000012 - Acurácia: 1.0000\n",
      "Época 214/250 - Perda no treinamento: 0.000016 - Acurácia: 1.0000\n",
      "Época 215/250 - Perda no treinamento: 0.000017 - Acurácia: 1.0000\n",
      "Época 216/250 - Perda no treinamento: 0.000036 - Acurácia: 1.0000\n",
      "Época 217/250 - Perda no treinamento: 0.000080 - Acurácia: 1.0000\n",
      "Época 218/250 - Perda no treinamento: 0.000027 - Acurácia: 1.0000\n",
      "Época 219/250 - Perda no treinamento: 0.000017 - Acurácia: 1.0000\n",
      "Época 220/250 - Perda no treinamento: 0.000032 - Acurácia: 1.0000\n",
      "Época 221/250 - Perda no treinamento: 0.000013 - Acurácia: 1.0000\n",
      "Época 222/250 - Perda no treinamento: 0.000026 - Acurácia: 1.0000\n",
      "Época 223/250 - Perda no treinamento: 0.000015 - Acurácia: 1.0000\n",
      "Época 224/250 - Perda no treinamento: 0.000016 - Acurácia: 1.0000\n",
      "Época 225/250 - Perda no treinamento: 0.000017 - Acurácia: 1.0000\n",
      "Época 226/250 - Perda no treinamento: 0.000027 - Acurácia: 1.0000\n",
      "Época 227/250 - Perda no treinamento: 0.000019 - Acurácia: 1.0000\n",
      "Época 228/250 - Perda no treinamento: 0.000033 - Acurácia: 1.0000\n",
      "Época 229/250 - Perda no treinamento: 0.000016 - Acurácia: 1.0000\n",
      "Época 230/250 - Perda no treinamento: 0.000022 - Acurácia: 1.0000\n",
      "Época 231/250 - Perda no treinamento: 0.000019 - Acurácia: 1.0000\n",
      "Época 232/250 - Perda no treinamento: 0.000021 - Acurácia: 1.0000\n",
      "Época 233/250 - Perda no treinamento: 0.000019 - Acurácia: 1.0000\n",
      "Época 234/250 - Perda no treinamento: 0.000009 - Acurácia: 1.0000\n",
      "Época 235/250 - Perda no treinamento: 0.000011 - Acurácia: 1.0000\n",
      "Época 236/250 - Perda no treinamento: 0.000016 - Acurácia: 1.0000\n",
      "Época 237/250 - Perda no treinamento: 0.000022 - Acurácia: 1.0000\n",
      "Época 238/250 - Perda no treinamento: 0.000012 - Acurácia: 1.0000\n",
      "Época 239/250 - Perda no treinamento: 0.000014 - Acurácia: 1.0000\n",
      "Época 240/250 - Perda no treinamento: 0.000012 - Acurácia: 1.0000\n",
      "Época 241/250 - Perda no treinamento: 0.000025 - Acurácia: 1.0000\n",
      "Época 242/250 - Perda no treinamento: 0.000015 - Acurácia: 1.0000\n",
      "Época 243/250 - Perda no treinamento: 0.000022 - Acurácia: 1.0000\n",
      "Época 244/250 - Perda no treinamento: 0.000019 - Acurácia: 1.0000\n",
      "Época 245/250 - Perda no treinamento: 0.000017 - Acurácia: 1.0000\n",
      "Época 246/250 - Perda no treinamento: 0.000011 - Acurácia: 1.0000\n",
      "Época 247/250 - Perda no treinamento: 0.000011 - Acurácia: 1.0000\n",
      "Época 248/250 - Perda no treinamento: 0.000010 - Acurácia: 1.0000\n",
      "Época 249/250 - Perda no treinamento: 0.000014 - Acurácia: 1.0000\n",
      "Época 250/250 - Perda no treinamento: 0.000027 - Acurácia: 1.0000\n",
      "\n",
      "Tempo total de treinamento: 824.55 segundos\n"
     ]
    }
   ],
   "source": [
    "train_losses = []\n",
    "train_acc = []\n",
    "correct = 0\n",
    "total = 0\n",
    "\n",
    "training_start_time = time.time()\n",
    "\n",
    "for epoch in range(num_epoch):\n",
    "    model.train()\n",
    "    running_train_loss = 0.0\n",
    "\n",
    "    for inputs, labels in trainloader:\n",
    "        inputs = inputs.view(-1, 164*164*3).to(device)\n",
    "        labels = labels.to(device)\n",
    "    \n",
    "        optimizer.zero_grad()\n",
    "        outputs = model(inputs)\n",
    "\n",
    "        loss = loss_fn(outputs, labels)\n",
    "        loss.backward()\n",
    "        optimizer.step()\n",
    "        running_train_loss += loss.item()\n",
    "\n",
    "    train_loss = running_train_loss / len(trainloader)\n",
    "    train_losses.append(train_loss)\n",
    "\n",
    "    _, predicted = torch.max(outputs.data, 1)\n",
    "\n",
    "    acc = accuracy_score(labels.cpu().detach().numpy(), predicted.cpu().detach().numpy())\n",
    "    train_acc.append(acc)\n",
    "\n",
    "    print(f\"Época {epoch + 1}/{num_epoch} - Perda no treinamento: {train_loss:.6f} - Acurácia: {acc:.4f}\")\n",
    "\n",
    "training_time = time.time() - training_start_time\n",
    "print(f\"\\nTempo total de treinamento: {training_time:.2f} segundos\")"
   ]
  },
  {
   "cell_type": "code",
   "execution_count": 10,
   "id": "16293bb2-49a6-4d17-a047-8ede3f3fd57b",
   "metadata": {},
   "outputs": [
    {
     "data": {
      "text/plain": [
       "Text(0.5, 0.98, 'Treinamento')"
      ]
     },
     "execution_count": 10,
     "metadata": {},
     "output_type": "execute_result"
    },
    {
     "data": {
      "image/png": "[encoded data removed]",
      "text/plain": [
       "<Figure size 1200x500 with 2 Axes>"
      ]
     },
     "metadata": {},
     "output_type": "display_data"
    }
   ],
   "source": [
    "epochs = range(1, num_epoch + 1)\n",
    "\n",
    "plt.figure(figsize=(12, 5))\n",
    "\n",
    "plt.subplot(1, 2, 1)\n",
    "plt.plot(epochs, train_losses, 'bo-')\n",
    "plt.xlabel('Épocas')\n",
    "plt.ylabel('Perda')\n",
    "\n",
    "plt.subplot(1, 2, 2)\n",
    "plt.plot(epochs, train_acc, 'ro-')\n",
    "plt.xlabel('Épocas')\n",
    "plt.ylabel('Acurácia')\n",
    "\n",
    "plt.suptitle(\"Treinamento\", fontsize = 20)"
   ]
  },
  {
   "cell_type": "code",
   "execution_count": 11,
   "id": "b7ce3210-11e0-4c86-8283-ee14dc33a267",
   "metadata": {},
   "outputs": [
    {
     "name": "stdout",
     "output_type": "stream",
     "text": [
      "Acurácia: 0.93\n"
     ]
    }
   ],
   "source": [
    "model.eval()\n",
    "    \n",
    "with torch.no_grad():\n",
    "        \n",
    "    for images, labels in testloader:\n",
    "        images = images.view(-1, 164*164*3).to(device)\n",
    "        labels = labels.to(device)\n",
    "        \n",
    "        outputs = model(images)\n",
    "        _, predicted = torch.max(outputs.data, 1)\n",
    "\n",
    "        acc = accuracy_score(labels.cpu().detach().numpy(), predicted.cpu().detach().numpy())\n",
    "        \n",
    "print(f\"Acurácia: {acc:.2f}\")"
   ]
  },
  {
   "cell_type": "markdown",
   "id": "ce2909be-e551-4bea-85bb-cede4046e8a6",
   "metadata": {},
   "source": [
    "# <center>Métricas de avaliação</center>"
   ]
  },
  {
   "cell_type": "code",
   "execution_count": 12,
   "id": "1c7a9ae9-0bbb-43b9-945d-03a4708df9f5",
   "metadata": {},
   "outputs": [
    {
     "data": {
      "image/png": "[encoded data removed]",
      "text/plain": [
       "<Figure size 640x480 with 2 Axes>"
      ]
     },
     "metadata": {},
     "output_type": "display_data"
    }
   ],
   "source": [
    "cm = confusion_matrix(labels.cpu().detach().numpy(), predicted.cpu().detach().numpy())\n",
    "\n",
    "disp = ConfusionMatrixDisplay(confusion_matrix=cm, display_labels=['Normal', 'Pneumonia', 'Tuberculose'])\n",
    "disp.plot(cmap=plt.cm.Blues)\n",
    "\n",
    "plt.xlabel('Rótulo previsto')\n",
    "plt.ylabel('Rótulo verdadeiro')\n",
    "plt.show()"
   ]
  },
  {
   "cell_type": "code",
   "execution_count": 13,
   "id": "e91e5a04-bf37-4c2d-b349-a4156cb9a107",
   "metadata": {},
   "outputs": [
    {
     "name": "stdout",
     "output_type": "stream",
     "text": [
      "              precision    recall  f1-score   support\n",
      "\n",
      "      Normal       0.90      0.90      0.90        30\n",
      "   Pneumonia       1.00      0.90      0.95        30\n",
      " Tuberculose       0.91      1.00      0.95        30\n",
      "\n",
      "    accuracy                           0.93        90\n",
      "   macro avg       0.94      0.93      0.93        90\n",
      "weighted avg       0.94      0.93      0.93        90\n",
      "\n"
     ]
    }
   ],
   "source": [
    "print(classification_report(labels.cpu().detach().numpy(), predicted.cpu().detach().numpy(), target_names=['Normal', 'Pneumonia', 'Tuberculose']))"
   ]
  },
  {
   "cell_type": "code",
   "execution_count": 14,
   "id": "b3fd6060-4bdf-48b0-b592-bb957cd60486",
   "metadata": {},
   "outputs": [
    {
     "name": "stdout",
     "output_type": "stream",
     "text": [
      "Precisão: 93.64%\n"
     ]
    }
   ],
   "source": [
    "precision = precision_score(labels.cpu().detach().numpy(), predicted.cpu().detach().numpy(), average='weighted')\n",
    "print(f\"Precisão: {precision * 100 :.2f}%\")"
   ]
  },
  {
   "cell_type": "code",
   "execution_count": 15,
   "id": "cfb7398e-e7a7-4e0e-97df-bed04108382f",
   "metadata": {},
   "outputs": [
    {
     "name": "stdout",
     "output_type": "stream",
     "text": [
      "Recall: 93.33%\n"
     ]
    }
   ],
   "source": [
    "recall = recall_score(labels.cpu().detach().numpy(), predicted.cpu().detach().numpy(), average='weighted')\n",
    "print(f\"Recall: {recall * 100 :.2f}%\")"
   ]
  },
  {
   "cell_type": "code",
   "execution_count": 16,
   "id": "e9613979-a2e6-4769-b117-c9673a5f5ed1",
   "metadata": {},
   "outputs": [
    {
     "name": "stdout",
     "output_type": "stream",
     "text": [
      "F1 Score: 93.32%\n"
     ]
    }
   ],
   "source": [
    "f1 = f1_score(labels.cpu().detach().numpy(), predicted.cpu().detach().numpy(), average='weighted')\n",
    "print(f\"F1 Score: {f1 * 100 :.2f}%\")"
   ]
  }
 ],
 "metadata": {
  "kernelspec": {
   "display_name": "Python 3 (ipykernel)",
   "language": "python",
   "name": "python3"
  },
  "language_info": {
   "codemirror_mode": {
    "name": "ipython",
    "version": 3
   },
   "file_extension": ".py",
   "mimetype": "text/x-python",
   "name": "python",
   "nbconvert_exporter": "python",
   "pygments_lexer": "ipython3",
   "version": "3.12.3"
  }
 },
 "nbformat": 4,
 "nbformat_minor": 5
}
