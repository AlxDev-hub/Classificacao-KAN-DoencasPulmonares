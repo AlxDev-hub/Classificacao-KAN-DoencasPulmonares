{
 "cells": [
  {
   "cell_type": "code",
   "execution_count": 1,
   "id": "a77bd366-35d9-4e91-82ee-e8e0396d3e85",
   "metadata": {},
   "outputs": [],
   "source": [
    "import time\n",
    "import numpy as np\n",
    "import matplotlib.pyplot as plt\n",
    "\n",
    "import torch\n",
    "import torch.nn as nn\n",
    "import torch.optim as optim\n",
    "from torchvision import datasets, transforms\n",
    "from torch.utils.data import DataLoader, random_split\n",
    "\n",
    "from sklearn.metrics import *"
   ]
  },
  {
   "cell_type": "markdown",
   "id": "f999a09d-3bcc-4162-9d21-919ce24d6421",
   "metadata": {},
   "source": [
    "# <center>Pré-processamento dos dados</center>"
   ]
  },
  {
   "cell_type": "code",
   "execution_count": 2,
   "id": "eb38a3f1",
   "metadata": {},
   "outputs": [],
   "source": [
    "dataset_path = 'dataset_teste3'"
   ]
  },
  {
   "cell_type": "code",
   "execution_count": 3,
   "id": "c4a49511",
   "metadata": {},
   "outputs": [],
   "source": [
    "transform = transforms.Compose(\n",
    "    [transforms.Resize(size = (224,224)),\n",
    "     transforms.RandomRotation(degrees=15),\n",
    "     transforms.RandomAffine(degrees=0, translate=(0.1, 0.1), scale=(0.9, 1.1), shear=10),\n",
    "     transforms.ColorJitter(brightness=0.2, contrast=0.2, saturation=0.1, hue=0.1),\n",
    "     transforms.ToTensor(),\n",
    "     transforms.Normalize(mean=[0.5], std=[0.5])\n",
    "    ]\n",
    ")"
   ]
  },
  {
   "cell_type": "code",
   "execution_count": 4,
   "id": "f0bb0680",
   "metadata": {},
   "outputs": [],
   "source": [
    "dataset = datasets.ImageFolder(dataset_path, transform = transform)"
   ]
  },
  {
   "cell_type": "code",
   "execution_count": 5,
   "id": "58308826",
   "metadata": {},
   "outputs": [
    {
     "name": "stdout",
     "output_type": "stream",
     "text": [
      "Informações sobre o Dataset: \n",
      "\n",
      " Dataset ImageFolder\n",
      "    Number of datapoints: 5000\n",
      "    Root location: dataset_teste3\n",
      "    StandardTransform\n",
      "Transform: Compose(\n",
      "               Resize(size=(224, 224), interpolation=bilinear, max_size=None, antialias=True)\n",
      "               RandomRotation(degrees=[-15.0, 15.0], interpolation=nearest, expand=False, fill=0)\n",
      "               RandomAffine(degrees=[0.0, 0.0], translate=(0.1, 0.1), scale=(0.9, 1.1), shear=[-10.0, 10.0])\n",
      "               ColorJitter(brightness=(0.8, 1.2), contrast=(0.8, 1.2), saturation=(0.9, 1.1), hue=(-0.1, 0.1))\n",
      "               ToTensor()\n",
      "               Normalize(mean=[0.5], std=[0.5])\n",
      "           )\n",
      "\n",
      "Rótulos:  ['NORMAL', 'PNEUMONIA', 'TUBERCULOSE']\n"
     ]
    }
   ],
   "source": [
    "print(\"Informações sobre o Dataset: \\n\\n\", dataset)\n",
    "print(\"\\nRótulos: \", dataset.classes)"
   ]
  },
  {
   "cell_type": "code",
   "execution_count": 6,
   "id": "343179bc",
   "metadata": {},
   "outputs": [],
   "source": [
    "train_size = int(0.7 * len(dataset))\n",
    "test_size = len(dataset) - train_size\n",
    "\n",
    "train_dataset, test_dataset = random_split(dataset, [train_size, test_size])"
   ]
  },
  {
   "cell_type": "code",
   "execution_count": 7,
   "id": "1dd381ef",
   "metadata": {},
   "outputs": [],
   "source": [
    "train_loader = DataLoader(train_dataset, batch_size=28, shuffle=True)\n",
    "test_loader = DataLoader(test_dataset, batch_size=30, shuffle=False)"
   ]
  },
  {
   "cell_type": "markdown",
   "id": "7bf3038a-8d82-45ab-94a3-f11406160a86",
   "metadata": {},
   "source": [
    "# <center>Implementação da arquitetura CNN</center>"
   ]
  },
  {
   "cell_type": "code",
   "execution_count": 8,
   "id": "5118d0d6-aaf5-4cbe-88a2-399d77684108",
   "metadata": {},
   "outputs": [
    {
     "name": "stdout",
     "output_type": "stream",
     "text": [
      "Dispositivo utilizado: cuda\n"
     ]
    }
   ],
   "source": [
    "model = nn.Sequential(\n",
    "    nn.Conv2d(3, 32, kernel_size=3, stride=1, padding=1),\n",
    "    nn.BatchNorm2d(32),\n",
    "    nn.ReLU(),\n",
    "    nn.MaxPool2d(kernel_size=2, stride=2, padding=0),\n",
    "    \n",
    "    nn.Conv2d(32, 64, kernel_size=3, stride=1, padding=1),\n",
    "    nn.BatchNorm2d(64),\n",
    "    nn.ReLU(),\n",
    "    nn.MaxPool2d(kernel_size=2, stride=2, padding=0),\n",
    "    \n",
    "    nn.Conv2d(64, 128, kernel_size=3, stride=1, padding=1),\n",
    "    nn.BatchNorm2d(128),\n",
    "    nn.ReLU(),\n",
    "    nn.MaxPool2d(kernel_size=2, stride=2, padding=0),\n",
    "    \n",
    "    nn.Flatten(),\n",
    "    \n",
    "    nn.Linear(128 * 28 * 28, 256),\n",
    "    nn.Dropout(p=0.3),\n",
    "    nn.ReLU(),\n",
    "\n",
    "    nn.Linear(256, 128),\n",
    "    nn.Dropout(p=0.3),\n",
    "    nn.ReLU(),\n",
    "    \n",
    "    nn.Linear(128, 64),\n",
    "    nn.Dropout(p=0.3),\n",
    "    nn.ReLU(),\n",
    "    \n",
    "    nn.Linear(64, 3)\n",
    ")\n",
    "\n",
    "device = torch.device(\"cuda\" if torch.cuda.is_available() else \"cpu\")\n",
    "print(f\"Dispositivo utilizado: {device}\")"
   ]
  },
  {
   "cell_type": "code",
   "execution_count": 9,
   "id": "4c273480-2d7c-4e82-93b5-cc5b02de3e82",
   "metadata": {},
   "outputs": [
    {
     "data": {
      "text/plain": [
       "Sequential(\n",
       "  (0): Conv2d(3, 32, kernel_size=(3, 3), stride=(1, 1), padding=(1, 1))\n",
       "  (1): BatchNorm2d(32, eps=1e-05, momentum=0.1, affine=True, track_running_stats=True)\n",
       "  (2): ReLU()\n",
       "  (3): MaxPool2d(kernel_size=2, stride=2, padding=0, dilation=1, ceil_mode=False)\n",
       "  (4): Conv2d(32, 64, kernel_size=(3, 3), stride=(1, 1), padding=(1, 1))\n",
       "  (5): BatchNorm2d(64, eps=1e-05, momentum=0.1, affine=True, track_running_stats=True)\n",
       "  (6): ReLU()\n",
       "  (7): MaxPool2d(kernel_size=2, stride=2, padding=0, dilation=1, ceil_mode=False)\n",
       "  (8): Conv2d(64, 128, kernel_size=(3, 3), stride=(1, 1), padding=(1, 1))\n",
       "  (9): BatchNorm2d(128, eps=1e-05, momentum=0.1, affine=True, track_running_stats=True)\n",
       "  (10): ReLU()\n",
       "  (11): MaxPool2d(kernel_size=2, stride=2, padding=0, dilation=1, ceil_mode=False)\n",
       "  (12): Flatten(start_dim=1, end_dim=-1)\n",
       "  (13): Linear(in_features=100352, out_features=256, bias=True)\n",
       "  (14): Dropout(p=0.3, inplace=False)\n",
       "  (15): ReLU()\n",
       "  (16): Linear(in_features=256, out_features=128, bias=True)\n",
       "  (17): Dropout(p=0.3, inplace=False)\n",
       "  (18): ReLU()\n",
       "  (19): Linear(in_features=128, out_features=64, bias=True)\n",
       "  (20): Dropout(p=0.3, inplace=False)\n",
       "  (21): ReLU()\n",
       "  (22): Linear(in_features=64, out_features=3, bias=True)\n",
       ")"
      ]
     },
     "execution_count": 9,
     "metadata": {},
     "output_type": "execute_result"
    }
   ],
   "source": [
    "model.to(device)"
   ]
  },
  {
   "cell_type": "code",
   "execution_count": 10,
   "id": "7852f30f-76af-4d58-89bb-6fb14936b060",
   "metadata": {},
   "outputs": [],
   "source": [
    "num_epoch = 250\n",
    "learning_rate = 0.001\n",
    "optimizer = optim.Adam(model.parameters(), lr=learning_rate)\n",
    "loss_fn = nn.CrossEntropyLoss()"
   ]
  },
  {
   "cell_type": "code",
   "execution_count": 11,
   "id": "db6fb9fc",
   "metadata": {},
   "outputs": [
    {
     "name": "stdout",
     "output_type": "stream",
     "text": [
      "Época 1/250 - Perda no treinamento: 1.264708 - Acurácia: 0.5714\n",
      "Época 2/250 - Perda no treinamento: 0.712902 - Acurácia: 0.9286\n",
      "Época 3/250 - Perda no treinamento: 0.565227 - Acurácia: 0.7857\n",
      "Época 4/250 - Perda no treinamento: 0.457150 - Acurácia: 0.8214\n",
      "Época 5/250 - Perda no treinamento: 0.392301 - Acurácia: 0.8929\n",
      "Época 6/250 - Perda no treinamento: 0.359688 - Acurácia: 0.8571\n",
      "Época 7/250 - Perda no treinamento: 0.339478 - Acurácia: 1.0000\n",
      "Época 8/250 - Perda no treinamento: 0.333646 - Acurácia: 0.9286\n",
      "Época 9/250 - Perda no treinamento: 0.331956 - Acurácia: 0.8214\n",
      "Época 10/250 - Perda no treinamento: 0.313771 - Acurácia: 0.8214\n",
      "Época 11/250 - Perda no treinamento: 0.289093 - Acurácia: 0.7857\n",
      "Época 12/250 - Perda no treinamento: 0.273989 - Acurácia: 0.8571\n",
      "Época 13/250 - Perda no treinamento: 0.282611 - Acurácia: 0.8929\n",
      "Época 14/250 - Perda no treinamento: 0.264036 - Acurácia: 1.0000\n",
      "Época 15/250 - Perda no treinamento: 0.251963 - Acurácia: 0.9286\n",
      "Época 16/250 - Perda no treinamento: 0.252084 - Acurácia: 0.9643\n",
      "Época 17/250 - Perda no treinamento: 0.241238 - Acurácia: 0.8571\n",
      "Época 18/250 - Perda no treinamento: 0.237042 - Acurácia: 0.9286\n",
      "Época 19/250 - Perda no treinamento: 0.238681 - Acurácia: 0.9643\n",
      "Época 20/250 - Perda no treinamento: 0.230647 - Acurácia: 0.9643\n",
      "Época 21/250 - Perda no treinamento: 0.220517 - Acurácia: 0.9643\n",
      "Época 22/250 - Perda no treinamento: 0.235140 - Acurácia: 1.0000\n",
      "Época 23/250 - Perda no treinamento: 0.213981 - Acurácia: 0.9286\n",
      "Época 24/250 - Perda no treinamento: 0.227268 - Acurácia: 0.8929\n",
      "Época 25/250 - Perda no treinamento: 0.209327 - Acurácia: 0.9286\n",
      "Época 26/250 - Perda no treinamento: 0.204641 - Acurácia: 0.9286\n",
      "Época 27/250 - Perda no treinamento: 0.211722 - Acurácia: 0.9643\n",
      "Época 28/250 - Perda no treinamento: 0.218235 - Acurácia: 1.0000\n",
      "Época 29/250 - Perda no treinamento: 0.188746 - Acurácia: 0.8929\n",
      "Época 30/250 - Perda no treinamento: 0.204974 - Acurácia: 0.8929\n",
      "Época 31/250 - Perda no treinamento: 0.189829 - Acurácia: 0.8929\n",
      "Época 32/250 - Perda no treinamento: 0.192237 - Acurácia: 1.0000\n",
      "Época 33/250 - Perda no treinamento: 0.193652 - Acurácia: 0.9643\n",
      "Época 34/250 - Perda no treinamento: 0.179373 - Acurácia: 0.9643\n",
      "Época 35/250 - Perda no treinamento: 0.191242 - Acurácia: 0.8214\n",
      "Época 36/250 - Perda no treinamento: 0.184385 - Acurácia: 0.8571\n",
      "Época 37/250 - Perda no treinamento: 0.180117 - Acurácia: 0.9643\n",
      "Época 38/250 - Perda no treinamento: 0.167748 - Acurácia: 1.0000\n",
      "Época 39/250 - Perda no treinamento: 0.175285 - Acurácia: 1.0000\n",
      "Época 40/250 - Perda no treinamento: 0.166510 - Acurácia: 0.9643\n",
      "Época 41/250 - Perda no treinamento: 0.170186 - Acurácia: 0.9643\n",
      "Época 42/250 - Perda no treinamento: 0.171747 - Acurácia: 0.9643\n",
      "Época 43/250 - Perda no treinamento: 0.174658 - Acurácia: 0.8214\n",
      "Época 44/250 - Perda no treinamento: 0.192356 - Acurácia: 0.9643\n",
      "Época 45/250 - Perda no treinamento: 0.160442 - Acurácia: 0.9643\n",
      "Época 46/250 - Perda no treinamento: 0.163440 - Acurácia: 0.9643\n",
      "Época 47/250 - Perda no treinamento: 0.157930 - Acurácia: 0.8571\n",
      "Época 48/250 - Perda no treinamento: 0.165668 - Acurácia: 0.9643\n",
      "Época 49/250 - Perda no treinamento: 0.159908 - Acurácia: 0.9286\n",
      "Época 50/250 - Perda no treinamento: 0.152549 - Acurácia: 0.9643\n",
      "Época 51/250 - Perda no treinamento: 0.168284 - Acurácia: 0.9643\n",
      "Época 52/250 - Perda no treinamento: 0.157341 - Acurácia: 0.9643\n",
      "Época 53/250 - Perda no treinamento: 0.137820 - Acurácia: 0.8214\n",
      "Época 54/250 - Perda no treinamento: 0.164010 - Acurácia: 0.8929\n",
      "Época 55/250 - Perda no treinamento: 0.152424 - Acurácia: 0.9286\n",
      "Época 56/250 - Perda no treinamento: 0.172224 - Acurácia: 1.0000\n",
      "Época 57/250 - Perda no treinamento: 0.147103 - Acurácia: 0.9286\n",
      "Época 58/250 - Perda no treinamento: 0.139147 - Acurácia: 0.9286\n",
      "Época 59/250 - Perda no treinamento: 0.154827 - Acurácia: 0.9643\n",
      "Época 60/250 - Perda no treinamento: 0.143733 - Acurácia: 0.9286\n",
      "Época 61/250 - Perda no treinamento: 0.148974 - Acurácia: 0.9286\n",
      "Época 62/250 - Perda no treinamento: 0.141258 - Acurácia: 0.9286\n",
      "Época 63/250 - Perda no treinamento: 0.153272 - Acurácia: 0.9286\n",
      "Época 64/250 - Perda no treinamento: 0.127942 - Acurácia: 0.9643\n",
      "Época 65/250 - Perda no treinamento: 0.133330 - Acurácia: 1.0000\n",
      "Época 66/250 - Perda no treinamento: 0.155177 - Acurácia: 0.7500\n",
      "Época 67/250 - Perda no treinamento: 0.146053 - Acurácia: 1.0000\n",
      "Época 68/250 - Perda no treinamento: 0.147261 - Acurácia: 0.9643\n",
      "Época 69/250 - Perda no treinamento: 0.131448 - Acurácia: 0.9286\n",
      "Época 70/250 - Perda no treinamento: 0.142969 - Acurácia: 1.0000\n",
      "Época 71/250 - Perda no treinamento: 0.142323 - Acurácia: 0.9643\n",
      "Época 72/250 - Perda no treinamento: 0.113568 - Acurácia: 0.9643\n",
      "Época 73/250 - Perda no treinamento: 0.143684 - Acurácia: 0.8929\n",
      "Época 74/250 - Perda no treinamento: 0.131776 - Acurácia: 0.9643\n",
      "Época 75/250 - Perda no treinamento: 0.143825 - Acurácia: 0.8929\n",
      "Época 76/250 - Perda no treinamento: 0.135606 - Acurácia: 0.9643\n",
      "Época 77/250 - Perda no treinamento: 0.126124 - Acurácia: 0.9643\n",
      "Época 78/250 - Perda no treinamento: 0.127026 - Acurácia: 0.9643\n",
      "Época 79/250 - Perda no treinamento: 0.152240 - Acurácia: 0.9643\n",
      "Época 80/250 - Perda no treinamento: 0.132210 - Acurácia: 0.9643\n",
      "Época 81/250 - Perda no treinamento: 0.147421 - Acurácia: 0.9643\n",
      "Época 82/250 - Perda no treinamento: 0.119767 - Acurácia: 0.9643\n",
      "Época 83/250 - Perda no treinamento: 0.116036 - Acurácia: 0.9643\n",
      "Época 84/250 - Perda no treinamento: 0.135540 - Acurácia: 0.9643\n",
      "Época 85/250 - Perda no treinamento: 0.128124 - Acurácia: 0.8929\n",
      "Época 86/250 - Perda no treinamento: 0.128550 - Acurácia: 0.9643\n",
      "Época 87/250 - Perda no treinamento: 0.132109 - Acurácia: 0.9643\n",
      "Época 88/250 - Perda no treinamento: 0.116285 - Acurácia: 1.0000\n",
      "Época 89/250 - Perda no treinamento: 0.119379 - Acurácia: 1.0000\n",
      "Época 90/250 - Perda no treinamento: 0.128934 - Acurácia: 0.9643\n",
      "Época 91/250 - Perda no treinamento: 0.112918 - Acurácia: 0.9286\n",
      "Época 92/250 - Perda no treinamento: 0.114714 - Acurácia: 1.0000\n",
      "Época 93/250 - Perda no treinamento: 0.115930 - Acurácia: 1.0000\n",
      "Época 94/250 - Perda no treinamento: 0.106444 - Acurácia: 0.9643\n",
      "Época 95/250 - Perda no treinamento: 0.126972 - Acurácia: 0.8929\n",
      "Época 96/250 - Perda no treinamento: 0.111147 - Acurácia: 1.0000\n",
      "Época 97/250 - Perda no treinamento: 0.138314 - Acurácia: 0.8929\n",
      "Época 98/250 - Perda no treinamento: 0.129909 - Acurácia: 0.9643\n",
      "Época 99/250 - Perda no treinamento: 0.102400 - Acurácia: 0.9286\n",
      "Época 100/250 - Perda no treinamento: 0.112932 - Acurácia: 0.9643\n",
      "Época 101/250 - Perda no treinamento: 0.113887 - Acurácia: 0.8929\n",
      "Época 102/250 - Perda no treinamento: 0.124631 - Acurácia: 0.9643\n",
      "Época 103/250 - Perda no treinamento: 0.126970 - Acurácia: 1.0000\n",
      "Época 104/250 - Perda no treinamento: 0.125292 - Acurácia: 0.9643\n",
      "Época 105/250 - Perda no treinamento: 0.128573 - Acurácia: 0.9286\n",
      "Época 106/250 - Perda no treinamento: 0.117946 - Acurácia: 0.8929\n",
      "Época 107/250 - Perda no treinamento: 0.131568 - Acurácia: 0.9643\n",
      "Época 108/250 - Perda no treinamento: 0.098553 - Acurácia: 0.9643\n",
      "Época 109/250 - Perda no treinamento: 0.119417 - Acurácia: 1.0000\n",
      "Época 110/250 - Perda no treinamento: 0.121075 - Acurácia: 0.9286\n",
      "Época 111/250 - Perda no treinamento: 0.112317 - Acurácia: 0.9286\n",
      "Época 112/250 - Perda no treinamento: 0.129624 - Acurácia: 0.9286\n",
      "Época 113/250 - Perda no treinamento: 0.104375 - Acurácia: 0.9286\n",
      "Época 114/250 - Perda no treinamento: 0.109057 - Acurácia: 0.9286\n",
      "Época 115/250 - Perda no treinamento: 0.115824 - Acurácia: 1.0000\n",
      "Época 116/250 - Perda no treinamento: 0.121331 - Acurácia: 1.0000\n",
      "Época 117/250 - Perda no treinamento: 0.105472 - Acurácia: 0.9643\n",
      "Época 118/250 - Perda no treinamento: 0.109492 - Acurácia: 0.9643\n",
      "Época 119/250 - Perda no treinamento: 0.096699 - Acurácia: 1.0000\n",
      "Época 120/250 - Perda no treinamento: 0.110762 - Acurácia: 1.0000\n",
      "Época 121/250 - Perda no treinamento: 0.105345 - Acurácia: 0.9643\n",
      "Época 122/250 - Perda no treinamento: 0.117142 - Acurácia: 0.9643\n",
      "Época 123/250 - Perda no treinamento: 0.114092 - Acurácia: 0.9643\n",
      "Época 124/250 - Perda no treinamento: 0.086727 - Acurácia: 0.9286\n",
      "Época 125/250 - Perda no treinamento: 0.097392 - Acurácia: 0.9286\n",
      "Época 126/250 - Perda no treinamento: 0.116838 - Acurácia: 1.0000\n",
      "Época 127/250 - Perda no treinamento: 0.084257 - Acurácia: 0.9286\n",
      "Época 128/250 - Perda no treinamento: 0.113112 - Acurácia: 0.9286\n",
      "Época 129/250 - Perda no treinamento: 0.118640 - Acurácia: 1.0000\n",
      "Época 130/250 - Perda no treinamento: 0.101813 - Acurácia: 0.9286\n",
      "Época 131/250 - Perda no treinamento: 0.118435 - Acurácia: 1.0000\n",
      "Época 132/250 - Perda no treinamento: 0.094244 - Acurácia: 0.9643\n",
      "Época 133/250 - Perda no treinamento: 0.098596 - Acurácia: 0.9643\n",
      "Época 134/250 - Perda no treinamento: 0.092507 - Acurácia: 0.9643\n",
      "Época 135/250 - Perda no treinamento: 0.106372 - Acurácia: 0.9643\n",
      "Época 136/250 - Perda no treinamento: 0.088844 - Acurácia: 0.9643\n",
      "Época 137/250 - Perda no treinamento: 0.102029 - Acurácia: 0.9643\n",
      "Época 138/250 - Perda no treinamento: 0.088089 - Acurácia: 0.8571\n",
      "Época 139/250 - Perda no treinamento: 0.105419 - Acurácia: 0.9643\n",
      "Época 140/250 - Perda no treinamento: 0.103249 - Acurácia: 1.0000\n",
      "Época 141/250 - Perda no treinamento: 0.095837 - Acurácia: 0.9643\n",
      "Época 142/250 - Perda no treinamento: 0.099440 - Acurácia: 0.9286\n",
      "Época 143/250 - Perda no treinamento: 0.108048 - Acurácia: 0.9643\n",
      "Época 144/250 - Perda no treinamento: 0.099091 - Acurácia: 0.9643\n",
      "Época 145/250 - Perda no treinamento: 0.086725 - Acurácia: 0.9643\n",
      "Época 146/250 - Perda no treinamento: 0.090934 - Acurácia: 0.8929\n",
      "Época 147/250 - Perda no treinamento: 0.083715 - Acurácia: 1.0000\n",
      "Época 148/250 - Perda no treinamento: 0.084145 - Acurácia: 1.0000\n",
      "Época 149/250 - Perda no treinamento: 0.103814 - Acurácia: 0.9286\n",
      "Época 150/250 - Perda no treinamento: 0.076881 - Acurácia: 0.9286\n",
      "Época 151/250 - Perda no treinamento: 0.090774 - Acurácia: 1.0000\n",
      "Época 152/250 - Perda no treinamento: 0.099783 - Acurácia: 0.9643\n",
      "Época 153/250 - Perda no treinamento: 0.084330 - Acurácia: 0.8571\n",
      "Época 154/250 - Perda no treinamento: 0.095107 - Acurácia: 0.9643\n",
      "Época 155/250 - Perda no treinamento: 0.083504 - Acurácia: 1.0000\n",
      "Época 156/250 - Perda no treinamento: 0.098179 - Acurácia: 1.0000\n",
      "Época 157/250 - Perda no treinamento: 0.098098 - Acurácia: 1.0000\n",
      "Época 158/250 - Perda no treinamento: 0.095605 - Acurácia: 0.9643\n",
      "Época 159/250 - Perda no treinamento: 0.103159 - Acurácia: 0.9643\n",
      "Época 160/250 - Perda no treinamento: 0.095603 - Acurácia: 0.9643\n",
      "Época 161/250 - Perda no treinamento: 0.090335 - Acurácia: 0.9643\n",
      "Época 162/250 - Perda no treinamento: 0.084099 - Acurácia: 1.0000\n",
      "Época 163/250 - Perda no treinamento: 0.073388 - Acurácia: 0.9643\n",
      "Época 164/250 - Perda no treinamento: 0.083924 - Acurácia: 0.8929\n",
      "Época 165/250 - Perda no treinamento: 0.075933 - Acurácia: 0.9643\n",
      "Época 166/250 - Perda no treinamento: 0.078688 - Acurácia: 1.0000\n",
      "Época 167/250 - Perda no treinamento: 0.095475 - Acurácia: 0.8929\n",
      "Época 168/250 - Perda no treinamento: 0.079743 - Acurácia: 0.9643\n",
      "Época 169/250 - Perda no treinamento: 0.096573 - Acurácia: 1.0000\n",
      "Época 170/250 - Perda no treinamento: 0.080385 - Acurácia: 0.9286\n",
      "Época 171/250 - Perda no treinamento: 0.093124 - Acurácia: 0.9643\n",
      "Época 172/250 - Perda no treinamento: 0.086768 - Acurácia: 0.9643\n",
      "Época 173/250 - Perda no treinamento: 0.103779 - Acurácia: 0.9286\n",
      "Época 174/250 - Perda no treinamento: 0.094265 - Acurácia: 0.9643\n",
      "Época 175/250 - Perda no treinamento: 0.087382 - Acurácia: 1.0000\n",
      "Época 176/250 - Perda no treinamento: 0.084317 - Acurácia: 0.9643\n",
      "Época 177/250 - Perda no treinamento: 0.093394 - Acurácia: 1.0000\n",
      "Época 178/250 - Perda no treinamento: 0.080772 - Acurácia: 0.9643\n",
      "Época 179/250 - Perda no treinamento: 0.076553 - Acurácia: 0.9643\n",
      "Época 180/250 - Perda no treinamento: 0.075610 - Acurácia: 0.9643\n",
      "Época 181/250 - Perda no treinamento: 0.103270 - Acurácia: 1.0000\n",
      "Época 182/250 - Perda no treinamento: 0.086929 - Acurácia: 0.9643\n",
      "Época 183/250 - Perda no treinamento: 0.077846 - Acurácia: 1.0000\n",
      "Época 184/250 - Perda no treinamento: 0.066875 - Acurácia: 1.0000\n",
      "Época 185/250 - Perda no treinamento: 0.094614 - Acurácia: 0.9643\n",
      "Época 186/250 - Perda no treinamento: 0.080511 - Acurácia: 0.9643\n",
      "Época 187/250 - Perda no treinamento: 0.080442 - Acurácia: 1.0000\n",
      "Época 188/250 - Perda no treinamento: 0.074944 - Acurácia: 0.9643\n",
      "Época 189/250 - Perda no treinamento: 0.076664 - Acurácia: 0.9643\n",
      "Época 190/250 - Perda no treinamento: 0.072452 - Acurácia: 1.0000\n",
      "Época 191/250 - Perda no treinamento: 0.075654 - Acurácia: 0.9286\n",
      "Época 192/250 - Perda no treinamento: 0.077226 - Acurácia: 0.9643\n",
      "Época 193/250 - Perda no treinamento: 0.070076 - Acurácia: 1.0000\n",
      "Época 194/250 - Perda no treinamento: 0.076071 - Acurácia: 0.9286\n",
      "Época 195/250 - Perda no treinamento: 0.081388 - Acurácia: 0.9643\n",
      "Época 196/250 - Perda no treinamento: 0.091039 - Acurácia: 0.8929\n",
      "Época 197/250 - Perda no treinamento: 0.080198 - Acurácia: 1.0000\n",
      "Época 198/250 - Perda no treinamento: 0.065314 - Acurácia: 0.9643\n",
      "Época 199/250 - Perda no treinamento: 0.075208 - Acurácia: 1.0000\n",
      "Época 200/250 - Perda no treinamento: 0.084003 - Acurácia: 1.0000\n",
      "Época 201/250 - Perda no treinamento: 0.056099 - Acurácia: 1.0000\n",
      "Época 202/250 - Perda no treinamento: 0.097278 - Acurácia: 1.0000\n",
      "Época 203/250 - Perda no treinamento: 0.071412 - Acurácia: 0.9643\n",
      "Época 204/250 - Perda no treinamento: 0.067162 - Acurácia: 1.0000\n",
      "Época 205/250 - Perda no treinamento: 0.083009 - Acurácia: 1.0000\n",
      "Época 206/250 - Perda no treinamento: 0.074461 - Acurácia: 1.0000\n",
      "Época 207/250 - Perda no treinamento: 0.074504 - Acurácia: 1.0000\n",
      "Época 208/250 - Perda no treinamento: 0.082966 - Acurácia: 1.0000\n",
      "Época 209/250 - Perda no treinamento: 0.060743 - Acurácia: 0.9286\n",
      "Época 210/250 - Perda no treinamento: 0.074199 - Acurácia: 0.9643\n",
      "Época 211/250 - Perda no treinamento: 0.072382 - Acurácia: 1.0000\n",
      "Época 212/250 - Perda no treinamento: 0.083587 - Acurácia: 0.9643\n",
      "Época 213/250 - Perda no treinamento: 0.074713 - Acurácia: 0.9286\n",
      "Época 214/250 - Perda no treinamento: 0.075304 - Acurácia: 0.9286\n",
      "Época 215/250 - Perda no treinamento: 0.078044 - Acurácia: 0.9286\n",
      "Época 216/250 - Perda no treinamento: 0.074681 - Acurácia: 1.0000\n",
      "Época 217/250 - Perda no treinamento: 0.078757 - Acurácia: 1.0000\n",
      "Época 218/250 - Perda no treinamento: 0.070811 - Acurácia: 1.0000\n",
      "Época 219/250 - Perda no treinamento: 0.073056 - Acurácia: 0.9643\n",
      "Época 220/250 - Perda no treinamento: 0.061530 - Acurácia: 1.0000\n",
      "Época 221/250 - Perda no treinamento: 0.061397 - Acurácia: 0.9286\n",
      "Época 222/250 - Perda no treinamento: 0.076938 - Acurácia: 1.0000\n",
      "Época 223/250 - Perda no treinamento: 0.097827 - Acurácia: 1.0000\n",
      "Época 224/250 - Perda no treinamento: 0.061559 - Acurácia: 0.8929\n",
      "Época 225/250 - Perda no treinamento: 0.074023 - Acurácia: 1.0000\n",
      "Época 226/250 - Perda no treinamento: 0.070793 - Acurácia: 1.0000\n",
      "Época 227/250 - Perda no treinamento: 0.072035 - Acurácia: 1.0000\n",
      "Época 228/250 - Perda no treinamento: 0.065092 - Acurácia: 1.0000\n",
      "Época 229/250 - Perda no treinamento: 0.073083 - Acurácia: 0.9643\n",
      "Época 230/250 - Perda no treinamento: 0.073727 - Acurácia: 1.0000\n",
      "Época 231/250 - Perda no treinamento: 0.065328 - Acurácia: 1.0000\n",
      "Época 232/250 - Perda no treinamento: 0.074458 - Acurácia: 1.0000\n",
      "Época 233/250 - Perda no treinamento: 0.077942 - Acurácia: 0.8929\n",
      "Época 234/250 - Perda no treinamento: 0.071215 - Acurácia: 0.9643\n",
      "Época 235/250 - Perda no treinamento: 0.064764 - Acurácia: 0.9643\n",
      "Época 236/250 - Perda no treinamento: 0.067831 - Acurácia: 0.9643\n",
      "Época 237/250 - Perda no treinamento: 0.063567 - Acurácia: 1.0000\n",
      "Época 238/250 - Perda no treinamento: 0.064596 - Acurácia: 1.0000\n",
      "Época 239/250 - Perda no treinamento: 0.060238 - Acurácia: 0.9643\n",
      "Época 240/250 - Perda no treinamento: 0.087045 - Acurácia: 0.9643\n",
      "Época 241/250 - Perda no treinamento: 0.073721 - Acurácia: 0.9286\n",
      "Época 242/250 - Perda no treinamento: 0.071775 - Acurácia: 1.0000\n",
      "Época 243/250 - Perda no treinamento: 0.064028 - Acurácia: 0.9643\n",
      "Época 244/250 - Perda no treinamento: 0.073486 - Acurácia: 0.9643\n",
      "Época 245/250 - Perda no treinamento: 0.078009 - Acurácia: 0.9286\n",
      "Época 246/250 - Perda no treinamento: 0.074684 - Acurácia: 0.9286\n",
      "Época 247/250 - Perda no treinamento: 0.062011 - Acurácia: 1.0000\n",
      "Época 248/250 - Perda no treinamento: 0.062022 - Acurácia: 1.0000\n",
      "Época 249/250 - Perda no treinamento: 0.054421 - Acurácia: 0.9643\n",
      "Época 250/250 - Perda no treinamento: 0.079830 - Acurácia: 0.9643\n",
      "\n",
      "Tempo total de treinamento: 18393.79 segundos\n"
     ]
    }
   ],
   "source": [
    "train_losses = []\n",
    "train_acc = []\n",
    "\n",
    "training_start_time = time.time()\n",
    "\n",
    "for epoch in range(num_epoch):\n",
    "    model.train()\n",
    "    running_train_loss = 0.0\n",
    "\n",
    "    for inputs, labels in train_loader:\n",
    "        inputs = inputs.to(device)\n",
    "        labels = labels.to(device)\n",
    "    \n",
    "        optimizer.zero_grad()\n",
    "        outputs = model(inputs)\n",
    "\n",
    "        loss = loss_fn(outputs, labels)\n",
    "        loss.backward()\n",
    "        optimizer.step()\n",
    "        running_train_loss += loss.item()\n",
    "\n",
    "    train_loss = running_train_loss / len(train_loader)\n",
    "    train_losses.append(train_loss)\n",
    "\n",
    "    _, predicted = torch.max(outputs.data, 1)\n",
    "\n",
    "    acc = accuracy_score(labels.cpu().detach().numpy(), predicted.cpu().detach().numpy())\n",
    "    train_acc.append(acc)\n",
    "\n",
    "    print(f\"Época {epoch + 1}/{num_epoch} - Perda no treinamento: {train_loss:.6f} - Acurácia: {acc:.4f}\")\n",
    "\n",
    "training_time = time.time() - training_start_time\n",
    "print(f\"\\nTempo total de treinamento: {training_time:.2f} segundos\")"
   ]
  },
  {
   "cell_type": "code",
   "execution_count": 12,
   "id": "6e0bfba8",
   "metadata": {},
   "outputs": [
    {
     "data": {
      "text/plain": [
       "Text(0.5, 0.98, 'Treinamento')"
      ]
     },
     "execution_count": 12,
     "metadata": {},
     "output_type": "execute_result"
    },
    {
     "data": {
      "image/png": "[encoded data removed]",
      "text/plain": [
       "<Figure size 1200x500 with 2 Axes>"
      ]
     },
     "metadata": {},
     "output_type": "display_data"
    }
   ],
   "source": [
    "epochs = range(1, num_epoch + 1)\n",
    "\n",
    "plt.figure(figsize=(12, 5))\n",
    "\n",
    "plt.subplot(1, 2, 1)\n",
    "plt.plot(epochs, train_losses, 'bo-')\n",
    "plt.xlabel('Épocas')\n",
    "plt.ylabel('Perda')\n",
    "\n",
    "plt.subplot(1, 2, 2)\n",
    "plt.plot(epochs, train_acc, 'ro-')\n",
    "plt.xlabel('Épocas')\n",
    "plt.ylabel('Acurácia')\n",
    "\n",
    "plt.suptitle(\"Treinamento\", fontsize = 20)"
   ]
  },
  {
   "cell_type": "code",
   "execution_count": 13,
   "id": "b69784a6",
   "metadata": {},
   "outputs": [
    {
     "name": "stdout",
     "output_type": "stream",
     "text": [
      "!!!Teste finalizado!!!\n"
     ]
    }
   ],
   "source": [
    "rot_array = []\n",
    "predt_array = []\n",
    "\n",
    "model.eval()\n",
    "    \n",
    "with torch.no_grad():\n",
    "        \n",
    "    for images, labels in test_loader:\n",
    "        images = images.to(device)\n",
    "        labels = labels.to(device)\n",
    "        \n",
    "        outputs = model(images)\n",
    "        _, predicted = torch.max(outputs.data, 1)\n",
    "\n",
    "        rot_array.extend(labels.cpu().detach().numpy())\n",
    "        predt_array.extend(predicted.cpu().detach().numpy())\n",
    "\n",
    "print(\"!!!Teste finalizado!!!\")"
   ]
  },
  {
   "cell_type": "markdown",
   "id": "7d4e8125",
   "metadata": {},
   "source": [
    "# <center> Métricas de avaliação </center>"
   ]
  },
  {
   "cell_type": "code",
   "execution_count": 14,
   "id": "3db4b94b",
   "metadata": {},
   "outputs": [
    {
     "data": {
      "image/png": "[encoded data removed]",
      "text/plain": [
       "<Figure size 640x480 with 2 Axes>"
      ]
     },
     "metadata": {},
     "output_type": "display_data"
    }
   ],
   "source": [
    "cm = confusion_matrix(rot_array, predt_array)\n",
    "\n",
    "disp = ConfusionMatrixDisplay(confusion_matrix=cm, display_labels=['Normal', 'Pneumonia', 'Tuberculose'])\n",
    "disp.plot(cmap=plt.cm.Blues)\n",
    "\n",
    "plt.xlabel('Rótulo previsto')\n",
    "plt.ylabel('Rótulo verdadeiro')\n",
    "plt.show()"
   ]
  },
  {
   "cell_type": "code",
   "execution_count": 15,
   "id": "5cc4b82f",
   "metadata": {},
   "outputs": [
    {
     "name": "stdout",
     "output_type": "stream",
     "text": [
      "Acurácia: 96.47%\n"
     ]
    }
   ],
   "source": [
    "acc = accuracy_score(rot_array, predt_array)\n",
    "print(f\"Acurácia: {acc * 100 :.2f}%\")"
   ]
  },
  {
   "cell_type": "code",
   "execution_count": 16,
   "id": "b6110c3c",
   "metadata": {},
   "outputs": [
    {
     "name": "stdout",
     "output_type": "stream",
     "text": [
      "Precisão: 96.56%\n"
     ]
    }
   ],
   "source": [
    "precision = precision_score(rot_array, predt_array, average='weighted')\n",
    "print(f\"Precisão: {precision * 100 :.2f}%\")"
   ]
  },
  {
   "cell_type": "code",
   "execution_count": 17,
   "id": "a1b52987",
   "metadata": {},
   "outputs": [
    {
     "name": "stdout",
     "output_type": "stream",
     "text": [
      "Recall: 96.47%\n"
     ]
    }
   ],
   "source": [
    "recall = recall_score(rot_array, predt_array, average='weighted')\n",
    "print(f\"Recall: {recall * 100 :.2f}%\")"
   ]
  },
  {
   "cell_type": "code",
   "execution_count": 18,
   "id": "8fdb017e",
   "metadata": {},
   "outputs": [
    {
     "name": "stdout",
     "output_type": "stream",
     "text": [
      "F1 Score: 96.48%\n"
     ]
    }
   ],
   "source": [
    "f1 = f1_score(rot_array, predt_array, average='weighted')\n",
    "print(f\"F1 Score: {f1 * 100 :.2f}%\")"
   ]
  }
 ],
 "metadata": {
  "kernelspec": {
   "display_name": "Python 3 (ipykernel)",
   "language": "python",
   "name": "python3"
  },
  "language_info": {
   "codemirror_mode": {
    "name": "ipython",
    "version": 3
   },
   "file_extension": ".py",
   "mimetype": "text/x-python",
   "name": "python",
   "nbconvert_exporter": "python",
   "pygments_lexer": "ipython3",
   "version": "3.12.3"
  }
 },
 "nbformat": 4,
 "nbformat_minor": 5
}
