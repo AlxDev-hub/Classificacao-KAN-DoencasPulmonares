{
 "cells": [
  {
   "cell_type": "code",
   "execution_count": 1,
   "id": "a77bd366-35d9-4e91-82ee-e8e0396d3e85",
   "metadata": {},
   "outputs": [],
   "source": [
    "import time\n",
    "import numpy as np\n",
    "import matplotlib.pyplot as plt\n",
    "\n",
    "import torch\n",
    "import torch.nn as nn\n",
    "import torch.optim as optim\n",
    "from torchvision import datasets, transforms\n",
    "from torch.utils.data import DataLoader, random_split\n",
    "\n",
    "from sklearn.metrics import *"
   ]
  },
  {
   "cell_type": "markdown",
   "id": "f999a09d-3bcc-4162-9d21-919ce24d6421",
   "metadata": {},
   "source": [
    "# <center>Pré-processamento dos dados</center>"
   ]
  },
  {
   "cell_type": "code",
   "execution_count": 2,
   "id": "eb38a3f1",
   "metadata": {},
   "outputs": [],
   "source": [
    "dataset_path = 'dataset_teste3'"
   ]
  },
  {
   "cell_type": "code",
   "execution_count": 3,
   "id": "c4a49511",
   "metadata": {},
   "outputs": [],
   "source": [
    "transform = transforms.Compose(\n",
    "    [transforms.Resize(size = (224,224)),\n",
    "     transforms.ToTensor(),\n",
    "     transforms.Normalize(mean=[0.5], std=[0.5])\n",
    "    ]\n",
    ")"
   ]
  },
  {
   "cell_type": "code",
   "execution_count": 4,
   "id": "f0bb0680",
   "metadata": {},
   "outputs": [],
   "source": [
    "dataset = datasets.ImageFolder(dataset_path, transform = transform)"
   ]
  },
  {
   "cell_type": "code",
   "execution_count": 5,
   "id": "58308826",
   "metadata": {},
   "outputs": [
    {
     "name": "stdout",
     "output_type": "stream",
     "text": [
      "Informações sobre o Dataset: \n",
      "\n",
      " Dataset ImageFolder\n",
      "    Number of datapoints: 5000\n",
      "    Root location: dataset_teste3\n",
      "    StandardTransform\n",
      "Transform: Compose(\n",
      "               Resize(size=(224, 224), interpolation=bilinear, max_size=None, antialias=True)\n",
      "               ToTensor()\n",
      "               Normalize(mean=[0.5], std=[0.5])\n",
      "           )\n",
      "\n",
      "Rótulos:  ['NORMAL', 'PNEUMONIA', 'TUBERCULOSE']\n"
     ]
    }
   ],
   "source": [
    "print(\"Informações sobre o Dataset: \\n\\n\", dataset)\n",
    "print(\"\\nRótulos: \", dataset.classes)"
   ]
  },
  {
   "cell_type": "code",
   "execution_count": 6,
   "id": "343179bc",
   "metadata": {},
   "outputs": [],
   "source": [
    "train_size = int(0.7 * len(dataset))\n",
    "test_size = len(dataset) - train_size\n",
    "\n",
    "train_dataset, test_dataset = random_split(dataset, [train_size, test_size])"
   ]
  },
  {
   "cell_type": "code",
   "execution_count": 8,
   "id": "1dd381ef",
   "metadata": {},
   "outputs": [],
   "source": [
    "train_loader = DataLoader(train_dataset, batch_size=28, shuffle=True)\n",
    "test_loader = DataLoader(test_dataset, batch_size=30, shuffle=False)"
   ]
  },
  {
   "cell_type": "markdown",
   "id": "7bf3038a-8d82-45ab-94a3-f11406160a86",
   "metadata": {},
   "source": [
    "# <center>Implementação da arquitetura CNN</center>"
   ]
  },
  {
   "cell_type": "code",
   "execution_count": 25,
   "id": "5118d0d6-aaf5-4cbe-88a2-399d77684108",
   "metadata": {},
   "outputs": [
    {
     "name": "stdout",
     "output_type": "stream",
     "text": [
      "Dispositivo utilizado: cuda\n"
     ]
    }
   ],
   "source": [
    "model = nn.Sequential(\n",
    "    nn.Conv2d(3, 32, kernel_size=3, stride=1, padding=1),\n",
    "    nn.BatchNorm2d(32),\n",
    "    nn.ReLU(),\n",
    "    nn.MaxPool2d(kernel_size=2, stride=2, padding=0),\n",
    "    \n",
    "    nn.Conv2d(32, 64, kernel_size=3, stride=1, padding=1),\n",
    "    nn.BatchNorm2d(64),\n",
    "    nn.ReLU(),\n",
    "    nn.MaxPool2d(kernel_size=2, stride=2, padding=0),\n",
    "    \n",
    "    nn.Conv2d(64, 128, kernel_size=3, stride=1, padding=1),\n",
    "    nn.BatchNorm2d(128),\n",
    "    nn.ReLU(),\n",
    "    nn.MaxPool2d(kernel_size=2, stride=2, padding=0),\n",
    "    \n",
    "    nn.Flatten(),\n",
    "    \n",
    "    nn.Linear(128 * 28 * 28, 256),\n",
    "    nn.Dropout(p=0.3),\n",
    "    nn.ReLU(),\n",
    "\n",
    "    nn.Linear(256, 128),\n",
    "    nn.Dropout(p=0.3),\n",
    "    nn.ReLU(),\n",
    "    \n",
    "    nn.Linear(128, 64),\n",
    "    nn.Dropout(p=0.3),\n",
    "    nn.ReLU(),\n",
    "    \n",
    "    nn.Linear(64, 3)\n",
    ")\n",
    "\n",
    "device = torch.device(\"cuda\" if torch.cuda.is_available() else \"cpu\")\n",
    "print(f\"Dispositivo utilizado: {device}\")"
   ]
  },
  {
   "cell_type": "code",
   "execution_count": 26,
   "id": "4c273480-2d7c-4e82-93b5-cc5b02de3e82",
   "metadata": {},
   "outputs": [
    {
     "data": {
      "text/plain": [
       "Sequential(\n",
       "  (0): Conv2d(3, 32, kernel_size=(3, 3), stride=(1, 1), padding=(1, 1))\n",
       "  (1): BatchNorm2d(32, eps=1e-05, momentum=0.1, affine=True, track_running_stats=True)\n",
       "  (2): ReLU()\n",
       "  (3): MaxPool2d(kernel_size=2, stride=2, padding=0, dilation=1, ceil_mode=False)\n",
       "  (4): Conv2d(32, 64, kernel_size=(3, 3), stride=(1, 1), padding=(1, 1))\n",
       "  (5): BatchNorm2d(64, eps=1e-05, momentum=0.1, affine=True, track_running_stats=True)\n",
       "  (6): ReLU()\n",
       "  (7): MaxPool2d(kernel_size=2, stride=2, padding=0, dilation=1, ceil_mode=False)\n",
       "  (8): Conv2d(64, 128, kernel_size=(3, 3), stride=(1, 1), padding=(1, 1))\n",
       "  (9): BatchNorm2d(128, eps=1e-05, momentum=0.1, affine=True, track_running_stats=True)\n",
       "  (10): ReLU()\n",
       "  (11): MaxPool2d(kernel_size=2, stride=2, padding=0, dilation=1, ceil_mode=False)\n",
       "  (12): Flatten(start_dim=1, end_dim=-1)\n",
       "  (13): Linear(in_features=100352, out_features=256, bias=True)\n",
       "  (14): Dropout(p=0.3, inplace=False)\n",
       "  (15): ReLU()\n",
       "  (16): Linear(in_features=256, out_features=128, bias=True)\n",
       "  (17): Dropout(p=0.3, inplace=False)\n",
       "  (18): ReLU()\n",
       "  (19): Linear(in_features=128, out_features=64, bias=True)\n",
       "  (20): Dropout(p=0.3, inplace=False)\n",
       "  (21): ReLU()\n",
       "  (22): Linear(in_features=64, out_features=3, bias=True)\n",
       ")"
      ]
     },
     "execution_count": 26,
     "metadata": {},
     "output_type": "execute_result"
    }
   ],
   "source": [
    "model.to(device)"
   ]
  },
  {
   "cell_type": "code",
   "execution_count": 27,
   "id": "7852f30f-76af-4d58-89bb-6fb14936b060",
   "metadata": {},
   "outputs": [],
   "source": [
    "num_epoch = 250\n",
    "learning_rate = 0.001\n",
    "optimizer = optim.Adam(model.parameters(), lr=learning_rate)\n",
    "loss_fn = nn.CrossEntropyLoss()"
   ]
  },
  {
   "cell_type": "code",
   "execution_count": 28,
   "id": "db6fb9fc",
   "metadata": {},
   "outputs": [
    {
     "name": "stdout",
     "output_type": "stream",
     "text": [
      "Época 1/250 - Perda no treinamento: 0.669400 - Acurácia: 0.9643\n",
      "Época 2/250 - Perda no treinamento: 0.202355 - Acurácia: 1.0000\n",
      "Época 3/250 - Perda no treinamento: 0.147599 - Acurácia: 0.9286\n",
      "Época 4/250 - Perda no treinamento: 0.139638 - Acurácia: 0.8571\n",
      "Época 5/250 - Perda no treinamento: 0.107356 - Acurácia: 0.9643\n",
      "Época 6/250 - Perda no treinamento: 0.108606 - Acurácia: 0.9286\n",
      "Época 7/250 - Perda no treinamento: 0.114401 - Acurácia: 1.0000\n",
      "Época 8/250 - Perda no treinamento: 0.077323 - Acurácia: 0.9286\n",
      "Época 9/250 - Perda no treinamento: 0.070240 - Acurácia: 0.9286\n",
      "Época 10/250 - Perda no treinamento: 0.067674 - Acurácia: 1.0000\n",
      "Época 11/250 - Perda no treinamento: 0.047941 - Acurácia: 0.9643\n",
      "Época 12/250 - Perda no treinamento: 0.067711 - Acurácia: 1.0000\n",
      "Época 13/250 - Perda no treinamento: 0.055094 - Acurácia: 0.9643\n",
      "Época 14/250 - Perda no treinamento: 0.042420 - Acurácia: 1.0000\n",
      "Época 15/250 - Perda no treinamento: 0.038489 - Acurácia: 0.9643\n",
      "Época 16/250 - Perda no treinamento: 0.062336 - Acurácia: 0.9286\n",
      "Época 17/250 - Perda no treinamento: 0.061169 - Acurácia: 0.9643\n",
      "Época 18/250 - Perda no treinamento: 0.030663 - Acurácia: 1.0000\n",
      "Época 19/250 - Perda no treinamento: 0.058378 - Acurácia: 0.8571\n",
      "Época 20/250 - Perda no treinamento: 0.035346 - Acurácia: 1.0000\n",
      "Época 21/250 - Perda no treinamento: 0.026669 - Acurácia: 1.0000\n",
      "Época 22/250 - Perda no treinamento: 0.028196 - Acurácia: 1.0000\n",
      "Época 23/250 - Perda no treinamento: 0.025095 - Acurácia: 1.0000\n",
      "Época 24/250 - Perda no treinamento: 0.032082 - Acurácia: 1.0000\n",
      "Época 25/250 - Perda no treinamento: 0.034847 - Acurácia: 1.0000\n",
      "Época 26/250 - Perda no treinamento: 0.018009 - Acurácia: 1.0000\n",
      "Época 27/250 - Perda no treinamento: 0.036171 - Acurácia: 1.0000\n",
      "Época 28/250 - Perda no treinamento: 0.038233 - Acurácia: 1.0000\n",
      "Época 29/250 - Perda no treinamento: 0.023534 - Acurácia: 0.9643\n",
      "Época 30/250 - Perda no treinamento: 0.016350 - Acurácia: 1.0000\n",
      "Época 31/250 - Perda no treinamento: 0.018480 - Acurácia: 1.0000\n",
      "Época 32/250 - Perda no treinamento: 0.012182 - Acurácia: 1.0000\n",
      "Época 33/250 - Perda no treinamento: 0.120681 - Acurácia: 1.0000\n",
      "Época 34/250 - Perda no treinamento: 0.025170 - Acurácia: 1.0000\n",
      "Época 35/250 - Perda no treinamento: 0.024723 - Acurácia: 1.0000\n",
      "Época 36/250 - Perda no treinamento: 0.015354 - Acurácia: 0.9286\n",
      "Época 37/250 - Perda no treinamento: 0.026867 - Acurácia: 1.0000\n",
      "Época 38/250 - Perda no treinamento: 0.010759 - Acurácia: 0.9643\n",
      "Época 39/250 - Perda no treinamento: 0.013522 - Acurácia: 1.0000\n",
      "Época 40/250 - Perda no treinamento: 0.032633 - Acurácia: 1.0000\n",
      "Época 41/250 - Perda no treinamento: 0.024760 - Acurácia: 0.9643\n",
      "Época 42/250 - Perda no treinamento: 0.053427 - Acurácia: 1.0000\n",
      "Época 43/250 - Perda no treinamento: 0.022544 - Acurácia: 1.0000\n",
      "Época 44/250 - Perda no treinamento: 0.015133 - Acurácia: 1.0000\n",
      "Época 45/250 - Perda no treinamento: 0.025893 - Acurácia: 1.0000\n",
      "Época 46/250 - Perda no treinamento: 0.025542 - Acurácia: 1.0000\n",
      "Época 47/250 - Perda no treinamento: 0.024563 - Acurácia: 1.0000\n",
      "Época 48/250 - Perda no treinamento: 0.013099 - Acurácia: 1.0000\n",
      "Época 49/250 - Perda no treinamento: 0.016508 - Acurácia: 1.0000\n",
      "Época 50/250 - Perda no treinamento: 0.008022 - Acurácia: 1.0000\n",
      "Época 51/250 - Perda no treinamento: 0.010479 - Acurácia: 1.0000\n",
      "Época 52/250 - Perda no treinamento: 0.011692 - Acurácia: 0.9643\n",
      "Época 53/250 - Perda no treinamento: 0.011438 - Acurácia: 1.0000\n",
      "Época 54/250 - Perda no treinamento: 0.018069 - Acurácia: 0.9643\n",
      "Época 55/250 - Perda no treinamento: 0.010140 - Acurácia: 0.9643\n",
      "Época 56/250 - Perda no treinamento: 0.023734 - Acurácia: 1.0000\n",
      "Época 57/250 - Perda no treinamento: 0.011507 - Acurácia: 1.0000\n",
      "Época 58/250 - Perda no treinamento: 0.018823 - Acurácia: 1.0000\n",
      "Época 59/250 - Perda no treinamento: 0.014992 - Acurácia: 1.0000\n",
      "Época 60/250 - Perda no treinamento: 0.010540 - Acurácia: 1.0000\n",
      "Época 61/250 - Perda no treinamento: 0.040258 - Acurácia: 1.0000\n",
      "Época 62/250 - Perda no treinamento: 0.045837 - Acurácia: 1.0000\n",
      "Época 63/250 - Perda no treinamento: 0.014050 - Acurácia: 1.0000\n",
      "Época 64/250 - Perda no treinamento: 0.008724 - Acurácia: 1.0000\n",
      "Época 65/250 - Perda no treinamento: 0.009519 - Acurácia: 0.9643\n",
      "Época 66/250 - Perda no treinamento: 0.021416 - Acurácia: 1.0000\n",
      "Época 67/250 - Perda no treinamento: 0.027065 - Acurácia: 1.0000\n",
      "Época 68/250 - Perda no treinamento: 0.008547 - Acurácia: 1.0000\n",
      "Época 69/250 - Perda no treinamento: 0.011466 - Acurácia: 1.0000\n",
      "Época 70/250 - Perda no treinamento: 0.002998 - Acurácia: 1.0000\n",
      "Época 71/250 - Perda no treinamento: 0.008957 - Acurácia: 0.9643\n",
      "Época 72/250 - Perda no treinamento: 0.012065 - Acurácia: 1.0000\n",
      "Época 73/250 - Perda no treinamento: 0.006459 - Acurácia: 1.0000\n",
      "Época 74/250 - Perda no treinamento: 0.003263 - Acurácia: 1.0000\n",
      "Época 75/250 - Perda no treinamento: 0.004471 - Acurácia: 1.0000\n",
      "Época 76/250 - Perda no treinamento: 0.010469 - Acurácia: 1.0000\n",
      "Época 77/250 - Perda no treinamento: 0.042369 - Acurácia: 1.0000\n",
      "Época 78/250 - Perda no treinamento: 0.011773 - Acurácia: 1.0000\n",
      "Época 79/250 - Perda no treinamento: 0.030786 - Acurácia: 1.0000\n",
      "Época 80/250 - Perda no treinamento: 0.009206 - Acurácia: 1.0000\n",
      "Época 81/250 - Perda no treinamento: 0.003954 - Acurácia: 1.0000\n",
      "Época 82/250 - Perda no treinamento: 0.009606 - Acurácia: 1.0000\n",
      "Época 83/250 - Perda no treinamento: 0.009310 - Acurácia: 1.0000\n",
      "Época 84/250 - Perda no treinamento: 0.009095 - Acurácia: 1.0000\n",
      "Época 85/250 - Perda no treinamento: 0.004755 - Acurácia: 1.0000\n",
      "Época 86/250 - Perda no treinamento: 0.008076 - Acurácia: 0.9643\n",
      "Época 87/250 - Perda no treinamento: 0.011229 - Acurácia: 1.0000\n",
      "Época 88/250 - Perda no treinamento: 0.009635 - Acurácia: 1.0000\n",
      "Época 89/250 - Perda no treinamento: 0.006585 - Acurácia: 1.0000\n",
      "Época 90/250 - Perda no treinamento: 0.016119 - Acurácia: 1.0000\n",
      "Época 91/250 - Perda no treinamento: 0.004750 - Acurácia: 0.9643\n",
      "Época 92/250 - Perda no treinamento: 0.005052 - Acurácia: 1.0000\n",
      "Época 93/250 - Perda no treinamento: 0.023070 - Acurácia: 1.0000\n",
      "Época 94/250 - Perda no treinamento: 0.034779 - Acurácia: 1.0000\n",
      "Época 95/250 - Perda no treinamento: 0.025058 - Acurácia: 1.0000\n",
      "Época 96/250 - Perda no treinamento: 0.009314 - Acurácia: 1.0000\n",
      "Época 97/250 - Perda no treinamento: 0.009851 - Acurácia: 1.0000\n",
      "Época 98/250 - Perda no treinamento: 0.017801 - Acurácia: 1.0000\n",
      "Época 99/250 - Perda no treinamento: 0.007173 - Acurácia: 1.0000\n",
      "Época 100/250 - Perda no treinamento: 0.007020 - Acurácia: 1.0000\n",
      "Época 101/250 - Perda no treinamento: 0.004092 - Acurácia: 1.0000\n",
      "Época 102/250 - Perda no treinamento: 0.009522 - Acurácia: 1.0000\n",
      "Época 103/250 - Perda no treinamento: 0.010059 - Acurácia: 1.0000\n",
      "Época 104/250 - Perda no treinamento: 0.003817 - Acurácia: 1.0000\n",
      "Época 105/250 - Perda no treinamento: 0.007163 - Acurácia: 1.0000\n",
      "Época 106/250 - Perda no treinamento: 0.009150 - Acurácia: 1.0000\n",
      "Época 107/250 - Perda no treinamento: 0.007508 - Acurácia: 1.0000\n",
      "Época 108/250 - Perda no treinamento: 0.023721 - Acurácia: 1.0000\n",
      "Época 109/250 - Perda no treinamento: 0.005746 - Acurácia: 1.0000\n",
      "Época 110/250 - Perda no treinamento: 0.001454 - Acurácia: 1.0000\n",
      "Época 111/250 - Perda no treinamento: 0.003718 - Acurácia: 1.0000\n",
      "Época 112/250 - Perda no treinamento: 0.017147 - Acurácia: 1.0000\n",
      "Época 113/250 - Perda no treinamento: 0.007331 - Acurácia: 0.9643\n",
      "Época 114/250 - Perda no treinamento: 0.014830 - Acurácia: 1.0000\n",
      "Época 115/250 - Perda no treinamento: 0.013982 - Acurácia: 1.0000\n",
      "Época 116/250 - Perda no treinamento: 0.002077 - Acurácia: 1.0000\n",
      "Época 117/250 - Perda no treinamento: 0.006741 - Acurácia: 1.0000\n",
      "Época 118/250 - Perda no treinamento: 0.009560 - Acurácia: 1.0000\n",
      "Época 119/250 - Perda no treinamento: 0.017361 - Acurácia: 1.0000\n",
      "Época 120/250 - Perda no treinamento: 0.019241 - Acurácia: 0.9643\n",
      "Época 121/250 - Perda no treinamento: 0.021951 - Acurácia: 1.0000\n",
      "Época 122/250 - Perda no treinamento: 0.005961 - Acurácia: 1.0000\n",
      "Época 123/250 - Perda no treinamento: 0.002502 - Acurácia: 1.0000\n",
      "Época 124/250 - Perda no treinamento: 0.006266 - Acurácia: 1.0000\n",
      "Época 125/250 - Perda no treinamento: 0.018032 - Acurácia: 1.0000\n",
      "Época 126/250 - Perda no treinamento: 0.009753 - Acurácia: 1.0000\n",
      "Época 127/250 - Perda no treinamento: 0.002344 - Acurácia: 1.0000\n",
      "Época 128/250 - Perda no treinamento: 0.001534 - Acurácia: 1.0000\n",
      "Época 129/250 - Perda no treinamento: 0.001893 - Acurácia: 1.0000\n",
      "Época 130/250 - Perda no treinamento: 0.004924 - Acurácia: 1.0000\n",
      "Época 131/250 - Perda no treinamento: 0.006313 - Acurácia: 1.0000\n",
      "Época 132/250 - Perda no treinamento: 0.016650 - Acurácia: 1.0000\n",
      "Época 133/250 - Perda no treinamento: 0.025511 - Acurácia: 1.0000\n",
      "Época 134/250 - Perda no treinamento: 0.013329 - Acurácia: 1.0000\n",
      "Época 135/250 - Perda no treinamento: 0.004732 - Acurácia: 1.0000\n",
      "Época 136/250 - Perda no treinamento: 0.008393 - Acurácia: 1.0000\n",
      "Época 137/250 - Perda no treinamento: 0.011126 - Acurácia: 1.0000\n",
      "Época 138/250 - Perda no treinamento: 0.009188 - Acurácia: 1.0000\n",
      "Época 139/250 - Perda no treinamento: 0.002268 - Acurácia: 1.0000\n",
      "Época 140/250 - Perda no treinamento: 0.001775 - Acurácia: 1.0000\n",
      "Época 141/250 - Perda no treinamento: 0.005186 - Acurácia: 1.0000\n",
      "Época 142/250 - Perda no treinamento: 0.003733 - Acurácia: 1.0000\n",
      "Época 143/250 - Perda no treinamento: 0.000672 - Acurácia: 1.0000\n",
      "Época 144/250 - Perda no treinamento: 0.002105 - Acurácia: 1.0000\n",
      "Época 145/250 - Perda no treinamento: 0.002782 - Acurácia: 1.0000\n",
      "Época 146/250 - Perda no treinamento: 0.034135 - Acurácia: 1.0000\n",
      "Época 147/250 - Perda no treinamento: 0.034589 - Acurácia: 1.0000\n",
      "Época 148/250 - Perda no treinamento: 0.011561 - Acurácia: 1.0000\n",
      "Época 149/250 - Perda no treinamento: 0.021781 - Acurácia: 1.0000\n",
      "Época 150/250 - Perda no treinamento: 0.003843 - Acurácia: 1.0000\n",
      "Época 151/250 - Perda no treinamento: 0.002173 - Acurácia: 1.0000\n",
      "Época 152/250 - Perda no treinamento: 0.002269 - Acurácia: 1.0000\n",
      "Época 153/250 - Perda no treinamento: 0.002272 - Acurácia: 1.0000\n",
      "Época 154/250 - Perda no treinamento: 0.000747 - Acurácia: 1.0000\n",
      "Época 155/250 - Perda no treinamento: 0.002807 - Acurácia: 1.0000\n",
      "Época 156/250 - Perda no treinamento: 0.001035 - Acurácia: 1.0000\n",
      "Época 157/250 - Perda no treinamento: 0.000921 - Acurácia: 1.0000\n",
      "Época 158/250 - Perda no treinamento: 0.002459 - Acurácia: 0.9643\n",
      "Época 159/250 - Perda no treinamento: 0.000920 - Acurácia: 1.0000\n",
      "Época 160/250 - Perda no treinamento: 0.001736 - Acurácia: 1.0000\n",
      "Época 161/250 - Perda no treinamento: 0.004457 - Acurácia: 1.0000\n",
      "Época 162/250 - Perda no treinamento: 0.002644 - Acurácia: 1.0000\n",
      "Época 163/250 - Perda no treinamento: 0.001140 - Acurácia: 1.0000\n",
      "Época 164/250 - Perda no treinamento: 0.001906 - Acurácia: 0.9643\n",
      "Época 165/250 - Perda no treinamento: 0.001570 - Acurácia: 1.0000\n",
      "Época 166/250 - Perda no treinamento: 0.004826 - Acurácia: 1.0000\n",
      "Época 167/250 - Perda no treinamento: 0.007861 - Acurácia: 1.0000\n",
      "Época 168/250 - Perda no treinamento: 0.011883 - Acurácia: 1.0000\n",
      "Época 169/250 - Perda no treinamento: 0.005433 - Acurácia: 1.0000\n",
      "Época 170/250 - Perda no treinamento: 0.011106 - Acurácia: 1.0000\n",
      "Época 171/250 - Perda no treinamento: 0.003165 - Acurácia: 1.0000\n",
      "Época 172/250 - Perda no treinamento: 0.016612 - Acurácia: 1.0000\n",
      "Época 173/250 - Perda no treinamento: 0.001946 - Acurácia: 1.0000\n",
      "Época 174/250 - Perda no treinamento: 0.005468 - Acurácia: 0.9643\n",
      "Época 175/250 - Perda no treinamento: 0.010634 - Acurácia: 1.0000\n",
      "Época 176/250 - Perda no treinamento: 0.005682 - Acurácia: 1.0000\n",
      "Época 177/250 - Perda no treinamento: 0.019891 - Acurácia: 1.0000\n",
      "Época 178/250 - Perda no treinamento: 0.001279 - Acurácia: 1.0000\n",
      "Época 179/250 - Perda no treinamento: 0.002694 - Acurácia: 1.0000\n",
      "Época 180/250 - Perda no treinamento: 0.000655 - Acurácia: 1.0000\n",
      "Época 181/250 - Perda no treinamento: 0.008567 - Acurácia: 1.0000\n",
      "Época 182/250 - Perda no treinamento: 0.003493 - Acurácia: 1.0000\n",
      "Época 183/250 - Perda no treinamento: 0.001695 - Acurácia: 1.0000\n",
      "Época 184/250 - Perda no treinamento: 0.000785 - Acurácia: 1.0000\n",
      "Época 185/250 - Perda no treinamento: 0.002765 - Acurácia: 1.0000\n",
      "Época 186/250 - Perda no treinamento: 0.012917 - Acurácia: 1.0000\n",
      "Época 187/250 - Perda no treinamento: 0.002686 - Acurácia: 1.0000\n",
      "Época 188/250 - Perda no treinamento: 0.005640 - Acurácia: 1.0000\n",
      "Época 189/250 - Perda no treinamento: 0.009547 - Acurácia: 1.0000\n",
      "Época 190/250 - Perda no treinamento: 0.089456 - Acurácia: 1.0000\n",
      "Época 191/250 - Perda no treinamento: 0.009089 - Acurácia: 1.0000\n",
      "Época 192/250 - Perda no treinamento: 0.010307 - Acurácia: 1.0000\n",
      "Época 193/250 - Perda no treinamento: 0.001303 - Acurácia: 1.0000\n",
      "Época 194/250 - Perda no treinamento: 0.009476 - Acurácia: 1.0000\n",
      "Época 195/250 - Perda no treinamento: 0.002735 - Acurácia: 1.0000\n",
      "Época 196/250 - Perda no treinamento: 0.002159 - Acurácia: 1.0000\n",
      "Época 197/250 - Perda no treinamento: 0.000877 - Acurácia: 1.0000\n",
      "Época 198/250 - Perda no treinamento: 0.003256 - Acurácia: 1.0000\n",
      "Época 199/250 - Perda no treinamento: 0.003174 - Acurácia: 1.0000\n",
      "Época 200/250 - Perda no treinamento: 0.009236 - Acurácia: 0.9643\n",
      "Época 201/250 - Perda no treinamento: 0.004034 - Acurácia: 1.0000\n",
      "Época 202/250 - Perda no treinamento: 0.001199 - Acurácia: 1.0000\n",
      "Época 203/250 - Perda no treinamento: 0.001152 - Acurácia: 1.0000\n",
      "Época 204/250 - Perda no treinamento: 0.030246 - Acurácia: 0.9643\n",
      "Época 205/250 - Perda no treinamento: 0.014256 - Acurácia: 1.0000\n",
      "Época 206/250 - Perda no treinamento: 0.002925 - Acurácia: 1.0000\n",
      "Época 207/250 - Perda no treinamento: 0.000910 - Acurácia: 1.0000\n",
      "Época 208/250 - Perda no treinamento: 0.001484 - Acurácia: 1.0000\n",
      "Época 209/250 - Perda no treinamento: 0.000631 - Acurácia: 1.0000\n",
      "Época 210/250 - Perda no treinamento: 0.002171 - Acurácia: 1.0000\n",
      "Época 211/250 - Perda no treinamento: 0.000425 - Acurácia: 1.0000\n",
      "Época 212/250 - Perda no treinamento: 0.000303 - Acurácia: 1.0000\n",
      "Época 213/250 - Perda no treinamento: 0.002247 - Acurácia: 1.0000\n",
      "Época 214/250 - Perda no treinamento: 0.014739 - Acurácia: 1.0000\n",
      "Época 215/250 - Perda no treinamento: 0.005280 - Acurácia: 1.0000\n",
      "Época 216/250 - Perda no treinamento: 0.006189 - Acurácia: 1.0000\n",
      "Época 217/250 - Perda no treinamento: 0.002478 - Acurácia: 1.0000\n",
      "Época 218/250 - Perda no treinamento: 0.008072 - Acurácia: 1.0000\n",
      "Época 219/250 - Perda no treinamento: 0.001012 - Acurácia: 1.0000\n",
      "Época 220/250 - Perda no treinamento: 0.000784 - Acurácia: 1.0000\n",
      "Época 221/250 - Perda no treinamento: 0.000423 - Acurácia: 1.0000\n",
      "Época 222/250 - Perda no treinamento: 0.004312 - Acurácia: 1.0000\n",
      "Época 223/250 - Perda no treinamento: 0.000312 - Acurácia: 1.0000\n",
      "Época 224/250 - Perda no treinamento: 0.000436 - Acurácia: 1.0000\n",
      "Época 225/250 - Perda no treinamento: 0.028013 - Acurácia: 1.0000\n",
      "Época 226/250 - Perda no treinamento: 0.005981 - Acurácia: 1.0000\n",
      "Época 227/250 - Perda no treinamento: 0.007795 - Acurácia: 1.0000\n",
      "Época 228/250 - Perda no treinamento: 0.015302 - Acurácia: 1.0000\n",
      "Época 229/250 - Perda no treinamento: 0.004001 - Acurácia: 1.0000\n",
      "Época 230/250 - Perda no treinamento: 0.004429 - Acurácia: 1.0000\n",
      "Época 231/250 - Perda no treinamento: 0.014154 - Acurácia: 1.0000\n",
      "Época 232/250 - Perda no treinamento: 0.002986 - Acurácia: 1.0000\n",
      "Época 233/250 - Perda no treinamento: 0.005013 - Acurácia: 1.0000\n",
      "Época 234/250 - Perda no treinamento: 0.002240 - Acurácia: 1.0000\n",
      "Época 235/250 - Perda no treinamento: 0.000847 - Acurácia: 1.0000\n",
      "Época 236/250 - Perda no treinamento: 0.000821 - Acurácia: 1.0000\n",
      "Época 237/250 - Perda no treinamento: 0.001284 - Acurácia: 1.0000\n",
      "Época 238/250 - Perda no treinamento: 0.003175 - Acurácia: 1.0000\n",
      "Época 239/250 - Perda no treinamento: 0.001121 - Acurácia: 1.0000\n",
      "Época 240/250 - Perda no treinamento: 0.000208 - Acurácia: 1.0000\n",
      "Época 241/250 - Perda no treinamento: 0.002391 - Acurácia: 1.0000\n",
      "Época 242/250 - Perda no treinamento: 0.000771 - Acurácia: 1.0000\n",
      "Época 243/250 - Perda no treinamento: 0.002517 - Acurácia: 1.0000\n",
      "Época 244/250 - Perda no treinamento: 0.009307 - Acurácia: 1.0000\n",
      "Época 245/250 - Perda no treinamento: 0.000885 - Acurácia: 1.0000\n",
      "Época 246/250 - Perda no treinamento: 0.000338 - Acurácia: 1.0000\n",
      "Época 247/250 - Perda no treinamento: 0.001187 - Acurácia: 1.0000\n",
      "Época 248/250 - Perda no treinamento: 0.006511 - Acurácia: 0.9643\n",
      "Época 249/250 - Perda no treinamento: 0.017214 - Acurácia: 1.0000\n",
      "Época 250/250 - Perda no treinamento: 0.005230 - Acurácia: 1.0000\n",
      "\n",
      "Tempo total de treinamento: 14723.67 segundos\n"
     ]
    }
   ],
   "source": [
    "train_losses = []\n",
    "train_acc = []\n",
    "\n",
    "training_start_time = time.time()\n",
    "\n",
    "for epoch in range(num_epoch):\n",
    "    model.train()\n",
    "    running_train_loss = 0.0\n",
    "\n",
    "    for inputs, labels in train_loader:\n",
    "        inputs = inputs.to(device)\n",
    "        labels = labels.to(device)\n",
    "    \n",
    "        optimizer.zero_grad()\n",
    "        outputs = model(inputs)\n",
    "\n",
    "        loss = loss_fn(outputs, labels)\n",
    "        loss.backward()\n",
    "        optimizer.step()\n",
    "        running_train_loss += loss.item()\n",
    "\n",
    "    train_loss = running_train_loss / len(train_loader)\n",
    "    train_losses.append(train_loss)\n",
    "\n",
    "    _, predicted = torch.max(outputs.data, 1)\n",
    "\n",
    "    acc = accuracy_score(labels.cpu().detach().numpy(), predicted.cpu().detach().numpy())\n",
    "    train_acc.append(acc)\n",
    "\n",
    "    print(f\"Época {epoch + 1}/{num_epoch} - Perda no treinamento: {train_loss:.6f} - Acurácia: {acc:.4f}\")\n",
    "\n",
    "training_time = time.time() - training_start_time\n",
    "print(f\"\\nTempo total de treinamento: {training_time:.2f} segundos\")"
   ]
  },
  {
   "cell_type": "code",
   "execution_count": 29,
   "id": "6e0bfba8",
   "metadata": {},
   "outputs": [
    {
     "data": {
      "text/plain": [
       "Text(0.5, 0.98, 'Treinamento')"
      ]
     },
     "execution_count": 29,
     "metadata": {},
     "output_type": "execute_result"
    },
    {
     "data": {
      "image/png": "[encoded data removed]",
      "text/plain": [
       "<Figure size 1200x500 with 2 Axes>"
      ]
     },
     "metadata": {},
     "output_type": "display_data"
    }
   ],
   "source": [
    "epochs = range(1, num_epoch + 1)\n",
    "\n",
    "plt.figure(figsize=(12, 5))\n",
    "\n",
    "plt.subplot(1, 2, 1)\n",
    "plt.plot(epochs, train_losses, 'bo-')\n",
    "plt.xlabel('Épocas')\n",
    "plt.ylabel('Perda')\n",
    "\n",
    "plt.subplot(1, 2, 2)\n",
    "plt.plot(epochs, train_acc, 'ro-')\n",
    "plt.xlabel('Épocas')\n",
    "plt.ylabel('Acurácia')\n",
    "\n",
    "plt.suptitle(\"Treinamento\", fontsize = 20)"
   ]
  },
  {
   "cell_type": "code",
   "execution_count": 30,
   "id": "b69784a6",
   "metadata": {},
   "outputs": [
    {
     "name": "stdout",
     "output_type": "stream",
     "text": [
      "!!!Teste finalizado!!!\n"
     ]
    }
   ],
   "source": [
    "rot_array = []\n",
    "predt_array = []\n",
    "\n",
    "model.eval()\n",
    "    \n",
    "with torch.no_grad():\n",
    "        \n",
    "    for images, labels in test_loader:\n",
    "        images = images.to(device)\n",
    "        labels = labels.to(device)\n",
    "        \n",
    "        outputs = model(images)\n",
    "        _, predicted = torch.max(outputs.data, 1)\n",
    "\n",
    "        rot_array.extend(labels.cpu().detach().numpy())\n",
    "        predt_array.extend(predicted.cpu().detach().numpy())\n",
    "\n",
    "print(\"!!!Teste finalizado!!!\")"
   ]
  },
  {
   "cell_type": "markdown",
   "id": "7d4e8125",
   "metadata": {},
   "source": [
    "# <center> Métricas de avaliação </center>"
   ]
  },
  {
   "cell_type": "code",
   "execution_count": 31,
   "id": "3db4b94b",
   "metadata": {},
   "outputs": [
    {
     "data": {
      "image/png": "[encoded data removed]",
      "text/plain": [
       "<Figure size 640x480 with 2 Axes>"
      ]
     },
     "metadata": {},
     "output_type": "display_data"
    }
   ],
   "source": [
    "cm = confusion_matrix(rot_array, predt_array)\n",
    "\n",
    "disp = ConfusionMatrixDisplay(confusion_matrix=cm, display_labels=['Normal', 'Pneumonia', 'Tuberculose'])\n",
    "disp.plot(cmap=plt.cm.Blues)\n",
    "\n",
    "plt.xlabel('Rótulo previsto')\n",
    "plt.ylabel('Rótulo verdadeiro')\n",
    "plt.show()"
   ]
  },
  {
   "cell_type": "code",
   "execution_count": 32,
   "id": "5cc4b82f",
   "metadata": {},
   "outputs": [
    {
     "name": "stdout",
     "output_type": "stream",
     "text": [
      "Acurácia: 97.60%\n"
     ]
    }
   ],
   "source": [
    "acc = accuracy_score(rot_array, predt_array)\n",
    "print(f\"Acurácia: {acc * 100 :.2f}%\")"
   ]
  },
  {
   "cell_type": "code",
   "execution_count": 35,
   "id": "b6110c3c",
   "metadata": {},
   "outputs": [
    {
     "name": "stdout",
     "output_type": "stream",
     "text": [
      "Precisão: 97.61%\n"
     ]
    }
   ],
   "source": [
    "precision = precision_score(rot_array, predt_array, average='weighted')\n",
    "print(f\"Precisão: {precision * 100 :.2f}%\")"
   ]
  },
  {
   "cell_type": "code",
   "execution_count": 36,
   "id": "a1b52987",
   "metadata": {},
   "outputs": [
    {
     "name": "stdout",
     "output_type": "stream",
     "text": [
      "Recall: 97.60%\n"
     ]
    }
   ],
   "source": [
    "recall = recall_score(rot_array, predt_array, average='weighted')\n",
    "print(f\"Recall: {recall * 100 :.2f}%\")"
   ]
  },
  {
   "cell_type": "code",
   "execution_count": 37,
   "id": "8fdb017e",
   "metadata": {},
   "outputs": [
    {
     "name": "stdout",
     "output_type": "stream",
     "text": [
      "F1 Score: 97.60%\n"
     ]
    }
   ],
   "source": [
    "f1 = f1_score(rot_array, predt_array, average='weighted')\n",
    "print(f\"F1 Score: {f1 * 100 :.2f}%\")"
   ]
  }
 ],
 "metadata": {
  "kernelspec": {
   "display_name": "Python 3",
   "language": "python",
   "name": "python3"
  },
  "language_info": {
   "codemirror_mode": {
    "name": "ipython",
    "version": 3
   },
   "file_extension": ".py",
   "mimetype": "text/x-python",
   "name": "python",
   "nbconvert_exporter": "python",
   "pygments_lexer": "ipython3",
   "version": "3.12.7"
  }
 },
 "nbformat": 4,
 "nbformat_minor": 5
}
