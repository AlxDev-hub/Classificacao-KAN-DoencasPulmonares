{
 "cells": [
  {
   "cell_type": "markdown",
   "id": "7ed9cbe7-a91f-4822-8689-11ddcb9720af",
   "metadata": {},
   "source": [
    "# <center>Bibliotecas utilizadas</center>"
   ]
  },
  {
   "cell_type": "code",
   "execution_count": 1,
   "id": "16400b9b-8a6d-4e5d-a8b1-0f466d13ed04",
   "metadata": {},
   "outputs": [],
   "source": [
    "from efficient_kan import KAN\n",
    "\n",
    "import time\n",
    "import numpy as np\n",
    "import matplotlib.pyplot as plt\n",
    "\n",
    "import torch\n",
    "import torch.nn as nn\n",
    "import torch.optim as optim\n",
    "from torchvision import datasets, transforms\n",
    "from torch.utils.data import DataLoader, random_split\n",
    "\n",
    "from sklearn.metrics import *"
   ]
  },
  {
   "cell_type": "markdown",
   "id": "7e2f0b78-9959-471b-87b9-9e0f192a75ef",
   "metadata": {},
   "source": [
    "# <center>Pré-processamento dos dados</center>"
   ]
  },
  {
   "cell_type": "code",
   "execution_count": 2,
   "id": "91a50223-30f8-4061-aa59-3431c46b8585",
   "metadata": {},
   "outputs": [],
   "source": [
    "dataset_path = 'Dataset_Completo'"
   ]
  },
  {
   "cell_type": "code",
   "execution_count": 3,
   "id": "e445c1ee-b6ec-45f7-a1d4-4700ea5e89c8",
   "metadata": {},
   "outputs": [],
   "source": [
    "transform = transforms.Compose(\n",
    "    [transforms.Resize(size = (164,164)),\n",
    "     transforms.ToTensor(),\n",
    "     transforms.Normalize(mean=[0.5], std=[0.5])\n",
    "    ]\n",
    ")"
   ]
  },
  {
   "cell_type": "code",
   "execution_count": 4,
   "id": "0b03f0cf-87a2-46f3-bd89-c89a0185b823",
   "metadata": {},
   "outputs": [],
   "source": [
    "dataset = datasets.ImageFolder(dataset_path, transform = transform)"
   ]
  },
  {
   "cell_type": "code",
   "execution_count": 5,
   "id": "b89f0a14",
   "metadata": {},
   "outputs": [
    {
     "name": "stdout",
     "output_type": "stream",
     "text": [
      "Informações sobre o Dataset: \n",
      "\n",
      " Dataset ImageFolder\n",
      "    Number of datapoints: 13411\n",
      "    Root location: Dataset_Completo\n",
      "    StandardTransform\n",
      "Transform: Compose(\n",
      "               Resize(size=(164, 164), interpolation=bilinear, max_size=None, antialias=True)\n",
      "               ToTensor()\n",
      "               Normalize(mean=[0.5], std=[0.5])\n",
      "           )\n",
      "\n",
      "Rótulos:  {'NORMAL': 0, 'PNEUMONIA': 1, 'TUBERCULOSE': 2}\n"
     ]
    }
   ],
   "source": [
    "print(\"Informações sobre o Dataset: \\n\\n\", dataset)\n",
    "print(\"\\nRótulos: \", dataset.class_to_idx)"
   ]
  },
  {
   "cell_type": "code",
   "execution_count": 6,
   "id": "d609d9ca",
   "metadata": {},
   "outputs": [],
   "source": [
    "train_size = int(0.7 * len(dataset))\n",
    "test_size = len(dataset) - train_size\n",
    "\n",
    "train_dataset, test_dataset = random_split(dataset, [train_size, test_size])"
   ]
  },
  {
   "cell_type": "code",
   "execution_count": 7,
   "id": "e869b1ee-e9da-443f-8dcc-64cf960f70b6",
   "metadata": {},
   "outputs": [],
   "source": [
    "train_loader = DataLoader(train_dataset, batch_size=32, shuffle=True)\n",
    "test_loader = DataLoader(test_dataset, batch_size=32, shuffle=False)"
   ]
  },
  {
   "cell_type": "code",
   "execution_count": 10,
   "id": "f1772696-604a-4514-94cf-91fc88d12b4b",
   "metadata": {},
   "outputs": [],
   "source": [
    "all_targets = []\n",
    "for images, labels in train_loader:\n",
    "    all_targets.extend(labels.tolist())\n",
    "\n",
    "nor = []\n",
    "pne = []\n",
    "tub = []\n",
    "for i in range(train_size):\n",
    "    if all_targets[i] == 0:\n",
    "        nor.append(all_targets[i])\n",
    "    elif all_targets[i] == 1:\n",
    "        pne.append(all_targets[i])\n",
    "    elif all_targets[i] == 2:\n",
    "        tub.append(all_targets[i])"
   ]
  },
  {
   "cell_type": "code",
   "execution_count": 11,
   "id": "fea1deb4-fa95-412c-a1d3-9ef4a21fd240",
   "metadata": {},
   "outputs": [
    {
     "name": "stdout",
     "output_type": "stream",
     "text": [
      "!!!Distribuição dos dados de treinamento!!!\n",
      "\n",
      "Normal:  3498\n",
      "Pneumonia:  2987\n",
      "Tuberculose:  2902\n"
     ]
    }
   ],
   "source": [
    "print(\"!!!Distribuição dos dados de treinamento!!!\\n\")\n",
    "print(\"Normal: \", len(nor))\n",
    "print(\"Pneumonia: \", len(pne))\n",
    "print(\"Tuberculose: \", len(tub))"
   ]
  },
  {
   "cell_type": "markdown",
   "id": "af6f8f0b-ab6d-456e-af12-d632b8f237d9",
   "metadata": {},
   "source": [
    "# <center>Implementação da arquitetura *efficientKAN*</center>"
   ]
  },
  {
   "cell_type": "code",
   "execution_count": 12,
   "id": "aadacba0-d234-4cf9-a5c2-e3c59051b13a",
   "metadata": {},
   "outputs": [
    {
     "data": {
      "text/plain": [
       "KAN(\n",
       "  (layers): ModuleList(\n",
       "    (0-3): 4 x KANLinear(\n",
       "      (base_activation): ReLU()\n",
       "    )\n",
       "  )\n",
       ")"
      ]
     },
     "execution_count": 12,
     "metadata": {},
     "output_type": "execute_result"
    }
   ],
   "source": [
    "model = KAN([164*164*3, 164, 64, 32, 3])\n",
    "\n",
    "device = torch.device(\"cuda\" if torch.cuda.is_available() else \"cpu\")\n",
    "model.to(device)"
   ]
  },
  {
   "cell_type": "code",
   "execution_count": 13,
   "id": "feb9436e-b0d2-47b8-a793-71458c8e8c37",
   "metadata": {},
   "outputs": [],
   "source": [
    "num_epoch = 250\n",
    "learning_rate = 0.001\n",
    "optimizer = optim.Adam(model.parameters(), lr=learning_rate)\n",
    "loss_fn = nn.CrossEntropyLoss()"
   ]
  },
  {
   "cell_type": "code",
   "execution_count": 14,
   "id": "342b8e74-6720-4df0-982c-5667a3d63c09",
   "metadata": {
    "scrolled": true
   },
   "outputs": [
    {
     "name": "stdout",
     "output_type": "stream",
     "text": [
      "Época 1/250 - Perda no treinamento: 0.332850 - Acurácia: 1.0000\n",
      "Época 2/250 - Perda no treinamento: 0.170589 - Acurácia: 1.0000\n",
      "Época 3/250 - Perda no treinamento: 0.117795 - Acurácia: 1.0000\n",
      "Época 4/250 - Perda no treinamento: 0.108495 - Acurácia: 1.0000\n",
      "Época 5/250 - Perda no treinamento: 0.077173 - Acurácia: 0.9091\n",
      "Época 6/250 - Perda no treinamento: 0.073328 - Acurácia: 1.0000\n",
      "Época 7/250 - Perda no treinamento: 0.063148 - Acurácia: 1.0000\n",
      "Época 8/250 - Perda no treinamento: 0.061878 - Acurácia: 0.9091\n",
      "Época 9/250 - Perda no treinamento: 0.045114 - Acurácia: 1.0000\n",
      "Época 10/250 - Perda no treinamento: 0.042458 - Acurácia: 1.0000\n",
      "Época 11/250 - Perda no treinamento: 0.031369 - Acurácia: 1.0000\n",
      "Época 12/250 - Perda no treinamento: 0.030907 - Acurácia: 1.0000\n",
      "Época 13/250 - Perda no treinamento: 0.024090 - Acurácia: 1.0000\n",
      "Época 14/250 - Perda no treinamento: 0.036345 - Acurácia: 1.0000\n",
      "Época 15/250 - Perda no treinamento: 0.025621 - Acurácia: 1.0000\n",
      "Época 16/250 - Perda no treinamento: 0.018541 - Acurácia: 1.0000\n",
      "Época 17/250 - Perda no treinamento: 0.022229 - Acurácia: 1.0000\n",
      "Época 18/250 - Perda no treinamento: 0.029851 - Acurácia: 1.0000\n",
      "Época 19/250 - Perda no treinamento: 0.015577 - Acurácia: 1.0000\n",
      "Época 20/250 - Perda no treinamento: 0.030293 - Acurácia: 1.0000\n",
      "Época 21/250 - Perda no treinamento: 0.014313 - Acurácia: 1.0000\n",
      "Época 22/250 - Perda no treinamento: 0.021008 - Acurácia: 1.0000\n",
      "Época 23/250 - Perda no treinamento: 0.019103 - Acurácia: 1.0000\n",
      "Época 24/250 - Perda no treinamento: 0.011659 - Acurácia: 1.0000\n",
      "Época 25/250 - Perda no treinamento: 0.012097 - Acurácia: 1.0000\n",
      "Época 26/250 - Perda no treinamento: 0.018218 - Acurácia: 1.0000\n",
      "Época 27/250 - Perda no treinamento: 0.002318 - Acurácia: 1.0000\n",
      "Época 28/250 - Perda no treinamento: 0.015778 - Acurácia: 1.0000\n",
      "Época 29/250 - Perda no treinamento: 0.022139 - Acurácia: 1.0000\n",
      "Época 30/250 - Perda no treinamento: 0.017435 - Acurácia: 1.0000\n",
      "Época 31/250 - Perda no treinamento: 0.004925 - Acurácia: 1.0000\n",
      "Época 32/250 - Perda no treinamento: 0.000292 - Acurácia: 1.0000\n",
      "Época 33/250 - Perda no treinamento: 0.000059 - Acurácia: 1.0000\n",
      "Época 34/250 - Perda no treinamento: 0.000032 - Acurácia: 1.0000\n",
      "Época 35/250 - Perda no treinamento: 0.000022 - Acurácia: 1.0000\n",
      "Época 36/250 - Perda no treinamento: 0.000015 - Acurácia: 1.0000\n",
      "Época 37/250 - Perda no treinamento: 0.000011 - Acurácia: 1.0000\n",
      "Época 38/250 - Perda no treinamento: 0.000008 - Acurácia: 1.0000\n",
      "Época 39/250 - Perda no treinamento: 0.000006 - Acurácia: 1.0000\n",
      "Época 40/250 - Perda no treinamento: 0.000005 - Acurácia: 1.0000\n",
      "Época 41/250 - Perda no treinamento: 0.000004 - Acurácia: 1.0000\n",
      "Época 42/250 - Perda no treinamento: 0.000003 - Acurácia: 1.0000\n",
      "Época 43/250 - Perda no treinamento: 0.000002 - Acurácia: 1.0000\n",
      "Época 44/250 - Perda no treinamento: 0.000002 - Acurácia: 1.0000\n",
      "Época 45/250 - Perda no treinamento: 0.000001 - Acurácia: 1.0000\n",
      "Época 46/250 - Perda no treinamento: 0.000001 - Acurácia: 1.0000\n",
      "Época 47/250 - Perda no treinamento: 0.000001 - Acurácia: 1.0000\n",
      "Época 48/250 - Perda no treinamento: 0.000001 - Acurácia: 1.0000\n",
      "Época 49/250 - Perda no treinamento: 0.000000 - Acurácia: 1.0000\n",
      "Época 50/250 - Perda no treinamento: 0.000000 - Acurácia: 1.0000\n",
      "Época 51/250 - Perda no treinamento: 0.000000 - Acurácia: 1.0000\n",
      "Época 52/250 - Perda no treinamento: 0.000000 - Acurácia: 1.0000\n",
      "Época 53/250 - Perda no treinamento: 0.000000 - Acurácia: 1.0000\n",
      "Época 54/250 - Perda no treinamento: 0.000000 - Acurácia: 1.0000\n",
      "Época 55/250 - Perda no treinamento: 0.000000 - Acurácia: 1.0000\n",
      "Época 56/250 - Perda no treinamento: 0.000000 - Acurácia: 1.0000\n",
      "Época 57/250 - Perda no treinamento: 0.000000 - Acurácia: 1.0000\n",
      "Época 58/250 - Perda no treinamento: 0.000000 - Acurácia: 1.0000\n",
      "Época 59/250 - Perda no treinamento: 0.000000 - Acurácia: 1.0000\n",
      "Época 60/250 - Perda no treinamento: 0.000000 - Acurácia: 1.0000\n",
      "Época 61/250 - Perda no treinamento: 0.000000 - Acurácia: 1.0000\n",
      "Época 62/250 - Perda no treinamento: 0.000000 - Acurácia: 1.0000\n",
      "Época 63/250 - Perda no treinamento: 0.000000 - Acurácia: 1.0000\n",
      "Época 64/250 - Perda no treinamento: 0.000000 - Acurácia: 1.0000\n",
      "Época 65/250 - Perda no treinamento: 0.000000 - Acurácia: 1.0000\n",
      "Época 66/250 - Perda no treinamento: 0.000000 - Acurácia: 1.0000\n",
      "Época 67/250 - Perda no treinamento: 0.000000 - Acurácia: 1.0000\n",
      "Época 68/250 - Perda no treinamento: 0.000000 - Acurácia: 1.0000\n",
      "Época 69/250 - Perda no treinamento: 0.000000 - Acurácia: 1.0000\n",
      "Época 70/250 - Perda no treinamento: 0.000000 - Acurácia: 1.0000\n",
      "Época 71/250 - Perda no treinamento: 0.000000 - Acurácia: 1.0000\n",
      "Época 72/250 - Perda no treinamento: 0.000000 - Acurácia: 1.0000\n",
      "Época 73/250 - Perda no treinamento: 0.000000 - Acurácia: 1.0000\n",
      "Época 74/250 - Perda no treinamento: 0.000000 - Acurácia: 1.0000\n",
      "Época 75/250 - Perda no treinamento: 0.000000 - Acurácia: 1.0000\n",
      "Época 76/250 - Perda no treinamento: 0.000000 - Acurácia: 1.0000\n",
      "Época 77/250 - Perda no treinamento: 0.000000 - Acurácia: 1.0000\n",
      "Época 78/250 - Perda no treinamento: 0.000000 - Acurácia: 1.0000\n",
      "Época 79/250 - Perda no treinamento: 0.000000 - Acurácia: 1.0000\n",
      "Época 80/250 - Perda no treinamento: 0.000000 - Acurácia: 1.0000\n",
      "Época 81/250 - Perda no treinamento: 0.000000 - Acurácia: 1.0000\n",
      "Época 82/250 - Perda no treinamento: 0.000000 - Acurácia: 1.0000\n",
      "Época 83/250 - Perda no treinamento: 0.000000 - Acurácia: 1.0000\n",
      "Época 84/250 - Perda no treinamento: 0.000000 - Acurácia: 1.0000\n",
      "Época 85/250 - Perda no treinamento: 0.000000 - Acurácia: 1.0000\n",
      "Época 86/250 - Perda no treinamento: 0.000000 - Acurácia: 1.0000\n",
      "Época 87/250 - Perda no treinamento: 0.000000 - Acurácia: 1.0000\n",
      "Época 88/250 - Perda no treinamento: 0.000000 - Acurácia: 1.0000\n",
      "Época 89/250 - Perda no treinamento: 0.000000 - Acurácia: 1.0000\n",
      "Época 90/250 - Perda no treinamento: 0.000000 - Acurácia: 1.0000\n",
      "Época 91/250 - Perda no treinamento: 0.000000 - Acurácia: 1.0000\n",
      "Época 92/250 - Perda no treinamento: 0.000000 - Acurácia: 1.0000\n",
      "Época 93/250 - Perda no treinamento: 0.000000 - Acurácia: 1.0000\n",
      "Época 94/250 - Perda no treinamento: 0.000000 - Acurácia: 1.0000\n",
      "Época 95/250 - Perda no treinamento: 0.000000 - Acurácia: 1.0000\n",
      "Época 96/250 - Perda no treinamento: 0.000000 - Acurácia: 1.0000\n",
      "Época 97/250 - Perda no treinamento: 0.000000 - Acurácia: 1.0000\n",
      "Época 98/250 - Perda no treinamento: 0.000000 - Acurácia: 1.0000\n",
      "Época 99/250 - Perda no treinamento: 0.000000 - Acurácia: 1.0000\n",
      "Época 100/250 - Perda no treinamento: 0.000000 - Acurácia: 1.0000\n",
      "Época 101/250 - Perda no treinamento: 0.000000 - Acurácia: 1.0000\n",
      "Época 102/250 - Perda no treinamento: 0.089986 - Acurácia: 1.0000\n",
      "Época 103/250 - Perda no treinamento: 0.040496 - Acurácia: 1.0000\n",
      "Época 104/250 - Perda no treinamento: 0.023600 - Acurácia: 1.0000\n",
      "Época 105/250 - Perda no treinamento: 0.009545 - Acurácia: 1.0000\n",
      "Época 106/250 - Perda no treinamento: 0.020407 - Acurácia: 1.0000\n",
      "Época 107/250 - Perda no treinamento: 0.015463 - Acurácia: 1.0000\n",
      "Época 108/250 - Perda no treinamento: 0.014530 - Acurácia: 1.0000\n",
      "Época 109/250 - Perda no treinamento: 0.007225 - Acurácia: 1.0000\n",
      "Época 110/250 - Perda no treinamento: 0.009999 - Acurácia: 1.0000\n",
      "Época 111/250 - Perda no treinamento: 0.013234 - Acurácia: 1.0000\n",
      "Época 112/250 - Perda no treinamento: 0.006606 - Acurácia: 1.0000\n",
      "Época 113/250 - Perda no treinamento: 0.000187 - Acurácia: 1.0000\n",
      "Época 114/250 - Perda no treinamento: 0.000069 - Acurácia: 1.0000\n",
      "Época 115/250 - Perda no treinamento: 0.038247 - Acurácia: 0.9091\n",
      "Época 116/250 - Perda no treinamento: 0.015411 - Acurácia: 1.0000\n",
      "Época 117/250 - Perda no treinamento: 0.001232 - Acurácia: 1.0000\n",
      "Época 118/250 - Perda no treinamento: 0.000304 - Acurácia: 1.0000\n",
      "Época 119/250 - Perda no treinamento: 0.000087 - Acurácia: 1.0000\n",
      "Época 120/250 - Perda no treinamento: 0.000035 - Acurácia: 1.0000\n",
      "Época 121/250 - Perda no treinamento: 0.000023 - Acurácia: 1.0000\n",
      "Época 122/250 - Perda no treinamento: 0.000017 - Acurácia: 1.0000\n",
      "Época 123/250 - Perda no treinamento: 0.000015 - Acurácia: 1.0000\n",
      "Época 124/250 - Perda no treinamento: 0.000010 - Acurácia: 1.0000\n",
      "Época 125/250 - Perda no treinamento: 0.000008 - Acurácia: 1.0000\n",
      "Época 126/250 - Perda no treinamento: 0.000007 - Acurácia: 1.0000\n",
      "Época 127/250 - Perda no treinamento: 0.000005 - Acurácia: 1.0000\n",
      "Época 128/250 - Perda no treinamento: 0.000004 - Acurácia: 1.0000\n",
      "Época 129/250 - Perda no treinamento: 0.000004 - Acurácia: 1.0000\n",
      "Época 130/250 - Perda no treinamento: 0.000003 - Acurácia: 1.0000\n",
      "Época 131/250 - Perda no treinamento: 0.000003 - Acurácia: 1.0000\n",
      "Época 132/250 - Perda no treinamento: 0.000002 - Acurácia: 1.0000\n",
      "Época 133/250 - Perda no treinamento: 0.000002 - Acurácia: 1.0000\n",
      "Época 134/250 - Perda no treinamento: 0.000002 - Acurácia: 1.0000\n",
      "Época 135/250 - Perda no treinamento: 0.000001 - Acurácia: 1.0000\n",
      "Época 136/250 - Perda no treinamento: 0.000001 - Acurácia: 1.0000\n",
      "Época 137/250 - Perda no treinamento: 0.000001 - Acurácia: 1.0000\n",
      "Época 138/250 - Perda no treinamento: 0.000001 - Acurácia: 1.0000\n",
      "Época 139/250 - Perda no treinamento: 0.000001 - Acurácia: 1.0000\n",
      "Época 140/250 - Perda no treinamento: 0.000001 - Acurácia: 1.0000\n",
      "Época 141/250 - Perda no treinamento: 0.000000 - Acurácia: 1.0000\n",
      "Época 142/250 - Perda no treinamento: 0.000000 - Acurácia: 1.0000\n",
      "Época 143/250 - Perda no treinamento: 0.000000 - Acurácia: 1.0000\n",
      "Época 144/250 - Perda no treinamento: 0.000000 - Acurácia: 1.0000\n",
      "Época 145/250 - Perda no treinamento: 0.000000 - Acurácia: 1.0000\n",
      "Época 146/250 - Perda no treinamento: 0.000000 - Acurácia: 1.0000\n",
      "Época 147/250 - Perda no treinamento: 0.000000 - Acurácia: 1.0000\n",
      "Época 148/250 - Perda no treinamento: 0.000000 - Acurácia: 1.0000\n",
      "Época 149/250 - Perda no treinamento: 0.000000 - Acurácia: 1.0000\n",
      "Época 150/250 - Perda no treinamento: 0.000000 - Acurácia: 1.0000\n",
      "Época 151/250 - Perda no treinamento: 0.000000 - Acurácia: 1.0000\n",
      "Época 152/250 - Perda no treinamento: 0.000000 - Acurácia: 1.0000\n",
      "Época 153/250 - Perda no treinamento: 0.000000 - Acurácia: 1.0000\n",
      "Época 154/250 - Perda no treinamento: 0.000000 - Acurácia: 1.0000\n",
      "Época 155/250 - Perda no treinamento: 0.000000 - Acurácia: 1.0000\n",
      "Época 156/250 - Perda no treinamento: 0.000000 - Acurácia: 1.0000\n",
      "Época 157/250 - Perda no treinamento: 0.000000 - Acurácia: 1.0000\n",
      "Época 158/250 - Perda no treinamento: 0.000000 - Acurácia: 1.0000\n",
      "Época 159/250 - Perda no treinamento: 0.000000 - Acurácia: 1.0000\n",
      "Época 160/250 - Perda no treinamento: 0.000000 - Acurácia: 1.0000\n",
      "Época 161/250 - Perda no treinamento: 0.000000 - Acurácia: 1.0000\n",
      "Época 162/250 - Perda no treinamento: 0.000000 - Acurácia: 1.0000\n",
      "Época 163/250 - Perda no treinamento: 0.000000 - Acurácia: 1.0000\n",
      "Época 164/250 - Perda no treinamento: 0.000000 - Acurácia: 1.0000\n",
      "Época 165/250 - Perda no treinamento: 0.000000 - Acurácia: 1.0000\n",
      "Época 166/250 - Perda no treinamento: 0.000000 - Acurácia: 1.0000\n",
      "Época 167/250 - Perda no treinamento: 0.000000 - Acurácia: 1.0000\n",
      "Época 168/250 - Perda no treinamento: 0.000000 - Acurácia: 1.0000\n",
      "Época 169/250 - Perda no treinamento: 0.000000 - Acurácia: 1.0000\n",
      "Época 170/250 - Perda no treinamento: 0.000000 - Acurácia: 1.0000\n",
      "Época 171/250 - Perda no treinamento: 0.000000 - Acurácia: 1.0000\n",
      "Época 172/250 - Perda no treinamento: 0.000000 - Acurácia: 1.0000\n",
      "Época 173/250 - Perda no treinamento: 0.000000 - Acurácia: 1.0000\n",
      "Época 174/250 - Perda no treinamento: 0.000000 - Acurácia: 1.0000\n",
      "Época 175/250 - Perda no treinamento: 0.000000 - Acurácia: 1.0000\n",
      "Época 176/250 - Perda no treinamento: 0.000000 - Acurácia: 1.0000\n",
      "Época 177/250 - Perda no treinamento: 0.000000 - Acurácia: 1.0000\n",
      "Época 178/250 - Perda no treinamento: 0.000000 - Acurácia: 1.0000\n",
      "Época 179/250 - Perda no treinamento: 0.000000 - Acurácia: 1.0000\n",
      "Época 180/250 - Perda no treinamento: 0.000000 - Acurácia: 1.0000\n",
      "Época 181/250 - Perda no treinamento: 0.000000 - Acurácia: 1.0000\n",
      "Época 182/250 - Perda no treinamento: 0.000000 - Acurácia: 1.0000\n",
      "Época 183/250 - Perda no treinamento: 0.000000 - Acurácia: 1.0000\n",
      "Época 184/250 - Perda no treinamento: 0.000000 - Acurácia: 1.0000\n",
      "Época 185/250 - Perda no treinamento: 0.000000 - Acurácia: 1.0000\n",
      "Época 186/250 - Perda no treinamento: 0.000000 - Acurácia: 1.0000\n",
      "Época 187/250 - Perda no treinamento: 0.000000 - Acurácia: 1.0000\n",
      "Época 188/250 - Perda no treinamento: 0.000000 - Acurácia: 1.0000\n",
      "Época 189/250 - Perda no treinamento: 0.000000 - Acurácia: 1.0000\n",
      "Época 190/250 - Perda no treinamento: 0.000000 - Acurácia: 1.0000\n",
      "Época 191/250 - Perda no treinamento: 0.000000 - Acurácia: 1.0000\n",
      "Época 192/250 - Perda no treinamento: 0.000000 - Acurácia: 1.0000\n",
      "Época 193/250 - Perda no treinamento: 0.000000 - Acurácia: 1.0000\n",
      "Época 194/250 - Perda no treinamento: 0.000000 - Acurácia: 1.0000\n",
      "Época 195/250 - Perda no treinamento: 0.000000 - Acurácia: 1.0000\n",
      "Época 196/250 - Perda no treinamento: 0.000000 - Acurácia: 1.0000\n",
      "Época 197/250 - Perda no treinamento: 0.000000 - Acurácia: 1.0000\n",
      "Época 198/250 - Perda no treinamento: 0.000000 - Acurácia: 1.0000\n",
      "Época 199/250 - Perda no treinamento: 0.000000 - Acurácia: 1.0000\n",
      "Época 200/250 - Perda no treinamento: 0.000000 - Acurácia: 1.0000\n",
      "Época 201/250 - Perda no treinamento: 0.000000 - Acurácia: 1.0000\n",
      "Época 202/250 - Perda no treinamento: 0.000000 - Acurácia: 1.0000\n",
      "Época 203/250 - Perda no treinamento: 0.000000 - Acurácia: 1.0000\n",
      "Época 204/250 - Perda no treinamento: 0.000000 - Acurácia: 1.0000\n",
      "Época 205/250 - Perda no treinamento: 0.000000 - Acurácia: 1.0000\n",
      "Época 206/250 - Perda no treinamento: 0.000000 - Acurácia: 1.0000\n",
      "Época 207/250 - Perda no treinamento: 0.000000 - Acurácia: 1.0000\n",
      "Época 208/250 - Perda no treinamento: 0.000000 - Acurácia: 1.0000\n",
      "Época 209/250 - Perda no treinamento: 0.000000 - Acurácia: 1.0000\n",
      "Época 210/250 - Perda no treinamento: 0.000000 - Acurácia: 1.0000\n",
      "Época 211/250 - Perda no treinamento: 0.000000 - Acurácia: 1.0000\n",
      "Época 212/250 - Perda no treinamento: 0.000000 - Acurácia: 1.0000\n",
      "Época 213/250 - Perda no treinamento: 0.000000 - Acurácia: 1.0000\n",
      "Época 214/250 - Perda no treinamento: 0.000000 - Acurácia: 1.0000\n",
      "Época 215/250 - Perda no treinamento: 0.000000 - Acurácia: 1.0000\n",
      "Época 216/250 - Perda no treinamento: 0.123758 - Acurácia: 1.0000\n",
      "Época 217/250 - Perda no treinamento: 0.012111 - Acurácia: 1.0000\n",
      "Época 218/250 - Perda no treinamento: 0.002104 - Acurácia: 1.0000\n",
      "Época 219/250 - Perda no treinamento: 0.000643 - Acurácia: 1.0000\n",
      "Época 220/250 - Perda no treinamento: 0.013688 - Acurácia: 1.0000\n",
      "Época 221/250 - Perda no treinamento: 0.009313 - Acurácia: 1.0000\n",
      "Época 222/250 - Perda no treinamento: 0.001299 - Acurácia: 1.0000\n",
      "Época 223/250 - Perda no treinamento: 0.000094 - Acurácia: 1.0000\n",
      "Época 224/250 - Perda no treinamento: 0.000028 - Acurácia: 1.0000\n",
      "Época 225/250 - Perda no treinamento: 0.000018 - Acurácia: 1.0000\n",
      "Época 226/250 - Perda no treinamento: 0.000011 - Acurácia: 1.0000\n",
      "Época 227/250 - Perda no treinamento: 0.000008 - Acurácia: 1.0000\n",
      "Época 228/250 - Perda no treinamento: 0.000006 - Acurácia: 1.0000\n",
      "Época 229/250 - Perda no treinamento: 0.000004 - Acurácia: 1.0000\n",
      "Época 230/250 - Perda no treinamento: 0.000003 - Acurácia: 1.0000\n",
      "Época 231/250 - Perda no treinamento: 0.000002 - Acurácia: 1.0000\n",
      "Época 232/250 - Perda no treinamento: 0.000002 - Acurácia: 1.0000\n",
      "Época 233/250 - Perda no treinamento: 0.000001 - Acurácia: 1.0000\n",
      "Época 234/250 - Perda no treinamento: 0.000001 - Acurácia: 1.0000\n",
      "Época 235/250 - Perda no treinamento: 0.000001 - Acurácia: 1.0000\n",
      "Época 236/250 - Perda no treinamento: 0.000001 - Acurácia: 1.0000\n",
      "Época 237/250 - Perda no treinamento: 0.000001 - Acurácia: 1.0000\n",
      "Época 238/250 - Perda no treinamento: 0.000001 - Acurácia: 1.0000\n",
      "Época 239/250 - Perda no treinamento: 0.000000 - Acurácia: 1.0000\n",
      "Época 240/250 - Perda no treinamento: 0.000000 - Acurácia: 1.0000\n",
      "Época 241/250 - Perda no treinamento: 0.000000 - Acurácia: 1.0000\n",
      "Época 242/250 - Perda no treinamento: 0.000000 - Acurácia: 1.0000\n",
      "Época 243/250 - Perda no treinamento: 0.000000 - Acurácia: 1.0000\n",
      "Época 244/250 - Perda no treinamento: 0.000000 - Acurácia: 1.0000\n",
      "Época 245/250 - Perda no treinamento: 0.000000 - Acurácia: 1.0000\n",
      "Época 246/250 - Perda no treinamento: 0.000000 - Acurácia: 1.0000\n",
      "Época 247/250 - Perda no treinamento: 0.000000 - Acurácia: 1.0000\n",
      "Época 248/250 - Perda no treinamento: 0.000000 - Acurácia: 1.0000\n",
      "Época 249/250 - Perda no treinamento: 0.000000 - Acurácia: 1.0000\n",
      "Época 250/250 - Perda no treinamento: 0.000000 - Acurácia: 1.0000\n",
      "\n",
      "Tempo total de treinamento: 34377.86 segundos\n"
     ]
    }
   ],
   "source": [
    "train_losses = []\n",
    "train_acc = []\n",
    "\n",
    "training_start_time = time.time()\n",
    "\n",
    "for epoch in range(num_epoch):\n",
    "    model.train()\n",
    "    running_train_loss = 0.0\n",
    "\n",
    "    for inputs, labels in train_loader:\n",
    "        inputs = inputs.view(-1, 164*164*3).to(device)\n",
    "        labels = labels.to(device)\n",
    "    \n",
    "        optimizer.zero_grad()\n",
    "        outputs = model(inputs)\n",
    "\n",
    "        loss = loss_fn(outputs, labels)\n",
    "        loss.backward()\n",
    "        optimizer.step()\n",
    "        running_train_loss += loss.item()\n",
    "\n",
    "    train_loss = running_train_loss / len(train_loader)\n",
    "    train_losses.append(train_loss)\n",
    "\n",
    "    _, predicted = torch.max(outputs.data, 1)\n",
    "\n",
    "    acc = accuracy_score(labels.cpu().detach().numpy(), predicted.cpu().detach().numpy())\n",
    "    train_acc.append(acc)\n",
    "\n",
    "    print(f\"Época {epoch + 1}/{num_epoch} - Perda no treinamento: {train_loss:.6f} - Acurácia: {acc:.4f}\")\n",
    "\n",
    "training_time = time.time() - training_start_time\n",
    "print(f\"\\nTempo total de treinamento: {training_time:.2f} segundos\")"
   ]
  },
  {
   "cell_type": "code",
   "execution_count": 15,
   "id": "16293bb2-49a6-4d17-a047-8ede3f3fd57b",
   "metadata": {},
   "outputs": [
    {
     "data": {
      "text/plain": [
       "Text(0.5, 0.98, 'Treinamento')"
      ]
     },
     "execution_count": 15,
     "metadata": {},
     "output_type": "execute_result"
    },
    {
     "data": {
      "image/png": "[encoded data removed]",
      "text/plain": [
       "<Figure size 1200x500 with 2 Axes>"
      ]
     },
     "metadata": {},
     "output_type": "display_data"
    }
   ],
   "source": [
    "epochs = range(1, num_epoch + 1)\n",
    "\n",
    "plt.figure(figsize=(12, 5))\n",
    "\n",
    "plt.subplot(1, 2, 1)\n",
    "plt.plot(epochs, train_losses, 'bo-')\n",
    "plt.xlabel('Épocas')\n",
    "plt.ylabel('Perda')\n",
    "\n",
    "plt.subplot(1, 2, 2)\n",
    "plt.plot(epochs, train_acc, 'ro-')\n",
    "plt.xlabel('Épocas')\n",
    "plt.ylabel('Acurácia')\n",
    "\n",
    "plt.suptitle(\"Treinamento\", fontsize = 20)"
   ]
  },
  {
   "cell_type": "code",
   "execution_count": 16,
   "id": "b7ce3210-11e0-4c86-8283-ee14dc33a267",
   "metadata": {},
   "outputs": [
    {
     "name": "stdout",
     "output_type": "stream",
     "text": [
      "!!!Teste finalizado!!!\n"
     ]
    }
   ],
   "source": [
    "rot_array = []\n",
    "predt_array = []\n",
    "\n",
    "model.eval()\n",
    "    \n",
    "with torch.no_grad():\n",
    "        \n",
    "    for images, labels in test_loader:\n",
    "        images = images.view(-1, 164*164*3).to(device)\n",
    "        labels = labels.to(device)\n",
    "        \n",
    "        outputs = model(images)\n",
    "        _, predicted = torch.max(outputs.data, 1)\n",
    "\n",
    "        rot_array.extend(labels.cpu().detach().numpy())\n",
    "        predt_array.extend(predicted.cpu().detach().numpy())\n",
    "\n",
    "print(\"!!!Teste finalizado!!!\")"
   ]
  },
  {
   "cell_type": "markdown",
   "id": "ce2909be-e551-4bea-85bb-cede4046e8a6",
   "metadata": {},
   "source": [
    "# <center>Métricas de avaliação</center>"
   ]
  },
  {
   "cell_type": "code",
   "execution_count": 17,
   "id": "1c7a9ae9-0bbb-43b9-945d-03a4708df9f5",
   "metadata": {},
   "outputs": [
    {
     "data": {
      "image/png": "[encoded data removed]",
      "text/plain": [
       "<Figure size 640x480 with 2 Axes>"
      ]
     },
     "metadata": {},
     "output_type": "display_data"
    }
   ],
   "source": [
    "cm = confusion_matrix(rot_array, predt_array)\n",
    "\n",
    "disp = ConfusionMatrixDisplay(confusion_matrix=cm, display_labels=['Normal', 'Pneumonia', 'Tuberculose'])\n",
    "disp.plot(cmap=plt.cm.Blues)\n",
    "\n",
    "plt.xlabel('Rótulo previsto')\n",
    "plt.ylabel('Rótulo verdadeiro')\n",
    "plt.show()"
   ]
  },
  {
   "cell_type": "code",
   "execution_count": 18,
   "id": "e91e5a04-bf37-4c2d-b349-a4156cb9a107",
   "metadata": {},
   "outputs": [
    {
     "name": "stdout",
     "output_type": "stream",
     "text": [
      "Acurácia: 95.92%\n"
     ]
    }
   ],
   "source": [
    "acc = accuracy_score(rot_array, predt_array)\n",
    "print(f\"Acurácia: {acc * 100 :.2f}%\")"
   ]
  },
  {
   "cell_type": "code",
   "execution_count": 19,
   "id": "b3fd6060-4bdf-48b0-b592-bb957cd60486",
   "metadata": {},
   "outputs": [
    {
     "name": "stdout",
     "output_type": "stream",
     "text": [
      "Precisão: 95.93%\n"
     ]
    }
   ],
   "source": [
    "precision = precision_score(rot_array, predt_array, average='weighted')\n",
    "print(f\"Precisão: {precision * 100 :.2f}%\")"
   ]
  },
  {
   "cell_type": "code",
   "execution_count": 20,
   "id": "cfb7398e-e7a7-4e0e-97df-bed04108382f",
   "metadata": {},
   "outputs": [
    {
     "name": "stdout",
     "output_type": "stream",
     "text": [
      "Recall: 95.92%\n"
     ]
    }
   ],
   "source": [
    "recall = recall_score(rot_array, predt_array, average='weighted')\n",
    "print(f\"Recall: {recall * 100 :.2f}%\")"
   ]
  },
  {
   "cell_type": "code",
   "execution_count": 21,
   "id": "e9613979-a2e6-4769-b117-c9673a5f5ed1",
   "metadata": {},
   "outputs": [
    {
     "name": "stdout",
     "output_type": "stream",
     "text": [
      "F1 Score: 95.92%\n"
     ]
    }
   ],
   "source": [
    "f1 = f1_score(rot_array, predt_array, average='weighted')\n",
    "print(f\"F1 Score: {f1 * 100 :.2f}%\")"
   ]
  }
 ],
 "metadata": {
  "kernelspec": {
   "display_name": "Python 3 (ipykernel)",
   "language": "python",
   "name": "python3"
  },
  "language_info": {
   "codemirror_mode": {
    "name": "ipython",
    "version": 3
   },
   "file_extension": ".py",
   "mimetype": "text/x-python",
   "name": "python",
   "nbconvert_exporter": "python",
   "pygments_lexer": "ipython3",
   "version": "3.12.8"
  }
 },
 "nbformat": 4,
 "nbformat_minor": 5
}
