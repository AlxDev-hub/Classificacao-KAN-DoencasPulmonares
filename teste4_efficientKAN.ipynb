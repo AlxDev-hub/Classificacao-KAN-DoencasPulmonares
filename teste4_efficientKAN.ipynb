{
 "cells": [
  {
   "cell_type": "markdown",
   "id": "7ed9cbe7-a91f-4822-8689-11ddcb9720af",
   "metadata": {},
   "source": [
    "# <center>Bibliotecas utilizadas</center>"
   ]
  },
  {
   "cell_type": "code",
   "execution_count": 1,
   "id": "16400b9b-8a6d-4e5d-a8b1-0f466d13ed04",
   "metadata": {},
   "outputs": [],
   "source": [
    "from efficient_kan import KAN\n",
    "\n",
    "import time\n",
    "import numpy as np\n",
    "import matplotlib.pyplot as plt\n",
    "\n",
    "import torch\n",
    "import torch.nn as nn\n",
    "import torch.optim as optim\n",
    "from torchvision import datasets, transforms\n",
    "from torch.utils.data import DataLoader, random_split\n",
    "\n",
    "from sklearn.metrics import *"
   ]
  },
  {
   "cell_type": "markdown",
   "id": "7e2f0b78-9959-471b-87b9-9e0f192a75ef",
   "metadata": {},
   "source": [
    "# <center>Pré-processamento dos dados</center>"
   ]
  },
  {
   "cell_type": "code",
   "execution_count": 2,
   "id": "91a50223-30f8-4061-aa59-3431c46b8585",
   "metadata": {},
   "outputs": [],
   "source": [
    "dataset_path = 'Dataset_Completo'"
   ]
  },
  {
   "cell_type": "code",
   "execution_count": 3,
   "id": "e445c1ee-b6ec-45f7-a1d4-4700ea5e89c8",
   "metadata": {},
   "outputs": [],
   "source": [
    "transform = transforms.Compose(\n",
    "    [transforms.Resize(size = (164,164)),\n",
    "     transforms.RandomRotation(degrees=10),\n",
    "     transforms.RandomAffine(degrees=0, translate=(0.1, 0.1), scale=(0.9, 1.1), shear=10),\n",
    "     transforms.ColorJitter(brightness=0.2, contrast=0.2, saturation=0.1, hue=0.1),\n",
    "     transforms.ToTensor(),\n",
    "     transforms.Lambda(lambda x: torch.clamp(x + torch.randn_like(x) * 0.05, 0., 1.)),\n",
    "     transforms.Normalize(mean=[0.5], std=[0.5])\n",
    "    ]\n",
    ")"
   ]
  },
  {
   "cell_type": "code",
   "execution_count": 4,
   "id": "0b03f0cf-87a2-46f3-bd89-c89a0185b823",
   "metadata": {},
   "outputs": [],
   "source": [
    "dataset = datasets.ImageFolder(dataset_path, transform = transform)"
   ]
  },
  {
   "cell_type": "code",
   "execution_count": 5,
   "id": "b89f0a14",
   "metadata": {},
   "outputs": [
    {
     "name": "stdout",
     "output_type": "stream",
     "text": [
      "Informações sobre o Dataset: \n",
      "\n",
      " Dataset ImageFolder\n",
      "    Number of datapoints: 13411\n",
      "    Root location: Dataset_Completo\n",
      "    StandardTransform\n",
      "Transform: Compose(\n",
      "               Resize(size=(164, 164), interpolation=bilinear, max_size=None, antialias=True)\n",
      "               RandomRotation(degrees=[-10.0, 10.0], interpolation=nearest, expand=False, fill=0)\n",
      "               RandomAffine(degrees=[0.0, 0.0], translate=(0.1, 0.1), scale=(0.9, 1.1), shear=[-10.0, 10.0])\n",
      "               ColorJitter(brightness=(0.8, 1.2), contrast=(0.8, 1.2), saturation=(0.9, 1.1), hue=(-0.1, 0.1))\n",
      "               ToTensor()\n",
      "               Lambda()\n",
      "               Normalize(mean=[0.5], std=[0.5])\n",
      "           )\n",
      "\n",
      "Rótulos:  {'NORMAL': 0, 'PNEUMONIA': 1, 'TUBERCULOSE': 2}\n"
     ]
    }
   ],
   "source": [
    "print(\"Informações sobre o Dataset: \\n\\n\", dataset)\n",
    "print(\"\\nRótulos: \", dataset.class_to_idx)"
   ]
  },
  {
   "cell_type": "code",
   "execution_count": 6,
   "id": "d609d9ca",
   "metadata": {},
   "outputs": [],
   "source": [
    "train_size = int(0.7 * len(dataset))\n",
    "test_size = len(dataset) - train_size\n",
    "\n",
    "train_dataset, test_dataset = random_split(dataset, [train_size, test_size])"
   ]
  },
  {
   "cell_type": "code",
   "execution_count": 7,
   "id": "e869b1ee-e9da-443f-8dcc-64cf960f70b6",
   "metadata": {},
   "outputs": [],
   "source": [
    "train_loader = DataLoader(train_dataset, batch_size=32, shuffle=True)\n",
    "test_loader = DataLoader(test_dataset, batch_size=32, shuffle=False)"
   ]
  },
  {
   "cell_type": "code",
   "execution_count": 8,
   "id": "f1772696-604a-4514-94cf-91fc88d12b4b",
   "metadata": {},
   "outputs": [],
   "source": [
    "all_targets = []\n",
    "for images, labels in train_loader:\n",
    "    all_targets.extend(labels.tolist())\n",
    "\n",
    "nor = []\n",
    "pne = []\n",
    "tub = []\n",
    "for i in range(train_size):\n",
    "    if all_targets[i] == 0:\n",
    "        nor.append(all_targets[i])\n",
    "    elif all_targets[i] == 1:\n",
    "        pne.append(all_targets[i])\n",
    "    elif all_targets[i] == 2:\n",
    "        tub.append(all_targets[i])"
   ]
  },
  {
   "cell_type": "code",
   "execution_count": 9,
   "id": "fea1deb4-fa95-412c-a1d3-9ef4a21fd240",
   "metadata": {},
   "outputs": [
    {
     "name": "stdout",
     "output_type": "stream",
     "text": [
      "!!!Distribuição dos dados de treinamento!!!\n",
      "\n",
      "Normal:  3562\n",
      "Pneumonia:  2976\n",
      "Tuberculose:  2849\n"
     ]
    }
   ],
   "source": [
    "print(\"!!!Distribuição dos dados de treinamento!!!\\n\")\n",
    "print(\"Normal: \", len(nor))\n",
    "print(\"Pneumonia: \", len(pne))\n",
    "print(\"Tuberculose: \", len(tub))"
   ]
  },
  {
   "cell_type": "markdown",
   "id": "af6f8f0b-ab6d-456e-af12-d632b8f237d9",
   "metadata": {},
   "source": [
    "# <center>Implementação da arquitetura *efficientKAN*</center>"
   ]
  },
  {
   "cell_type": "code",
   "execution_count": 10,
   "id": "aadacba0-d234-4cf9-a5c2-e3c59051b13a",
   "metadata": {},
   "outputs": [
    {
     "data": {
      "text/plain": [
       "KAN(\n",
       "  (layers): ModuleList(\n",
       "    (0-3): 4 x KANLinear(\n",
       "      (base_activation): ReLU()\n",
       "    )\n",
       "  )\n",
       ")"
      ]
     },
     "execution_count": 10,
     "metadata": {},
     "output_type": "execute_result"
    }
   ],
   "source": [
    "model = KAN([164*164*3, 164, 64, 32, 3])\n",
    "\n",
    "device = torch.device(\"cuda\" if torch.cuda.is_available() else \"cpu\")\n",
    "model.to(device)"
   ]
  },
  {
   "cell_type": "code",
   "execution_count": 11,
   "id": "feb9436e-b0d2-47b8-a793-71458c8e8c37",
   "metadata": {},
   "outputs": [],
   "source": [
    "num_epoch = 250\n",
    "learning_rate = 0.001\n",
    "\n",
    "optimizer = optim.Adam(model.parameters(), lr=learning_rate)\n",
    "scheduler = optim.lr_scheduler.StepLR(optimizer, step_size=50, gamma=0.1)\n",
    "\n",
    "loss_fn = nn.CrossEntropyLoss()"
   ]
  },
  {
   "cell_type": "code",
   "execution_count": 12,
   "id": "342b8e74-6720-4df0-982c-5667a3d63c09",
   "metadata": {
    "scrolled": true
   },
   "outputs": [
    {
     "name": "stdout",
     "output_type": "stream",
     "text": [
      "Época 1/250 - Perda no treinamento: 0.594159 - Acurácia: 0.7273 - LR: 0.001\n",
      "Época 2/250 - Perda no treinamento: 0.424968 - Acurácia: 0.7273 - LR: 0.001\n",
      "Época 3/250 - Perda no treinamento: 0.372804 - Acurácia: 0.7273 - LR: 0.001\n",
      "Época 4/250 - Perda no treinamento: 0.363258 - Acurácia: 0.8182 - LR: 0.001\n",
      "Época 5/250 - Perda no treinamento: 0.329650 - Acurácia: 0.9091 - LR: 0.001\n",
      "Época 6/250 - Perda no treinamento: 0.322878 - Acurácia: 0.9091 - LR: 0.001\n",
      "Época 7/250 - Perda no treinamento: 0.314580 - Acurácia: 0.9091 - LR: 0.001\n",
      "Época 8/250 - Perda no treinamento: 0.302849 - Acurácia: 0.8182 - LR: 0.001\n",
      "Época 9/250 - Perda no treinamento: 0.289695 - Acurácia: 0.9091 - LR: 0.001\n",
      "Época 10/250 - Perda no treinamento: 0.283792 - Acurácia: 0.8182 - LR: 0.001\n",
      "Época 11/250 - Perda no treinamento: 0.279618 - Acurácia: 0.9091 - LR: 0.001\n",
      "Época 12/250 - Perda no treinamento: 0.264416 - Acurácia: 1.0000 - LR: 0.001\n",
      "Época 13/250 - Perda no treinamento: 0.267222 - Acurácia: 0.9091 - LR: 0.001\n",
      "Época 14/250 - Perda no treinamento: 0.246065 - Acurácia: 0.8182 - LR: 0.001\n",
      "Época 15/250 - Perda no treinamento: 0.250974 - Acurácia: 0.8182 - LR: 0.001\n",
      "Época 16/250 - Perda no treinamento: 0.248486 - Acurácia: 0.8182 - LR: 0.001\n",
      "Época 17/250 - Perda no treinamento: 0.239465 - Acurácia: 1.0000 - LR: 0.001\n",
      "Época 18/250 - Perda no treinamento: 0.239940 - Acurácia: 0.9091 - LR: 0.001\n",
      "Época 19/250 - Perda no treinamento: 0.242299 - Acurácia: 0.8182 - LR: 0.001\n",
      "Época 20/250 - Perda no treinamento: 0.241940 - Acurácia: 0.8182 - LR: 0.001\n",
      "Época 21/250 - Perda no treinamento: 0.226353 - Acurácia: 1.0000 - LR: 0.001\n",
      "Época 22/250 - Perda no treinamento: 0.231762 - Acurácia: 0.9091 - LR: 0.001\n",
      "Época 23/250 - Perda no treinamento: 0.232405 - Acurácia: 0.9091 - LR: 0.001\n",
      "Época 24/250 - Perda no treinamento: 0.228646 - Acurácia: 0.9091 - LR: 0.001\n",
      "Época 25/250 - Perda no treinamento: 0.223036 - Acurácia: 1.0000 - LR: 0.001\n",
      "Época 26/250 - Perda no treinamento: 0.216844 - Acurácia: 1.0000 - LR: 0.001\n",
      "Época 27/250 - Perda no treinamento: 0.215290 - Acurácia: 1.0000 - LR: 0.001\n",
      "Época 28/250 - Perda no treinamento: 0.213592 - Acurácia: 0.8182 - LR: 0.001\n",
      "Época 29/250 - Perda no treinamento: 0.214130 - Acurácia: 0.9091 - LR: 0.001\n",
      "Época 30/250 - Perda no treinamento: 0.211450 - Acurácia: 0.8182 - LR: 0.001\n",
      "Época 31/250 - Perda no treinamento: 0.217763 - Acurácia: 1.0000 - LR: 0.001\n",
      "Época 32/250 - Perda no treinamento: 0.209736 - Acurácia: 0.9091 - LR: 0.001\n",
      "Época 33/250 - Perda no treinamento: 0.206916 - Acurácia: 0.9091 - LR: 0.001\n",
      "Época 34/250 - Perda no treinamento: 0.213831 - Acurácia: 1.0000 - LR: 0.001\n",
      "Época 35/250 - Perda no treinamento: 0.204914 - Acurácia: 1.0000 - LR: 0.001\n",
      "Época 36/250 - Perda no treinamento: 0.200353 - Acurácia: 0.9091 - LR: 0.001\n",
      "Época 37/250 - Perda no treinamento: 0.197238 - Acurácia: 1.0000 - LR: 0.001\n",
      "Época 38/250 - Perda no treinamento: 0.198644 - Acurácia: 0.9091 - LR: 0.001\n",
      "Época 39/250 - Perda no treinamento: 0.200122 - Acurácia: 1.0000 - LR: 0.001\n",
      "Época 40/250 - Perda no treinamento: 0.201700 - Acurácia: 1.0000 - LR: 0.001\n",
      "Época 41/250 - Perda no treinamento: 0.192687 - Acurácia: 0.9091 - LR: 0.001\n",
      "Época 42/250 - Perda no treinamento: 0.200293 - Acurácia: 1.0000 - LR: 0.001\n",
      "Época 43/250 - Perda no treinamento: 0.193224 - Acurácia: 1.0000 - LR: 0.001\n",
      "Época 44/250 - Perda no treinamento: 0.199838 - Acurácia: 1.0000 - LR: 0.001\n",
      "Época 45/250 - Perda no treinamento: 0.192707 - Acurácia: 0.8182 - LR: 0.001\n",
      "Época 46/250 - Perda no treinamento: 0.193173 - Acurácia: 0.9091 - LR: 0.001\n",
      "Época 47/250 - Perda no treinamento: 0.196508 - Acurácia: 1.0000 - LR: 0.001\n",
      "Época 48/250 - Perda no treinamento: 0.193259 - Acurácia: 0.9091 - LR: 0.001\n",
      "Época 49/250 - Perda no treinamento: 0.195241 - Acurácia: 0.9091 - LR: 0.001\n",
      "Época 50/250 - Perda no treinamento: 0.193592 - Acurácia: 0.9091 - LR: 0.0001\n",
      "Época 51/250 - Perda no treinamento: 0.165137 - Acurácia: 1.0000 - LR: 0.0001\n",
      "Época 52/250 - Perda no treinamento: 0.161302 - Acurácia: 0.8182 - LR: 0.0001\n",
      "Época 53/250 - Perda no treinamento: 0.158124 - Acurácia: 0.9091 - LR: 0.0001\n",
      "Época 54/250 - Perda no treinamento: 0.161276 - Acurácia: 1.0000 - LR: 0.0001\n",
      "Época 55/250 - Perda no treinamento: 0.159457 - Acurácia: 1.0000 - LR: 0.0001\n",
      "Época 56/250 - Perda no treinamento: 0.154526 - Acurácia: 0.9091 - LR: 0.0001\n",
      "Época 57/250 - Perda no treinamento: 0.155230 - Acurácia: 0.7273 - LR: 0.0001\n",
      "Época 58/250 - Perda no treinamento: 0.155314 - Acurácia: 1.0000 - LR: 0.0001\n",
      "Época 59/250 - Perda no treinamento: 0.149259 - Acurácia: 0.9091 - LR: 0.0001\n",
      "Época 60/250 - Perda no treinamento: 0.146837 - Acurácia: 1.0000 - LR: 0.0001\n",
      "Época 61/250 - Perda no treinamento: 0.153299 - Acurácia: 0.8182 - LR: 0.0001\n",
      "Época 62/250 - Perda no treinamento: 0.148232 - Acurácia: 1.0000 - LR: 0.0001\n",
      "Época 63/250 - Perda no treinamento: 0.153373 - Acurácia: 0.9091 - LR: 0.0001\n",
      "Época 64/250 - Perda no treinamento: 0.147839 - Acurácia: 1.0000 - LR: 0.0001\n",
      "Época 65/250 - Perda no treinamento: 0.153193 - Acurácia: 0.9091 - LR: 0.0001\n",
      "Época 66/250 - Perda no treinamento: 0.145862 - Acurácia: 1.0000 - LR: 0.0001\n",
      "Época 67/250 - Perda no treinamento: 0.146219 - Acurácia: 1.0000 - LR: 0.0001\n",
      "Época 68/250 - Perda no treinamento: 0.147682 - Acurácia: 0.9091 - LR: 0.0001\n",
      "Época 69/250 - Perda no treinamento: 0.143695 - Acurácia: 1.0000 - LR: 0.0001\n",
      "Época 70/250 - Perda no treinamento: 0.148678 - Acurácia: 1.0000 - LR: 0.0001\n",
      "Época 71/250 - Perda no treinamento: 0.151292 - Acurácia: 1.0000 - LR: 0.0001\n",
      "Época 72/250 - Perda no treinamento: 0.142770 - Acurácia: 1.0000 - LR: 0.0001\n",
      "Época 73/250 - Perda no treinamento: 0.148985 - Acurácia: 0.9091 - LR: 0.0001\n",
      "Época 74/250 - Perda no treinamento: 0.146952 - Acurácia: 1.0000 - LR: 0.0001\n",
      "Época 75/250 - Perda no treinamento: 0.146453 - Acurácia: 0.9091 - LR: 0.0001\n",
      "Época 76/250 - Perda no treinamento: 0.148170 - Acurácia: 0.9091 - LR: 0.0001\n",
      "Época 77/250 - Perda no treinamento: 0.144754 - Acurácia: 0.9091 - LR: 0.0001\n",
      "Época 78/250 - Perda no treinamento: 0.143571 - Acurácia: 0.9091 - LR: 0.0001\n",
      "Época 79/250 - Perda no treinamento: 0.143571 - Acurácia: 1.0000 - LR: 0.0001\n",
      "Época 80/250 - Perda no treinamento: 0.142053 - Acurácia: 1.0000 - LR: 0.0001\n",
      "Época 81/250 - Perda no treinamento: 0.141819 - Acurácia: 0.9091 - LR: 0.0001\n",
      "Época 82/250 - Perda no treinamento: 0.147711 - Acurácia: 1.0000 - LR: 0.0001\n",
      "Época 83/250 - Perda no treinamento: 0.143043 - Acurácia: 1.0000 - LR: 0.0001\n",
      "Época 84/250 - Perda no treinamento: 0.147718 - Acurácia: 0.9091 - LR: 0.0001\n",
      "Época 85/250 - Perda no treinamento: 0.141824 - Acurácia: 1.0000 - LR: 0.0001\n",
      "Época 86/250 - Perda no treinamento: 0.137813 - Acurácia: 1.0000 - LR: 0.0001\n",
      "Época 87/250 - Perda no treinamento: 0.142572 - Acurácia: 0.9091 - LR: 0.0001\n",
      "Época 88/250 - Perda no treinamento: 0.146409 - Acurácia: 1.0000 - LR: 0.0001\n",
      "Época 89/250 - Perda no treinamento: 0.142319 - Acurácia: 0.9091 - LR: 0.0001\n",
      "Época 90/250 - Perda no treinamento: 0.144887 - Acurácia: 1.0000 - LR: 0.0001\n",
      "Época 91/250 - Perda no treinamento: 0.138179 - Acurácia: 1.0000 - LR: 0.0001\n",
      "Época 92/250 - Perda no treinamento: 0.145512 - Acurácia: 0.9091 - LR: 0.0001\n",
      "Época 93/250 - Perda no treinamento: 0.142834 - Acurácia: 1.0000 - LR: 0.0001\n",
      "Época 94/250 - Perda no treinamento: 0.140799 - Acurácia: 0.6364 - LR: 0.0001\n",
      "Época 95/250 - Perda no treinamento: 0.141345 - Acurácia: 1.0000 - LR: 0.0001\n",
      "Época 96/250 - Perda no treinamento: 0.138569 - Acurácia: 0.9091 - LR: 0.0001\n",
      "Época 97/250 - Perda no treinamento: 0.139186 - Acurácia: 0.9091 - LR: 0.0001\n",
      "Época 98/250 - Perda no treinamento: 0.142797 - Acurácia: 1.0000 - LR: 0.0001\n",
      "Época 99/250 - Perda no treinamento: 0.138975 - Acurácia: 0.9091 - LR: 0.0001\n",
      "Época 100/250 - Perda no treinamento: 0.145225 - Acurácia: 1.0000 - LR: 1e-05\n",
      "Época 101/250 - Perda no treinamento: 0.135778 - Acurácia: 0.8182 - LR: 1e-05\n",
      "Época 102/250 - Perda no treinamento: 0.135050 - Acurácia: 0.8182 - LR: 1e-05\n",
      "Época 103/250 - Perda no treinamento: 0.137639 - Acurácia: 0.8182 - LR: 1e-05\n",
      "Época 104/250 - Perda no treinamento: 0.135701 - Acurácia: 0.9091 - LR: 1e-05\n",
      "Época 105/250 - Perda no treinamento: 0.136932 - Acurácia: 0.9091 - LR: 1e-05\n",
      "Época 106/250 - Perda no treinamento: 0.135467 - Acurácia: 1.0000 - LR: 1e-05\n",
      "Época 107/250 - Perda no treinamento: 0.136681 - Acurácia: 1.0000 - LR: 1e-05\n",
      "Época 108/250 - Perda no treinamento: 0.132506 - Acurácia: 0.9091 - LR: 1e-05\n",
      "Época 109/250 - Perda no treinamento: 0.137285 - Acurácia: 0.8182 - LR: 1e-05\n",
      "Época 110/250 - Perda no treinamento: 0.141389 - Acurácia: 1.0000 - LR: 1e-05\n",
      "Época 111/250 - Perda no treinamento: 0.138413 - Acurácia: 0.8182 - LR: 1e-05\n",
      "Época 112/250 - Perda no treinamento: 0.138426 - Acurácia: 1.0000 - LR: 1e-05\n",
      "Época 113/250 - Perda no treinamento: 0.138594 - Acurácia: 0.9091 - LR: 1e-05\n",
      "Época 114/250 - Perda no treinamento: 0.140195 - Acurácia: 0.9091 - LR: 1e-05\n",
      "Época 115/250 - Perda no treinamento: 0.134901 - Acurácia: 0.9091 - LR: 1e-05\n",
      "Época 116/250 - Perda no treinamento: 0.135821 - Acurácia: 1.0000 - LR: 1e-05\n",
      "Época 117/250 - Perda no treinamento: 0.137880 - Acurácia: 1.0000 - LR: 1e-05\n",
      "Época 118/250 - Perda no treinamento: 0.131265 - Acurácia: 1.0000 - LR: 1e-05\n",
      "Época 119/250 - Perda no treinamento: 0.137586 - Acurácia: 1.0000 - LR: 1e-05\n",
      "Época 120/250 - Perda no treinamento: 0.136803 - Acurácia: 1.0000 - LR: 1e-05\n",
      "Época 121/250 - Perda no treinamento: 0.131657 - Acurácia: 1.0000 - LR: 1e-05\n",
      "Época 122/250 - Perda no treinamento: 0.131802 - Acurácia: 1.0000 - LR: 1e-05\n",
      "Época 123/250 - Perda no treinamento: 0.134474 - Acurácia: 1.0000 - LR: 1e-05\n",
      "Época 124/250 - Perda no treinamento: 0.136299 - Acurácia: 0.9091 - LR: 1e-05\n",
      "Época 125/250 - Perda no treinamento: 0.132259 - Acurácia: 0.8182 - LR: 1e-05\n",
      "Época 126/250 - Perda no treinamento: 0.132726 - Acurácia: 0.9091 - LR: 1e-05\n",
      "Época 127/250 - Perda no treinamento: 0.129958 - Acurácia: 1.0000 - LR: 1e-05\n",
      "Época 128/250 - Perda no treinamento: 0.131105 - Acurácia: 0.8182 - LR: 1e-05\n",
      "Época 129/250 - Perda no treinamento: 0.135937 - Acurácia: 1.0000 - LR: 1e-05\n",
      "Época 130/250 - Perda no treinamento: 0.135575 - Acurácia: 1.0000 - LR: 1e-05\n",
      "Época 131/250 - Perda no treinamento: 0.137893 - Acurácia: 1.0000 - LR: 1e-05\n",
      "Época 132/250 - Perda no treinamento: 0.134963 - Acurácia: 1.0000 - LR: 1e-05\n",
      "Época 133/250 - Perda no treinamento: 0.138753 - Acurácia: 0.9091 - LR: 1e-05\n",
      "Época 134/250 - Perda no treinamento: 0.132007 - Acurácia: 0.9091 - LR: 1e-05\n",
      "Época 135/250 - Perda no treinamento: 0.131846 - Acurácia: 0.9091 - LR: 1e-05\n",
      "Época 136/250 - Perda no treinamento: 0.136336 - Acurácia: 1.0000 - LR: 1e-05\n",
      "Época 137/250 - Perda no treinamento: 0.138784 - Acurácia: 1.0000 - LR: 1e-05\n",
      "Época 138/250 - Perda no treinamento: 0.133017 - Acurácia: 0.9091 - LR: 1e-05\n",
      "Época 139/250 - Perda no treinamento: 0.135786 - Acurácia: 1.0000 - LR: 1e-05\n",
      "Época 140/250 - Perda no treinamento: 0.132904 - Acurácia: 0.8182 - LR: 1e-05\n",
      "Época 141/250 - Perda no treinamento: 0.135373 - Acurácia: 1.0000 - LR: 1e-05\n",
      "Época 142/250 - Perda no treinamento: 0.140879 - Acurácia: 1.0000 - LR: 1e-05\n",
      "Época 143/250 - Perda no treinamento: 0.133670 - Acurácia: 0.9091 - LR: 1e-05\n",
      "Época 144/250 - Perda no treinamento: 0.134464 - Acurácia: 1.0000 - LR: 1e-05\n",
      "Época 145/250 - Perda no treinamento: 0.136932 - Acurácia: 0.8182 - LR: 1e-05\n",
      "Época 146/250 - Perda no treinamento: 0.132051 - Acurácia: 1.0000 - LR: 1e-05\n",
      "Época 147/250 - Perda no treinamento: 0.143180 - Acurácia: 0.9091 - LR: 1e-05\n",
      "Época 148/250 - Perda no treinamento: 0.134610 - Acurácia: 0.9091 - LR: 1e-05\n",
      "Época 149/250 - Perda no treinamento: 0.131518 - Acurácia: 1.0000 - LR: 1e-05\n",
      "Época 150/250 - Perda no treinamento: 0.137463 - Acurácia: 1.0000 - LR: 1.0000000000000002e-06\n",
      "Época 151/250 - Perda no treinamento: 0.136479 - Acurácia: 1.0000 - LR: 1.0000000000000002e-06\n",
      "Época 152/250 - Perda no treinamento: 0.138812 - Acurácia: 1.0000 - LR: 1.0000000000000002e-06\n",
      "Época 153/250 - Perda no treinamento: 0.136205 - Acurácia: 1.0000 - LR: 1.0000000000000002e-06\n",
      "Época 154/250 - Perda no treinamento: 0.136120 - Acurácia: 1.0000 - LR: 1.0000000000000002e-06\n",
      "Época 155/250 - Perda no treinamento: 0.133194 - Acurácia: 1.0000 - LR: 1.0000000000000002e-06\n",
      "Época 156/250 - Perda no treinamento: 0.135273 - Acurácia: 1.0000 - LR: 1.0000000000000002e-06\n",
      "Época 157/250 - Perda no treinamento: 0.131250 - Acurácia: 0.9091 - LR: 1.0000000000000002e-06\n",
      "Época 158/250 - Perda no treinamento: 0.132547 - Acurácia: 1.0000 - LR: 1.0000000000000002e-06\n",
      "Época 159/250 - Perda no treinamento: 0.131941 - Acurácia: 1.0000 - LR: 1.0000000000000002e-06\n",
      "Época 160/250 - Perda no treinamento: 0.135867 - Acurácia: 0.9091 - LR: 1.0000000000000002e-06\n",
      "Época 161/250 - Perda no treinamento: 0.135615 - Acurácia: 1.0000 - LR: 1.0000000000000002e-06\n",
      "Época 162/250 - Perda no treinamento: 0.139967 - Acurácia: 1.0000 - LR: 1.0000000000000002e-06\n",
      "Época 163/250 - Perda no treinamento: 0.134575 - Acurácia: 0.9091 - LR: 1.0000000000000002e-06\n",
      "Época 164/250 - Perda no treinamento: 0.126929 - Acurácia: 0.9091 - LR: 1.0000000000000002e-06\n",
      "Época 165/250 - Perda no treinamento: 0.131507 - Acurácia: 1.0000 - LR: 1.0000000000000002e-06\n",
      "Época 166/250 - Perda no treinamento: 0.136067 - Acurácia: 1.0000 - LR: 1.0000000000000002e-06\n",
      "Época 167/250 - Perda no treinamento: 0.138673 - Acurácia: 0.8182 - LR: 1.0000000000000002e-06\n",
      "Época 168/250 - Perda no treinamento: 0.137924 - Acurácia: 0.9091 - LR: 1.0000000000000002e-06\n",
      "Época 169/250 - Perda no treinamento: 0.138003 - Acurácia: 1.0000 - LR: 1.0000000000000002e-06\n",
      "Época 170/250 - Perda no treinamento: 0.138260 - Acurácia: 1.0000 - LR: 1.0000000000000002e-06\n",
      "Época 171/250 - Perda no treinamento: 0.135477 - Acurácia: 0.7273 - LR: 1.0000000000000002e-06\n",
      "Época 172/250 - Perda no treinamento: 0.134433 - Acurácia: 0.8182 - LR: 1.0000000000000002e-06\n",
      "Época 173/250 - Perda no treinamento: 0.135241 - Acurácia: 1.0000 - LR: 1.0000000000000002e-06\n",
      "Época 174/250 - Perda no treinamento: 0.133591 - Acurácia: 1.0000 - LR: 1.0000000000000002e-06\n",
      "Época 175/250 - Perda no treinamento: 0.137255 - Acurácia: 1.0000 - LR: 1.0000000000000002e-06\n",
      "Época 176/250 - Perda no treinamento: 0.129912 - Acurácia: 1.0000 - LR: 1.0000000000000002e-06\n",
      "Época 177/250 - Perda no treinamento: 0.134390 - Acurácia: 0.9091 - LR: 1.0000000000000002e-06\n",
      "Época 178/250 - Perda no treinamento: 0.128620 - Acurácia: 1.0000 - LR: 1.0000000000000002e-06\n",
      "Época 179/250 - Perda no treinamento: 0.139879 - Acurácia: 0.8182 - LR: 1.0000000000000002e-06\n",
      "Época 180/250 - Perda no treinamento: 0.131089 - Acurácia: 0.9091 - LR: 1.0000000000000002e-06\n",
      "Época 181/250 - Perda no treinamento: 0.133771 - Acurácia: 0.8182 - LR: 1.0000000000000002e-06\n",
      "Época 182/250 - Perda no treinamento: 0.135380 - Acurácia: 0.8182 - LR: 1.0000000000000002e-06\n",
      "Época 183/250 - Perda no treinamento: 0.130722 - Acurácia: 0.9091 - LR: 1.0000000000000002e-06\n",
      "Época 184/250 - Perda no treinamento: 0.131652 - Acurácia: 0.9091 - LR: 1.0000000000000002e-06\n",
      "Época 185/250 - Perda no treinamento: 0.127631 - Acurácia: 0.9091 - LR: 1.0000000000000002e-06\n",
      "Época 186/250 - Perda no treinamento: 0.136736 - Acurácia: 1.0000 - LR: 1.0000000000000002e-06\n",
      "Época 187/250 - Perda no treinamento: 0.132058 - Acurácia: 1.0000 - LR: 1.0000000000000002e-06\n",
      "Época 188/250 - Perda no treinamento: 0.135390 - Acurácia: 0.9091 - LR: 1.0000000000000002e-06\n",
      "Época 189/250 - Perda no treinamento: 0.132180 - Acurácia: 1.0000 - LR: 1.0000000000000002e-06\n",
      "Época 190/250 - Perda no treinamento: 0.134055 - Acurácia: 0.9091 - LR: 1.0000000000000002e-06\n",
      "Época 191/250 - Perda no treinamento: 0.137645 - Acurácia: 0.9091 - LR: 1.0000000000000002e-06\n",
      "Época 192/250 - Perda no treinamento: 0.136489 - Acurácia: 1.0000 - LR: 1.0000000000000002e-06\n",
      "Época 193/250 - Perda no treinamento: 0.131328 - Acurácia: 1.0000 - LR: 1.0000000000000002e-06\n",
      "Época 194/250 - Perda no treinamento: 0.134701 - Acurácia: 1.0000 - LR: 1.0000000000000002e-06\n",
      "Época 195/250 - Perda no treinamento: 0.133707 - Acurácia: 0.9091 - LR: 1.0000000000000002e-06\n",
      "Época 196/250 - Perda no treinamento: 0.133445 - Acurácia: 0.9091 - LR: 1.0000000000000002e-06\n",
      "Época 197/250 - Perda no treinamento: 0.135841 - Acurácia: 0.8182 - LR: 1.0000000000000002e-06\n",
      "Época 198/250 - Perda no treinamento: 0.135137 - Acurácia: 0.9091 - LR: 1.0000000000000002e-06\n",
      "Época 199/250 - Perda no treinamento: 0.137703 - Acurácia: 0.9091 - LR: 1.0000000000000002e-06\n",
      "Época 200/250 - Perda no treinamento: 0.128472 - Acurácia: 1.0000 - LR: 1.0000000000000002e-07\n",
      "Época 201/250 - Perda no treinamento: 0.135705 - Acurácia: 1.0000 - LR: 1.0000000000000002e-07\n",
      "Época 202/250 - Perda no treinamento: 0.138672 - Acurácia: 0.7273 - LR: 1.0000000000000002e-07\n",
      "Época 203/250 - Perda no treinamento: 0.136374 - Acurácia: 0.9091 - LR: 1.0000000000000002e-07\n",
      "Época 204/250 - Perda no treinamento: 0.140576 - Acurácia: 0.6364 - LR: 1.0000000000000002e-07\n",
      "Época 205/250 - Perda no treinamento: 0.135851 - Acurácia: 1.0000 - LR: 1.0000000000000002e-07\n",
      "Época 206/250 - Perda no treinamento: 0.133305 - Acurácia: 0.9091 - LR: 1.0000000000000002e-07\n",
      "Época 207/250 - Perda no treinamento: 0.130080 - Acurácia: 1.0000 - LR: 1.0000000000000002e-07\n",
      "Época 208/250 - Perda no treinamento: 0.134300 - Acurácia: 0.7273 - LR: 1.0000000000000002e-07\n",
      "Época 209/250 - Perda no treinamento: 0.132438 - Acurácia: 1.0000 - LR: 1.0000000000000002e-07\n",
      "Época 210/250 - Perda no treinamento: 0.135636 - Acurácia: 1.0000 - LR: 1.0000000000000002e-07\n",
      "Época 211/250 - Perda no treinamento: 0.134351 - Acurácia: 0.9091 - LR: 1.0000000000000002e-07\n",
      "Época 212/250 - Perda no treinamento: 0.134962 - Acurácia: 1.0000 - LR: 1.0000000000000002e-07\n",
      "Época 213/250 - Perda no treinamento: 0.135843 - Acurácia: 1.0000 - LR: 1.0000000000000002e-07\n",
      "Época 214/250 - Perda no treinamento: 0.133770 - Acurácia: 1.0000 - LR: 1.0000000000000002e-07\n",
      "Época 215/250 - Perda no treinamento: 0.135463 - Acurácia: 0.9091 - LR: 1.0000000000000002e-07\n",
      "Época 216/250 - Perda no treinamento: 0.134240 - Acurácia: 1.0000 - LR: 1.0000000000000002e-07\n",
      "Época 217/250 - Perda no treinamento: 0.137012 - Acurácia: 1.0000 - LR: 1.0000000000000002e-07\n",
      "Época 218/250 - Perda no treinamento: 0.134952 - Acurácia: 1.0000 - LR: 1.0000000000000002e-07\n",
      "Época 219/250 - Perda no treinamento: 0.136979 - Acurácia: 1.0000 - LR: 1.0000000000000002e-07\n",
      "Época 220/250 - Perda no treinamento: 0.135377 - Acurácia: 1.0000 - LR: 1.0000000000000002e-07\n",
      "Época 221/250 - Perda no treinamento: 0.131734 - Acurácia: 1.0000 - LR: 1.0000000000000002e-07\n",
      "Época 222/250 - Perda no treinamento: 0.137357 - Acurácia: 1.0000 - LR: 1.0000000000000002e-07\n",
      "Época 223/250 - Perda no treinamento: 0.134964 - Acurácia: 1.0000 - LR: 1.0000000000000002e-07\n",
      "Época 224/250 - Perda no treinamento: 0.131900 - Acurácia: 1.0000 - LR: 1.0000000000000002e-07\n",
      "Época 225/250 - Perda no treinamento: 0.139510 - Acurácia: 0.9091 - LR: 1.0000000000000002e-07\n",
      "Época 226/250 - Perda no treinamento: 0.134527 - Acurácia: 1.0000 - LR: 1.0000000000000002e-07\n",
      "Época 227/250 - Perda no treinamento: 0.136094 - Acurácia: 1.0000 - LR: 1.0000000000000002e-07\n",
      "Época 228/250 - Perda no treinamento: 0.133636 - Acurácia: 1.0000 - LR: 1.0000000000000002e-07\n",
      "Época 229/250 - Perda no treinamento: 0.133708 - Acurácia: 1.0000 - LR: 1.0000000000000002e-07\n",
      "Época 230/250 - Perda no treinamento: 0.134448 - Acurácia: 1.0000 - LR: 1.0000000000000002e-07\n",
      "Época 231/250 - Perda no treinamento: 0.140895 - Acurácia: 0.9091 - LR: 1.0000000000000002e-07\n",
      "Época 232/250 - Perda no treinamento: 0.133054 - Acurácia: 1.0000 - LR: 1.0000000000000002e-07\n",
      "Época 233/250 - Perda no treinamento: 0.131972 - Acurácia: 1.0000 - LR: 1.0000000000000002e-07\n",
      "Época 234/250 - Perda no treinamento: 0.136487 - Acurácia: 0.9091 - LR: 1.0000000000000002e-07\n",
      "Época 235/250 - Perda no treinamento: 0.138010 - Acurácia: 1.0000 - LR: 1.0000000000000002e-07\n",
      "Época 236/250 - Perda no treinamento: 0.132362 - Acurácia: 0.9091 - LR: 1.0000000000000002e-07\n",
      "Época 237/250 - Perda no treinamento: 0.135832 - Acurácia: 0.9091 - LR: 1.0000000000000002e-07\n",
      "Época 238/250 - Perda no treinamento: 0.139013 - Acurácia: 0.8182 - LR: 1.0000000000000002e-07\n",
      "Época 239/250 - Perda no treinamento: 0.137748 - Acurácia: 1.0000 - LR: 1.0000000000000002e-07\n",
      "Época 240/250 - Perda no treinamento: 0.130654 - Acurácia: 1.0000 - LR: 1.0000000000000002e-07\n",
      "Época 241/250 - Perda no treinamento: 0.134041 - Acurácia: 0.9091 - LR: 1.0000000000000002e-07\n",
      "Época 242/250 - Perda no treinamento: 0.135140 - Acurácia: 1.0000 - LR: 1.0000000000000002e-07\n",
      "Época 243/250 - Perda no treinamento: 0.136318 - Acurácia: 0.9091 - LR: 1.0000000000000002e-07\n",
      "Época 244/250 - Perda no treinamento: 0.131009 - Acurácia: 0.9091 - LR: 1.0000000000000002e-07\n",
      "Época 245/250 - Perda no treinamento: 0.136915 - Acurácia: 0.8182 - LR: 1.0000000000000002e-07\n",
      "Época 246/250 - Perda no treinamento: 0.133072 - Acurácia: 1.0000 - LR: 1.0000000000000002e-07\n",
      "Época 247/250 - Perda no treinamento: 0.131344 - Acurácia: 0.9091 - LR: 1.0000000000000002e-07\n",
      "Época 248/250 - Perda no treinamento: 0.129730 - Acurácia: 1.0000 - LR: 1.0000000000000002e-07\n",
      "Época 249/250 - Perda no treinamento: 0.134674 - Acurácia: 0.9091 - LR: 1.0000000000000002e-07\n",
      "Época 250/250 - Perda no treinamento: 0.133404 - Acurácia: 0.9091 - LR: 1.0000000000000004e-08\n",
      "\n",
      "Tempo total de treinamento: 45943.61 segundos\n"
     ]
    }
   ],
   "source": [
    "train_losses = []\n",
    "train_acc = []\n",
    "\n",
    "training_start_time = time.time()\n",
    "\n",
    "for epoch in range(num_epoch):\n",
    "    model.train()\n",
    "    running_train_loss = 0.0\n",
    "\n",
    "    for inputs, labels in train_loader:\n",
    "        inputs = inputs.view(-1, 164*164*3).to(device)\n",
    "        labels = labels.to(device)\n",
    "    \n",
    "        optimizer.zero_grad()\n",
    "        outputs = model(inputs)\n",
    "\n",
    "        loss = loss_fn(outputs, labels)\n",
    "        loss.backward()\n",
    "        optimizer.step()\n",
    "        running_train_loss += loss.item()\n",
    "\n",
    "    scheduler.step()\n",
    "\n",
    "    train_loss = running_train_loss / len(train_loader)\n",
    "    train_losses.append(train_loss)\n",
    "\n",
    "    _, predicted = torch.max(outputs.data, 1)\n",
    "\n",
    "    acc = accuracy_score(labels.cpu().detach().numpy(), predicted.cpu().detach().numpy())\n",
    "    train_acc.append(acc)\n",
    "\n",
    "    print(f\"Época {epoch + 1}/{num_epoch} - Perda no treinamento: {train_loss:.6f} - Acurácia: {acc:.4f} - LR: {scheduler.get_last_lr()[0]}\")\n",
    "\n",
    "training_time = time.time() - training_start_time\n",
    "print(f\"\\nTempo total de treinamento: {training_time:.2f} segundos\")"
   ]
  },
  {
   "cell_type": "code",
   "execution_count": 13,
   "id": "16293bb2-49a6-4d17-a047-8ede3f3fd57b",
   "metadata": {},
   "outputs": [
    {
     "data": {
      "text/plain": [
       "Text(0.5, 0.98, 'Treinamento')"
      ]
     },
     "execution_count": 13,
     "metadata": {},
     "output_type": "execute_result"
    },
    {
     "data": {
      "image/png": "[encoded data removed]",
      "text/plain": [
       "<Figure size 1200x500 with 2 Axes>"
      ]
     },
     "metadata": {},
     "output_type": "display_data"
    }
   ],
   "source": [
    "epochs = range(1, num_epoch + 1)\n",
    "\n",
    "plt.figure(figsize=(12, 5))\n",
    "\n",
    "plt.subplot(1, 2, 1)\n",
    "plt.plot(epochs, train_losses, 'bo-')\n",
    "plt.xlabel('Épocas')\n",
    "plt.ylabel('Perda')\n",
    "\n",
    "plt.subplot(1, 2, 2)\n",
    "plt.plot(epochs, train_acc, 'ro-')\n",
    "plt.xlabel('Épocas')\n",
    "plt.ylabel('Acurácia')\n",
    "\n",
    "plt.suptitle(\"Treinamento\", fontsize = 20)"
   ]
  },
  {
   "cell_type": "code",
   "execution_count": 14,
   "id": "b7ce3210-11e0-4c86-8283-ee14dc33a267",
   "metadata": {},
   "outputs": [
    {
     "name": "stdout",
     "output_type": "stream",
     "text": [
      "!!!Teste finalizado!!!\n"
     ]
    }
   ],
   "source": [
    "rot_array = []\n",
    "predt_array = []\n",
    "\n",
    "model.eval()\n",
    "    \n",
    "with torch.no_grad():\n",
    "        \n",
    "    for images, labels in test_loader:\n",
    "        images = images.view(-1, 164*164*3).to(device)\n",
    "        labels = labels.to(device)\n",
    "        \n",
    "        outputs = model(images)\n",
    "        _, predicted = torch.max(outputs.data, 1)\n",
    "\n",
    "        rot_array.extend(labels.cpu().detach().numpy())\n",
    "        predt_array.extend(predicted.cpu().detach().numpy())\n",
    "\n",
    "print(\"!!!Teste finalizado!!!\")"
   ]
  },
  {
   "cell_type": "markdown",
   "id": "ce2909be-e551-4bea-85bb-cede4046e8a6",
   "metadata": {},
   "source": [
    "# <center>Métricas de avaliação</center>"
   ]
  },
  {
   "cell_type": "code",
   "execution_count": 15,
   "id": "1c7a9ae9-0bbb-43b9-945d-03a4708df9f5",
   "metadata": {},
   "outputs": [
    {
     "data": {
      "image/png": "[encoded data removed]",
      "text/plain": [
       "<Figure size 640x480 with 2 Axes>"
      ]
     },
     "metadata": {},
     "output_type": "display_data"
    }
   ],
   "source": [
    "cm = confusion_matrix(rot_array, predt_array)\n",
    "\n",
    "disp = ConfusionMatrixDisplay(confusion_matrix=cm, display_labels=['Normal', 'Pneumonia', 'Tuberculose'])\n",
    "disp.plot(cmap=plt.cm.Blues)\n",
    "\n",
    "plt.xlabel('Rótulo previsto')\n",
    "plt.ylabel('Rótulo verdadeiro')\n",
    "plt.show()"
   ]
  },
  {
   "cell_type": "code",
   "execution_count": 16,
   "id": "e91e5a04-bf37-4c2d-b349-a4156cb9a107",
   "metadata": {},
   "outputs": [
    {
     "name": "stdout",
     "output_type": "stream",
     "text": [
      "Acurácia: 93.66%\n"
     ]
    }
   ],
   "source": [
    "acc = accuracy_score(rot_array, predt_array)\n",
    "print(f\"Acurácia: {acc * 100 :.2f}%\")"
   ]
  },
  {
   "cell_type": "code",
   "execution_count": 17,
   "id": "b3fd6060-4bdf-48b0-b592-bb957cd60486",
   "metadata": {},
   "outputs": [
    {
     "name": "stdout",
     "output_type": "stream",
     "text": [
      "Precisão: 93.70%\n"
     ]
    }
   ],
   "source": [
    "precision = precision_score(rot_array, predt_array, average='weighted')\n",
    "print(f\"Precisão: {precision * 100 :.2f}%\")"
   ]
  },
  {
   "cell_type": "code",
   "execution_count": 18,
   "id": "cfb7398e-e7a7-4e0e-97df-bed04108382f",
   "metadata": {},
   "outputs": [
    {
     "name": "stdout",
     "output_type": "stream",
     "text": [
      "Recall: 93.66%\n"
     ]
    }
   ],
   "source": [
    "recall = recall_score(rot_array, predt_array, average='weighted')\n",
    "print(f\"Recall: {recall * 100 :.2f}%\")"
   ]
  },
  {
   "cell_type": "code",
   "execution_count": 19,
   "id": "e9613979-a2e6-4769-b117-c9673a5f5ed1",
   "metadata": {},
   "outputs": [
    {
     "name": "stdout",
     "output_type": "stream",
     "text": [
      "F1 Score: 93.67%\n"
     ]
    }
   ],
   "source": [
    "f1 = f1_score(rot_array, predt_array, average='weighted')\n",
    "print(f\"F1 Score: {f1 * 100 :.2f}%\")"
   ]
  },
  {
   "cell_type": "code",
   "execution_count": null,
   "id": "953920cb-91d6-48a5-882d-b24863a707b8",
   "metadata": {},
   "outputs": [],
   "source": []
  }
 ],
 "metadata": {
  "kernelspec": {
   "display_name": "Python 3 (ipykernel)",
   "language": "python",
   "name": "python3"
  },
  "language_info": {
   "codemirror_mode": {
    "name": "ipython",
    "version": 3
   },
   "file_extension": ".py",
   "mimetype": "text/x-python",
   "name": "python",
   "nbconvert_exporter": "python",
   "pygments_lexer": "ipython3",
   "version": "3.12.8"
  }
 },
 "nbformat": 4,
 "nbformat_minor": 5
}
